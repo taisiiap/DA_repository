{
 "cells": [
  {
   "cell_type": "markdown",
   "id": "8ff3f79c",
   "metadata": {
    "toc": true
   },
   "source": [
    "<h1>Table of Contents<span class=\"tocSkip\"></span></h1>\n",
    "<div class=\"toc\"><ul class=\"toc-item\"><li><span><a href=\"#Цели-исследование\" data-toc-modified-id=\"Цели-исследование-1\"><span class=\"toc-item-num\">1&nbsp;&nbsp;</span>Цели исследование</a></span></li><li><span><a href=\"#Описание-данных\" data-toc-modified-id=\"Описание-данных-2\"><span class=\"toc-item-num\">2&nbsp;&nbsp;</span>Описание данных</a></span></li><li><span><a href=\"#Загрузка-данных\" data-toc-modified-id=\"Загрузка-данных-3\"><span class=\"toc-item-num\">3&nbsp;&nbsp;</span>Загрузка данных</a></span></li><li><span><a href=\"#Исследование-таблиц\" data-toc-modified-id=\"Исследование-таблиц-4\"><span class=\"toc-item-num\">4&nbsp;&nbsp;</span>Исследование таблиц</a></span><ul class=\"toc-item\"><li><span><a href=\"#Сколько-книг-вышло-после-1-января-2000-года\" data-toc-modified-id=\"Сколько-книг-вышло-после-1-января-2000-года-4.1\"><span class=\"toc-item-num\">4.1&nbsp;&nbsp;</span>Сколько книг вышло после 1 января 2000 года</a></span></li><li><span><a href=\"#Количество-обзоров-и-среднюю-оценку-для-каждой-книги\" data-toc-modified-id=\"Количество-обзоров-и-среднюю-оценку-для-каждой-книги-4.2\"><span class=\"toc-item-num\">4.2&nbsp;&nbsp;</span>Количество обзоров и среднюю оценку для каждой книги</a></span></li><li><span><a href=\"#Издательство,-которое-выпустило-наибольшее-число-книг-толще-50-страниц\" data-toc-modified-id=\"Издательство,-которое-выпустило-наибольшее-число-книг-толще-50-страниц-4.3\"><span class=\"toc-item-num\">4.3&nbsp;&nbsp;</span>Издательство, которое выпустило наибольшее число книг толще 50 страниц</a></span></li><li><span><a href=\"#Автор-с-самой-высокой-средней-оценкой-книг\" data-toc-modified-id=\"Автор-с-самой-высокой-средней-оценкой-книг-4.4\"><span class=\"toc-item-num\">4.4&nbsp;&nbsp;</span>Автор с самой высокой средней оценкой книг</a></span></li><li><span><a href=\"#Cреднее-количество-обзоров-от-пользователей,-которые-поставили-больше-50-оценок.\" data-toc-modified-id=\"Cреднее-количество-обзоров-от-пользователей,-которые-поставили-больше-50-оценок.-4.5\"><span class=\"toc-item-num\">4.5&nbsp;&nbsp;</span>Cреднее количество обзоров от пользователей, которые поставили больше 50 оценок.</a></span></li></ul></li><li><span><a href=\"#Общий-вывод\" data-toc-modified-id=\"Общий-вывод-5\"><span class=\"toc-item-num\">5&nbsp;&nbsp;</span>Общий вывод</a></span></li></ul></div>"
   ]
  },
  {
   "cell_type": "markdown",
   "id": "c44a24ce",
   "metadata": {},
   "source": [
    "# Анализ сервиса для чтения книг по подписке"
   ]
  },
  {
   "cell_type": "markdown",
   "id": "9031963e",
   "metadata": {},
   "source": [
    "## Цели исследование"
   ]
  },
  {
   "cell_type": "markdown",
   "id": "7f0a7c01",
   "metadata": {},
   "source": [
    "Проанализировать базу данных, в которой содержится инфрмация о большом количестве книг из сервиса для чтения книг по подписке."
   ]
  },
  {
   "cell_type": "markdown",
   "id": "fbef1c96",
   "metadata": {},
   "source": [
    "Наша задача - проанализировать базу данных, ответив на следующие вопросы:\n",
    " - сколько книг вышло после 1 января 2000 года;\n",
    " - количество обзоров и среднюю оценку для каждой книги;\n",
    " - среднее количество обзоров от пользователей, которые поставили больше 50 оценок;\n",
    " - определим издательство, которое выпустило наибольшее число книг;\n",
    " - определим автора с самой высокой средней оценкой книг"
   ]
  },
  {
   "cell_type": "markdown",
   "id": "ea57e59f",
   "metadata": {},
   "source": [
    "## Описание данных"
   ]
  },
  {
   "cell_type": "markdown",
   "id": "07597082",
   "metadata": {},
   "source": [
    "**Таблица `books`**\n",
    "\n",
    "Содержит данные о книгах:\n",
    "\n",
    "- `book_id` — идентификатор книги;\n",
    "- `author_id` — идентификатор автора;\n",
    "- `title` — название книги;\n",
    "- `num_pages` — количество страниц;\n",
    "- `publication_date` — дата публикации книги;\n",
    "- `publisher_id` — идентификатор издателя.\n",
    "\n",
    "**Таблица `authors`**\n",
    "\n",
    "Содержит данные об авторах:\n",
    "\n",
    "- `author_id` — идентификатор автора;\n",
    "- `author` — имя автора.\n",
    "\n",
    "**Таблица `publishers`**\n",
    "\n",
    "Содержит данные об издательствах:\n",
    "\n",
    "- `publisher_id` — идентификатор издательства;\n",
    "- `publisher` — название издательства;\n",
    "\n",
    "**Таблица `ratings`**\n",
    "\n",
    "Содержит данные о пользовательских оценках книг:\n",
    "\n",
    "- `rating_id` — идентификатор оценки;\n",
    "- `book_id` — идентификатор книги;\n",
    "- `username` — имя пользователя, оставившего оценку;\n",
    "- `rating` — оценка книги.\n",
    "\n",
    "**Таблица `reviews`**\n",
    "\n",
    "Содержит данные о пользовательских обзорах на книги:\n",
    "\n",
    "- `review_id` — идентификатор обзора;\n",
    "- `book_id` — идентификатор книги;\n",
    "- `username` — имя пользователя, написавшего обзор;\n",
    "- `text` — текст обзора."
   ]
  },
  {
   "cell_type": "markdown",
   "id": "ef5fd407",
   "metadata": {},
   "source": [
    "## Загрузка данных\n"
   ]
  },
  {
   "cell_type": "code",
   "execution_count": 1,
   "id": "0b40006c",
   "metadata": {},
   "outputs": [],
   "source": [
    "import pandas as pd\n",
    "from sqlalchemy import create_engine"
   ]
  },
  {
   "cell_type": "code",
   "execution_count": 2,
   "id": "7854ae12",
   "metadata": {},
   "outputs": [],
   "source": [
    "db_config = {'user': '***', # имя пользователя\n",
    "'pwd': '***', # пароль\n",
    "'host': '***',\n",
    "'port': ****, # порт подключения\n",
    "'db': '***'} # название базы данных\n",
    "connection_string = 'postgresql://{}:{}@{}:{}/{}'.format(db_config['user'],\n",
    " db_config['pwd'],\n",
    " db_config['host'],\n",
    " db_config['port'],\n",
    " db_config['db'])\n",
    "# сохраняем коннектор\n",
    "engine = create_engine(connection_string, connect_args={'sslmode':'require'}) "
   ]
  },
  {
   "cell_type": "markdown",
   "id": "8b363a5d",
   "metadata": {},
   "source": [
    "## Исследование таблиц"
   ]
  },
  {
   "cell_type": "code",
   "execution_count": 3,
   "id": "d0873659",
   "metadata": {},
   "outputs": [],
   "source": [
    "def select(sql):\n",
    "    return pd.io.sql.read_sql(sql, con = engine)"
   ]
  },
  {
   "cell_type": "code",
   "execution_count": 4,
   "id": "fbfe779a",
   "metadata": {},
   "outputs": [],
   "source": [
    "query_books = ''' SELECT * \n",
    "        FROM books t limit 5\n",
    "        '''"
   ]
  },
  {
   "cell_type": "code",
   "execution_count": 5,
   "id": "a09bd183",
   "metadata": {},
   "outputs": [
    {
     "data": {
      "text/html": [
       "<div>\n",
       "<style scoped>\n",
       "    .dataframe tbody tr th:only-of-type {\n",
       "        vertical-align: middle;\n",
       "    }\n",
       "\n",
       "    .dataframe tbody tr th {\n",
       "        vertical-align: top;\n",
       "    }\n",
       "\n",
       "    .dataframe thead th {\n",
       "        text-align: right;\n",
       "    }\n",
       "</style>\n",
       "<table border=\"1\" class=\"dataframe\">\n",
       "  <thead>\n",
       "    <tr style=\"text-align: right;\">\n",
       "      <th></th>\n",
       "      <th>book_id</th>\n",
       "      <th>author_id</th>\n",
       "      <th>title</th>\n",
       "      <th>num_pages</th>\n",
       "      <th>publication_date</th>\n",
       "      <th>publisher_id</th>\n",
       "    </tr>\n",
       "  </thead>\n",
       "  <tbody>\n",
       "    <tr>\n",
       "      <th>0</th>\n",
       "      <td>1</td>\n",
       "      <td>546</td>\n",
       "      <td>'Salem's Lot</td>\n",
       "      <td>594</td>\n",
       "      <td>2005-11-01</td>\n",
       "      <td>93</td>\n",
       "    </tr>\n",
       "    <tr>\n",
       "      <th>1</th>\n",
       "      <td>2</td>\n",
       "      <td>465</td>\n",
       "      <td>1 000 Places to See Before You Die</td>\n",
       "      <td>992</td>\n",
       "      <td>2003-05-22</td>\n",
       "      <td>336</td>\n",
       "    </tr>\n",
       "    <tr>\n",
       "      <th>2</th>\n",
       "      <td>3</td>\n",
       "      <td>407</td>\n",
       "      <td>13 Little Blue Envelopes (Little Blue Envelope...</td>\n",
       "      <td>322</td>\n",
       "      <td>2010-12-21</td>\n",
       "      <td>135</td>\n",
       "    </tr>\n",
       "    <tr>\n",
       "      <th>3</th>\n",
       "      <td>4</td>\n",
       "      <td>82</td>\n",
       "      <td>1491: New Revelations of the Americas Before C...</td>\n",
       "      <td>541</td>\n",
       "      <td>2006-10-10</td>\n",
       "      <td>309</td>\n",
       "    </tr>\n",
       "    <tr>\n",
       "      <th>4</th>\n",
       "      <td>5</td>\n",
       "      <td>125</td>\n",
       "      <td>1776</td>\n",
       "      <td>386</td>\n",
       "      <td>2006-07-04</td>\n",
       "      <td>268</td>\n",
       "    </tr>\n",
       "  </tbody>\n",
       "</table>\n",
       "</div>"
      ],
      "text/plain": [
       "   book_id  author_id                                              title  \\\n",
       "0        1        546                                       'Salem's Lot   \n",
       "1        2        465                 1 000 Places to See Before You Die   \n",
       "2        3        407  13 Little Blue Envelopes (Little Blue Envelope...   \n",
       "3        4         82  1491: New Revelations of the Americas Before C...   \n",
       "4        5        125                                               1776   \n",
       "\n",
       "   num_pages publication_date  publisher_id  \n",
       "0        594       2005-11-01            93  \n",
       "1        992       2003-05-22           336  \n",
       "2        322       2010-12-21           135  \n",
       "3        541       2006-10-10           309  \n",
       "4        386       2006-07-04           268  "
      ]
     },
     "execution_count": 5,
     "metadata": {},
     "output_type": "execute_result"
    }
   ],
   "source": [
    "select(query_books)"
   ]
  },
  {
   "cell_type": "code",
   "execution_count": 6,
   "id": "924bffd9",
   "metadata": {},
   "outputs": [],
   "source": [
    "query_publishers= ''' SELECT * \n",
    "        FROM publishers limit 5\n",
    "        '''"
   ]
  },
  {
   "cell_type": "code",
   "execution_count": 7,
   "id": "88782e90",
   "metadata": {},
   "outputs": [
    {
     "data": {
      "text/html": [
       "<div>\n",
       "<style scoped>\n",
       "    .dataframe tbody tr th:only-of-type {\n",
       "        vertical-align: middle;\n",
       "    }\n",
       "\n",
       "    .dataframe tbody tr th {\n",
       "        vertical-align: top;\n",
       "    }\n",
       "\n",
       "    .dataframe thead th {\n",
       "        text-align: right;\n",
       "    }\n",
       "</style>\n",
       "<table border=\"1\" class=\"dataframe\">\n",
       "  <thead>\n",
       "    <tr style=\"text-align: right;\">\n",
       "      <th></th>\n",
       "      <th>publisher_id</th>\n",
       "      <th>publisher</th>\n",
       "    </tr>\n",
       "  </thead>\n",
       "  <tbody>\n",
       "    <tr>\n",
       "      <th>0</th>\n",
       "      <td>1</td>\n",
       "      <td>Ace</td>\n",
       "    </tr>\n",
       "    <tr>\n",
       "      <th>1</th>\n",
       "      <td>2</td>\n",
       "      <td>Ace Book</td>\n",
       "    </tr>\n",
       "    <tr>\n",
       "      <th>2</th>\n",
       "      <td>3</td>\n",
       "      <td>Ace Books</td>\n",
       "    </tr>\n",
       "    <tr>\n",
       "      <th>3</th>\n",
       "      <td>4</td>\n",
       "      <td>Ace Hardcover</td>\n",
       "    </tr>\n",
       "    <tr>\n",
       "      <th>4</th>\n",
       "      <td>5</td>\n",
       "      <td>Addison Wesley Publishing Company</td>\n",
       "    </tr>\n",
       "  </tbody>\n",
       "</table>\n",
       "</div>"
      ],
      "text/plain": [
       "   publisher_id                          publisher\n",
       "0             1                                Ace\n",
       "1             2                           Ace Book\n",
       "2             3                          Ace Books\n",
       "3             4                      Ace Hardcover\n",
       "4             5  Addison Wesley Publishing Company"
      ]
     },
     "execution_count": 7,
     "metadata": {},
     "output_type": "execute_result"
    }
   ],
   "source": [
    "select(query_publishers)"
   ]
  },
  {
   "cell_type": "code",
   "execution_count": 8,
   "id": "0c53097a",
   "metadata": {},
   "outputs": [],
   "source": [
    "query_ratings = ''' SELECT * \n",
    "        FROM ratings limit 5\n",
    "        '''"
   ]
  },
  {
   "cell_type": "code",
   "execution_count": 9,
   "id": "9fccc3bf",
   "metadata": {},
   "outputs": [
    {
     "data": {
      "text/html": [
       "<div>\n",
       "<style scoped>\n",
       "    .dataframe tbody tr th:only-of-type {\n",
       "        vertical-align: middle;\n",
       "    }\n",
       "\n",
       "    .dataframe tbody tr th {\n",
       "        vertical-align: top;\n",
       "    }\n",
       "\n",
       "    .dataframe thead th {\n",
       "        text-align: right;\n",
       "    }\n",
       "</style>\n",
       "<table border=\"1\" class=\"dataframe\">\n",
       "  <thead>\n",
       "    <tr style=\"text-align: right;\">\n",
       "      <th></th>\n",
       "      <th>rating_id</th>\n",
       "      <th>book_id</th>\n",
       "      <th>username</th>\n",
       "      <th>rating</th>\n",
       "    </tr>\n",
       "  </thead>\n",
       "  <tbody>\n",
       "    <tr>\n",
       "      <th>0</th>\n",
       "      <td>1</td>\n",
       "      <td>1</td>\n",
       "      <td>ryanfranco</td>\n",
       "      <td>4</td>\n",
       "    </tr>\n",
       "    <tr>\n",
       "      <th>1</th>\n",
       "      <td>2</td>\n",
       "      <td>1</td>\n",
       "      <td>grantpatricia</td>\n",
       "      <td>2</td>\n",
       "    </tr>\n",
       "    <tr>\n",
       "      <th>2</th>\n",
       "      <td>3</td>\n",
       "      <td>1</td>\n",
       "      <td>brandtandrea</td>\n",
       "      <td>5</td>\n",
       "    </tr>\n",
       "    <tr>\n",
       "      <th>3</th>\n",
       "      <td>4</td>\n",
       "      <td>2</td>\n",
       "      <td>lorichen</td>\n",
       "      <td>3</td>\n",
       "    </tr>\n",
       "    <tr>\n",
       "      <th>4</th>\n",
       "      <td>5</td>\n",
       "      <td>2</td>\n",
       "      <td>mariokeller</td>\n",
       "      <td>2</td>\n",
       "    </tr>\n",
       "  </tbody>\n",
       "</table>\n",
       "</div>"
      ],
      "text/plain": [
       "   rating_id  book_id       username  rating\n",
       "0          1        1     ryanfranco       4\n",
       "1          2        1  grantpatricia       2\n",
       "2          3        1   brandtandrea       5\n",
       "3          4        2       lorichen       3\n",
       "4          5        2    mariokeller       2"
      ]
     },
     "execution_count": 9,
     "metadata": {},
     "output_type": "execute_result"
    }
   ],
   "source": [
    "select(query_ratings)"
   ]
  },
  {
   "cell_type": "code",
   "execution_count": 10,
   "id": "8e0be6b4",
   "metadata": {},
   "outputs": [],
   "source": [
    "query_reviews = ''' SELECT * \n",
    "        FROM reviews limit 5\n",
    "        '''"
   ]
  },
  {
   "cell_type": "code",
   "execution_count": 11,
   "id": "7b7436a2",
   "metadata": {
    "scrolled": true
   },
   "outputs": [
    {
     "data": {
      "text/html": [
       "<div>\n",
       "<style scoped>\n",
       "    .dataframe tbody tr th:only-of-type {\n",
       "        vertical-align: middle;\n",
       "    }\n",
       "\n",
       "    .dataframe tbody tr th {\n",
       "        vertical-align: top;\n",
       "    }\n",
       "\n",
       "    .dataframe thead th {\n",
       "        text-align: right;\n",
       "    }\n",
       "</style>\n",
       "<table border=\"1\" class=\"dataframe\">\n",
       "  <thead>\n",
       "    <tr style=\"text-align: right;\">\n",
       "      <th></th>\n",
       "      <th>review_id</th>\n",
       "      <th>book_id</th>\n",
       "      <th>username</th>\n",
       "      <th>text</th>\n",
       "    </tr>\n",
       "  </thead>\n",
       "  <tbody>\n",
       "    <tr>\n",
       "      <th>0</th>\n",
       "      <td>1</td>\n",
       "      <td>1</td>\n",
       "      <td>brandtandrea</td>\n",
       "      <td>Mention society tell send professor analysis. ...</td>\n",
       "    </tr>\n",
       "    <tr>\n",
       "      <th>1</th>\n",
       "      <td>2</td>\n",
       "      <td>1</td>\n",
       "      <td>ryanfranco</td>\n",
       "      <td>Foot glass pretty audience hit themselves. Amo...</td>\n",
       "    </tr>\n",
       "    <tr>\n",
       "      <th>2</th>\n",
       "      <td>3</td>\n",
       "      <td>2</td>\n",
       "      <td>lorichen</td>\n",
       "      <td>Listen treat keep worry. Miss husband tax but ...</td>\n",
       "    </tr>\n",
       "    <tr>\n",
       "      <th>3</th>\n",
       "      <td>4</td>\n",
       "      <td>3</td>\n",
       "      <td>johnsonamanda</td>\n",
       "      <td>Finally month interesting blue could nature cu...</td>\n",
       "    </tr>\n",
       "    <tr>\n",
       "      <th>4</th>\n",
       "      <td>5</td>\n",
       "      <td>3</td>\n",
       "      <td>scotttamara</td>\n",
       "      <td>Nation purpose heavy give wait song will. List...</td>\n",
       "    </tr>\n",
       "  </tbody>\n",
       "</table>\n",
       "</div>"
      ],
      "text/plain": [
       "   review_id  book_id       username  \\\n",
       "0          1        1   brandtandrea   \n",
       "1          2        1     ryanfranco   \n",
       "2          3        2       lorichen   \n",
       "3          4        3  johnsonamanda   \n",
       "4          5        3    scotttamara   \n",
       "\n",
       "                                                text  \n",
       "0  Mention society tell send professor analysis. ...  \n",
       "1  Foot glass pretty audience hit themselves. Amo...  \n",
       "2  Listen treat keep worry. Miss husband tax but ...  \n",
       "3  Finally month interesting blue could nature cu...  \n",
       "4  Nation purpose heavy give wait song will. List...  "
      ]
     },
     "execution_count": 11,
     "metadata": {},
     "output_type": "execute_result"
    }
   ],
   "source": [
    "select(query_reviews)"
   ]
  },
  {
   "cell_type": "markdown",
   "id": "80ee7849",
   "metadata": {},
   "source": [
    "### Сколько книг вышло после 1 января 2000 года"
   ]
  },
  {
   "cell_type": "code",
   "execution_count": 12,
   "id": "8997de07",
   "metadata": {},
   "outputs": [
    {
     "data": {
      "text/html": [
       "<div>\n",
       "<style scoped>\n",
       "    .dataframe tbody tr th:only-of-type {\n",
       "        vertical-align: middle;\n",
       "    }\n",
       "\n",
       "    .dataframe tbody tr th {\n",
       "        vertical-align: top;\n",
       "    }\n",
       "\n",
       "    .dataframe thead th {\n",
       "        text-align: right;\n",
       "    }\n",
       "</style>\n",
       "<table border=\"1\" class=\"dataframe\">\n",
       "  <thead>\n",
       "    <tr style=\"text-align: right;\">\n",
       "      <th></th>\n",
       "      <th>book_id</th>\n",
       "      <th>author_id</th>\n",
       "      <th>title</th>\n",
       "      <th>num_pages</th>\n",
       "      <th>publication_date</th>\n",
       "      <th>publisher_id</th>\n",
       "    </tr>\n",
       "  </thead>\n",
       "  <tbody>\n",
       "    <tr>\n",
       "      <th>0</th>\n",
       "      <td>1</td>\n",
       "      <td>546</td>\n",
       "      <td>'Salem's Lot</td>\n",
       "      <td>594</td>\n",
       "      <td>2005-11-01</td>\n",
       "      <td>93</td>\n",
       "    </tr>\n",
       "    <tr>\n",
       "      <th>1</th>\n",
       "      <td>2</td>\n",
       "      <td>465</td>\n",
       "      <td>1 000 Places to See Before You Die</td>\n",
       "      <td>992</td>\n",
       "      <td>2003-05-22</td>\n",
       "      <td>336</td>\n",
       "    </tr>\n",
       "    <tr>\n",
       "      <th>2</th>\n",
       "      <td>3</td>\n",
       "      <td>407</td>\n",
       "      <td>13 Little Blue Envelopes (Little Blue Envelope...</td>\n",
       "      <td>322</td>\n",
       "      <td>2010-12-21</td>\n",
       "      <td>135</td>\n",
       "    </tr>\n",
       "    <tr>\n",
       "      <th>3</th>\n",
       "      <td>4</td>\n",
       "      <td>82</td>\n",
       "      <td>1491: New Revelations of the Americas Before C...</td>\n",
       "      <td>541</td>\n",
       "      <td>2006-10-10</td>\n",
       "      <td>309</td>\n",
       "    </tr>\n",
       "    <tr>\n",
       "      <th>4</th>\n",
       "      <td>5</td>\n",
       "      <td>125</td>\n",
       "      <td>1776</td>\n",
       "      <td>386</td>\n",
       "      <td>2006-07-04</td>\n",
       "      <td>268</td>\n",
       "    </tr>\n",
       "  </tbody>\n",
       "</table>\n",
       "</div>"
      ],
      "text/plain": [
       "   book_id  author_id                                              title  \\\n",
       "0        1        546                                       'Salem's Lot   \n",
       "1        2        465                 1 000 Places to See Before You Die   \n",
       "2        3        407  13 Little Blue Envelopes (Little Blue Envelope...   \n",
       "3        4         82  1491: New Revelations of the Americas Before C...   \n",
       "4        5        125                                               1776   \n",
       "\n",
       "   num_pages publication_date  publisher_id  \n",
       "0        594       2005-11-01            93  \n",
       "1        992       2003-05-22           336  \n",
       "2        322       2010-12-21           135  \n",
       "3        541       2006-10-10           309  \n",
       "4        386       2006-07-04           268  "
      ]
     },
     "execution_count": 12,
     "metadata": {},
     "output_type": "execute_result"
    }
   ],
   "source": [
    "select(query_books)"
   ]
  },
  {
   "cell_type": "code",
   "execution_count": 13,
   "id": "732a1f8f",
   "metadata": {},
   "outputs": [],
   "source": [
    "query_books = '''\n",
    "SELECT Count(*) AS number_of_books\n",
    "FROM   books t\n",
    "WHERE  t.publication_date > '2000-01-01'\n",
    "'''"
   ]
  },
  {
   "cell_type": "code",
   "execution_count": 14,
   "id": "a41e7355",
   "metadata": {
    "scrolled": true
   },
   "outputs": [
    {
     "data": {
      "text/html": [
       "<div>\n",
       "<style scoped>\n",
       "    .dataframe tbody tr th:only-of-type {\n",
       "        vertical-align: middle;\n",
       "    }\n",
       "\n",
       "    .dataframe tbody tr th {\n",
       "        vertical-align: top;\n",
       "    }\n",
       "\n",
       "    .dataframe thead th {\n",
       "        text-align: right;\n",
       "    }\n",
       "</style>\n",
       "<table border=\"1\" class=\"dataframe\">\n",
       "  <thead>\n",
       "    <tr style=\"text-align: right;\">\n",
       "      <th></th>\n",
       "      <th>number_of_books</th>\n",
       "    </tr>\n",
       "  </thead>\n",
       "  <tbody>\n",
       "    <tr>\n",
       "      <th>0</th>\n",
       "      <td>819</td>\n",
       "    </tr>\n",
       "  </tbody>\n",
       "</table>\n",
       "</div>"
      ],
      "text/plain": [
       "   number_of_books\n",
       "0              819"
      ]
     },
     "execution_count": 14,
     "metadata": {},
     "output_type": "execute_result"
    }
   ],
   "source": [
    "select(query_books)"
   ]
  },
  {
   "cell_type": "markdown",
   "id": "df47aa7e",
   "metadata": {},
   "source": [
    "**Вывод**\n",
    "\n",
    "После 1 января 2000 года было выпущено 819 книг, то есть большая часть книг нашей базы данных"
   ]
  },
  {
   "cell_type": "markdown",
   "id": "bea447ca",
   "metadata": {},
   "source": [
    "### Количество обзоров и среднюю оценку для каждой книги"
   ]
  },
  {
   "cell_type": "code",
   "execution_count": 15,
   "id": "c9840e8d",
   "metadata": {},
   "outputs": [],
   "source": [
    "rat_rev = ''' \n",
    "WITH rev\n",
    "     AS (SELECT r.book_id,\n",
    "                Count(r.text) AS review_cnt\n",
    "         FROM   reviews r\n",
    "         GROUP  BY r.book_id\n",
    "         ORDER  BY review_cnt DESC),\n",
    "     rat\n",
    "     AS (SELECT ra.book_id,\n",
    "                Count(ra.rating) AS rate_cnt,\n",
    "                Avg(ra.rating)   AS rate_avg\n",
    "         FROM   ratings ra\n",
    "         GROUP  BY ra.book_id)\n",
    "SELECT rev.book_id,\n",
    "       b.title,\n",
    "       review_cnt,\n",
    "       rate_cnt,\n",
    "       rate_avg\n",
    "FROM   rat\n",
    "       LEFT OUTER JOIN rev\n",
    "                    ON rat.book_id = rev.book_id\n",
    "       LEFT JOIN books b\n",
    "              ON rat.book_id = b.book_id\n",
    "ORDER  BY rate_cnt DESC \n",
    "                    \n",
    "'''"
   ]
  },
  {
   "cell_type": "code",
   "execution_count": 16,
   "id": "ca2563e1",
   "metadata": {
    "scrolled": false
   },
   "outputs": [
    {
     "data": {
      "text/html": [
       "<div>\n",
       "<style scoped>\n",
       "    .dataframe tbody tr th:only-of-type {\n",
       "        vertical-align: middle;\n",
       "    }\n",
       "\n",
       "    .dataframe tbody tr th {\n",
       "        vertical-align: top;\n",
       "    }\n",
       "\n",
       "    .dataframe thead th {\n",
       "        text-align: right;\n",
       "    }\n",
       "</style>\n",
       "<table border=\"1\" class=\"dataframe\">\n",
       "  <thead>\n",
       "    <tr style=\"text-align: right;\">\n",
       "      <th></th>\n",
       "      <th>book_id</th>\n",
       "      <th>title</th>\n",
       "      <th>review_cnt</th>\n",
       "      <th>rate_cnt</th>\n",
       "      <th>rate_avg</th>\n",
       "    </tr>\n",
       "  </thead>\n",
       "  <tbody>\n",
       "    <tr>\n",
       "      <th>0</th>\n",
       "      <td>948.0</td>\n",
       "      <td>Twilight (Twilight  #1)</td>\n",
       "      <td>7.0</td>\n",
       "      <td>160</td>\n",
       "      <td>3.662500</td>\n",
       "    </tr>\n",
       "    <tr>\n",
       "      <th>1</th>\n",
       "      <td>750.0</td>\n",
       "      <td>The Hobbit  or There and Back Again</td>\n",
       "      <td>6.0</td>\n",
       "      <td>88</td>\n",
       "      <td>4.125000</td>\n",
       "    </tr>\n",
       "    <tr>\n",
       "      <th>2</th>\n",
       "      <td>673.0</td>\n",
       "      <td>The Catcher in the Rye</td>\n",
       "      <td>6.0</td>\n",
       "      <td>86</td>\n",
       "      <td>3.825581</td>\n",
       "    </tr>\n",
       "    <tr>\n",
       "      <th>3</th>\n",
       "      <td>75.0</td>\n",
       "      <td>Angels &amp; Demons (Robert Langdon  #1)</td>\n",
       "      <td>5.0</td>\n",
       "      <td>84</td>\n",
       "      <td>3.678571</td>\n",
       "    </tr>\n",
       "    <tr>\n",
       "      <th>4</th>\n",
       "      <td>302.0</td>\n",
       "      <td>Harry Potter and the Prisoner of Azkaban (Harr...</td>\n",
       "      <td>6.0</td>\n",
       "      <td>82</td>\n",
       "      <td>4.414634</td>\n",
       "    </tr>\n",
       "    <tr>\n",
       "      <th>...</th>\n",
       "      <td>...</td>\n",
       "      <td>...</td>\n",
       "      <td>...</td>\n",
       "      <td>...</td>\n",
       "      <td>...</td>\n",
       "    </tr>\n",
       "    <tr>\n",
       "      <th>995</th>\n",
       "      <td>175.0</td>\n",
       "      <td>Dance Dance Dance</td>\n",
       "      <td>2.0</td>\n",
       "      <td>2</td>\n",
       "      <td>4.500000</td>\n",
       "    </tr>\n",
       "    <tr>\n",
       "      <th>996</th>\n",
       "      <td>403.0</td>\n",
       "      <td>Lord John and the Private Matter (Lord John Gr...</td>\n",
       "      <td>2.0</td>\n",
       "      <td>2</td>\n",
       "      <td>3.500000</td>\n",
       "    </tr>\n",
       "    <tr>\n",
       "      <th>997</th>\n",
       "      <td>400.0</td>\n",
       "      <td>London Bridges (Alex Cross  #10)</td>\n",
       "      <td>2.0</td>\n",
       "      <td>2</td>\n",
       "      <td>4.000000</td>\n",
       "    </tr>\n",
       "    <tr>\n",
       "      <th>998</th>\n",
       "      <td>401.0</td>\n",
       "      <td>Long Day's Journey into Night</td>\n",
       "      <td>2.0</td>\n",
       "      <td>2</td>\n",
       "      <td>4.000000</td>\n",
       "    </tr>\n",
       "    <tr>\n",
       "      <th>999</th>\n",
       "      <td>NaN</td>\n",
       "      <td>Disney's Beauty and the Beast (A Little Golden...</td>\n",
       "      <td>NaN</td>\n",
       "      <td>1</td>\n",
       "      <td>4.000000</td>\n",
       "    </tr>\n",
       "  </tbody>\n",
       "</table>\n",
       "<p>1000 rows × 5 columns</p>\n",
       "</div>"
      ],
      "text/plain": [
       "     book_id                                              title  review_cnt  \\\n",
       "0      948.0                            Twilight (Twilight  #1)         7.0   \n",
       "1      750.0                The Hobbit  or There and Back Again         6.0   \n",
       "2      673.0                             The Catcher in the Rye         6.0   \n",
       "3       75.0               Angels & Demons (Robert Langdon  #1)         5.0   \n",
       "4      302.0  Harry Potter and the Prisoner of Azkaban (Harr...         6.0   \n",
       "..       ...                                                ...         ...   \n",
       "995    175.0                                  Dance Dance Dance         2.0   \n",
       "996    403.0  Lord John and the Private Matter (Lord John Gr...         2.0   \n",
       "997    400.0                   London Bridges (Alex Cross  #10)         2.0   \n",
       "998    401.0                      Long Day's Journey into Night         2.0   \n",
       "999      NaN  Disney's Beauty and the Beast (A Little Golden...         NaN   \n",
       "\n",
       "     rate_cnt  rate_avg  \n",
       "0         160  3.662500  \n",
       "1          88  4.125000  \n",
       "2          86  3.825581  \n",
       "3          84  3.678571  \n",
       "4          82  4.414634  \n",
       "..        ...       ...  \n",
       "995         2  4.500000  \n",
       "996         2  3.500000  \n",
       "997         2  4.000000  \n",
       "998         2  4.000000  \n",
       "999         1  4.000000  \n",
       "\n",
       "[1000 rows x 5 columns]"
      ]
     },
     "execution_count": 16,
     "metadata": {},
     "output_type": "execute_result"
    }
   ],
   "source": [
    "select(rat_rev)"
   ]
  },
  {
   "cell_type": "markdown",
   "id": "008eaecb",
   "metadata": {},
   "source": [
    "**Вывод**\n",
    "\n",
    "Не у каждой книги есть обзор, но оценки есть у каждой. Первые \"Сумерки\" лидируют по количеству написанных обзоров, однако оценили её всего на 3.66"
   ]
  },
  {
   "cell_type": "markdown",
   "id": "24ffdcee",
   "metadata": {},
   "source": [
    "### Издательство, которое выпустило наибольшее число книг толще 50 страниц"
   ]
  },
  {
   "cell_type": "code",
   "execution_count": 17,
   "id": "aa7f09f7",
   "metadata": {},
   "outputs": [],
   "source": [
    "pubs = '''\n",
    "SELECT p.publisher,\n",
    "       Count(book_id) AS number_of_books\n",
    "FROM   books t\n",
    "       LEFT JOIN publishers p\n",
    "              ON t.publisher_id = p.publisher_id\n",
    "WHERE  t.num_pages > 50\n",
    "GROUP  BY p.publisher\n",
    "ORDER  BY number_of_books DESC\n",
    "LIMIT  1 \n",
    "'''"
   ]
  },
  {
   "cell_type": "code",
   "execution_count": 18,
   "id": "72f8a489",
   "metadata": {
    "scrolled": true
   },
   "outputs": [
    {
     "data": {
      "text/html": [
       "<div>\n",
       "<style scoped>\n",
       "    .dataframe tbody tr th:only-of-type {\n",
       "        vertical-align: middle;\n",
       "    }\n",
       "\n",
       "    .dataframe tbody tr th {\n",
       "        vertical-align: top;\n",
       "    }\n",
       "\n",
       "    .dataframe thead th {\n",
       "        text-align: right;\n",
       "    }\n",
       "</style>\n",
       "<table border=\"1\" class=\"dataframe\">\n",
       "  <thead>\n",
       "    <tr style=\"text-align: right;\">\n",
       "      <th></th>\n",
       "      <th>publisher</th>\n",
       "      <th>number_of_books</th>\n",
       "    </tr>\n",
       "  </thead>\n",
       "  <tbody>\n",
       "    <tr>\n",
       "      <th>0</th>\n",
       "      <td>Penguin Books</td>\n",
       "      <td>42</td>\n",
       "    </tr>\n",
       "  </tbody>\n",
       "</table>\n",
       "</div>"
      ],
      "text/plain": [
       "       publisher  number_of_books\n",
       "0  Penguin Books               42"
      ]
     },
     "execution_count": 18,
     "metadata": {},
     "output_type": "execute_result"
    }
   ],
   "source": [
    "select(pubs)"
   ]
  },
  {
   "cell_type": "markdown",
   "id": "78359985",
   "metadata": {},
   "source": [
    "**Вывод**\n",
    "\n",
    "Из издательств, представленных в базе данных, больше всех книг выпустило издательство \"Penguin Books\" - 42 публикации больше 50 страниц"
   ]
  },
  {
   "cell_type": "markdown",
   "id": "8289c108",
   "metadata": {},
   "source": [
    "### Автор с самой высокой средней оценкой книг"
   ]
  },
  {
   "cell_type": "code",
   "execution_count": 19,
   "id": "357eecb6",
   "metadata": {},
   "outputs": [],
   "source": [
    "author = '''\n",
    "WITH  br AS\n",
    "          (SELECT    t.book_id,\n",
    "                    Count(r.rating) AS rate_cnt,\n",
    "                    Avg(r.rating)   AS rating_avg\n",
    "          FROM      books t\n",
    "          LEFT JOIN ratings r\n",
    "          ON        t.book_id = r.book_id\n",
    "          GROUP BY  t.book_id\n",
    "          HAVING    Count(r.rating) > 50)\n",
    "SELECT    a.author,\n",
    "          Avg(br.rating_avg) AS book_rate_avg\n",
    "FROM      br\n",
    "LEFT JOIN books b\n",
    "ON        br.book_id = b.book_id\n",
    "LEFT JOIN authors a\n",
    "ON        b.author_id = a.author_id\n",
    "GROUP BY  a.author\n",
    "ORDER BY  book_rate_avg DESC limit 1\n",
    "'''"
   ]
  },
  {
   "cell_type": "code",
   "execution_count": 20,
   "id": "a26849f9",
   "metadata": {
    "scrolled": true
   },
   "outputs": [
    {
     "data": {
      "text/html": [
       "<div>\n",
       "<style scoped>\n",
       "    .dataframe tbody tr th:only-of-type {\n",
       "        vertical-align: middle;\n",
       "    }\n",
       "\n",
       "    .dataframe tbody tr th {\n",
       "        vertical-align: top;\n",
       "    }\n",
       "\n",
       "    .dataframe thead th {\n",
       "        text-align: right;\n",
       "    }\n",
       "</style>\n",
       "<table border=\"1\" class=\"dataframe\">\n",
       "  <thead>\n",
       "    <tr style=\"text-align: right;\">\n",
       "      <th></th>\n",
       "      <th>author</th>\n",
       "      <th>book_rate_avg</th>\n",
       "    </tr>\n",
       "  </thead>\n",
       "  <tbody>\n",
       "    <tr>\n",
       "      <th>0</th>\n",
       "      <td>J.K. Rowling/Mary GrandPré</td>\n",
       "      <td>4.283844</td>\n",
       "    </tr>\n",
       "  </tbody>\n",
       "</table>\n",
       "</div>"
      ],
      "text/plain": [
       "                       author  book_rate_avg\n",
       "0  J.K. Rowling/Mary GrandPré       4.283844"
      ]
     },
     "execution_count": 20,
     "metadata": {},
     "output_type": "execute_result"
    }
   ],
   "source": [
    "select(author)"
   ]
  },
  {
   "cell_type": "markdown",
   "id": "ebe78969",
   "metadata": {},
   "source": [
    "**Вывод**\n",
    "\n",
    "Автором с самой высокой средней оценкой книги является J.K. Rowling/Mary GrandPré, автор всеми любимых книжек про мальчика - волшебника"
   ]
  },
  {
   "cell_type": "markdown",
   "id": "2a60ee23",
   "metadata": {},
   "source": [
    "### Cреднее количество обзоров от пользователей, которые поставили больше 50 оценок."
   ]
  },
  {
   "cell_type": "code",
   "execution_count": 21,
   "id": "f6613cf3",
   "metadata": {},
   "outputs": [],
   "source": [
    "users = '''\n",
    "WITH c\n",
    "     AS (SELECT r.username,\n",
    "                Count(r.rating) AS rate_cnt\n",
    "         FROM   ratings r\n",
    "         GROUP  BY r.username\n",
    "         HAVING Count(r.rating) > 50),\n",
    "     h\n",
    "     AS (SELECT re.username,\n",
    "                Count(re.review_id) AS review_cnt\n",
    "         FROM   reviews re\n",
    "         GROUP  BY re.username)\n",
    "SELECT Avg(h.review_cnt) AS review_cnt_avg\n",
    "FROM   h\n",
    "       INNER JOIN c\n",
    "               ON h.username = c.username '''"
   ]
  },
  {
   "cell_type": "code",
   "execution_count": 22,
   "id": "a3257bb0",
   "metadata": {},
   "outputs": [
    {
     "data": {
      "text/html": [
       "<div>\n",
       "<style scoped>\n",
       "    .dataframe tbody tr th:only-of-type {\n",
       "        vertical-align: middle;\n",
       "    }\n",
       "\n",
       "    .dataframe tbody tr th {\n",
       "        vertical-align: top;\n",
       "    }\n",
       "\n",
       "    .dataframe thead th {\n",
       "        text-align: right;\n",
       "    }\n",
       "</style>\n",
       "<table border=\"1\" class=\"dataframe\">\n",
       "  <thead>\n",
       "    <tr style=\"text-align: right;\">\n",
       "      <th></th>\n",
       "      <th>review_cnt_avg</th>\n",
       "    </tr>\n",
       "  </thead>\n",
       "  <tbody>\n",
       "    <tr>\n",
       "      <th>0</th>\n",
       "      <td>24.333333</td>\n",
       "    </tr>\n",
       "  </tbody>\n",
       "</table>\n",
       "</div>"
      ],
      "text/plain": [
       "   review_cnt_avg\n",
       "0       24.333333"
      ]
     },
     "execution_count": 22,
     "metadata": {},
     "output_type": "execute_result"
    }
   ],
   "source": [
    "select(users)"
   ]
  },
  {
   "cell_type": "markdown",
   "id": "3c3a3033",
   "metadata": {},
   "source": [
    "**Вывод**\n",
    "\n",
    "Среднее количество обзоров от тех пользователей, которые поставили более 50 оценок, равно 24.3333. Люди, которые много читают, любят писать ревью на прочитанное"
   ]
  },
  {
   "cell_type": "markdown",
   "id": "0f02c04b",
   "metadata": {},
   "source": [
    "## Общий вывод"
   ]
  },
  {
   "cell_type": "markdown",
   "id": "8c08f019",
   "metadata": {},
   "source": [
    " - большая часть книг была выпущена в последние 22 года, то есть в основном в сервисе представлены авторы современности\n",
    " - для каждой книги мы посчитали количество обзоров и среднюю оценку\n",
    " - определили, что penguine books выпустило 42 книги, это составляет 4% от всех книг в базе данных\n",
    " - автором с самой высокой средней оценкой (с количеством отзывов более 50) является Роулинг\n",
    " - люди, которые много читают, любят писать ревью на прочитанное, мы видим, что у пользователей с оценками от 50 количество отзывов в среднем 24 штуки.\n",
    "\n",
    "Дальнейший анализ представленной базы данных поможет решить следующие большие вопросы нового продукта:\n",
    "\n",
    " - Помочь рекламе - для привлечения пользователей мы можем составить их портрет, в рекламе предлагать картинки из произведений, которые им нравятся\n",
    " - Помочь дизайну - у нас есть книги, которые можно поместить на главный экран - любимые и самые обсуждаемые тайтлы\n",
    " - Удержать пользователя - тем пользователям, которые уже читают нас можем предложить другие книги этого автора или этого издательства, чтобы они дальше продлевали подписку."
   ]
  }
 ],
 "metadata": {
  "ExecuteTimeLog": [
   {
    "duration": 543,
    "start_time": "2022-09-09T19:24:45.887Z"
   },
   {
    "duration": 6546,
    "start_time": "2022-09-09T19:24:46.433Z"
   },
   {
    "duration": 16,
    "start_time": "2022-09-09T19:24:52.981Z"
   },
   {
    "duration": 13,
    "start_time": "2022-09-09T19:24:53.000Z"
   },
   {
    "duration": 261,
    "start_time": "2022-09-09T19:24:53.014Z"
   },
   {
    "duration": 2,
    "start_time": "2022-09-09T19:24:53.276Z"
   },
   {
    "duration": 94,
    "start_time": "2022-09-09T19:24:53.280Z"
   },
   {
    "duration": 2,
    "start_time": "2022-09-09T19:24:53.377Z"
   },
   {
    "duration": 87,
    "start_time": "2022-09-09T19:24:53.381Z"
   },
   {
    "duration": 2,
    "start_time": "2022-09-09T19:24:53.471Z"
   },
   {
    "duration": 88,
    "start_time": "2022-09-09T19:24:53.475Z"
   },
   {
    "duration": 73,
    "start_time": "2022-09-09T19:24:53.565Z"
   },
   {
    "duration": 2,
    "start_time": "2022-09-09T19:24:53.640Z"
   },
   {
    "duration": 82,
    "start_time": "2022-09-09T19:24:53.643Z"
   },
   {
    "duration": 2,
    "start_time": "2022-09-09T19:24:53.727Z"
   },
   {
    "duration": 119,
    "start_time": "2022-09-09T19:24:53.730Z"
   },
   {
    "duration": 3,
    "start_time": "2022-09-09T19:24:53.852Z"
   },
   {
    "duration": 93,
    "start_time": "2022-09-09T19:24:53.856Z"
   },
   {
    "duration": 3,
    "start_time": "2022-09-09T19:24:53.950Z"
   },
   {
    "duration": 83,
    "start_time": "2022-09-09T19:24:53.955Z"
   },
   {
    "duration": 3,
    "start_time": "2022-09-09T19:24:54.040Z"
   },
   {
    "duration": 88,
    "start_time": "2022-09-09T19:24:54.044Z"
   },
   {
    "duration": 533,
    "start_time": "2022-09-09T19:25:41.666Z"
   },
   {
    "duration": 7734,
    "start_time": "2022-09-09T19:25:42.201Z"
   },
   {
    "duration": 3,
    "start_time": "2022-09-09T19:25:49.937Z"
   },
   {
    "duration": 17,
    "start_time": "2022-09-09T19:25:49.941Z"
   },
   {
    "duration": 254,
    "start_time": "2022-09-09T19:25:49.960Z"
   },
   {
    "duration": 2,
    "start_time": "2022-09-09T19:25:50.216Z"
   },
   {
    "duration": 88,
    "start_time": "2022-09-09T19:25:50.220Z"
   },
   {
    "duration": 2,
    "start_time": "2022-09-09T19:25:50.311Z"
   },
   {
    "duration": 84,
    "start_time": "2022-09-09T19:25:50.315Z"
   },
   {
    "duration": 2,
    "start_time": "2022-09-09T19:25:50.402Z"
   },
   {
    "duration": 91,
    "start_time": "2022-09-09T19:25:50.406Z"
   },
   {
    "duration": 77,
    "start_time": "2022-09-09T19:25:50.498Z"
   },
   {
    "duration": 3,
    "start_time": "2022-09-09T19:25:50.576Z"
   },
   {
    "duration": 83,
    "start_time": "2022-09-09T19:25:50.580Z"
   },
   {
    "duration": 3,
    "start_time": "2022-09-09T19:25:50.666Z"
   },
   {
    "duration": 133,
    "start_time": "2022-09-09T19:25:50.670Z"
   },
   {
    "duration": 3,
    "start_time": "2022-09-09T19:25:50.805Z"
   },
   {
    "duration": 79,
    "start_time": "2022-09-09T19:25:50.810Z"
   },
   {
    "duration": 2,
    "start_time": "2022-09-09T19:25:50.891Z"
   },
   {
    "duration": 92,
    "start_time": "2022-09-09T19:25:50.895Z"
   },
   {
    "duration": 3,
    "start_time": "2022-09-09T19:25:50.989Z"
   },
   {
    "duration": 81,
    "start_time": "2022-09-09T19:25:50.993Z"
   },
   {
    "duration": 9,
    "start_time": "2022-09-09T19:49:10.240Z"
   },
   {
    "duration": 51,
    "start_time": "2022-09-09T19:49:10.251Z"
   },
   {
    "duration": 561,
    "start_time": "2022-09-09T19:49:17.161Z"
   },
   {
    "duration": 9647,
    "start_time": "2022-09-09T19:49:17.724Z"
   },
   {
    "duration": 3,
    "start_time": "2022-09-09T19:49:27.373Z"
   },
   {
    "duration": 8,
    "start_time": "2022-09-09T19:49:27.377Z"
   },
   {
    "duration": 81,
    "start_time": "2022-09-09T19:49:27.387Z"
   },
   {
    "duration": 2,
    "start_time": "2022-09-09T19:49:27.470Z"
   },
   {
    "duration": 17,
    "start_time": "2022-09-09T19:49:27.474Z"
   },
   {
    "duration": 2,
    "start_time": "2022-09-09T19:49:27.493Z"
   },
   {
    "duration": 16,
    "start_time": "2022-09-09T19:49:27.497Z"
   },
   {
    "duration": 2,
    "start_time": "2022-09-09T19:49:27.515Z"
   },
   {
    "duration": 15,
    "start_time": "2022-09-09T19:49:27.519Z"
   },
   {
    "duration": 13,
    "start_time": "2022-09-09T19:49:27.536Z"
   },
   {
    "duration": 2,
    "start_time": "2022-09-09T19:49:27.551Z"
   },
   {
    "duration": 19,
    "start_time": "2022-09-09T19:49:27.556Z"
   },
   {
    "duration": 16,
    "start_time": "2022-09-09T19:49:27.576Z"
   },
   {
    "duration": 5,
    "start_time": "2022-09-09T19:49:27.594Z"
   },
   {
    "duration": 34,
    "start_time": "2022-09-09T19:49:27.601Z"
   },
   {
    "duration": 3,
    "start_time": "2022-09-09T19:49:27.636Z"
   },
   {
    "duration": 18,
    "start_time": "2022-09-09T19:49:27.641Z"
   },
   {
    "duration": 3,
    "start_time": "2022-09-09T19:49:27.660Z"
   },
   {
    "duration": 22,
    "start_time": "2022-09-09T19:49:27.665Z"
   },
   {
    "duration": 4,
    "start_time": "2022-09-09T19:49:27.688Z"
   },
   {
    "duration": 18,
    "start_time": "2022-09-09T19:49:27.694Z"
   },
   {
    "duration": 3,
    "start_time": "2022-09-09T19:50:25.109Z"
   },
   {
    "duration": 175,
    "start_time": "2022-09-09T19:50:25.391Z"
   },
   {
    "duration": 2,
    "start_time": "2022-09-09T19:50:46.536Z"
   },
   {
    "duration": 102,
    "start_time": "2022-09-09T19:50:46.780Z"
   },
   {
    "duration": 3,
    "start_time": "2022-09-09T19:50:54.088Z"
   },
   {
    "duration": 16,
    "start_time": "2022-09-09T19:50:54.357Z"
   },
   {
    "duration": 2,
    "start_time": "2022-09-09T19:51:14.307Z"
   },
   {
    "duration": 4,
    "start_time": "2022-09-09T19:51:19.627Z"
   },
   {
    "duration": 16,
    "start_time": "2022-09-09T19:51:19.749Z"
   },
   {
    "duration": 3,
    "start_time": "2022-09-09T19:51:23.809Z"
   },
   {
    "duration": 19,
    "start_time": "2022-09-09T19:51:24.001Z"
   },
   {
    "duration": 3,
    "start_time": "2022-09-09T19:53:59.079Z"
   },
   {
    "duration": 30,
    "start_time": "2022-09-09T19:54:11.588Z"
   },
   {
    "duration": 3,
    "start_time": "2022-09-09T19:55:34.711Z"
   },
   {
    "duration": 19,
    "start_time": "2022-09-09T19:55:35.026Z"
   },
   {
    "duration": 4,
    "start_time": "2022-09-09T19:58:58.759Z"
   },
   {
    "duration": 23,
    "start_time": "2022-09-09T19:58:59.140Z"
   },
   {
    "duration": 2,
    "start_time": "2022-09-09T19:59:11.632Z"
   },
   {
    "duration": 25,
    "start_time": "2022-09-09T19:59:11.816Z"
   },
   {
    "duration": 3,
    "start_time": "2022-09-09T19:59:26.915Z"
   },
   {
    "duration": 29,
    "start_time": "2022-09-09T19:59:27.138Z"
   },
   {
    "duration": 3,
    "start_time": "2022-09-09T20:00:01.353Z"
   },
   {
    "duration": 105,
    "start_time": "2022-09-09T20:00:01.577Z"
   },
   {
    "duration": 3,
    "start_time": "2022-09-09T20:00:19.000Z"
   },
   {
    "duration": 96,
    "start_time": "2022-09-09T20:00:19.166Z"
   },
   {
    "duration": 3,
    "start_time": "2022-09-09T20:01:05.448Z"
   },
   {
    "duration": 129,
    "start_time": "2022-09-09T20:01:05.752Z"
   },
   {
    "duration": 3,
    "start_time": "2022-09-09T20:01:18.125Z"
   },
   {
    "duration": 93,
    "start_time": "2022-09-09T20:01:18.476Z"
   },
   {
    "duration": 3,
    "start_time": "2022-09-09T20:01:22.519Z"
   },
   {
    "duration": 97,
    "start_time": "2022-09-09T20:01:22.708Z"
   },
   {
    "duration": 5,
    "start_time": "2022-09-09T20:01:28.377Z"
   },
   {
    "duration": 100,
    "start_time": "2022-09-09T20:01:28.639Z"
   },
   {
    "duration": 3,
    "start_time": "2022-09-09T20:02:01.274Z"
   },
   {
    "duration": 24,
    "start_time": "2022-09-09T20:02:01.612Z"
   },
   {
    "duration": 3,
    "start_time": "2022-09-09T20:02:42.777Z"
   },
   {
    "duration": 28,
    "start_time": "2022-09-09T20:02:42.963Z"
   },
   {
    "duration": 2,
    "start_time": "2022-09-09T20:03:06.150Z"
   },
   {
    "duration": 23,
    "start_time": "2022-09-09T20:03:06.392Z"
   },
   {
    "duration": 2,
    "start_time": "2022-09-09T20:03:18.705Z"
   },
   {
    "duration": 22,
    "start_time": "2022-09-09T20:03:18.961Z"
   },
   {
    "duration": 3,
    "start_time": "2022-09-09T20:03:24.608Z"
   },
   {
    "duration": 23,
    "start_time": "2022-09-09T20:03:24.925Z"
   },
   {
    "duration": 2,
    "start_time": "2022-09-09T20:03:44.550Z"
   },
   {
    "duration": 23,
    "start_time": "2022-09-09T20:03:44.784Z"
   },
   {
    "duration": 2,
    "start_time": "2022-09-09T20:06:10.564Z"
   },
   {
    "duration": 95,
    "start_time": "2022-09-09T20:06:11.052Z"
   },
   {
    "duration": 3,
    "start_time": "2022-09-09T20:07:06.389Z"
   },
   {
    "duration": 21,
    "start_time": "2022-09-09T20:07:06.689Z"
   },
   {
    "duration": 3,
    "start_time": "2022-09-09T20:07:24.706Z"
   },
   {
    "duration": 25,
    "start_time": "2022-09-09T20:07:24.902Z"
   },
   {
    "duration": 3,
    "start_time": "2022-09-09T20:08:28.229Z"
   },
   {
    "duration": 29,
    "start_time": "2022-09-09T20:08:28.508Z"
   },
   {
    "duration": 3,
    "start_time": "2022-09-09T20:08:42.839Z"
   },
   {
    "duration": 26,
    "start_time": "2022-09-09T20:08:43.072Z"
   },
   {
    "duration": 2,
    "start_time": "2022-09-09T20:08:54.310Z"
   },
   {
    "duration": 26,
    "start_time": "2022-09-09T20:08:54.533Z"
   },
   {
    "duration": 2,
    "start_time": "2022-09-09T20:09:01.287Z"
   },
   {
    "duration": 32,
    "start_time": "2022-09-09T20:09:01.516Z"
   },
   {
    "duration": 3,
    "start_time": "2022-09-09T20:09:05.378Z"
   },
   {
    "duration": 2,
    "start_time": "2022-09-09T20:09:08.130Z"
   },
   {
    "duration": 26,
    "start_time": "2022-09-09T20:09:08.341Z"
   },
   {
    "duration": 3,
    "start_time": "2022-09-09T20:11:21.518Z"
   },
   {
    "duration": 32,
    "start_time": "2022-09-09T20:11:21.800Z"
   },
   {
    "duration": 3,
    "start_time": "2022-09-09T20:12:31.057Z"
   },
   {
    "duration": 11,
    "start_time": "2022-09-09T20:12:31.365Z"
   },
   {
    "duration": 3,
    "start_time": "2022-09-09T20:14:17.432Z"
   },
   {
    "duration": 11,
    "start_time": "2022-09-09T20:14:18.149Z"
   },
   {
    "duration": 548,
    "start_time": "2022-09-09T20:16:38.061Z"
   },
   {
    "duration": 8437,
    "start_time": "2022-09-09T20:16:38.611Z"
   },
   {
    "duration": 2,
    "start_time": "2022-09-09T20:16:47.050Z"
   },
   {
    "duration": 15,
    "start_time": "2022-09-09T20:16:47.054Z"
   },
   {
    "duration": 89,
    "start_time": "2022-09-09T20:16:47.072Z"
   },
   {
    "duration": 3,
    "start_time": "2022-09-09T20:16:47.163Z"
   },
   {
    "duration": 21,
    "start_time": "2022-09-09T20:16:47.168Z"
   },
   {
    "duration": 12,
    "start_time": "2022-09-09T20:16:47.192Z"
   },
   {
    "duration": 26,
    "start_time": "2022-09-09T20:16:47.206Z"
   },
   {
    "duration": 6,
    "start_time": "2022-09-09T20:16:47.234Z"
   },
   {
    "duration": 33,
    "start_time": "2022-09-09T20:16:47.242Z"
   },
   {
    "duration": 13,
    "start_time": "2022-09-09T20:16:47.277Z"
   },
   {
    "duration": 11,
    "start_time": "2022-09-09T20:16:47.291Z"
   },
   {
    "duration": 24,
    "start_time": "2022-09-09T20:16:47.304Z"
   },
   {
    "duration": 6,
    "start_time": "2022-09-09T20:16:47.329Z"
   },
   {
    "duration": 60,
    "start_time": "2022-09-09T20:16:47.337Z"
   },
   {
    "duration": 3,
    "start_time": "2022-09-09T20:16:47.398Z"
   },
   {
    "duration": 27,
    "start_time": "2022-09-09T20:16:47.402Z"
   },
   {
    "duration": 25,
    "start_time": "2022-09-09T20:16:47.431Z"
   },
   {
    "duration": 24,
    "start_time": "2022-09-09T20:16:47.457Z"
   },
   {
    "duration": 4,
    "start_time": "2022-09-09T20:16:47.483Z"
   },
   {
    "duration": 35,
    "start_time": "2022-09-09T20:16:47.489Z"
   }
  ],
  "kernelspec": {
   "display_name": "Python 3 (ipykernel)",
   "language": "python",
   "name": "python3"
  },
  "language_info": {
   "codemirror_mode": {
    "name": "ipython",
    "version": 3
   },
   "file_extension": ".py",
   "mimetype": "text/x-python",
   "name": "python",
   "nbconvert_exporter": "python",
   "pygments_lexer": "ipython3",
   "version": "3.9.7"
  },
  "toc": {
   "base_numbering": 1,
   "nav_menu": {},
   "number_sections": true,
   "sideBar": true,
   "skip_h1_title": true,
   "title_cell": "Table of Contents",
   "title_sidebar": "Contents",
   "toc_cell": true,
   "toc_position": {
    "height": "calc(100% - 180px)",
    "left": "10px",
    "top": "150px",
    "width": "273.188px"
   },
   "toc_section_display": true,
   "toc_window_display": true
  }
 },
 "nbformat": 4,
 "nbformat_minor": 5
}
