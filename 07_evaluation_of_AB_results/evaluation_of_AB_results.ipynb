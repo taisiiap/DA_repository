{
 "cells": [
  {
   "cell_type": "markdown",
   "metadata": {},
   "source": [
    "## Описание проекта:\n",
    "\n",
    "\n",
    "Наша задача вместе с отделом маркетинга запустить и проанализировать AB тесты и принять решение по результатам теста\n"
   ]
  },
  {
   "cell_type": "markdown",
   "metadata": {},
   "source": [
    "Описание данных:\n",
    "\n",
    "hypothesis\n",
    " - Hypothesis — краткое описание гипотезы;\n",
    " - Reach — охват пользователей по 10-балльной шкале;\n",
    " - Impact — влияние на пользователей по 10-балльной шкале;\n",
    " - Confidence — уверенность в гипотезе по 10-балльной шкале;\n",
    " - Efforts — затраты ресурсов на проверку гипотезы по 10-балльной шкале. Чем больше значение Efforts, тем дороже проверка гипотезы.\n",
    "\n",
    "orders\n",
    "\n",
    " - transactionId — идентификатор заказа;\n",
    " - visitorId — идентификатор пользователя, совершившего заказ;\n",
    " - date — дата, когда был совершён заказ;\n",
    " - revenue — выручка заказа;\n",
    " - group — группа A/B-теста, в которую попал заказ.\n",
    "\n",
    "visitors\n",
    " - date — дата;\n",
    " - group — группа A/B-теста;\n",
    " - visitors — количество пользователей в указанную дату в указанной группе A/B-теста"
   ]
  },
  {
   "cell_type": "markdown",
   "metadata": {},
   "source": [
    "## Предобработка данных"
   ]
  },
  {
   "cell_type": "code",
   "execution_count": 1,
   "metadata": {},
   "outputs": [],
   "source": [
    "import pandas as pd\n",
    "import numpy as np\n",
    "import datetime as dt\n",
    "import matplotlib.pyplot as plt\n",
    "import scipy.stats as stats\n",
    "import seaborn as sns\n",
    "pd.options.display.max_colwidth = 210"
   ]
  },
  {
   "cell_type": "code",
   "execution_count": 2,
   "metadata": {},
   "outputs": [],
   "source": [
    "hypothesis, orders, visitors = (\n",
    "    pd.read_csv('hypothesis.csv'),  # гипотезы\n",
    "    pd.read_csv('orders.csv'),  # заказы\n",
    "    pd.read_csv('visitors.csv'),  # пользователи\n",
    ")"
   ]
  },
  {
   "cell_type": "code",
   "execution_count": 3,
   "metadata": {},
   "outputs": [],
   "source": [
    "hypothesis.columns = hypothesis.columns.str.lower().str.replace(' ', '_')"
   ]
  },
  {
   "cell_type": "code",
   "execution_count": 4,
   "metadata": {},
   "outputs": [],
   "source": [
    "def first_look(df):\n",
    "    print('.'*10,'Первые 5 строк','.'*10)\n",
    "    display(df.head())\n",
    "    print('')\n",
    "    print('')\n",
    "    print('.'*10,'Тип данных','.'*10)\n",
    "    print('')\n",
    "    df.info()\n",
    "    print('')\n",
    "    print('')\n",
    "    print('.'*10,'Пропуски','.'*10)\n",
    "    print('')\n",
    "    count = 0\n",
    "    for column in df.columns:\n",
    "        if df[column].isna().sum()>0:\n",
    "            print(column,'-',df[column].isna().sum(), 'пропусков')\n",
    "            print(f'Доля пропусков в таблице составляет {(df[column].isna().sum())/len(df[column]):.1%}')\n",
    "            count =+ 1\n",
    "    if count == 0:\n",
    "        print('Пропусков нет')\n",
    "    print('')\n",
    "    print('')\n",
    "    print('.'*10,'Дубликаты','.'*10)\n",
    "    if df.duplicated().sum()>0:\n",
    "        print('Дубликатов:', df.duplicated().sum())\n",
    "    else:\n",
    "        print('Дубликатов нет')"
   ]
  },
  {
   "cell_type": "code",
   "execution_count": 5,
   "metadata": {
    "scrolled": false
   },
   "outputs": [
    {
     "name": "stdout",
     "output_type": "stream",
     "text": [
      ".......... Первые 5 строк ..........\n"
     ]
    },
    {
     "data": {
      "text/html": [
       "<div>\n",
       "<style scoped>\n",
       "    .dataframe tbody tr th:only-of-type {\n",
       "        vertical-align: middle;\n",
       "    }\n",
       "\n",
       "    .dataframe tbody tr th {\n",
       "        vertical-align: top;\n",
       "    }\n",
       "\n",
       "    .dataframe thead th {\n",
       "        text-align: right;\n",
       "    }\n",
       "</style>\n",
       "<table border=\"1\" class=\"dataframe\">\n",
       "  <thead>\n",
       "    <tr style=\"text-align: right;\">\n",
       "      <th></th>\n",
       "      <th>hypothesis</th>\n",
       "      <th>reach</th>\n",
       "      <th>impact</th>\n",
       "      <th>confidence</th>\n",
       "      <th>efforts</th>\n",
       "    </tr>\n",
       "  </thead>\n",
       "  <tbody>\n",
       "    <tr>\n",
       "      <th>0</th>\n",
       "      <td>Добавить два новых канала привлечения трафика, что позволит привлекать на 30% больше пользователей</td>\n",
       "      <td>3</td>\n",
       "      <td>10</td>\n",
       "      <td>8</td>\n",
       "      <td>6</td>\n",
       "    </tr>\n",
       "    <tr>\n",
       "      <th>1</th>\n",
       "      <td>Запустить собственную службу доставки, что сократит срок доставки заказов</td>\n",
       "      <td>2</td>\n",
       "      <td>5</td>\n",
       "      <td>4</td>\n",
       "      <td>10</td>\n",
       "    </tr>\n",
       "    <tr>\n",
       "      <th>2</th>\n",
       "      <td>Добавить блоки рекомендаций товаров на сайт интернет магазина, чтобы повысить конверсию и средний чек заказа</td>\n",
       "      <td>8</td>\n",
       "      <td>3</td>\n",
       "      <td>7</td>\n",
       "      <td>3</td>\n",
       "    </tr>\n",
       "    <tr>\n",
       "      <th>3</th>\n",
       "      <td>Изменить структура категорий, что увеличит конверсию, т.к. пользователи быстрее найдут нужный товар</td>\n",
       "      <td>8</td>\n",
       "      <td>3</td>\n",
       "      <td>3</td>\n",
       "      <td>8</td>\n",
       "    </tr>\n",
       "    <tr>\n",
       "      <th>4</th>\n",
       "      <td>Изменить цвет фона главной страницы, чтобы увеличить вовлеченность пользователей</td>\n",
       "      <td>3</td>\n",
       "      <td>1</td>\n",
       "      <td>1</td>\n",
       "      <td>1</td>\n",
       "    </tr>\n",
       "  </tbody>\n",
       "</table>\n",
       "</div>"
      ],
      "text/plain": [
       "                                                                                                     hypothesis  \\\n",
       "0            Добавить два новых канала привлечения трафика, что позволит привлекать на 30% больше пользователей   \n",
       "1                                     Запустить собственную службу доставки, что сократит срок доставки заказов   \n",
       "2  Добавить блоки рекомендаций товаров на сайт интернет магазина, чтобы повысить конверсию и средний чек заказа   \n",
       "3           Изменить структура категорий, что увеличит конверсию, т.к. пользователи быстрее найдут нужный товар   \n",
       "4                              Изменить цвет фона главной страницы, чтобы увеличить вовлеченность пользователей   \n",
       "\n",
       "   reach  impact  confidence  efforts  \n",
       "0      3      10           8        6  \n",
       "1      2       5           4       10  \n",
       "2      8       3           7        3  \n",
       "3      8       3           3        8  \n",
       "4      3       1           1        1  "
      ]
     },
     "metadata": {},
     "output_type": "display_data"
    },
    {
     "name": "stdout",
     "output_type": "stream",
     "text": [
      "\n",
      "\n",
      ".......... Тип данных ..........\n",
      "\n",
      "<class 'pandas.core.frame.DataFrame'>\n",
      "RangeIndex: 9 entries, 0 to 8\n",
      "Data columns (total 5 columns):\n",
      " #   Column      Non-Null Count  Dtype \n",
      "---  ------      --------------  ----- \n",
      " 0   hypothesis  9 non-null      object\n",
      " 1   reach       9 non-null      int64 \n",
      " 2   impact      9 non-null      int64 \n",
      " 3   confidence  9 non-null      int64 \n",
      " 4   efforts     9 non-null      int64 \n",
      "dtypes: int64(4), object(1)\n",
      "memory usage: 488.0+ bytes\n",
      "\n",
      "\n",
      ".......... Пропуски ..........\n",
      "\n",
      "Пропусков нет\n",
      "\n",
      "\n",
      ".......... Дубликаты ..........\n",
      "Дубликатов нет\n"
     ]
    }
   ],
   "source": [
    "first_look(hypothesis)"
   ]
  },
  {
   "cell_type": "code",
   "execution_count": 6,
   "metadata": {
    "scrolled": false
   },
   "outputs": [
    {
     "name": "stdout",
     "output_type": "stream",
     "text": [
      ".......... Первые 5 строк ..........\n"
     ]
    },
    {
     "data": {
      "text/html": [
       "<div>\n",
       "<style scoped>\n",
       "    .dataframe tbody tr th:only-of-type {\n",
       "        vertical-align: middle;\n",
       "    }\n",
       "\n",
       "    .dataframe tbody tr th {\n",
       "        vertical-align: top;\n",
       "    }\n",
       "\n",
       "    .dataframe thead th {\n",
       "        text-align: right;\n",
       "    }\n",
       "</style>\n",
       "<table border=\"1\" class=\"dataframe\">\n",
       "  <thead>\n",
       "    <tr style=\"text-align: right;\">\n",
       "      <th></th>\n",
       "      <th>transactionId</th>\n",
       "      <th>visitorId</th>\n",
       "      <th>date</th>\n",
       "      <th>revenue</th>\n",
       "      <th>group</th>\n",
       "    </tr>\n",
       "  </thead>\n",
       "  <tbody>\n",
       "    <tr>\n",
       "      <th>0</th>\n",
       "      <td>3667963787</td>\n",
       "      <td>3312258926</td>\n",
       "      <td>2019-08-15</td>\n",
       "      <td>1650</td>\n",
       "      <td>B</td>\n",
       "    </tr>\n",
       "    <tr>\n",
       "      <th>1</th>\n",
       "      <td>2804400009</td>\n",
       "      <td>3642806036</td>\n",
       "      <td>2019-08-15</td>\n",
       "      <td>730</td>\n",
       "      <td>B</td>\n",
       "    </tr>\n",
       "    <tr>\n",
       "      <th>2</th>\n",
       "      <td>2961555356</td>\n",
       "      <td>4069496402</td>\n",
       "      <td>2019-08-15</td>\n",
       "      <td>400</td>\n",
       "      <td>A</td>\n",
       "    </tr>\n",
       "    <tr>\n",
       "      <th>3</th>\n",
       "      <td>3797467345</td>\n",
       "      <td>1196621759</td>\n",
       "      <td>2019-08-15</td>\n",
       "      <td>9759</td>\n",
       "      <td>B</td>\n",
       "    </tr>\n",
       "    <tr>\n",
       "      <th>4</th>\n",
       "      <td>2282983706</td>\n",
       "      <td>2322279887</td>\n",
       "      <td>2019-08-15</td>\n",
       "      <td>2308</td>\n",
       "      <td>B</td>\n",
       "    </tr>\n",
       "  </tbody>\n",
       "</table>\n",
       "</div>"
      ],
      "text/plain": [
       "   transactionId   visitorId        date  revenue group\n",
       "0     3667963787  3312258926  2019-08-15     1650     B\n",
       "1     2804400009  3642806036  2019-08-15      730     B\n",
       "2     2961555356  4069496402  2019-08-15      400     A\n",
       "3     3797467345  1196621759  2019-08-15     9759     B\n",
       "4     2282983706  2322279887  2019-08-15     2308     B"
      ]
     },
     "metadata": {},
     "output_type": "display_data"
    },
    {
     "name": "stdout",
     "output_type": "stream",
     "text": [
      "\n",
      "\n",
      ".......... Тип данных ..........\n",
      "\n",
      "<class 'pandas.core.frame.DataFrame'>\n",
      "RangeIndex: 1197 entries, 0 to 1196\n",
      "Data columns (total 5 columns):\n",
      " #   Column         Non-Null Count  Dtype \n",
      "---  ------         --------------  ----- \n",
      " 0   transactionId  1197 non-null   int64 \n",
      " 1   visitorId      1197 non-null   int64 \n",
      " 2   date           1197 non-null   object\n",
      " 3   revenue        1197 non-null   int64 \n",
      " 4   group          1197 non-null   object\n",
      "dtypes: int64(3), object(2)\n",
      "memory usage: 46.9+ KB\n",
      "\n",
      "\n",
      ".......... Пропуски ..........\n",
      "\n",
      "Пропусков нет\n",
      "\n",
      "\n",
      ".......... Дубликаты ..........\n",
      "Дубликатов нет\n"
     ]
    }
   ],
   "source": [
    "first_look(orders)"
   ]
  },
  {
   "cell_type": "code",
   "execution_count": 7,
   "metadata": {
    "scrolled": false
   },
   "outputs": [
    {
     "name": "stdout",
     "output_type": "stream",
     "text": [
      ".......... Первые 5 строк ..........\n"
     ]
    },
    {
     "data": {
      "text/html": [
       "<div>\n",
       "<style scoped>\n",
       "    .dataframe tbody tr th:only-of-type {\n",
       "        vertical-align: middle;\n",
       "    }\n",
       "\n",
       "    .dataframe tbody tr th {\n",
       "        vertical-align: top;\n",
       "    }\n",
       "\n",
       "    .dataframe thead th {\n",
       "        text-align: right;\n",
       "    }\n",
       "</style>\n",
       "<table border=\"1\" class=\"dataframe\">\n",
       "  <thead>\n",
       "    <tr style=\"text-align: right;\">\n",
       "      <th></th>\n",
       "      <th>date</th>\n",
       "      <th>group</th>\n",
       "      <th>visitors</th>\n",
       "    </tr>\n",
       "  </thead>\n",
       "  <tbody>\n",
       "    <tr>\n",
       "      <th>0</th>\n",
       "      <td>2019-08-01</td>\n",
       "      <td>A</td>\n",
       "      <td>719</td>\n",
       "    </tr>\n",
       "    <tr>\n",
       "      <th>1</th>\n",
       "      <td>2019-08-02</td>\n",
       "      <td>A</td>\n",
       "      <td>619</td>\n",
       "    </tr>\n",
       "    <tr>\n",
       "      <th>2</th>\n",
       "      <td>2019-08-03</td>\n",
       "      <td>A</td>\n",
       "      <td>507</td>\n",
       "    </tr>\n",
       "    <tr>\n",
       "      <th>3</th>\n",
       "      <td>2019-08-04</td>\n",
       "      <td>A</td>\n",
       "      <td>717</td>\n",
       "    </tr>\n",
       "    <tr>\n",
       "      <th>4</th>\n",
       "      <td>2019-08-05</td>\n",
       "      <td>A</td>\n",
       "      <td>756</td>\n",
       "    </tr>\n",
       "  </tbody>\n",
       "</table>\n",
       "</div>"
      ],
      "text/plain": [
       "         date group  visitors\n",
       "0  2019-08-01     A       719\n",
       "1  2019-08-02     A       619\n",
       "2  2019-08-03     A       507\n",
       "3  2019-08-04     A       717\n",
       "4  2019-08-05     A       756"
      ]
     },
     "metadata": {},
     "output_type": "display_data"
    },
    {
     "name": "stdout",
     "output_type": "stream",
     "text": [
      "\n",
      "\n",
      ".......... Тип данных ..........\n",
      "\n",
      "<class 'pandas.core.frame.DataFrame'>\n",
      "RangeIndex: 62 entries, 0 to 61\n",
      "Data columns (total 3 columns):\n",
      " #   Column    Non-Null Count  Dtype \n",
      "---  ------    --------------  ----- \n",
      " 0   date      62 non-null     object\n",
      " 1   group     62 non-null     object\n",
      " 2   visitors  62 non-null     int64 \n",
      "dtypes: int64(1), object(2)\n",
      "memory usage: 1.6+ KB\n",
      "\n",
      "\n",
      ".......... Пропуски ..........\n",
      "\n",
      "Пропусков нет\n",
      "\n",
      "\n",
      ".......... Дубликаты ..........\n",
      "Дубликатов нет\n"
     ]
    }
   ],
   "source": [
    "first_look(visitors)"
   ]
  },
  {
   "cell_type": "code",
   "execution_count": 8,
   "metadata": {},
   "outputs": [
    {
     "name": "stdout",
     "output_type": "stream",
     "text": [
      "object object\n"
     ]
    }
   ],
   "source": [
    "print(orders['date'].dtype,\n",
    "      visitors['date'].dtype)"
   ]
  },
  {
   "cell_type": "code",
   "execution_count": 9,
   "metadata": {},
   "outputs": [
    {
     "name": "stdout",
     "output_type": "stream",
     "text": [
      "datetime64[ns] datetime64[ns]\n"
     ]
    }
   ],
   "source": [
    "# преобразование данных о времени\n",
    "orders['date'] = orders['date'].map(\n",
    "    lambda x: dt.datetime.strptime(x, '%Y-%m-%d')\n",
    ")\n",
    "\n",
    "visitors['date'] = visitors['date'].map(\n",
    "    lambda x: dt.datetime.strptime(x, '%Y-%m-%d')\n",
    ")\n",
    "print(orders['date'].dtype,\n",
    "      visitors['date'].dtype)"
   ]
  },
  {
   "cell_type": "markdown",
   "metadata": {},
   "source": [
    "Для целей А/В тестирования важно проверить, что пользователи из разных групп не пересекаются"
   ]
  },
  {
   "cell_type": "code",
   "execution_count": 10,
   "metadata": {},
   "outputs": [],
   "source": [
    "# найдем этих \"двойных\" пользователей и запишем в переменную a_b_users\n",
    "a_b_users = np.intersect1d(orders.query('group == \"A\"')['visitorId'].unique(),\n",
    "                                  orders.query('group == \"B\"')['visitorId'].unique()) "
   ]
  },
  {
   "cell_type": "code",
   "execution_count": 11,
   "metadata": {},
   "outputs": [
    {
     "data": {
      "text/plain": [
       "58"
      ]
     },
     "execution_count": 11,
     "metadata": {},
     "output_type": "execute_result"
    }
   ],
   "source": [
    "# проверим количество\n",
    "len(a_b_users)"
   ]
  },
  {
   "cell_type": "code",
   "execution_count": 12,
   "metadata": {},
   "outputs": [
    {
     "data": {
      "text/plain": [
       "1031"
      ]
     },
     "execution_count": 12,
     "metadata": {},
     "output_type": "execute_result"
    }
   ],
   "source": [
    "orders['visitorId'].nunique()"
   ]
  },
  {
   "cell_type": "code",
   "execution_count": 13,
   "metadata": {},
   "outputs": [],
   "source": [
    "orders = orders[~orders['visitorId'].isin(a_b_users)]"
   ]
  },
  {
   "cell_type": "code",
   "execution_count": 14,
   "metadata": {},
   "outputs": [
    {
     "data": {
      "text/plain": [
       "973"
      ]
     },
     "execution_count": 14,
     "metadata": {},
     "output_type": "execute_result"
    }
   ],
   "source": [
    "orders['visitorId'].nunique()"
   ]
  },
  {
   "cell_type": "markdown",
   "metadata": {},
   "source": [
    "## Приоритизация гипотез"
   ]
  },
  {
   "cell_type": "markdown",
   "metadata": {},
   "source": [
    "Чтобы максимизировать ожидаемое улучшение ключевых метрик бизнеса, приоритизируем сформулированные гипотезы"
   ]
  },
  {
   "cell_type": "markdown",
   "metadata": {},
   "source": [
    "### Framework ICE"
   ]
  },
  {
   "cell_type": "code",
   "execution_count": 15,
   "metadata": {},
   "outputs": [
    {
     "data": {
      "text/html": [
       "<div>\n",
       "<style scoped>\n",
       "    .dataframe tbody tr th:only-of-type {\n",
       "        vertical-align: middle;\n",
       "    }\n",
       "\n",
       "    .dataframe tbody tr th {\n",
       "        vertical-align: top;\n",
       "    }\n",
       "\n",
       "    .dataframe thead th {\n",
       "        text-align: right;\n",
       "    }\n",
       "</style>\n",
       "<table border=\"1\" class=\"dataframe\">\n",
       "  <thead>\n",
       "    <tr style=\"text-align: right;\">\n",
       "      <th></th>\n",
       "      <th>hypothesis</th>\n",
       "      <th>reach</th>\n",
       "      <th>impact</th>\n",
       "      <th>confidence</th>\n",
       "      <th>efforts</th>\n",
       "    </tr>\n",
       "  </thead>\n",
       "  <tbody>\n",
       "    <tr>\n",
       "      <th>0</th>\n",
       "      <td>Добавить два новых канала привлечения трафика, что позволит привлекать на 30% больше пользователей</td>\n",
       "      <td>3</td>\n",
       "      <td>10</td>\n",
       "      <td>8</td>\n",
       "      <td>6</td>\n",
       "    </tr>\n",
       "    <tr>\n",
       "      <th>1</th>\n",
       "      <td>Запустить собственную службу доставки, что сократит срок доставки заказов</td>\n",
       "      <td>2</td>\n",
       "      <td>5</td>\n",
       "      <td>4</td>\n",
       "      <td>10</td>\n",
       "    </tr>\n",
       "    <tr>\n",
       "      <th>2</th>\n",
       "      <td>Добавить блоки рекомендаций товаров на сайт интернет магазина, чтобы повысить конверсию и средний чек заказа</td>\n",
       "      <td>8</td>\n",
       "      <td>3</td>\n",
       "      <td>7</td>\n",
       "      <td>3</td>\n",
       "    </tr>\n",
       "    <tr>\n",
       "      <th>3</th>\n",
       "      <td>Изменить структура категорий, что увеличит конверсию, т.к. пользователи быстрее найдут нужный товар</td>\n",
       "      <td>8</td>\n",
       "      <td>3</td>\n",
       "      <td>3</td>\n",
       "      <td>8</td>\n",
       "    </tr>\n",
       "    <tr>\n",
       "      <th>4</th>\n",
       "      <td>Изменить цвет фона главной страницы, чтобы увеличить вовлеченность пользователей</td>\n",
       "      <td>3</td>\n",
       "      <td>1</td>\n",
       "      <td>1</td>\n",
       "      <td>1</td>\n",
       "    </tr>\n",
       "    <tr>\n",
       "      <th>5</th>\n",
       "      <td>Добавить страницу отзывов клиентов о магазине, что позволит увеличить количество заказов</td>\n",
       "      <td>3</td>\n",
       "      <td>2</td>\n",
       "      <td>2</td>\n",
       "      <td>3</td>\n",
       "    </tr>\n",
       "    <tr>\n",
       "      <th>6</th>\n",
       "      <td>Показать на главной странице баннеры с актуальными акциями и распродажами, чтобы увеличить конверсию</td>\n",
       "      <td>5</td>\n",
       "      <td>3</td>\n",
       "      <td>8</td>\n",
       "      <td>3</td>\n",
       "    </tr>\n",
       "    <tr>\n",
       "      <th>7</th>\n",
       "      <td>Добавить форму подписки на все основные страницы, чтобы собрать базу клиентов для email-рассылок</td>\n",
       "      <td>10</td>\n",
       "      <td>7</td>\n",
       "      <td>8</td>\n",
       "      <td>5</td>\n",
       "    </tr>\n",
       "    <tr>\n",
       "      <th>8</th>\n",
       "      <td>Запустить акцию, дающую скидку на товар в день рождения</td>\n",
       "      <td>1</td>\n",
       "      <td>9</td>\n",
       "      <td>9</td>\n",
       "      <td>5</td>\n",
       "    </tr>\n",
       "  </tbody>\n",
       "</table>\n",
       "</div>"
      ],
      "text/plain": [
       "                                                                                                     hypothesis  \\\n",
       "0            Добавить два новых канала привлечения трафика, что позволит привлекать на 30% больше пользователей   \n",
       "1                                     Запустить собственную службу доставки, что сократит срок доставки заказов   \n",
       "2  Добавить блоки рекомендаций товаров на сайт интернет магазина, чтобы повысить конверсию и средний чек заказа   \n",
       "3           Изменить структура категорий, что увеличит конверсию, т.к. пользователи быстрее найдут нужный товар   \n",
       "4                              Изменить цвет фона главной страницы, чтобы увеличить вовлеченность пользователей   \n",
       "5                      Добавить страницу отзывов клиентов о магазине, что позволит увеличить количество заказов   \n",
       "6          Показать на главной странице баннеры с актуальными акциями и распродажами, чтобы увеличить конверсию   \n",
       "7              Добавить форму подписки на все основные страницы, чтобы собрать базу клиентов для email-рассылок   \n",
       "8                                                       Запустить акцию, дающую скидку на товар в день рождения   \n",
       "\n",
       "   reach  impact  confidence  efforts  \n",
       "0      3      10           8        6  \n",
       "1      2       5           4       10  \n",
       "2      8       3           7        3  \n",
       "3      8       3           3        8  \n",
       "4      3       1           1        1  \n",
       "5      3       2           2        3  \n",
       "6      5       3           8        3  \n",
       "7     10       7           8        5  \n",
       "8      1       9           9        5  "
      ]
     },
     "metadata": {},
     "output_type": "display_data"
    },
    {
     "data": {
      "text/html": [
       "<div>\n",
       "<style scoped>\n",
       "    .dataframe tbody tr th:only-of-type {\n",
       "        vertical-align: middle;\n",
       "    }\n",
       "\n",
       "    .dataframe tbody tr th {\n",
       "        vertical-align: top;\n",
       "    }\n",
       "\n",
       "    .dataframe thead th {\n",
       "        text-align: right;\n",
       "    }\n",
       "</style>\n",
       "<table border=\"1\" class=\"dataframe\">\n",
       "  <thead>\n",
       "    <tr style=\"text-align: right;\">\n",
       "      <th></th>\n",
       "      <th>hypothesis</th>\n",
       "      <th>ICE</th>\n",
       "    </tr>\n",
       "  </thead>\n",
       "  <tbody>\n",
       "    <tr>\n",
       "      <th>8</th>\n",
       "      <td>Запустить акцию, дающую скидку на товар в день рождения</td>\n",
       "      <td>16.200000</td>\n",
       "    </tr>\n",
       "    <tr>\n",
       "      <th>0</th>\n",
       "      <td>Добавить два новых канала привлечения трафика, что позволит привлекать на 30% больше пользователей</td>\n",
       "      <td>13.333333</td>\n",
       "    </tr>\n",
       "    <tr>\n",
       "      <th>7</th>\n",
       "      <td>Добавить форму подписки на все основные страницы, чтобы собрать базу клиентов для email-рассылок</td>\n",
       "      <td>11.200000</td>\n",
       "    </tr>\n",
       "    <tr>\n",
       "      <th>6</th>\n",
       "      <td>Показать на главной странице баннеры с актуальными акциями и распродажами, чтобы увеличить конверсию</td>\n",
       "      <td>8.000000</td>\n",
       "    </tr>\n",
       "    <tr>\n",
       "      <th>2</th>\n",
       "      <td>Добавить блоки рекомендаций товаров на сайт интернет магазина, чтобы повысить конверсию и средний чек заказа</td>\n",
       "      <td>7.000000</td>\n",
       "    </tr>\n",
       "    <tr>\n",
       "      <th>1</th>\n",
       "      <td>Запустить собственную службу доставки, что сократит срок доставки заказов</td>\n",
       "      <td>2.000000</td>\n",
       "    </tr>\n",
       "    <tr>\n",
       "      <th>5</th>\n",
       "      <td>Добавить страницу отзывов клиентов о магазине, что позволит увеличить количество заказов</td>\n",
       "      <td>1.333333</td>\n",
       "    </tr>\n",
       "    <tr>\n",
       "      <th>3</th>\n",
       "      <td>Изменить структура категорий, что увеличит конверсию, т.к. пользователи быстрее найдут нужный товар</td>\n",
       "      <td>1.125000</td>\n",
       "    </tr>\n",
       "    <tr>\n",
       "      <th>4</th>\n",
       "      <td>Изменить цвет фона главной страницы, чтобы увеличить вовлеченность пользователей</td>\n",
       "      <td>1.000000</td>\n",
       "    </tr>\n",
       "  </tbody>\n",
       "</table>\n",
       "</div>"
      ],
      "text/plain": [
       "                                                                                                     hypothesis  \\\n",
       "8                                                       Запустить акцию, дающую скидку на товар в день рождения   \n",
       "0            Добавить два новых канала привлечения трафика, что позволит привлекать на 30% больше пользователей   \n",
       "7              Добавить форму подписки на все основные страницы, чтобы собрать базу клиентов для email-рассылок   \n",
       "6          Показать на главной странице баннеры с актуальными акциями и распродажами, чтобы увеличить конверсию   \n",
       "2  Добавить блоки рекомендаций товаров на сайт интернет магазина, чтобы повысить конверсию и средний чек заказа   \n",
       "1                                     Запустить собственную службу доставки, что сократит срок доставки заказов   \n",
       "5                      Добавить страницу отзывов клиентов о магазине, что позволит увеличить количество заказов   \n",
       "3           Изменить структура категорий, что увеличит конверсию, т.к. пользователи быстрее найдут нужный товар   \n",
       "4                              Изменить цвет фона главной страницы, чтобы увеличить вовлеченность пользователей   \n",
       "\n",
       "         ICE  \n",
       "8  16.200000  \n",
       "0  13.333333  \n",
       "7  11.200000  \n",
       "6   8.000000  \n",
       "2   7.000000  \n",
       "1   2.000000  \n",
       "5   1.333333  \n",
       "3   1.125000  \n",
       "4   1.000000  "
      ]
     },
     "execution_count": 15,
     "metadata": {},
     "output_type": "execute_result"
    }
   ],
   "source": [
    "display(hypothesis)\n",
    "hypothesis['ICE'] = hypothesis['impact']*hypothesis['confidence']/hypothesis['efforts']\n",
    "hypothesis[['hypothesis','ICE']].sort_values(by='ICE', ascending=False)"
   ]
  },
  {
   "cell_type": "markdown",
   "metadata": {},
   "source": [
    "### Вывод"
   ]
  },
  {
   "cell_type": "markdown",
   "metadata": {},
   "source": [
    "Наиболее перспективны гипотезы 8, 0, 7 и 6"
   ]
  },
  {
   "cell_type": "markdown",
   "metadata": {},
   "source": [
    "### Framework RICE"
   ]
  },
  {
   "cell_type": "code",
   "execution_count": 16,
   "metadata": {},
   "outputs": [
    {
     "data": {
      "text/html": [
       "<div>\n",
       "<style scoped>\n",
       "    .dataframe tbody tr th:only-of-type {\n",
       "        vertical-align: middle;\n",
       "    }\n",
       "\n",
       "    .dataframe tbody tr th {\n",
       "        vertical-align: top;\n",
       "    }\n",
       "\n",
       "    .dataframe thead th {\n",
       "        text-align: right;\n",
       "    }\n",
       "</style>\n",
       "<table border=\"1\" class=\"dataframe\">\n",
       "  <thead>\n",
       "    <tr style=\"text-align: right;\">\n",
       "      <th></th>\n",
       "      <th>hypothesis</th>\n",
       "      <th>RICE</th>\n",
       "    </tr>\n",
       "  </thead>\n",
       "  <tbody>\n",
       "    <tr>\n",
       "      <th>7</th>\n",
       "      <td>Добавить форму подписки на все основные страницы, чтобы собрать базу клиентов для email-рассылок</td>\n",
       "      <td>112.0</td>\n",
       "    </tr>\n",
       "    <tr>\n",
       "      <th>2</th>\n",
       "      <td>Добавить блоки рекомендаций товаров на сайт интернет магазина, чтобы повысить конверсию и средний чек заказа</td>\n",
       "      <td>56.0</td>\n",
       "    </tr>\n",
       "    <tr>\n",
       "      <th>0</th>\n",
       "      <td>Добавить два новых канала привлечения трафика, что позволит привлекать на 30% больше пользователей</td>\n",
       "      <td>40.0</td>\n",
       "    </tr>\n",
       "    <tr>\n",
       "      <th>6</th>\n",
       "      <td>Показать на главной странице баннеры с актуальными акциями и распродажами, чтобы увеличить конверсию</td>\n",
       "      <td>40.0</td>\n",
       "    </tr>\n",
       "    <tr>\n",
       "      <th>8</th>\n",
       "      <td>Запустить акцию, дающую скидку на товар в день рождения</td>\n",
       "      <td>16.2</td>\n",
       "    </tr>\n",
       "    <tr>\n",
       "      <th>3</th>\n",
       "      <td>Изменить структура категорий, что увеличит конверсию, т.к. пользователи быстрее найдут нужный товар</td>\n",
       "      <td>9.0</td>\n",
       "    </tr>\n",
       "    <tr>\n",
       "      <th>1</th>\n",
       "      <td>Запустить собственную службу доставки, что сократит срок доставки заказов</td>\n",
       "      <td>4.0</td>\n",
       "    </tr>\n",
       "    <tr>\n",
       "      <th>5</th>\n",
       "      <td>Добавить страницу отзывов клиентов о магазине, что позволит увеличить количество заказов</td>\n",
       "      <td>4.0</td>\n",
       "    </tr>\n",
       "    <tr>\n",
       "      <th>4</th>\n",
       "      <td>Изменить цвет фона главной страницы, чтобы увеличить вовлеченность пользователей</td>\n",
       "      <td>3.0</td>\n",
       "    </tr>\n",
       "  </tbody>\n",
       "</table>\n",
       "</div>"
      ],
      "text/plain": [
       "                                                                                                     hypothesis  \\\n",
       "7              Добавить форму подписки на все основные страницы, чтобы собрать базу клиентов для email-рассылок   \n",
       "2  Добавить блоки рекомендаций товаров на сайт интернет магазина, чтобы повысить конверсию и средний чек заказа   \n",
       "0            Добавить два новых канала привлечения трафика, что позволит привлекать на 30% больше пользователей   \n",
       "6          Показать на главной странице баннеры с актуальными акциями и распродажами, чтобы увеличить конверсию   \n",
       "8                                                       Запустить акцию, дающую скидку на товар в день рождения   \n",
       "3           Изменить структура категорий, что увеличит конверсию, т.к. пользователи быстрее найдут нужный товар   \n",
       "1                                     Запустить собственную службу доставки, что сократит срок доставки заказов   \n",
       "5                      Добавить страницу отзывов клиентов о магазине, что позволит увеличить количество заказов   \n",
       "4                              Изменить цвет фона главной страницы, чтобы увеличить вовлеченность пользователей   \n",
       "\n",
       "    RICE  \n",
       "7  112.0  \n",
       "2   56.0  \n",
       "0   40.0  \n",
       "6   40.0  \n",
       "8   16.2  \n",
       "3    9.0  \n",
       "1    4.0  \n",
       "5    4.0  \n",
       "4    3.0  "
      ]
     },
     "execution_count": 16,
     "metadata": {},
     "output_type": "execute_result"
    }
   ],
   "source": [
    "hypothesis['RICE'] = hypothesis['reach']*hypothesis['impact']*hypothesis['confidence']/hypothesis['efforts']\n",
    "hypothesis[['hypothesis','RICE']].sort_values(by='RICE',ascending=False)"
   ]
  },
  {
   "cell_type": "code",
   "execution_count": 17,
   "metadata": {},
   "outputs": [
    {
     "data": {
      "text/html": [
       "<style  type=\"text/css\" >\n",
       "#T_d9607_row0_col2,#T_d9607_row0_col3{\n",
       "            width:  10em;\n",
       "             height:  80%;\n",
       "            background:  linear-gradient(90deg,lightblue 14.5%, transparent 14.5%);\n",
       "            text-align:  center;\n",
       "        }#T_d9607_row1_col2{\n",
       "            width:  10em;\n",
       "             height:  80%;\n",
       "            background:  linear-gradient(90deg,lightblue 11.9%, transparent 11.9%);\n",
       "            text-align:  center;\n",
       "        }#T_d9607_row1_col3,#T_d9607_row3_col3{\n",
       "            width:  10em;\n",
       "             height:  80%;\n",
       "            background:  linear-gradient(90deg,lightblue 35.7%, transparent 35.7%);\n",
       "            text-align:  center;\n",
       "        }#T_d9607_row2_col2{\n",
       "            width:  10em;\n",
       "             height:  80%;\n",
       "            background:  linear-gradient(90deg,lightblue 10.0%, transparent 10.0%);\n",
       "            text-align:  center;\n",
       "        }#T_d9607_row2_col3{\n",
       "            width:  10em;\n",
       "             height:  80%;\n",
       "            background:  linear-gradient(90deg,lightblue 100.0%, transparent 100.0%);\n",
       "            text-align:  center;\n",
       "        }#T_d9607_row3_col2{\n",
       "            width:  10em;\n",
       "             height:  80%;\n",
       "            background:  linear-gradient(90deg,lightblue 7.1%, transparent 7.1%);\n",
       "            text-align:  center;\n",
       "        }#T_d9607_row4_col2{\n",
       "            width:  10em;\n",
       "             height:  80%;\n",
       "            background:  linear-gradient(90deg,lightblue 6.2%, transparent 6.2%);\n",
       "            text-align:  center;\n",
       "        }#T_d9607_row4_col3{\n",
       "            width:  10em;\n",
       "             height:  80%;\n",
       "            background:  linear-gradient(90deg,lightblue 50.0%, transparent 50.0%);\n",
       "            text-align:  center;\n",
       "        }#T_d9607_row5_col2{\n",
       "            width:  10em;\n",
       "             height:  80%;\n",
       "            background:  linear-gradient(90deg,lightblue 1.8%, transparent 1.8%);\n",
       "            text-align:  center;\n",
       "        }#T_d9607_row5_col3,#T_d9607_row6_col3{\n",
       "            width:  10em;\n",
       "             height:  80%;\n",
       "            background:  linear-gradient(90deg,lightblue 3.6%, transparent 3.6%);\n",
       "            text-align:  center;\n",
       "        }#T_d9607_row6_col2{\n",
       "            width:  10em;\n",
       "             height:  80%;\n",
       "            background:  linear-gradient(90deg,lightblue 1.2%, transparent 1.2%);\n",
       "            text-align:  center;\n",
       "        }#T_d9607_row7_col2{\n",
       "            width:  10em;\n",
       "             height:  80%;\n",
       "            background:  linear-gradient(90deg,lightblue 1.0%, transparent 1.0%);\n",
       "            text-align:  center;\n",
       "        }#T_d9607_row7_col3{\n",
       "            width:  10em;\n",
       "             height:  80%;\n",
       "            background:  linear-gradient(90deg,lightblue 8.0%, transparent 8.0%);\n",
       "            text-align:  center;\n",
       "        }#T_d9607_row8_col2{\n",
       "            width:  10em;\n",
       "             height:  80%;\n",
       "            background:  linear-gradient(90deg,lightblue 0.9%, transparent 0.9%);\n",
       "            text-align:  center;\n",
       "        }#T_d9607_row8_col3{\n",
       "            width:  10em;\n",
       "             height:  80%;\n",
       "            background:  linear-gradient(90deg,lightblue 2.7%, transparent 2.7%);\n",
       "            text-align:  center;\n",
       "        }</style><table id=\"T_d9607_\" ><thead>    <tr>        <th class=\"blank level0\" ></th>        <th class=\"col_heading level0 col0\" >index</th>        <th class=\"col_heading level0 col1\" >hypothesis</th>        <th class=\"col_heading level0 col2\" >ICE</th>        <th class=\"col_heading level0 col3\" >RICE</th>    </tr></thead><tbody>\n",
       "                <tr>\n",
       "                        <th id=\"T_d9607_level0_row0\" class=\"row_heading level0 row0\" >0</th>\n",
       "                        <td id=\"T_d9607_row0_col0\" class=\"data row0 col0\" >8</td>\n",
       "                        <td id=\"T_d9607_row0_col1\" class=\"data row0 col1\" >Запустить акцию, дающую скидку на товар в день рождения</td>\n",
       "                        <td id=\"T_d9607_row0_col2\" class=\"data row0 col2\" >16.20</td>\n",
       "                        <td id=\"T_d9607_row0_col3\" class=\"data row0 col3\" >16.20</td>\n",
       "            </tr>\n",
       "            <tr>\n",
       "                        <th id=\"T_d9607_level0_row1\" class=\"row_heading level0 row1\" >1</th>\n",
       "                        <td id=\"T_d9607_row1_col0\" class=\"data row1 col0\" >0</td>\n",
       "                        <td id=\"T_d9607_row1_col1\" class=\"data row1 col1\" >Добавить два новых канала привлечения трафика, что позволит привлекать на 30% больше пользователей</td>\n",
       "                        <td id=\"T_d9607_row1_col2\" class=\"data row1 col2\" >13.33</td>\n",
       "                        <td id=\"T_d9607_row1_col3\" class=\"data row1 col3\" >40.00</td>\n",
       "            </tr>\n",
       "            <tr>\n",
       "                        <th id=\"T_d9607_level0_row2\" class=\"row_heading level0 row2\" >2</th>\n",
       "                        <td id=\"T_d9607_row2_col0\" class=\"data row2 col0\" >7</td>\n",
       "                        <td id=\"T_d9607_row2_col1\" class=\"data row2 col1\" >Добавить форму подписки на все основные страницы, чтобы собрать базу клиентов для email-рассылок</td>\n",
       "                        <td id=\"T_d9607_row2_col2\" class=\"data row2 col2\" >11.20</td>\n",
       "                        <td id=\"T_d9607_row2_col3\" class=\"data row2 col3\" >112.00</td>\n",
       "            </tr>\n",
       "            <tr>\n",
       "                        <th id=\"T_d9607_level0_row3\" class=\"row_heading level0 row3\" >3</th>\n",
       "                        <td id=\"T_d9607_row3_col0\" class=\"data row3 col0\" >6</td>\n",
       "                        <td id=\"T_d9607_row3_col1\" class=\"data row3 col1\" >Показать на главной странице баннеры с актуальными акциями и распродажами, чтобы увеличить конверсию</td>\n",
       "                        <td id=\"T_d9607_row3_col2\" class=\"data row3 col2\" >8.00</td>\n",
       "                        <td id=\"T_d9607_row3_col3\" class=\"data row3 col3\" >40.00</td>\n",
       "            </tr>\n",
       "            <tr>\n",
       "                        <th id=\"T_d9607_level0_row4\" class=\"row_heading level0 row4\" >4</th>\n",
       "                        <td id=\"T_d9607_row4_col0\" class=\"data row4 col0\" >2</td>\n",
       "                        <td id=\"T_d9607_row4_col1\" class=\"data row4 col1\" >Добавить блоки рекомендаций товаров на сайт интернет магазина, чтобы повысить конверсию и средний чек заказа</td>\n",
       "                        <td id=\"T_d9607_row4_col2\" class=\"data row4 col2\" >7.00</td>\n",
       "                        <td id=\"T_d9607_row4_col3\" class=\"data row4 col3\" >56.00</td>\n",
       "            </tr>\n",
       "            <tr>\n",
       "                        <th id=\"T_d9607_level0_row5\" class=\"row_heading level0 row5\" >5</th>\n",
       "                        <td id=\"T_d9607_row5_col0\" class=\"data row5 col0\" >1</td>\n",
       "                        <td id=\"T_d9607_row5_col1\" class=\"data row5 col1\" >Запустить собственную службу доставки, что сократит срок доставки заказов</td>\n",
       "                        <td id=\"T_d9607_row5_col2\" class=\"data row5 col2\" >2.00</td>\n",
       "                        <td id=\"T_d9607_row5_col3\" class=\"data row5 col3\" >4.00</td>\n",
       "            </tr>\n",
       "            <tr>\n",
       "                        <th id=\"T_d9607_level0_row6\" class=\"row_heading level0 row6\" >6</th>\n",
       "                        <td id=\"T_d9607_row6_col0\" class=\"data row6 col0\" >5</td>\n",
       "                        <td id=\"T_d9607_row6_col1\" class=\"data row6 col1\" >Добавить страницу отзывов клиентов о магазине, что позволит увеличить количество заказов</td>\n",
       "                        <td id=\"T_d9607_row6_col2\" class=\"data row6 col2\" >1.33</td>\n",
       "                        <td id=\"T_d9607_row6_col3\" class=\"data row6 col3\" >4.00</td>\n",
       "            </tr>\n",
       "            <tr>\n",
       "                        <th id=\"T_d9607_level0_row7\" class=\"row_heading level0 row7\" >7</th>\n",
       "                        <td id=\"T_d9607_row7_col0\" class=\"data row7 col0\" >3</td>\n",
       "                        <td id=\"T_d9607_row7_col1\" class=\"data row7 col1\" >Изменить структура категорий, что увеличит конверсию, т.к. пользователи быстрее найдут нужный товар</td>\n",
       "                        <td id=\"T_d9607_row7_col2\" class=\"data row7 col2\" >1.12</td>\n",
       "                        <td id=\"T_d9607_row7_col3\" class=\"data row7 col3\" >9.00</td>\n",
       "            </tr>\n",
       "            <tr>\n",
       "                        <th id=\"T_d9607_level0_row8\" class=\"row_heading level0 row8\" >8</th>\n",
       "                        <td id=\"T_d9607_row8_col0\" class=\"data row8 col0\" >4</td>\n",
       "                        <td id=\"T_d9607_row8_col1\" class=\"data row8 col1\" >Изменить цвет фона главной страницы, чтобы увеличить вовлеченность пользователей</td>\n",
       "                        <td id=\"T_d9607_row8_col2\" class=\"data row8 col2\" >1.00</td>\n",
       "                        <td id=\"T_d9607_row8_col3\" class=\"data row8 col3\" >3.00</td>\n",
       "            </tr>\n",
       "    </tbody></table>"
      ],
      "text/plain": [
       "<pandas.io.formats.style.Styler at 0x7feaa62a6400>"
      ]
     },
     "metadata": {},
     "output_type": "display_data"
    }
   ],
   "source": [
    "display(hypothesis[['hypothesis','ICE','RICE']].sort_values(by=['ICE', 'RICE'], ascending=False). \\\n",
    "                      reset_index(drop=False).style. \\\n",
    "                      format({'ICE': '{:.2f}', 'RICE' : '{:.2f}'}). \\\n",
    "                      bar(subset=['RICE', 'ICE'], \n",
    "                          align='mid', \n",
    "                          color = ['lightblue'], \n",
    "                          vmax=hypothesis['RICE'].max()). \\\n",
    "                      set_properties(**{'text-align':'center'}, subset=['ICE', 'RICE']))"
   ]
  },
  {
   "cell_type": "markdown",
   "metadata": {},
   "source": [
    "### Вывод"
   ]
  },
  {
   "cell_type": "markdown",
   "metadata": {},
   "source": [
    "И снова наиболее перспективны гипотезы: 0, 7 и 6. Однако на первом месте гипотеза 7. Гипотеза 8, лидирующая в ICE, в лидеры не попала из-за маленького параметра Reach. Зато гипотеза номер 2 поднялась с пятого на второе место, потому что её Reach равен 8."
   ]
  },
  {
   "cell_type": "markdown",
   "metadata": {},
   "source": [
    "Кроме силы гипотезы нужно учитывать то, как много пользователей она затронет. Номер 7 и сильная и имеет хороший охват "
   ]
  },
  {
   "cell_type": "markdown",
   "metadata": {},
   "source": [
    "## Анализ A/B-теста"
   ]
  },
  {
   "cell_type": "markdown",
   "metadata": {},
   "source": [
    "### График кумулятивной выручки по группам"
   ]
  },
  {
   "cell_type": "code",
   "execution_count": 18,
   "metadata": {},
   "outputs": [
    {
     "data": {
      "text/html": [
       "<div>\n",
       "<style scoped>\n",
       "    .dataframe tbody tr th:only-of-type {\n",
       "        vertical-align: middle;\n",
       "    }\n",
       "\n",
       "    .dataframe tbody tr th {\n",
       "        vertical-align: top;\n",
       "    }\n",
       "\n",
       "    .dataframe thead th {\n",
       "        text-align: right;\n",
       "    }\n",
       "</style>\n",
       "<table border=\"1\" class=\"dataframe\">\n",
       "  <thead>\n",
       "    <tr style=\"text-align: right;\">\n",
       "      <th></th>\n",
       "      <th>date</th>\n",
       "      <th>group</th>\n",
       "    </tr>\n",
       "  </thead>\n",
       "  <tbody>\n",
       "    <tr>\n",
       "      <th>0</th>\n",
       "      <td>2019-08-15</td>\n",
       "      <td>B</td>\n",
       "    </tr>\n",
       "    <tr>\n",
       "      <th>7</th>\n",
       "      <td>2019-08-15</td>\n",
       "      <td>A</td>\n",
       "    </tr>\n",
       "    <tr>\n",
       "      <th>45</th>\n",
       "      <td>2019-08-16</td>\n",
       "      <td>A</td>\n",
       "    </tr>\n",
       "    <tr>\n",
       "      <th>47</th>\n",
       "      <td>2019-08-16</td>\n",
       "      <td>B</td>\n",
       "    </tr>\n",
       "    <tr>\n",
       "      <th>55</th>\n",
       "      <td>2019-08-01</td>\n",
       "      <td>A</td>\n",
       "    </tr>\n",
       "  </tbody>\n",
       "</table>\n",
       "</div>"
      ],
      "text/plain": [
       "         date group\n",
       "0  2019-08-15     B\n",
       "7  2019-08-15     A\n",
       "45 2019-08-16     A\n",
       "47 2019-08-16     B\n",
       "55 2019-08-01     A"
      ]
     },
     "execution_count": 18,
     "metadata": {},
     "output_type": "execute_result"
    }
   ],
   "source": [
    "# создаем массив уникальных пар значений дат и групп теста\n",
    "datesGroups = orders[['date','group']].drop_duplicates()\n",
    "datesGroups.head()"
   ]
  },
  {
   "cell_type": "code",
   "execution_count": 19,
   "metadata": {},
   "outputs": [],
   "source": [
    "# получаем агрегированные кумулятивные по дням данные о заказах\n",
    "#orders.loc[orders.duplicated(['transactionId','group']),'transactionId'] = np.nan\n",
    "orders_agg = orders.groupby(['date','group']).agg(\n",
    "            orders = ('transactionId', 'nunique'),\n",
    "            buyers = ('visitorId', 'nunique'),\n",
    "            revenue = ('revenue', 'sum')\n",
    "            ).sort_values(by=['date','group']).groupby('group').cumsum().reset_index()"
   ]
  },
  {
   "cell_type": "code",
   "execution_count": 20,
   "metadata": {},
   "outputs": [
    {
     "data": {
      "text/html": [
       "<div>\n",
       "<style scoped>\n",
       "    .dataframe tbody tr th:only-of-type {\n",
       "        vertical-align: middle;\n",
       "    }\n",
       "\n",
       "    .dataframe tbody tr th {\n",
       "        vertical-align: top;\n",
       "    }\n",
       "\n",
       "    .dataframe thead th {\n",
       "        text-align: right;\n",
       "    }\n",
       "</style>\n",
       "<table border=\"1\" class=\"dataframe\">\n",
       "  <thead>\n",
       "    <tr style=\"text-align: right;\">\n",
       "      <th></th>\n",
       "      <th>date</th>\n",
       "      <th>group</th>\n",
       "      <th>orders</th>\n",
       "      <th>buyers</th>\n",
       "      <th>revenue</th>\n",
       "    </tr>\n",
       "  </thead>\n",
       "  <tbody>\n",
       "    <tr>\n",
       "      <th>0</th>\n",
       "      <td>2019-08-01</td>\n",
       "      <td>A</td>\n",
       "      <td>23</td>\n",
       "      <td>19</td>\n",
       "      <td>142779</td>\n",
       "    </tr>\n",
       "    <tr>\n",
       "      <th>1</th>\n",
       "      <td>2019-08-01</td>\n",
       "      <td>B</td>\n",
       "      <td>17</td>\n",
       "      <td>17</td>\n",
       "      <td>59758</td>\n",
       "    </tr>\n",
       "    <tr>\n",
       "      <th>2</th>\n",
       "      <td>2019-08-02</td>\n",
       "      <td>A</td>\n",
       "      <td>42</td>\n",
       "      <td>37</td>\n",
       "      <td>234381</td>\n",
       "    </tr>\n",
       "    <tr>\n",
       "      <th>3</th>\n",
       "      <td>2019-08-02</td>\n",
       "      <td>B</td>\n",
       "      <td>40</td>\n",
       "      <td>39</td>\n",
       "      <td>221801</td>\n",
       "    </tr>\n",
       "    <tr>\n",
       "      <th>4</th>\n",
       "      <td>2019-08-03</td>\n",
       "      <td>A</td>\n",
       "      <td>66</td>\n",
       "      <td>61</td>\n",
       "      <td>346854</td>\n",
       "    </tr>\n",
       "  </tbody>\n",
       "</table>\n",
       "</div>"
      ],
      "text/plain": [
       "        date group  orders  buyers  revenue\n",
       "0 2019-08-01     A      23      19   142779\n",
       "1 2019-08-01     B      17      17    59758\n",
       "2 2019-08-02     A      42      37   234381\n",
       "3 2019-08-02     B      40      39   221801\n",
       "4 2019-08-03     A      66      61   346854"
      ]
     },
     "execution_count": 20,
     "metadata": {},
     "output_type": "execute_result"
    }
   ],
   "source": [
    "orders_agg.head()"
   ]
  },
  {
   "cell_type": "code",
   "execution_count": 21,
   "metadata": {},
   "outputs": [
    {
     "data": {
      "text/html": [
       "<div>\n",
       "<style scoped>\n",
       "    .dataframe tbody tr th:only-of-type {\n",
       "        vertical-align: middle;\n",
       "    }\n",
       "\n",
       "    .dataframe tbody tr th {\n",
       "        vertical-align: top;\n",
       "    }\n",
       "\n",
       "    .dataframe thead th {\n",
       "        text-align: right;\n",
       "    }\n",
       "</style>\n",
       "<table border=\"1\" class=\"dataframe\">\n",
       "  <thead>\n",
       "    <tr style=\"text-align: right;\">\n",
       "      <th></th>\n",
       "      <th>visitorId</th>\n",
       "      <th>orders</th>\n",
       "    </tr>\n",
       "  </thead>\n",
       "  <tbody>\n",
       "    <tr>\n",
       "      <th>0</th>\n",
       "      <td>5114589</td>\n",
       "      <td>1</td>\n",
       "    </tr>\n",
       "    <tr>\n",
       "      <th>636</th>\n",
       "      <td>2758621772</td>\n",
       "      <td>1</td>\n",
       "    </tr>\n",
       "    <tr>\n",
       "      <th>637</th>\n",
       "      <td>2761566146</td>\n",
       "      <td>1</td>\n",
       "    </tr>\n",
       "    <tr>\n",
       "      <th>638</th>\n",
       "      <td>2763027084</td>\n",
       "      <td>1</td>\n",
       "    </tr>\n",
       "    <tr>\n",
       "      <th>639</th>\n",
       "      <td>2771749575</td>\n",
       "      <td>1</td>\n",
       "    </tr>\n",
       "    <tr>\n",
       "      <th>...</th>\n",
       "      <td>...</td>\n",
       "      <td>...</td>\n",
       "    </tr>\n",
       "    <tr>\n",
       "      <th>138</th>\n",
       "      <td>611059232</td>\n",
       "      <td>3</td>\n",
       "    </tr>\n",
       "    <tr>\n",
       "      <th>908</th>\n",
       "      <td>3967698036</td>\n",
       "      <td>3</td>\n",
       "    </tr>\n",
       "    <tr>\n",
       "      <th>632</th>\n",
       "      <td>2742574263</td>\n",
       "      <td>3</td>\n",
       "    </tr>\n",
       "    <tr>\n",
       "      <th>890</th>\n",
       "      <td>3908431265</td>\n",
       "      <td>3</td>\n",
       "    </tr>\n",
       "    <tr>\n",
       "      <th>55</th>\n",
       "      <td>249864742</td>\n",
       "      <td>3</td>\n",
       "    </tr>\n",
       "  </tbody>\n",
       "</table>\n",
       "<p>973 rows × 2 columns</p>\n",
       "</div>"
      ],
      "text/plain": [
       "      visitorId  orders\n",
       "0       5114589       1\n",
       "636  2758621772       1\n",
       "637  2761566146       1\n",
       "638  2763027084       1\n",
       "639  2771749575       1\n",
       "..          ...     ...\n",
       "138   611059232       3\n",
       "908  3967698036       3\n",
       "632  2742574263       3\n",
       "890  3908431265       3\n",
       "55    249864742       3\n",
       "\n",
       "[973 rows x 2 columns]"
      ]
     },
     "execution_count": 21,
     "metadata": {},
     "output_type": "execute_result"
    }
   ],
   "source": [
    "ordersByUsers = (\n",
    "    orders.groupby('visitorId', as_index=False)\n",
    "    .agg({'transactionId': 'nunique'})\n",
    ")\n",
    "ordersByUsers.columns = ['visitorId', 'orders']\n",
    "ordersByUsers.sort_values(by='orders')"
   ]
  },
  {
   "cell_type": "markdown",
   "metadata": {},
   "source": [
    "Аналогично получим агрегированные кумулятивные по дням данные о посетителях интернет-магазина:"
   ]
  },
  {
   "cell_type": "code",
   "execution_count": 22,
   "metadata": {},
   "outputs": [],
   "source": [
    "# получаем агрегированные кумулятивные по дням данные о посетителях интернет-магазина \n",
    "visitorsAggregated = datesGroups.apply(\n",
    "    lambda x:visitors[np.logical_and(visitors['date'] <= x['date'], visitors['group'] == x['group'])].agg({\n",
    "        'date':'max',\n",
    "        'group':'max',\n",
    "        'visitors' : 'sum'}), axis=1).sort_values(by=['date','group'])"
   ]
  },
  {
   "cell_type": "code",
   "execution_count": 23,
   "metadata": {},
   "outputs": [
    {
     "data": {
      "text/html": [
       "<div>\n",
       "<style scoped>\n",
       "    .dataframe tbody tr th:only-of-type {\n",
       "        vertical-align: middle;\n",
       "    }\n",
       "\n",
       "    .dataframe tbody tr th {\n",
       "        vertical-align: top;\n",
       "    }\n",
       "\n",
       "    .dataframe thead th {\n",
       "        text-align: right;\n",
       "    }\n",
       "</style>\n",
       "<table border=\"1\" class=\"dataframe\">\n",
       "  <thead>\n",
       "    <tr style=\"text-align: right;\">\n",
       "      <th></th>\n",
       "      <th>date</th>\n",
       "      <th>group</th>\n",
       "      <th>visitors</th>\n",
       "    </tr>\n",
       "  </thead>\n",
       "  <tbody>\n",
       "    <tr>\n",
       "      <th>55</th>\n",
       "      <td>2019-08-01</td>\n",
       "      <td>A</td>\n",
       "      <td>719</td>\n",
       "    </tr>\n",
       "    <tr>\n",
       "      <th>66</th>\n",
       "      <td>2019-08-01</td>\n",
       "      <td>B</td>\n",
       "      <td>713</td>\n",
       "    </tr>\n",
       "    <tr>\n",
       "      <th>175</th>\n",
       "      <td>2019-08-02</td>\n",
       "      <td>A</td>\n",
       "      <td>1338</td>\n",
       "    </tr>\n",
       "    <tr>\n",
       "      <th>173</th>\n",
       "      <td>2019-08-02</td>\n",
       "      <td>B</td>\n",
       "      <td>1294</td>\n",
       "    </tr>\n",
       "    <tr>\n",
       "      <th>291</th>\n",
       "      <td>2019-08-03</td>\n",
       "      <td>A</td>\n",
       "      <td>1845</td>\n",
       "    </tr>\n",
       "  </tbody>\n",
       "</table>\n",
       "</div>"
      ],
      "text/plain": [
       "          date group  visitors\n",
       "55  2019-08-01     A       719\n",
       "66  2019-08-01     B       713\n",
       "175 2019-08-02     A      1338\n",
       "173 2019-08-02     B      1294\n",
       "291 2019-08-03     A      1845"
      ]
     },
     "execution_count": 23,
     "metadata": {},
     "output_type": "execute_result"
    }
   ],
   "source": [
    "visitorsAggregated.head()"
   ]
  },
  {
   "cell_type": "code",
   "execution_count": 24,
   "metadata": {},
   "outputs": [
    {
     "data": {
      "text/html": [
       "<div>\n",
       "<style scoped>\n",
       "    .dataframe tbody tr th:only-of-type {\n",
       "        vertical-align: middle;\n",
       "    }\n",
       "\n",
       "    .dataframe tbody tr th {\n",
       "        vertical-align: top;\n",
       "    }\n",
       "\n",
       "    .dataframe thead th {\n",
       "        text-align: right;\n",
       "    }\n",
       "</style>\n",
       "<table border=\"1\" class=\"dataframe\">\n",
       "  <thead>\n",
       "    <tr style=\"text-align: right;\">\n",
       "      <th></th>\n",
       "      <th>date</th>\n",
       "      <th>group</th>\n",
       "      <th>orders</th>\n",
       "      <th>buyers</th>\n",
       "      <th>revenue</th>\n",
       "      <th>visitors</th>\n",
       "    </tr>\n",
       "  </thead>\n",
       "  <tbody>\n",
       "    <tr>\n",
       "      <th>0</th>\n",
       "      <td>2019-08-01</td>\n",
       "      <td>A</td>\n",
       "      <td>23</td>\n",
       "      <td>19</td>\n",
       "      <td>142779</td>\n",
       "      <td>719</td>\n",
       "    </tr>\n",
       "    <tr>\n",
       "      <th>1</th>\n",
       "      <td>2019-08-01</td>\n",
       "      <td>B</td>\n",
       "      <td>17</td>\n",
       "      <td>17</td>\n",
       "      <td>59758</td>\n",
       "      <td>713</td>\n",
       "    </tr>\n",
       "    <tr>\n",
       "      <th>2</th>\n",
       "      <td>2019-08-02</td>\n",
       "      <td>A</td>\n",
       "      <td>42</td>\n",
       "      <td>37</td>\n",
       "      <td>234381</td>\n",
       "      <td>1338</td>\n",
       "    </tr>\n",
       "    <tr>\n",
       "      <th>3</th>\n",
       "      <td>2019-08-02</td>\n",
       "      <td>B</td>\n",
       "      <td>40</td>\n",
       "      <td>39</td>\n",
       "      <td>221801</td>\n",
       "      <td>1294</td>\n",
       "    </tr>\n",
       "    <tr>\n",
       "      <th>4</th>\n",
       "      <td>2019-08-03</td>\n",
       "      <td>A</td>\n",
       "      <td>66</td>\n",
       "      <td>61</td>\n",
       "      <td>346854</td>\n",
       "      <td>1845</td>\n",
       "    </tr>\n",
       "  </tbody>\n",
       "</table>\n",
       "</div>"
      ],
      "text/plain": [
       "        date group  orders  buyers  revenue  visitors\n",
       "0 2019-08-01     A      23      19   142779       719\n",
       "1 2019-08-01     B      17      17    59758       713\n",
       "2 2019-08-02     A      42      37   234381      1338\n",
       "3 2019-08-02     B      40      39   221801      1294\n",
       "4 2019-08-03     A      66      61   346854      1845"
      ]
     },
     "execution_count": 24,
     "metadata": {},
     "output_type": "execute_result"
    }
   ],
   "source": [
    "# объединяем кумулятивные данные в одной таблице и присваиваем ее столбцам понятные названия\n",
    "cumulativeData = orders_agg.merge(visitorsAggregated, left_on=['date', 'group'], right_on=['date', 'group'])\n",
    "cumulativeData.columns = ['date', 'group', 'orders', 'buyers', 'revenue', 'visitors']\n",
    "\n",
    "cumulativeData.head()"
   ]
  },
  {
   "cell_type": "markdown",
   "metadata": {},
   "source": [
    "Построим графики кумулятивной выручки по дням и группам A/B-тестирования:"
   ]
  },
  {
   "cell_type": "code",
   "execution_count": 42,
   "metadata": {},
   "outputs": [
    {
     "data": {
      "image/png": "[encoded data removed]",
      "text/plain": [
       "<Figure size 864x648 with 1 Axes>"
      ]
     },
     "metadata": {
      "needs_background": "light"
     },
     "output_type": "display_data"
    }
   ],
   "source": [
    "\n",
    "# датафрейм с кумулятивным количеством заказов и кумулятивной выручкой по дням в группе А\n",
    "cumulativeRevenueA = cumulativeData[cumulativeData['group']=='A'][['date','revenue', 'orders']]\n",
    "\n",
    "# датафрейм с кумулятивным количеством заказов и кумулятивной выручкой по дням в группе B\n",
    "cumulativeRevenueB = cumulativeData[cumulativeData['group']=='B'][['date','revenue', 'orders']]\n",
    "\n",
    "# Строим график выручки группы А\n",
    "plt.plot(cumulativeRevenueA['date'], cumulativeRevenueA['revenue'], label='A')\n",
    "\n",
    "# Строим график выручки группы B\n",
    "plt.plot(cumulativeRevenueB['date'], cumulativeRevenueB['revenue'], label='B')\n",
    "\n",
    "plt.rcParams[\"figure.figsize\"] = (12,9)\n",
    "\n",
    "plt.title(\"Кумулятивная выручка\")\n",
    "plt.xlabel(\"дата\")\n",
    "plt.ylabel(\"млн, руб\")\n",
    "plt.legend()\n",
    "\n",
    "plt.show()"
   ]
  },
  {
   "cell_type": "markdown",
   "metadata": {},
   "source": [
    "### Вывод"
   ]
  },
  {
   "cell_type": "markdown",
   "metadata": {},
   "source": [
    " - Выручка почти равномерно увеличивается в течение всего теста.\n",
    " - Однако графики выручки группы B в одной из точек резко растут. Это может сигнализировать о всплесках числа заказов, либо о появлении очень дорогих заказов в выборке. При заключительном анализе их нужно удалить"
   ]
  },
  {
   "cell_type": "markdown",
   "metadata": {},
   "source": [
    "### График кумулятивного среднего чека по группам"
   ]
  },
  {
   "cell_type": "code",
   "execution_count": 26,
   "metadata": {},
   "outputs": [
    {
     "data": {
      "image/png": "[encoded data removed]",
      "text/plain": [
       "<Figure size 864x648 with 1 Axes>"
      ]
     },
     "metadata": {
      "needs_background": "light"
     },
     "output_type": "display_data"
    }
   ],
   "source": [
    "plt.plot(cumulativeRevenueA['date'], cumulativeRevenueA['revenue']/cumulativeRevenueA['orders'], label='A')\n",
    "plt.plot(cumulativeRevenueB['date'], cumulativeRevenueB['revenue']/cumulativeRevenueB['orders'], label='B')\n",
    "plt.title(\"Кумулятивный средний чек\")\n",
    "plt.xlabel(\"дата\")\n",
    "plt.ylabel(\"руб\")\n",
    "plt.legend()\n",
    "plt.show()"
   ]
  },
  {
   "cell_type": "markdown",
   "metadata": {},
   "source": [
    "### Вывод"
   ]
  },
  {
   "cell_type": "markdown",
   "metadata": {},
   "source": [
    " - Средний чек по группам продолжает колебаться. Скорее всего принимать решение по этой метрике рано.\n",
    " - Возможно, в группу B во второй половине теста попали крупные заказы (резкий всплеск на графике). Тогда ей нужно больше данных, чтобы прийти к реальному среднему чеку и установиться на его уровне."
   ]
  },
  {
   "cell_type": "markdown",
   "metadata": {},
   "source": [
    "### График относительного изменения кумулятивного среднего чека группы B к группе A"
   ]
  },
  {
   "cell_type": "code",
   "execution_count": 27,
   "metadata": {},
   "outputs": [
    {
     "data": {
      "image/png": "[encoded data removed]",
      "text/plain": [
       "<Figure size 792x360 with 1 Axes>"
      ]
     },
     "metadata": {
      "needs_background": "light"
     },
     "output_type": "display_data"
    }
   ],
   "source": [
    "# собираем данные в одном датафрейме\n",
    "mergedCumulativeRevenue = cumulativeRevenueA.merge(cumulativeRevenueB, left_on='date', right_on='date', how='left', suffixes=['A', 'B'])\n",
    "plt.figure(figsize=(11,5))\n",
    "# cтроим отношение средних чеков\n",
    "plt.plot(mergedCumulativeRevenue['date'], (mergedCumulativeRevenue['revenueB']/mergedCumulativeRevenue['ordersB'])/(mergedCumulativeRevenue['revenueA']/mergedCumulativeRevenue['ordersA'])-1)\n",
    "plt.title(\"Изменение среднего чека группы B к A\")\n",
    "plt.xlabel(\"дата\")\n",
    "plt.ylabel(\"рост, %\")\n",
    "# добавляем ось X\n",
    "plt.axhline(y=0, color='black', linestyle='--')\n",
    "plt.xticks(rotation = 45)\n",
    "plt.show()"
   ]
  },
  {
   "cell_type": "markdown",
   "metadata": {},
   "source": [
    "### Вывод"
   ]
  },
  {
   "cell_type": "markdown",
   "metadata": {},
   "source": [
    " - Результаты теста значительно и резко менялись в несколько дат\n",
    " - Резкие скачки графика в нескольких местах свидетельсвуют о больших вбросах"
   ]
  },
  {
   "cell_type": "markdown",
   "metadata": {},
   "source": [
    "### График кумулятивной конверсии по группам"
   ]
  },
  {
   "cell_type": "code",
   "execution_count": 28,
   "metadata": {},
   "outputs": [
    {
     "data": {
      "image/png": "[encoded data removed]",
      "text/plain": [
       "<Figure size 864x648 with 1 Axes>"
      ]
     },
     "metadata": {
      "needs_background": "light"
     },
     "output_type": "display_data"
    }
   ],
   "source": [
    "# считаем кумулятивную конверсию\n",
    "cumulativeData['conversion'] = cumulativeData['orders']/cumulativeData['visitors']*100\n",
    "\n",
    "# отделяем данные по группе A\n",
    "cumulativeDataA = cumulativeData[cumulativeData['group']=='A']\n",
    "\n",
    "# отделяем данные по группе B\n",
    "cumulativeDataB = cumulativeData[cumulativeData['group']=='B']\n",
    "\n",
    "# строим графики\n",
    "plt.plot(cumulativeDataA['date'], cumulativeDataA['conversion'], label='A')\n",
    "plt.plot(cumulativeDataB['date'], cumulativeDataB['conversion'], label='B')\n",
    "\n",
    "plt.title(\"Кумулятивная конверсия\")\n",
    "plt.xlabel(\"дата\")\n",
    "plt.ylabel(\"конверсия, %\")\n",
    "\n",
    "plt.legend()\n",
    "\n",
    "plt.xticks(rotation = 45)\n",
    "\n",
    "# задаем масштаб осей\n",
    "plt.axis([dt.datetime(2019,8,1),dt.datetime(2019,9,1), 0, 5])\n",
    "plt.show()"
   ]
  },
  {
   "cell_type": "markdown",
   "metadata": {},
   "source": [
    "### Вывод"
   ]
  },
  {
   "cell_type": "markdown",
   "metadata": {},
   "source": [
    " - В начале теста сегмент А имел большую конверсию, но постепенно сегмент В вырвался вперёд, выровнялся и зафиксировался около одного значения, большего значения группы A, которое просело и тоже выровнялось\n",
    " - Абсолютное значение колебания в начале теста и в конце не слишком большое: от 2,5%  до 3,5%"
   ]
  },
  {
   "cell_type": "markdown",
   "metadata": {},
   "source": [
    "### График относительного изменения кумулятивной конверсии группы B к группе A"
   ]
  },
  {
   "cell_type": "code",
   "execution_count": 29,
   "metadata": {},
   "outputs": [
    {
     "data": {
      "image/png": "[encoded data removed]",
      "text/plain": [
       "<Figure size 720x360 with 1 Axes>"
      ]
     },
     "metadata": {
      "needs_background": "light"
     },
     "output_type": "display_data"
    }
   ],
   "source": [
    "mergedCumulativeConversions = cumulativeDataA[['date','conversion']].merge(cumulativeDataB[['date','conversion']], left_on='date', right_on='date', how='left', suffixes=['A', 'B'])\n",
    "plt.figure(figsize=(10,5))\n",
    "plt.plot(mergedCumulativeConversions['date'], mergedCumulativeConversions['conversionB']/mergedCumulativeConversions['conversionA']-1, label=\"Относительный прирост конверсии группы B относительно группы A\")\n",
    "plt.legend()\n",
    "plt.title(\"Изменение кумулятивной конверсии группы B к группе A\")\n",
    "plt.xlabel(\"дата\")\n",
    "plt.ylabel(\"рост, %\")\n",
    "plt.axhline(y=0, color='black', linestyle='--')\n",
    "plt.axhline(y=0.10, color='grey', linestyle='--')\n",
    "plt.axis([dt.datetime(2019,8,1),dt.datetime(2019,9,1),-0.5, 0.5])\n",
    "\n",
    "plt.xticks(rotation = 45)\n",
    "\n",
    "plt.show()"
   ]
  },
  {
   "cell_type": "markdown",
   "metadata": {},
   "source": [
    "**Вывод**"
   ]
  },
  {
   "cell_type": "markdown",
   "metadata": {},
   "source": [
    "Почти с самого начала теста группа B лучше группы A. Либо она станет лучше, либо зафиксируется на значении около 10% лучше группы  А.\n",
    "\n",
    "Отметим небольшую стабилизацию результатов теста после 21.08.2019\n",
    "\n",
    "Проанализируем аномалии, а потом сделаем выводы"
   ]
  },
  {
   "cell_type": "markdown",
   "metadata": {},
   "source": [
    "### Точечный график количества заказов по пользователям"
   ]
  },
  {
   "cell_type": "code",
   "execution_count": 30,
   "metadata": {},
   "outputs": [
    {
     "name": "stdout",
     "output_type": "stream",
     "text": [
      "      visitorId group  orders\n",
      "908  3967698036     A       3\n",
      "55    249864742     B       3\n",
      "478  2108163459     A       3\n",
      "687  2988190573     A       3\n",
      "890  3908431265     A       3\n",
      "138   611059232     A       3\n",
      "632  2742574263     B       3\n",
      "157   678354126     A       2\n",
      "323  1404560065     B       2\n",
      "452  1985475298     B       2\n"
     ]
    },
    {
     "data": {
      "image/png": "[encoded data removed]",
      "text/plain": [
       "<Figure size 864x648 with 1 Axes>"
      ]
     },
     "metadata": {
      "needs_background": "light"
     },
     "output_type": "display_data"
    }
   ],
   "source": [
    "ordersByUsers = (\n",
    "    orders.groupby(['visitorId', 'group'], as_index=False)\n",
    "    .agg({'transactionId': 'nunique'})\n",
    ")\n",
    "ordersByUsers.columns = ['visitorId', 'group', 'orders']\n",
    "\n",
    "print(ordersByUsers.sort_values(by='orders', ascending=False).head(10))\n",
    "# серия из чисел от 0 до количества наблюдений в ordersByUsers\n",
    "x_values = pd.Series(range(0, len(ordersByUsers)))\n",
    "sns.scatterplot(data = ordersByUsers, x=x_values, y=ordersByUsers['orders'], hue=\"group\")\n",
    "\n",
    "plt.title(\"Количество заказов на пользователя\")\n",
    "plt.xlabel(\"Количество пользователей, шт\")\n",
    "plt.ylabel(\"Количество заказов, шт\")\n",
    "plt.show()"
   ]
  },
  {
   "cell_type": "markdown",
   "metadata": {},
   "source": [
    "### Вывод"
   ]
  },
  {
   "cell_type": "markdown",
   "metadata": {},
   "source": [
    "В основном пользователи делают 1-2 заказа. Людей, делающих более двух заказов, немного, но является ли это аномалией? Чтобы ответить на вопрос, посчитаем процентили."
   ]
  },
  {
   "cell_type": "markdown",
   "metadata": {},
   "source": [
    "### 95-й и 99-й перцентили количества заказов на пользователя"
   ]
  },
  {
   "cell_type": "code",
   "execution_count": 31,
   "metadata": {},
   "outputs": [
    {
     "name": "stdout",
     "output_type": "stream",
     "text": [
      "[1. 2.]\n"
     ]
    }
   ],
   "source": [
    "print(np.percentile(ordersByUsers['orders'], [95, 99]))"
   ]
  },
  {
   "cell_type": "markdown",
   "metadata": {},
   "source": [
    "**Вывод**"
   ]
  },
  {
   "cell_type": "markdown",
   "metadata": {},
   "source": [
    "не более 1% пользователей сделало больше 2 заказов. Выберем 2 заказа на одного пользователя за нижнюю границу и отсеим аномальных пользолвателей по ней. "
   ]
  },
  {
   "cell_type": "markdown",
   "metadata": {},
   "source": [
    "### Точечный график стоимостей заказов"
   ]
  },
  {
   "cell_type": "code",
   "execution_count": 32,
   "metadata": {},
   "outputs": [
    {
     "data": {
      "text/plain": [
       "Text(0, 0.5, 'Стоимость, руб')"
      ]
     },
     "execution_count": 32,
     "metadata": {},
     "output_type": "execute_result"
    },
    {
     "data": {
      "image/png": "[encoded data removed]",
      "text/plain": [
       "<Figure size 864x648 with 1 Axes>"
      ]
     },
     "metadata": {
      "needs_background": "light"
     },
     "output_type": "display_data"
    }
   ],
   "source": [
    "x_values = pd.Series(range(0, len(orders['revenue'])))\n",
    "\n",
    "sns.scatterplot(data = ordersByUsers, x=x_values, y=orders['revenue'], hue=\"group\")\n",
    "plt.title(\"Стоимость заказов\")\n",
    "plt.xlabel(\"Количество пользователей, шт\")\n",
    "plt.ylabel(\"Стоимость, руб\")\n"
   ]
  },
  {
   "cell_type": "markdown",
   "metadata": {},
   "source": [
    "**Вывод**\n",
    "\n",
    "Заказы стоимостью более 1 200 000 руб. выглядят аномально. Есть вбросы около 200 000 руб заказов, дороже 50 000 руб тоже не очень много"
   ]
  },
  {
   "cell_type": "markdown",
   "metadata": {},
   "source": [
    "### 95-й и 99-й перцентили стоимости заказов"
   ]
  },
  {
   "cell_type": "code",
   "execution_count": 33,
   "metadata": {},
   "outputs": [
    {
     "name": "stdout",
     "output_type": "stream",
     "text": [
      "[26785. 53904.]\n"
     ]
    }
   ],
   "source": [
    "print(np.percentile(orders['revenue'],[95,99]))"
   ]
  },
  {
   "cell_type": "markdown",
   "metadata": {},
   "source": [
    "**Вывод**\n",
    "\n",
    "Не более, чем у 5% заказов чек дороже 27 000. И не больше, чем у 1% заказов - дороже 54 000. В качестве границы выберем 27 000 руб за заказ"
   ]
  },
  {
   "cell_type": "markdown",
   "metadata": {},
   "source": [
    "### Статистическая значимость различий в конверсии между группами по «сырым» данным."
   ]
  },
  {
   "cell_type": "markdown",
   "metadata": {},
   "source": [
    "Сформулируем гипотезы. \n",
    "\n",
    "H0: различий в среднем количестве заказов между группами нет. \n",
    "\n",
    "H1: различия в среднем между группами есть."
   ]
  },
  {
   "cell_type": "code",
   "execution_count": 34,
   "metadata": {},
   "outputs": [
    {
     "name": "stdout",
     "output_type": "stream",
     "text": [
      "        date  ordersPerDateA  revenuePerDateA  ordersPerDateB  \\\n",
      "0 2019-08-01              23           142779              17   \n",
      "1 2019-08-02              19            91602              23   \n",
      "2 2019-08-03              24           112473              14   \n",
      "3 2019-08-04              11            41176              14   \n",
      "4 2019-08-05              22            86383              21   \n",
      "\n",
      "   revenuePerDateB  ordersCummulativeA  revenueCummulativeA  \\\n",
      "0            59758                  23               142779   \n",
      "1           162043                  42               234381   \n",
      "2            67049                  66               346854   \n",
      "3            96890                  77               388030   \n",
      "4            89908                  99               474413   \n",
      "\n",
      "   ordersCummulativeB  revenueCummulativeB  visitorsPerDateA  \\\n",
      "0                  17                59758               719   \n",
      "1                  40               221801               619   \n",
      "2                  54               288850               507   \n",
      "3                  68               385740               717   \n",
      "4                  89               475648               756   \n",
      "\n",
      "   visitorsPerDateB  visitorsCummulativeA  visitorsCummulativeB  \n",
      "0               713                   719                   713  \n",
      "1               581                  1338                  1294  \n",
      "2               509                  1845                  1803  \n",
      "3               770                  2562                  2573  \n",
      "4               707                  3318                  3280  \n"
     ]
    }
   ],
   "source": [
    "visitorsADaily = visitors[visitors['group'] == 'A'][['date', 'visitors']]\n",
    "visitorsADaily.columns = ['date', 'visitorsPerDateA']\n",
    "\n",
    "visitorsACummulative = visitorsADaily.apply(\n",
    "    lambda x: visitorsADaily[visitorsADaily['date'] <= x['date']].agg(\n",
    "        {'date': 'max', 'visitorsPerDateA': 'sum'}\n",
    "    ),\n",
    "    axis=1,\n",
    ")\n",
    "visitorsACummulative.columns = ['date', 'visitorsCummulativeA']\n",
    "\n",
    "visitorsBDaily = visitors[visitors['group'] == 'B'][['date', 'visitors']]\n",
    "visitorsBDaily.columns = ['date', 'visitorsPerDateB']\n",
    "\n",
    "visitorsBCummulative = visitorsBDaily.apply(\n",
    "    lambda x: visitorsBDaily[visitorsBDaily['date'] <= x['date']].agg(\n",
    "        {'date': 'max', 'visitorsPerDateB': 'sum'}\n",
    "    ),\n",
    "    axis=1,\n",
    ")\n",
    "visitorsBCummulative.columns = ['date', 'visitorsCummulativeB']\n",
    "\n",
    "ordersADaily = (\n",
    "    orders[orders['group'] == 'A'][['date', 'transactionId', 'visitorId', 'revenue']]\n",
    "    .groupby('date', as_index=False)\n",
    "    .agg({'transactionId': pd.Series.nunique, 'revenue': 'sum'})\n",
    ")\n",
    "ordersADaily.columns = ['date', 'ordersPerDateA', 'revenuePerDateA']\n",
    "\n",
    "ordersACummulative = ordersADaily.apply(\n",
    "    lambda x: ordersADaily[ordersADaily['date'] <= x['date']].agg(\n",
    "        {'date': 'max', 'ordersPerDateA': 'sum', 'revenuePerDateA': 'sum'}\n",
    "    ),\n",
    "    axis=1,\n",
    ").sort_values(by=['date'])\n",
    "ordersACummulative.columns = [\n",
    "    'date',\n",
    "    'ordersCummulativeA',\n",
    "    'revenueCummulativeA',\n",
    "]\n",
    "\n",
    "ordersBDaily = (\n",
    "    orders[orders['group'] == 'B'][['date', 'transactionId', 'visitorId', 'revenue']]\n",
    "    .groupby('date', as_index=False)\n",
    "    .agg({'transactionId': pd.Series.nunique, 'revenue': 'sum'})\n",
    ")\n",
    "ordersBDaily.columns = ['date', 'ordersPerDateB', 'revenuePerDateB']\n",
    "\n",
    "ordersBCummulative = ordersBDaily.apply(\n",
    "    lambda x: ordersBDaily[ordersBDaily['date'] <= x['date']].agg(\n",
    "        {'date': 'max', 'ordersPerDateB': 'sum', 'revenuePerDateB': 'sum'}\n",
    "    ),\n",
    "    axis=1,\n",
    ").sort_values(by=['date'])\n",
    "ordersBCummulative.columns = [\n",
    "    'date',\n",
    "    'ordersCummulativeB',\n",
    "    'revenueCummulativeB',\n",
    "]\n",
    "\n",
    "data = (\n",
    "    ordersADaily.merge(\n",
    "        ordersBDaily, left_on='date', right_on='date', how='left'\n",
    "    )\n",
    "    .merge(ordersACummulative, left_on='date', right_on='date', how='left')\n",
    "    .merge(ordersBCummulative, left_on='date', right_on='date', how='left')\n",
    "    .merge(visitorsADaily, left_on='date', right_on='date', how='left')\n",
    "    .merge(visitorsBDaily, left_on='date', right_on='date', how='left')\n",
    "    .merge(visitorsACummulative, left_on='date', right_on='date', how='left')\n",
    "    .merge(visitorsBCummulative, left_on='date', right_on='date', how='left')\n",
    ")\n",
    "\n",
    "print(data.head(5)) "
   ]
  },
  {
   "cell_type": "code",
   "execution_count": 35,
   "metadata": {
    "scrolled": false
   },
   "outputs": [
    {
     "name": "stdout",
     "output_type": "stream",
     "text": [
      "p-значение:  0.011018084110014696\n",
      "Отвергаем нулевую гипотезу\n",
      "Относительный прирост среднего числа заказов группы B: 0.160\n"
     ]
    }
   ],
   "source": [
    "#для пользователей, которые заказывали хотя бы 1 раз, укажем число совершённых заказов.\n",
    "ordersByUsersA = (\n",
    "    orders[orders['group'] == 'A']\n",
    "    .groupby('visitorId', as_index=False)\n",
    "    .agg({'transactionId': pd.Series.nunique})\n",
    ")\n",
    "ordersByUsersA.columns = ['visitorId', 'orders']\n",
    "\n",
    "ordersByUsersB = (\n",
    "    orders[orders['group'] == 'B']\n",
    "    .groupby('visitorId', as_index=False)\n",
    "    .agg({'transactionId': pd.Series.nunique})\n",
    ")\n",
    "ordersByUsersB.columns = ['visitorId', 'orders']\n",
    "\n",
    "#пользователям из разных групп будет соответствовать количество заказов\n",
    "sampleA = pd.concat(\n",
    "    [\n",
    "        ordersByUsersA['orders'],\n",
    "        pd.Series(\n",
    "            0,\n",
    "            index=np.arange(\n",
    "                data['visitorsPerDateA'].sum() - len(ordersByUsersA['orders'])\n",
    "            ),\n",
    "            name='orders',\n",
    "        ),\n",
    "    ],\n",
    "    axis=0,\n",
    ")\n",
    "\n",
    "sampleB = pd.concat(\n",
    "    [\n",
    "        ordersByUsersB['orders'],\n",
    "        pd.Series(\n",
    "            0,\n",
    "            index=np.arange(\n",
    "                data['visitorsPerDateB'].sum() - len(ordersByUsersB['orders'])\n",
    "            ),\n",
    "            name='orders',\n",
    "        ),\n",
    "    ],\n",
    "    axis=0,\n",
    ")\n",
    "\n",
    "pvalue=stats.mannwhitneyu(sampleA, sampleB)[1]\n",
    "\n",
    "\n",
    "alpha = 0.05\n",
    "\n",
    "print('p-значение: ', pvalue)\n",
    "if pvalue < alpha:\n",
    "    print('Отвергаем нулевую гипотезу')\n",
    "else:\n",
    "    print('Отвергнуть нулевую гипотезу нельзя')\n",
    "print('Относительный прирост среднего числа заказов группы B: '\"{0:.3f}\".format(sampleB.mean() / sampleA.mean() - 1))"
   ]
  },
  {
   "cell_type": "markdown",
   "metadata": {},
   "source": [
    "### Вывод"
   ]
  },
  {
   "cell_type": "markdown",
   "metadata": {},
   "source": [
    "По «сырым» данным нельзя точно сказать, что различий в среднем числе заказов групп A и B нет.\n",
    "\n",
    "Первое число — p-value = 0.011 меньше 0.05. Значит, нулевую гипотезу о том, что статистически значимых различий в среднем числе заказов между группами нет, отвергаем. Относительный проигрыш группы B равен 16%"
   ]
  },
  {
   "cell_type": "markdown",
   "metadata": {},
   "source": [
    "### Cтатистическая значимость различий в среднем чеке заказа между группами по «сырым» данным"
   ]
  },
  {
   "cell_type": "markdown",
   "metadata": {},
   "source": [
    "H0: различий в среднем чеке между группами нет. \n",
    "\n",
    "H1: различия в среднем чеке между группами есть."
   ]
  },
  {
   "cell_type": "markdown",
   "metadata": {},
   "source": [
    "Чтобы рассчитать статистическую значимость различий в среднем чеке, передадим критерию mannwhitneyu() данные о выручке с заказов."
   ]
  },
  {
   "cell_type": "code",
   "execution_count": 36,
   "metadata": {},
   "outputs": [
    {
     "name": "stdout",
     "output_type": "stream",
     "text": [
      "p-значение:  0.8294908998149533\n",
      "Отвергнуть нулевую гипотезу нельзя\n",
      "Относительный прирост среднего чека группы B: 0.287\n"
     ]
    }
   ],
   "source": [
    "pvalue=stats.mannwhitneyu(orders[orders['group']=='A']['revenue'], orders[orders['group']=='B']['revenue'])[1]\n",
    "\n",
    "\n",
    "alpha = 0.05\n",
    "\n",
    "print('p-значение: ', pvalue)\n",
    "if pvalue < alpha:\n",
    "    print('Отвергаем нулевую гипотезу')\n",
    "else:\n",
    "    print('Отвергнуть нулевую гипотезу нельзя')\n",
    "print('Относительный прирост среднего чека группы B: ''{0:.3f}'.format(orders[orders['group']=='B']['revenue'].mean()/orders[orders['group']=='A']['revenue'].mean()-1))"
   ]
  },
  {
   "cell_type": "markdown",
   "metadata": {},
   "source": [
    "### Вывод"
   ]
  },
  {
   "cell_type": "markdown",
   "metadata": {},
   "source": [
    "p-value = 0.829 больше 0.05. Значит, нулевую гипотезу о том, что статистически значимых различий в среднем числе заказов между группами нет, не отвергаем. Средний чек группы B значительно выше среднего чека группы A."
   ]
  },
  {
   "cell_type": "markdown",
   "metadata": {},
   "source": [
    "### Cтатистическая значимость различий в конверсии между группами по «очищенным» данным"
   ]
  },
  {
   "cell_type": "markdown",
   "metadata": {},
   "source": [
    "найденные 95-й и 99-й перцентили средних чеков равны 26 785 и 53 904 рублям. А 95-й и 99-й перцентили количества заказов на одного пользователя равны 1 и 2 заказа на пользователя.\n",
    "\n",
    "Примем за аномальных пользователей тех, кто совершил от 2 заказов или совершил заказ дороже 27 000 рублей. Так мы уберём % пользователей с наибольшим числом заказов и от 1% до 5% пользователей с дорогими заказами. Сделаем срезы пользователей с числом заказов больше 2 — usersWithManyOrders и пользователей, совершивших заказы дороже 27 000 — usersWithExpensiveOrders. Объединим их в таблице abnormalUsers."
   ]
  },
  {
   "cell_type": "code",
   "execution_count": 37,
   "metadata": {
    "scrolled": true
   },
   "outputs": [
    {
     "name": "stdout",
     "output_type": "stream",
     "text": [
      "568     113298937\n",
      "1099    148427295\n",
      "928     204675465\n",
      "33      249864742\n",
      "684     358944393\n",
      "Name: visitorId, dtype: int64\n",
      "58\n"
     ]
    }
   ],
   "source": [
    "minorder=2\n",
    "minrevenue=27000\n",
    "\n",
    "usersWithManyOrders = pd.concat(\n",
    "    [\n",
    "        ordersByUsersA[ordersByUsersA['orders'] > minorder]['visitorId'],\n",
    "        ordersByUsersB[ordersByUsersB['orders'] > minorder]['visitorId'],\n",
    "    ],\n",
    "    axis=0,\n",
    ")\n",
    "usersWithExpensiveOrders = orders[orders['revenue'] > minrevenue]['visitorId']\n",
    "abnormalUsers = (\n",
    "    pd.concat([usersWithManyOrders, usersWithExpensiveOrders], axis=0)\n",
    "    .drop_duplicates()\n",
    "    .sort_values()\n",
    ")\n",
    "print(abnormalUsers.head(5))\n",
    "print(abnormalUsers.shape[0])"
   ]
  },
  {
   "cell_type": "markdown",
   "metadata": {},
   "source": [
    "Всего 58 аномальных пользователей.\n",
    "Узнаем, как их действия повлияли на результаты теста. Посчитаем статистическую значимость различий в среднем количестве заказов между группами теста по очищенным данным. Сначала подготовим выборки количества заказов по пользователям по группам теста:"
   ]
  },
  {
   "cell_type": "code",
   "execution_count": 38,
   "metadata": {},
   "outputs": [],
   "source": [
    "sampleAFiltered = pd.concat(\n",
    "    [\n",
    "        ordersByUsersA[\n",
    "            np.logical_not(ordersByUsersA['visitorId'].isin(abnormalUsers))\n",
    "        ]['orders'],\n",
    "        pd.Series(\n",
    "            0,\n",
    "            index=np.arange(\n",
    "                data['visitorsPerDateA'].sum() - len(ordersByUsersA['orders'])\n",
    "            ),\n",
    "            name='orders',\n",
    "        ),\n",
    "    ],\n",
    "    axis=0,\n",
    ")\n",
    "\n",
    "sampleBFiltered = pd.concat(\n",
    "    [\n",
    "        ordersByUsersB[\n",
    "            np.logical_not(ordersByUsersB['visitorId'].isin(abnormalUsers))\n",
    "        ]['orders'],\n",
    "        pd.Series(\n",
    "            0,\n",
    "            index=np.arange(\n",
    "                data['visitorsPerDateB'].sum() - len(ordersByUsersB['orders'])\n",
    "            ),\n",
    "            name='orders',\n",
    "        ),\n",
    "    ],\n",
    "    axis=0,\n",
    ")"
   ]
  },
  {
   "cell_type": "markdown",
   "metadata": {},
   "source": [
    "Применим статистический критерий Манна-Уитни к полученным выборкам:"
   ]
  },
  {
   "cell_type": "code",
   "execution_count": 39,
   "metadata": {},
   "outputs": [
    {
     "name": "stdout",
     "output_type": "stream",
     "text": [
      "p-значение:  0.01235203801772639\n",
      "Отвергаем нулевую гипотезу\n",
      "Относительный прирост среднего числа заказов группы B: 0.182\n"
     ]
    }
   ],
   "source": [
    "pvalue=stats.mannwhitneyu(sampleAFiltered, sampleBFiltered)[1]\n",
    "\n",
    "\n",
    "alpha = 0.05\n",
    "\n",
    "print('p-значение: ', pvalue)\n",
    "if pvalue < alpha:\n",
    "    print('Отвергаем нулевую гипотезу')\n",
    "else:\n",
    "    print('Отвергнуть нулевую гипотезу нельзя')\n",
    "print('Относительный прирост среднего числа заказов группы B: ''{0:.3f}'.format(sampleBFiltered.mean()/sampleAFiltered.mean()-1))"
   ]
  },
  {
   "cell_type": "markdown",
   "metadata": {},
   "source": [
    "Результаты по среднему количеству заказов практически не изменились."
   ]
  },
  {
   "cell_type": "markdown",
   "metadata": {},
   "source": [
    "### Cтатистическая значимость различий в среднем чеке заказа между группами по «очищенным» данным."
   ]
  },
  {
   "cell_type": "code",
   "execution_count": 40,
   "metadata": {},
   "outputs": [
    {
     "name": "stdout",
     "output_type": "stream",
     "text": [
      "p-значение:  0.6458964038091206\n",
      "Отвергнуть нулевую гипотезу нельзя\n",
      "Относительный прирост среднего чека группы B: -0.048\n"
     ]
    }
   ],
   "source": [
    "pvalue=stats.mannwhitneyu(\n",
    "            orders[\n",
    "                np.logical_and(\n",
    "                    orders['group'] == 'A',\n",
    "                    np.logical_not(orders['visitorId'].isin(abnormalUsers)),\n",
    "                )\n",
    "            ]['revenue'],\n",
    "            orders[\n",
    "                np.logical_and(\n",
    "                    orders['group'] == 'B',\n",
    "                    np.logical_not(orders['visitorId'].isin(abnormalUsers)),\n",
    "                )\n",
    "            ]['revenue'],\n",
    "        )[1]\n",
    "\n",
    "\n",
    "alpha = 0.05\n",
    "\n",
    "print('p-значение: ', pvalue)\n",
    "if pvalue < alpha:\n",
    "    print('Отвергаем нулевую гипотезу')\n",
    "else:\n",
    "    print('Отвергнуть нулевую гипотезу нельзя')\n",
    "print('Относительный прирост среднего чека группы B: ''{0:.3f}'.format(\n",
    "        orders[\n",
    "            np.logical_and(\n",
    "                orders['group'] == 'B',\n",
    "                np.logical_not(orders['visitorId'].isin(abnormalUsers)),\n",
    "            )\n",
    "        ]['revenue'].mean()\n",
    "        / orders[\n",
    "            np.logical_and(\n",
    "                orders['group'] == 'A',\n",
    "                np.logical_not(orders['visitorId'].isin(abnormalUsers)),\n",
    "            )\n",
    "        ]['revenue'].mean()\n",
    "        - 1)\n",
    "     )"
   ]
  },
  {
   "cell_type": "markdown",
   "metadata": {},
   "source": [
    "P-value уменьшился, но и разница между сегментами изменилась с +28 до -5%"
   ]
  },
  {
   "cell_type": "markdown",
   "metadata": {},
   "source": [
    "### Вывод"
   ]
  },
  {
   "cell_type": "markdown",
   "metadata": {},
   "source": [
    " - Есть статистически значимое различие по конверсии между группами и по «сырым», и по данным после фильтрации аномалий;\n",
    " - Нет статистически значимого различия по среднему чеку между группами ни по «сырым», ни по данным после фильтрации аномалий;\n",
    " - График различия конверсии между группами сообщает, что почти с самого начала теста группа B лучше группы A.\n",
    " - График различия среднего чека колеблется: он-то и позволил вам найти аномалии. Сделать из этого графика определённые выводы нельзя."
   ]
  },
  {
   "cell_type": "markdown",
   "metadata": {},
   "source": [
    "Продолжать тест смысла нет: группа B статистически значимо лучше группы A только в одной из метрики после удаления аномалий ситуация не изменилась"
   ]
  }
 ],
 "metadata": {
  "ExecuteTimeLog": [
   {
    "duration": 897,
    "start_time": "2022-06-28T13:19:13.146Z"
   },
   {
    "duration": 458,
    "start_time": "2022-06-28T13:19:14.051Z"
   },
   {
    "duration": 75,
    "start_time": "2022-06-28T13:19:14.511Z"
   },
   {
    "duration": 0,
    "start_time": "2022-06-28T13:19:14.588Z"
   },
   {
    "duration": 9,
    "start_time": "2022-06-28T13:20:18.845Z"
   },
   {
    "duration": 8,
    "start_time": "2022-06-28T13:20:41.986Z"
   },
   {
    "duration": 6,
    "start_time": "2022-06-28T13:21:45.208Z"
   },
   {
    "duration": 24,
    "start_time": "2022-06-28T13:21:51.598Z"
   },
   {
    "duration": 37,
    "start_time": "2022-06-28T13:22:17.919Z"
   },
   {
    "duration": 19,
    "start_time": "2022-06-28T13:22:25.258Z"
   },
   {
    "duration": 5,
    "start_time": "2022-06-28T13:24:02.781Z"
   },
   {
    "duration": 6,
    "start_time": "2022-06-28T13:24:06.116Z"
   },
   {
    "duration": 19,
    "start_time": "2022-06-28T13:24:06.484Z"
   },
   {
    "duration": 22,
    "start_time": "2022-06-28T13:24:09.468Z"
   },
   {
    "duration": 3,
    "start_time": "2022-06-28T13:24:39.387Z"
   },
   {
    "duration": 8,
    "start_time": "2022-06-28T13:24:39.850Z"
   },
   {
    "duration": 20,
    "start_time": "2022-06-28T13:24:40.187Z"
   },
   {
    "duration": 20,
    "start_time": "2022-06-28T13:24:40.565Z"
   },
   {
    "duration": 21,
    "start_time": "2022-06-28T13:24:43.947Z"
   },
   {
    "duration": 2,
    "start_time": "2022-06-28T13:24:47.389Z"
   },
   {
    "duration": 169,
    "start_time": "2022-06-28T13:24:47.549Z"
   },
   {
    "duration": 3,
    "start_time": "2022-06-28T13:24:47.719Z"
   },
   {
    "duration": 6,
    "start_time": "2022-06-28T13:24:47.856Z"
   },
   {
    "duration": 18,
    "start_time": "2022-06-28T13:24:48.003Z"
   },
   {
    "duration": 20,
    "start_time": "2022-06-28T13:24:48.176Z"
   },
   {
    "duration": 21,
    "start_time": "2022-06-28T13:24:48.351Z"
   },
   {
    "duration": 3,
    "start_time": "2022-06-28T13:26:28.113Z"
   },
   {
    "duration": 5,
    "start_time": "2022-06-28T13:26:28.801Z"
   },
   {
    "duration": 29,
    "start_time": "2022-06-28T13:26:29.129Z"
   },
   {
    "duration": 662,
    "start_time": "2022-06-28T13:26:39.847Z"
   },
   {
    "duration": 197,
    "start_time": "2022-06-28T13:26:40.511Z"
   },
   {
    "duration": 4,
    "start_time": "2022-06-28T13:26:40.709Z"
   },
   {
    "duration": 7,
    "start_time": "2022-06-28T13:26:40.714Z"
   },
   {
    "duration": 33,
    "start_time": "2022-06-28T13:26:40.723Z"
   },
   {
    "duration": 34,
    "start_time": "2022-06-28T13:26:40.757Z"
   },
   {
    "duration": 17,
    "start_time": "2022-06-28T13:26:40.793Z"
   },
   {
    "duration": 153,
    "start_time": "2022-06-28T13:26:40.812Z"
   },
   {
    "duration": 7,
    "start_time": "2022-06-28T13:27:48.196Z"
   },
   {
    "duration": 3,
    "start_time": "2022-06-28T13:27:52.467Z"
   },
   {
    "duration": 6,
    "start_time": "2022-06-28T13:29:16.614Z"
   },
   {
    "duration": 13,
    "start_time": "2022-06-28T13:31:33.468Z"
   },
   {
    "duration": 15,
    "start_time": "2022-06-28T13:34:47.227Z"
   },
   {
    "duration": 10,
    "start_time": "2022-06-28T13:37:08.184Z"
   },
   {
    "duration": 12,
    "start_time": "2022-06-28T13:37:21.304Z"
   },
   {
    "duration": 26,
    "start_time": "2022-06-28T13:37:29.520Z"
   },
   {
    "duration": 649,
    "start_time": "2022-06-28T13:48:51.574Z"
   },
   {
    "duration": 157,
    "start_time": "2022-06-28T13:48:52.225Z"
   },
   {
    "duration": 4,
    "start_time": "2022-06-28T13:48:52.384Z"
   },
   {
    "duration": 6,
    "start_time": "2022-06-28T13:48:52.390Z"
   },
   {
    "duration": 24,
    "start_time": "2022-06-28T13:48:52.398Z"
   },
   {
    "duration": 25,
    "start_time": "2022-06-28T13:48:52.423Z"
   },
   {
    "duration": 23,
    "start_time": "2022-06-28T13:48:52.450Z"
   },
   {
    "duration": 3,
    "start_time": "2022-06-28T13:48:52.474Z"
   },
   {
    "duration": 478,
    "start_time": "2022-06-28T13:48:52.479Z"
   },
   {
    "duration": 0,
    "start_time": "2022-06-28T13:48:52.958Z"
   },
   {
    "duration": 0,
    "start_time": "2022-06-28T13:48:52.959Z"
   },
   {
    "duration": 361,
    "start_time": "2022-06-28T13:49:13.893Z"
   },
   {
    "duration": 22,
    "start_time": "2022-06-28T13:49:34.143Z"
   },
   {
    "duration": 23,
    "start_time": "2022-06-28T13:49:51.420Z"
   },
   {
    "duration": 11,
    "start_time": "2022-06-28T13:49:52.765Z"
   },
   {
    "duration": 5,
    "start_time": "2022-06-28T13:50:02.892Z"
   },
   {
    "duration": 8,
    "start_time": "2022-06-28T13:50:05.780Z"
   },
   {
    "duration": 12,
    "start_time": "2022-06-28T13:50:08.387Z"
   },
   {
    "duration": 12,
    "start_time": "2022-06-28T13:50:57.005Z"
   },
   {
    "duration": 12,
    "start_time": "2022-06-28T13:51:15.939Z"
   },
   {
    "duration": 33,
    "start_time": "2022-06-28T13:52:11.461Z"
   },
   {
    "duration": 7,
    "start_time": "2022-06-28T13:52:30.097Z"
   },
   {
    "duration": 9,
    "start_time": "2022-06-28T13:52:34.881Z"
   },
   {
    "duration": 216,
    "start_time": "2022-06-28T13:53:00.970Z"
   },
   {
    "duration": 13,
    "start_time": "2022-06-28T13:53:06.269Z"
   },
   {
    "duration": 7,
    "start_time": "2022-06-28T13:53:09.570Z"
   },
   {
    "duration": 10,
    "start_time": "2022-06-28T13:55:47.901Z"
   },
   {
    "duration": 13,
    "start_time": "2022-06-28T13:55:54.821Z"
   },
   {
    "duration": 161,
    "start_time": "2022-06-28T13:56:01.181Z"
   },
   {
    "duration": 12,
    "start_time": "2022-06-28T13:56:04.143Z"
   },
   {
    "duration": 9,
    "start_time": "2022-06-28T13:56:10.231Z"
   },
   {
    "duration": 12,
    "start_time": "2022-06-28T13:58:07.083Z"
   },
   {
    "duration": 5,
    "start_time": "2022-06-28T13:59:27.594Z"
   },
   {
    "duration": 256,
    "start_time": "2022-06-28T13:59:46.962Z"
   },
   {
    "duration": 383,
    "start_time": "2022-06-28T14:01:10.967Z"
   },
   {
    "duration": 103,
    "start_time": "2022-06-28T14:01:38.871Z"
   },
   {
    "duration": 191,
    "start_time": "2022-06-28T14:01:43.461Z"
   },
   {
    "duration": 244,
    "start_time": "2022-06-28T14:01:49.152Z"
   },
   {
    "duration": 185,
    "start_time": "2022-06-28T14:03:33.924Z"
   },
   {
    "duration": 300,
    "start_time": "2022-06-28T14:03:41.485Z"
   },
   {
    "duration": 257,
    "start_time": "2022-06-28T14:05:42.759Z"
   },
   {
    "duration": 190,
    "start_time": "2022-06-28T14:05:50.609Z"
   },
   {
    "duration": 222,
    "start_time": "2022-06-28T14:05:59.954Z"
   },
   {
    "duration": 205,
    "start_time": "2022-06-28T14:06:04.411Z"
   },
   {
    "duration": 176,
    "start_time": "2022-06-28T14:09:25.069Z"
   },
   {
    "duration": 194,
    "start_time": "2022-06-28T14:09:46.863Z"
   },
   {
    "duration": 282,
    "start_time": "2022-06-28T14:11:41.170Z"
   },
   {
    "duration": 187,
    "start_time": "2022-06-28T14:11:56.675Z"
   },
   {
    "duration": 277,
    "start_time": "2022-06-28T14:12:07.403Z"
   },
   {
    "duration": 180,
    "start_time": "2022-06-28T14:12:11.247Z"
   },
   {
    "duration": 232,
    "start_time": "2022-06-28T14:15:50.192Z"
   },
   {
    "duration": 281,
    "start_time": "2022-06-28T14:16:57.966Z"
   },
   {
    "duration": 188,
    "start_time": "2022-06-28T14:18:18.964Z"
   },
   {
    "duration": 251,
    "start_time": "2022-06-28T14:18:46.063Z"
   },
   {
    "duration": 172,
    "start_time": "2022-06-28T14:18:52.351Z"
   },
   {
    "duration": 200,
    "start_time": "2022-06-28T14:18:56.379Z"
   },
   {
    "duration": 225,
    "start_time": "2022-06-28T14:19:00.964Z"
   },
   {
    "duration": 179,
    "start_time": "2022-06-28T14:19:10.275Z"
   },
   {
    "duration": 412,
    "start_time": "2022-06-28T14:28:32.924Z"
   },
   {
    "duration": 389,
    "start_time": "2022-06-28T14:28:58.916Z"
   },
   {
    "duration": 272,
    "start_time": "2022-06-28T14:29:05.449Z"
   },
   {
    "duration": 297,
    "start_time": "2022-06-28T14:32:06.064Z"
   },
   {
    "duration": 274,
    "start_time": "2022-06-28T14:32:18.669Z"
   },
   {
    "duration": 310,
    "start_time": "2022-06-28T14:32:24.895Z"
   },
   {
    "duration": 281,
    "start_time": "2022-06-28T14:32:29.633Z"
   },
   {
    "duration": 360,
    "start_time": "2022-06-28T14:35:38.204Z"
   },
   {
    "duration": 347,
    "start_time": "2022-06-28T14:35:44.195Z"
   },
   {
    "duration": 374,
    "start_time": "2022-06-28T14:35:47.508Z"
   },
   {
    "duration": 318,
    "start_time": "2022-06-28T14:35:56.156Z"
   },
   {
    "duration": 333,
    "start_time": "2022-06-28T14:36:02.292Z"
   },
   {
    "duration": 411,
    "start_time": "2022-06-28T14:36:06.228Z"
   },
   {
    "duration": 828,
    "start_time": "2022-07-04T13:11:04.132Z"
   },
   {
    "duration": 102,
    "start_time": "2022-07-04T13:11:04.962Z"
   },
   {
    "duration": 3,
    "start_time": "2022-07-04T13:11:05.066Z"
   },
   {
    "duration": 7,
    "start_time": "2022-07-04T13:11:05.071Z"
   },
   {
    "duration": 28,
    "start_time": "2022-07-04T13:11:05.079Z"
   },
   {
    "duration": 18,
    "start_time": "2022-07-04T13:11:05.108Z"
   },
   {
    "duration": 28,
    "start_time": "2022-07-04T13:11:05.128Z"
   },
   {
    "duration": 3,
    "start_time": "2022-07-04T13:11:05.158Z"
   },
   {
    "duration": 15,
    "start_time": "2022-07-04T13:11:05.165Z"
   },
   {
    "duration": 19,
    "start_time": "2022-07-04T13:11:05.182Z"
   },
   {
    "duration": 23,
    "start_time": "2022-07-04T13:11:05.202Z"
   },
   {
    "duration": 10,
    "start_time": "2022-07-04T13:11:05.245Z"
   },
   {
    "duration": 175,
    "start_time": "2022-07-04T13:11:05.256Z"
   },
   {
    "duration": 8,
    "start_time": "2022-07-04T13:11:05.432Z"
   },
   {
    "duration": 119,
    "start_time": "2022-07-04T13:11:05.446Z"
   },
   {
    "duration": 7,
    "start_time": "2022-07-04T13:11:05.566Z"
   },
   {
    "duration": 14,
    "start_time": "2022-07-04T13:11:05.575Z"
   },
   {
    "duration": 278,
    "start_time": "2022-07-04T13:11:05.590Z"
   },
   {
    "duration": 190,
    "start_time": "2022-07-04T13:11:05.870Z"
   },
   {
    "duration": 320,
    "start_time": "2022-07-04T13:11:06.062Z"
   },
   {
    "duration": 235,
    "start_time": "2022-07-04T13:11:06.384Z"
   },
   {
    "duration": 310,
    "start_time": "2022-07-04T13:11:06.621Z"
   },
   {
    "duration": 291,
    "start_time": "2022-07-04T13:11:35.948Z"
   },
   {
    "duration": 293,
    "start_time": "2022-07-04T13:11:41.060Z"
   },
   {
    "duration": 86,
    "start_time": "2022-07-04T13:32:32.980Z"
   },
   {
    "duration": 784,
    "start_time": "2022-07-04T13:32:53.450Z"
   },
   {
    "duration": 142,
    "start_time": "2022-07-04T13:33:24.626Z"
   },
   {
    "duration": 13,
    "start_time": "2022-07-04T13:47:34.348Z"
   },
   {
    "duration": 21,
    "start_time": "2022-07-04T13:47:44.339Z"
   },
   {
    "duration": 14,
    "start_time": "2022-07-04T13:48:10.405Z"
   },
   {
    "duration": 136,
    "start_time": "2022-07-04T13:48:36.673Z"
   },
   {
    "duration": 5,
    "start_time": "2022-07-04T14:37:43.408Z"
   },
   {
    "duration": 6,
    "start_time": "2022-07-04T14:37:56.244Z"
   },
   {
    "duration": 158,
    "start_time": "2022-07-04T16:02:20.341Z"
   },
   {
    "duration": 134,
    "start_time": "2022-07-04T16:28:26.547Z"
   },
   {
    "duration": 5,
    "start_time": "2022-07-04T16:33:32.381Z"
   },
   {
    "duration": 4,
    "start_time": "2022-07-04T16:33:36.131Z"
   },
   {
    "duration": 138,
    "start_time": "2022-07-04T16:46:47.656Z"
   },
   {
    "duration": 162,
    "start_time": "2022-07-04T16:47:11.192Z"
   },
   {
    "duration": 153,
    "start_time": "2022-07-04T16:47:18.283Z"
   },
   {
    "duration": 218,
    "start_time": "2022-07-04T16:47:29.690Z"
   },
   {
    "duration": 49,
    "start_time": "2022-07-04T20:38:52.247Z"
   },
   {
    "duration": 14,
    "start_time": "2022-07-04T20:39:33.278Z"
   },
   {
    "duration": 7,
    "start_time": "2022-07-04T20:39:37.692Z"
   },
   {
    "duration": 25,
    "start_time": "2022-07-04T20:40:06.097Z"
   },
   {
    "duration": 723,
    "start_time": "2022-07-04T20:41:08.484Z"
   },
   {
    "duration": 223,
    "start_time": "2022-07-04T20:41:09.209Z"
   },
   {
    "duration": 4,
    "start_time": "2022-07-04T20:41:09.433Z"
   },
   {
    "duration": 6,
    "start_time": "2022-07-04T20:41:09.440Z"
   },
   {
    "duration": 40,
    "start_time": "2022-07-04T20:41:09.448Z"
   },
   {
    "duration": 23,
    "start_time": "2022-07-04T20:41:09.491Z"
   },
   {
    "duration": 46,
    "start_time": "2022-07-04T20:41:09.516Z"
   },
   {
    "duration": 3,
    "start_time": "2022-07-04T20:41:09.564Z"
   },
   {
    "duration": 21,
    "start_time": "2022-07-04T20:41:09.569Z"
   },
   {
    "duration": 10,
    "start_time": "2022-07-04T20:41:09.593Z"
   },
   {
    "duration": 109,
    "start_time": "2022-07-04T20:41:09.604Z"
   },
   {
    "duration": 0,
    "start_time": "2022-07-04T20:41:09.715Z"
   },
   {
    "duration": 0,
    "start_time": "2022-07-04T20:41:09.716Z"
   },
   {
    "duration": 0,
    "start_time": "2022-07-04T20:41:09.717Z"
   },
   {
    "duration": 0,
    "start_time": "2022-07-04T20:41:09.718Z"
   },
   {
    "duration": 0,
    "start_time": "2022-07-04T20:41:09.721Z"
   },
   {
    "duration": 0,
    "start_time": "2022-07-04T20:41:09.722Z"
   },
   {
    "duration": 0,
    "start_time": "2022-07-04T20:41:09.723Z"
   },
   {
    "duration": 0,
    "start_time": "2022-07-04T20:41:09.724Z"
   },
   {
    "duration": 0,
    "start_time": "2022-07-04T20:41:09.746Z"
   },
   {
    "duration": 0,
    "start_time": "2022-07-04T20:41:09.748Z"
   },
   {
    "duration": 0,
    "start_time": "2022-07-04T20:41:09.749Z"
   },
   {
    "duration": 0,
    "start_time": "2022-07-04T20:41:09.750Z"
   },
   {
    "duration": 0,
    "start_time": "2022-07-04T20:41:09.752Z"
   },
   {
    "duration": 0,
    "start_time": "2022-07-04T20:41:09.753Z"
   },
   {
    "duration": 0,
    "start_time": "2022-07-04T20:41:09.754Z"
   },
   {
    "duration": 0,
    "start_time": "2022-07-04T20:41:09.756Z"
   },
   {
    "duration": 0,
    "start_time": "2022-07-04T20:41:09.757Z"
   },
   {
    "duration": 27,
    "start_time": "2022-07-04T20:42:04.852Z"
   },
   {
    "duration": 12,
    "start_time": "2022-07-04T20:42:54.685Z"
   },
   {
    "duration": 9,
    "start_time": "2022-07-04T20:43:01.287Z"
   },
   {
    "duration": 10,
    "start_time": "2022-07-04T20:43:12.699Z"
   },
   {
    "duration": 12,
    "start_time": "2022-07-04T20:43:18.361Z"
   },
   {
    "duration": 10,
    "start_time": "2022-07-04T20:43:22.932Z"
   },
   {
    "duration": 9,
    "start_time": "2022-07-04T20:43:40.427Z"
   },
   {
    "duration": 10,
    "start_time": "2022-07-04T20:48:05.579Z"
   },
   {
    "duration": 18,
    "start_time": "2022-07-04T20:48:09.039Z"
   },
   {
    "duration": 14,
    "start_time": "2022-07-04T20:52:00.857Z"
   },
   {
    "duration": 677,
    "start_time": "2022-07-04T20:53:22.317Z"
   },
   {
    "duration": 98,
    "start_time": "2022-07-04T20:53:22.996Z"
   },
   {
    "duration": 4,
    "start_time": "2022-07-04T20:53:23.099Z"
   },
   {
    "duration": 7,
    "start_time": "2022-07-04T20:53:23.105Z"
   },
   {
    "duration": 30,
    "start_time": "2022-07-04T20:53:23.114Z"
   },
   {
    "duration": 22,
    "start_time": "2022-07-04T20:53:23.146Z"
   },
   {
    "duration": 17,
    "start_time": "2022-07-04T20:53:23.170Z"
   },
   {
    "duration": 3,
    "start_time": "2022-07-04T20:53:23.188Z"
   },
   {
    "duration": 18,
    "start_time": "2022-07-04T20:53:23.193Z"
   },
   {
    "duration": 39,
    "start_time": "2022-07-04T20:53:23.212Z"
   },
   {
    "duration": 12,
    "start_time": "2022-07-04T20:53:23.253Z"
   },
   {
    "duration": 15,
    "start_time": "2022-07-04T20:53:23.267Z"
   },
   {
    "duration": 10,
    "start_time": "2022-07-04T20:53:23.284Z"
   },
   {
    "duration": 9,
    "start_time": "2022-07-04T20:53:23.296Z"
   },
   {
    "duration": 197,
    "start_time": "2022-07-04T20:53:23.306Z"
   },
   {
    "duration": 9,
    "start_time": "2022-07-04T20:53:23.505Z"
   },
   {
    "duration": 137,
    "start_time": "2022-07-04T20:53:23.515Z"
   },
   {
    "duration": 10,
    "start_time": "2022-07-04T20:53:23.654Z"
   },
   {
    "duration": 18,
    "start_time": "2022-07-04T20:53:23.667Z"
   },
   {
    "duration": 283,
    "start_time": "2022-07-04T20:53:23.686Z"
   },
   {
    "duration": 187,
    "start_time": "2022-07-04T20:53:23.972Z"
   },
   {
    "duration": 278,
    "start_time": "2022-07-04T20:53:24.160Z"
   },
   {
    "duration": 228,
    "start_time": "2022-07-04T20:53:24.445Z"
   },
   {
    "duration": 285,
    "start_time": "2022-07-04T20:53:24.676Z"
   },
   {
    "duration": 122,
    "start_time": "2022-07-04T20:53:24.963Z"
   },
   {
    "duration": 4,
    "start_time": "2022-07-04T20:53:25.087Z"
   },
   {
    "duration": 136,
    "start_time": "2022-07-04T20:53:25.094Z"
   },
   {
    "duration": 5,
    "start_time": "2022-07-04T20:53:25.231Z"
   },
   {
    "duration": 3,
    "start_time": "2022-07-04T20:56:46.227Z"
   },
   {
    "duration": 73,
    "start_time": "2022-07-04T20:57:15.895Z"
   },
   {
    "duration": 6,
    "start_time": "2022-07-04T20:57:22.413Z"
   },
   {
    "duration": 4,
    "start_time": "2022-07-04T20:57:28.541Z"
   },
   {
    "duration": 603,
    "start_time": "2022-07-04T20:57:46.089Z"
   },
   {
    "duration": 98,
    "start_time": "2022-07-04T20:57:46.694Z"
   },
   {
    "duration": 4,
    "start_time": "2022-07-04T20:57:46.794Z"
   },
   {
    "duration": 6,
    "start_time": "2022-07-04T20:57:46.801Z"
   },
   {
    "duration": 24,
    "start_time": "2022-07-04T20:57:46.808Z"
   },
   {
    "duration": 21,
    "start_time": "2022-07-04T20:57:46.834Z"
   },
   {
    "duration": 17,
    "start_time": "2022-07-04T20:57:46.857Z"
   },
   {
    "duration": 4,
    "start_time": "2022-07-04T20:57:46.877Z"
   },
   {
    "duration": 16,
    "start_time": "2022-07-04T20:57:46.883Z"
   },
   {
    "duration": 48,
    "start_time": "2022-07-04T20:57:46.903Z"
   },
   {
    "duration": 14,
    "start_time": "2022-07-04T20:57:46.952Z"
   },
   {
    "duration": 6,
    "start_time": "2022-07-04T20:57:46.968Z"
   },
   {
    "duration": 14,
    "start_time": "2022-07-04T20:57:46.976Z"
   },
   {
    "duration": 4,
    "start_time": "2022-07-04T20:57:46.992Z"
   },
   {
    "duration": 21,
    "start_time": "2022-07-04T20:57:46.997Z"
   },
   {
    "duration": 29,
    "start_time": "2022-07-04T20:57:47.020Z"
   },
   {
    "duration": 12,
    "start_time": "2022-07-04T20:57:47.051Z"
   },
   {
    "duration": 178,
    "start_time": "2022-07-04T20:57:47.065Z"
   },
   {
    "duration": 11,
    "start_time": "2022-07-04T20:57:47.246Z"
   },
   {
    "duration": 137,
    "start_time": "2022-07-04T20:57:47.258Z"
   },
   {
    "duration": 13,
    "start_time": "2022-07-04T20:57:47.397Z"
   },
   {
    "duration": 14,
    "start_time": "2022-07-04T20:57:47.412Z"
   },
   {
    "duration": 280,
    "start_time": "2022-07-04T20:57:47.428Z"
   },
   {
    "duration": 174,
    "start_time": "2022-07-04T20:57:47.710Z"
   },
   {
    "duration": 264,
    "start_time": "2022-07-04T20:57:47.886Z"
   },
   {
    "duration": 239,
    "start_time": "2022-07-04T20:57:48.152Z"
   },
   {
    "duration": 266,
    "start_time": "2022-07-04T20:57:48.393Z"
   },
   {
    "duration": 131,
    "start_time": "2022-07-04T20:57:48.663Z"
   },
   {
    "duration": 4,
    "start_time": "2022-07-04T20:57:48.796Z"
   },
   {
    "duration": 168,
    "start_time": "2022-07-04T20:57:48.802Z"
   },
   {
    "duration": 5,
    "start_time": "2022-07-04T20:57:48.971Z"
   },
   {
    "duration": 50,
    "start_time": "2022-07-05T11:54:13.439Z"
   },
   {
    "duration": 1084,
    "start_time": "2022-07-05T11:54:19.939Z"
   },
   {
    "duration": 175,
    "start_time": "2022-07-05T11:54:21.026Z"
   },
   {
    "duration": 5,
    "start_time": "2022-07-05T11:54:21.202Z"
   },
   {
    "duration": 11,
    "start_time": "2022-07-05T11:54:21.210Z"
   },
   {
    "duration": 37,
    "start_time": "2022-07-05T11:54:21.223Z"
   },
   {
    "duration": 27,
    "start_time": "2022-07-05T11:54:21.262Z"
   },
   {
    "duration": 57,
    "start_time": "2022-07-05T11:54:21.292Z"
   },
   {
    "duration": 3,
    "start_time": "2022-07-05T11:54:21.351Z"
   },
   {
    "duration": 21,
    "start_time": "2022-07-05T11:54:21.356Z"
   },
   {
    "duration": 13,
    "start_time": "2022-07-05T11:54:21.381Z"
   },
   {
    "duration": 53,
    "start_time": "2022-07-05T11:54:21.396Z"
   },
   {
    "duration": 5,
    "start_time": "2022-07-05T11:54:21.451Z"
   },
   {
    "duration": 13,
    "start_time": "2022-07-05T11:54:21.458Z"
   },
   {
    "duration": 18,
    "start_time": "2022-07-05T11:54:21.473Z"
   },
   {
    "duration": 30,
    "start_time": "2022-07-05T11:54:21.493Z"
   },
   {
    "duration": 19,
    "start_time": "2022-07-05T11:54:21.544Z"
   },
   {
    "duration": 24,
    "start_time": "2022-07-05T11:54:21.566Z"
   },
   {
    "duration": 199,
    "start_time": "2022-07-05T11:54:21.593Z"
   },
   {
    "duration": 11,
    "start_time": "2022-07-05T11:54:21.795Z"
   },
   {
    "duration": 154,
    "start_time": "2022-07-05T11:54:21.809Z"
   },
   {
    "duration": 11,
    "start_time": "2022-07-05T11:54:21.965Z"
   },
   {
    "duration": 16,
    "start_time": "2022-07-05T11:54:21.978Z"
   },
   {
    "duration": 302,
    "start_time": "2022-07-05T11:54:21.996Z"
   },
   {
    "duration": 205,
    "start_time": "2022-07-05T11:54:22.300Z"
   },
   {
    "duration": 447,
    "start_time": "2022-07-05T11:54:22.507Z"
   },
   {
    "duration": 254,
    "start_time": "2022-07-05T11:54:22.956Z"
   },
   {
    "duration": 325,
    "start_time": "2022-07-05T11:54:23.212Z"
   },
   {
    "duration": 177,
    "start_time": "2022-07-05T11:54:23.546Z"
   },
   {
    "duration": 6,
    "start_time": "2022-07-05T11:54:23.724Z"
   },
   {
    "duration": 146,
    "start_time": "2022-07-05T11:54:23.744Z"
   },
   {
    "duration": 4,
    "start_time": "2022-07-05T11:54:23.893Z"
   },
   {
    "duration": 30,
    "start_time": "2022-07-05T11:54:23.899Z"
   },
   {
    "duration": 14,
    "start_time": "2022-07-05T12:16:38.268Z"
   },
   {
    "duration": 8,
    "start_time": "2022-07-05T12:16:42.179Z"
   },
   {
    "duration": 92,
    "start_time": "2022-07-05T12:16:59.026Z"
   },
   {
    "duration": 404,
    "start_time": "2022-07-05T12:17:15.788Z"
   },
   {
    "duration": 12,
    "start_time": "2022-07-05T12:17:19.153Z"
   },
   {
    "duration": 12,
    "start_time": "2022-07-05T12:20:05.326Z"
   },
   {
    "duration": 9,
    "start_time": "2022-07-05T12:20:54.303Z"
   },
   {
    "duration": 12,
    "start_time": "2022-07-05T12:21:22.403Z"
   },
   {
    "duration": 10,
    "start_time": "2022-07-05T12:21:30.925Z"
   },
   {
    "duration": 21,
    "start_time": "2022-07-05T12:23:18.766Z"
   },
   {
    "duration": 147,
    "start_time": "2022-07-06T14:06:19.096Z"
   },
   {
    "duration": 59,
    "start_time": "2022-07-06T14:06:51.560Z"
   },
   {
    "duration": 1461,
    "start_time": "2022-07-06T14:07:07.262Z"
   },
   {
    "duration": 411,
    "start_time": "2022-07-06T14:07:08.726Z"
   },
   {
    "duration": 5,
    "start_time": "2022-07-06T14:07:09.139Z"
   },
   {
    "duration": 13,
    "start_time": "2022-07-06T14:07:09.146Z"
   },
   {
    "duration": 39,
    "start_time": "2022-07-06T14:07:09.162Z"
   },
   {
    "duration": 29,
    "start_time": "2022-07-06T14:07:09.204Z"
   },
   {
    "duration": 26,
    "start_time": "2022-07-06T14:07:09.234Z"
   },
   {
    "duration": 4,
    "start_time": "2022-07-06T14:07:09.263Z"
   },
   {
    "duration": 62,
    "start_time": "2022-07-06T14:07:09.270Z"
   },
   {
    "duration": 14,
    "start_time": "2022-07-06T14:07:09.334Z"
   },
   {
    "duration": 15,
    "start_time": "2022-07-06T14:07:09.350Z"
   },
   {
    "duration": 5,
    "start_time": "2022-07-06T14:07:09.367Z"
   },
   {
    "duration": 27,
    "start_time": "2022-07-06T14:07:09.374Z"
   },
   {
    "duration": 22,
    "start_time": "2022-07-06T14:07:09.405Z"
   },
   {
    "duration": 24,
    "start_time": "2022-07-06T14:07:09.429Z"
   },
   {
    "duration": 12,
    "start_time": "2022-07-06T14:07:09.455Z"
   },
   {
    "duration": 25,
    "start_time": "2022-07-06T14:07:09.469Z"
   },
   {
    "duration": 46,
    "start_time": "2022-07-06T14:07:09.496Z"
   },
   {
    "duration": 118,
    "start_time": "2022-07-06T14:07:09.545Z"
   },
   {
    "duration": 0,
    "start_time": "2022-07-06T14:07:09.665Z"
   },
   {
    "duration": 0,
    "start_time": "2022-07-06T14:07:09.667Z"
   },
   {
    "duration": 0,
    "start_time": "2022-07-06T14:07:09.669Z"
   },
   {
    "duration": 0,
    "start_time": "2022-07-06T14:07:09.670Z"
   },
   {
    "duration": 0,
    "start_time": "2022-07-06T14:07:09.672Z"
   },
   {
    "duration": 0,
    "start_time": "2022-07-06T14:07:09.673Z"
   },
   {
    "duration": 0,
    "start_time": "2022-07-06T14:07:09.675Z"
   },
   {
    "duration": 0,
    "start_time": "2022-07-06T14:07:09.702Z"
   },
   {
    "duration": 0,
    "start_time": "2022-07-06T14:07:09.703Z"
   },
   {
    "duration": 0,
    "start_time": "2022-07-06T14:07:09.703Z"
   },
   {
    "duration": 0,
    "start_time": "2022-07-06T14:07:09.704Z"
   },
   {
    "duration": 0,
    "start_time": "2022-07-06T14:07:09.706Z"
   },
   {
    "duration": 0,
    "start_time": "2022-07-06T14:07:09.707Z"
   },
   {
    "duration": 0,
    "start_time": "2022-07-06T14:07:09.709Z"
   },
   {
    "duration": 0,
    "start_time": "2022-07-06T14:07:09.710Z"
   },
   {
    "duration": 0,
    "start_time": "2022-07-06T14:07:09.711Z"
   },
   {
    "duration": 0,
    "start_time": "2022-07-06T14:07:09.712Z"
   },
   {
    "duration": 11,
    "start_time": "2022-07-06T14:07:30.247Z"
   },
   {
    "duration": 131,
    "start_time": "2022-07-06T14:07:50.119Z"
   },
   {
    "duration": 21,
    "start_time": "2022-07-06T14:07:50.591Z"
   },
   {
    "duration": 10,
    "start_time": "2022-07-06T14:07:52.965Z"
   },
   {
    "duration": 10,
    "start_time": "2022-07-06T14:07:53.280Z"
   },
   {
    "duration": 10,
    "start_time": "2022-07-06T14:07:53.981Z"
   },
   {
    "duration": 13,
    "start_time": "2022-07-06T14:08:12.027Z"
   },
   {
    "duration": 278,
    "start_time": "2022-07-06T14:08:14.926Z"
   },
   {
    "duration": 196,
    "start_time": "2022-07-06T14:08:18.473Z"
   },
   {
    "duration": 324,
    "start_time": "2022-07-06T14:08:20.720Z"
   },
   {
    "duration": 179,
    "start_time": "2022-07-06T14:08:23.554Z"
   },
   {
    "duration": 280,
    "start_time": "2022-07-06T14:08:25.927Z"
   },
   {
    "duration": 131,
    "start_time": "2022-07-06T14:08:27.980Z"
   },
   {
    "duration": 4,
    "start_time": "2022-07-06T14:09:05.673Z"
   },
   {
    "duration": 1143,
    "start_time": "2022-07-06T14:09:10.936Z"
   },
   {
    "duration": 298,
    "start_time": "2022-07-06T14:09:12.081Z"
   },
   {
    "duration": 4,
    "start_time": "2022-07-06T14:09:12.380Z"
   },
   {
    "duration": 6,
    "start_time": "2022-07-06T14:09:12.386Z"
   },
   {
    "duration": 38,
    "start_time": "2022-07-06T14:09:12.395Z"
   },
   {
    "duration": 21,
    "start_time": "2022-07-06T14:09:12.435Z"
   },
   {
    "duration": 19,
    "start_time": "2022-07-06T14:09:12.457Z"
   },
   {
    "duration": 22,
    "start_time": "2022-07-06T14:09:12.477Z"
   },
   {
    "duration": 31,
    "start_time": "2022-07-06T14:09:12.514Z"
   },
   {
    "duration": 15,
    "start_time": "2022-07-06T14:09:12.547Z"
   },
   {
    "duration": 16,
    "start_time": "2022-07-06T14:09:12.564Z"
   },
   {
    "duration": 5,
    "start_time": "2022-07-06T14:09:12.582Z"
   },
   {
    "duration": 21,
    "start_time": "2022-07-06T14:09:12.588Z"
   },
   {
    "duration": 6,
    "start_time": "2022-07-06T14:09:12.614Z"
   },
   {
    "duration": 19,
    "start_time": "2022-07-06T14:09:12.622Z"
   },
   {
    "duration": 12,
    "start_time": "2022-07-06T14:09:12.643Z"
   },
   {
    "duration": 13,
    "start_time": "2022-07-06T14:09:12.656Z"
   },
   {
    "duration": 61,
    "start_time": "2022-07-06T14:09:12.671Z"
   },
   {
    "duration": 9,
    "start_time": "2022-07-06T14:09:12.734Z"
   },
   {
    "duration": 142,
    "start_time": "2022-07-06T14:09:12.745Z"
   },
   {
    "duration": 20,
    "start_time": "2022-07-06T14:09:12.889Z"
   },
   {
    "duration": 15,
    "start_time": "2022-07-06T14:09:12.912Z"
   },
   {
    "duration": 295,
    "start_time": "2022-07-06T14:09:12.930Z"
   },
   {
    "duration": 206,
    "start_time": "2022-07-06T14:09:13.227Z"
   },
   {
    "duration": 302,
    "start_time": "2022-07-06T14:09:13.435Z"
   },
   {
    "duration": 194,
    "start_time": "2022-07-06T14:09:13.739Z"
   },
   {
    "duration": 292,
    "start_time": "2022-07-06T14:09:13.934Z"
   },
   {
    "duration": 137,
    "start_time": "2022-07-06T14:09:14.228Z"
   },
   {
    "duration": 4,
    "start_time": "2022-07-06T14:09:14.367Z"
   },
   {
    "duration": 155,
    "start_time": "2022-07-06T14:09:14.374Z"
   },
   {
    "duration": 4,
    "start_time": "2022-07-06T14:09:14.531Z"
   },
   {
    "duration": 15,
    "start_time": "2022-07-06T14:09:14.536Z"
   },
   {
    "duration": 97,
    "start_time": "2022-07-06T14:09:14.552Z"
   },
   {
    "duration": 0,
    "start_time": "2022-07-06T14:09:14.651Z"
   },
   {
    "duration": 0,
    "start_time": "2022-07-06T14:09:14.653Z"
   },
   {
    "duration": 0,
    "start_time": "2022-07-06T14:09:14.655Z"
   },
   {
    "duration": 33,
    "start_time": "2022-07-06T14:57:02.759Z"
   },
   {
    "duration": 14,
    "start_time": "2022-07-06T14:57:04.008Z"
   },
   {
    "duration": 1224,
    "start_time": "2022-07-06T14:57:10.316Z"
   },
   {
    "duration": 169,
    "start_time": "2022-07-06T14:57:11.542Z"
   },
   {
    "duration": 4,
    "start_time": "2022-07-06T14:57:11.713Z"
   },
   {
    "duration": 7,
    "start_time": "2022-07-06T14:57:11.719Z"
   },
   {
    "duration": 33,
    "start_time": "2022-07-06T14:57:11.728Z"
   },
   {
    "duration": 42,
    "start_time": "2022-07-06T14:57:11.763Z"
   },
   {
    "duration": 25,
    "start_time": "2022-07-06T14:57:11.807Z"
   },
   {
    "duration": 4,
    "start_time": "2022-07-06T14:57:11.834Z"
   },
   {
    "duration": 20,
    "start_time": "2022-07-06T14:57:11.840Z"
   },
   {
    "duration": 46,
    "start_time": "2022-07-06T14:57:11.863Z"
   },
   {
    "duration": 19,
    "start_time": "2022-07-06T14:57:11.911Z"
   },
   {
    "duration": 4,
    "start_time": "2022-07-06T14:57:11.933Z"
   },
   {
    "duration": 11,
    "start_time": "2022-07-06T14:57:11.938Z"
   },
   {
    "duration": 5,
    "start_time": "2022-07-06T14:57:11.951Z"
   },
   {
    "duration": 63,
    "start_time": "2022-07-06T14:57:11.958Z"
   },
   {
    "duration": 13,
    "start_time": "2022-07-06T14:57:12.022Z"
   },
   {
    "duration": 14,
    "start_time": "2022-07-06T14:57:12.036Z"
   },
   {
    "duration": 49,
    "start_time": "2022-07-06T14:57:12.052Z"
   },
   {
    "duration": 12,
    "start_time": "2022-07-06T14:57:12.104Z"
   },
   {
    "duration": 162,
    "start_time": "2022-07-06T14:57:12.118Z"
   },
   {
    "duration": 9,
    "start_time": "2022-07-06T14:57:12.282Z"
   },
   {
    "duration": 14,
    "start_time": "2022-07-06T14:57:12.298Z"
   },
   {
    "duration": 327,
    "start_time": "2022-07-06T14:57:12.313Z"
   },
   {
    "duration": 232,
    "start_time": "2022-07-06T14:57:12.642Z"
   },
   {
    "duration": 376,
    "start_time": "2022-07-06T14:57:12.876Z"
   },
   {
    "duration": 203,
    "start_time": "2022-07-06T14:57:13.255Z"
   },
   {
    "duration": 371,
    "start_time": "2022-07-06T14:57:13.460Z"
   },
   {
    "duration": 179,
    "start_time": "2022-07-06T14:57:13.836Z"
   },
   {
    "duration": 5,
    "start_time": "2022-07-06T14:57:14.018Z"
   },
   {
    "duration": 173,
    "start_time": "2022-07-06T14:57:14.025Z"
   },
   {
    "duration": 5,
    "start_time": "2022-07-06T14:57:14.200Z"
   },
   {
    "duration": 14,
    "start_time": "2022-07-06T14:57:14.207Z"
   },
   {
    "duration": 115,
    "start_time": "2022-07-06T14:57:14.223Z"
   },
   {
    "duration": 0,
    "start_time": "2022-07-06T14:57:14.339Z"
   },
   {
    "duration": 0,
    "start_time": "2022-07-06T14:57:14.341Z"
   },
   {
    "duration": 0,
    "start_time": "2022-07-06T14:57:14.342Z"
   },
   {
    "duration": 19,
    "start_time": "2022-07-06T14:58:37.456Z"
   },
   {
    "duration": 11,
    "start_time": "2022-07-06T14:58:59.355Z"
   },
   {
    "duration": 116,
    "start_time": "2022-07-06T14:59:13.289Z"
   },
   {
    "duration": 10,
    "start_time": "2022-07-06T14:59:27.297Z"
   },
   {
    "duration": 11,
    "start_time": "2022-07-06T14:59:38.548Z"
   },
   {
    "duration": 1177,
    "start_time": "2022-07-06T15:00:23.701Z"
   },
   {
    "duration": 171,
    "start_time": "2022-07-06T15:00:24.880Z"
   },
   {
    "duration": 4,
    "start_time": "2022-07-06T15:00:25.053Z"
   },
   {
    "duration": 19,
    "start_time": "2022-07-06T15:00:25.060Z"
   },
   {
    "duration": 44,
    "start_time": "2022-07-06T15:00:25.081Z"
   },
   {
    "duration": 24,
    "start_time": "2022-07-06T15:00:25.127Z"
   },
   {
    "duration": 50,
    "start_time": "2022-07-06T15:00:25.153Z"
   },
   {
    "duration": 114,
    "start_time": "2022-07-06T15:00:25.205Z"
   },
   {
    "duration": 0,
    "start_time": "2022-07-06T15:00:25.324Z"
   },
   {
    "duration": 0,
    "start_time": "2022-07-06T15:00:25.325Z"
   },
   {
    "duration": 0,
    "start_time": "2022-07-06T15:00:25.326Z"
   },
   {
    "duration": 0,
    "start_time": "2022-07-06T15:00:25.328Z"
   },
   {
    "duration": 0,
    "start_time": "2022-07-06T15:00:25.329Z"
   },
   {
    "duration": 1,
    "start_time": "2022-07-06T15:00:25.330Z"
   },
   {
    "duration": 0,
    "start_time": "2022-07-06T15:00:25.332Z"
   },
   {
    "duration": 0,
    "start_time": "2022-07-06T15:00:25.333Z"
   },
   {
    "duration": 0,
    "start_time": "2022-07-06T15:00:25.335Z"
   },
   {
    "duration": 0,
    "start_time": "2022-07-06T15:00:25.337Z"
   },
   {
    "duration": 0,
    "start_time": "2022-07-06T15:00:25.338Z"
   },
   {
    "duration": 0,
    "start_time": "2022-07-06T15:00:25.339Z"
   },
   {
    "duration": 0,
    "start_time": "2022-07-06T15:00:25.341Z"
   },
   {
    "duration": 0,
    "start_time": "2022-07-06T15:00:25.342Z"
   },
   {
    "duration": 0,
    "start_time": "2022-07-06T15:00:25.343Z"
   },
   {
    "duration": 0,
    "start_time": "2022-07-06T15:00:25.345Z"
   },
   {
    "duration": 0,
    "start_time": "2022-07-06T15:00:25.346Z"
   },
   {
    "duration": 0,
    "start_time": "2022-07-06T15:00:25.348Z"
   },
   {
    "duration": 0,
    "start_time": "2022-07-06T15:00:25.349Z"
   },
   {
    "duration": 0,
    "start_time": "2022-07-06T15:00:25.351Z"
   },
   {
    "duration": 0,
    "start_time": "2022-07-06T15:00:25.352Z"
   },
   {
    "duration": 0,
    "start_time": "2022-07-06T15:00:25.399Z"
   },
   {
    "duration": 0,
    "start_time": "2022-07-06T15:00:25.400Z"
   },
   {
    "duration": 0,
    "start_time": "2022-07-06T15:00:25.402Z"
   },
   {
    "duration": 0,
    "start_time": "2022-07-06T15:00:25.403Z"
   },
   {
    "duration": 0,
    "start_time": "2022-07-06T15:00:25.404Z"
   },
   {
    "duration": 0,
    "start_time": "2022-07-06T15:00:25.405Z"
   },
   {
    "duration": 0,
    "start_time": "2022-07-06T15:00:25.409Z"
   },
   {
    "duration": 0,
    "start_time": "2022-07-06T15:00:25.410Z"
   },
   {
    "duration": 16,
    "start_time": "2022-07-06T15:01:05.222Z"
   },
   {
    "duration": 16,
    "start_time": "2022-07-06T15:01:42.720Z"
   },
   {
    "duration": 5,
    "start_time": "2022-07-06T15:02:10.909Z"
   },
   {
    "duration": 177,
    "start_time": "2022-07-06T15:02:10.917Z"
   },
   {
    "duration": 4,
    "start_time": "2022-07-06T15:02:11.096Z"
   },
   {
    "duration": 11,
    "start_time": "2022-07-06T15:02:11.102Z"
   },
   {
    "duration": 29,
    "start_time": "2022-07-06T15:02:11.116Z"
   },
   {
    "duration": 58,
    "start_time": "2022-07-06T15:02:11.147Z"
   },
   {
    "duration": 22,
    "start_time": "2022-07-06T15:02:11.208Z"
   },
   {
    "duration": 4,
    "start_time": "2022-07-06T15:02:11.232Z"
   },
   {
    "duration": 25,
    "start_time": "2022-07-06T15:02:11.238Z"
   },
   {
    "duration": 41,
    "start_time": "2022-07-06T15:02:11.265Z"
   },
   {
    "duration": 14,
    "start_time": "2022-07-06T15:02:11.308Z"
   },
   {
    "duration": 4,
    "start_time": "2022-07-06T15:02:11.324Z"
   },
   {
    "duration": 7,
    "start_time": "2022-07-06T15:02:11.330Z"
   },
   {
    "duration": 4,
    "start_time": "2022-07-06T15:02:11.339Z"
   },
   {
    "duration": 61,
    "start_time": "2022-07-06T15:02:11.345Z"
   },
   {
    "duration": 22,
    "start_time": "2022-07-06T15:02:11.408Z"
   },
   {
    "duration": 15,
    "start_time": "2022-07-06T15:02:11.432Z"
   },
   {
    "duration": 24,
    "start_time": "2022-07-06T15:02:11.450Z"
   },
   {
    "duration": 12,
    "start_time": "2022-07-06T15:02:11.499Z"
   },
   {
    "duration": 18,
    "start_time": "2022-07-06T15:02:14.789Z"
   },
   {
    "duration": 1275,
    "start_time": "2022-07-06T15:02:53.418Z"
   },
   {
    "duration": 173,
    "start_time": "2022-07-06T15:02:54.696Z"
   },
   {
    "duration": 5,
    "start_time": "2022-07-06T15:02:54.871Z"
   },
   {
    "duration": 13,
    "start_time": "2022-07-06T15:02:54.878Z"
   },
   {
    "duration": 47,
    "start_time": "2022-07-06T15:02:54.895Z"
   },
   {
    "duration": 30,
    "start_time": "2022-07-06T15:02:54.944Z"
   },
   {
    "duration": 39,
    "start_time": "2022-07-06T15:02:54.977Z"
   },
   {
    "duration": 5,
    "start_time": "2022-07-06T15:02:55.019Z"
   },
   {
    "duration": 27,
    "start_time": "2022-07-06T15:02:55.027Z"
   },
   {
    "duration": 52,
    "start_time": "2022-07-06T15:02:55.057Z"
   },
   {
    "duration": 17,
    "start_time": "2022-07-06T15:02:55.112Z"
   },
   {
    "duration": 5,
    "start_time": "2022-07-06T15:02:55.132Z"
   },
   {
    "duration": 22,
    "start_time": "2022-07-06T15:02:55.139Z"
   },
   {
    "duration": 16,
    "start_time": "2022-07-06T15:02:55.164Z"
   },
   {
    "duration": 20,
    "start_time": "2022-07-06T15:02:56.626Z"
   },
   {
    "duration": 13,
    "start_time": "2022-07-06T15:11:53.289Z"
   },
   {
    "duration": 84,
    "start_time": "2022-07-06T15:14:07.629Z"
   },
   {
    "duration": 125,
    "start_time": "2022-07-06T15:14:20.331Z"
   },
   {
    "duration": 24,
    "start_time": "2022-07-06T15:14:45.972Z"
   },
   {
    "duration": 13,
    "start_time": "2022-07-06T15:16:13.207Z"
   },
   {
    "duration": 13,
    "start_time": "2022-07-06T15:18:42.301Z"
   },
   {
    "duration": 10,
    "start_time": "2022-07-06T15:18:52.628Z"
   },
   {
    "duration": 8,
    "start_time": "2022-07-06T15:18:59.347Z"
   },
   {
    "duration": 21,
    "start_time": "2022-07-06T15:19:14.729Z"
   },
   {
    "duration": 19,
    "start_time": "2022-07-06T15:19:29.030Z"
   },
   {
    "duration": 1209,
    "start_time": "2022-07-06T15:20:27.803Z"
   },
   {
    "duration": 645,
    "start_time": "2022-07-06T15:20:29.014Z"
   },
   {
    "duration": 4,
    "start_time": "2022-07-06T15:20:29.661Z"
   },
   {
    "duration": 14,
    "start_time": "2022-07-06T15:20:29.667Z"
   },
   {
    "duration": 49,
    "start_time": "2022-07-06T15:20:29.683Z"
   },
   {
    "duration": 32,
    "start_time": "2022-07-06T15:20:29.733Z"
   },
   {
    "duration": 48,
    "start_time": "2022-07-06T15:20:29.768Z"
   },
   {
    "duration": 5,
    "start_time": "2022-07-06T15:20:29.818Z"
   },
   {
    "duration": 23,
    "start_time": "2022-07-06T15:20:29.825Z"
   },
   {
    "duration": 15,
    "start_time": "2022-07-06T15:20:29.850Z"
   },
   {
    "duration": 5,
    "start_time": "2022-07-06T15:20:32.791Z"
   },
   {
    "duration": 11,
    "start_time": "2022-07-06T15:20:33.623Z"
   },
   {
    "duration": 6,
    "start_time": "2022-07-06T15:20:36.782Z"
   },
   {
    "duration": 3722,
    "start_time": "2022-07-06T15:40:28.104Z"
   },
   {
    "duration": 1298,
    "start_time": "2022-07-06T15:41:09.484Z"
   },
   {
    "duration": 9,
    "start_time": "2022-07-06T15:41:35.772Z"
   },
   {
    "duration": 4,
    "start_time": "2022-07-06T15:41:54.894Z"
   },
   {
    "duration": 1118,
    "start_time": "2022-07-06T15:42:03.649Z"
   },
   {
    "duration": 164,
    "start_time": "2022-07-06T15:42:04.769Z"
   },
   {
    "duration": 4,
    "start_time": "2022-07-06T15:42:04.935Z"
   },
   {
    "duration": 9,
    "start_time": "2022-07-06T15:42:04.941Z"
   },
   {
    "duration": 31,
    "start_time": "2022-07-06T15:42:04.952Z"
   },
   {
    "duration": 22,
    "start_time": "2022-07-06T15:42:04.985Z"
   },
   {
    "duration": 22,
    "start_time": "2022-07-06T15:42:05.009Z"
   },
   {
    "duration": 14,
    "start_time": "2022-07-06T15:42:05.033Z"
   },
   {
    "duration": 33,
    "start_time": "2022-07-06T15:42:05.049Z"
   },
   {
    "duration": 22,
    "start_time": "2022-07-06T15:42:05.084Z"
   },
   {
    "duration": 8,
    "start_time": "2022-07-06T15:42:18.210Z"
   },
   {
    "duration": 5,
    "start_time": "2022-07-06T15:42:19.228Z"
   },
   {
    "duration": 5,
    "start_time": "2022-07-06T15:42:42.346Z"
   },
   {
    "duration": 3,
    "start_time": "2022-07-06T15:42:55.229Z"
   },
   {
    "duration": 4,
    "start_time": "2022-07-06T15:42:55.509Z"
   },
   {
    "duration": 4,
    "start_time": "2022-07-06T15:42:59.986Z"
   },
   {
    "duration": 4,
    "start_time": "2022-07-06T15:43:46.438Z"
   },
   {
    "duration": 1176,
    "start_time": "2022-07-06T15:44:32.027Z"
   },
   {
    "duration": 159,
    "start_time": "2022-07-06T15:44:33.206Z"
   },
   {
    "duration": 3,
    "start_time": "2022-07-06T15:44:33.367Z"
   },
   {
    "duration": 9,
    "start_time": "2022-07-06T15:44:33.373Z"
   },
   {
    "duration": 28,
    "start_time": "2022-07-06T15:44:33.383Z"
   },
   {
    "duration": 22,
    "start_time": "2022-07-06T15:44:33.412Z"
   },
   {
    "duration": 22,
    "start_time": "2022-07-06T15:44:33.436Z"
   },
   {
    "duration": 4,
    "start_time": "2022-07-06T15:44:33.460Z"
   },
   {
    "duration": 17,
    "start_time": "2022-07-06T15:44:33.498Z"
   },
   {
    "duration": 18,
    "start_time": "2022-07-06T15:44:33.518Z"
   },
   {
    "duration": 10,
    "start_time": "2022-07-06T15:44:33.538Z"
   },
   {
    "duration": 10,
    "start_time": "2022-07-06T15:44:33.550Z"
   },
   {
    "duration": 38,
    "start_time": "2022-07-06T15:44:33.561Z"
   },
   {
    "duration": 10,
    "start_time": "2022-07-06T15:44:33.602Z"
   },
   {
    "duration": 9,
    "start_time": "2022-07-06T15:44:33.614Z"
   },
   {
    "duration": 10,
    "start_time": "2022-07-06T15:44:33.625Z"
   },
   {
    "duration": 9,
    "start_time": "2022-07-06T15:44:33.637Z"
   },
   {
    "duration": 10,
    "start_time": "2022-07-06T16:21:33.558Z"
   },
   {
    "duration": 4,
    "start_time": "2022-07-06T16:21:35.255Z"
   },
   {
    "duration": 11,
    "start_time": "2022-07-06T17:35:19.554Z"
   },
   {
    "duration": 10,
    "start_time": "2022-07-06T17:35:24.231Z"
   },
   {
    "duration": 1226,
    "start_time": "2022-07-06T17:35:33.927Z"
   },
   {
    "duration": 310,
    "start_time": "2022-07-06T17:35:35.155Z"
   },
   {
    "duration": 4,
    "start_time": "2022-07-06T17:35:35.466Z"
   },
   {
    "duration": 7,
    "start_time": "2022-07-06T17:35:35.473Z"
   },
   {
    "duration": 42,
    "start_time": "2022-07-06T17:35:35.484Z"
   },
   {
    "duration": 21,
    "start_time": "2022-07-06T17:35:35.528Z"
   },
   {
    "duration": 20,
    "start_time": "2022-07-06T17:35:35.551Z"
   },
   {
    "duration": 30,
    "start_time": "2022-07-06T17:35:35.572Z"
   },
   {
    "duration": 31,
    "start_time": "2022-07-06T17:35:35.610Z"
   },
   {
    "duration": 25,
    "start_time": "2022-07-06T17:35:35.643Z"
   },
   {
    "duration": 5,
    "start_time": "2022-07-06T17:35:35.670Z"
   },
   {
    "duration": 5,
    "start_time": "2022-07-06T17:35:35.677Z"
   },
   {
    "duration": 7,
    "start_time": "2022-07-06T17:35:35.684Z"
   },
   {
    "duration": 30,
    "start_time": "2022-07-06T17:35:35.694Z"
   },
   {
    "duration": 6,
    "start_time": "2022-07-06T17:35:35.726Z"
   },
   {
    "duration": 15,
    "start_time": "2022-07-06T17:35:35.734Z"
   },
   {
    "duration": 118,
    "start_time": "2022-07-06T17:36:15.641Z"
   },
   {
    "duration": 9,
    "start_time": "2022-07-06T17:36:21.078Z"
   },
   {
    "duration": 1197,
    "start_time": "2022-07-06T17:36:42.238Z"
   },
   {
    "duration": 196,
    "start_time": "2022-07-06T17:36:43.437Z"
   },
   {
    "duration": 5,
    "start_time": "2022-07-06T17:36:43.635Z"
   },
   {
    "duration": 6,
    "start_time": "2022-07-06T17:36:43.642Z"
   },
   {
    "duration": 40,
    "start_time": "2022-07-06T17:36:43.650Z"
   },
   {
    "duration": 34,
    "start_time": "2022-07-06T17:36:43.692Z"
   },
   {
    "duration": 20,
    "start_time": "2022-07-06T17:36:43.727Z"
   },
   {
    "duration": 3,
    "start_time": "2022-07-06T17:36:43.749Z"
   },
   {
    "duration": 16,
    "start_time": "2022-07-06T17:36:43.754Z"
   },
   {
    "duration": 42,
    "start_time": "2022-07-06T17:36:43.773Z"
   },
   {
    "duration": 5,
    "start_time": "2022-07-06T17:36:43.817Z"
   },
   {
    "duration": 8,
    "start_time": "2022-07-06T17:36:43.823Z"
   },
   {
    "duration": 8,
    "start_time": "2022-07-06T17:36:43.833Z"
   },
   {
    "duration": 5,
    "start_time": "2022-07-06T17:36:43.843Z"
   },
   {
    "duration": 6,
    "start_time": "2022-07-06T17:36:43.850Z"
   },
   {
    "duration": 6,
    "start_time": "2022-07-06T17:36:45.766Z"
   },
   {
    "duration": 5,
    "start_time": "2022-07-06T17:36:45.969Z"
   },
   {
    "duration": 1260,
    "start_time": "2022-07-06T17:44:36.335Z"
   },
   {
    "duration": 272,
    "start_time": "2022-07-06T17:44:37.597Z"
   },
   {
    "duration": 4,
    "start_time": "2022-07-06T17:44:37.871Z"
   },
   {
    "duration": 9,
    "start_time": "2022-07-06T17:44:37.878Z"
   },
   {
    "duration": 37,
    "start_time": "2022-07-06T17:44:37.890Z"
   },
   {
    "duration": 26,
    "start_time": "2022-07-06T17:44:37.929Z"
   },
   {
    "duration": 58,
    "start_time": "2022-07-06T17:44:37.957Z"
   },
   {
    "duration": 5,
    "start_time": "2022-07-06T17:44:38.017Z"
   },
   {
    "duration": 22,
    "start_time": "2022-07-06T17:44:38.024Z"
   },
   {
    "duration": 15,
    "start_time": "2022-07-06T17:44:38.050Z"
   },
   {
    "duration": 6,
    "start_time": "2022-07-06T17:44:38.067Z"
   },
   {
    "duration": 6,
    "start_time": "2022-07-06T17:44:38.076Z"
   },
   {
    "duration": 4,
    "start_time": "2022-07-06T17:44:38.098Z"
   },
   {
    "duration": 24,
    "start_time": "2022-07-06T17:44:38.104Z"
   },
   {
    "duration": 7,
    "start_time": "2022-07-06T17:44:38.130Z"
   },
   {
    "duration": 31,
    "start_time": "2022-07-06T17:44:38.139Z"
   },
   {
    "duration": 35,
    "start_time": "2022-07-06T17:44:38.173Z"
   },
   {
    "duration": 33,
    "start_time": "2022-07-06T17:44:38.210Z"
   },
   {
    "duration": 24,
    "start_time": "2022-07-06T17:44:38.245Z"
   },
   {
    "duration": 8,
    "start_time": "2022-07-06T17:44:38.271Z"
   },
   {
    "duration": 34,
    "start_time": "2022-07-06T17:44:38.281Z"
   },
   {
    "duration": 145,
    "start_time": "2022-07-06T17:44:38.317Z"
   },
   {
    "duration": 10,
    "start_time": "2022-07-06T17:44:38.463Z"
   },
   {
    "duration": 32,
    "start_time": "2022-07-06T17:44:38.474Z"
   },
   {
    "duration": 417,
    "start_time": "2022-07-06T17:44:38.508Z"
   },
   {
    "duration": 261,
    "start_time": "2022-07-06T17:44:38.928Z"
   },
   {
    "duration": 355,
    "start_time": "2022-07-06T17:44:39.191Z"
   },
   {
    "duration": 251,
    "start_time": "2022-07-06T17:44:39.551Z"
   },
   {
    "duration": 334,
    "start_time": "2022-07-06T17:44:39.807Z"
   },
   {
    "duration": 178,
    "start_time": "2022-07-06T17:44:40.142Z"
   },
   {
    "duration": 5,
    "start_time": "2022-07-06T17:44:40.322Z"
   },
   {
    "duration": 151,
    "start_time": "2022-07-06T17:44:40.329Z"
   },
   {
    "duration": 4,
    "start_time": "2022-07-06T17:44:40.482Z"
   },
   {
    "duration": 137,
    "start_time": "2022-07-06T17:44:40.488Z"
   },
   {
    "duration": 0,
    "start_time": "2022-07-06T17:44:40.627Z"
   },
   {
    "duration": 0,
    "start_time": "2022-07-06T17:44:40.629Z"
   },
   {
    "duration": 0,
    "start_time": "2022-07-06T17:44:40.630Z"
   },
   {
    "duration": 0,
    "start_time": "2022-07-06T17:44:40.631Z"
   },
   {
    "duration": 0,
    "start_time": "2022-07-06T17:44:40.633Z"
   },
   {
    "duration": 23,
    "start_time": "2022-07-06T17:46:41.251Z"
   },
   {
    "duration": 147,
    "start_time": "2022-07-06T17:47:09.297Z"
   },
   {
    "duration": 15,
    "start_time": "2022-07-06T17:47:13.427Z"
   },
   {
    "duration": 20,
    "start_time": "2022-07-06T17:48:12.037Z"
   },
   {
    "duration": 159,
    "start_time": "2022-07-06T17:48:43.383Z"
   },
   {
    "duration": 146,
    "start_time": "2022-07-06T17:49:15.126Z"
   },
   {
    "duration": 109,
    "start_time": "2022-07-06T17:50:13.315Z"
   },
   {
    "duration": 116,
    "start_time": "2022-07-06T17:50:41.534Z"
   },
   {
    "duration": 124,
    "start_time": "2022-07-06T17:50:54.555Z"
   },
   {
    "duration": 262,
    "start_time": "2022-07-06T17:51:10.266Z"
   },
   {
    "duration": 173,
    "start_time": "2022-07-06T17:51:16.114Z"
   },
   {
    "duration": 10,
    "start_time": "2022-07-06T17:51:40.146Z"
   },
   {
    "duration": 1130,
    "start_time": "2022-07-06T17:52:09.943Z"
   },
   {
    "duration": 341,
    "start_time": "2022-07-06T17:52:11.074Z"
   },
   {
    "duration": 4,
    "start_time": "2022-07-06T17:52:11.417Z"
   },
   {
    "duration": 6,
    "start_time": "2022-07-06T17:52:11.424Z"
   },
   {
    "duration": 30,
    "start_time": "2022-07-06T17:52:11.432Z"
   },
   {
    "duration": 44,
    "start_time": "2022-07-06T17:52:11.464Z"
   },
   {
    "duration": 20,
    "start_time": "2022-07-06T17:52:11.510Z"
   },
   {
    "duration": 4,
    "start_time": "2022-07-06T17:52:11.531Z"
   },
   {
    "duration": 18,
    "start_time": "2022-07-06T17:52:11.536Z"
   },
   {
    "duration": 13,
    "start_time": "2022-07-06T17:52:11.557Z"
   },
   {
    "duration": 41,
    "start_time": "2022-07-06T17:52:11.571Z"
   },
   {
    "duration": 20,
    "start_time": "2022-07-06T17:52:11.613Z"
   },
   {
    "duration": 16,
    "start_time": "2022-07-06T17:52:11.635Z"
   },
   {
    "duration": 13,
    "start_time": "2022-07-06T17:52:11.653Z"
   },
   {
    "duration": 8,
    "start_time": "2022-07-06T17:52:11.669Z"
   },
   {
    "duration": 34,
    "start_time": "2022-07-06T17:52:11.678Z"
   },
   {
    "duration": 15,
    "start_time": "2022-07-06T17:52:11.715Z"
   },
   {
    "duration": 15,
    "start_time": "2022-07-06T17:52:11.732Z"
   },
   {
    "duration": 26,
    "start_time": "2022-07-06T17:52:11.749Z"
   },
   {
    "duration": 11,
    "start_time": "2022-07-06T17:52:11.777Z"
   },
   {
    "duration": 33,
    "start_time": "2022-07-06T17:52:11.798Z"
   },
   {
    "duration": 134,
    "start_time": "2022-07-06T17:52:11.833Z"
   },
   {
    "duration": 8,
    "start_time": "2022-07-06T17:52:11.969Z"
   },
   {
    "duration": 38,
    "start_time": "2022-07-06T17:52:11.978Z"
   },
   {
    "duration": 275,
    "start_time": "2022-07-06T17:52:12.018Z"
   },
   {
    "duration": 194,
    "start_time": "2022-07-06T17:52:12.295Z"
   },
   {
    "duration": 309,
    "start_time": "2022-07-06T17:52:12.491Z"
   },
   {
    "duration": 208,
    "start_time": "2022-07-06T17:52:12.803Z"
   },
   {
    "duration": 314,
    "start_time": "2022-07-06T17:52:13.017Z"
   },
   {
    "duration": 151,
    "start_time": "2022-07-06T17:52:13.334Z"
   },
   {
    "duration": 20,
    "start_time": "2022-07-06T17:52:13.487Z"
   },
   {
    "duration": 147,
    "start_time": "2022-07-06T17:52:13.508Z"
   },
   {
    "duration": 5,
    "start_time": "2022-07-06T17:52:13.658Z"
   },
   {
    "duration": 293,
    "start_time": "2022-07-06T17:52:13.665Z"
   },
   {
    "duration": 220,
    "start_time": "2022-07-06T17:52:13.960Z"
   },
   {
    "duration": 25,
    "start_time": "2022-07-06T17:52:14.182Z"
   },
   {
    "duration": 47,
    "start_time": "2022-07-07T18:55:36.538Z"
   },
   {
    "duration": 1180,
    "start_time": "2022-07-07T18:55:47.885Z"
   },
   {
    "duration": 195,
    "start_time": "2022-07-07T18:55:49.067Z"
   },
   {
    "duration": 4,
    "start_time": "2022-07-07T18:55:49.263Z"
   },
   {
    "duration": 6,
    "start_time": "2022-07-07T18:55:49.268Z"
   },
   {
    "duration": 25,
    "start_time": "2022-07-07T18:55:49.276Z"
   },
   {
    "duration": 17,
    "start_time": "2022-07-07T18:55:49.303Z"
   },
   {
    "duration": 16,
    "start_time": "2022-07-07T18:55:49.322Z"
   },
   {
    "duration": 3,
    "start_time": "2022-07-07T18:55:49.339Z"
   },
   {
    "duration": 14,
    "start_time": "2022-07-07T18:55:49.344Z"
   },
   {
    "duration": 10,
    "start_time": "2022-07-07T18:55:49.360Z"
   },
   {
    "duration": 8,
    "start_time": "2022-07-07T18:55:49.372Z"
   },
   {
    "duration": 107,
    "start_time": "2022-07-07T18:55:49.382Z"
   },
   {
    "duration": 4,
    "start_time": "2022-07-07T18:57:12.382Z"
   },
   {
    "duration": 5,
    "start_time": "2022-07-07T18:57:28.994Z"
   },
   {
    "duration": 5,
    "start_time": "2022-07-07T18:57:35.089Z"
   },
   {
    "duration": 4,
    "start_time": "2022-07-07T18:57:39.607Z"
   },
   {
    "duration": 5,
    "start_time": "2022-07-07T18:57:39.917Z"
   },
   {
    "duration": 980,
    "start_time": "2022-07-07T19:22:45.187Z"
   },
   {
    "duration": 153,
    "start_time": "2022-07-07T19:22:46.169Z"
   },
   {
    "duration": 4,
    "start_time": "2022-07-07T19:22:46.324Z"
   },
   {
    "duration": 18,
    "start_time": "2022-07-07T19:22:46.330Z"
   },
   {
    "duration": 25,
    "start_time": "2022-07-07T19:22:46.350Z"
   },
   {
    "duration": 19,
    "start_time": "2022-07-07T19:22:46.376Z"
   },
   {
    "duration": 35,
    "start_time": "2022-07-07T19:22:46.396Z"
   },
   {
    "duration": 2,
    "start_time": "2022-07-07T19:22:46.433Z"
   },
   {
    "duration": 16,
    "start_time": "2022-07-07T19:22:46.437Z"
   },
   {
    "duration": 15,
    "start_time": "2022-07-07T19:22:46.455Z"
   },
   {
    "duration": 4,
    "start_time": "2022-07-07T19:22:46.471Z"
   },
   {
    "duration": 8,
    "start_time": "2022-07-07T19:22:46.476Z"
   },
   {
    "duration": 5,
    "start_time": "2022-07-07T19:22:46.486Z"
   },
   {
    "duration": 6,
    "start_time": "2022-07-07T19:22:46.493Z"
   },
   {
    "duration": 17,
    "start_time": "2022-07-07T19:22:46.523Z"
   },
   {
    "duration": 15,
    "start_time": "2022-07-07T19:22:46.541Z"
   },
   {
    "duration": 10,
    "start_time": "2022-07-07T19:22:46.558Z"
   },
   {
    "duration": 19,
    "start_time": "2022-07-07T19:22:46.570Z"
   },
   {
    "duration": 38,
    "start_time": "2022-07-07T19:22:46.591Z"
   },
   {
    "duration": 14,
    "start_time": "2022-07-07T19:22:46.631Z"
   },
   {
    "duration": 126,
    "start_time": "2022-07-07T19:22:46.646Z"
   },
   {
    "duration": 7,
    "start_time": "2022-07-07T19:22:46.774Z"
   },
   {
    "duration": 12,
    "start_time": "2022-07-07T19:22:46.783Z"
   },
   {
    "duration": 238,
    "start_time": "2022-07-07T19:22:46.797Z"
   },
   {
    "duration": 170,
    "start_time": "2022-07-07T19:22:47.037Z"
   },
   {
    "duration": 325,
    "start_time": "2022-07-07T19:22:47.209Z"
   },
   {
    "duration": 166,
    "start_time": "2022-07-07T19:22:47.536Z"
   },
   {
    "duration": 296,
    "start_time": "2022-07-07T19:22:47.705Z"
   },
   {
    "duration": 132,
    "start_time": "2022-07-07T19:22:48.002Z"
   },
   {
    "duration": 4,
    "start_time": "2022-07-07T19:22:48.135Z"
   },
   {
    "duration": 125,
    "start_time": "2022-07-07T19:22:48.141Z"
   },
   {
    "duration": 4,
    "start_time": "2022-07-07T19:22:48.268Z"
   },
   {
    "duration": 231,
    "start_time": "2022-07-07T19:22:48.274Z"
   },
   {
    "duration": 157,
    "start_time": "2022-07-07T19:22:48.507Z"
   },
   {
    "duration": 10,
    "start_time": "2022-07-07T19:22:48.666Z"
   },
   {
    "duration": 794,
    "start_time": "2022-07-07T20:02:40.564Z"
   },
   {
    "duration": 780,
    "start_time": "2022-07-07T20:03:26.701Z"
   },
   {
    "duration": 902,
    "start_time": "2022-07-07T20:04:12.536Z"
   },
   {
    "duration": 723,
    "start_time": "2022-07-07T20:04:20.103Z"
   },
   {
    "duration": 9,
    "start_time": "2022-07-07T20:04:30.949Z"
   },
   {
    "duration": 8,
    "start_time": "2022-07-07T20:04:42.059Z"
   },
   {
    "duration": 11,
    "start_time": "2022-07-07T20:04:47.448Z"
   },
   {
    "duration": 764,
    "start_time": "2022-07-07T20:05:36.784Z"
   },
   {
    "duration": 31,
    "start_time": "2022-07-07T20:05:50.139Z"
   },
   {
    "duration": 921,
    "start_time": "2022-07-07T20:07:05.190Z"
   },
   {
    "duration": 14,
    "start_time": "2022-07-07T20:07:39.274Z"
   },
   {
    "duration": 214,
    "start_time": "2022-07-07T20:26:07.927Z"
   },
   {
    "duration": 260,
    "start_time": "2022-07-07T20:31:16.024Z"
   },
   {
    "duration": 9,
    "start_time": "2022-07-07T20:31:34.371Z"
   },
   {
    "duration": 171,
    "start_time": "2022-07-07T20:31:46.655Z"
   },
   {
    "duration": 173,
    "start_time": "2022-07-07T20:32:07.979Z"
   },
   {
    "duration": 275,
    "start_time": "2022-07-07T20:32:52.430Z"
   },
   {
    "duration": 315,
    "start_time": "2022-07-07T20:33:04.216Z"
   },
   {
    "duration": 221,
    "start_time": "2022-07-07T20:33:41.363Z"
   },
   {
    "duration": 164,
    "start_time": "2022-07-07T20:34:07.529Z"
   },
   {
    "duration": 182,
    "start_time": "2022-07-07T20:34:33.495Z"
   },
   {
    "duration": 261,
    "start_time": "2022-07-07T20:34:59.665Z"
   },
   {
    "duration": 146,
    "start_time": "2022-07-07T20:36:12.961Z"
   },
   {
    "duration": 168,
    "start_time": "2022-07-07T20:36:46.380Z"
   },
   {
    "duration": 242,
    "start_time": "2022-07-07T20:36:53.032Z"
   },
   {
    "duration": 8,
    "start_time": "2022-07-07T20:40:01.965Z"
   },
   {
    "duration": 138,
    "start_time": "2022-07-07T20:41:18.041Z"
   },
   {
    "duration": 156,
    "start_time": "2022-07-07T20:41:37.395Z"
   },
   {
    "duration": 6,
    "start_time": "2022-07-07T20:42:39.859Z"
   },
   {
    "duration": 6,
    "start_time": "2022-07-07T20:43:13.200Z"
   },
   {
    "duration": 134,
    "start_time": "2022-07-07T20:44:16.416Z"
   },
   {
    "duration": 1054,
    "start_time": "2022-07-07T20:44:33.060Z"
   },
   {
    "duration": 260,
    "start_time": "2022-07-07T20:44:34.116Z"
   },
   {
    "duration": 4,
    "start_time": "2022-07-07T20:44:34.378Z"
   },
   {
    "duration": 7,
    "start_time": "2022-07-07T20:44:34.384Z"
   },
   {
    "duration": 30,
    "start_time": "2022-07-07T20:44:34.393Z"
   },
   {
    "duration": 29,
    "start_time": "2022-07-07T20:44:34.425Z"
   },
   {
    "duration": 24,
    "start_time": "2022-07-07T20:44:34.456Z"
   },
   {
    "duration": 4,
    "start_time": "2022-07-07T20:44:34.481Z"
   },
   {
    "duration": 55,
    "start_time": "2022-07-07T20:44:34.487Z"
   },
   {
    "duration": 12,
    "start_time": "2022-07-07T20:44:34.546Z"
   },
   {
    "duration": 7,
    "start_time": "2022-07-07T20:44:34.560Z"
   },
   {
    "duration": 16,
    "start_time": "2022-07-07T20:44:34.570Z"
   },
   {
    "duration": 21,
    "start_time": "2022-07-07T20:44:34.588Z"
   },
   {
    "duration": 15,
    "start_time": "2022-07-07T20:44:34.611Z"
   },
   {
    "duration": 26,
    "start_time": "2022-07-07T20:44:34.628Z"
   },
   {
    "duration": 13,
    "start_time": "2022-07-07T20:44:34.657Z"
   },
   {
    "duration": 36,
    "start_time": "2022-07-07T20:44:34.673Z"
   },
   {
    "duration": 20,
    "start_time": "2022-07-07T20:44:34.711Z"
   },
   {
    "duration": 9,
    "start_time": "2022-07-07T20:44:34.733Z"
   },
   {
    "duration": 20,
    "start_time": "2022-07-07T20:44:34.744Z"
   },
   {
    "duration": 135,
    "start_time": "2022-07-07T20:44:34.767Z"
   },
   {
    "duration": 8,
    "start_time": "2022-07-07T20:44:34.904Z"
   },
   {
    "duration": 14,
    "start_time": "2022-07-07T20:44:34.924Z"
   },
   {
    "duration": 266,
    "start_time": "2022-07-07T20:44:34.940Z"
   },
   {
    "duration": 186,
    "start_time": "2022-07-07T20:44:35.208Z"
   },
   {
    "duration": 308,
    "start_time": "2022-07-07T20:44:35.396Z"
   },
   {
    "duration": 197,
    "start_time": "2022-07-07T20:44:35.706Z"
   },
   {
    "duration": 346,
    "start_time": "2022-07-07T20:44:35.907Z"
   },
   {
    "duration": 157,
    "start_time": "2022-07-07T20:44:36.255Z"
   },
   {
    "duration": 4,
    "start_time": "2022-07-07T20:44:36.414Z"
   },
   {
    "duration": 148,
    "start_time": "2022-07-07T20:44:36.424Z"
   },
   {
    "duration": 4,
    "start_time": "2022-07-07T20:44:36.574Z"
   },
   {
    "duration": 235,
    "start_time": "2022-07-07T20:44:36.580Z"
   },
   {
    "duration": 164,
    "start_time": "2022-07-07T20:44:36.817Z"
   },
   {
    "duration": 9,
    "start_time": "2022-07-07T20:44:36.983Z"
   },
   {
    "duration": 21,
    "start_time": "2022-07-07T20:44:36.993Z"
   },
   {
    "duration": 18,
    "start_time": "2022-07-07T20:44:37.015Z"
   },
   {
    "duration": 31,
    "start_time": "2022-07-07T20:44:37.034Z"
   },
   {
    "duration": 13,
    "start_time": "2022-07-07T20:44:37.066Z"
   },
   {
    "duration": 164,
    "start_time": "2022-07-07T21:06:39.778Z"
   },
   {
    "duration": 138,
    "start_time": "2022-07-07T21:07:53.943Z"
   },
   {
    "duration": 8,
    "start_time": "2022-07-07T21:13:45.019Z"
   },
   {
    "duration": 234,
    "start_time": "2022-07-07T21:14:15.482Z"
   },
   {
    "duration": 162,
    "start_time": "2022-07-07T21:14:26.091Z"
   },
   {
    "duration": 144,
    "start_time": "2022-07-07T21:14:35.736Z"
   },
   {
    "duration": 142,
    "start_time": "2022-07-07T21:14:57.564Z"
   },
   {
    "duration": 145,
    "start_time": "2022-07-07T21:17:29.148Z"
   },
   {
    "duration": 142,
    "start_time": "2022-07-07T21:17:36.201Z"
   },
   {
    "duration": 159,
    "start_time": "2022-07-07T21:17:41.610Z"
   },
   {
    "duration": 129,
    "start_time": "2022-07-07T21:18:29.758Z"
   },
   {
    "duration": 158,
    "start_time": "2022-07-07T21:18:37.918Z"
   },
   {
    "duration": 163,
    "start_time": "2022-07-07T21:18:41.196Z"
   },
   {
    "duration": 11,
    "start_time": "2022-07-07T21:22:46.926Z"
   },
   {
    "duration": 743,
    "start_time": "2022-07-07T21:28:34.116Z"
   },
   {
    "duration": 9,
    "start_time": "2022-07-07T21:28:41.495Z"
   },
   {
    "duration": 1126,
    "start_time": "2022-07-07T21:29:00.644Z"
   },
   {
    "duration": 161,
    "start_time": "2022-07-07T21:29:01.771Z"
   },
   {
    "duration": 4,
    "start_time": "2022-07-07T21:29:01.934Z"
   },
   {
    "duration": 31,
    "start_time": "2022-07-07T21:29:01.940Z"
   },
   {
    "duration": 37,
    "start_time": "2022-07-07T21:29:01.973Z"
   },
   {
    "duration": 20,
    "start_time": "2022-07-07T21:29:02.012Z"
   },
   {
    "duration": 17,
    "start_time": "2022-07-07T21:29:02.034Z"
   },
   {
    "duration": 6,
    "start_time": "2022-07-07T21:29:02.053Z"
   },
   {
    "duration": 28,
    "start_time": "2022-07-07T21:29:02.060Z"
   },
   {
    "duration": 17,
    "start_time": "2022-07-07T21:29:02.091Z"
   },
   {
    "duration": 16,
    "start_time": "2022-07-07T21:29:02.110Z"
   },
   {
    "duration": 16,
    "start_time": "2022-07-07T21:29:02.127Z"
   },
   {
    "duration": 12,
    "start_time": "2022-07-07T21:29:02.144Z"
   },
   {
    "duration": 15,
    "start_time": "2022-07-07T21:29:02.158Z"
   },
   {
    "duration": 31,
    "start_time": "2022-07-07T21:29:02.175Z"
   },
   {
    "duration": 20,
    "start_time": "2022-07-07T21:29:02.208Z"
   },
   {
    "duration": 31,
    "start_time": "2022-07-07T21:29:02.229Z"
   },
   {
    "duration": 37,
    "start_time": "2022-07-07T21:29:02.262Z"
   },
   {
    "duration": 8,
    "start_time": "2022-07-07T21:29:02.300Z"
   },
   {
    "duration": 40,
    "start_time": "2022-07-07T21:29:02.309Z"
   },
   {
    "duration": 105,
    "start_time": "2022-07-07T21:29:02.351Z"
   },
   {
    "duration": 7,
    "start_time": "2022-07-07T21:29:02.458Z"
   },
   {
    "duration": 32,
    "start_time": "2022-07-07T21:29:02.467Z"
   },
   {
    "duration": 253,
    "start_time": "2022-07-07T21:29:02.501Z"
   },
   {
    "duration": 191,
    "start_time": "2022-07-07T21:29:02.756Z"
   },
   {
    "duration": 290,
    "start_time": "2022-07-07T21:29:02.948Z"
   },
   {
    "duration": 189,
    "start_time": "2022-07-07T21:29:03.240Z"
   },
   {
    "duration": 306,
    "start_time": "2022-07-07T21:29:03.433Z"
   },
   {
    "duration": 140,
    "start_time": "2022-07-07T21:29:03.740Z"
   },
   {
    "duration": 4,
    "start_time": "2022-07-07T21:29:03.882Z"
   },
   {
    "duration": 155,
    "start_time": "2022-07-07T21:29:03.888Z"
   },
   {
    "duration": 4,
    "start_time": "2022-07-07T21:29:04.046Z"
   },
   {
    "duration": 236,
    "start_time": "2022-07-07T21:29:04.051Z"
   },
   {
    "duration": 168,
    "start_time": "2022-07-07T21:29:04.289Z"
   },
   {
    "duration": 12,
    "start_time": "2022-07-07T21:29:04.458Z"
   },
   {
    "duration": 15,
    "start_time": "2022-07-07T21:29:04.472Z"
   },
   {
    "duration": 899,
    "start_time": "2022-07-07T21:29:04.489Z"
   },
   {
    "duration": 0,
    "start_time": "2022-07-07T21:29:05.390Z"
   },
   {
    "duration": 27,
    "start_time": "2022-07-07T21:29:29.746Z"
   },
   {
    "duration": 13,
    "start_time": "2022-07-07T21:29:35.663Z"
   },
   {
    "duration": 22,
    "start_time": "2022-07-07T21:30:54.421Z"
   },
   {
    "duration": 53,
    "start_time": "2022-07-07T21:35:17.477Z"
   },
   {
    "duration": 14,
    "start_time": "2022-07-07T21:35:59.212Z"
   },
   {
    "duration": 11,
    "start_time": "2022-07-07T21:37:59.725Z"
   },
   {
    "duration": 996,
    "start_time": "2022-07-07T21:54:19.281Z"
   },
   {
    "duration": 250,
    "start_time": "2022-07-07T21:54:20.279Z"
   },
   {
    "duration": 4,
    "start_time": "2022-07-07T21:54:20.531Z"
   },
   {
    "duration": 12,
    "start_time": "2022-07-07T21:54:20.537Z"
   },
   {
    "duration": 34,
    "start_time": "2022-07-07T21:54:20.550Z"
   },
   {
    "duration": 19,
    "start_time": "2022-07-07T21:54:20.585Z"
   },
   {
    "duration": 33,
    "start_time": "2022-07-07T21:54:20.605Z"
   },
   {
    "duration": 5,
    "start_time": "2022-07-07T21:54:20.640Z"
   },
   {
    "duration": 16,
    "start_time": "2022-07-07T21:54:20.647Z"
   },
   {
    "duration": 11,
    "start_time": "2022-07-07T21:54:20.667Z"
   },
   {
    "duration": 4,
    "start_time": "2022-07-07T21:54:20.680Z"
   },
   {
    "duration": 16,
    "start_time": "2022-07-07T21:54:20.686Z"
   },
   {
    "duration": 3,
    "start_time": "2022-07-07T21:54:20.724Z"
   },
   {
    "duration": 14,
    "start_time": "2022-07-07T21:54:20.729Z"
   },
   {
    "duration": 18,
    "start_time": "2022-07-07T21:54:20.744Z"
   },
   {
    "duration": 10,
    "start_time": "2022-07-07T21:54:20.764Z"
   },
   {
    "duration": 27,
    "start_time": "2022-07-07T21:54:20.776Z"
   },
   {
    "duration": 33,
    "start_time": "2022-07-07T21:54:20.804Z"
   },
   {
    "duration": 15,
    "start_time": "2022-07-07T21:54:20.838Z"
   },
   {
    "duration": 21,
    "start_time": "2022-07-07T21:54:20.854Z"
   },
   {
    "duration": 128,
    "start_time": "2022-07-07T21:54:20.876Z"
   },
   {
    "duration": 20,
    "start_time": "2022-07-07T21:54:21.006Z"
   },
   {
    "duration": 25,
    "start_time": "2022-07-07T21:54:21.028Z"
   },
   {
    "duration": 259,
    "start_time": "2022-07-07T21:54:21.055Z"
   },
   {
    "duration": 181,
    "start_time": "2022-07-07T21:54:21.323Z"
   },
   {
    "duration": 301,
    "start_time": "2022-07-07T21:54:21.506Z"
   },
   {
    "duration": 184,
    "start_time": "2022-07-07T21:54:21.808Z"
   },
   {
    "duration": 353,
    "start_time": "2022-07-07T21:54:21.995Z"
   },
   {
    "duration": 161,
    "start_time": "2022-07-07T21:54:22.350Z"
   },
   {
    "duration": 14,
    "start_time": "2022-07-07T21:54:22.512Z"
   },
   {
    "duration": 153,
    "start_time": "2022-07-07T21:54:22.527Z"
   },
   {
    "duration": 5,
    "start_time": "2022-07-07T21:54:22.683Z"
   },
   {
    "duration": 234,
    "start_time": "2022-07-07T21:54:22.690Z"
   },
   {
    "duration": 166,
    "start_time": "2022-07-07T21:54:22.926Z"
   },
   {
    "duration": 12,
    "start_time": "2022-07-07T21:54:23.094Z"
   },
   {
    "duration": 32,
    "start_time": "2022-07-07T21:54:23.107Z"
   },
   {
    "duration": 11,
    "start_time": "2022-07-07T21:54:23.141Z"
   },
   {
    "duration": 26,
    "start_time": "2022-07-07T21:54:23.154Z"
   },
   {
    "duration": 14,
    "start_time": "2022-07-07T21:54:23.182Z"
   },
   {
    "duration": 0,
    "start_time": "2022-07-08T11:55:09.035Z"
   },
   {
    "duration": 1183,
    "start_time": "2022-07-08T11:55:10.919Z"
   },
   {
    "duration": 337,
    "start_time": "2022-07-08T11:55:12.104Z"
   },
   {
    "duration": 5,
    "start_time": "2022-07-08T11:55:12.443Z"
   },
   {
    "duration": 9,
    "start_time": "2022-07-08T11:55:12.451Z"
   },
   {
    "duration": 40,
    "start_time": "2022-07-08T11:55:12.462Z"
   },
   {
    "duration": 28,
    "start_time": "2022-07-08T11:55:12.504Z"
   },
   {
    "duration": 25,
    "start_time": "2022-07-08T11:55:12.534Z"
   },
   {
    "duration": 4,
    "start_time": "2022-07-08T11:55:12.560Z"
   },
   {
    "duration": 15,
    "start_time": "2022-07-08T11:55:12.599Z"
   },
   {
    "duration": 11,
    "start_time": "2022-07-08T11:55:12.618Z"
   },
   {
    "duration": 5,
    "start_time": "2022-07-08T11:55:12.631Z"
   },
   {
    "duration": 6,
    "start_time": "2022-07-08T11:55:12.638Z"
   },
   {
    "duration": 8,
    "start_time": "2022-07-08T11:55:12.645Z"
   },
   {
    "duration": 7,
    "start_time": "2022-07-08T11:55:12.655Z"
   },
   {
    "duration": 49,
    "start_time": "2022-07-08T11:55:12.664Z"
   },
   {
    "duration": 12,
    "start_time": "2022-07-08T11:55:12.715Z"
   },
   {
    "duration": 17,
    "start_time": "2022-07-08T11:55:12.728Z"
   },
   {
    "duration": 23,
    "start_time": "2022-07-08T11:55:12.747Z"
   },
   {
    "duration": 9,
    "start_time": "2022-07-08T11:55:12.798Z"
   },
   {
    "duration": 14,
    "start_time": "2022-07-08T11:55:12.808Z"
   },
   {
    "duration": 142,
    "start_time": "2022-07-08T11:55:12.824Z"
   },
   {
    "duration": 8,
    "start_time": "2022-07-08T11:55:12.968Z"
   },
   {
    "duration": 29,
    "start_time": "2022-07-08T11:55:12.977Z"
   },
   {
    "duration": 302,
    "start_time": "2022-07-08T11:55:13.008Z"
   },
   {
    "duration": 207,
    "start_time": "2022-07-08T11:55:13.312Z"
   },
   {
    "duration": 305,
    "start_time": "2022-07-08T11:55:13.522Z"
   },
   {
    "duration": 210,
    "start_time": "2022-07-08T11:55:13.829Z"
   },
   {
    "duration": 325,
    "start_time": "2022-07-08T11:55:14.043Z"
   },
   {
    "duration": 178,
    "start_time": "2022-07-08T11:55:14.370Z"
   },
   {
    "duration": 4,
    "start_time": "2022-07-08T11:55:14.550Z"
   },
   {
    "duration": 188,
    "start_time": "2022-07-08T11:55:14.556Z"
   },
   {
    "duration": 5,
    "start_time": "2022-07-08T11:55:14.746Z"
   },
   {
    "duration": 252,
    "start_time": "2022-07-08T11:55:14.752Z"
   },
   {
    "duration": 184,
    "start_time": "2022-07-08T11:55:15.006Z"
   },
   {
    "duration": 15,
    "start_time": "2022-07-08T11:55:15.192Z"
   },
   {
    "duration": 22,
    "start_time": "2022-07-08T11:55:15.209Z"
   },
   {
    "duration": 12,
    "start_time": "2022-07-08T11:55:15.233Z"
   },
   {
    "duration": 24,
    "start_time": "2022-07-08T11:55:15.247Z"
   },
   {
    "duration": 16,
    "start_time": "2022-07-08T11:55:15.298Z"
   },
   {
    "duration": 1273,
    "start_time": "2022-07-08T13:33:18.688Z"
   },
   {
    "duration": 304,
    "start_time": "2022-07-08T13:33:19.963Z"
   },
   {
    "duration": 4,
    "start_time": "2022-07-08T13:33:20.269Z"
   },
   {
    "duration": 10,
    "start_time": "2022-07-08T13:33:20.275Z"
   },
   {
    "duration": 27,
    "start_time": "2022-07-08T13:33:20.287Z"
   },
   {
    "duration": 20,
    "start_time": "2022-07-08T13:33:20.316Z"
   },
   {
    "duration": 18,
    "start_time": "2022-07-08T13:33:20.338Z"
   },
   {
    "duration": 3,
    "start_time": "2022-07-08T13:33:20.358Z"
   },
   {
    "duration": 45,
    "start_time": "2022-07-08T13:33:20.363Z"
   },
   {
    "duration": 11,
    "start_time": "2022-07-08T13:33:20.411Z"
   },
   {
    "duration": 13,
    "start_time": "2022-07-08T13:33:20.423Z"
   },
   {
    "duration": 27,
    "start_time": "2022-07-08T13:33:20.438Z"
   },
   {
    "duration": 9,
    "start_time": "2022-07-08T13:33:20.466Z"
   },
   {
    "duration": 12,
    "start_time": "2022-07-08T13:33:20.476Z"
   },
   {
    "duration": 21,
    "start_time": "2022-07-08T13:33:20.490Z"
   },
   {
    "duration": 12,
    "start_time": "2022-07-08T13:33:20.513Z"
   },
   {
    "duration": 12,
    "start_time": "2022-07-08T13:33:20.527Z"
   },
   {
    "duration": 23,
    "start_time": "2022-07-08T13:33:20.541Z"
   },
   {
    "duration": 35,
    "start_time": "2022-07-08T13:33:20.565Z"
   },
   {
    "duration": 17,
    "start_time": "2022-07-08T13:33:20.602Z"
   },
   {
    "duration": 136,
    "start_time": "2022-07-08T13:33:20.621Z"
   },
   {
    "duration": 8,
    "start_time": "2022-07-08T13:33:20.758Z"
   },
   {
    "duration": 17,
    "start_time": "2022-07-08T13:33:20.767Z"
   },
   {
    "duration": 295,
    "start_time": "2022-07-08T13:33:20.785Z"
   },
   {
    "duration": 206,
    "start_time": "2022-07-08T13:33:21.082Z"
   },
   {
    "duration": 323,
    "start_time": "2022-07-08T13:33:21.298Z"
   },
   {
    "duration": 200,
    "start_time": "2022-07-08T13:33:21.624Z"
   },
   {
    "duration": 351,
    "start_time": "2022-07-08T13:33:21.827Z"
   },
   {
    "duration": 200,
    "start_time": "2022-07-08T13:33:22.180Z"
   },
   {
    "duration": 6,
    "start_time": "2022-07-08T13:33:22.382Z"
   },
   {
    "duration": 173,
    "start_time": "2022-07-08T13:33:22.398Z"
   },
   {
    "duration": 6,
    "start_time": "2022-07-08T13:33:22.573Z"
   },
   {
    "duration": 282,
    "start_time": "2022-07-08T13:33:22.581Z"
   },
   {
    "duration": 158,
    "start_time": "2022-07-08T13:33:22.865Z"
   },
   {
    "duration": 10,
    "start_time": "2022-07-08T13:33:23.025Z"
   },
   {
    "duration": 9,
    "start_time": "2022-07-08T13:33:23.037Z"
   },
   {
    "duration": 9,
    "start_time": "2022-07-08T13:33:23.048Z"
   },
   {
    "duration": 52,
    "start_time": "2022-07-08T13:33:23.059Z"
   },
   {
    "duration": 15,
    "start_time": "2022-07-08T13:33:23.113Z"
   },
   {
    "duration": 1389,
    "start_time": "2022-07-10T13:26:14.611Z"
   },
   {
    "duration": 255,
    "start_time": "2022-07-10T13:26:16.002Z"
   },
   {
    "duration": 4,
    "start_time": "2022-07-10T13:26:16.259Z"
   },
   {
    "duration": 6,
    "start_time": "2022-07-10T13:26:16.265Z"
   },
   {
    "duration": 29,
    "start_time": "2022-07-10T13:26:16.273Z"
   },
   {
    "duration": 26,
    "start_time": "2022-07-10T13:26:16.303Z"
   },
   {
    "duration": 21,
    "start_time": "2022-07-10T13:26:16.331Z"
   },
   {
    "duration": 3,
    "start_time": "2022-07-10T13:26:16.354Z"
   },
   {
    "duration": 18,
    "start_time": "2022-07-10T13:26:16.358Z"
   },
   {
    "duration": 15,
    "start_time": "2022-07-10T13:26:16.378Z"
   },
   {
    "duration": 31,
    "start_time": "2022-07-10T13:26:16.395Z"
   },
   {
    "duration": 18,
    "start_time": "2022-07-10T13:26:16.428Z"
   },
   {
    "duration": 6,
    "start_time": "2022-07-10T13:26:16.448Z"
   },
   {
    "duration": 7,
    "start_time": "2022-07-10T13:26:16.458Z"
   },
   {
    "duration": 20,
    "start_time": "2022-07-10T13:26:16.467Z"
   },
   {
    "duration": 12,
    "start_time": "2022-07-10T13:26:16.489Z"
   },
   {
    "duration": 15,
    "start_time": "2022-07-10T13:26:16.525Z"
   },
   {
    "duration": 26,
    "start_time": "2022-07-10T13:26:16.542Z"
   },
   {
    "duration": 9,
    "start_time": "2022-07-10T13:26:16.570Z"
   },
   {
    "duration": 15,
    "start_time": "2022-07-10T13:26:16.581Z"
   },
   {
    "duration": 165,
    "start_time": "2022-07-10T13:26:16.597Z"
   },
   {
    "duration": 8,
    "start_time": "2022-07-10T13:26:16.764Z"
   },
   {
    "duration": 15,
    "start_time": "2022-07-10T13:26:16.773Z"
   },
   {
    "duration": 309,
    "start_time": "2022-07-10T13:26:16.790Z"
   },
   {
    "duration": 222,
    "start_time": "2022-07-10T13:26:17.101Z"
   },
   {
    "duration": 343,
    "start_time": "2022-07-10T13:26:17.325Z"
   },
   {
    "duration": 214,
    "start_time": "2022-07-10T13:26:17.670Z"
   },
   {
    "duration": 352,
    "start_time": "2022-07-10T13:26:17.886Z"
   },
   {
    "duration": 170,
    "start_time": "2022-07-10T13:26:18.241Z"
   },
   {
    "duration": 12,
    "start_time": "2022-07-10T13:26:18.412Z"
   },
   {
    "duration": 156,
    "start_time": "2022-07-10T13:26:18.427Z"
   },
   {
    "duration": 4,
    "start_time": "2022-07-10T13:26:18.585Z"
   },
   {
    "duration": 247,
    "start_time": "2022-07-10T13:26:18.591Z"
   },
   {
    "duration": 246,
    "start_time": "2022-07-10T13:26:18.842Z"
   },
   {
    "duration": 16,
    "start_time": "2022-07-10T13:26:19.090Z"
   },
   {
    "duration": 29,
    "start_time": "2022-07-10T13:26:19.108Z"
   },
   {
    "duration": 22,
    "start_time": "2022-07-10T13:26:19.139Z"
   },
   {
    "duration": 30,
    "start_time": "2022-07-10T13:26:19.164Z"
   },
   {
    "duration": 33,
    "start_time": "2022-07-10T13:26:19.196Z"
   },
   {
    "duration": 849,
    "start_time": "2022-07-10T13:30:47.937Z"
   },
   {
    "duration": 79,
    "start_time": "2022-07-10T13:30:56.936Z"
   },
   {
    "duration": 10,
    "start_time": "2022-07-10T13:31:02.722Z"
   },
   {
    "duration": 13,
    "start_time": "2022-07-10T13:31:11.429Z"
   },
   {
    "duration": 70,
    "start_time": "2022-07-10T13:40:04.192Z"
   },
   {
    "duration": 45,
    "start_time": "2022-07-10T13:41:29.354Z"
   },
   {
    "duration": 63,
    "start_time": "2022-07-10T13:42:00.472Z"
   },
   {
    "duration": 59,
    "start_time": "2022-07-10T13:42:04.255Z"
   },
   {
    "duration": 15,
    "start_time": "2022-07-10T13:42:08.278Z"
   },
   {
    "duration": 20,
    "start_time": "2022-07-10T13:43:00.721Z"
   },
   {
    "duration": 20,
    "start_time": "2022-07-10T13:43:06.242Z"
   },
   {
    "duration": 20,
    "start_time": "2022-07-10T13:44:19.763Z"
   },
   {
    "duration": 19,
    "start_time": "2022-07-10T13:44:24.469Z"
   },
   {
    "duration": 48,
    "start_time": "2022-07-10T13:57:17.578Z"
   },
   {
    "duration": 60,
    "start_time": "2022-07-10T13:57:30.437Z"
   },
   {
    "duration": 46,
    "start_time": "2022-07-10T13:57:44.064Z"
   },
   {
    "duration": 45,
    "start_time": "2022-07-10T13:57:50.078Z"
   },
   {
    "duration": 48,
    "start_time": "2022-07-10T13:58:23.338Z"
   },
   {
    "duration": 45,
    "start_time": "2022-07-10T13:58:28.240Z"
   },
   {
    "duration": 18,
    "start_time": "2022-07-10T13:58:42.850Z"
   },
   {
    "duration": 957,
    "start_time": "2022-07-10T13:58:46.478Z"
   },
   {
    "duration": 18,
    "start_time": "2022-07-10T13:58:55.169Z"
   },
   {
    "duration": 19,
    "start_time": "2022-07-10T13:59:11.834Z"
   },
   {
    "duration": 46,
    "start_time": "2022-07-10T13:59:36.530Z"
   },
   {
    "duration": 60,
    "start_time": "2022-07-10T13:59:47.793Z"
   },
   {
    "duration": 16,
    "start_time": "2022-07-10T13:59:51.881Z"
   },
   {
    "duration": 20,
    "start_time": "2022-07-10T14:00:02.386Z"
   },
   {
    "duration": 292,
    "start_time": "2022-07-10T14:02:48.135Z"
   },
   {
    "duration": 234,
    "start_time": "2022-07-10T14:02:57.340Z"
   },
   {
    "duration": 1173,
    "start_time": "2022-07-10T14:03:06.651Z"
   },
   {
    "duration": 101,
    "start_time": "2022-07-10T14:03:07.836Z"
   },
   {
    "duration": 4,
    "start_time": "2022-07-10T14:03:07.939Z"
   },
   {
    "duration": 7,
    "start_time": "2022-07-10T14:03:07.945Z"
   },
   {
    "duration": 32,
    "start_time": "2022-07-10T14:03:07.954Z"
   },
   {
    "duration": 21,
    "start_time": "2022-07-10T14:03:07.988Z"
   },
   {
    "duration": 27,
    "start_time": "2022-07-10T14:03:08.023Z"
   },
   {
    "duration": 4,
    "start_time": "2022-07-10T14:03:08.052Z"
   },
   {
    "duration": 18,
    "start_time": "2022-07-10T14:03:08.058Z"
   },
   {
    "duration": 11,
    "start_time": "2022-07-10T14:03:08.079Z"
   },
   {
    "duration": 34,
    "start_time": "2022-07-10T14:03:08.092Z"
   },
   {
    "duration": 16,
    "start_time": "2022-07-10T14:03:08.128Z"
   },
   {
    "duration": 5,
    "start_time": "2022-07-10T14:03:08.146Z"
   },
   {
    "duration": 9,
    "start_time": "2022-07-10T14:03:08.152Z"
   },
   {
    "duration": 26,
    "start_time": "2022-07-10T14:03:08.162Z"
   },
   {
    "duration": 16,
    "start_time": "2022-07-10T14:03:08.190Z"
   },
   {
    "duration": 79,
    "start_time": "2022-07-10T14:03:08.208Z"
   },
   {
    "duration": 12,
    "start_time": "2022-07-10T14:03:08.289Z"
   },
   {
    "duration": 40,
    "start_time": "2022-07-10T14:03:08.302Z"
   },
   {
    "duration": 11,
    "start_time": "2022-07-10T14:03:08.344Z"
   },
   {
    "duration": 19,
    "start_time": "2022-07-10T14:03:08.357Z"
   },
   {
    "duration": 166,
    "start_time": "2022-07-10T14:03:08.378Z"
   },
   {
    "duration": 8,
    "start_time": "2022-07-10T14:03:08.547Z"
   },
   {
    "duration": 16,
    "start_time": "2022-07-10T14:03:08.557Z"
   },
   {
    "duration": 350,
    "start_time": "2022-07-10T14:03:08.575Z"
   },
   {
    "duration": 265,
    "start_time": "2022-07-10T14:03:08.928Z"
   },
   {
    "duration": 354,
    "start_time": "2022-07-10T14:03:09.195Z"
   },
   {
    "duration": 250,
    "start_time": "2022-07-10T14:03:09.553Z"
   },
   {
    "duration": 553,
    "start_time": "2022-07-10T14:03:09.805Z"
   },
   {
    "duration": 407,
    "start_time": "2022-07-10T14:03:10.360Z"
   },
   {
    "duration": 64,
    "start_time": "2022-07-10T14:03:10.768Z"
   },
   {
    "duration": 333,
    "start_time": "2022-07-10T14:03:10.837Z"
   },
   {
    "duration": 15,
    "start_time": "2022-07-10T14:03:11.224Z"
   },
   {
    "duration": 499,
    "start_time": "2022-07-10T14:03:11.241Z"
   },
   {
    "duration": 503,
    "start_time": "2022-07-10T14:03:11.742Z"
   },
   {
    "duration": 13,
    "start_time": "2022-07-10T14:03:12.247Z"
   },
   {
    "duration": 11,
    "start_time": "2022-07-10T14:03:12.261Z"
   },
   {
    "duration": 61,
    "start_time": "2022-07-10T14:03:12.274Z"
   },
   {
    "duration": 32,
    "start_time": "2022-07-10T14:03:12.338Z"
   },
   {
    "duration": 16,
    "start_time": "2022-07-10T14:03:12.372Z"
   },
   {
    "duration": 313,
    "start_time": "2022-07-10T14:03:14.600Z"
   },
   {
    "duration": 1110,
    "start_time": "2022-07-10T14:03:22.952Z"
   },
   {
    "duration": 96,
    "start_time": "2022-07-10T14:03:24.064Z"
   },
   {
    "duration": 5,
    "start_time": "2022-07-10T14:03:24.161Z"
   },
   {
    "duration": 8,
    "start_time": "2022-07-10T14:03:24.168Z"
   },
   {
    "duration": 38,
    "start_time": "2022-07-10T14:03:24.177Z"
   },
   {
    "duration": 26,
    "start_time": "2022-07-10T14:03:24.217Z"
   },
   {
    "duration": 20,
    "start_time": "2022-07-10T14:03:24.246Z"
   },
   {
    "duration": 4,
    "start_time": "2022-07-10T14:03:24.267Z"
   },
   {
    "duration": 53,
    "start_time": "2022-07-10T14:03:24.272Z"
   },
   {
    "duration": 14,
    "start_time": "2022-07-10T14:03:24.336Z"
   },
   {
    "duration": 5,
    "start_time": "2022-07-10T14:03:24.352Z"
   },
   {
    "duration": 10,
    "start_time": "2022-07-10T14:03:24.359Z"
   },
   {
    "duration": 10,
    "start_time": "2022-07-10T14:03:24.370Z"
   },
   {
    "duration": 7,
    "start_time": "2022-07-10T14:03:24.382Z"
   },
   {
    "duration": 53,
    "start_time": "2022-07-10T14:03:24.391Z"
   },
   {
    "duration": 16,
    "start_time": "2022-07-10T14:03:24.447Z"
   },
   {
    "duration": 74,
    "start_time": "2022-07-10T14:03:24.466Z"
   },
   {
    "duration": 10,
    "start_time": "2022-07-10T14:03:24.542Z"
   },
   {
    "duration": 23,
    "start_time": "2022-07-10T14:03:24.554Z"
   },
   {
    "duration": 9,
    "start_time": "2022-07-10T14:03:24.578Z"
   },
   {
    "duration": 39,
    "start_time": "2022-07-10T14:03:24.588Z"
   },
   {
    "duration": 130,
    "start_time": "2022-07-10T14:03:24.634Z"
   },
   {
    "duration": 7,
    "start_time": "2022-07-10T14:03:24.766Z"
   },
   {
    "duration": 19,
    "start_time": "2022-07-10T14:03:24.775Z"
   },
   {
    "duration": 301,
    "start_time": "2022-07-10T14:03:24.796Z"
   },
   {
    "duration": 251,
    "start_time": "2022-07-10T14:03:25.099Z"
   },
   {
    "duration": 295,
    "start_time": "2022-07-10T14:03:25.351Z"
   },
   {
    "duration": 237,
    "start_time": "2022-07-10T14:03:25.651Z"
   },
   {
    "duration": 386,
    "start_time": "2022-07-10T14:03:25.890Z"
   },
   {
    "duration": 223,
    "start_time": "2022-07-10T14:03:26.278Z"
   },
   {
    "duration": 4,
    "start_time": "2022-07-10T14:03:26.504Z"
   },
   {
    "duration": 206,
    "start_time": "2022-07-10T14:03:26.523Z"
   },
   {
    "duration": 7,
    "start_time": "2022-07-10T14:03:26.732Z"
   },
   {
    "duration": 240,
    "start_time": "2022-07-10T14:03:26.742Z"
   },
   {
    "duration": 188,
    "start_time": "2022-07-10T14:03:26.984Z"
   },
   {
    "duration": 14,
    "start_time": "2022-07-10T14:03:27.174Z"
   },
   {
    "duration": 11,
    "start_time": "2022-07-10T14:03:27.190Z"
   },
   {
    "duration": 30,
    "start_time": "2022-07-10T14:03:27.203Z"
   },
   {
    "duration": 31,
    "start_time": "2022-07-10T14:03:27.235Z"
   },
   {
    "duration": 19,
    "start_time": "2022-07-10T14:03:27.268Z"
   },
   {
    "duration": 262,
    "start_time": "2022-07-10T14:04:31.476Z"
   },
   {
    "duration": 361,
    "start_time": "2022-07-10T14:04:38.741Z"
   },
   {
    "duration": 325,
    "start_time": "2022-07-10T14:05:13.687Z"
   },
   {
    "duration": 258,
    "start_time": "2022-07-10T14:05:19.759Z"
   },
   {
    "duration": 319,
    "start_time": "2022-07-10T14:05:25.974Z"
   },
   {
    "duration": 1150,
    "start_time": "2022-07-10T14:05:43.714Z"
   },
   {
    "duration": 108,
    "start_time": "2022-07-10T14:05:44.866Z"
   },
   {
    "duration": 4,
    "start_time": "2022-07-10T14:05:44.976Z"
   },
   {
    "duration": 9,
    "start_time": "2022-07-10T14:05:44.983Z"
   },
   {
    "duration": 55,
    "start_time": "2022-07-10T14:05:44.994Z"
   },
   {
    "duration": 22,
    "start_time": "2022-07-10T14:05:45.051Z"
   },
   {
    "duration": 22,
    "start_time": "2022-07-10T14:05:45.075Z"
   },
   {
    "duration": 3,
    "start_time": "2022-07-10T14:05:45.124Z"
   },
   {
    "duration": 30,
    "start_time": "2022-07-10T14:05:45.134Z"
   },
   {
    "duration": 11,
    "start_time": "2022-07-10T14:05:45.167Z"
   },
   {
    "duration": 4,
    "start_time": "2022-07-10T14:05:45.181Z"
   },
   {
    "duration": 9,
    "start_time": "2022-07-10T14:05:45.187Z"
   },
   {
    "duration": 12,
    "start_time": "2022-07-10T14:05:45.198Z"
   },
   {
    "duration": 15,
    "start_time": "2022-07-10T14:05:45.227Z"
   },
   {
    "duration": 26,
    "start_time": "2022-07-10T14:05:45.244Z"
   },
   {
    "duration": 13,
    "start_time": "2022-07-10T14:05:45.272Z"
   },
   {
    "duration": 73,
    "start_time": "2022-07-10T14:05:45.286Z"
   },
   {
    "duration": 12,
    "start_time": "2022-07-10T14:05:45.361Z"
   },
   {
    "duration": 21,
    "start_time": "2022-07-10T14:05:45.375Z"
   },
   {
    "duration": 33,
    "start_time": "2022-07-10T14:05:45.397Z"
   },
   {
    "duration": 21,
    "start_time": "2022-07-10T14:05:45.431Z"
   },
   {
    "duration": 150,
    "start_time": "2022-07-10T14:05:45.454Z"
   },
   {
    "duration": 11,
    "start_time": "2022-07-10T14:05:45.606Z"
   },
   {
    "duration": 32,
    "start_time": "2022-07-10T14:05:45.624Z"
   },
   {
    "duration": 293,
    "start_time": "2022-07-10T14:05:45.658Z"
   },
   {
    "duration": 287,
    "start_time": "2022-07-10T14:05:45.953Z"
   },
   {
    "duration": 310,
    "start_time": "2022-07-10T14:05:46.242Z"
   },
   {
    "duration": 240,
    "start_time": "2022-07-10T14:05:46.556Z"
   },
   {
    "duration": 392,
    "start_time": "2022-07-10T14:05:46.798Z"
   },
   {
    "duration": 226,
    "start_time": "2022-07-10T14:05:47.192Z"
   },
   {
    "duration": 9,
    "start_time": "2022-07-10T14:05:47.420Z"
   },
   {
    "duration": 207,
    "start_time": "2022-07-10T14:05:47.433Z"
   },
   {
    "duration": 5,
    "start_time": "2022-07-10T14:05:47.643Z"
   },
   {
    "duration": 284,
    "start_time": "2022-07-10T14:05:47.650Z"
   },
   {
    "duration": 410,
    "start_time": "2022-07-10T14:05:47.936Z"
   },
   {
    "duration": 18,
    "start_time": "2022-07-10T14:05:48.348Z"
   },
   {
    "duration": 86,
    "start_time": "2022-07-10T14:05:48.368Z"
   },
   {
    "duration": 10,
    "start_time": "2022-07-10T14:05:48.456Z"
   },
   {
    "duration": 70,
    "start_time": "2022-07-10T14:05:48.468Z"
   },
   {
    "duration": 17,
    "start_time": "2022-07-10T14:05:48.541Z"
   },
   {
    "duration": 318,
    "start_time": "2022-07-10T14:05:57.835Z"
   },
   {
    "duration": 14,
    "start_time": "2022-07-10T14:52:27.491Z"
   },
   {
    "duration": 323,
    "start_time": "2022-07-10T14:52:38.315Z"
   },
   {
    "duration": 230,
    "start_time": "2022-07-10T14:54:27.390Z"
   },
   {
    "duration": 58,
    "start_time": "2022-07-10T14:56:16.474Z"
   },
   {
    "duration": 25,
    "start_time": "2022-07-10T14:56:30.917Z"
   },
   {
    "duration": 11,
    "start_time": "2022-07-10T14:56:43.496Z"
   },
   {
    "duration": 73,
    "start_time": "2022-07-10T15:01:21.345Z"
   },
   {
    "duration": 266,
    "start_time": "2022-07-10T15:01:48.176Z"
   },
   {
    "duration": 29,
    "start_time": "2022-07-10T15:01:57.886Z"
   },
   {
    "duration": 21,
    "start_time": "2022-07-10T15:02:10.795Z"
   },
   {
    "duration": 33,
    "start_time": "2022-07-10T15:02:53.801Z"
   },
   {
    "duration": 30,
    "start_time": "2022-07-10T15:03:06.298Z"
   },
   {
    "duration": 25,
    "start_time": "2022-07-10T15:03:31.365Z"
   },
   {
    "duration": 268,
    "start_time": "2022-07-10T15:04:58.094Z"
   },
   {
    "duration": 299,
    "start_time": "2022-07-10T15:05:12.399Z"
   },
   {
    "duration": 277,
    "start_time": "2022-07-10T15:05:17.673Z"
   },
   {
    "duration": 271,
    "start_time": "2022-07-10T15:09:09.826Z"
   },
   {
    "duration": 257,
    "start_time": "2022-07-10T15:09:33.339Z"
   },
   {
    "duration": 12,
    "start_time": "2022-07-10T15:10:03.393Z"
   },
   {
    "duration": 30,
    "start_time": "2022-07-10T15:16:08.970Z"
   },
   {
    "duration": 10,
    "start_time": "2022-07-10T15:17:02.233Z"
   },
   {
    "duration": 10,
    "start_time": "2022-07-10T15:18:26.847Z"
   },
   {
    "duration": 162,
    "start_time": "2022-07-10T15:18:46.250Z"
   },
   {
    "duration": 15,
    "start_time": "2022-07-10T15:18:53.491Z"
   },
   {
    "duration": 1200,
    "start_time": "2022-07-10T15:21:38.547Z"
   },
   {
    "duration": 105,
    "start_time": "2022-07-10T15:21:39.749Z"
   },
   {
    "duration": 4,
    "start_time": "2022-07-10T15:21:39.856Z"
   },
   {
    "duration": 6,
    "start_time": "2022-07-10T15:21:39.863Z"
   },
   {
    "duration": 30,
    "start_time": "2022-07-10T15:21:39.871Z"
   },
   {
    "duration": 23,
    "start_time": "2022-07-10T15:21:39.903Z"
   },
   {
    "duration": 19,
    "start_time": "2022-07-10T15:21:39.928Z"
   },
   {
    "duration": 4,
    "start_time": "2022-07-10T15:21:39.948Z"
   },
   {
    "duration": 17,
    "start_time": "2022-07-10T15:21:39.953Z"
   },
   {
    "duration": 10,
    "start_time": "2022-07-10T15:21:39.972Z"
   },
   {
    "duration": 4,
    "start_time": "2022-07-10T15:21:39.984Z"
   },
   {
    "duration": 5,
    "start_time": "2022-07-10T15:21:40.024Z"
   },
   {
    "duration": 7,
    "start_time": "2022-07-10T15:21:40.031Z"
   },
   {
    "duration": 10,
    "start_time": "2022-07-10T15:21:40.040Z"
   },
   {
    "duration": 18,
    "start_time": "2022-07-10T15:21:40.051Z"
   },
   {
    "duration": 11,
    "start_time": "2022-07-10T15:21:40.071Z"
   },
   {
    "duration": 95,
    "start_time": "2022-07-10T15:21:40.084Z"
   },
   {
    "duration": 11,
    "start_time": "2022-07-10T15:21:40.180Z"
   },
   {
    "duration": 44,
    "start_time": "2022-07-10T15:21:40.192Z"
   },
   {
    "duration": 9,
    "start_time": "2022-07-10T15:21:40.238Z"
   },
   {
    "duration": 15,
    "start_time": "2022-07-10T15:21:40.248Z"
   },
   {
    "duration": 139,
    "start_time": "2022-07-10T15:21:40.265Z"
   },
   {
    "duration": 18,
    "start_time": "2022-07-10T15:21:40.406Z"
   },
   {
    "duration": 13,
    "start_time": "2022-07-10T15:21:40.426Z"
   },
   {
    "duration": 287,
    "start_time": "2022-07-10T15:21:40.441Z"
   },
   {
    "duration": 239,
    "start_time": "2022-07-10T15:21:40.729Z"
   },
   {
    "duration": 289,
    "start_time": "2022-07-10T15:21:40.970Z"
   },
   {
    "duration": 239,
    "start_time": "2022-07-10T15:21:41.263Z"
   },
   {
    "duration": 345,
    "start_time": "2022-07-10T15:21:41.504Z"
   },
   {
    "duration": 279,
    "start_time": "2022-07-10T15:21:41.851Z"
   },
   {
    "duration": 4,
    "start_time": "2022-07-10T15:21:42.132Z"
   },
   {
    "duration": 354,
    "start_time": "2022-07-10T15:21:42.138Z"
   },
   {
    "duration": 5,
    "start_time": "2022-07-10T15:21:42.493Z"
   },
   {
    "duration": 244,
    "start_time": "2022-07-10T15:21:42.499Z"
   },
   {
    "duration": 168,
    "start_time": "2022-07-10T15:21:42.745Z"
   },
   {
    "duration": 24,
    "start_time": "2022-07-10T15:21:42.915Z"
   },
   {
    "duration": 15,
    "start_time": "2022-07-10T15:21:42.941Z"
   },
   {
    "duration": 10,
    "start_time": "2022-07-10T15:21:42.958Z"
   },
   {
    "duration": 25,
    "start_time": "2022-07-10T15:21:42.970Z"
   },
   {
    "duration": 38,
    "start_time": "2022-07-10T15:21:42.997Z"
   },
   {
    "duration": 61,
    "start_time": "2022-07-11T06:51:48.998Z"
   },
   {
    "duration": 1410,
    "start_time": "2022-07-11T06:51:55.226Z"
   },
   {
    "duration": 239,
    "start_time": "2022-07-11T06:51:56.639Z"
   },
   {
    "duration": 5,
    "start_time": "2022-07-11T06:51:56.880Z"
   },
   {
    "duration": 10,
    "start_time": "2022-07-11T06:51:56.887Z"
   },
   {
    "duration": 29,
    "start_time": "2022-07-11T06:51:56.900Z"
   },
   {
    "duration": 22,
    "start_time": "2022-07-11T06:51:56.931Z"
   },
   {
    "duration": 48,
    "start_time": "2022-07-11T06:51:56.954Z"
   },
   {
    "duration": 3,
    "start_time": "2022-07-11T06:51:57.004Z"
   },
   {
    "duration": 20,
    "start_time": "2022-07-11T06:51:57.009Z"
   },
   {
    "duration": 18,
    "start_time": "2022-07-11T06:51:57.031Z"
   },
   {
    "duration": 5,
    "start_time": "2022-07-11T06:51:57.051Z"
   },
   {
    "duration": 8,
    "start_time": "2022-07-11T06:51:57.057Z"
   },
   {
    "duration": 8,
    "start_time": "2022-07-11T06:51:57.067Z"
   },
   {
    "duration": 5,
    "start_time": "2022-07-11T06:51:57.101Z"
   },
   {
    "duration": 18,
    "start_time": "2022-07-11T06:51:57.107Z"
   },
   {
    "duration": 10,
    "start_time": "2022-07-11T06:51:57.127Z"
   },
   {
    "duration": 81,
    "start_time": "2022-07-11T06:51:57.139Z"
   },
   {
    "duration": 11,
    "start_time": "2022-07-11T06:51:57.222Z"
   },
   {
    "duration": 25,
    "start_time": "2022-07-11T06:51:57.234Z"
   },
   {
    "duration": 8,
    "start_time": "2022-07-11T06:51:57.261Z"
   },
   {
    "duration": 36,
    "start_time": "2022-07-11T06:51:57.271Z"
   },
   {
    "duration": 141,
    "start_time": "2022-07-11T06:51:57.309Z"
   },
   {
    "duration": 8,
    "start_time": "2022-07-11T06:51:57.452Z"
   },
   {
    "duration": 21,
    "start_time": "2022-07-11T06:51:57.461Z"
   },
   {
    "duration": 347,
    "start_time": "2022-07-11T06:51:57.484Z"
   },
   {
    "duration": 256,
    "start_time": "2022-07-11T06:51:57.832Z"
   },
   {
    "duration": 351,
    "start_time": "2022-07-11T06:51:58.098Z"
   },
   {
    "duration": 238,
    "start_time": "2022-07-11T06:51:58.451Z"
   },
   {
    "duration": 351,
    "start_time": "2022-07-11T06:51:58.691Z"
   },
   {
    "duration": 278,
    "start_time": "2022-07-11T06:51:59.043Z"
   },
   {
    "duration": 5,
    "start_time": "2022-07-11T06:51:59.323Z"
   },
   {
    "duration": 364,
    "start_time": "2022-07-11T06:51:59.330Z"
   },
   {
    "duration": 5,
    "start_time": "2022-07-11T06:51:59.696Z"
   },
   {
    "duration": 257,
    "start_time": "2022-07-11T06:51:59.703Z"
   },
   {
    "duration": 167,
    "start_time": "2022-07-11T06:51:59.962Z"
   },
   {
    "duration": 11,
    "start_time": "2022-07-11T06:52:00.130Z"
   },
   {
    "duration": 20,
    "start_time": "2022-07-11T06:52:00.143Z"
   },
   {
    "duration": 15,
    "start_time": "2022-07-11T06:52:00.165Z"
   },
   {
    "duration": 33,
    "start_time": "2022-07-11T06:52:00.182Z"
   },
   {
    "duration": 15,
    "start_time": "2022-07-11T06:52:00.217Z"
   },
   {
    "duration": 229,
    "start_time": "2022-07-11T06:52:17.266Z"
   },
   {
    "duration": 225,
    "start_time": "2022-07-11T06:52:19.923Z"
   }
  ],
  "kernelspec": {
   "display_name": "Python 3 (ipykernel)",
   "language": "python",
   "name": "python3"
  },
  "language_info": {
   "codemirror_mode": {
    "name": "ipython",
    "version": 3
   },
   "file_extension": ".py",
   "mimetype": "text/x-python",
   "name": "python",
   "nbconvert_exporter": "python",
   "pygments_lexer": "ipython3",
   "version": "3.9.7"
  },
  "toc": {
   "base_numbering": 1,
   "nav_menu": {},
   "number_sections": true,
   "sideBar": true,
   "skip_h1_title": true,
   "title_cell": "Table of Contents",
   "title_sidebar": "Contents",
   "toc_cell": false,
   "toc_position": {
    "height": "calc(100% - 180px)",
    "left": "10px",
    "top": "150px",
    "width": "300px"
   },
   "toc_section_display": true,
   "toc_window_display": false
  }
 },
 "nbformat": 4,
 "nbformat_minor": 2
}
