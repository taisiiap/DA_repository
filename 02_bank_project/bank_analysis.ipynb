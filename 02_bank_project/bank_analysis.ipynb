{
 "cells": [
  {
   "cell_type": "markdown",
   "id": "0360ecb7",
   "metadata": {},
   "source": [
    "# Исследование надежности заемщиков."
   ]
  },
  {
   "cell_type": "markdown",
   "id": "adffe829",
   "metadata": {},
   "source": [
    "Оценка кредитоспособности клиента или *кредитный скоринг* широко используется банками для того, чтобы быстро принять решение об одобрении или отказе в выдаче кредита. На основе данных мы сравним надежность людей с разным бэкраундом и выявим закономерности."
   ]
  },
  {
   "cell_type": "markdown",
   "id": "e83b69f1",
   "metadata": {},
   "source": [
    "## Шаг 1. Обзор данных"
   ]
  },
  {
   "cell_type": "code",
   "execution_count": 1,
   "id": "bc46f979",
   "metadata": {},
   "outputs": [],
   "source": [
    "import pandas as pd # импорт библиотеки pandas"
   ]
  },
  {
   "cell_type": "code",
   "execution_count": 2,
   "id": "ec0b5dd4",
   "metadata": {
    "scrolled": true
   },
   "outputs": [
    {
     "data": {
      "text/html": [
       "<div>\n",
       "<style scoped>\n",
       "    .dataframe tbody tr th:only-of-type {\n",
       "        vertical-align: middle;\n",
       "    }\n",
       "\n",
       "    .dataframe tbody tr th {\n",
       "        vertical-align: top;\n",
       "    }\n",
       "\n",
       "    .dataframe thead th {\n",
       "        text-align: right;\n",
       "    }\n",
       "</style>\n",
       "<table border=\"1\" class=\"dataframe\">\n",
       "  <thead>\n",
       "    <tr style=\"text-align: right;\">\n",
       "      <th></th>\n",
       "      <th>children</th>\n",
       "      <th>days_employed</th>\n",
       "      <th>dob_years</th>\n",
       "      <th>education</th>\n",
       "      <th>education_id</th>\n",
       "      <th>family_status</th>\n",
       "      <th>family_status_id</th>\n",
       "      <th>gender</th>\n",
       "      <th>income_type</th>\n",
       "      <th>debt</th>\n",
       "      <th>total_income</th>\n",
       "      <th>purpose</th>\n",
       "    </tr>\n",
       "  </thead>\n",
       "  <tbody>\n",
       "    <tr>\n",
       "      <th>0</th>\n",
       "      <td>1</td>\n",
       "      <td>-8437.673028</td>\n",
       "      <td>42</td>\n",
       "      <td>высшее</td>\n",
       "      <td>0</td>\n",
       "      <td>женат / замужем</td>\n",
       "      <td>0</td>\n",
       "      <td>F</td>\n",
       "      <td>сотрудник</td>\n",
       "      <td>0</td>\n",
       "      <td>253875.639453</td>\n",
       "      <td>покупка жилья</td>\n",
       "    </tr>\n",
       "    <tr>\n",
       "      <th>1</th>\n",
       "      <td>1</td>\n",
       "      <td>-4024.803754</td>\n",
       "      <td>36</td>\n",
       "      <td>среднее</td>\n",
       "      <td>1</td>\n",
       "      <td>женат / замужем</td>\n",
       "      <td>0</td>\n",
       "      <td>F</td>\n",
       "      <td>сотрудник</td>\n",
       "      <td>0</td>\n",
       "      <td>112080.014102</td>\n",
       "      <td>приобретение автомобиля</td>\n",
       "    </tr>\n",
       "    <tr>\n",
       "      <th>2</th>\n",
       "      <td>0</td>\n",
       "      <td>-5623.422610</td>\n",
       "      <td>33</td>\n",
       "      <td>Среднее</td>\n",
       "      <td>1</td>\n",
       "      <td>женат / замужем</td>\n",
       "      <td>0</td>\n",
       "      <td>M</td>\n",
       "      <td>сотрудник</td>\n",
       "      <td>0</td>\n",
       "      <td>145885.952297</td>\n",
       "      <td>покупка жилья</td>\n",
       "    </tr>\n",
       "    <tr>\n",
       "      <th>3</th>\n",
       "      <td>3</td>\n",
       "      <td>-4124.747207</td>\n",
       "      <td>32</td>\n",
       "      <td>среднее</td>\n",
       "      <td>1</td>\n",
       "      <td>женат / замужем</td>\n",
       "      <td>0</td>\n",
       "      <td>M</td>\n",
       "      <td>сотрудник</td>\n",
       "      <td>0</td>\n",
       "      <td>267628.550329</td>\n",
       "      <td>дополнительное образование</td>\n",
       "    </tr>\n",
       "    <tr>\n",
       "      <th>4</th>\n",
       "      <td>0</td>\n",
       "      <td>340266.072047</td>\n",
       "      <td>53</td>\n",
       "      <td>среднее</td>\n",
       "      <td>1</td>\n",
       "      <td>гражданский брак</td>\n",
       "      <td>1</td>\n",
       "      <td>F</td>\n",
       "      <td>пенсионер</td>\n",
       "      <td>0</td>\n",
       "      <td>158616.077870</td>\n",
       "      <td>сыграть свадьбу</td>\n",
       "    </tr>\n",
       "    <tr>\n",
       "      <th>5</th>\n",
       "      <td>0</td>\n",
       "      <td>-926.185831</td>\n",
       "      <td>27</td>\n",
       "      <td>высшее</td>\n",
       "      <td>0</td>\n",
       "      <td>гражданский брак</td>\n",
       "      <td>1</td>\n",
       "      <td>M</td>\n",
       "      <td>компаньон</td>\n",
       "      <td>0</td>\n",
       "      <td>255763.565419</td>\n",
       "      <td>покупка жилья</td>\n",
       "    </tr>\n",
       "    <tr>\n",
       "      <th>6</th>\n",
       "      <td>0</td>\n",
       "      <td>-2879.202052</td>\n",
       "      <td>43</td>\n",
       "      <td>высшее</td>\n",
       "      <td>0</td>\n",
       "      <td>женат / замужем</td>\n",
       "      <td>0</td>\n",
       "      <td>F</td>\n",
       "      <td>компаньон</td>\n",
       "      <td>0</td>\n",
       "      <td>240525.971920</td>\n",
       "      <td>операции с жильем</td>\n",
       "    </tr>\n",
       "    <tr>\n",
       "      <th>7</th>\n",
       "      <td>0</td>\n",
       "      <td>-152.779569</td>\n",
       "      <td>50</td>\n",
       "      <td>СРЕДНЕЕ</td>\n",
       "      <td>1</td>\n",
       "      <td>женат / замужем</td>\n",
       "      <td>0</td>\n",
       "      <td>M</td>\n",
       "      <td>сотрудник</td>\n",
       "      <td>0</td>\n",
       "      <td>135823.934197</td>\n",
       "      <td>образование</td>\n",
       "    </tr>\n",
       "    <tr>\n",
       "      <th>8</th>\n",
       "      <td>2</td>\n",
       "      <td>-6929.865299</td>\n",
       "      <td>35</td>\n",
       "      <td>ВЫСШЕЕ</td>\n",
       "      <td>0</td>\n",
       "      <td>гражданский брак</td>\n",
       "      <td>1</td>\n",
       "      <td>F</td>\n",
       "      <td>сотрудник</td>\n",
       "      <td>0</td>\n",
       "      <td>95856.832424</td>\n",
       "      <td>на проведение свадьбы</td>\n",
       "    </tr>\n",
       "    <tr>\n",
       "      <th>9</th>\n",
       "      <td>0</td>\n",
       "      <td>-2188.756445</td>\n",
       "      <td>41</td>\n",
       "      <td>среднее</td>\n",
       "      <td>1</td>\n",
       "      <td>женат / замужем</td>\n",
       "      <td>0</td>\n",
       "      <td>M</td>\n",
       "      <td>сотрудник</td>\n",
       "      <td>0</td>\n",
       "      <td>144425.938277</td>\n",
       "      <td>покупка жилья для семьи</td>\n",
       "    </tr>\n",
       "  </tbody>\n",
       "</table>\n",
       "</div>"
      ],
      "text/plain": [
       "   children  days_employed  dob_years education  education_id  \\\n",
       "0         1   -8437.673028         42    высшее             0   \n",
       "1         1   -4024.803754         36   среднее             1   \n",
       "2         0   -5623.422610         33   Среднее             1   \n",
       "3         3   -4124.747207         32   среднее             1   \n",
       "4         0  340266.072047         53   среднее             1   \n",
       "5         0    -926.185831         27    высшее             0   \n",
       "6         0   -2879.202052         43    высшее             0   \n",
       "7         0    -152.779569         50   СРЕДНЕЕ             1   \n",
       "8         2   -6929.865299         35    ВЫСШЕЕ             0   \n",
       "9         0   -2188.756445         41   среднее             1   \n",
       "\n",
       "      family_status  family_status_id gender income_type  debt   total_income  \\\n",
       "0   женат / замужем                 0      F   сотрудник     0  253875.639453   \n",
       "1   женат / замужем                 0      F   сотрудник     0  112080.014102   \n",
       "2   женат / замужем                 0      M   сотрудник     0  145885.952297   \n",
       "3   женат / замужем                 0      M   сотрудник     0  267628.550329   \n",
       "4  гражданский брак                 1      F   пенсионер     0  158616.077870   \n",
       "5  гражданский брак                 1      M   компаньон     0  255763.565419   \n",
       "6   женат / замужем                 0      F   компаньон     0  240525.971920   \n",
       "7   женат / замужем                 0      M   сотрудник     0  135823.934197   \n",
       "8  гражданский брак                 1      F   сотрудник     0   95856.832424   \n",
       "9   женат / замужем                 0      M   сотрудник     0  144425.938277   \n",
       "\n",
       "                      purpose  \n",
       "0               покупка жилья  \n",
       "1     приобретение автомобиля  \n",
       "2               покупка жилья  \n",
       "3  дополнительное образование  \n",
       "4             сыграть свадьбу  \n",
       "5               покупка жилья  \n",
       "6           операции с жильем  \n",
       "7                 образование  \n",
       "8       на проведение свадьбы  \n",
       "9     покупка жилья для семьи  "
      ]
     },
     "metadata": {},
     "output_type": "display_data"
    }
   ],
   "source": [
    "df = pd.read_csv('data.csv')\n",
    "display(df.head(10)) # получение первых 10 строк таблицы df"
   ]
  },
  {
   "cell_type": "markdown",
   "id": "ca6834a5",
   "metadata": {},
   "source": [
    "Далее нам нужно изучить наш набор данных. Являются ли они завершенными? Распознало ли pandas их, как ожидалось? Отсутствуют ли в них какие-либо значения?"
   ]
  },
  {
   "cell_type": "code",
   "execution_count": 3,
   "id": "c243ac1e",
   "metadata": {
    "scrolled": false
   },
   "outputs": [
    {
     "name": "stdout",
     "output_type": "stream",
     "text": [
      "<class 'pandas.core.frame.DataFrame'>\n",
      "RangeIndex: 21525 entries, 0 to 21524\n",
      "Data columns (total 12 columns):\n",
      " #   Column            Non-Null Count  Dtype  \n",
      "---  ------            --------------  -----  \n",
      " 0   children          21525 non-null  int64  \n",
      " 1   days_employed     19351 non-null  float64\n",
      " 2   dob_years         21525 non-null  int64  \n",
      " 3   education         21525 non-null  object \n",
      " 4   education_id      21525 non-null  int64  \n",
      " 5   family_status     21525 non-null  object \n",
      " 6   family_status_id  21525 non-null  int64  \n",
      " 7   gender            21525 non-null  object \n",
      " 8   income_type       21525 non-null  object \n",
      " 9   debt              21525 non-null  int64  \n",
      " 10  total_income      19351 non-null  float64\n",
      " 11  purpose           21525 non-null  object \n",
      "dtypes: float64(2), int64(5), object(5)\n",
      "memory usage: 2.0+ MB\n"
     ]
    }
   ],
   "source": [
    "df.info()"
   ]
  },
  {
   "cell_type": "markdown",
   "id": "b6224ddb",
   "metadata": {},
   "source": [
    "Итак, в таблице двенадцать столбцов. Тип данных в столбцах `education`, `family_status`, `gender`, `income_type` and `purpose` — `object`. В столбцах `days_employed` and `total_income` - `float64`. В остальных - `int64`.\n",
    "\n",
    "Согласно документации к данным:\n",
    "* `children` — количество детей в семье;\n",
    "* `days_employed` — общий трудовой стаж в днях;\n",
    "* `dob_years` — возраст клиента в годах;\n",
    "* `education` — уровень образования клиента;\n",
    "* `education_id` — идентификатор уровня образования;\n",
    "* `family_status` — семейное положение;\n",
    "* `family_status_id` — идентификатор семейного положения;\n",
    "* `gender` — пол клиента;\n",
    "* `income_type` — тип занятости;\n",
    "* `debt` — имел ли задолженность по возврату кредитов;\n",
    "* `total_income` — ежемесячный доход;\n",
    "* `purpose` — цель получения кредита.\n",
    "\n",
    "Количество значений в столбцах различается. Значит, в данных есть пропущенные значения."
   ]
  },
  {
   "cell_type": "markdown",
   "id": "b9bace62",
   "metadata": {},
   "source": [
    "**Выводы**\n",
    "\n",
    "В каждой строке таблицы — данные о клиенте банка. Часть колонок описывает взятый кредит: цель кредита и наличие или отсутствие по нему задолженносоти. Остальные данные рассказывают о самом клиенте: его семейное положение, пол, тип занятости, наличие детей и их количество, уровень образования и так далее.\n",
    "\n",
    "Предварительно можно утверждать, что, данных достаточно для проверки гипотез. Но в данных встречаются пропуски.\n",
    "\n",
    "Чтобы двигаться дальше, нужно устранить проблемы в данных."
   ]
  },
  {
   "cell_type": "markdown",
   "id": "338a73e4",
   "metadata": {},
   "source": [
    "## Шаг 2. Предобработка данных"
   ]
  },
  {
   "cell_type": "markdown",
   "id": "8db196f2",
   "metadata": {},
   "source": [
    "### Шаг 2.1 Заполнение пропусков"
   ]
  },
  {
   "cell_type": "code",
   "execution_count": 4,
   "id": "48f8c8f7",
   "metadata": {},
   "outputs": [
    {
     "data": {
      "text/plain": [
       "children               0\n",
       "days_employed       2174\n",
       "dob_years              0\n",
       "education              0\n",
       "education_id           0\n",
       "family_status          0\n",
       "family_status_id       0\n",
       "gender                 0\n",
       "income_type            0\n",
       "debt                   0\n",
       "total_income        2174\n",
       "purpose                0\n",
       "dtype: int64"
      ]
     },
     "execution_count": 4,
     "metadata": {},
     "output_type": "execute_result"
    }
   ],
   "source": [
    "df.isna().sum()#узнаем сколько пропусков в каждом столбце датафрейма"
   ]
  },
  {
   "cell_type": "code",
   "execution_count": 5,
   "id": "b1537e3c",
   "metadata": {},
   "outputs": [
    {
     "data": {
      "text/plain": [
       "'Доля пропусков в таблице составляет 10.1%'"
      ]
     },
     "execution_count": 5,
     "metadata": {},
     "output_type": "execute_result"
    }
   ],
   "source": [
    "days_employed_na = 2174\n",
    "total_entries = 21525\n",
    "f'Доля пропусков в таблице составляет {days_employed_na/total_entries:.1%}'"
   ]
  },
  {
   "cell_type": "markdown",
   "id": "f4985984",
   "metadata": {},
   "source": [
    "Мы видим, что в колонках `days_employed` и `total_income` одинаковое количество пропусков. Это может означать, что у человека без трудового стажа (days_employed=0) нет никакого дохода.\n",
    "\n",
    "Доля пропусков составляет 10%, это небольшая погрешность. Пропущенные значения неважны для целей исследования, но в тех же строках или столбцах остаются ценные данные, поэтому простое удаление строк нам не подходит. Заполнить пропуски медианным значением — лучшее решение для наших данных."
   ]
  },
  {
   "cell_type": "markdown",
   "id": "b11e80bb",
   "metadata": {},
   "source": [
    "Для начала узнаем, какой тип занятости у клиентов без дохода."
   ]
  },
  {
   "cell_type": "code",
   "execution_count": 6,
   "id": "3ea12c64",
   "metadata": {},
   "outputs": [
    {
     "data": {
      "text/plain": [
       "array(['пенсионер', 'госслужащий', 'компаньон', 'сотрудник',\n",
       "       'предприниматель'], dtype=object)"
      ]
     },
     "metadata": {},
     "output_type": "display_data"
    }
   ],
   "source": [
    "#фильтруем по нулевым значениям и выбираем список из уникальных профессий\n",
    "display(df[df['total_income'].isna()]['income_type'].unique())"
   ]
  },
  {
   "cell_type": "markdown",
   "id": "cd516471",
   "metadata": {},
   "source": [
    "Мы увидели следущие профессии:\n",
    "* пенсионер\n",
    "* госслужащий\n",
    "* компаньон\n",
    "* сотрудник\n",
    "* предприниматель\n",
    "\n",
    "Для каждого типа найдем медианное значение и заполним им ячейки с нулями."
   ]
  },
  {
   "cell_type": "markdown",
   "id": "3954bc75",
   "metadata": {},
   "source": [
    "Создадим функцию `profession_median()` с параметром `profession` - профессиями, у которых встречаются пропуски в доходах.\n",
    "\n",
    "Функция должна вернуть медианное значение по доходам этих профессий."
   ]
  },
  {
   "cell_type": "code",
   "execution_count": 7,
   "id": "ff5f913b",
   "metadata": {},
   "outputs": [],
   "source": [
    "def profession_median(profession):\n",
    "    profession_list = df[(df['income_type'] == profession) & (df['total_income'] != 0)]  #выбираем профессии  с пропусками в данных\n",
    "    median_count = profession_list['total_income'].median() #находим медианное значение\n",
    "    return median_count"
   ]
  },
  {
   "cell_type": "markdown",
   "id": "ae880c42",
   "metadata": {},
   "source": [
    "Подставим в функцию наши профессии и проверим, что функция работает"
   ]
  },
  {
   "cell_type": "code",
   "execution_count": 8,
   "id": "55cd5b7d",
   "metadata": {},
   "outputs": [
    {
     "data": {
      "text/plain": [
       "118514.48641164352"
      ]
     },
     "execution_count": 8,
     "metadata": {},
     "output_type": "execute_result"
    }
   ],
   "source": [
    "profession_median('пенсионер')"
   ]
  },
  {
   "cell_type": "code",
   "execution_count": 9,
   "id": "f654b12b",
   "metadata": {},
   "outputs": [
    {
     "data": {
      "text/plain": [
       "150447.9352830068"
      ]
     },
     "execution_count": 9,
     "metadata": {},
     "output_type": "execute_result"
    }
   ],
   "source": [
    "profession_median('госслужащий')"
   ]
  },
  {
   "cell_type": "code",
   "execution_count": 10,
   "id": "74936d33",
   "metadata": {},
   "outputs": [
    {
     "data": {
      "text/plain": [
       "172357.95096577113"
      ]
     },
     "execution_count": 10,
     "metadata": {},
     "output_type": "execute_result"
    }
   ],
   "source": [
    "profession_median('компаньон')"
   ]
  },
  {
   "cell_type": "code",
   "execution_count": 11,
   "id": "266bf4ae",
   "metadata": {},
   "outputs": [
    {
     "data": {
      "text/plain": [
       "142594.39684740017"
      ]
     },
     "execution_count": 11,
     "metadata": {},
     "output_type": "execute_result"
    }
   ],
   "source": [
    "profession_median('сотрудник')"
   ]
  },
  {
   "cell_type": "code",
   "execution_count": 12,
   "id": "0a999226",
   "metadata": {},
   "outputs": [
    {
     "data": {
      "text/plain": [
       "499163.1449470857"
      ]
     },
     "execution_count": 12,
     "metadata": {},
     "output_type": "execute_result"
    }
   ],
   "source": [
    "profession_median('предприниматель')"
   ]
  },
  {
   "cell_type": "markdown",
   "id": "9b537f66",
   "metadata": {},
   "source": [
    "Доход предпринимателя в 4 раза выше дохода пенсионера - похоже на правду.\n",
    "\n",
    "Теперь заменим все пропуски на полученные медианные значения:"
   ]
  },
  {
   "cell_type": "code",
   "execution_count": 13,
   "id": "7d2bdc10",
   "metadata": {},
   "outputs": [],
   "source": [
    "professions = df[df['total_income'].isna()]['income_type'].unique() #список с профессиями, у которых найдены пропуски\n",
    "\n",
    "for profession in professions:\n",
    "    df.loc[df['income_type'] == profession, 'total_income'] = df[df['income_type'] == profession]['total_income'].fillna(profession_median(profession))"
   ]
  },
  {
   "cell_type": "code",
   "execution_count": 14,
   "id": "90e35918",
   "metadata": {},
   "outputs": [
    {
     "data": {
      "text/plain": [
       "children               0\n",
       "days_employed       2174\n",
       "dob_years              0\n",
       "education              0\n",
       "education_id           0\n",
       "family_status          0\n",
       "family_status_id       0\n",
       "gender                 0\n",
       "income_type            0\n",
       "debt                   0\n",
       "total_income           0\n",
       "purpose                0\n",
       "dtype: int64"
      ]
     },
     "execution_count": 14,
     "metadata": {},
     "output_type": "execute_result"
    }
   ],
   "source": [
    "#проверим результат\n",
    "df.isna().sum()"
   ]
  },
  {
   "cell_type": "markdown",
   "id": "999fbfda",
   "metadata": {},
   "source": [
    "**Вывод:** чтобы заполнить пропуски в `total_income` мы нашли мединные значения разных групп из `income_type`. Чтобы исправить пропуски в `days_employed` сперва нужно найти и исправить аномалии."
   ]
  },
  {
   "cell_type": "markdown",
   "id": "0429901a",
   "metadata": {},
   "source": [
    "### Шаг 2.2 Проверка данных на аномалии и исправления."
   ]
  },
  {
   "cell_type": "markdown",
   "id": "faf5c3dd",
   "metadata": {},
   "source": [
    "В столбце `days_employed` присутвуют отрицательные значения. Предположим, что при нахождении числа человек перепутал столбцы и вычел из даты приёма дату увольнения. Тогда функция `df.abs()` исправит ситуацию."
   ]
  },
  {
   "cell_type": "code",
   "execution_count": 15,
   "id": "8862e5a2",
   "metadata": {
    "scrolled": false
   },
   "outputs": [],
   "source": [
    "for index in df:\n",
    "    try:\n",
    "        df['days_employed'] = df['days_employed'].abs()\n",
    "    except:\n",
    "        print(row[index])"
   ]
  },
  {
   "cell_type": "markdown",
   "id": "fa018be6",
   "metadata": {},
   "source": [
    "<div class=\"alert alert-block alert-success\">\n",
    "<b>Комментарий ревьюера (✅):</b> Пресловутый человеческий фактор :)"
   ]
  },
  {
   "cell_type": "markdown",
   "id": "1d19b550",
   "metadata": {},
   "source": [
    "Также мы видим что в данных есть значения >20000 дней, это больше 55 лет. Посчитаем количество строк с такими даннымх."
   ]
  },
  {
   "cell_type": "code",
   "execution_count": 16,
   "id": "8f1405d1",
   "metadata": {},
   "outputs": [
    {
     "data": {
      "text/plain": [
       "3445"
      ]
     },
     "execution_count": 16,
     "metadata": {},
     "output_type": "execute_result"
    }
   ],
   "source": [
    "df.sort_values(by='days_employed', ascending=False)\n",
    "df[df['days_employed'] > 20000]['days_employed'].count()"
   ]
  },
  {
   "cell_type": "markdown",
   "id": "e08d99b1",
   "metadata": {},
   "source": [
    "Чтобы заменить эти данные, сделаем функцию, которая возвращает возрастную группу по значению возраста age, используя правила:\n",
    "\n",
    "    - 'дети', если age <= 18 лет;\n",
    "    - 'взрослые', если age от 19 до 64;\n",
    "    - 'пенсионеры' — от 65 и старше."
   ]
  },
  {
   "cell_type": "code",
   "execution_count": 17,
   "id": "b2e9092f",
   "metadata": {
    "scrolled": true
   },
   "outputs": [
    {
     "data": {
      "text/html": [
       "<div>\n",
       "<style scoped>\n",
       "    .dataframe tbody tr th:only-of-type {\n",
       "        vertical-align: middle;\n",
       "    }\n",
       "\n",
       "    .dataframe tbody tr th {\n",
       "        vertical-align: top;\n",
       "    }\n",
       "\n",
       "    .dataframe thead th {\n",
       "        text-align: right;\n",
       "    }\n",
       "</style>\n",
       "<table border=\"1\" class=\"dataframe\">\n",
       "  <thead>\n",
       "    <tr style=\"text-align: right;\">\n",
       "      <th></th>\n",
       "      <th>children</th>\n",
       "      <th>days_employed</th>\n",
       "      <th>dob_years</th>\n",
       "      <th>education</th>\n",
       "      <th>education_id</th>\n",
       "      <th>family_status</th>\n",
       "      <th>family_status_id</th>\n",
       "      <th>gender</th>\n",
       "      <th>income_type</th>\n",
       "      <th>debt</th>\n",
       "      <th>total_income</th>\n",
       "      <th>purpose</th>\n",
       "      <th>age_group</th>\n",
       "    </tr>\n",
       "  </thead>\n",
       "  <tbody>\n",
       "    <tr>\n",
       "      <th>21520</th>\n",
       "      <td>1</td>\n",
       "      <td>4529.316663</td>\n",
       "      <td>43</td>\n",
       "      <td>среднее</td>\n",
       "      <td>1</td>\n",
       "      <td>гражданский брак</td>\n",
       "      <td>1</td>\n",
       "      <td>F</td>\n",
       "      <td>компаньон</td>\n",
       "      <td>0</td>\n",
       "      <td>224791.862382</td>\n",
       "      <td>операции с жильем</td>\n",
       "      <td>взрослые</td>\n",
       "    </tr>\n",
       "    <tr>\n",
       "      <th>21521</th>\n",
       "      <td>0</td>\n",
       "      <td>343937.404131</td>\n",
       "      <td>67</td>\n",
       "      <td>среднее</td>\n",
       "      <td>1</td>\n",
       "      <td>женат / замужем</td>\n",
       "      <td>0</td>\n",
       "      <td>F</td>\n",
       "      <td>пенсионер</td>\n",
       "      <td>0</td>\n",
       "      <td>155999.806512</td>\n",
       "      <td>сделка с автомобилем</td>\n",
       "      <td>пенсионеры</td>\n",
       "    </tr>\n",
       "    <tr>\n",
       "      <th>21522</th>\n",
       "      <td>1</td>\n",
       "      <td>2113.346888</td>\n",
       "      <td>38</td>\n",
       "      <td>среднее</td>\n",
       "      <td>1</td>\n",
       "      <td>гражданский брак</td>\n",
       "      <td>1</td>\n",
       "      <td>M</td>\n",
       "      <td>сотрудник</td>\n",
       "      <td>1</td>\n",
       "      <td>89672.561153</td>\n",
       "      <td>недвижимость</td>\n",
       "      <td>взрослые</td>\n",
       "    </tr>\n",
       "    <tr>\n",
       "      <th>21523</th>\n",
       "      <td>3</td>\n",
       "      <td>3112.481705</td>\n",
       "      <td>38</td>\n",
       "      <td>среднее</td>\n",
       "      <td>1</td>\n",
       "      <td>женат / замужем</td>\n",
       "      <td>0</td>\n",
       "      <td>M</td>\n",
       "      <td>сотрудник</td>\n",
       "      <td>1</td>\n",
       "      <td>244093.050500</td>\n",
       "      <td>на покупку своего автомобиля</td>\n",
       "      <td>взрослые</td>\n",
       "    </tr>\n",
       "    <tr>\n",
       "      <th>21524</th>\n",
       "      <td>2</td>\n",
       "      <td>1984.507589</td>\n",
       "      <td>40</td>\n",
       "      <td>среднее</td>\n",
       "      <td>1</td>\n",
       "      <td>женат / замужем</td>\n",
       "      <td>0</td>\n",
       "      <td>F</td>\n",
       "      <td>сотрудник</td>\n",
       "      <td>0</td>\n",
       "      <td>82047.418899</td>\n",
       "      <td>на покупку автомобиля</td>\n",
       "      <td>взрослые</td>\n",
       "    </tr>\n",
       "  </tbody>\n",
       "</table>\n",
       "</div>"
      ],
      "text/plain": [
       "       children  days_employed  dob_years education  education_id  \\\n",
       "21520         1    4529.316663         43   среднее             1   \n",
       "21521         0  343937.404131         67   среднее             1   \n",
       "21522         1    2113.346888         38   среднее             1   \n",
       "21523         3    3112.481705         38   среднее             1   \n",
       "21524         2    1984.507589         40   среднее             1   \n",
       "\n",
       "          family_status  family_status_id gender income_type  debt  \\\n",
       "21520  гражданский брак                 1      F   компаньон     0   \n",
       "21521   женат / замужем                 0      F   пенсионер     0   \n",
       "21522  гражданский брак                 1      M   сотрудник     1   \n",
       "21523   женат / замужем                 0      M   сотрудник     1   \n",
       "21524   женат / замужем                 0      F   сотрудник     0   \n",
       "\n",
       "        total_income                       purpose   age_group  \n",
       "21520  224791.862382             операции с жильем    взрослые  \n",
       "21521  155999.806512          сделка с автомобилем  пенсионеры  \n",
       "21522   89672.561153                  недвижимость    взрослые  \n",
       "21523  244093.050500  на покупку своего автомобиля    взрослые  \n",
       "21524   82047.418899         на покупку автомобиля    взрослые  "
      ]
     },
     "execution_count": 17,
     "metadata": {},
     "output_type": "execute_result"
    }
   ],
   "source": [
    "def age_group(age):\n",
    "   \n",
    "    if age <= 18:\n",
    "        return 'дети'\n",
    "    if age <= 64:\n",
    "        return 'взрослые'\n",
    "    return 'пенсионеры'\n",
    "\n",
    "df['age_group'] = df['dob_years'].apply(age_group) #добавляем данные в столбец age_group \n",
    "df.tail()"
   ]
  },
  {
   "cell_type": "markdown",
   "id": "615a609d",
   "metadata": {},
   "source": [
    "Найдём медианное значение `days_employed`для каждой категории"
   ]
  },
  {
   "cell_type": "code",
   "execution_count": 18,
   "id": "dc5399ef",
   "metadata": {
    "scrolled": true
   },
   "outputs": [
    {
     "data": {
      "text/plain": [
       "age_group\n",
       "взрослые      1626.335854\n",
       "дети          1560.900431\n",
       "пенсионеры    2876.221697\n",
       "Name: days_employed, dtype: float64"
      ]
     },
     "execution_count": 18,
     "metadata": {},
     "output_type": "execute_result"
    }
   ],
   "source": [
    "stop_working_after_death = df[df['days_employed'] < 20000]\n",
    "age_group = stop_working_after_death.groupby('age_group')['days_employed'].median()\n",
    "age_group"
   ]
  },
  {
   "cell_type": "markdown",
   "id": "89a8eb5a",
   "metadata": {},
   "source": [
    "Согласно предоставленным данным у детей средний стаж не уступает стажу взрослых. Это невозможно, проверим, нет ли пропусков в данных:"
   ]
  },
  {
   "cell_type": "code",
   "execution_count": 19,
   "id": "09619897",
   "metadata": {},
   "outputs": [
    {
     "name": "stdout",
     "output_type": "stream",
     "text": [
      "[0]\n"
     ]
    }
   ],
   "source": [
    "print(df[df['age_group'] == 'дети']['dob_years'].unique())"
   ]
  },
  {
   "cell_type": "markdown",
   "id": "da139a68",
   "metadata": {},
   "source": [
    "Действительно в категорию `дети` попали люди с нулевым возрастом. Заполним нули средним возрастом взрослых. Ранее мы убедились в том, что у этих двух категорий похожий медианный `days_employed`. Затем переименуем категорию `дети` в категорию `взрослые`."
   ]
  },
  {
   "cell_type": "code",
   "execution_count": 20,
   "id": "0d93592f",
   "metadata": {},
   "outputs": [],
   "source": [
    "ad_median = df[df['age_group'] == 'взрослые']['dob_years'].median() #найдем медианный взраст всех взрослых\n",
    "df.loc[df['dob_years'] == 0,'dob_years'] = ad_median "
   ]
  },
  {
   "cell_type": "code",
   "execution_count": 21,
   "id": "f963370e",
   "metadata": {},
   "outputs": [
    {
     "data": {
      "text/plain": [
       "0"
      ]
     },
     "execution_count": 21,
     "metadata": {},
     "output_type": "execute_result"
    }
   ],
   "source": [
    "df[df['dob_years'] == 0]['dob_years'].count() #проверим, что пропусков в возрасте не осталось."
   ]
  },
  {
   "cell_type": "code",
   "execution_count": 22,
   "id": "ef6f1eb0",
   "metadata": {},
   "outputs": [],
   "source": [
    "df.loc[df['age_group'] == 'дети','age_group'] = 'взрослые' #переменуем всех детей во взрослых."
   ]
  },
  {
   "cell_type": "markdown",
   "id": "c06f064d",
   "metadata": {},
   "source": [
    "Осталось заменить значения `days_employed`, которые превышают 55 лет. Так же заменим их на медианные значения по категориям `взрослые` и  `пенсионеры`."
   ]
  },
  {
   "cell_type": "code",
   "execution_count": 23,
   "id": "41198be4",
   "metadata": {
    "scrolled": true
   },
   "outputs": [
    {
     "data": {
      "text/html": [
       "<div>\n",
       "<style scoped>\n",
       "    .dataframe tbody tr th:only-of-type {\n",
       "        vertical-align: middle;\n",
       "    }\n",
       "\n",
       "    .dataframe tbody tr th {\n",
       "        vertical-align: top;\n",
       "    }\n",
       "\n",
       "    .dataframe thead th {\n",
       "        text-align: right;\n",
       "    }\n",
       "</style>\n",
       "<table border=\"1\" class=\"dataframe\">\n",
       "  <thead>\n",
       "    <tr style=\"text-align: right;\">\n",
       "      <th></th>\n",
       "      <th>age_group</th>\n",
       "      <th>days_employed</th>\n",
       "    </tr>\n",
       "  </thead>\n",
       "  <tbody>\n",
       "    <tr>\n",
       "      <th>0</th>\n",
       "      <td>взрослые</td>\n",
       "      <td>1624.965472</td>\n",
       "    </tr>\n",
       "    <tr>\n",
       "      <th>1</th>\n",
       "      <td>пенсионеры</td>\n",
       "      <td>2876.221697</td>\n",
       "    </tr>\n",
       "  </tbody>\n",
       "</table>\n",
       "</div>"
      ],
      "text/plain": [
       "    age_group  days_employed\n",
       "0    взрослые    1624.965472\n",
       "1  пенсионеры    2876.221697"
      ]
     },
     "execution_count": 23,
     "metadata": {},
     "output_type": "execute_result"
    }
   ],
   "source": [
    "stop_working_after_death = df[df['days_employed'] < 20000]\n",
    "age_group = stop_working_after_death.groupby('age_group')['days_employed'].median().reset_index()\n",
    "age_group"
   ]
  },
  {
   "cell_type": "code",
   "execution_count": 24,
   "id": "0536b253",
   "metadata": {
    "scrolled": true
   },
   "outputs": [
    {
     "data": {
      "text/plain": [
       "children            0\n",
       "days_employed       0\n",
       "dob_years           0\n",
       "education           0\n",
       "education_id        0\n",
       "family_status       0\n",
       "family_status_id    0\n",
       "gender              0\n",
       "income_type         0\n",
       "debt                0\n",
       "total_income        0\n",
       "purpose             0\n",
       "age_group           0\n",
       "dtype: int64"
      ]
     },
     "execution_count": 24,
     "metadata": {},
     "output_type": "execute_result"
    }
   ],
   "source": [
    "df.loc[df['age_group'] == 'взрослые', 'days_employed'] = df[df['age_group'] == 'взрослые']['days_employed'].fillna(age_group.loc[0,'days_employed'])\n",
    "df.loc[df['age_group'] == 'пенсионеры','days_employed'] = df[df['age_group'] == 'пенсионеры']['days_employed'].fillna(age_group.loc[1,'days_employed'])\n",
    "df.isna().sum()"
   ]
  },
  {
   "cell_type": "code",
   "execution_count": 25,
   "id": "30838f55",
   "metadata": {},
   "outputs": [
    {
     "data": {
      "text/plain": [
       "0"
      ]
     },
     "execution_count": 25,
     "metadata": {},
     "output_type": "execute_result"
    }
   ],
   "source": [
    "df.loc[(df['days_employed'] > 20000) & (df['age_group'] == 'взрослые'),'days_employed'] = age_group.loc[0,'days_employed']\n",
    "df.loc[(df['days_employed'] > 20000) & (df['age_group'] == 'пенсионеры'), 'days_employed'] = age_group.loc[1,'days_employed']\n",
    "df[df['days_employed'] > 20000]['days_employed'].count()"
   ]
  },
  {
   "cell_type": "code",
   "execution_count": 26,
   "id": "089cb521",
   "metadata": {
    "scrolled": false
   },
   "outputs": [
    {
     "data": {
      "text/html": [
       "<div>\n",
       "<style scoped>\n",
       "    .dataframe tbody tr th:only-of-type {\n",
       "        vertical-align: middle;\n",
       "    }\n",
       "\n",
       "    .dataframe tbody tr th {\n",
       "        vertical-align: top;\n",
       "    }\n",
       "\n",
       "    .dataframe thead th {\n",
       "        text-align: right;\n",
       "    }\n",
       "</style>\n",
       "<table border=\"1\" class=\"dataframe\">\n",
       "  <thead>\n",
       "    <tr style=\"text-align: right;\">\n",
       "      <th></th>\n",
       "      <th>children</th>\n",
       "      <th>days_employed</th>\n",
       "      <th>dob_years</th>\n",
       "      <th>education</th>\n",
       "      <th>education_id</th>\n",
       "      <th>family_status</th>\n",
       "      <th>family_status_id</th>\n",
       "      <th>gender</th>\n",
       "      <th>income_type</th>\n",
       "      <th>debt</th>\n",
       "      <th>total_income</th>\n",
       "      <th>purpose</th>\n",
       "      <th>age_group</th>\n",
       "    </tr>\n",
       "  </thead>\n",
       "  <tbody>\n",
       "    <tr>\n",
       "      <th>0</th>\n",
       "      <td>1</td>\n",
       "      <td>8437.673028</td>\n",
       "      <td>42.0</td>\n",
       "      <td>высшее</td>\n",
       "      <td>0</td>\n",
       "      <td>женат / замужем</td>\n",
       "      <td>0</td>\n",
       "      <td>F</td>\n",
       "      <td>сотрудник</td>\n",
       "      <td>0</td>\n",
       "      <td>253875.639453</td>\n",
       "      <td>покупка жилья</td>\n",
       "      <td>взрослые</td>\n",
       "    </tr>\n",
       "    <tr>\n",
       "      <th>1</th>\n",
       "      <td>1</td>\n",
       "      <td>4024.803754</td>\n",
       "      <td>36.0</td>\n",
       "      <td>среднее</td>\n",
       "      <td>1</td>\n",
       "      <td>женат / замужем</td>\n",
       "      <td>0</td>\n",
       "      <td>F</td>\n",
       "      <td>сотрудник</td>\n",
       "      <td>0</td>\n",
       "      <td>112080.014102</td>\n",
       "      <td>приобретение автомобиля</td>\n",
       "      <td>взрослые</td>\n",
       "    </tr>\n",
       "    <tr>\n",
       "      <th>2</th>\n",
       "      <td>0</td>\n",
       "      <td>5623.422610</td>\n",
       "      <td>33.0</td>\n",
       "      <td>Среднее</td>\n",
       "      <td>1</td>\n",
       "      <td>женат / замужем</td>\n",
       "      <td>0</td>\n",
       "      <td>M</td>\n",
       "      <td>сотрудник</td>\n",
       "      <td>0</td>\n",
       "      <td>145885.952297</td>\n",
       "      <td>покупка жилья</td>\n",
       "      <td>взрослые</td>\n",
       "    </tr>\n",
       "    <tr>\n",
       "      <th>3</th>\n",
       "      <td>3</td>\n",
       "      <td>4124.747207</td>\n",
       "      <td>32.0</td>\n",
       "      <td>среднее</td>\n",
       "      <td>1</td>\n",
       "      <td>женат / замужем</td>\n",
       "      <td>0</td>\n",
       "      <td>M</td>\n",
       "      <td>сотрудник</td>\n",
       "      <td>0</td>\n",
       "      <td>267628.550329</td>\n",
       "      <td>дополнительное образование</td>\n",
       "      <td>взрослые</td>\n",
       "    </tr>\n",
       "    <tr>\n",
       "      <th>4</th>\n",
       "      <td>0</td>\n",
       "      <td>1624.965472</td>\n",
       "      <td>53.0</td>\n",
       "      <td>среднее</td>\n",
       "      <td>1</td>\n",
       "      <td>гражданский брак</td>\n",
       "      <td>1</td>\n",
       "      <td>F</td>\n",
       "      <td>пенсионер</td>\n",
       "      <td>0</td>\n",
       "      <td>158616.077870</td>\n",
       "      <td>сыграть свадьбу</td>\n",
       "      <td>взрослые</td>\n",
       "    </tr>\n",
       "  </tbody>\n",
       "</table>\n",
       "</div>"
      ],
      "text/plain": [
       "   children  days_employed  dob_years education  education_id  \\\n",
       "0         1    8437.673028       42.0    высшее             0   \n",
       "1         1    4024.803754       36.0   среднее             1   \n",
       "2         0    5623.422610       33.0   Среднее             1   \n",
       "3         3    4124.747207       32.0   среднее             1   \n",
       "4         0    1624.965472       53.0   среднее             1   \n",
       "\n",
       "      family_status  family_status_id gender income_type  debt   total_income  \\\n",
       "0   женат / замужем                 0      F   сотрудник     0  253875.639453   \n",
       "1   женат / замужем                 0      F   сотрудник     0  112080.014102   \n",
       "2   женат / замужем                 0      M   сотрудник     0  145885.952297   \n",
       "3   женат / замужем                 0      M   сотрудник     0  267628.550329   \n",
       "4  гражданский брак                 1      F   пенсионер     0  158616.077870   \n",
       "\n",
       "                      purpose age_group  \n",
       "0               покупка жилья  взрослые  \n",
       "1     приобретение автомобиля  взрослые  \n",
       "2               покупка жилья  взрослые  \n",
       "3  дополнительное образование  взрослые  \n",
       "4             сыграть свадьбу  взрослые  "
      ]
     },
     "metadata": {},
     "output_type": "display_data"
    }
   ],
   "source": [
    "display(df.head())"
   ]
  },
  {
   "cell_type": "markdown",
   "id": "f4655c63",
   "metadata": {},
   "source": [
    "Теперь проверим аномалии в других столбцах. Например, сколько уникальных вариантов содержит столбец `gender`?"
   ]
  },
  {
   "cell_type": "code",
   "execution_count": 27,
   "id": "0c3eef88",
   "metadata": {},
   "outputs": [
    {
     "data": {
      "text/plain": [
       "array(['F', 'M', 'XNA'], dtype=object)"
      ]
     },
     "execution_count": 27,
     "metadata": {},
     "output_type": "execute_result"
    }
   ],
   "source": [
    "df.gender.unique()"
   ]
  },
  {
   "cell_type": "code",
   "execution_count": 28,
   "id": "98c252a3",
   "metadata": {},
   "outputs": [
    {
     "data": {
      "text/plain": [
       "10701    покупка недвижимости\n",
       "Name: purpose, dtype: object"
      ]
     },
     "execution_count": 28,
     "metadata": {},
     "output_type": "execute_result"
    }
   ],
   "source": [
    "#найдем индексы гендера XNA\n",
    "df[df['gender'] == 'XNA'][index] "
   ]
  },
  {
   "cell_type": "code",
   "execution_count": 29,
   "id": "e0d933f9",
   "metadata": {},
   "outputs": [
    {
     "data": {
      "text/plain": [
       "array(['F', 'M'], dtype=object)"
      ]
     },
     "execution_count": 29,
     "metadata": {},
     "output_type": "execute_result"
    }
   ],
   "source": [
    "#инедекс всего один, удалим строчку без данных.\n",
    "df.drop(index=[10701], axis = 0, inplace =True)\n",
    "df.gender.unique() #проверим, что гендера всео два"
   ]
  },
  {
   "cell_type": "markdown",
   "id": "0c8ec8e9",
   "metadata": {},
   "source": [
    "Теперь проверим в каком диапазоне представлено количество детей."
   ]
  },
  {
   "cell_type": "code",
   "execution_count": 30,
   "id": "4d5db099",
   "metadata": {},
   "outputs": [
    {
     "data": {
      "text/plain": [
       "children\n",
       "-1        47\n",
       " 0     14148\n",
       " 1      4818\n",
       " 2      2055\n",
       " 3       330\n",
       " 4        41\n",
       " 5         9\n",
       " 20       76\n",
       "Name: days_employed, dtype: int64"
      ]
     },
     "execution_count": 30,
     "metadata": {},
     "output_type": "execute_result"
    }
   ],
   "source": [
    "df.groupby('children')['days_employed'].count()"
   ]
  },
  {
   "cell_type": "markdown",
   "id": "31244afa",
   "metadata": {},
   "source": [
    "Отрицательное количество детей - маловероятно, скорее всего человек поставил тире перед числом. Заменим его на модуль числа. \n",
    "\n",
    "Другая аномалия - у 76 человек по 20 детей. Я бы уточнила у коллеги, так ли это. Пока предположим, что у этого числа есть лишний ноль и добавим этих людей к группе людей, у которых всего по 2 ребенка."
   ]
  },
  {
   "cell_type": "code",
   "execution_count": 31,
   "id": "25e512a9",
   "metadata": {},
   "outputs": [],
   "source": [
    "for index in df:\n",
    "    try:\n",
    "        df['children'] = df['children'].abs()\n",
    "    except:\n",
    "        print(row[index])"
   ]
  },
  {
   "cell_type": "code",
   "execution_count": 32,
   "id": "12b77ca8",
   "metadata": {
    "scrolled": true
   },
   "outputs": [
    {
     "data": {
      "text/plain": [
       "children\n",
       "0     14148\n",
       "1      4865\n",
       "2      2055\n",
       "3       330\n",
       "4        41\n",
       "5         9\n",
       "20       76\n",
       "Name: days_employed, dtype: int64"
      ]
     },
     "execution_count": 32,
     "metadata": {},
     "output_type": "execute_result"
    }
   ],
   "source": [
    "df.groupby('children')['days_employed'].count()"
   ]
  },
  {
   "cell_type": "code",
   "execution_count": 33,
   "id": "918813c4",
   "metadata": {},
   "outputs": [],
   "source": [
    "df.loc[df['children'] == 20,'children'] = 2"
   ]
  },
  {
   "cell_type": "code",
   "execution_count": 34,
   "id": "72786529",
   "metadata": {},
   "outputs": [
    {
     "data": {
      "text/plain": [
       "children\n",
       "0    14148\n",
       "1     4865\n",
       "2     2131\n",
       "3      330\n",
       "4       41\n",
       "5        9\n",
       "Name: days_employed, dtype: int64"
      ]
     },
     "execution_count": 34,
     "metadata": {},
     "output_type": "execute_result"
    }
   ],
   "source": [
    "df.groupby('children')['days_employed'].count()"
   ]
  },
  {
   "cell_type": "markdown",
   "id": "99d71ad4",
   "metadata": {},
   "source": [
    "**Вывод:** Мы заполнили недостающие данные и проработали аномальные значения в столбцах `dob_years`, `days_employed`,`total_income`, `gender` и `children`"
   ]
  },
  {
   "cell_type": "markdown",
   "id": "196e62fc",
   "metadata": {},
   "source": [
    "### Шаг 2.3. Изменение типов данных."
   ]
  },
  {
   "cell_type": "markdown",
   "id": "2a28e3cb",
   "metadata": {},
   "source": [
    "Заменим вещественный тип данных в столбцах `total_income` и `days_employed` на целочисленный"
   ]
  },
  {
   "cell_type": "code",
   "execution_count": 35,
   "id": "33c9c9ba",
   "metadata": {
    "scrolled": true
   },
   "outputs": [
    {
     "data": {
      "text/plain": [
       "children              int64\n",
       "days_employed         int32\n",
       "dob_years           float64\n",
       "education            object\n",
       "education_id          int64\n",
       "family_status        object\n",
       "family_status_id      int64\n",
       "gender               object\n",
       "income_type          object\n",
       "debt                  int64\n",
       "total_income          int32\n",
       "purpose              object\n",
       "age_group            object\n",
       "dtype: object"
      ]
     },
     "execution_count": 35,
     "metadata": {},
     "output_type": "execute_result"
    }
   ],
   "source": [
    "df.astype({'total_income': 'int32', 'days_employed': 'int32'}).dtypes"
   ]
  },
  {
   "cell_type": "markdown",
   "id": "7d14e30d",
   "metadata": {},
   "source": [
    "### Шаг 2.4. Удаление дубликатов."
   ]
  },
  {
   "cell_type": "markdown",
   "id": "d68fc036",
   "metadata": {},
   "source": [
    "Теперь избавимся от неявных дубликатов в колонке `education`. Например, название одной и той же степени может быть записано немного по-разному. Такие ошибки тоже повлияют на результат исследования."
   ]
  },
  {
   "cell_type": "code",
   "execution_count": 36,
   "id": "29a42ac1",
   "metadata": {
    "scrolled": false
   },
   "outputs": [
    {
     "data": {
      "text/plain": [
       "array(['ВЫСШЕЕ', 'Высшее', 'НАЧАЛЬНОЕ', 'НЕОКОНЧЕННОЕ ВЫСШЕЕ',\n",
       "       'Начальное', 'Неоконченное высшее', 'СРЕДНЕЕ', 'Среднее',\n",
       "       'УЧЕНАЯ СТЕПЕНЬ', 'Ученая степень', 'высшее', 'начальное',\n",
       "       'неоконченное высшее', 'среднее', 'ученая степень'], dtype=object)"
      ]
     },
     "execution_count": 36,
     "metadata": {},
     "output_type": "execute_result"
    }
   ],
   "source": [
    "df['education'].sort_values().unique() # Просмотр уникальных видов образования"
   ]
  },
  {
   "cell_type": "markdown",
   "id": "132b0a79",
   "metadata": {},
   "source": [
    "Мы видим следующие неявные дубликаты:\n",
    "\n",
    "* 'ВЫСШЕЕ', 'Высшее' и 'высшее'\n",
    "* 'НАЧАЛЬНОЕ', 'Начальное' и 'начальное'\n",
    "* 'НЕОКОНЧЕННОЕ ВЫСШЕЕ', 'Неоконченное высшее' и 'неоконченное высшее'\n",
    "* 'СРЕДНЕЕ', 'Среднее' и 'среднее'\n",
    "* 'УЧЕНАЯ СТЕПЕНЬ', 'Ученая степень' и 'ученая степень\n",
    "\n",
    "Приведем всё к одному регистру."
   ]
  },
  {
   "cell_type": "code",
   "execution_count": 37,
   "id": "d00993a4",
   "metadata": {},
   "outputs": [
    {
     "data": {
      "text/plain": [
       "array(['высшее', 'начальное', 'неоконченное высшее', 'среднее',\n",
       "       'ученая степень'], dtype=object)"
      ]
     },
     "execution_count": 37,
     "metadata": {},
     "output_type": "execute_result"
    }
   ],
   "source": [
    "df['education'] = df['education'].str.lower()\n",
    "df['education'].sort_values().unique()"
   ]
  },
  {
   "cell_type": "markdown",
   "id": "966458b6",
   "metadata": {},
   "source": [
    "### Шаг 2.5. Формирование дополнительных датафреймов словарей, декомпозиция исходного датафрейма."
   ]
  },
  {
   "cell_type": "markdown",
   "id": "4e2a4d7e",
   "metadata": {},
   "source": [
    "Создадим два словаря - образования и семейного  положения - к которым мы сможем обращаться по идентификатору. \n",
    "\n",
    "Каждому уникальному значению из education соответствует уникальное значение education_id"
   ]
  },
  {
   "cell_type": "code",
   "execution_count": 38,
   "id": "77013124",
   "metadata": {
    "scrolled": true
   },
   "outputs": [
    {
     "data": {
      "text/html": [
       "<div>\n",
       "<style scoped>\n",
       "    .dataframe tbody tr th:only-of-type {\n",
       "        vertical-align: middle;\n",
       "    }\n",
       "\n",
       "    .dataframe tbody tr th {\n",
       "        vertical-align: top;\n",
       "    }\n",
       "\n",
       "    .dataframe thead th {\n",
       "        text-align: right;\n",
       "    }\n",
       "</style>\n",
       "<table border=\"1\" class=\"dataframe\">\n",
       "  <thead>\n",
       "    <tr style=\"text-align: right;\">\n",
       "      <th></th>\n",
       "      <th>education</th>\n",
       "      <th>education_id</th>\n",
       "    </tr>\n",
       "  </thead>\n",
       "  <tbody>\n",
       "    <tr>\n",
       "      <th>0</th>\n",
       "      <td>высшее</td>\n",
       "      <td>0</td>\n",
       "    </tr>\n",
       "    <tr>\n",
       "      <th>1</th>\n",
       "      <td>среднее</td>\n",
       "      <td>1</td>\n",
       "    </tr>\n",
       "    <tr>\n",
       "      <th>2</th>\n",
       "      <td>неоконченное высшее</td>\n",
       "      <td>2</td>\n",
       "    </tr>\n",
       "    <tr>\n",
       "      <th>3</th>\n",
       "      <td>начальное</td>\n",
       "      <td>3</td>\n",
       "    </tr>\n",
       "    <tr>\n",
       "      <th>4</th>\n",
       "      <td>ученая степень</td>\n",
       "      <td>4</td>\n",
       "    </tr>\n",
       "  </tbody>\n",
       "</table>\n",
       "</div>"
      ],
      "text/plain": [
       "             education  education_id\n",
       "0               высшее             0\n",
       "1              среднее             1\n",
       "2  неоконченное высшее             2\n",
       "3            начальное             3\n",
       "4       ученая степень             4"
      ]
     },
     "execution_count": 38,
     "metadata": {},
     "output_type": "execute_result"
    }
   ],
   "source": [
    "education_df = df[['education','education_id']]\n",
    "education_df = education_df.drop_duplicates().reset_index(drop=True)\n",
    "education_df.head()"
   ]
  },
  {
   "cell_type": "markdown",
   "id": "92f4b0ec",
   "metadata": {},
   "source": [
    "Каждому уникальному значению из family_status соответствует уникальное значение family_status_id"
   ]
  },
  {
   "cell_type": "code",
   "execution_count": 39,
   "id": "6e2ab038",
   "metadata": {
    "scrolled": false
   },
   "outputs": [
    {
     "data": {
      "text/html": [
       "<div>\n",
       "<style scoped>\n",
       "    .dataframe tbody tr th:only-of-type {\n",
       "        vertical-align: middle;\n",
       "    }\n",
       "\n",
       "    .dataframe tbody tr th {\n",
       "        vertical-align: top;\n",
       "    }\n",
       "\n",
       "    .dataframe thead th {\n",
       "        text-align: right;\n",
       "    }\n",
       "</style>\n",
       "<table border=\"1\" class=\"dataframe\">\n",
       "  <thead>\n",
       "    <tr style=\"text-align: right;\">\n",
       "      <th></th>\n",
       "      <th>family_status</th>\n",
       "      <th>family_status_id</th>\n",
       "    </tr>\n",
       "  </thead>\n",
       "  <tbody>\n",
       "    <tr>\n",
       "      <th>0</th>\n",
       "      <td>женат / замужем</td>\n",
       "      <td>0</td>\n",
       "    </tr>\n",
       "    <tr>\n",
       "      <th>1</th>\n",
       "      <td>гражданский брак</td>\n",
       "      <td>1</td>\n",
       "    </tr>\n",
       "    <tr>\n",
       "      <th>2</th>\n",
       "      <td>вдовец / вдова</td>\n",
       "      <td>2</td>\n",
       "    </tr>\n",
       "    <tr>\n",
       "      <th>3</th>\n",
       "      <td>в разводе</td>\n",
       "      <td>3</td>\n",
       "    </tr>\n",
       "    <tr>\n",
       "      <th>4</th>\n",
       "      <td>Не женат / не замужем</td>\n",
       "      <td>4</td>\n",
       "    </tr>\n",
       "  </tbody>\n",
       "</table>\n",
       "</div>"
      ],
      "text/plain": [
       "           family_status  family_status_id\n",
       "0        женат / замужем                 0\n",
       "1       гражданский брак                 1\n",
       "2         вдовец / вдова                 2\n",
       "3              в разводе                 3\n",
       "4  Не женат / не замужем                 4"
      ]
     },
     "execution_count": 39,
     "metadata": {},
     "output_type": "execute_result"
    }
   ],
   "source": [
    "family_satus_df = df[['family_status','family_status_id']]\n",
    "family_satus_df = family_satus_df.drop_duplicates().reset_index(drop=True)\n",
    "family_satus_df.head()"
   ]
  },
  {
   "cell_type": "code",
   "execution_count": 40,
   "id": "d8adeedf",
   "metadata": {},
   "outputs": [
    {
     "data": {
      "text/html": [
       "<div>\n",
       "<style scoped>\n",
       "    .dataframe tbody tr th:only-of-type {\n",
       "        vertical-align: middle;\n",
       "    }\n",
       "\n",
       "    .dataframe tbody tr th {\n",
       "        vertical-align: top;\n",
       "    }\n",
       "\n",
       "    .dataframe thead th {\n",
       "        text-align: right;\n",
       "    }\n",
       "</style>\n",
       "<table border=\"1\" class=\"dataframe\">\n",
       "  <thead>\n",
       "    <tr style=\"text-align: right;\">\n",
       "      <th></th>\n",
       "      <th>children</th>\n",
       "      <th>days_employed</th>\n",
       "      <th>dob_years</th>\n",
       "      <th>education_id</th>\n",
       "      <th>family_status_id</th>\n",
       "      <th>gender</th>\n",
       "      <th>income_type</th>\n",
       "      <th>debt</th>\n",
       "      <th>total_income</th>\n",
       "      <th>purpose</th>\n",
       "      <th>age_group</th>\n",
       "    </tr>\n",
       "  </thead>\n",
       "  <tbody>\n",
       "    <tr>\n",
       "      <th>0</th>\n",
       "      <td>1</td>\n",
       "      <td>8437.673028</td>\n",
       "      <td>42.0</td>\n",
       "      <td>0</td>\n",
       "      <td>0</td>\n",
       "      <td>F</td>\n",
       "      <td>сотрудник</td>\n",
       "      <td>0</td>\n",
       "      <td>253875.639453</td>\n",
       "      <td>покупка жилья</td>\n",
       "      <td>взрослые</td>\n",
       "    </tr>\n",
       "    <tr>\n",
       "      <th>1</th>\n",
       "      <td>1</td>\n",
       "      <td>4024.803754</td>\n",
       "      <td>36.0</td>\n",
       "      <td>1</td>\n",
       "      <td>0</td>\n",
       "      <td>F</td>\n",
       "      <td>сотрудник</td>\n",
       "      <td>0</td>\n",
       "      <td>112080.014102</td>\n",
       "      <td>приобретение автомобиля</td>\n",
       "      <td>взрослые</td>\n",
       "    </tr>\n",
       "    <tr>\n",
       "      <th>2</th>\n",
       "      <td>0</td>\n",
       "      <td>5623.422610</td>\n",
       "      <td>33.0</td>\n",
       "      <td>1</td>\n",
       "      <td>0</td>\n",
       "      <td>M</td>\n",
       "      <td>сотрудник</td>\n",
       "      <td>0</td>\n",
       "      <td>145885.952297</td>\n",
       "      <td>покупка жилья</td>\n",
       "      <td>взрослые</td>\n",
       "    </tr>\n",
       "    <tr>\n",
       "      <th>3</th>\n",
       "      <td>3</td>\n",
       "      <td>4124.747207</td>\n",
       "      <td>32.0</td>\n",
       "      <td>1</td>\n",
       "      <td>0</td>\n",
       "      <td>M</td>\n",
       "      <td>сотрудник</td>\n",
       "      <td>0</td>\n",
       "      <td>267628.550329</td>\n",
       "      <td>дополнительное образование</td>\n",
       "      <td>взрослые</td>\n",
       "    </tr>\n",
       "    <tr>\n",
       "      <th>4</th>\n",
       "      <td>0</td>\n",
       "      <td>1624.965472</td>\n",
       "      <td>53.0</td>\n",
       "      <td>1</td>\n",
       "      <td>1</td>\n",
       "      <td>F</td>\n",
       "      <td>пенсионер</td>\n",
       "      <td>0</td>\n",
       "      <td>158616.077870</td>\n",
       "      <td>сыграть свадьбу</td>\n",
       "      <td>взрослые</td>\n",
       "    </tr>\n",
       "  </tbody>\n",
       "</table>\n",
       "</div>"
      ],
      "text/plain": [
       "   children  days_employed  dob_years  education_id  family_status_id gender  \\\n",
       "0         1    8437.673028       42.0             0                 0      F   \n",
       "1         1    4024.803754       36.0             1                 0      F   \n",
       "2         0    5623.422610       33.0             1                 0      M   \n",
       "3         3    4124.747207       32.0             1                 0      M   \n",
       "4         0    1624.965472       53.0             1                 1      F   \n",
       "\n",
       "  income_type  debt   total_income                     purpose age_group  \n",
       "0   сотрудник     0  253875.639453               покупка жилья  взрослые  \n",
       "1   сотрудник     0  112080.014102     приобретение автомобиля  взрослые  \n",
       "2   сотрудник     0  145885.952297               покупка жилья  взрослые  \n",
       "3   сотрудник     0  267628.550329  дополнительное образование  взрослые  \n",
       "4   пенсионер     0  158616.077870             сыграть свадьбу  взрослые  "
      ]
     },
     "execution_count": 40,
     "metadata": {},
     "output_type": "execute_result"
    }
   ],
   "source": [
    "df.drop(['education','family_status'], axis = 1, inplace=True) #удалим столбцы `education` и `family_status`\n",
    "df.head()"
   ]
  },
  {
   "cell_type": "markdown",
   "id": "c14e2b0d",
   "metadata": {},
   "source": [
    "### Шаг 2.6. Категоризация дохода."
   ]
  },
  {
   "cell_type": "markdown",
   "id": "0f66bb93",
   "metadata": {},
   "source": [
    "Составим новый столбец с категориями дохода. Сделаем функцию, которая возвращает категорию по значению `total_income`, используя правила:"
   ]
  },
  {
   "cell_type": "markdown",
   "id": "6db05540",
   "metadata": {},
   "source": [
    "* 0–30000 — 'E';\n",
    "* 30001–50000 — 'D';\n",
    "* 50001–200000 — 'C';\n",
    "* 200001–1000000 — 'B';\n",
    "* 1000001 и выше — 'A'"
   ]
  },
  {
   "cell_type": "code",
   "execution_count": 41,
   "id": "6e3e70a0",
   "metadata": {},
   "outputs": [
    {
     "data": {
      "text/html": [
       "<div>\n",
       "<style scoped>\n",
       "    .dataframe tbody tr th:only-of-type {\n",
       "        vertical-align: middle;\n",
       "    }\n",
       "\n",
       "    .dataframe tbody tr th {\n",
       "        vertical-align: top;\n",
       "    }\n",
       "\n",
       "    .dataframe thead th {\n",
       "        text-align: right;\n",
       "    }\n",
       "</style>\n",
       "<table border=\"1\" class=\"dataframe\">\n",
       "  <thead>\n",
       "    <tr style=\"text-align: right;\">\n",
       "      <th></th>\n",
       "      <th>children</th>\n",
       "      <th>days_employed</th>\n",
       "      <th>dob_years</th>\n",
       "      <th>education_id</th>\n",
       "      <th>family_status_id</th>\n",
       "      <th>gender</th>\n",
       "      <th>income_type</th>\n",
       "      <th>debt</th>\n",
       "      <th>total_income</th>\n",
       "      <th>purpose</th>\n",
       "      <th>age_group</th>\n",
       "      <th>total_income_category</th>\n",
       "    </tr>\n",
       "  </thead>\n",
       "  <tbody>\n",
       "    <tr>\n",
       "      <th>21520</th>\n",
       "      <td>1</td>\n",
       "      <td>4529.316663</td>\n",
       "      <td>43.0</td>\n",
       "      <td>1</td>\n",
       "      <td>1</td>\n",
       "      <td>F</td>\n",
       "      <td>компаньон</td>\n",
       "      <td>0</td>\n",
       "      <td>224791.862382</td>\n",
       "      <td>операции с жильем</td>\n",
       "      <td>взрослые</td>\n",
       "      <td>B</td>\n",
       "    </tr>\n",
       "    <tr>\n",
       "      <th>21521</th>\n",
       "      <td>0</td>\n",
       "      <td>2876.221697</td>\n",
       "      <td>67.0</td>\n",
       "      <td>1</td>\n",
       "      <td>0</td>\n",
       "      <td>F</td>\n",
       "      <td>пенсионер</td>\n",
       "      <td>0</td>\n",
       "      <td>155999.806512</td>\n",
       "      <td>сделка с автомобилем</td>\n",
       "      <td>пенсионеры</td>\n",
       "      <td>C</td>\n",
       "    </tr>\n",
       "    <tr>\n",
       "      <th>21522</th>\n",
       "      <td>1</td>\n",
       "      <td>2113.346888</td>\n",
       "      <td>38.0</td>\n",
       "      <td>1</td>\n",
       "      <td>1</td>\n",
       "      <td>M</td>\n",
       "      <td>сотрудник</td>\n",
       "      <td>1</td>\n",
       "      <td>89672.561153</td>\n",
       "      <td>недвижимость</td>\n",
       "      <td>взрослые</td>\n",
       "      <td>C</td>\n",
       "    </tr>\n",
       "    <tr>\n",
       "      <th>21523</th>\n",
       "      <td>3</td>\n",
       "      <td>3112.481705</td>\n",
       "      <td>38.0</td>\n",
       "      <td>1</td>\n",
       "      <td>0</td>\n",
       "      <td>M</td>\n",
       "      <td>сотрудник</td>\n",
       "      <td>1</td>\n",
       "      <td>244093.050500</td>\n",
       "      <td>на покупку своего автомобиля</td>\n",
       "      <td>взрослые</td>\n",
       "      <td>B</td>\n",
       "    </tr>\n",
       "    <tr>\n",
       "      <th>21524</th>\n",
       "      <td>2</td>\n",
       "      <td>1984.507589</td>\n",
       "      <td>40.0</td>\n",
       "      <td>1</td>\n",
       "      <td>0</td>\n",
       "      <td>F</td>\n",
       "      <td>сотрудник</td>\n",
       "      <td>0</td>\n",
       "      <td>82047.418899</td>\n",
       "      <td>на покупку автомобиля</td>\n",
       "      <td>взрослые</td>\n",
       "      <td>C</td>\n",
       "    </tr>\n",
       "  </tbody>\n",
       "</table>\n",
       "</div>"
      ],
      "text/plain": [
       "       children  days_employed  dob_years  education_id  family_status_id  \\\n",
       "21520         1    4529.316663       43.0             1                 1   \n",
       "21521         0    2876.221697       67.0             1                 0   \n",
       "21522         1    2113.346888       38.0             1                 1   \n",
       "21523         3    3112.481705       38.0             1                 0   \n",
       "21524         2    1984.507589       40.0             1                 0   \n",
       "\n",
       "      gender income_type  debt   total_income                       purpose  \\\n",
       "21520      F   компаньон     0  224791.862382             операции с жильем   \n",
       "21521      F   пенсионер     0  155999.806512          сделка с автомобилем   \n",
       "21522      M   сотрудник     1   89672.561153                  недвижимость   \n",
       "21523      M   сотрудник     1  244093.050500  на покупку своего автомобиля   \n",
       "21524      F   сотрудник     0   82047.418899         на покупку автомобиля   \n",
       "\n",
       "        age_group total_income_category  \n",
       "21520    взрослые                     B  \n",
       "21521  пенсионеры                     C  \n",
       "21522    взрослые                     C  \n",
       "21523    взрослые                     B  \n",
       "21524    взрослые                     C  "
      ]
     },
     "execution_count": 41,
     "metadata": {},
     "output_type": "execute_result"
    }
   ],
   "source": [
    "def total_income_category(income):\n",
    "   \n",
    "    if income <= 30000:\n",
    "        return 'E'\n",
    "    if income <= 50000:\n",
    "        return 'D'\n",
    "    if income <= 200000:\n",
    "        return 'C'\n",
    "    if income <= 1000000:\n",
    "        return 'B'\n",
    "    return 'A'\n",
    "\n",
    "df['total_income_category'] = df['total_income'].apply(total_income_category) #добавляем данные в столбец total_income_category \n",
    "df.tail()"
   ]
  },
  {
   "cell_type": "markdown",
   "id": "3b49e6b7",
   "metadata": {},
   "source": [
    "### Шаг 2.7. Категоризация целей кредита."
   ]
  },
  {
   "cell_type": "markdown",
   "id": "ddf0cef2",
   "metadata": {},
   "source": [
    "Объеденим похожие цели кредита в одну категорию. Для этого создадим функцию, которая на основании данных из столбца `purpose` сформирует новый столбец `purpose_category`, в который войдут следующие категории:"
   ]
  },
  {
   "cell_type": "markdown",
   "id": "fee3797d",
   "metadata": {},
   "source": [
    "* 'операции с автомобилем',\n",
    "* 'операции с недвижимостью',\n",
    "* 'проведение свадьбы',\n",
    "* 'получение образования'."
   ]
  },
  {
   "cell_type": "code",
   "execution_count": 42,
   "id": "c2e002d0",
   "metadata": {},
   "outputs": [
    {
     "data": {
      "text/plain": [
       "array(['автомобили', 'автомобиль', 'высшее образование',\n",
       "       'дополнительное образование', 'жилье',\n",
       "       'заняться высшим образованием', 'заняться образованием',\n",
       "       'на покупку автомобиля', 'на покупку подержанного автомобиля',\n",
       "       'на покупку своего автомобиля', 'на проведение свадьбы',\n",
       "       'недвижимость', 'образование', 'операции с жильем',\n",
       "       'операции с коммерческой недвижимостью',\n",
       "       'операции с недвижимостью', 'операции со своей недвижимостью',\n",
       "       'покупка жилой недвижимости', 'покупка жилья',\n",
       "       'покупка жилья для сдачи', 'покупка жилья для семьи',\n",
       "       'покупка коммерческой недвижимости', 'покупка недвижимости',\n",
       "       'покупка своего жилья', 'получение высшего образования',\n",
       "       'получение дополнительного образования', 'получение образования',\n",
       "       'приобретение автомобиля', 'профильное образование',\n",
       "       'ремонт жилью', 'свадьба', 'свой автомобиль',\n",
       "       'сделка с автомобилем', 'сделка с подержанным автомобилем',\n",
       "       'строительство жилой недвижимости', 'строительство недвижимости',\n",
       "       'строительство собственной недвижимости', 'сыграть свадьбу'],\n",
       "      dtype=object)"
      ]
     },
     "execution_count": 42,
     "metadata": {},
     "output_type": "execute_result"
    }
   ],
   "source": [
    "df['purpose'].sort_values().unique() #перечислим уникальыне цели кредита"
   ]
  },
  {
   "cell_type": "code",
   "execution_count": 43,
   "id": "795709ae",
   "metadata": {},
   "outputs": [],
   "source": [
    "def purpose_category(purpose):\n",
    "   \n",
    "    if 'автомобил' in purpose:\n",
    "        return 'операции с автомобилем'\n",
    "    if 'образовани' in purpose:\n",
    "        return 'получение образования'\n",
    "    if 'жиль' in purpose:\n",
    "        return 'операции с недвижимостью'\n",
    "    if 'недвиж' in purpose:\n",
    "        return 'операции с недвижимостью'\n",
    "    return 'проведение свадьбы'\n",
    "\n",
    "df['purpose_category'] = df['purpose'].apply(purpose_category) #добавляем данные в столбец purpose_category "
   ]
  },
  {
   "cell_type": "markdown",
   "id": "d835fc7b",
   "metadata": {},
   "source": [
    "### Шаг 3. Ответы на вопросы"
   ]
  },
  {
   "cell_type": "markdown",
   "id": "5c598336",
   "metadata": {},
   "source": [
    "##### Вопрос 1: Есть ли зависимость между количеством детей и возвратом кредита в срок?"
   ]
  },
  {
   "cell_type": "markdown",
   "id": "5c4e0ad0",
   "metadata": {},
   "source": [
    "Составим сводную таблицу, в которой найдем отношение кредитов погашенных (сумм по столбцу debt) к общему числу взятых  кредитов (количество по любому другому столбцу, например, dob_years)."
   ]
  },
  {
   "cell_type": "code",
   "execution_count": 44,
   "id": "ce857b39",
   "metadata": {
    "scrolled": true
   },
   "outputs": [
    {
     "data": {
      "text/html": [
       "<div>\n",
       "<style scoped>\n",
       "    .dataframe tbody tr th:only-of-type {\n",
       "        vertical-align: middle;\n",
       "    }\n",
       "\n",
       "    .dataframe tbody tr th {\n",
       "        vertical-align: top;\n",
       "    }\n",
       "\n",
       "    .dataframe thead th {\n",
       "        text-align: right;\n",
       "    }\n",
       "</style>\n",
       "<table border=\"1\" class=\"dataframe\">\n",
       "  <thead>\n",
       "    <tr style=\"text-align: right;\">\n",
       "      <th></th>\n",
       "      <th>детей_у_заемщика</th>\n",
       "      <th>заемщики_с_просроченным_платежом</th>\n",
       "      <th>всего_заемщиков</th>\n",
       "      <th>%_должников_среди_заемщиков</th>\n",
       "    </tr>\n",
       "  </thead>\n",
       "  <tbody>\n",
       "    <tr>\n",
       "      <th>0</th>\n",
       "      <td>0</td>\n",
       "      <td>1063</td>\n",
       "      <td>14148</td>\n",
       "      <td>7.513429</td>\n",
       "    </tr>\n",
       "    <tr>\n",
       "      <th>1</th>\n",
       "      <td>1</td>\n",
       "      <td>445</td>\n",
       "      <td>4865</td>\n",
       "      <td>9.146968</td>\n",
       "    </tr>\n",
       "    <tr>\n",
       "      <th>2</th>\n",
       "      <td>2</td>\n",
       "      <td>202</td>\n",
       "      <td>2131</td>\n",
       "      <td>9.479118</td>\n",
       "    </tr>\n",
       "    <tr>\n",
       "      <th>3</th>\n",
       "      <td>3</td>\n",
       "      <td>27</td>\n",
       "      <td>330</td>\n",
       "      <td>8.181818</td>\n",
       "    </tr>\n",
       "    <tr>\n",
       "      <th>4</th>\n",
       "      <td>4</td>\n",
       "      <td>4</td>\n",
       "      <td>41</td>\n",
       "      <td>9.756098</td>\n",
       "    </tr>\n",
       "    <tr>\n",
       "      <th>5</th>\n",
       "      <td>5</td>\n",
       "      <td>0</td>\n",
       "      <td>9</td>\n",
       "      <td>0.000000</td>\n",
       "    </tr>\n",
       "  </tbody>\n",
       "</table>\n",
       "</div>"
      ],
      "text/plain": [
       "   детей_у_заемщика  заемщики_с_просроченным_платежом  всего_заемщиков  \\\n",
       "0                 0                              1063            14148   \n",
       "1                 1                               445             4865   \n",
       "2                 2                               202             2131   \n",
       "3                 3                                27              330   \n",
       "4                 4                                 4               41   \n",
       "5                 5                                 0                9   \n",
       "\n",
       "   %_должников_среди_заемщиков  \n",
       "0                     7.513429  \n",
       "1                     9.146968  \n",
       "2                     9.479118  \n",
       "3                     8.181818  \n",
       "4                     9.756098  \n",
       "5                     0.000000  "
      ]
     },
     "execution_count": 44,
     "metadata": {},
     "output_type": "execute_result"
    }
   ],
   "source": [
    "data_pivot = df.pivot_table(index=['children'], values=['debt','dob_years'], aggfunc={'debt': 'sum','dob_years': 'count'}).reset_index()\n",
    "data_pivot['%_of_total'] = data_pivot.debt / data_pivot.dob_years * 100\n",
    "data_pivot.rename(columns={\"debt\": \"заемщики_с_просроченным_платежом\", \"children\": \"детей_у_заемщика\",\"dob_years\": \"всего_заемщиков\", \"%_of_total\": \"%_должников_среди_заемщиков\"})"
   ]
  },
  {
   "cell_type": "code",
   "execution_count": 45,
   "id": "a3e6b0d0",
   "metadata": {},
   "outputs": [
    {
     "data": {
      "text/plain": [
       "9.141000416911279"
      ]
     },
     "execution_count": 45,
     "metadata": {},
     "output_type": "execute_result"
    }
   ],
   "source": [
    "data_pivot.query('children > 0 and children < 5')['%_of_total'].mean() #средняя доля должников среди заемщиков, у которых от 1 до 4 детей."
   ]
  },
  {
   "cell_type": "markdown",
   "id": "efe736c5",
   "metadata": {},
   "source": [
    "##### Вывод 1:"
   ]
  },
  {
   "cell_type": "markdown",
   "id": "8eeed094",
   "metadata": {},
   "source": [
    "Клиенты без детей берут кредиты гораздо чаще, чем клиенты с детьми. Среди таких заемщиков процент по невозвратам самый низкий - 7.5%. У заемщиков с количеством детей до четырех средний процент просрока 9.14%, хуже всего обстоят дела у заёмщикв с 4 детьми - 9.75%. Клиенты с 5 детьми - самая малочисленная группа, однако, ни один клиент, у которого 5 детей, не просрочил кредит."
   ]
  },
  {
   "cell_type": "markdown",
   "id": "9475b44c",
   "metadata": {},
   "source": [
    "##### Вопрос 2: Есть ли зависимость между семейным положением и возвратом кредита в срок?"
   ]
  },
  {
   "cell_type": "code",
   "execution_count": 46,
   "id": "b6fb56e3",
   "metadata": {
    "scrolled": true
   },
   "outputs": [
    {
     "data": {
      "text/html": [
       "<div>\n",
       "<style scoped>\n",
       "    .dataframe tbody tr th:only-of-type {\n",
       "        vertical-align: middle;\n",
       "    }\n",
       "\n",
       "    .dataframe tbody tr th {\n",
       "        vertical-align: top;\n",
       "    }\n",
       "\n",
       "    .dataframe thead th {\n",
       "        text-align: right;\n",
       "    }\n",
       "</style>\n",
       "<table border=\"1\" class=\"dataframe\">\n",
       "  <thead>\n",
       "    <tr style=\"text-align: right;\">\n",
       "      <th></th>\n",
       "      <th>семейный статус</th>\n",
       "      <th>debt</th>\n",
       "      <th>всего_заемщиков</th>\n",
       "      <th>%_должников_среди_заемщиков</th>\n",
       "    </tr>\n",
       "  </thead>\n",
       "  <tbody>\n",
       "    <tr>\n",
       "      <th>0</th>\n",
       "      <td>0</td>\n",
       "      <td>931</td>\n",
       "      <td>12380</td>\n",
       "      <td>7.520194</td>\n",
       "    </tr>\n",
       "    <tr>\n",
       "      <th>1</th>\n",
       "      <td>1</td>\n",
       "      <td>388</td>\n",
       "      <td>4176</td>\n",
       "      <td>9.291188</td>\n",
       "    </tr>\n",
       "    <tr>\n",
       "      <th>2</th>\n",
       "      <td>2</td>\n",
       "      <td>63</td>\n",
       "      <td>960</td>\n",
       "      <td>6.562500</td>\n",
       "    </tr>\n",
       "    <tr>\n",
       "      <th>3</th>\n",
       "      <td>3</td>\n",
       "      <td>85</td>\n",
       "      <td>1195</td>\n",
       "      <td>7.112971</td>\n",
       "    </tr>\n",
       "    <tr>\n",
       "      <th>4</th>\n",
       "      <td>4</td>\n",
       "      <td>274</td>\n",
       "      <td>2813</td>\n",
       "      <td>9.740491</td>\n",
       "    </tr>\n",
       "  </tbody>\n",
       "</table>\n",
       "</div>"
      ],
      "text/plain": [
       "   семейный статус  debt  всего_заемщиков  %_должников_среди_заемщиков\n",
       "0                0   931            12380                     7.520194\n",
       "1                1   388             4176                     9.291188\n",
       "2                2    63              960                     6.562500\n",
       "3                3    85             1195                     7.112971\n",
       "4                4   274             2813                     9.740491"
      ]
     },
     "execution_count": 46,
     "metadata": {},
     "output_type": "execute_result"
    }
   ],
   "source": [
    "data_pivot = df.pivot_table(index=['family_status_id'], values=['debt','dob_years'], aggfunc={'debt': 'sum','dob_years': 'count'}).reset_index()\n",
    "data_pivot['%_of_total'] = data_pivot.debt / data_pivot.dob_years * 100\n",
    "data_pivot.rename(columns={\"family_status_id\": \"семейный статус\", \"dob_years\": \"всего_заемщиков\", \"%_of_total\": \"%_должников_среди_заемщиков\"})"
   ]
  },
  {
   "cell_type": "code",
   "execution_count": 47,
   "id": "0487bc32",
   "metadata": {
    "scrolled": true
   },
   "outputs": [
    {
     "data": {
      "text/html": [
       "<div>\n",
       "<style scoped>\n",
       "    .dataframe tbody tr th:only-of-type {\n",
       "        vertical-align: middle;\n",
       "    }\n",
       "\n",
       "    .dataframe tbody tr th {\n",
       "        vertical-align: top;\n",
       "    }\n",
       "\n",
       "    .dataframe thead th {\n",
       "        text-align: right;\n",
       "    }\n",
       "</style>\n",
       "<table border=\"1\" class=\"dataframe\">\n",
       "  <thead>\n",
       "    <tr style=\"text-align: right;\">\n",
       "      <th></th>\n",
       "      <th>семейное положение</th>\n",
       "      <th>заемщики_с_просроченным_платежом</th>\n",
       "      <th>всего_заемщиков</th>\n",
       "      <th>%_должников_среди_заемщиков</th>\n",
       "    </tr>\n",
       "  </thead>\n",
       "  <tbody>\n",
       "    <tr>\n",
       "      <th>0</th>\n",
       "      <td>0</td>\n",
       "      <td>931</td>\n",
       "      <td>12380</td>\n",
       "      <td>7.520194</td>\n",
       "    </tr>\n",
       "    <tr>\n",
       "      <th>1</th>\n",
       "      <td>1</td>\n",
       "      <td>388</td>\n",
       "      <td>4176</td>\n",
       "      <td>9.291188</td>\n",
       "    </tr>\n",
       "    <tr>\n",
       "      <th>2</th>\n",
       "      <td>2</td>\n",
       "      <td>63</td>\n",
       "      <td>960</td>\n",
       "      <td>6.562500</td>\n",
       "    </tr>\n",
       "    <tr>\n",
       "      <th>3</th>\n",
       "      <td>3</td>\n",
       "      <td>85</td>\n",
       "      <td>1195</td>\n",
       "      <td>7.112971</td>\n",
       "    </tr>\n",
       "    <tr>\n",
       "      <th>4</th>\n",
       "      <td>4</td>\n",
       "      <td>274</td>\n",
       "      <td>2813</td>\n",
       "      <td>9.740491</td>\n",
       "    </tr>\n",
       "  </tbody>\n",
       "</table>\n",
       "</div>"
      ],
      "text/plain": [
       "   семейное положение  заемщики_с_просроченным_платежом  всего_заемщиков  \\\n",
       "0                   0                               931            12380   \n",
       "1                   1                               388             4176   \n",
       "2                   2                                63              960   \n",
       "3                   3                                85             1195   \n",
       "4                   4                               274             2813   \n",
       "\n",
       "   %_должников_среди_заемщиков  \n",
       "0                     7.520194  \n",
       "1                     9.291188  \n",
       "2                     6.562500  \n",
       "3                     7.112971  \n",
       "4                     9.740491  "
      ]
     },
     "execution_count": 47,
     "metadata": {},
     "output_type": "execute_result"
    }
   ],
   "source": [
    "data_pivot = df.pivot_table(index=['family_status_id'], values=['debt','dob_years'], aggfunc={'debt': 'sum','dob_years': 'count'}).reset_index()\n",
    "data_pivot['%_of_total'] = data_pivot.debt / data_pivot.dob_years * 100\n",
    "data_pivot.rename(columns={\"family_status_id\": \"семейное положение\",\"debt\": \"заемщики_с_просроченным_платежом\", \"dob_years\": \"всего_заемщиков\", \"%_of_total\": \"%_должников_среди_заемщиков\"})"
   ]
  },
  {
   "cell_type": "markdown",
   "id": "35afb951",
   "metadata": {},
   "source": [
    "##### Вывод 2:"
   ]
  },
  {
   "cell_type": "markdown",
   "id": "62659b4c",
   "metadata": {},
   "source": [
    "- 0 женат / замужем\n",
    "- 1 гражданский брак\n",
    "- 2 вдовец / вдова\n",
    "- 3 в разводе\n",
    "- 4 Не женат / не замужем\n",
    "\n",
    "Неженатые клиенты - самые ненадежные заёмщики, 9.7% не возвращают вредит вовремя. Пары с общим бытом также имеет высокий процент невозврата, 9.3%. Самые ответсвенные заёмщики - вдовы или вдоцы, всего 6.6% имет задолженность."
   ]
  },
  {
   "cell_type": "markdown",
   "id": "8f81e90a",
   "metadata": {},
   "source": [
    "##### Вопрос 3: Есть ли зависимость между уровнем дохода и возвратом кредита в срок?"
   ]
  },
  {
   "cell_type": "code",
   "execution_count": 48,
   "id": "c95fe847",
   "metadata": {},
   "outputs": [
    {
     "data": {
      "text/html": [
       "<div>\n",
       "<style scoped>\n",
       "    .dataframe tbody tr th:only-of-type {\n",
       "        vertical-align: middle;\n",
       "    }\n",
       "\n",
       "    .dataframe tbody tr th {\n",
       "        vertical-align: top;\n",
       "    }\n",
       "\n",
       "    .dataframe thead th {\n",
       "        text-align: right;\n",
       "    }\n",
       "</style>\n",
       "<table border=\"1\" class=\"dataframe\">\n",
       "  <thead>\n",
       "    <tr style=\"text-align: right;\">\n",
       "      <th></th>\n",
       "      <th>категория_дохода</th>\n",
       "      <th>заемщики_с_просроченным_платежом</th>\n",
       "      <th>всего_заемщиков</th>\n",
       "      <th>%_должников_среди_заемщиков</th>\n",
       "    </tr>\n",
       "  </thead>\n",
       "  <tbody>\n",
       "    <tr>\n",
       "      <th>0</th>\n",
       "      <td>A</td>\n",
       "      <td>2</td>\n",
       "      <td>25</td>\n",
       "      <td>8.000000</td>\n",
       "    </tr>\n",
       "    <tr>\n",
       "      <th>1</th>\n",
       "      <td>B</td>\n",
       "      <td>356</td>\n",
       "      <td>5041</td>\n",
       "      <td>7.062091</td>\n",
       "    </tr>\n",
       "    <tr>\n",
       "      <th>2</th>\n",
       "      <td>C</td>\n",
       "      <td>1360</td>\n",
       "      <td>16086</td>\n",
       "      <td>8.454557</td>\n",
       "    </tr>\n",
       "    <tr>\n",
       "      <th>3</th>\n",
       "      <td>D</td>\n",
       "      <td>21</td>\n",
       "      <td>350</td>\n",
       "      <td>6.000000</td>\n",
       "    </tr>\n",
       "    <tr>\n",
       "      <th>4</th>\n",
       "      <td>E</td>\n",
       "      <td>2</td>\n",
       "      <td>22</td>\n",
       "      <td>9.090909</td>\n",
       "    </tr>\n",
       "  </tbody>\n",
       "</table>\n",
       "</div>"
      ],
      "text/plain": [
       "  категория_дохода  заемщики_с_просроченным_платежом  всего_заемщиков  \\\n",
       "0                A                                 2               25   \n",
       "1                B                               356             5041   \n",
       "2                C                              1360            16086   \n",
       "3                D                                21              350   \n",
       "4                E                                 2               22   \n",
       "\n",
       "   %_должников_среди_заемщиков  \n",
       "0                     8.000000  \n",
       "1                     7.062091  \n",
       "2                     8.454557  \n",
       "3                     6.000000  \n",
       "4                     9.090909  "
      ]
     },
     "execution_count": 48,
     "metadata": {},
     "output_type": "execute_result"
    }
   ],
   "source": [
    "data_pivot = df.pivot_table(index=['total_income_category'], values=['debt','dob_years'], aggfunc={'debt': 'sum','dob_years': 'count'}).reset_index()\n",
    "data_pivot['%_of_total'] = data_pivot.debt / data_pivot.dob_years * 100\n",
    "data_pivot.rename(columns={\"total_income_category\": \"категория_дохода\",\"debt\": \"заемщики_с_просроченным_платежом\", \"dob_years\": \"всего_заемщиков\", \"%_of_total\": \"%_должников_среди_заемщиков\"})"
   ]
  },
  {
   "cell_type": "markdown",
   "id": "716be0d3",
   "metadata": {},
   "source": [
    "##### Вывод 3:"
   ]
  },
  {
   "cell_type": "markdown",
   "id": "55abeedb",
   "metadata": {},
   "source": [
    "- 0–30000 — 'E';\n",
    "- 30001–50000 — 'D';\n",
    "- 50001–200000 — 'C';\n",
    "- 200001–1000000 — 'B';\n",
    "- 1000001 и выше — 'A'\n",
    "\n",
    "Клиенты с доходом до 30000 берут кредит реже всех, и чаще других не возвращают в срок. Клиенты с доходом от 50001 до 200000 берут кредиты часто, и около 8,5% не возвращает вовремя. Данные говорят, что заемщики категории D самые ответственные. Прямой зависимости между уровнем дохода и возвратом кредита нет."
   ]
  },
  {
   "cell_type": "markdown",
   "id": "fa0465ae",
   "metadata": {},
   "source": [
    "##### Вопрос 4: Как разные цели кредита влияют на его возврат в срок?"
   ]
  },
  {
   "cell_type": "code",
   "execution_count": 49,
   "id": "07bea769",
   "metadata": {},
   "outputs": [
    {
     "data": {
      "text/html": [
       "<div>\n",
       "<style scoped>\n",
       "    .dataframe tbody tr th:only-of-type {\n",
       "        vertical-align: middle;\n",
       "    }\n",
       "\n",
       "    .dataframe tbody tr th {\n",
       "        vertical-align: top;\n",
       "    }\n",
       "\n",
       "    .dataframe thead th {\n",
       "        text-align: right;\n",
       "    }\n",
       "</style>\n",
       "<table border=\"1\" class=\"dataframe\">\n",
       "  <thead>\n",
       "    <tr style=\"text-align: right;\">\n",
       "      <th></th>\n",
       "      <th>цель_кредита</th>\n",
       "      <th>заемщики_с_просроченным_платежом</th>\n",
       "      <th>всего_заемщиков</th>\n",
       "      <th>%_должников_среди_заемщиков</th>\n",
       "    </tr>\n",
       "  </thead>\n",
       "  <tbody>\n",
       "    <tr>\n",
       "      <th>0</th>\n",
       "      <td>операции с автомобилем</td>\n",
       "      <td>403</td>\n",
       "      <td>4315</td>\n",
       "      <td>9.339513</td>\n",
       "    </tr>\n",
       "    <tr>\n",
       "      <th>1</th>\n",
       "      <td>операции с недвижимостью</td>\n",
       "      <td>782</td>\n",
       "      <td>10839</td>\n",
       "      <td>7.214688</td>\n",
       "    </tr>\n",
       "    <tr>\n",
       "      <th>2</th>\n",
       "      <td>получение образования</td>\n",
       "      <td>370</td>\n",
       "      <td>4022</td>\n",
       "      <td>9.199403</td>\n",
       "    </tr>\n",
       "    <tr>\n",
       "      <th>3</th>\n",
       "      <td>проведение свадьбы</td>\n",
       "      <td>186</td>\n",
       "      <td>2348</td>\n",
       "      <td>7.921635</td>\n",
       "    </tr>\n",
       "  </tbody>\n",
       "</table>\n",
       "</div>"
      ],
      "text/plain": [
       "               цель_кредита  заемщики_с_просроченным_платежом  \\\n",
       "0    операции с автомобилем                               403   \n",
       "1  операции с недвижимостью                               782   \n",
       "2     получение образования                               370   \n",
       "3        проведение свадьбы                               186   \n",
       "\n",
       "   всего_заемщиков  %_должников_среди_заемщиков  \n",
       "0             4315                     9.339513  \n",
       "1            10839                     7.214688  \n",
       "2             4022                     9.199403  \n",
       "3             2348                     7.921635  "
      ]
     },
     "execution_count": 49,
     "metadata": {},
     "output_type": "execute_result"
    }
   ],
   "source": [
    "data_pivot = df.pivot_table(index=['purpose_category'], values=['debt','dob_years'], aggfunc={'debt': 'sum','dob_years': 'count'}).reset_index()\n",
    "data_pivot['%_of_total'] = data_pivot.debt / data_pivot.dob_years * 100\n",
    "data_pivot.rename(columns={\"purpose_category\": \"цель_кредита\",\"debt\": \"заемщики_с_просроченным_платежом\", \"dob_years\": \"всего_заемщиков\", \"%_of_total\": \"%_должников_среди_заемщиков\"})"
   ]
  },
  {
   "cell_type": "markdown",
   "id": "5f6120e9",
   "metadata": {},
   "source": [
    "##### Вывод 4:"
   ]
  },
  {
   "cell_type": "markdown",
   "id": "ebbebb9d",
   "metadata": {},
   "source": [
    "Кредиты на на свадьбу или операции с недвижимостью имеют больший процент возврата, чем кредиты операции с автомобилем и на получение образования. "
   ]
  },
  {
   "cell_type": "markdown",
   "id": "8c4cd5c1",
   "metadata": {},
   "source": [
    "## Общий вывод:"
   ]
  },
  {
   "cell_type": "markdown",
   "id": "7fc7e5b4",
   "metadata": {},
   "source": [
    "Целю нашей работы является портрет идеального потенциального заёмщика. \n",
    "\n",
    "Для того, чтобы его найти, нужно было обработать данные о должниках и добросовестных кредиторах, полученные от кредитного отдела банка.\n",
    "\n",
    "Данные по некоторым показателям нуждались в предбработке. В таблице нашлись аномалии, такие как пропуски значений, явные и нявные дубликаты, опечатки, дробные числа. Всё это нужно было исправить и подготовить для дальнейшей работы.\n",
    "\n",
    "Чтобы не обращаться к огромной таблице, мы прибегнули к категоризации и создали несколько групп, объединенных по общему признаку. так мы объединили людей с похожим уровнем дохода, и разделили все цели кредита на четыре основных.\n",
    "\n",
    "Далее мы провели 4 гипотезы и установили:\n",
    "\n",
    "1. В начале мы предположили, что женатые люди с детьми погашают кредит в срок. Большее количество детей также увеличивает шанс возврата кредита. Однако, **наличие детей влияет на возвратность кредита отрицательно**, клиенты без детей не только берут кредиты гораздо чаще, чем клиенты с детьми, но и просрачивают реже. Однако, среди клиентов с 5 детьми (самая малочисленная группа) не было ни одного просрока. Но, их выборка мала, опираться на аткие данные непарвильно. Эта гипотеза подтвердилась частично.\n",
    "2. **Наличие официального партнера благотворительно влияет на возвратность кредита**, однако, самые ответсвенные заёмщики - вдовы или вдовцы. Это частично подтвердило нашу гипотезу\n",
    "3. Данные говорят, что заемщики со средним доходом 30001–50000 самые ответственные. Даже у людей с очень высоким доходом процент просрока хуже. Наша гипотеза не подтвердилась,  **прямой зависимости между уровнем дохода и возвратом кредита нет**.\n",
    "4. **Кредиты на на свадьбу или операции с недвижимостью имеют больший процент возврата**, чем кредиты операции с автомобилем и на получение образования, что подтверждает гипотезу о том, что цель кредита тоже имеет значение в портете идеального заемщика.\n",
    "\n",
    "Кредитному отделу банка при построении модели кредитного скоринга нужно опираться на следующих людей:\n",
    "- заёмщиков без детей\n",
    "- вдоцов,вдов, людей в браке или отношениях\n",
    "- доход обязателен, но размер не влияет\n",
    "- заемщиков, которые берут кредит на свадьбу или операции с недвижимостью."
   ]
  }
 ],
 "metadata": {
  "ExecuteTimeLog": [
   {
    "duration": 657,
    "start_time": "2022-03-10T14:45:02.904Z"
   },
   {
    "duration": 53,
    "start_time": "2022-03-10T14:45:37.612Z"
   },
   {
    "duration": 58,
    "start_time": "2022-03-10T15:58:29.636Z"
   },
   {
    "duration": 58,
    "start_time": "2022-03-10T15:58:46.327Z"
   },
   {
    "duration": 60,
    "start_time": "2022-03-10T16:25:28.253Z"
   },
   {
    "duration": 60,
    "start_time": "2022-03-10T16:30:36.824Z"
   },
   {
    "duration": 13,
    "start_time": "2022-03-10T16:31:30.228Z"
   },
   {
    "duration": 10,
    "start_time": "2022-03-10T16:33:47.277Z"
   },
   {
    "duration": 16,
    "start_time": "2022-03-10T16:54:01.387Z"
   },
   {
    "duration": 3,
    "start_time": "2022-03-10T17:13:07.413Z"
   },
   {
    "duration": 4,
    "start_time": "2022-03-10T17:13:43.253Z"
   },
   {
    "duration": 3,
    "start_time": "2022-03-10T17:13:48.690Z"
   },
   {
    "duration": 3,
    "start_time": "2022-03-10T17:18:29.565Z"
   },
   {
    "duration": 3,
    "start_time": "2022-03-10T17:22:33.355Z"
   },
   {
    "duration": 3,
    "start_time": "2022-03-10T17:22:35.221Z"
   },
   {
    "duration": 4,
    "start_time": "2022-03-10T17:22:38.543Z"
   },
   {
    "duration": 4,
    "start_time": "2022-03-10T17:25:25.414Z"
   },
   {
    "duration": 5,
    "start_time": "2022-03-10T18:00:39.508Z"
   },
   {
    "duration": 7,
    "start_time": "2022-03-10T18:04:08.691Z"
   },
   {
    "duration": 5,
    "start_time": "2022-03-10T18:04:26.530Z"
   },
   {
    "duration": 615,
    "start_time": "2022-03-10T18:41:28.453Z"
   },
   {
    "duration": 10,
    "start_time": "2022-03-10T18:41:29.070Z"
   },
   {
    "duration": 13,
    "start_time": "2022-03-10T18:41:29.082Z"
   },
   {
    "duration": 7,
    "start_time": "2022-03-10T18:41:29.096Z"
   },
   {
    "duration": 5,
    "start_time": "2022-03-10T18:41:29.105Z"
   },
   {
    "duration": 8,
    "start_time": "2022-03-10T18:41:29.111Z"
   },
   {
    "duration": 57,
    "start_time": "2022-03-10T18:41:48.616Z"
   },
   {
    "duration": 6,
    "start_time": "2022-03-10T18:42:38.037Z"
   },
   {
    "duration": 9,
    "start_time": "2022-03-10T18:43:28.350Z"
   },
   {
    "duration": 266,
    "start_time": "2022-03-10T18:43:45.897Z"
   },
   {
    "duration": 9,
    "start_time": "2022-03-10T18:43:54.453Z"
   },
   {
    "duration": 10,
    "start_time": "2022-03-10T18:46:45.656Z"
   },
   {
    "duration": 8,
    "start_time": "2022-03-10T18:47:30.569Z"
   },
   {
    "duration": 25,
    "start_time": "2022-03-10T18:47:45.723Z"
   },
   {
    "duration": 9,
    "start_time": "2022-03-10T18:48:34.566Z"
   },
   {
    "duration": 610,
    "start_time": "2022-03-10T18:51:56.694Z"
   },
   {
    "duration": 12,
    "start_time": "2022-03-10T18:51:57.306Z"
   },
   {
    "duration": 21,
    "start_time": "2022-03-10T18:51:57.321Z"
   },
   {
    "duration": 7,
    "start_time": "2022-03-10T18:51:57.345Z"
   },
   {
    "duration": 7,
    "start_time": "2022-03-10T18:51:57.354Z"
   },
   {
    "duration": 13,
    "start_time": "2022-03-10T18:51:57.363Z"
   },
   {
    "duration": 23,
    "start_time": "2022-03-10T18:52:14.091Z"
   },
   {
    "duration": 16,
    "start_time": "2022-03-10T18:52:56.097Z"
   },
   {
    "duration": 17,
    "start_time": "2022-03-10T18:55:02.073Z"
   },
   {
    "duration": 16,
    "start_time": "2022-03-10T18:57:34.153Z"
   },
   {
    "duration": 23,
    "start_time": "2022-03-10T18:57:47.962Z"
   },
   {
    "duration": 14,
    "start_time": "2022-03-10T18:58:11.702Z"
   },
   {
    "duration": 7,
    "start_time": "2022-03-10T19:02:52.730Z"
   },
   {
    "duration": 11,
    "start_time": "2022-03-10T19:03:29.018Z"
   },
   {
    "duration": 254,
    "start_time": "2022-03-10T19:05:49.383Z"
   },
   {
    "duration": 11,
    "start_time": "2022-03-10T19:17:36.396Z"
   },
   {
    "duration": 11,
    "start_time": "2022-03-10T19:17:38.201Z"
   },
   {
    "duration": 623,
    "start_time": "2022-03-10T19:17:49.866Z"
   },
   {
    "duration": 12,
    "start_time": "2022-03-10T19:17:50.491Z"
   },
   {
    "duration": 9,
    "start_time": "2022-03-10T19:17:50.506Z"
   },
   {
    "duration": 5,
    "start_time": "2022-03-10T19:17:50.517Z"
   },
   {
    "duration": 13,
    "start_time": "2022-03-10T19:17:50.538Z"
   },
   {
    "duration": 10,
    "start_time": "2022-03-10T19:17:50.553Z"
   },
   {
    "duration": 253,
    "start_time": "2022-03-10T19:17:50.565Z"
   },
   {
    "duration": 174,
    "start_time": "2022-03-10T19:22:22.592Z"
   },
   {
    "duration": 57,
    "start_time": "2022-03-10T19:24:01.640Z"
   },
   {
    "duration": 63,
    "start_time": "2022-03-10T19:24:10.175Z"
   },
   {
    "duration": 182,
    "start_time": "2022-03-10T19:24:23.635Z"
   },
   {
    "duration": 14,
    "start_time": "2022-03-10T19:24:58.074Z"
   },
   {
    "duration": 23,
    "start_time": "2022-03-10T19:25:06.420Z"
   },
   {
    "duration": 26,
    "start_time": "2022-03-10T19:29:18.706Z"
   },
   {
    "duration": 11,
    "start_time": "2022-03-10T19:30:11.023Z"
   },
   {
    "duration": 9,
    "start_time": "2022-03-10T19:30:22.360Z"
   },
   {
    "duration": 585,
    "start_time": "2022-03-10T20:28:17.698Z"
   },
   {
    "duration": 11,
    "start_time": "2022-03-10T20:28:18.285Z"
   },
   {
    "duration": 10,
    "start_time": "2022-03-10T20:28:18.299Z"
   },
   {
    "duration": 6,
    "start_time": "2022-03-10T20:28:18.310Z"
   },
   {
    "duration": 27,
    "start_time": "2022-03-10T20:28:18.317Z"
   },
   {
    "duration": 10,
    "start_time": "2022-03-10T20:28:18.346Z"
   },
   {
    "duration": 207,
    "start_time": "2022-03-10T20:35:28.683Z"
   },
   {
    "duration": 206,
    "start_time": "2022-03-10T20:35:33.452Z"
   },
   {
    "duration": 172,
    "start_time": "2022-03-10T20:35:57.591Z"
   },
   {
    "duration": 172,
    "start_time": "2022-03-10T20:36:03.877Z"
   },
   {
    "duration": 2,
    "start_time": "2022-03-10T20:36:11.868Z"
   },
   {
    "duration": 4,
    "start_time": "2022-03-10T20:36:16.474Z"
   },
   {
    "duration": 59,
    "start_time": "2022-03-10T20:39:17.436Z"
   },
   {
    "duration": 175,
    "start_time": "2022-03-10T20:40:21.084Z"
   },
   {
    "duration": 185,
    "start_time": "2022-03-10T20:40:36.246Z"
   },
   {
    "duration": 4147,
    "start_time": "2022-03-10T20:43:57.441Z"
   },
   {
    "duration": 676,
    "start_time": "2022-03-10T20:44:19.128Z"
   },
   {
    "duration": 605,
    "start_time": "2022-03-10T20:57:21.781Z"
   },
   {
    "duration": 12,
    "start_time": "2022-03-10T20:57:22.388Z"
   },
   {
    "duration": 14,
    "start_time": "2022-03-10T20:57:22.401Z"
   },
   {
    "duration": 7,
    "start_time": "2022-03-10T20:57:22.416Z"
   },
   {
    "duration": 8,
    "start_time": "2022-03-10T20:57:22.437Z"
   },
   {
    "duration": 60,
    "start_time": "2022-03-10T20:57:22.447Z"
   },
   {
    "duration": 474,
    "start_time": "2022-03-10T20:57:22.035Z"
   },
   {
    "duration": 471,
    "start_time": "2022-03-10T20:57:22.040Z"
   },
   {
    "duration": 266,
    "start_time": "2022-03-10T20:57:47.641Z"
   },
   {
    "duration": 5,
    "start_time": "2022-03-10T20:57:55.628Z"
   },
   {
    "duration": 59,
    "start_time": "2022-03-10T20:57:57.358Z"
   },
   {
    "duration": 408,
    "start_time": "2022-03-10T20:58:01.519Z"
   },
   {
    "duration": 3,
    "start_time": "2022-03-10T20:58:24.274Z"
   },
   {
    "duration": 344,
    "start_time": "2022-03-10T20:58:27.115Z"
   },
   {
    "duration": 201,
    "start_time": "2022-03-10T20:58:39.923Z"
   },
   {
    "duration": 3,
    "start_time": "2022-03-10T20:58:54.441Z"
   },
   {
    "duration": 7,
    "start_time": "2022-03-10T20:58:58.596Z"
   },
   {
    "duration": 4,
    "start_time": "2022-03-10T20:59:00.311Z"
   },
   {
    "duration": 7,
    "start_time": "2022-03-10T20:59:01.815Z"
   },
   {
    "duration": 25,
    "start_time": "2022-03-10T21:00:17.759Z"
   },
   {
    "duration": 195,
    "start_time": "2022-03-10T21:00:59.792Z"
   },
   {
    "duration": 26,
    "start_time": "2022-03-10T21:01:29.038Z"
   },
   {
    "duration": 3,
    "start_time": "2022-03-10T21:02:20.016Z"
   },
   {
    "duration": 7,
    "start_time": "2022-03-10T21:02:22.477Z"
   },
   {
    "duration": 3,
    "start_time": "2022-03-10T21:02:45.537Z"
   },
   {
    "duration": 7,
    "start_time": "2022-03-10T21:02:46.885Z"
   },
   {
    "duration": 639,
    "start_time": "2022-03-10T21:03:32.333Z"
   },
   {
    "duration": 11,
    "start_time": "2022-03-10T21:03:32.973Z"
   },
   {
    "duration": 9,
    "start_time": "2022-03-10T21:03:32.986Z"
   },
   {
    "duration": 4,
    "start_time": "2022-03-10T21:03:32.996Z"
   },
   {
    "duration": 8,
    "start_time": "2022-03-10T21:03:33.001Z"
   },
   {
    "duration": 45,
    "start_time": "2022-03-10T21:03:33.011Z"
   },
   {
    "duration": 11,
    "start_time": "2022-03-10T21:03:33.058Z"
   },
   {
    "duration": 10,
    "start_time": "2022-03-10T21:03:55.785Z"
   },
   {
    "duration": 62,
    "start_time": "2022-03-10T21:05:21.712Z"
   },
   {
    "duration": 672,
    "start_time": "2022-03-10T21:05:51.743Z"
   },
   {
    "duration": 11,
    "start_time": "2022-03-10T21:05:52.416Z"
   },
   {
    "duration": 11,
    "start_time": "2022-03-10T21:05:52.429Z"
   },
   {
    "duration": 9,
    "start_time": "2022-03-10T21:05:52.442Z"
   },
   {
    "duration": 12,
    "start_time": "2022-03-10T21:05:52.453Z"
   },
   {
    "duration": 4,
    "start_time": "2022-03-10T21:05:52.467Z"
   },
   {
    "duration": 251,
    "start_time": "2022-03-10T21:05:52.473Z"
   },
   {
    "duration": 489,
    "start_time": "2022-03-10T21:05:52.237Z"
   },
   {
    "duration": 7,
    "start_time": "2022-03-10T21:06:15.548Z"
   },
   {
    "duration": 3,
    "start_time": "2022-03-10T21:07:09.565Z"
   },
   {
    "duration": 9,
    "start_time": "2022-03-10T21:07:10.902Z"
   },
   {
    "duration": 630,
    "start_time": "2022-03-10T21:08:15.477Z"
   },
   {
    "duration": 11,
    "start_time": "2022-03-10T21:08:16.108Z"
   },
   {
    "duration": 16,
    "start_time": "2022-03-10T21:08:16.122Z"
   },
   {
    "duration": 32,
    "start_time": "2022-03-10T21:08:16.140Z"
   },
   {
    "duration": 15,
    "start_time": "2022-03-10T21:08:16.174Z"
   },
   {
    "duration": 26,
    "start_time": "2022-03-10T21:08:16.190Z"
   },
   {
    "duration": 30,
    "start_time": "2022-03-10T21:08:16.218Z"
   },
   {
    "duration": 13,
    "start_time": "2022-03-10T21:08:16.250Z"
   },
   {
    "duration": 24,
    "start_time": "2022-03-10T21:08:16.265Z"
   },
   {
    "duration": 17,
    "start_time": "2022-03-10T21:08:16.291Z"
   },
   {
    "duration": 21,
    "start_time": "2022-03-10T21:08:16.309Z"
   },
   {
    "duration": 25,
    "start_time": "2022-03-10T21:08:16.332Z"
   },
   {
    "duration": 648,
    "start_time": "2022-03-10T21:10:57.020Z"
   },
   {
    "duration": 10,
    "start_time": "2022-03-10T21:10:57.670Z"
   },
   {
    "duration": 14,
    "start_time": "2022-03-10T21:10:57.682Z"
   },
   {
    "duration": 4,
    "start_time": "2022-03-10T21:10:57.697Z"
   },
   {
    "duration": 10,
    "start_time": "2022-03-10T21:10:57.703Z"
   },
   {
    "duration": 22,
    "start_time": "2022-03-10T21:10:57.715Z"
   },
   {
    "duration": 8,
    "start_time": "2022-03-10T21:10:57.739Z"
   },
   {
    "duration": 9,
    "start_time": "2022-03-10T21:10:57.749Z"
   },
   {
    "duration": 10,
    "start_time": "2022-03-10T21:10:57.760Z"
   },
   {
    "duration": 8,
    "start_time": "2022-03-10T21:10:57.772Z"
   },
   {
    "duration": 7,
    "start_time": "2022-03-10T21:10:57.781Z"
   },
   {
    "duration": 13,
    "start_time": "2022-03-10T21:10:57.789Z"
   },
   {
    "duration": 668,
    "start_time": "2022-03-10T21:11:51.144Z"
   },
   {
    "duration": 12,
    "start_time": "2022-03-10T21:11:51.814Z"
   },
   {
    "duration": 11,
    "start_time": "2022-03-10T21:11:51.829Z"
   },
   {
    "duration": 4,
    "start_time": "2022-03-10T21:11:51.842Z"
   },
   {
    "duration": 10,
    "start_time": "2022-03-10T21:11:51.847Z"
   },
   {
    "duration": 3,
    "start_time": "2022-03-10T21:11:51.858Z"
   },
   {
    "duration": 9,
    "start_time": "2022-03-10T21:11:51.863Z"
   },
   {
    "duration": 8,
    "start_time": "2022-03-10T21:11:51.875Z"
   },
   {
    "duration": 9,
    "start_time": "2022-03-10T21:11:51.885Z"
   },
   {
    "duration": 44,
    "start_time": "2022-03-10T21:11:51.895Z"
   },
   {
    "duration": 8,
    "start_time": "2022-03-10T21:11:51.941Z"
   },
   {
    "duration": 11,
    "start_time": "2022-03-10T21:11:51.950Z"
   },
   {
    "duration": 1083,
    "start_time": "2022-03-10T21:23:21.332Z"
   },
   {
    "duration": 517,
    "start_time": "2022-03-10T21:25:23.917Z"
   },
   {
    "duration": 509,
    "start_time": "2022-03-10T21:25:23.926Z"
   },
   {
    "duration": 507,
    "start_time": "2022-03-10T21:25:23.929Z"
   },
   {
    "duration": 503,
    "start_time": "2022-03-10T21:25:23.934Z"
   },
   {
    "duration": 502,
    "start_time": "2022-03-10T21:25:23.936Z"
   },
   {
    "duration": 500,
    "start_time": "2022-03-10T21:25:23.939Z"
   },
   {
    "duration": 498,
    "start_time": "2022-03-10T21:25:23.941Z"
   },
   {
    "duration": 490,
    "start_time": "2022-03-10T21:25:23.950Z"
   },
   {
    "duration": 489,
    "start_time": "2022-03-10T21:25:23.952Z"
   },
   {
    "duration": 487,
    "start_time": "2022-03-10T21:25:23.955Z"
   },
   {
    "duration": 486,
    "start_time": "2022-03-10T21:25:23.957Z"
   },
   {
    "duration": 484,
    "start_time": "2022-03-10T21:25:23.959Z"
   },
   {
    "duration": 483,
    "start_time": "2022-03-10T21:25:23.961Z"
   },
   {
    "duration": 605,
    "start_time": "2022-03-10T21:25:43.373Z"
   },
   {
    "duration": 12,
    "start_time": "2022-03-10T21:25:43.980Z"
   },
   {
    "duration": 15,
    "start_time": "2022-03-10T21:25:43.993Z"
   },
   {
    "duration": 7,
    "start_time": "2022-03-10T21:25:44.010Z"
   },
   {
    "duration": 7,
    "start_time": "2022-03-10T21:25:44.018Z"
   },
   {
    "duration": 3,
    "start_time": "2022-03-10T21:25:44.037Z"
   },
   {
    "duration": 12,
    "start_time": "2022-03-10T21:25:44.042Z"
   },
   {
    "duration": 7,
    "start_time": "2022-03-10T21:25:44.056Z"
   },
   {
    "duration": 8,
    "start_time": "2022-03-10T21:25:44.064Z"
   },
   {
    "duration": 7,
    "start_time": "2022-03-10T21:25:44.073Z"
   },
   {
    "duration": 6,
    "start_time": "2022-03-10T21:25:44.082Z"
   },
   {
    "duration": 239,
    "start_time": "2022-03-10T21:25:44.090Z"
   },
   {
    "duration": 497,
    "start_time": "2022-03-10T21:25:43.833Z"
   },
   {
    "duration": 201,
    "start_time": "2022-03-10T21:26:59.490Z"
   },
   {
    "duration": 49,
    "start_time": "2022-03-10T21:32:02.992Z"
   },
   {
    "duration": 11,
    "start_time": "2022-03-10T21:32:03.042Z"
   },
   {
    "duration": 9,
    "start_time": "2022-03-10T21:32:03.055Z"
   },
   {
    "duration": 18,
    "start_time": "2022-03-10T21:32:03.065Z"
   },
   {
    "duration": 18,
    "start_time": "2022-03-10T21:32:03.084Z"
   },
   {
    "duration": 5,
    "start_time": "2022-03-10T21:32:03.104Z"
   },
   {
    "duration": 10,
    "start_time": "2022-03-10T21:32:03.110Z"
   },
   {
    "duration": 36,
    "start_time": "2022-03-10T21:32:03.122Z"
   },
   {
    "duration": 13,
    "start_time": "2022-03-10T21:32:03.159Z"
   },
   {
    "duration": 21,
    "start_time": "2022-03-10T21:32:03.173Z"
   },
   {
    "duration": 29,
    "start_time": "2022-03-10T21:32:03.195Z"
   },
   {
    "duration": 20,
    "start_time": "2022-03-10T21:32:03.226Z"
   },
   {
    "duration": 78,
    "start_time": "2022-03-10T21:35:08.885Z"
   },
   {
    "duration": 12,
    "start_time": "2022-03-10T21:35:08.965Z"
   },
   {
    "duration": 10,
    "start_time": "2022-03-10T21:35:08.978Z"
   },
   {
    "duration": 5,
    "start_time": "2022-03-10T21:35:08.990Z"
   },
   {
    "duration": 8,
    "start_time": "2022-03-10T21:35:08.997Z"
   },
   {
    "duration": 7,
    "start_time": "2022-03-10T21:35:09.089Z"
   },
   {
    "duration": 11,
    "start_time": "2022-03-10T21:35:09.138Z"
   },
   {
    "duration": 611,
    "start_time": "2022-03-10T21:36:16.066Z"
   },
   {
    "duration": 12,
    "start_time": "2022-03-10T21:36:16.680Z"
   },
   {
    "duration": 10,
    "start_time": "2022-03-10T21:36:16.698Z"
   },
   {
    "duration": 30,
    "start_time": "2022-03-10T21:36:16.709Z"
   },
   {
    "duration": 15,
    "start_time": "2022-03-10T21:36:16.740Z"
   },
   {
    "duration": 3,
    "start_time": "2022-03-10T21:36:16.757Z"
   },
   {
    "duration": 11,
    "start_time": "2022-03-10T21:36:16.762Z"
   },
   {
    "duration": 8,
    "start_time": "2022-03-10T21:36:16.776Z"
   },
   {
    "duration": 9,
    "start_time": "2022-03-10T21:36:16.786Z"
   },
   {
    "duration": 43,
    "start_time": "2022-03-10T21:36:16.797Z"
   },
   {
    "duration": 10,
    "start_time": "2022-03-10T21:36:16.842Z"
   },
   {
    "duration": 11,
    "start_time": "2022-03-10T21:36:16.854Z"
   },
   {
    "duration": 54,
    "start_time": "2022-03-10T21:39:19.771Z"
   },
   {
    "duration": 10,
    "start_time": "2022-03-10T21:39:19.827Z"
   },
   {
    "duration": 10,
    "start_time": "2022-03-10T21:39:19.839Z"
   },
   {
    "duration": 7,
    "start_time": "2022-03-10T21:39:19.850Z"
   },
   {
    "duration": 10,
    "start_time": "2022-03-10T21:39:25.546Z"
   },
   {
    "duration": 13,
    "start_time": "2022-03-10T21:39:31.820Z"
   },
   {
    "duration": 18,
    "start_time": "2022-03-10T21:40:43.881Z"
   },
   {
    "duration": 233,
    "start_time": "2022-03-10T21:41:05.938Z"
   },
   {
    "duration": 60,
    "start_time": "2022-03-10T21:41:16.858Z"
   },
   {
    "duration": 7,
    "start_time": "2022-03-10T21:41:49.187Z"
   },
   {
    "duration": 645,
    "start_time": "2022-03-10T21:42:18.216Z"
   },
   {
    "duration": 10,
    "start_time": "2022-03-10T21:42:18.863Z"
   },
   {
    "duration": 9,
    "start_time": "2022-03-10T21:42:18.878Z"
   },
   {
    "duration": 6,
    "start_time": "2022-03-10T21:42:18.889Z"
   },
   {
    "duration": 10,
    "start_time": "2022-03-10T21:42:18.896Z"
   },
   {
    "duration": 3,
    "start_time": "2022-03-10T21:42:18.908Z"
   },
   {
    "duration": 31,
    "start_time": "2022-03-10T21:42:18.913Z"
   },
   {
    "duration": 8,
    "start_time": "2022-03-10T21:42:18.946Z"
   },
   {
    "duration": 7,
    "start_time": "2022-03-10T21:42:18.955Z"
   },
   {
    "duration": 7,
    "start_time": "2022-03-10T21:42:18.964Z"
   },
   {
    "duration": 7,
    "start_time": "2022-03-10T21:42:18.972Z"
   },
   {
    "duration": 10,
    "start_time": "2022-03-10T21:42:18.980Z"
   },
   {
    "duration": 12,
    "start_time": "2022-03-10T21:44:21.457Z"
   },
   {
    "duration": 10,
    "start_time": "2022-03-10T21:44:45.472Z"
   },
   {
    "duration": 611,
    "start_time": "2022-03-10T21:45:02.971Z"
   },
   {
    "duration": 11,
    "start_time": "2022-03-10T21:45:03.584Z"
   },
   {
    "duration": 12,
    "start_time": "2022-03-10T21:45:03.597Z"
   },
   {
    "duration": 4,
    "start_time": "2022-03-10T21:45:03.610Z"
   },
   {
    "duration": 27,
    "start_time": "2022-03-10T21:45:03.616Z"
   },
   {
    "duration": 7,
    "start_time": "2022-03-10T21:45:03.645Z"
   },
   {
    "duration": 17,
    "start_time": "2022-03-10T21:45:03.654Z"
   },
   {
    "duration": 13,
    "start_time": "2022-03-10T21:45:03.673Z"
   },
   {
    "duration": 8,
    "start_time": "2022-03-10T21:45:03.689Z"
   },
   {
    "duration": 9,
    "start_time": "2022-03-10T21:45:03.698Z"
   },
   {
    "duration": 31,
    "start_time": "2022-03-10T21:45:03.708Z"
   },
   {
    "duration": 13,
    "start_time": "2022-03-10T21:45:03.741Z"
   },
   {
    "duration": 9,
    "start_time": "2022-03-10T21:45:03.756Z"
   },
   {
    "duration": 17,
    "start_time": "2022-03-10T21:45:51.035Z"
   },
   {
    "duration": 10,
    "start_time": "2022-03-10T21:45:52.894Z"
   },
   {
    "duration": 620,
    "start_time": "2022-03-10T21:46:00.903Z"
   },
   {
    "duration": 11,
    "start_time": "2022-03-10T21:46:01.525Z"
   },
   {
    "duration": 11,
    "start_time": "2022-03-10T21:46:01.538Z"
   },
   {
    "duration": 13,
    "start_time": "2022-03-10T21:46:01.551Z"
   },
   {
    "duration": 18,
    "start_time": "2022-03-10T21:46:01.565Z"
   },
   {
    "duration": 15,
    "start_time": "2022-03-10T21:46:01.584Z"
   },
   {
    "duration": 32,
    "start_time": "2022-03-10T21:46:01.601Z"
   },
   {
    "duration": 9,
    "start_time": "2022-03-10T21:46:01.636Z"
   },
   {
    "duration": 15,
    "start_time": "2022-03-10T21:46:01.647Z"
   },
   {
    "duration": 10,
    "start_time": "2022-03-10T21:46:01.664Z"
   },
   {
    "duration": 8,
    "start_time": "2022-03-10T21:46:01.676Z"
   },
   {
    "duration": 20,
    "start_time": "2022-03-10T21:46:01.685Z"
   },
   {
    "duration": 17,
    "start_time": "2022-03-10T21:46:01.706Z"
   },
   {
    "duration": 592,
    "start_time": "2022-03-10T21:47:48.566Z"
   },
   {
    "duration": 11,
    "start_time": "2022-03-10T21:47:49.160Z"
   },
   {
    "duration": 10,
    "start_time": "2022-03-10T21:47:49.175Z"
   },
   {
    "duration": 6,
    "start_time": "2022-03-10T21:47:49.186Z"
   },
   {
    "duration": 8,
    "start_time": "2022-03-10T21:47:49.193Z"
   },
   {
    "duration": 5,
    "start_time": "2022-03-10T21:47:49.202Z"
   },
   {
    "duration": 30,
    "start_time": "2022-03-10T21:47:49.209Z"
   },
   {
    "duration": 10,
    "start_time": "2022-03-10T21:47:49.241Z"
   },
   {
    "duration": 9,
    "start_time": "2022-03-10T21:47:49.253Z"
   },
   {
    "duration": 8,
    "start_time": "2022-03-10T21:47:49.263Z"
   },
   {
    "duration": 6,
    "start_time": "2022-03-10T21:47:49.272Z"
   },
   {
    "duration": 233,
    "start_time": "2022-03-10T21:47:49.280Z"
   },
   {
    "duration": -14167,
    "start_time": "2022-03-10T21:48:03.682Z"
   },
   {
    "duration": 628,
    "start_time": "2022-03-10T21:48:26.046Z"
   },
   {
    "duration": 10,
    "start_time": "2022-03-10T21:48:26.676Z"
   },
   {
    "duration": 13,
    "start_time": "2022-03-10T21:48:26.688Z"
   },
   {
    "duration": 4,
    "start_time": "2022-03-10T21:48:26.703Z"
   },
   {
    "duration": 9,
    "start_time": "2022-03-10T21:48:26.709Z"
   },
   {
    "duration": 3,
    "start_time": "2022-03-10T21:48:26.719Z"
   },
   {
    "duration": 20,
    "start_time": "2022-03-10T21:48:26.723Z"
   },
   {
    "duration": 7,
    "start_time": "2022-03-10T21:48:26.745Z"
   },
   {
    "duration": 7,
    "start_time": "2022-03-10T21:48:26.753Z"
   },
   {
    "duration": 13,
    "start_time": "2022-03-10T21:48:26.762Z"
   },
   {
    "duration": 6,
    "start_time": "2022-03-10T21:48:26.776Z"
   },
   {
    "duration": 59,
    "start_time": "2022-03-10T21:48:26.784Z"
   },
   {
    "duration": 9,
    "start_time": "2022-03-10T21:48:26.844Z"
   },
   {
    "duration": 650,
    "start_time": "2022-03-10T21:51:22.031Z"
   },
   {
    "duration": 10,
    "start_time": "2022-03-10T21:51:22.683Z"
   },
   {
    "duration": 9,
    "start_time": "2022-03-10T21:51:22.697Z"
   },
   {
    "duration": 6,
    "start_time": "2022-03-10T21:51:22.708Z"
   },
   {
    "duration": 25,
    "start_time": "2022-03-10T21:51:22.715Z"
   },
   {
    "duration": 8,
    "start_time": "2022-03-10T21:51:22.742Z"
   },
   {
    "duration": 13,
    "start_time": "2022-03-10T21:51:22.752Z"
   },
   {
    "duration": 9,
    "start_time": "2022-03-10T21:51:22.767Z"
   },
   {
    "duration": 9,
    "start_time": "2022-03-10T21:51:22.778Z"
   },
   {
    "duration": 10,
    "start_time": "2022-03-10T21:51:22.789Z"
   },
   {
    "duration": 42,
    "start_time": "2022-03-10T21:51:22.800Z"
   },
   {
    "duration": 41,
    "start_time": "2022-03-10T21:51:22.844Z"
   },
   {
    "duration": 11,
    "start_time": "2022-03-10T21:51:22.887Z"
   },
   {
    "duration": 640,
    "start_time": "2022-03-10T21:51:46.234Z"
   },
   {
    "duration": 10,
    "start_time": "2022-03-10T21:51:46.876Z"
   },
   {
    "duration": 11,
    "start_time": "2022-03-10T21:51:46.888Z"
   },
   {
    "duration": 3,
    "start_time": "2022-03-10T21:51:46.901Z"
   },
   {
    "duration": 11,
    "start_time": "2022-03-10T21:51:46.906Z"
   },
   {
    "duration": 20,
    "start_time": "2022-03-10T21:51:46.918Z"
   },
   {
    "duration": 16,
    "start_time": "2022-03-10T21:51:46.940Z"
   },
   {
    "duration": 7,
    "start_time": "2022-03-10T21:51:46.958Z"
   },
   {
    "duration": 7,
    "start_time": "2022-03-10T21:51:46.966Z"
   },
   {
    "duration": 7,
    "start_time": "2022-03-10T21:51:46.975Z"
   },
   {
    "duration": 6,
    "start_time": "2022-03-10T21:51:46.983Z"
   },
   {
    "duration": 72,
    "start_time": "2022-03-10T21:51:46.991Z"
   },
   {
    "duration": 9,
    "start_time": "2022-03-10T21:51:47.065Z"
   },
   {
    "duration": 11,
    "start_time": "2022-03-10T21:55:54.256Z"
   },
   {
    "duration": 11,
    "start_time": "2022-03-10T21:56:10.420Z"
   },
   {
    "duration": 11,
    "start_time": "2022-03-10T21:56:27.438Z"
   },
   {
    "duration": 584,
    "start_time": "2022-03-10T22:00:48.392Z"
   },
   {
    "duration": 12,
    "start_time": "2022-03-10T22:00:48.978Z"
   },
   {
    "duration": 10,
    "start_time": "2022-03-10T22:00:48.992Z"
   },
   {
    "duration": 4,
    "start_time": "2022-03-10T22:00:49.004Z"
   },
   {
    "duration": 31,
    "start_time": "2022-03-10T22:00:49.010Z"
   },
   {
    "duration": 4,
    "start_time": "2022-03-10T22:00:49.043Z"
   },
   {
    "duration": 11,
    "start_time": "2022-03-10T22:00:49.049Z"
   },
   {
    "duration": 8,
    "start_time": "2022-03-10T22:00:49.062Z"
   },
   {
    "duration": 9,
    "start_time": "2022-03-10T22:00:49.071Z"
   },
   {
    "duration": 9,
    "start_time": "2022-03-10T22:00:49.083Z"
   },
   {
    "duration": 47,
    "start_time": "2022-03-10T22:00:49.094Z"
   },
   {
    "duration": 43,
    "start_time": "2022-03-10T22:00:49.143Z"
   },
   {
    "duration": 9,
    "start_time": "2022-03-10T22:00:49.187Z"
   },
   {
    "duration": 11,
    "start_time": "2022-03-10T22:05:21.369Z"
   },
   {
    "duration": 582,
    "start_time": "2022-03-10T22:07:54.491Z"
   },
   {
    "duration": 10,
    "start_time": "2022-03-10T22:07:55.075Z"
   },
   {
    "duration": 11,
    "start_time": "2022-03-10T22:07:55.087Z"
   },
   {
    "duration": 5,
    "start_time": "2022-03-10T22:07:55.100Z"
   },
   {
    "duration": 9,
    "start_time": "2022-03-10T22:07:55.107Z"
   },
   {
    "duration": 21,
    "start_time": "2022-03-10T22:07:55.118Z"
   },
   {
    "duration": 10,
    "start_time": "2022-03-10T22:07:55.141Z"
   },
   {
    "duration": 7,
    "start_time": "2022-03-10T22:07:55.153Z"
   },
   {
    "duration": 7,
    "start_time": "2022-03-10T22:07:55.163Z"
   },
   {
    "duration": 9,
    "start_time": "2022-03-10T22:07:55.172Z"
   },
   {
    "duration": 9,
    "start_time": "2022-03-10T22:07:55.182Z"
   },
   {
    "duration": 81,
    "start_time": "2022-03-10T22:07:55.193Z"
   },
   {
    "duration": 9,
    "start_time": "2022-03-10T22:07:55.275Z"
   },
   {
    "duration": 14,
    "start_time": "2022-03-10T22:07:55.286Z"
   },
   {
    "duration": 716,
    "start_time": "2022-03-11T11:54:26.546Z"
   },
   {
    "duration": 7,
    "start_time": "2022-03-11T12:00:04.800Z"
   },
   {
    "duration": 362,
    "start_time": "2022-03-11T12:00:17.488Z"
   },
   {
    "duration": 2387,
    "start_time": "2022-03-11T12:00:34.232Z"
   },
   {
    "duration": 24,
    "start_time": "2022-03-11T12:02:39.431Z"
   },
   {
    "duration": 9,
    "start_time": "2022-03-11T12:04:04.909Z"
   },
   {
    "duration": 6,
    "start_time": "2022-03-11T12:04:20.133Z"
   },
   {
    "duration": 24,
    "start_time": "2022-03-11T12:04:33.774Z"
   },
   {
    "duration": 28,
    "start_time": "2022-03-11T12:04:45.294Z"
   },
   {
    "duration": 40,
    "start_time": "2022-03-11T12:05:15.877Z"
   },
   {
    "duration": 9,
    "start_time": "2022-03-11T12:05:38.553Z"
   },
   {
    "duration": 313,
    "start_time": "2022-03-11T12:05:43.256Z"
   },
   {
    "duration": 9,
    "start_time": "2022-03-11T12:05:47.891Z"
   },
   {
    "duration": 139,
    "start_time": "2022-03-11T12:22:00.423Z"
   },
   {
    "duration": 33,
    "start_time": "2022-03-11T12:22:04.978Z"
   },
   {
    "duration": 34,
    "start_time": "2022-03-11T12:22:34.503Z"
   },
   {
    "duration": 739,
    "start_time": "2022-03-11T12:31:42.154Z"
   },
   {
    "duration": 14,
    "start_time": "2022-03-11T12:31:42.896Z"
   },
   {
    "duration": 13,
    "start_time": "2022-03-11T12:31:42.912Z"
   },
   {
    "duration": 6,
    "start_time": "2022-03-11T12:31:42.927Z"
   },
   {
    "duration": 16,
    "start_time": "2022-03-11T12:31:42.935Z"
   },
   {
    "duration": 24,
    "start_time": "2022-03-11T12:31:42.953Z"
   },
   {
    "duration": 18,
    "start_time": "2022-03-11T12:31:42.979Z"
   },
   {
    "duration": 11,
    "start_time": "2022-03-11T12:31:43.000Z"
   },
   {
    "duration": 9,
    "start_time": "2022-03-11T12:31:43.014Z"
   },
   {
    "duration": 11,
    "start_time": "2022-03-11T12:31:43.024Z"
   },
   {
    "duration": 16,
    "start_time": "2022-03-11T12:31:43.036Z"
   },
   {
    "duration": 73,
    "start_time": "2022-03-11T12:31:43.053Z"
   },
   {
    "duration": 10,
    "start_time": "2022-03-11T12:31:43.128Z"
   },
   {
    "duration": 53,
    "start_time": "2022-03-11T12:31:43.139Z"
   },
   {
    "duration": 13,
    "start_time": "2022-03-11T12:31:43.194Z"
   },
   {
    "duration": 332,
    "start_time": "2022-03-11T12:38:54.456Z"
   },
   {
    "duration": 783,
    "start_time": "2022-03-11T12:40:07.795Z"
   },
   {
    "duration": 284,
    "start_time": "2022-03-11T12:41:05.623Z"
   },
   {
    "duration": 16,
    "start_time": "2022-03-11T12:41:21.843Z"
   },
   {
    "duration": 8,
    "start_time": "2022-03-11T12:44:01.833Z"
   },
   {
    "duration": 26,
    "start_time": "2022-03-11T12:44:07.225Z"
   },
   {
    "duration": 2451,
    "start_time": "2022-03-11T12:45:04.414Z"
   },
   {
    "duration": 2449,
    "start_time": "2022-03-11T12:45:07.381Z"
   },
   {
    "duration": 279,
    "start_time": "2022-03-11T12:45:48.117Z"
   },
   {
    "duration": 641,
    "start_time": "2022-03-11T12:46:39.179Z"
   },
   {
    "duration": 26,
    "start_time": "2022-03-11T12:46:48.312Z"
   },
   {
    "duration": 4,
    "start_time": "2022-03-11T12:46:55.050Z"
   },
   {
    "duration": 5,
    "start_time": "2022-03-11T12:47:07.886Z"
   },
   {
    "duration": 94,
    "start_time": "2022-03-11T12:48:17.446Z"
   },
   {
    "duration": 280,
    "start_time": "2022-03-11T12:48:31.432Z"
   },
   {
    "duration": 9,
    "start_time": "2022-03-11T12:49:41.768Z"
   },
   {
    "duration": 677,
    "start_time": "2022-03-11T12:49:52.723Z"
   },
   {
    "duration": 11,
    "start_time": "2022-03-11T12:49:53.403Z"
   },
   {
    "duration": 10,
    "start_time": "2022-03-11T12:49:53.417Z"
   },
   {
    "duration": 4,
    "start_time": "2022-03-11T12:49:53.429Z"
   },
   {
    "duration": 9,
    "start_time": "2022-03-11T12:49:53.435Z"
   },
   {
    "duration": 4,
    "start_time": "2022-03-11T12:49:53.446Z"
   },
   {
    "duration": 15,
    "start_time": "2022-03-11T12:49:53.478Z"
   },
   {
    "duration": 10,
    "start_time": "2022-03-11T12:49:53.496Z"
   },
   {
    "duration": 9,
    "start_time": "2022-03-11T12:49:53.507Z"
   },
   {
    "duration": 10,
    "start_time": "2022-03-11T12:49:53.518Z"
   },
   {
    "duration": 9,
    "start_time": "2022-03-11T12:49:53.529Z"
   },
   {
    "duration": 81,
    "start_time": "2022-03-11T12:49:53.539Z"
   },
   {
    "duration": 10,
    "start_time": "2022-03-11T12:49:53.621Z"
   },
   {
    "duration": 51,
    "start_time": "2022-03-11T12:49:53.633Z"
   },
   {
    "duration": 8,
    "start_time": "2022-03-11T12:49:53.685Z"
   },
   {
    "duration": 13,
    "start_time": "2022-03-11T12:49:53.695Z"
   },
   {
    "duration": 29,
    "start_time": "2022-03-11T12:50:10.873Z"
   },
   {
    "duration": 35,
    "start_time": "2022-03-11T12:50:34.707Z"
   },
   {
    "duration": 587,
    "start_time": "2022-03-11T12:50:56.915Z"
   },
   {
    "duration": 37,
    "start_time": "2022-03-11T12:51:01.990Z"
   },
   {
    "duration": 35,
    "start_time": "2022-03-11T12:53:14.792Z"
   },
   {
    "duration": 22,
    "start_time": "2022-03-11T12:58:59.340Z"
   },
   {
    "duration": 18,
    "start_time": "2022-03-11T12:59:49.798Z"
   },
   {
    "duration": 35,
    "start_time": "2022-03-11T13:04:30.878Z"
   },
   {
    "duration": 28,
    "start_time": "2022-03-11T13:04:39.602Z"
   },
   {
    "duration": 282,
    "start_time": "2022-03-11T13:10:21.580Z"
   },
   {
    "duration": 4,
    "start_time": "2022-03-11T13:10:42.973Z"
   },
   {
    "duration": 22,
    "start_time": "2022-03-11T13:11:23.579Z"
   },
   {
    "duration": 24,
    "start_time": "2022-03-11T13:11:30.997Z"
   },
   {
    "duration": 19,
    "start_time": "2022-03-11T13:12:50.619Z"
   },
   {
    "duration": 33,
    "start_time": "2022-03-11T13:13:32.855Z"
   },
   {
    "duration": 49,
    "start_time": "2022-03-11T13:13:43.231Z"
   },
   {
    "duration": 11,
    "start_time": "2022-03-11T13:15:04.695Z"
   },
   {
    "duration": 11,
    "start_time": "2022-03-11T13:15:33.529Z"
   },
   {
    "duration": 12,
    "start_time": "2022-03-11T13:15:41.200Z"
   },
   {
    "duration": 31,
    "start_time": "2022-03-11T13:15:58.416Z"
   },
   {
    "duration": 8,
    "start_time": "2022-03-11T13:17:24.443Z"
   },
   {
    "duration": 9,
    "start_time": "2022-03-11T13:18:00.875Z"
   },
   {
    "duration": 706,
    "start_time": "2022-03-11T13:18:11.795Z"
   },
   {
    "duration": 13,
    "start_time": "2022-03-11T13:18:12.503Z"
   },
   {
    "duration": 11,
    "start_time": "2022-03-11T13:18:12.518Z"
   },
   {
    "duration": 7,
    "start_time": "2022-03-11T13:18:12.531Z"
   },
   {
    "duration": 9,
    "start_time": "2022-03-11T13:18:12.539Z"
   },
   {
    "duration": 32,
    "start_time": "2022-03-11T13:18:12.550Z"
   },
   {
    "duration": 22,
    "start_time": "2022-03-11T13:18:12.584Z"
   },
   {
    "duration": 14,
    "start_time": "2022-03-11T13:18:12.609Z"
   },
   {
    "duration": 13,
    "start_time": "2022-03-11T13:18:12.625Z"
   },
   {
    "duration": 19,
    "start_time": "2022-03-11T13:18:12.640Z"
   },
   {
    "duration": 12,
    "start_time": "2022-03-11T13:18:12.661Z"
   },
   {
    "duration": 54,
    "start_time": "2022-03-11T13:18:12.677Z"
   },
   {
    "duration": 10,
    "start_time": "2022-03-11T13:18:12.733Z"
   },
   {
    "duration": 54,
    "start_time": "2022-03-11T13:18:12.744Z"
   },
   {
    "duration": 20,
    "start_time": "2022-03-11T13:18:12.800Z"
   },
   {
    "duration": 20,
    "start_time": "2022-03-11T13:18:12.822Z"
   },
   {
    "duration": 36,
    "start_time": "2022-03-11T13:18:12.843Z"
   },
   {
    "duration": 15,
    "start_time": "2022-03-11T13:18:12.881Z"
   },
   {
    "duration": 335,
    "start_time": "2022-03-11T13:19:22.716Z"
   },
   {
    "duration": 762,
    "start_time": "2022-03-11T13:20:50.453Z"
   },
   {
    "duration": 12,
    "start_time": "2022-03-11T13:20:51.217Z"
   },
   {
    "duration": 24,
    "start_time": "2022-03-11T13:20:51.231Z"
   },
   {
    "duration": 11,
    "start_time": "2022-03-11T13:20:51.257Z"
   },
   {
    "duration": 15,
    "start_time": "2022-03-11T13:20:51.270Z"
   },
   {
    "duration": 7,
    "start_time": "2022-03-11T13:20:51.287Z"
   },
   {
    "duration": 21,
    "start_time": "2022-03-11T13:20:51.297Z"
   },
   {
    "duration": 32,
    "start_time": "2022-03-11T13:20:51.322Z"
   },
   {
    "duration": 21,
    "start_time": "2022-03-11T13:20:51.357Z"
   },
   {
    "duration": 28,
    "start_time": "2022-03-11T13:20:51.380Z"
   },
   {
    "duration": 18,
    "start_time": "2022-03-11T13:20:51.410Z"
   },
   {
    "duration": 52,
    "start_time": "2022-03-11T13:20:51.429Z"
   },
   {
    "duration": 10,
    "start_time": "2022-03-11T13:20:51.482Z"
   },
   {
    "duration": 38,
    "start_time": "2022-03-11T13:20:51.493Z"
   },
   {
    "duration": 18,
    "start_time": "2022-03-11T13:20:51.533Z"
   },
   {
    "duration": 43,
    "start_time": "2022-03-11T13:20:51.553Z"
   },
   {
    "duration": 10,
    "start_time": "2022-03-11T13:20:51.597Z"
   },
   {
    "duration": 32,
    "start_time": "2022-03-11T13:20:51.608Z"
   },
   {
    "duration": 657,
    "start_time": "2022-03-11T13:48:31.537Z"
   },
   {
    "duration": 12,
    "start_time": "2022-03-11T13:48:32.196Z"
   },
   {
    "duration": 15,
    "start_time": "2022-03-11T13:48:32.210Z"
   },
   {
    "duration": 7,
    "start_time": "2022-03-11T13:48:32.227Z"
   },
   {
    "duration": 17,
    "start_time": "2022-03-11T13:48:32.235Z"
   },
   {
    "duration": 5,
    "start_time": "2022-03-11T13:48:32.254Z"
   },
   {
    "duration": 20,
    "start_time": "2022-03-11T13:48:32.261Z"
   },
   {
    "duration": 10,
    "start_time": "2022-03-11T13:48:32.283Z"
   },
   {
    "duration": 15,
    "start_time": "2022-03-11T13:48:32.296Z"
   },
   {
    "duration": 11,
    "start_time": "2022-03-11T13:48:32.313Z"
   },
   {
    "duration": 9,
    "start_time": "2022-03-11T13:48:32.326Z"
   },
   {
    "duration": 79,
    "start_time": "2022-03-11T13:48:32.337Z"
   },
   {
    "duration": 12,
    "start_time": "2022-03-11T13:48:32.418Z"
   },
   {
    "duration": 55,
    "start_time": "2022-03-11T13:48:32.432Z"
   },
   {
    "duration": 21,
    "start_time": "2022-03-11T13:48:32.489Z"
   },
   {
    "duration": 24,
    "start_time": "2022-03-11T13:48:32.512Z"
   },
   {
    "duration": 61,
    "start_time": "2022-03-11T13:48:32.538Z"
   },
   {
    "duration": 83,
    "start_time": "2022-03-11T13:48:32.601Z"
   },
   {
    "duration": 699,
    "start_time": "2022-03-11T13:48:31.987Z"
   },
   {
    "duration": 11,
    "start_time": "2022-03-11T13:49:25.167Z"
   },
   {
    "duration": 21,
    "start_time": "2022-03-11T13:49:25.536Z"
   },
   {
    "duration": 10,
    "start_time": "2022-03-11T13:49:28.091Z"
   },
   {
    "duration": 12,
    "start_time": "2022-03-11T13:49:58.445Z"
   },
   {
    "duration": 718,
    "start_time": "2022-03-11T13:52:24.713Z"
   },
   {
    "duration": 12,
    "start_time": "2022-03-11T13:52:25.432Z"
   },
   {
    "duration": 10,
    "start_time": "2022-03-11T13:52:25.446Z"
   },
   {
    "duration": 19,
    "start_time": "2022-03-11T13:52:25.458Z"
   },
   {
    "duration": 10,
    "start_time": "2022-03-11T13:52:25.480Z"
   },
   {
    "duration": 4,
    "start_time": "2022-03-11T13:52:25.493Z"
   },
   {
    "duration": 13,
    "start_time": "2022-03-11T13:52:25.499Z"
   },
   {
    "duration": 8,
    "start_time": "2022-03-11T13:52:25.515Z"
   },
   {
    "duration": 8,
    "start_time": "2022-03-11T13:52:25.525Z"
   },
   {
    "duration": 50,
    "start_time": "2022-03-11T13:52:25.535Z"
   },
   {
    "duration": 11,
    "start_time": "2022-03-11T13:52:25.587Z"
   },
   {
    "duration": 50,
    "start_time": "2022-03-11T13:52:25.600Z"
   },
   {
    "duration": 29,
    "start_time": "2022-03-11T13:52:25.652Z"
   },
   {
    "duration": 36,
    "start_time": "2022-03-11T13:52:25.683Z"
   },
   {
    "duration": 19,
    "start_time": "2022-03-11T13:52:25.721Z"
   },
   {
    "duration": 48,
    "start_time": "2022-03-11T13:52:25.742Z"
   },
   {
    "duration": 18,
    "start_time": "2022-03-11T13:52:25.792Z"
   },
   {
    "duration": 2,
    "start_time": "2022-03-11T13:52:25.812Z"
   },
   {
    "duration": 18,
    "start_time": "2022-03-11T13:52:25.816Z"
   },
   {
    "duration": 690,
    "start_time": "2022-03-11T14:41:13.733Z"
   },
   {
    "duration": 14,
    "start_time": "2022-03-11T14:41:14.426Z"
   },
   {
    "duration": 12,
    "start_time": "2022-03-11T14:41:14.443Z"
   },
   {
    "duration": 5,
    "start_time": "2022-03-11T14:41:14.479Z"
   },
   {
    "duration": 12,
    "start_time": "2022-03-11T14:41:14.487Z"
   },
   {
    "duration": 5,
    "start_time": "2022-03-11T14:41:14.501Z"
   },
   {
    "duration": 16,
    "start_time": "2022-03-11T14:41:14.508Z"
   },
   {
    "duration": 9,
    "start_time": "2022-03-11T14:41:14.527Z"
   },
   {
    "duration": 44,
    "start_time": "2022-03-11T14:41:14.540Z"
   },
   {
    "duration": 12,
    "start_time": "2022-03-11T14:41:14.586Z"
   },
   {
    "duration": 18,
    "start_time": "2022-03-11T14:41:14.601Z"
   },
   {
    "duration": 97,
    "start_time": "2022-03-11T14:41:14.621Z"
   },
   {
    "duration": 10,
    "start_time": "2022-03-11T14:41:14.720Z"
   },
   {
    "duration": 46,
    "start_time": "2022-03-11T14:41:14.732Z"
   },
   {
    "duration": 19,
    "start_time": "2022-03-11T14:41:14.781Z"
   },
   {
    "duration": 22,
    "start_time": "2022-03-11T14:41:14.802Z"
   },
   {
    "duration": 20,
    "start_time": "2022-03-11T14:41:14.826Z"
   },
   {
    "duration": 37,
    "start_time": "2022-03-11T14:41:14.848Z"
   },
   {
    "duration": 12,
    "start_time": "2022-03-11T14:41:14.887Z"
   },
   {
    "duration": 370,
    "start_time": "2022-03-11T14:42:25.089Z"
   },
   {
    "duration": 95,
    "start_time": "2022-03-11T14:43:24.227Z"
   },
   {
    "duration": 257,
    "start_time": "2022-03-11T14:43:29.634Z"
   },
   {
    "duration": 9,
    "start_time": "2022-03-11T14:43:38.987Z"
   },
   {
    "duration": 28,
    "start_time": "2022-03-11T14:43:52.282Z"
   },
   {
    "duration": 92,
    "start_time": "2022-03-11T14:46:23.998Z"
   },
   {
    "duration": 8,
    "start_time": "2022-03-11T14:46:29.528Z"
   },
   {
    "duration": 13,
    "start_time": "2022-03-11T14:46:58.492Z"
   },
   {
    "duration": 7,
    "start_time": "2022-03-11T14:47:01.557Z"
   },
   {
    "duration": 9,
    "start_time": "2022-03-11T14:47:12.844Z"
   },
   {
    "duration": 804,
    "start_time": "2022-03-11T14:47:36.949Z"
   },
   {
    "duration": 13,
    "start_time": "2022-03-11T14:47:37.756Z"
   },
   {
    "duration": 11,
    "start_time": "2022-03-11T14:47:37.771Z"
   },
   {
    "duration": 6,
    "start_time": "2022-03-11T14:47:37.784Z"
   },
   {
    "duration": 11,
    "start_time": "2022-03-11T14:47:37.792Z"
   },
   {
    "duration": 8,
    "start_time": "2022-03-11T14:47:37.804Z"
   },
   {
    "duration": 10,
    "start_time": "2022-03-11T14:47:37.813Z"
   },
   {
    "duration": 9,
    "start_time": "2022-03-11T14:47:37.826Z"
   },
   {
    "duration": 14,
    "start_time": "2022-03-11T14:47:37.837Z"
   },
   {
    "duration": 32,
    "start_time": "2022-03-11T14:47:37.852Z"
   },
   {
    "duration": 8,
    "start_time": "2022-03-11T14:47:37.885Z"
   },
   {
    "duration": 49,
    "start_time": "2022-03-11T14:47:37.895Z"
   },
   {
    "duration": 9,
    "start_time": "2022-03-11T14:47:37.946Z"
   },
   {
    "duration": 32,
    "start_time": "2022-03-11T14:47:37.978Z"
   },
   {
    "duration": 19,
    "start_time": "2022-03-11T14:47:38.012Z"
   },
   {
    "duration": 46,
    "start_time": "2022-03-11T14:47:38.033Z"
   },
   {
    "duration": 16,
    "start_time": "2022-03-11T14:47:38.080Z"
   },
   {
    "duration": 10,
    "start_time": "2022-03-11T14:47:38.098Z"
   },
   {
    "duration": 8,
    "start_time": "2022-03-11T14:47:38.110Z"
   },
   {
    "duration": 9,
    "start_time": "2022-03-11T14:47:38.120Z"
   },
   {
    "duration": 15,
    "start_time": "2022-03-11T14:47:38.131Z"
   },
   {
    "duration": 334,
    "start_time": "2022-03-11T14:48:34.048Z"
   },
   {
    "duration": 4,
    "start_time": "2022-03-11T14:54:48.087Z"
   },
   {
    "duration": 10,
    "start_time": "2022-03-11T14:54:50.271Z"
   },
   {
    "duration": 4,
    "start_time": "2022-03-11T14:54:52.464Z"
   },
   {
    "duration": 7,
    "start_time": "2022-03-11T14:54:54.457Z"
   },
   {
    "duration": 695,
    "start_time": "2022-03-11T14:55:42.726Z"
   },
   {
    "duration": 13,
    "start_time": "2022-03-11T14:55:43.423Z"
   },
   {
    "duration": 11,
    "start_time": "2022-03-11T14:55:43.438Z"
   },
   {
    "duration": 4,
    "start_time": "2022-03-11T14:55:43.451Z"
   },
   {
    "duration": 24,
    "start_time": "2022-03-11T14:55:43.457Z"
   },
   {
    "duration": 8,
    "start_time": "2022-03-11T14:55:43.482Z"
   },
   {
    "duration": 11,
    "start_time": "2022-03-11T14:55:43.493Z"
   },
   {
    "duration": 9,
    "start_time": "2022-03-11T14:55:43.506Z"
   },
   {
    "duration": 9,
    "start_time": "2022-03-11T14:55:43.518Z"
   },
   {
    "duration": 14,
    "start_time": "2022-03-11T14:55:43.529Z"
   },
   {
    "duration": 39,
    "start_time": "2022-03-11T14:55:43.545Z"
   },
   {
    "duration": 51,
    "start_time": "2022-03-11T14:55:43.585Z"
   },
   {
    "duration": 10,
    "start_time": "2022-03-11T14:55:43.638Z"
   },
   {
    "duration": 60,
    "start_time": "2022-03-11T14:55:43.650Z"
   },
   {
    "duration": 21,
    "start_time": "2022-03-11T14:55:43.712Z"
   },
   {
    "duration": 50,
    "start_time": "2022-03-11T14:55:43.735Z"
   },
   {
    "duration": 15,
    "start_time": "2022-03-11T14:55:43.787Z"
   },
   {
    "duration": 11,
    "start_time": "2022-03-11T14:55:43.803Z"
   },
   {
    "duration": 4,
    "start_time": "2022-03-11T14:55:43.816Z"
   },
   {
    "duration": 15,
    "start_time": "2022-03-11T14:55:43.822Z"
   },
   {
    "duration": 39,
    "start_time": "2022-03-11T14:55:43.839Z"
   },
   {
    "duration": 7,
    "start_time": "2022-03-11T14:56:02.556Z"
   },
   {
    "duration": 6,
    "start_time": "2022-03-11T14:56:56.271Z"
   },
   {
    "duration": 5,
    "start_time": "2022-03-11T15:00:17.288Z"
   },
   {
    "duration": 732,
    "start_time": "2022-03-11T15:00:31.669Z"
   },
   {
    "duration": 13,
    "start_time": "2022-03-11T15:00:32.403Z"
   },
   {
    "duration": 27,
    "start_time": "2022-03-11T15:00:32.419Z"
   },
   {
    "duration": 29,
    "start_time": "2022-03-11T15:00:32.448Z"
   },
   {
    "duration": 34,
    "start_time": "2022-03-11T15:00:32.480Z"
   },
   {
    "duration": 15,
    "start_time": "2022-03-11T15:00:32.517Z"
   },
   {
    "duration": 22,
    "start_time": "2022-03-11T15:00:32.534Z"
   },
   {
    "duration": 30,
    "start_time": "2022-03-11T15:00:32.558Z"
   },
   {
    "duration": 33,
    "start_time": "2022-03-11T15:00:32.590Z"
   },
   {
    "duration": 19,
    "start_time": "2022-03-11T15:00:32.624Z"
   },
   {
    "duration": 10,
    "start_time": "2022-03-11T15:00:32.645Z"
   },
   {
    "duration": 57,
    "start_time": "2022-03-11T15:00:32.656Z"
   },
   {
    "duration": 10,
    "start_time": "2022-03-11T15:00:32.715Z"
   },
   {
    "duration": 40,
    "start_time": "2022-03-11T15:00:32.727Z"
   },
   {
    "duration": 19,
    "start_time": "2022-03-11T15:00:32.778Z"
   },
   {
    "duration": 22,
    "start_time": "2022-03-11T15:00:32.799Z"
   },
   {
    "duration": 41,
    "start_time": "2022-03-11T15:00:32.823Z"
   },
   {
    "duration": 20,
    "start_time": "2022-03-11T15:00:32.866Z"
   },
   {
    "duration": 15,
    "start_time": "2022-03-11T15:00:32.888Z"
   },
   {
    "duration": 16,
    "start_time": "2022-03-11T15:00:32.905Z"
   },
   {
    "duration": 27,
    "start_time": "2022-03-11T15:00:32.923Z"
   },
   {
    "duration": 7,
    "start_time": "2022-03-11T15:03:09.228Z"
   },
   {
    "duration": 14,
    "start_time": "2022-03-11T15:03:12.848Z"
   },
   {
    "duration": 6,
    "start_time": "2022-03-11T15:03:14.861Z"
   },
   {
    "duration": 6,
    "start_time": "2022-03-11T15:03:16.646Z"
   },
   {
    "duration": 710,
    "start_time": "2022-03-11T15:03:42.345Z"
   },
   {
    "duration": 13,
    "start_time": "2022-03-11T15:03:43.056Z"
   },
   {
    "duration": 15,
    "start_time": "2022-03-11T15:03:43.071Z"
   },
   {
    "duration": 12,
    "start_time": "2022-03-11T15:03:43.088Z"
   },
   {
    "duration": 16,
    "start_time": "2022-03-11T15:03:43.101Z"
   },
   {
    "duration": 9,
    "start_time": "2022-03-11T15:03:43.119Z"
   },
   {
    "duration": 22,
    "start_time": "2022-03-11T15:03:43.130Z"
   },
   {
    "duration": 12,
    "start_time": "2022-03-11T15:03:43.155Z"
   },
   {
    "duration": 15,
    "start_time": "2022-03-11T15:03:43.169Z"
   },
   {
    "duration": 14,
    "start_time": "2022-03-11T15:03:43.186Z"
   },
   {
    "duration": 12,
    "start_time": "2022-03-11T15:03:43.202Z"
   },
   {
    "duration": 61,
    "start_time": "2022-03-11T15:03:43.216Z"
   },
   {
    "duration": 10,
    "start_time": "2022-03-11T15:03:43.279Z"
   },
   {
    "duration": 37,
    "start_time": "2022-03-11T15:03:43.291Z"
   },
   {
    "duration": 19,
    "start_time": "2022-03-11T15:03:43.329Z"
   },
   {
    "duration": 48,
    "start_time": "2022-03-11T15:03:43.350Z"
   },
   {
    "duration": 30,
    "start_time": "2022-03-11T15:03:43.400Z"
   },
   {
    "duration": 11,
    "start_time": "2022-03-11T15:03:43.432Z"
   },
   {
    "duration": 13,
    "start_time": "2022-03-11T15:03:43.445Z"
   },
   {
    "duration": 20,
    "start_time": "2022-03-11T15:03:43.460Z"
   },
   {
    "duration": 14,
    "start_time": "2022-03-11T15:03:43.482Z"
   },
   {
    "duration": 702,
    "start_time": "2022-03-11T15:07:56.096Z"
   },
   {
    "duration": 12,
    "start_time": "2022-03-11T15:07:56.800Z"
   },
   {
    "duration": 12,
    "start_time": "2022-03-11T15:07:56.815Z"
   },
   {
    "duration": 7,
    "start_time": "2022-03-11T15:07:56.829Z"
   },
   {
    "duration": 9,
    "start_time": "2022-03-11T15:07:56.838Z"
   },
   {
    "duration": 3,
    "start_time": "2022-03-11T15:07:56.849Z"
   },
   {
    "duration": 26,
    "start_time": "2022-03-11T15:07:56.854Z"
   },
   {
    "duration": 26,
    "start_time": "2022-03-11T15:07:56.882Z"
   },
   {
    "duration": 14,
    "start_time": "2022-03-11T15:07:56.911Z"
   },
   {
    "duration": 9,
    "start_time": "2022-03-11T15:07:56.927Z"
   },
   {
    "duration": 8,
    "start_time": "2022-03-11T15:07:56.938Z"
   },
   {
    "duration": 66,
    "start_time": "2022-03-11T15:07:56.948Z"
   },
   {
    "duration": 10,
    "start_time": "2022-03-11T15:07:57.016Z"
   },
   {
    "duration": 51,
    "start_time": "2022-03-11T15:07:57.027Z"
   },
   {
    "duration": 19,
    "start_time": "2022-03-11T15:07:57.080Z"
   },
   {
    "duration": 21,
    "start_time": "2022-03-11T15:07:57.101Z"
   },
   {
    "duration": 17,
    "start_time": "2022-03-11T15:07:57.124Z"
   },
   {
    "duration": 35,
    "start_time": "2022-03-11T15:07:57.143Z"
   },
   {
    "duration": 7,
    "start_time": "2022-03-11T15:07:57.180Z"
   },
   {
    "duration": 8,
    "start_time": "2022-03-11T15:07:57.188Z"
   },
   {
    "duration": 1150,
    "start_time": "2022-03-11T15:07:57.198Z"
   },
   {
    "duration": 693,
    "start_time": "2022-03-11T15:07:57.657Z"
   },
   {
    "duration": 740,
    "start_time": "2022-03-11T15:09:13.452Z"
   },
   {
    "duration": 13,
    "start_time": "2022-03-11T15:09:14.194Z"
   },
   {
    "duration": 10,
    "start_time": "2022-03-11T15:09:14.210Z"
   },
   {
    "duration": 5,
    "start_time": "2022-03-11T15:09:14.222Z"
   },
   {
    "duration": 11,
    "start_time": "2022-03-11T15:09:14.228Z"
   },
   {
    "duration": 4,
    "start_time": "2022-03-11T15:09:14.241Z"
   },
   {
    "duration": 37,
    "start_time": "2022-03-11T15:09:14.246Z"
   },
   {
    "duration": 8,
    "start_time": "2022-03-11T15:09:14.285Z"
   },
   {
    "duration": 8,
    "start_time": "2022-03-11T15:09:14.296Z"
   },
   {
    "duration": 9,
    "start_time": "2022-03-11T15:09:14.306Z"
   },
   {
    "duration": 9,
    "start_time": "2022-03-11T15:09:14.317Z"
   },
   {
    "duration": 86,
    "start_time": "2022-03-11T15:09:14.327Z"
   },
   {
    "duration": 9,
    "start_time": "2022-03-11T15:09:14.415Z"
   },
   {
    "duration": 33,
    "start_time": "2022-03-11T15:09:14.426Z"
   },
   {
    "duration": 32,
    "start_time": "2022-03-11T15:09:14.461Z"
   },
   {
    "duration": 21,
    "start_time": "2022-03-11T15:09:14.495Z"
   },
   {
    "duration": 18,
    "start_time": "2022-03-11T15:09:14.517Z"
   },
   {
    "duration": 45,
    "start_time": "2022-03-11T15:09:14.537Z"
   },
   {
    "duration": 8,
    "start_time": "2022-03-11T15:09:14.584Z"
   },
   {
    "duration": 7,
    "start_time": "2022-03-11T15:09:14.594Z"
   },
   {
    "duration": 1113,
    "start_time": "2022-03-11T15:09:14.602Z"
   },
   {
    "duration": 840,
    "start_time": "2022-03-11T15:09:14.877Z"
   },
   {
    "duration": 705,
    "start_time": "2022-03-11T15:11:38.771Z"
   },
   {
    "duration": 11,
    "start_time": "2022-03-11T15:11:39.479Z"
   },
   {
    "duration": 11,
    "start_time": "2022-03-11T15:11:39.492Z"
   },
   {
    "duration": 8,
    "start_time": "2022-03-11T15:11:39.504Z"
   },
   {
    "duration": 14,
    "start_time": "2022-03-11T15:11:39.514Z"
   },
   {
    "duration": 4,
    "start_time": "2022-03-11T15:11:39.530Z"
   },
   {
    "duration": 23,
    "start_time": "2022-03-11T15:11:39.536Z"
   },
   {
    "duration": 21,
    "start_time": "2022-03-11T15:11:39.562Z"
   },
   {
    "duration": 9,
    "start_time": "2022-03-11T15:11:39.585Z"
   },
   {
    "duration": 13,
    "start_time": "2022-03-11T15:11:39.596Z"
   },
   {
    "duration": 12,
    "start_time": "2022-03-11T15:11:39.611Z"
   },
   {
    "duration": 73,
    "start_time": "2022-03-11T15:11:39.625Z"
   },
   {
    "duration": 10,
    "start_time": "2022-03-11T15:11:39.699Z"
   },
   {
    "duration": 32,
    "start_time": "2022-03-11T15:11:39.711Z"
   },
   {
    "duration": 45,
    "start_time": "2022-03-11T15:11:39.745Z"
   },
   {
    "duration": 22,
    "start_time": "2022-03-11T15:11:39.792Z"
   },
   {
    "duration": 13,
    "start_time": "2022-03-11T15:11:39.815Z"
   },
   {
    "duration": 10,
    "start_time": "2022-03-11T15:11:39.830Z"
   },
   {
    "duration": 5,
    "start_time": "2022-03-11T15:11:39.842Z"
   },
   {
    "duration": 5,
    "start_time": "2022-03-11T15:11:39.878Z"
   },
   {
    "duration": 1078,
    "start_time": "2022-03-11T15:11:39.885Z"
   },
   {
    "duration": 772,
    "start_time": "2022-03-11T15:11:40.193Z"
   },
   {
    "duration": 25,
    "start_time": "2022-03-11T15:12:53.211Z"
   },
   {
    "duration": 133,
    "start_time": "2022-03-11T15:14:19.267Z"
   },
   {
    "duration": 1025,
    "start_time": "2022-03-11T15:14:24.522Z"
   },
   {
    "duration": 1171,
    "start_time": "2022-03-11T15:16:01.530Z"
   },
   {
    "duration": 674,
    "start_time": "2022-03-11T15:17:24.804Z"
   },
   {
    "duration": 11,
    "start_time": "2022-03-11T15:17:25.481Z"
   },
   {
    "duration": 21,
    "start_time": "2022-03-11T15:17:25.494Z"
   },
   {
    "duration": 16,
    "start_time": "2022-03-11T15:17:25.517Z"
   },
   {
    "duration": 22,
    "start_time": "2022-03-11T15:17:25.535Z"
   },
   {
    "duration": 10,
    "start_time": "2022-03-11T15:17:25.559Z"
   },
   {
    "duration": 15,
    "start_time": "2022-03-11T15:17:25.571Z"
   },
   {
    "duration": 24,
    "start_time": "2022-03-11T15:17:25.589Z"
   },
   {
    "duration": 17,
    "start_time": "2022-03-11T15:17:25.615Z"
   },
   {
    "duration": 20,
    "start_time": "2022-03-11T15:17:25.634Z"
   },
   {
    "duration": 8,
    "start_time": "2022-03-11T15:17:25.655Z"
   },
   {
    "duration": 57,
    "start_time": "2022-03-11T15:17:25.665Z"
   },
   {
    "duration": 10,
    "start_time": "2022-03-11T15:17:25.724Z"
   },
   {
    "duration": 18,
    "start_time": "2022-03-11T15:17:25.735Z"
   },
   {
    "duration": 35,
    "start_time": "2022-03-11T15:17:25.755Z"
   },
   {
    "duration": 20,
    "start_time": "2022-03-11T15:17:25.792Z"
   },
   {
    "duration": 13,
    "start_time": "2022-03-11T15:17:25.814Z"
   },
   {
    "duration": 20,
    "start_time": "2022-03-11T15:17:25.829Z"
   },
   {
    "duration": 20,
    "start_time": "2022-03-11T15:17:25.851Z"
   },
   {
    "duration": 1097,
    "start_time": "2022-03-11T15:17:25.872Z"
   },
   {
    "duration": 634,
    "start_time": "2022-03-11T15:17:26.337Z"
   },
   {
    "duration": 19,
    "start_time": "2022-03-11T15:17:53.998Z"
   },
   {
    "duration": 13,
    "start_time": "2022-03-11T15:24:32.171Z"
   },
   {
    "duration": 737,
    "start_time": "2022-03-11T15:24:50.743Z"
   },
   {
    "duration": 13,
    "start_time": "2022-03-11T15:24:51.482Z"
   },
   {
    "duration": 10,
    "start_time": "2022-03-11T15:24:51.497Z"
   },
   {
    "duration": 7,
    "start_time": "2022-03-11T15:24:51.509Z"
   },
   {
    "duration": 9,
    "start_time": "2022-03-11T15:24:51.518Z"
   },
   {
    "duration": 6,
    "start_time": "2022-03-11T15:24:51.529Z"
   },
   {
    "duration": 41,
    "start_time": "2022-03-11T15:24:51.537Z"
   },
   {
    "duration": 9,
    "start_time": "2022-03-11T15:24:51.582Z"
   },
   {
    "duration": 12,
    "start_time": "2022-03-11T15:24:51.593Z"
   },
   {
    "duration": 12,
    "start_time": "2022-03-11T15:24:51.607Z"
   },
   {
    "duration": 11,
    "start_time": "2022-03-11T15:24:51.621Z"
   },
   {
    "duration": 81,
    "start_time": "2022-03-11T15:24:51.634Z"
   },
   {
    "duration": 10,
    "start_time": "2022-03-11T15:24:51.717Z"
   },
   {
    "duration": 25,
    "start_time": "2022-03-11T15:24:51.729Z"
   },
   {
    "duration": 35,
    "start_time": "2022-03-11T15:24:51.756Z"
   },
   {
    "duration": 13,
    "start_time": "2022-03-11T15:24:51.793Z"
   },
   {
    "duration": 10,
    "start_time": "2022-03-11T15:24:51.807Z"
   },
   {
    "duration": 6,
    "start_time": "2022-03-11T15:24:51.819Z"
   },
   {
    "duration": 12,
    "start_time": "2022-03-11T15:24:51.827Z"
   },
   {
    "duration": 43,
    "start_time": "2022-03-11T15:24:51.841Z"
   },
   {
    "duration": 12,
    "start_time": "2022-03-11T15:24:51.886Z"
   },
   {
    "duration": 17,
    "start_time": "2022-03-11T15:26:19.505Z"
   },
   {
    "duration": 9,
    "start_time": "2022-03-11T15:28:42.926Z"
   },
   {
    "duration": 11,
    "start_time": "2022-03-11T15:29:29.370Z"
   },
   {
    "duration": 819,
    "start_time": "2022-03-11T15:29:45.033Z"
   },
   {
    "duration": 319,
    "start_time": "2022-03-11T15:29:53.874Z"
   },
   {
    "duration": 289,
    "start_time": "2022-03-11T15:29:56.283Z"
   },
   {
    "duration": 10,
    "start_time": "2022-03-11T15:31:29.503Z"
   },
   {
    "duration": 10,
    "start_time": "2022-03-11T15:31:42.486Z"
   },
   {
    "duration": 16,
    "start_time": "2022-03-11T15:32:16.139Z"
   },
   {
    "duration": 16,
    "start_time": "2022-03-11T15:32:38.663Z"
   },
   {
    "duration": 18,
    "start_time": "2022-03-11T15:33:02.584Z"
   },
   {
    "duration": 696,
    "start_time": "2022-03-11T15:33:11.502Z"
   },
   {
    "duration": 12,
    "start_time": "2022-03-11T15:33:12.200Z"
   },
   {
    "duration": 12,
    "start_time": "2022-03-11T15:33:12.214Z"
   },
   {
    "duration": 9,
    "start_time": "2022-03-11T15:33:12.228Z"
   },
   {
    "duration": 8,
    "start_time": "2022-03-11T15:33:12.239Z"
   },
   {
    "duration": 4,
    "start_time": "2022-03-11T15:33:12.249Z"
   },
   {
    "duration": 33,
    "start_time": "2022-03-11T15:33:12.254Z"
   },
   {
    "duration": 9,
    "start_time": "2022-03-11T15:33:12.291Z"
   },
   {
    "duration": 10,
    "start_time": "2022-03-11T15:33:12.302Z"
   },
   {
    "duration": 9,
    "start_time": "2022-03-11T15:33:12.314Z"
   },
   {
    "duration": 7,
    "start_time": "2022-03-11T15:33:12.325Z"
   },
   {
    "duration": 52,
    "start_time": "2022-03-11T15:33:12.377Z"
   },
   {
    "duration": 10,
    "start_time": "2022-03-11T15:33:12.431Z"
   },
   {
    "duration": 41,
    "start_time": "2022-03-11T15:33:12.443Z"
   },
   {
    "duration": 19,
    "start_time": "2022-03-11T15:33:12.486Z"
   },
   {
    "duration": 16,
    "start_time": "2022-03-11T15:33:12.506Z"
   },
   {
    "duration": 12,
    "start_time": "2022-03-11T15:33:12.524Z"
   },
   {
    "duration": 6,
    "start_time": "2022-03-11T15:33:12.537Z"
   },
   {
    "duration": 36,
    "start_time": "2022-03-11T15:33:12.545Z"
   },
   {
    "duration": 17,
    "start_time": "2022-03-11T15:33:12.582Z"
   },
   {
    "duration": 17,
    "start_time": "2022-03-11T15:33:12.601Z"
   },
   {
    "duration": 11,
    "start_time": "2022-03-11T15:33:12.620Z"
   },
   {
    "duration": 749,
    "start_time": "2022-03-11T15:36:07.854Z"
   },
   {
    "duration": 11,
    "start_time": "2022-03-11T15:36:08.605Z"
   },
   {
    "duration": 11,
    "start_time": "2022-03-11T15:36:08.618Z"
   },
   {
    "duration": 4,
    "start_time": "2022-03-11T15:36:08.631Z"
   },
   {
    "duration": 8,
    "start_time": "2022-03-11T15:36:08.637Z"
   },
   {
    "duration": 4,
    "start_time": "2022-03-11T15:36:08.647Z"
   },
   {
    "duration": 12,
    "start_time": "2022-03-11T15:36:08.652Z"
   },
   {
    "duration": 8,
    "start_time": "2022-03-11T15:36:08.679Z"
   },
   {
    "duration": 9,
    "start_time": "2022-03-11T15:36:08.689Z"
   },
   {
    "duration": 9,
    "start_time": "2022-03-11T15:36:08.700Z"
   },
   {
    "duration": 8,
    "start_time": "2022-03-11T15:36:08.710Z"
   },
   {
    "duration": 72,
    "start_time": "2022-03-11T15:36:08.719Z"
   },
   {
    "duration": 10,
    "start_time": "2022-03-11T15:36:08.793Z"
   },
   {
    "duration": 17,
    "start_time": "2022-03-11T15:36:08.805Z"
   },
   {
    "duration": 21,
    "start_time": "2022-03-11T15:36:08.824Z"
   },
   {
    "duration": 38,
    "start_time": "2022-03-11T15:36:08.846Z"
   },
   {
    "duration": 10,
    "start_time": "2022-03-11T15:36:08.886Z"
   },
   {
    "duration": 6,
    "start_time": "2022-03-11T15:36:08.898Z"
   },
   {
    "duration": 9,
    "start_time": "2022-03-11T15:36:08.906Z"
   },
   {
    "duration": 28,
    "start_time": "2022-03-11T15:36:08.917Z"
   },
   {
    "duration": 24,
    "start_time": "2022-03-11T15:36:08.947Z"
   },
   {
    "duration": 14,
    "start_time": "2022-03-11T15:36:08.973Z"
   },
   {
    "duration": 743,
    "start_time": "2022-03-11T16:09:17.150Z"
   },
   {
    "duration": 13,
    "start_time": "2022-03-11T16:09:17.896Z"
   },
   {
    "duration": 16,
    "start_time": "2022-03-11T16:09:17.911Z"
   },
   {
    "duration": 8,
    "start_time": "2022-03-11T16:09:17.930Z"
   },
   {
    "duration": 15,
    "start_time": "2022-03-11T16:09:17.939Z"
   },
   {
    "duration": 21,
    "start_time": "2022-03-11T16:09:17.956Z"
   },
   {
    "duration": 55,
    "start_time": "2022-03-11T16:09:17.979Z"
   },
   {
    "duration": 8,
    "start_time": "2022-03-11T16:09:18.036Z"
   },
   {
    "duration": 10,
    "start_time": "2022-03-11T16:09:18.048Z"
   },
   {
    "duration": 18,
    "start_time": "2022-03-11T16:09:18.060Z"
   },
   {
    "duration": 11,
    "start_time": "2022-03-11T16:09:18.080Z"
   },
   {
    "duration": 59,
    "start_time": "2022-03-11T16:09:18.093Z"
   },
   {
    "duration": 10,
    "start_time": "2022-03-11T16:09:18.154Z"
   },
   {
    "duration": 18,
    "start_time": "2022-03-11T16:09:18.177Z"
   },
   {
    "duration": 21,
    "start_time": "2022-03-11T16:09:18.197Z"
   },
   {
    "duration": 13,
    "start_time": "2022-03-11T16:09:18.220Z"
   },
   {
    "duration": 43,
    "start_time": "2022-03-11T16:09:18.235Z"
   },
   {
    "duration": 6,
    "start_time": "2022-03-11T16:09:18.280Z"
   },
   {
    "duration": 8,
    "start_time": "2022-03-11T16:09:18.288Z"
   },
   {
    "duration": 18,
    "start_time": "2022-03-11T16:09:18.298Z"
   },
   {
    "duration": 15,
    "start_time": "2022-03-11T16:09:18.318Z"
   },
   {
    "duration": 46,
    "start_time": "2022-03-11T16:09:18.335Z"
   },
   {
    "duration": 722,
    "start_time": "2022-03-11T16:14:14.799Z"
   },
   {
    "duration": 13,
    "start_time": "2022-03-11T16:14:15.524Z"
   },
   {
    "duration": 10,
    "start_time": "2022-03-11T16:14:15.540Z"
   },
   {
    "duration": 4,
    "start_time": "2022-03-11T16:14:15.553Z"
   },
   {
    "duration": 24,
    "start_time": "2022-03-11T16:14:15.559Z"
   },
   {
    "duration": 9,
    "start_time": "2022-03-11T16:14:15.585Z"
   },
   {
    "duration": 12,
    "start_time": "2022-03-11T16:14:15.596Z"
   },
   {
    "duration": 9,
    "start_time": "2022-03-11T16:14:15.610Z"
   },
   {
    "duration": 9,
    "start_time": "2022-03-11T16:14:15.621Z"
   },
   {
    "duration": 45,
    "start_time": "2022-03-11T16:14:15.632Z"
   },
   {
    "duration": 8,
    "start_time": "2022-03-11T16:14:15.679Z"
   },
   {
    "duration": 61,
    "start_time": "2022-03-11T16:14:15.689Z"
   },
   {
    "duration": 30,
    "start_time": "2022-03-11T16:14:15.752Z"
   },
   {
    "duration": 37,
    "start_time": "2022-03-11T16:14:15.784Z"
   },
   {
    "duration": 21,
    "start_time": "2022-03-11T16:14:15.824Z"
   },
   {
    "duration": 31,
    "start_time": "2022-03-11T16:14:15.847Z"
   },
   {
    "duration": 11,
    "start_time": "2022-03-11T16:14:15.880Z"
   },
   {
    "duration": 10,
    "start_time": "2022-03-11T16:14:15.893Z"
   },
   {
    "duration": 7,
    "start_time": "2022-03-11T16:14:15.906Z"
   },
   {
    "duration": 22,
    "start_time": "2022-03-11T16:14:15.915Z"
   },
   {
    "duration": 46,
    "start_time": "2022-03-11T16:14:15.939Z"
   },
   {
    "duration": 24,
    "start_time": "2022-03-11T16:14:15.987Z"
   },
   {
    "duration": 17,
    "start_time": "2022-03-11T16:15:36.796Z"
   },
   {
    "duration": 358,
    "start_time": "2022-03-11T16:16:34.615Z"
   },
   {
    "duration": 21,
    "start_time": "2022-03-11T16:18:12.817Z"
   },
   {
    "duration": 34,
    "start_time": "2022-03-11T16:19:20.914Z"
   },
   {
    "duration": 21,
    "start_time": "2022-03-11T16:19:41.173Z"
   },
   {
    "duration": 16,
    "start_time": "2022-03-11T16:21:34.529Z"
   },
   {
    "duration": 15,
    "start_time": "2022-03-11T16:21:40.169Z"
   },
   {
    "duration": 15,
    "start_time": "2022-03-11T16:21:42.089Z"
   },
   {
    "duration": 689,
    "start_time": "2022-03-11T16:22:35.221Z"
   },
   {
    "duration": 14,
    "start_time": "2022-03-11T16:22:35.912Z"
   },
   {
    "duration": 14,
    "start_time": "2022-03-11T16:22:35.928Z"
   },
   {
    "duration": 5,
    "start_time": "2022-03-11T16:22:35.944Z"
   },
   {
    "duration": 28,
    "start_time": "2022-03-11T16:22:35.951Z"
   },
   {
    "duration": 5,
    "start_time": "2022-03-11T16:22:35.981Z"
   },
   {
    "duration": 17,
    "start_time": "2022-03-11T16:22:35.987Z"
   },
   {
    "duration": 10,
    "start_time": "2022-03-11T16:22:36.007Z"
   },
   {
    "duration": 9,
    "start_time": "2022-03-11T16:22:36.020Z"
   },
   {
    "duration": 11,
    "start_time": "2022-03-11T16:22:36.030Z"
   },
   {
    "duration": 39,
    "start_time": "2022-03-11T16:22:36.042Z"
   },
   {
    "duration": 52,
    "start_time": "2022-03-11T16:22:36.083Z"
   },
   {
    "duration": 10,
    "start_time": "2022-03-11T16:22:36.137Z"
   },
   {
    "duration": 41,
    "start_time": "2022-03-11T16:22:36.149Z"
   },
   {
    "duration": 19,
    "start_time": "2022-03-11T16:22:36.192Z"
   },
   {
    "duration": 13,
    "start_time": "2022-03-11T16:22:36.213Z"
   },
   {
    "duration": 10,
    "start_time": "2022-03-11T16:22:36.228Z"
   },
   {
    "duration": 7,
    "start_time": "2022-03-11T16:22:36.239Z"
   },
   {
    "duration": 8,
    "start_time": "2022-03-11T16:22:36.277Z"
   },
   {
    "duration": 17,
    "start_time": "2022-03-11T16:22:36.287Z"
   },
   {
    "duration": 25,
    "start_time": "2022-03-11T16:22:36.306Z"
   },
   {
    "duration": 9,
    "start_time": "2022-03-11T16:22:36.333Z"
   },
   {
    "duration": 324,
    "start_time": "2022-03-11T16:22:36.345Z"
   },
   {
    "duration": 258,
    "start_time": "2022-03-11T16:22:57.585Z"
   },
   {
    "duration": 317,
    "start_time": "2022-03-11T16:23:01.562Z"
   },
   {
    "duration": 278,
    "start_time": "2022-03-11T16:23:04.227Z"
   },
   {
    "duration": 2273,
    "start_time": "2022-03-11T16:23:14.111Z"
   },
   {
    "duration": 11,
    "start_time": "2022-03-11T16:23:16.386Z"
   },
   {
    "duration": 37,
    "start_time": "2022-03-11T16:23:16.400Z"
   },
   {
    "duration": 23,
    "start_time": "2022-03-11T16:23:16.439Z"
   },
   {
    "duration": 24,
    "start_time": "2022-03-11T16:23:16.464Z"
   },
   {
    "duration": 22,
    "start_time": "2022-03-11T16:23:16.490Z"
   },
   {
    "duration": 27,
    "start_time": "2022-03-11T16:23:16.513Z"
   },
   {
    "duration": 50,
    "start_time": "2022-03-11T16:23:16.542Z"
   },
   {
    "duration": 37,
    "start_time": "2022-03-11T16:23:16.594Z"
   },
   {
    "duration": 549,
    "start_time": "2022-03-11T16:23:16.633Z"
   },
   {
    "duration": 12,
    "start_time": "2022-03-11T16:23:17.184Z"
   },
   {
    "duration": 56,
    "start_time": "2022-03-11T16:23:17.198Z"
   },
   {
    "duration": 11,
    "start_time": "2022-03-11T16:23:17.256Z"
   },
   {
    "duration": 22,
    "start_time": "2022-03-11T16:23:17.277Z"
   },
   {
    "duration": 24,
    "start_time": "2022-03-11T16:23:17.301Z"
   },
   {
    "duration": 27,
    "start_time": "2022-03-11T16:23:17.328Z"
   },
   {
    "duration": 26,
    "start_time": "2022-03-11T16:23:17.357Z"
   },
   {
    "duration": 8,
    "start_time": "2022-03-11T16:23:17.385Z"
   },
   {
    "duration": 15,
    "start_time": "2022-03-11T16:23:17.395Z"
   },
   {
    "duration": 27,
    "start_time": "2022-03-11T16:23:17.412Z"
   },
   {
    "duration": 44,
    "start_time": "2022-03-11T16:23:17.441Z"
   },
   {
    "duration": 13,
    "start_time": "2022-03-11T16:23:17.487Z"
   },
   {
    "duration": 13,
    "start_time": "2022-03-11T16:23:53.541Z"
   },
   {
    "duration": 266,
    "start_time": "2022-03-12T11:17:22.392Z"
   },
   {
    "duration": 628,
    "start_time": "2022-03-12T11:17:33.596Z"
   },
   {
    "duration": 11,
    "start_time": "2022-03-12T11:17:34.226Z"
   },
   {
    "duration": 13,
    "start_time": "2022-03-12T11:17:34.239Z"
   },
   {
    "duration": 4,
    "start_time": "2022-03-12T11:17:34.262Z"
   },
   {
    "duration": 8,
    "start_time": "2022-03-12T11:17:34.268Z"
   },
   {
    "duration": 3,
    "start_time": "2022-03-12T11:17:34.277Z"
   },
   {
    "duration": 13,
    "start_time": "2022-03-12T11:17:34.282Z"
   },
   {
    "duration": 8,
    "start_time": "2022-03-12T11:17:34.297Z"
   },
   {
    "duration": 7,
    "start_time": "2022-03-12T11:17:34.307Z"
   },
   {
    "duration": 8,
    "start_time": "2022-03-12T11:17:34.316Z"
   },
   {
    "duration": 42,
    "start_time": "2022-03-12T11:17:34.325Z"
   },
   {
    "duration": 49,
    "start_time": "2022-03-12T11:17:34.368Z"
   },
   {
    "duration": 9,
    "start_time": "2022-03-12T11:17:34.419Z"
   },
   {
    "duration": 34,
    "start_time": "2022-03-12T11:17:34.430Z"
   },
   {
    "duration": 19,
    "start_time": "2022-03-12T11:17:34.466Z"
   },
   {
    "duration": 21,
    "start_time": "2022-03-12T11:17:34.486Z"
   },
   {
    "duration": 12,
    "start_time": "2022-03-12T11:17:34.509Z"
   },
   {
    "duration": 6,
    "start_time": "2022-03-12T11:17:34.523Z"
   },
   {
    "duration": 6,
    "start_time": "2022-03-12T11:17:34.530Z"
   },
   {
    "duration": 15,
    "start_time": "2022-03-12T11:17:34.564Z"
   },
   {
    "duration": 29,
    "start_time": "2022-03-12T11:17:34.581Z"
   },
   {
    "duration": 11,
    "start_time": "2022-03-12T11:17:34.612Z"
   },
   {
    "duration": 11,
    "start_time": "2022-03-12T11:17:34.626Z"
   },
   {
    "duration": 507,
    "start_time": "2022-04-01T19:15:54.846Z"
   },
   {
    "duration": 18,
    "start_time": "2022-04-01T19:15:55.355Z"
   },
   {
    "duration": 12,
    "start_time": "2022-04-01T19:15:55.375Z"
   },
   {
    "duration": 5,
    "start_time": "2022-04-01T19:15:55.389Z"
   },
   {
    "duration": 36,
    "start_time": "2022-04-01T19:15:55.396Z"
   },
   {
    "duration": 3,
    "start_time": "2022-04-01T19:15:55.434Z"
   },
   {
    "duration": 12,
    "start_time": "2022-04-01T19:15:55.439Z"
   },
   {
    "duration": 9,
    "start_time": "2022-04-01T19:15:55.453Z"
   },
   {
    "duration": 9,
    "start_time": "2022-04-01T19:15:55.464Z"
   },
   {
    "duration": 10,
    "start_time": "2022-04-01T19:15:55.474Z"
   },
   {
    "duration": 7,
    "start_time": "2022-04-01T19:15:55.485Z"
   },
   {
    "duration": 74,
    "start_time": "2022-04-01T19:15:55.494Z"
   },
   {
    "duration": 10,
    "start_time": "2022-04-01T19:15:55.570Z"
   },
   {
    "duration": 8,
    "start_time": "2022-04-01T19:15:55.583Z"
   },
   {
    "duration": 39,
    "start_time": "2022-04-01T19:15:55.592Z"
   },
   {
    "duration": 20,
    "start_time": "2022-04-01T19:15:55.633Z"
   },
   {
    "duration": 15,
    "start_time": "2022-04-01T19:15:55.655Z"
   },
   {
    "duration": 6,
    "start_time": "2022-04-01T19:15:55.672Z"
   },
   {
    "duration": 13,
    "start_time": "2022-04-01T19:15:55.679Z"
   },
   {
    "duration": 6,
    "start_time": "2022-04-01T19:15:55.694Z"
   },
   {
    "duration": 5,
    "start_time": "2022-04-01T19:15:55.733Z"
   },
   {
    "duration": 14,
    "start_time": "2022-04-01T19:15:55.740Z"
   },
   {
    "duration": 25,
    "start_time": "2022-04-01T19:15:55.755Z"
   },
   {
    "duration": 11,
    "start_time": "2022-04-01T19:15:55.782Z"
   },
   {
    "duration": 43,
    "start_time": "2022-04-01T19:15:55.795Z"
   },
   {
    "duration": 8,
    "start_time": "2022-04-01T19:15:55.840Z"
   },
   {
    "duration": 12,
    "start_time": "2022-04-01T19:15:55.849Z"
   },
   {
    "duration": 11,
    "start_time": "2022-04-01T19:15:55.863Z"
   },
   {
    "duration": 6,
    "start_time": "2022-04-01T19:15:55.876Z"
   },
   {
    "duration": 7,
    "start_time": "2022-04-01T19:15:55.884Z"
   },
   {
    "duration": 39,
    "start_time": "2022-04-01T19:15:55.893Z"
   },
   {
    "duration": 5,
    "start_time": "2022-04-01T19:15:55.934Z"
   },
   {
    "duration": 13,
    "start_time": "2022-04-01T19:15:55.940Z"
   },
   {
    "duration": 15,
    "start_time": "2022-04-01T19:15:55.955Z"
   },
   {
    "duration": 16,
    "start_time": "2022-04-01T19:15:55.972Z"
   },
   {
    "duration": 56,
    "start_time": "2022-04-01T19:15:55.989Z"
   },
   {
    "duration": 11,
    "start_time": "2022-04-01T19:15:56.047Z"
   },
   {
    "duration": 17,
    "start_time": "2022-04-01T19:15:56.059Z"
   },
   {
    "duration": 25,
    "start_time": "2022-04-01T19:15:56.077Z"
   },
   {
    "duration": 42,
    "start_time": "2022-04-01T19:15:56.104Z"
   },
   {
    "duration": 17,
    "start_time": "2022-04-01T19:15:56.150Z"
   },
   {
    "duration": 11,
    "start_time": "2022-04-01T19:15:56.169Z"
   },
   {
    "duration": 27,
    "start_time": "2022-04-01T19:15:56.182Z"
   },
   {
    "duration": 36,
    "start_time": "2022-04-01T19:15:56.210Z"
   },
   {
    "duration": 18,
    "start_time": "2022-04-01T19:15:56.248Z"
   },
   {
    "duration": 18,
    "start_time": "2022-04-01T19:15:56.268Z"
   },
   {
    "duration": 6,
    "start_time": "2022-04-01T19:26:58.447Z"
   },
   {
    "duration": 583,
    "start_time": "2022-04-01T19:32:41.303Z"
   },
   {
    "duration": 17,
    "start_time": "2022-04-01T19:32:41.888Z"
   },
   {
    "duration": 28,
    "start_time": "2022-04-01T19:32:41.907Z"
   },
   {
    "duration": 5,
    "start_time": "2022-04-01T19:32:41.937Z"
   },
   {
    "duration": 12,
    "start_time": "2022-04-01T19:32:41.944Z"
   },
   {
    "duration": 5,
    "start_time": "2022-04-01T19:32:41.958Z"
   },
   {
    "duration": 16,
    "start_time": "2022-04-01T19:32:41.964Z"
   },
   {
    "duration": 12,
    "start_time": "2022-04-01T19:32:41.981Z"
   },
   {
    "duration": 10,
    "start_time": "2022-04-01T19:32:41.995Z"
   },
   {
    "duration": 29,
    "start_time": "2022-04-01T19:32:42.008Z"
   },
   {
    "duration": 6,
    "start_time": "2022-04-01T19:32:42.039Z"
   },
   {
    "duration": 47,
    "start_time": "2022-04-01T19:32:42.047Z"
   },
   {
    "duration": 10,
    "start_time": "2022-04-01T19:32:42.096Z"
   },
   {
    "duration": 24,
    "start_time": "2022-04-01T19:32:42.108Z"
   },
   {
    "duration": 10,
    "start_time": "2022-04-01T19:32:42.134Z"
   },
   {
    "duration": 18,
    "start_time": "2022-04-01T19:32:42.146Z"
   },
   {
    "duration": 15,
    "start_time": "2022-04-01T19:32:42.166Z"
   },
   {
    "duration": 6,
    "start_time": "2022-04-01T19:32:42.183Z"
   },
   {
    "duration": 43,
    "start_time": "2022-04-01T19:32:42.190Z"
   },
   {
    "duration": 6,
    "start_time": "2022-04-01T19:32:42.235Z"
   },
   {
    "duration": 6,
    "start_time": "2022-04-01T19:32:42.243Z"
   },
   {
    "duration": 18,
    "start_time": "2022-04-01T19:32:42.251Z"
   },
   {
    "duration": 27,
    "start_time": "2022-04-01T19:32:42.271Z"
   },
   {
    "duration": 33,
    "start_time": "2022-04-01T19:32:42.300Z"
   },
   {
    "duration": 18,
    "start_time": "2022-04-01T19:32:42.334Z"
   },
   {
    "duration": 10,
    "start_time": "2022-04-01T19:32:42.353Z"
   },
   {
    "duration": 10,
    "start_time": "2022-04-01T19:32:42.365Z"
   },
   {
    "duration": 8,
    "start_time": "2022-04-01T19:32:42.380Z"
   },
   {
    "duration": 6,
    "start_time": "2022-04-01T19:32:42.390Z"
   },
   {
    "duration": 39,
    "start_time": "2022-04-01T19:32:42.398Z"
   },
   {
    "duration": 7,
    "start_time": "2022-04-01T19:32:42.439Z"
   },
   {
    "duration": 7,
    "start_time": "2022-04-01T19:32:42.447Z"
   },
   {
    "duration": 8,
    "start_time": "2022-04-01T19:32:42.455Z"
   },
   {
    "duration": 12,
    "start_time": "2022-04-01T19:32:42.465Z"
   },
   {
    "duration": 16,
    "start_time": "2022-04-01T19:32:42.479Z"
   },
   {
    "duration": 64,
    "start_time": "2022-04-01T19:32:42.497Z"
   },
   {
    "duration": 10,
    "start_time": "2022-04-01T19:32:42.563Z"
   },
   {
    "duration": 12,
    "start_time": "2022-04-01T19:32:42.575Z"
   },
   {
    "duration": 46,
    "start_time": "2022-04-01T19:32:42.589Z"
   },
   {
    "duration": 22,
    "start_time": "2022-04-01T19:32:42.637Z"
   },
   {
    "duration": 22,
    "start_time": "2022-04-01T19:32:42.661Z"
   },
   {
    "duration": 12,
    "start_time": "2022-04-01T19:32:42.685Z"
   },
   {
    "duration": 43,
    "start_time": "2022-04-01T19:32:42.699Z"
   },
   {
    "duration": 20,
    "start_time": "2022-04-01T19:32:42.744Z"
   },
   {
    "duration": 21,
    "start_time": "2022-04-01T19:32:42.766Z"
   },
   {
    "duration": 51,
    "start_time": "2022-04-01T19:32:42.789Z"
   },
   {
    "duration": 65,
    "start_time": "2022-04-01T19:33:17.199Z"
   },
   {
    "duration": 4,
    "start_time": "2022-04-01T19:33:21.723Z"
   },
   {
    "duration": 14,
    "start_time": "2022-04-01T19:42:50.639Z"
   },
   {
    "duration": 12,
    "start_time": "2022-04-01T19:43:07.835Z"
   },
   {
    "duration": 512,
    "start_time": "2022-04-01T20:16:25.742Z"
   },
   {
    "duration": 16,
    "start_time": "2022-04-01T20:16:26.255Z"
   },
   {
    "duration": 10,
    "start_time": "2022-04-01T20:16:26.273Z"
   },
   {
    "duration": 5,
    "start_time": "2022-04-01T20:16:26.286Z"
   },
   {
    "duration": 12,
    "start_time": "2022-04-01T20:16:26.293Z"
   },
   {
    "duration": 26,
    "start_time": "2022-04-01T20:16:26.307Z"
   },
   {
    "duration": 14,
    "start_time": "2022-04-01T20:16:26.334Z"
   },
   {
    "duration": 9,
    "start_time": "2022-04-01T20:16:26.350Z"
   },
   {
    "duration": 11,
    "start_time": "2022-04-01T20:16:26.360Z"
   },
   {
    "duration": 14,
    "start_time": "2022-04-01T20:16:26.373Z"
   },
   {
    "duration": 7,
    "start_time": "2022-04-01T20:16:26.388Z"
   },
   {
    "duration": 65,
    "start_time": "2022-04-01T20:16:26.397Z"
   },
   {
    "duration": 10,
    "start_time": "2022-04-01T20:16:26.464Z"
   },
   {
    "duration": 10,
    "start_time": "2022-04-01T20:16:26.475Z"
   },
   {
    "duration": 14,
    "start_time": "2022-04-01T20:16:26.487Z"
   },
   {
    "duration": 37,
    "start_time": "2022-04-01T20:16:26.502Z"
   },
   {
    "duration": 15,
    "start_time": "2022-04-01T20:16:26.540Z"
   },
   {
    "duration": 6,
    "start_time": "2022-04-01T20:16:26.556Z"
   },
   {
    "duration": 12,
    "start_time": "2022-04-01T20:16:26.564Z"
   },
   {
    "duration": 5,
    "start_time": "2022-04-01T20:16:26.578Z"
   },
   {
    "duration": 11,
    "start_time": "2022-04-01T20:16:26.585Z"
   },
   {
    "duration": 44,
    "start_time": "2022-04-01T20:16:26.597Z"
   },
   {
    "duration": 25,
    "start_time": "2022-04-01T20:16:26.643Z"
   },
   {
    "duration": 12,
    "start_time": "2022-04-01T20:16:26.669Z"
   },
   {
    "duration": 14,
    "start_time": "2022-04-01T20:16:26.683Z"
   },
   {
    "duration": 34,
    "start_time": "2022-04-01T20:16:26.699Z"
   },
   {
    "duration": 8,
    "start_time": "2022-04-01T20:16:26.734Z"
   },
   {
    "duration": 9,
    "start_time": "2022-04-01T20:16:26.746Z"
   },
   {
    "duration": 6,
    "start_time": "2022-04-01T20:16:26.757Z"
   },
   {
    "duration": 10,
    "start_time": "2022-04-01T20:16:26.765Z"
   },
   {
    "duration": 9,
    "start_time": "2022-04-01T20:16:26.777Z"
   },
   {
    "duration": 9,
    "start_time": "2022-04-01T20:16:26.787Z"
   },
   {
    "duration": 39,
    "start_time": "2022-04-01T20:16:26.797Z"
   },
   {
    "duration": 15,
    "start_time": "2022-04-01T20:16:26.837Z"
   },
   {
    "duration": 16,
    "start_time": "2022-04-01T20:16:26.853Z"
   },
   {
    "duration": 31,
    "start_time": "2022-04-01T20:16:26.870Z"
   },
   {
    "duration": 36,
    "start_time": "2022-04-01T20:16:26.903Z"
   },
   {
    "duration": 11,
    "start_time": "2022-04-01T20:16:26.941Z"
   },
   {
    "duration": 22,
    "start_time": "2022-04-01T20:16:26.954Z"
   },
   {
    "duration": 22,
    "start_time": "2022-04-01T20:16:26.977Z"
   },
   {
    "duration": 48,
    "start_time": "2022-04-01T20:16:27.001Z"
   },
   {
    "duration": 11,
    "start_time": "2022-04-01T20:16:27.051Z"
   },
   {
    "duration": 38,
    "start_time": "2022-04-01T20:16:27.064Z"
   },
   {
    "duration": 32,
    "start_time": "2022-04-01T20:16:27.104Z"
   },
   {
    "duration": 19,
    "start_time": "2022-04-01T20:16:27.138Z"
   },
   {
    "duration": 19,
    "start_time": "2022-04-01T20:16:27.159Z"
   },
   {
    "duration": 473,
    "start_time": "2022-04-03T17:23:11.778Z"
   },
   {
    "duration": 100,
    "start_time": "2022-04-03T17:23:12.254Z"
   },
   {
    "duration": 21,
    "start_time": "2022-04-03T17:23:12.356Z"
   },
   {
    "duration": 12,
    "start_time": "2022-04-03T17:23:12.379Z"
   },
   {
    "duration": 6,
    "start_time": "2022-04-03T17:23:12.394Z"
   },
   {
    "duration": 41,
    "start_time": "2022-04-03T17:23:12.402Z"
   },
   {
    "duration": 5,
    "start_time": "2022-04-03T17:23:12.445Z"
   },
   {
    "duration": 13,
    "start_time": "2022-04-03T17:23:12.452Z"
   },
   {
    "duration": 9,
    "start_time": "2022-04-03T17:23:12.467Z"
   },
   {
    "duration": 9,
    "start_time": "2022-04-03T17:23:12.478Z"
   },
   {
    "duration": 55,
    "start_time": "2022-04-03T17:23:12.489Z"
   },
   {
    "duration": 10,
    "start_time": "2022-04-03T17:23:12.546Z"
   },
   {
    "duration": 52,
    "start_time": "2022-04-03T17:23:12.558Z"
   },
   {
    "duration": 34,
    "start_time": "2022-04-03T17:23:12.615Z"
   },
   {
    "duration": 9,
    "start_time": "2022-04-03T17:23:12.651Z"
   },
   {
    "duration": 15,
    "start_time": "2022-04-03T17:23:12.662Z"
   },
   {
    "duration": 25,
    "start_time": "2022-04-03T17:23:12.679Z"
   },
   {
    "duration": 51,
    "start_time": "2022-04-03T17:23:12.706Z"
   },
   {
    "duration": 7,
    "start_time": "2022-04-03T17:23:12.759Z"
   },
   {
    "duration": 13,
    "start_time": "2022-04-03T17:23:12.768Z"
   },
   {
    "duration": 8,
    "start_time": "2022-04-03T17:23:12.784Z"
   },
   {
    "duration": 7,
    "start_time": "2022-04-03T17:23:12.794Z"
   },
   {
    "duration": 53,
    "start_time": "2022-04-03T17:23:12.803Z"
   },
   {
    "duration": 29,
    "start_time": "2022-04-03T17:23:12.858Z"
   },
   {
    "duration": 14,
    "start_time": "2022-04-03T17:23:12.890Z"
   },
   {
    "duration": 52,
    "start_time": "2022-04-03T17:23:12.907Z"
   },
   {
    "duration": 8,
    "start_time": "2022-04-03T17:23:12.961Z"
   },
   {
    "duration": 9,
    "start_time": "2022-04-03T17:23:12.971Z"
   },
   {
    "duration": 13,
    "start_time": "2022-04-03T17:23:12.982Z"
   },
   {
    "duration": 48,
    "start_time": "2022-04-03T17:23:12.996Z"
   },
   {
    "duration": 11,
    "start_time": "2022-04-03T17:23:13.046Z"
   },
   {
    "duration": 7,
    "start_time": "2022-04-03T17:23:13.059Z"
   },
   {
    "duration": 5,
    "start_time": "2022-04-03T17:23:13.068Z"
   },
   {
    "duration": 9,
    "start_time": "2022-04-03T17:23:13.075Z"
   },
   {
    "duration": 60,
    "start_time": "2022-04-03T17:23:13.085Z"
   },
   {
    "duration": 21,
    "start_time": "2022-04-03T17:23:13.147Z"
   },
   {
    "duration": 36,
    "start_time": "2022-04-03T17:23:13.170Z"
   },
   {
    "duration": 37,
    "start_time": "2022-04-03T17:23:13.208Z"
   },
   {
    "duration": 12,
    "start_time": "2022-04-03T17:23:13.247Z"
   },
   {
    "duration": 31,
    "start_time": "2022-04-03T17:23:13.262Z"
   },
   {
    "duration": 68,
    "start_time": "2022-04-03T17:23:13.300Z"
   },
   {
    "duration": 24,
    "start_time": "2022-04-03T17:23:13.371Z"
   },
   {
    "duration": 45,
    "start_time": "2022-04-03T17:23:13.398Z"
   },
   {
    "duration": 44,
    "start_time": "2022-04-03T17:23:13.445Z"
   },
   {
    "duration": 23,
    "start_time": "2022-04-03T17:23:13.492Z"
   },
   {
    "duration": 38,
    "start_time": "2022-04-03T17:23:13.517Z"
   },
   {
    "duration": 25,
    "start_time": "2022-04-03T17:23:13.558Z"
   },
   {
    "duration": 531,
    "start_time": "2022-04-03T17:23:59.714Z"
   },
   {
    "duration": 102,
    "start_time": "2022-04-03T17:24:00.248Z"
   },
   {
    "duration": 20,
    "start_time": "2022-04-03T17:24:00.351Z"
   },
   {
    "duration": 16,
    "start_time": "2022-04-03T17:24:00.374Z"
   },
   {
    "duration": 20,
    "start_time": "2022-04-03T17:24:00.392Z"
   },
   {
    "duration": 30,
    "start_time": "2022-04-03T17:24:00.413Z"
   },
   {
    "duration": 4,
    "start_time": "2022-04-03T17:24:00.445Z"
   },
   {
    "duration": 27,
    "start_time": "2022-04-03T17:24:00.451Z"
   },
   {
    "duration": 20,
    "start_time": "2022-04-03T17:24:00.480Z"
   },
   {
    "duration": 25,
    "start_time": "2022-04-03T17:24:00.503Z"
   },
   {
    "duration": 17,
    "start_time": "2022-04-03T17:24:00.530Z"
   },
   {
    "duration": 15,
    "start_time": "2022-04-03T17:24:00.550Z"
   },
   {
    "duration": 54,
    "start_time": "2022-04-03T17:24:00.567Z"
   },
   {
    "duration": 26,
    "start_time": "2022-04-03T17:24:00.624Z"
   },
   {
    "duration": 16,
    "start_time": "2022-04-03T17:24:00.653Z"
   },
   {
    "duration": 19,
    "start_time": "2022-04-03T17:24:00.671Z"
   },
   {
    "duration": 60,
    "start_time": "2022-04-03T17:24:00.693Z"
   },
   {
    "duration": 24,
    "start_time": "2022-04-03T17:24:00.756Z"
   },
   {
    "duration": 9,
    "start_time": "2022-04-03T17:24:00.783Z"
   },
   {
    "duration": 20,
    "start_time": "2022-04-03T17:24:00.794Z"
   },
   {
    "duration": 33,
    "start_time": "2022-04-03T17:24:00.817Z"
   },
   {
    "duration": 19,
    "start_time": "2022-04-03T17:24:00.852Z"
   },
   {
    "duration": 28,
    "start_time": "2022-04-03T17:24:26.718Z"
   },
   {
    "duration": 15,
    "start_time": "2022-04-03T17:32:47.521Z"
   },
   {
    "duration": 13,
    "start_time": "2022-04-03T17:33:18.312Z"
   },
   {
    "duration": 15,
    "start_time": "2022-04-03T17:34:15.683Z"
   },
   {
    "duration": 26,
    "start_time": "2022-04-03T17:37:20.188Z"
   },
   {
    "duration": 34,
    "start_time": "2022-04-03T17:37:50.622Z"
   },
   {
    "duration": 38,
    "start_time": "2022-04-03T17:37:58.940Z"
   },
   {
    "duration": 7,
    "start_time": "2022-04-03T17:42:42.104Z"
   },
   {
    "duration": 7,
    "start_time": "2022-04-03T17:43:01.840Z"
   },
   {
    "duration": 14,
    "start_time": "2022-04-03T17:43:11.072Z"
   },
   {
    "duration": 9,
    "start_time": "2022-04-03T17:43:34.353Z"
   },
   {
    "duration": 3488,
    "start_time": "2022-04-03T17:43:47.328Z"
   },
   {
    "duration": 11,
    "start_time": "2022-04-03T17:44:04.201Z"
   },
   {
    "duration": 19,
    "start_time": "2022-04-03T17:44:12.332Z"
   },
   {
    "duration": 6,
    "start_time": "2022-04-03T17:44:16.713Z"
   },
   {
    "duration": 5,
    "start_time": "2022-04-03T17:44:21.499Z"
   },
   {
    "duration": 207,
    "start_time": "2022-04-03T17:44:48.508Z"
   },
   {
    "duration": 31,
    "start_time": "2022-04-03T17:44:57.723Z"
   },
   {
    "duration": 208,
    "start_time": "2022-04-03T17:45:38.059Z"
   },
   {
    "duration": 16,
    "start_time": "2022-04-03T17:45:44.416Z"
   },
   {
    "duration": 219,
    "start_time": "2022-04-03T17:52:20.968Z"
   },
   {
    "duration": 4,
    "start_time": "2022-04-03T17:53:38.925Z"
   },
   {
    "duration": 93,
    "start_time": "2022-04-03T17:53:38.932Z"
   },
   {
    "duration": 31,
    "start_time": "2022-04-03T17:53:39.028Z"
   },
   {
    "duration": 13,
    "start_time": "2022-04-03T17:53:39.062Z"
   },
   {
    "duration": 6,
    "start_time": "2022-04-03T17:53:39.078Z"
   },
   {
    "duration": 8,
    "start_time": "2022-04-03T17:53:39.086Z"
   },
   {
    "duration": 49,
    "start_time": "2022-04-03T17:53:39.096Z"
   },
   {
    "duration": 17,
    "start_time": "2022-04-03T17:53:39.147Z"
   },
   {
    "duration": 11,
    "start_time": "2022-04-03T17:53:39.166Z"
   },
   {
    "duration": 13,
    "start_time": "2022-04-03T17:53:39.179Z"
   },
   {
    "duration": 9,
    "start_time": "2022-04-03T17:53:39.197Z"
   },
   {
    "duration": 9,
    "start_time": "2022-04-03T17:53:39.242Z"
   },
   {
    "duration": 59,
    "start_time": "2022-04-03T17:53:39.253Z"
   },
   {
    "duration": 30,
    "start_time": "2022-04-03T17:53:39.314Z"
   },
   {
    "duration": 10,
    "start_time": "2022-04-03T17:53:39.346Z"
   },
   {
    "duration": 15,
    "start_time": "2022-04-03T17:53:39.358Z"
   },
   {
    "duration": 27,
    "start_time": "2022-04-03T17:53:39.375Z"
   },
   {
    "duration": 56,
    "start_time": "2022-04-03T17:53:39.405Z"
   },
   {
    "duration": 8,
    "start_time": "2022-04-03T17:53:39.463Z"
   },
   {
    "duration": 14,
    "start_time": "2022-04-03T17:53:39.474Z"
   },
   {
    "duration": 9,
    "start_time": "2022-04-03T17:53:39.490Z"
   },
   {
    "duration": 45,
    "start_time": "2022-04-03T17:53:39.502Z"
   },
   {
    "duration": 20,
    "start_time": "2022-04-03T17:53:39.550Z"
   },
   {
    "duration": 30,
    "start_time": "2022-04-03T17:53:39.573Z"
   },
   {
    "duration": 48,
    "start_time": "2022-04-03T17:53:39.605Z"
   },
   {
    "duration": 19,
    "start_time": "2022-04-03T17:53:39.655Z"
   },
   {
    "duration": 9,
    "start_time": "2022-04-03T17:53:39.676Z"
   },
   {
    "duration": 10,
    "start_time": "2022-04-03T17:53:39.687Z"
   },
   {
    "duration": 44,
    "start_time": "2022-04-03T17:53:39.701Z"
   },
   {
    "duration": 7,
    "start_time": "2022-04-03T17:53:39.748Z"
   },
   {
    "duration": 12,
    "start_time": "2022-04-03T17:53:39.757Z"
   },
   {
    "duration": 8,
    "start_time": "2022-04-03T17:53:39.772Z"
   },
   {
    "duration": 7,
    "start_time": "2022-04-03T17:53:39.782Z"
   },
   {
    "duration": 52,
    "start_time": "2022-04-03T17:53:39.791Z"
   },
   {
    "duration": 16,
    "start_time": "2022-04-03T17:53:39.845Z"
   },
   {
    "duration": 18,
    "start_time": "2022-04-03T17:53:39.864Z"
   },
   {
    "duration": 60,
    "start_time": "2022-04-03T17:53:39.884Z"
   },
   {
    "duration": 15,
    "start_time": "2022-04-03T17:53:44.481Z"
   },
   {
    "duration": 16,
    "start_time": "2022-04-03T17:53:52.720Z"
   },
   {
    "duration": 16,
    "start_time": "2022-04-03T17:54:02.666Z"
   },
   {
    "duration": 35,
    "start_time": "2022-04-03T17:54:08.262Z"
   },
   {
    "duration": 17,
    "start_time": "2022-04-03T17:54:23.595Z"
   },
   {
    "duration": 17,
    "start_time": "2022-04-03T17:54:33.654Z"
   },
   {
    "duration": 4,
    "start_time": "2022-04-03T17:54:54.972Z"
   },
   {
    "duration": 98,
    "start_time": "2022-04-03T17:54:54.979Z"
   },
   {
    "duration": 23,
    "start_time": "2022-04-03T17:54:55.079Z"
   },
   {
    "duration": 52,
    "start_time": "2022-04-03T17:54:55.105Z"
   },
   {
    "duration": 6,
    "start_time": "2022-04-03T17:54:55.161Z"
   },
   {
    "duration": 10,
    "start_time": "2022-04-03T17:54:55.169Z"
   },
   {
    "duration": 5,
    "start_time": "2022-04-03T17:54:55.181Z"
   },
   {
    "duration": 56,
    "start_time": "2022-04-03T17:54:55.188Z"
   },
   {
    "duration": 12,
    "start_time": "2022-04-03T17:54:55.246Z"
   },
   {
    "duration": 10,
    "start_time": "2022-04-03T17:54:55.260Z"
   },
   {
    "duration": 11,
    "start_time": "2022-04-03T17:54:55.274Z"
   },
   {
    "duration": 9,
    "start_time": "2022-04-03T17:54:55.287Z"
   },
   {
    "duration": 93,
    "start_time": "2022-04-03T17:54:55.298Z"
   },
   {
    "duration": 12,
    "start_time": "2022-04-03T17:54:55.393Z"
   },
   {
    "duration": 13,
    "start_time": "2022-04-03T17:54:55.408Z"
   },
   {
    "duration": 33,
    "start_time": "2022-04-03T17:54:55.423Z"
   },
   {
    "duration": 29,
    "start_time": "2022-04-03T17:54:55.459Z"
   },
   {
    "duration": 20,
    "start_time": "2022-04-03T17:54:55.491Z"
   },
   {
    "duration": 9,
    "start_time": "2022-04-03T17:54:55.543Z"
   },
   {
    "duration": 17,
    "start_time": "2022-04-03T17:54:55.555Z"
   },
   {
    "duration": 12,
    "start_time": "2022-04-03T17:54:55.575Z"
   },
   {
    "duration": 17,
    "start_time": "2022-04-03T17:54:55.589Z"
   },
   {
    "duration": 40,
    "start_time": "2022-04-03T17:54:55.608Z"
   },
   {
    "duration": 30,
    "start_time": "2022-04-03T17:54:55.651Z"
   },
   {
    "duration": 15,
    "start_time": "2022-04-03T17:54:55.684Z"
   },
   {
    "duration": 46,
    "start_time": "2022-04-03T17:54:55.701Z"
   },
   {
    "duration": 21,
    "start_time": "2022-04-03T17:54:55.750Z"
   },
   {
    "duration": 28,
    "start_time": "2022-04-03T17:54:55.773Z"
   },
   {
    "duration": 23,
    "start_time": "2022-04-03T17:54:55.805Z"
   },
   {
    "duration": 14,
    "start_time": "2022-04-03T17:54:55.831Z"
   },
   {
    "duration": 22,
    "start_time": "2022-04-03T17:54:55.847Z"
   },
   {
    "duration": 15,
    "start_time": "2022-04-03T17:54:55.871Z"
   },
   {
    "duration": 13,
    "start_time": "2022-04-03T17:54:55.888Z"
   },
   {
    "duration": 19,
    "start_time": "2022-04-03T17:54:55.903Z"
   },
   {
    "duration": 26,
    "start_time": "2022-04-03T17:54:55.924Z"
   },
   {
    "duration": 26,
    "start_time": "2022-04-03T17:54:55.952Z"
   },
   {
    "duration": 48,
    "start_time": "2022-04-03T17:54:55.980Z"
   },
   {
    "duration": 26,
    "start_time": "2022-04-03T17:54:56.030Z"
   },
   {
    "duration": 35,
    "start_time": "2022-04-03T17:54:59.970Z"
   },
   {
    "duration": 17,
    "start_time": "2022-04-03T17:55:17.560Z"
   },
   {
    "duration": 473,
    "start_time": "2022-04-03T17:55:36.672Z"
   },
   {
    "duration": 100,
    "start_time": "2022-04-03T17:55:37.147Z"
   },
   {
    "duration": 20,
    "start_time": "2022-04-03T17:55:37.249Z"
   },
   {
    "duration": 12,
    "start_time": "2022-04-03T17:55:37.272Z"
   },
   {
    "duration": 6,
    "start_time": "2022-04-03T17:55:37.286Z"
   },
   {
    "duration": 8,
    "start_time": "2022-04-03T17:55:37.293Z"
   },
   {
    "duration": 41,
    "start_time": "2022-04-03T17:55:37.303Z"
   },
   {
    "duration": 14,
    "start_time": "2022-04-03T17:55:37.346Z"
   },
   {
    "duration": 8,
    "start_time": "2022-04-03T17:55:37.362Z"
   },
   {
    "duration": 11,
    "start_time": "2022-04-03T17:55:37.374Z"
   },
   {
    "duration": 10,
    "start_time": "2022-04-03T17:55:37.387Z"
   },
   {
    "duration": 49,
    "start_time": "2022-04-03T17:55:37.399Z"
   },
   {
    "duration": 52,
    "start_time": "2022-04-03T17:55:37.450Z"
   },
   {
    "duration": 37,
    "start_time": "2022-04-03T17:55:37.505Z"
   },
   {
    "duration": 10,
    "start_time": "2022-04-03T17:55:37.544Z"
   },
   {
    "duration": 14,
    "start_time": "2022-04-03T17:55:37.556Z"
   },
   {
    "duration": 26,
    "start_time": "2022-04-03T17:55:37.572Z"
   },
   {
    "duration": 53,
    "start_time": "2022-04-03T17:55:37.600Z"
   },
   {
    "duration": 8,
    "start_time": "2022-04-03T17:55:37.655Z"
   },
   {
    "duration": 16,
    "start_time": "2022-04-03T17:55:37.665Z"
   },
   {
    "duration": 10,
    "start_time": "2022-04-03T17:55:37.683Z"
   },
   {
    "duration": 50,
    "start_time": "2022-04-03T17:55:37.695Z"
   },
   {
    "duration": 21,
    "start_time": "2022-04-03T17:55:37.748Z"
   },
   {
    "duration": 31,
    "start_time": "2022-04-03T17:55:37.771Z"
   },
   {
    "duration": 44,
    "start_time": "2022-04-03T17:55:37.804Z"
   },
   {
    "duration": 19,
    "start_time": "2022-04-03T17:55:37.850Z"
   },
   {
    "duration": 7,
    "start_time": "2022-04-03T17:55:37.871Z"
   },
   {
    "duration": 8,
    "start_time": "2022-04-03T17:55:37.883Z"
   },
   {
    "duration": 51,
    "start_time": "2022-04-03T17:55:37.893Z"
   },
   {
    "duration": 8,
    "start_time": "2022-04-03T17:55:37.946Z"
   },
   {
    "duration": 11,
    "start_time": "2022-04-03T17:55:37.956Z"
   },
   {
    "duration": 7,
    "start_time": "2022-04-03T17:55:37.969Z"
   },
   {
    "duration": 5,
    "start_time": "2022-04-03T17:55:37.978Z"
   },
   {
    "duration": 8,
    "start_time": "2022-04-03T17:55:37.985Z"
   },
   {
    "duration": 63,
    "start_time": "2022-04-03T17:55:37.994Z"
   },
   {
    "duration": 20,
    "start_time": "2022-04-03T17:55:38.059Z"
   },
   {
    "duration": 63,
    "start_time": "2022-04-03T17:55:38.081Z"
   },
   {
    "duration": 18,
    "start_time": "2022-04-03T17:55:43.902Z"
   },
   {
    "duration": 17,
    "start_time": "2022-04-03T17:55:48.799Z"
   },
   {
    "duration": 20,
    "start_time": "2022-04-03T17:55:54.912Z"
   },
   {
    "duration": 30,
    "start_time": "2022-04-03T17:58:57.514Z"
   },
   {
    "duration": 14,
    "start_time": "2022-04-03T17:59:03.523Z"
   },
   {
    "duration": 25,
    "start_time": "2022-04-03T17:59:30.914Z"
   },
   {
    "duration": 13,
    "start_time": "2022-04-03T17:59:33.695Z"
   },
   {
    "duration": 27,
    "start_time": "2022-04-03T17:59:37.739Z"
   },
   {
    "duration": 30,
    "start_time": "2022-04-03T18:04:59.059Z"
   },
   {
    "duration": 24,
    "start_time": "2022-04-03T18:05:08.700Z"
   },
   {
    "duration": 28,
    "start_time": "2022-04-03T18:05:53.871Z"
   },
   {
    "duration": 217,
    "start_time": "2022-04-03T18:08:22.729Z"
   },
   {
    "duration": 971,
    "start_time": "2022-04-03T18:08:36.045Z"
   },
   {
    "duration": 22,
    "start_time": "2022-04-03T18:09:02.324Z"
   },
   {
    "duration": 24,
    "start_time": "2022-04-03T18:09:07.316Z"
   },
   {
    "duration": 989,
    "start_time": "2022-04-03T18:09:40.021Z"
   },
   {
    "duration": 27,
    "start_time": "2022-04-03T18:09:46.952Z"
   },
   {
    "duration": 980,
    "start_time": "2022-04-03T20:22:19.849Z"
   },
   {
    "duration": 26,
    "start_time": "2022-04-03T20:22:45.701Z"
   },
   {
    "duration": 29,
    "start_time": "2022-04-03T20:23:41.165Z"
   },
   {
    "duration": 25,
    "start_time": "2022-04-03T20:28:06.431Z"
   },
   {
    "duration": 27,
    "start_time": "2022-04-03T20:28:24.521Z"
   },
   {
    "duration": 24,
    "start_time": "2022-04-03T20:30:04.644Z"
   },
   {
    "duration": 27,
    "start_time": "2022-04-03T20:30:20.931Z"
   },
   {
    "duration": 25,
    "start_time": "2022-04-03T20:30:36.029Z"
   },
   {
    "duration": 25,
    "start_time": "2022-04-03T20:30:44.013Z"
   },
   {
    "duration": 690,
    "start_time": "2022-04-03T20:33:25.515Z"
   },
   {
    "duration": 149,
    "start_time": "2022-04-03T20:33:26.208Z"
   },
   {
    "duration": 31,
    "start_time": "2022-04-03T20:33:26.360Z"
   },
   {
    "duration": 13,
    "start_time": "2022-04-03T20:33:26.394Z"
   },
   {
    "duration": 35,
    "start_time": "2022-04-03T20:33:26.410Z"
   },
   {
    "duration": 9,
    "start_time": "2022-04-03T20:33:26.447Z"
   },
   {
    "duration": 4,
    "start_time": "2022-04-03T20:33:26.458Z"
   },
   {
    "duration": 18,
    "start_time": "2022-04-03T20:33:26.465Z"
   },
   {
    "duration": 15,
    "start_time": "2022-04-03T20:33:26.486Z"
   },
   {
    "duration": 11,
    "start_time": "2022-04-03T20:33:26.544Z"
   },
   {
    "duration": 13,
    "start_time": "2022-04-03T20:33:26.557Z"
   },
   {
    "duration": 10,
    "start_time": "2022-04-03T20:33:26.573Z"
   },
   {
    "duration": 96,
    "start_time": "2022-04-03T20:33:26.585Z"
   },
   {
    "duration": 13,
    "start_time": "2022-04-03T20:33:26.686Z"
   },
   {
    "duration": 10,
    "start_time": "2022-04-03T20:33:26.701Z"
   },
   {
    "duration": 36,
    "start_time": "2022-04-03T20:33:26.714Z"
   },
   {
    "duration": 27,
    "start_time": "2022-04-03T20:33:26.752Z"
   },
   {
    "duration": 26,
    "start_time": "2022-04-03T20:33:26.781Z"
   },
   {
    "duration": 35,
    "start_time": "2022-04-03T20:33:26.810Z"
   },
   {
    "duration": 24,
    "start_time": "2022-04-03T20:33:26.848Z"
   },
   {
    "duration": 10,
    "start_time": "2022-04-03T20:33:26.875Z"
   },
   {
    "duration": 7,
    "start_time": "2022-04-03T20:33:26.889Z"
   },
   {
    "duration": 55,
    "start_time": "2022-04-03T20:33:26.899Z"
   },
   {
    "duration": 31,
    "start_time": "2022-04-03T20:33:26.957Z"
   },
   {
    "duration": 18,
    "start_time": "2022-04-03T20:33:26.991Z"
   },
   {
    "duration": 52,
    "start_time": "2022-04-03T20:33:27.011Z"
   },
   {
    "duration": 9,
    "start_time": "2022-04-03T20:33:27.066Z"
   },
   {
    "duration": 11,
    "start_time": "2022-04-03T20:33:27.078Z"
   },
   {
    "duration": 53,
    "start_time": "2022-04-03T20:33:27.092Z"
   },
   {
    "duration": 10,
    "start_time": "2022-04-03T20:33:27.148Z"
   },
   {
    "duration": 12,
    "start_time": "2022-04-03T20:33:27.161Z"
   },
   {
    "duration": 10,
    "start_time": "2022-04-03T20:33:27.176Z"
   },
   {
    "duration": 6,
    "start_time": "2022-04-03T20:33:27.188Z"
   },
   {
    "duration": 10,
    "start_time": "2022-04-03T20:33:27.243Z"
   },
   {
    "duration": 18,
    "start_time": "2022-04-03T20:33:27.255Z"
   },
   {
    "duration": 20,
    "start_time": "2022-04-03T20:33:27.276Z"
   },
   {
    "duration": 79,
    "start_time": "2022-04-03T20:33:27.299Z"
   },
   {
    "duration": 18,
    "start_time": "2022-04-03T20:33:27.381Z"
   },
   {
    "duration": 49,
    "start_time": "2022-04-03T20:33:27.402Z"
   },
   {
    "duration": 20,
    "start_time": "2022-04-03T20:33:27.454Z"
   },
   {
    "duration": 30,
    "start_time": "2022-04-03T20:33:27.482Z"
   },
   {
    "duration": 51,
    "start_time": "2022-04-03T20:33:27.514Z"
   },
   {
    "duration": 17,
    "start_time": "2022-04-03T20:33:27.568Z"
   },
   {
    "duration": 31,
    "start_time": "2022-04-03T20:33:29.704Z"
   },
   {
    "duration": 25,
    "start_time": "2022-04-03T20:34:59.893Z"
   },
   {
    "duration": 26,
    "start_time": "2022-04-03T20:36:34.444Z"
   },
   {
    "duration": 25,
    "start_time": "2022-04-03T20:36:48.754Z"
   },
   {
    "duration": 26,
    "start_time": "2022-04-03T20:36:58.243Z"
   },
   {
    "duration": 25,
    "start_time": "2022-04-03T20:37:01.963Z"
   },
   {
    "duration": 27,
    "start_time": "2022-04-03T20:39:41.621Z"
   },
   {
    "duration": 123,
    "start_time": "2022-04-03T20:45:35.571Z"
   },
   {
    "duration": 25,
    "start_time": "2022-04-03T20:47:16.421Z"
   },
   {
    "duration": 131,
    "start_time": "2022-04-03T20:47:36.588Z"
   },
   {
    "duration": 46,
    "start_time": "2022-04-03T20:48:34.973Z"
   },
   {
    "duration": 44,
    "start_time": "2022-04-03T20:48:37.825Z"
   },
   {
    "duration": 10,
    "start_time": "2022-04-03T20:48:53.939Z"
   },
   {
    "duration": 11,
    "start_time": "2022-04-03T20:49:37.876Z"
   },
   {
    "duration": 25,
    "start_time": "2022-04-03T20:56:20.769Z"
   },
   {
    "duration": 25,
    "start_time": "2022-04-03T20:57:46.459Z"
   },
   {
    "duration": 27,
    "start_time": "2022-04-03T20:58:13.165Z"
   },
   {
    "duration": 26,
    "start_time": "2022-04-03T20:58:32.339Z"
   },
   {
    "duration": 27,
    "start_time": "2022-04-03T20:58:47.124Z"
   },
   {
    "duration": 308,
    "start_time": "2022-04-03T21:04:45.416Z"
   },
   {
    "duration": 188,
    "start_time": "2022-04-03T21:04:49.537Z"
   },
   {
    "duration": 29,
    "start_time": "2022-04-03T21:04:58.838Z"
   },
   {
    "duration": 28,
    "start_time": "2022-04-03T21:05:24.249Z"
   },
   {
    "duration": 215,
    "start_time": "2022-04-03T21:10:18.278Z"
   },
   {
    "duration": 29,
    "start_time": "2022-04-03T21:10:27.460Z"
   },
   {
    "duration": 29,
    "start_time": "2022-04-03T21:11:03.721Z"
   },
   {
    "duration": 479,
    "start_time": "2022-04-03T21:52:02.481Z"
   },
   {
    "duration": 126,
    "start_time": "2022-04-03T21:52:02.964Z"
   },
   {
    "duration": 24,
    "start_time": "2022-04-03T21:52:03.092Z"
   },
   {
    "duration": 37,
    "start_time": "2022-04-03T21:52:03.119Z"
   },
   {
    "duration": 6,
    "start_time": "2022-04-03T21:52:03.161Z"
   },
   {
    "duration": 10,
    "start_time": "2022-04-03T21:52:03.170Z"
   },
   {
    "duration": 7,
    "start_time": "2022-04-03T21:52:03.182Z"
   },
   {
    "duration": 54,
    "start_time": "2022-04-03T21:52:03.191Z"
   },
   {
    "duration": 21,
    "start_time": "2022-04-03T21:52:03.247Z"
   },
   {
    "duration": 11,
    "start_time": "2022-04-03T21:52:03.270Z"
   },
   {
    "duration": 12,
    "start_time": "2022-04-03T21:52:03.283Z"
   },
   {
    "duration": 46,
    "start_time": "2022-04-03T21:52:03.297Z"
   },
   {
    "duration": 57,
    "start_time": "2022-04-03T21:52:03.346Z"
   },
   {
    "duration": 34,
    "start_time": "2022-04-03T21:52:03.410Z"
   },
   {
    "duration": 12,
    "start_time": "2022-04-03T21:52:03.447Z"
   },
   {
    "duration": 21,
    "start_time": "2022-04-03T21:52:03.461Z"
   },
   {
    "duration": 79,
    "start_time": "2022-04-03T21:52:03.485Z"
   },
   {
    "duration": 19,
    "start_time": "2022-04-03T21:52:03.567Z"
   },
   {
    "duration": 7,
    "start_time": "2022-04-03T21:52:03.588Z"
   },
   {
    "duration": 15,
    "start_time": "2022-04-03T21:52:03.597Z"
   },
   {
    "duration": 34,
    "start_time": "2022-04-03T21:52:03.614Z"
   },
   {
    "duration": 7,
    "start_time": "2022-04-03T21:52:03.651Z"
   },
   {
    "duration": 20,
    "start_time": "2022-04-03T21:52:03.660Z"
   },
   {
    "duration": 67,
    "start_time": "2022-04-03T21:52:03.682Z"
   },
   {
    "duration": 16,
    "start_time": "2022-04-03T21:52:03.752Z"
   },
   {
    "duration": 23,
    "start_time": "2022-04-03T21:52:03.770Z"
   },
   {
    "duration": 10,
    "start_time": "2022-04-03T21:52:03.795Z"
   },
   {
    "duration": 42,
    "start_time": "2022-04-03T21:52:03.808Z"
   },
   {
    "duration": 17,
    "start_time": "2022-04-03T21:52:03.853Z"
   },
   {
    "duration": 8,
    "start_time": "2022-04-03T21:52:03.872Z"
   },
   {
    "duration": 10,
    "start_time": "2022-04-03T21:52:03.883Z"
   },
   {
    "duration": 48,
    "start_time": "2022-04-03T21:52:03.895Z"
   },
   {
    "duration": 7,
    "start_time": "2022-04-03T21:52:03.945Z"
   },
   {
    "duration": 13,
    "start_time": "2022-04-03T21:52:03.954Z"
   },
   {
    "duration": 19,
    "start_time": "2022-04-03T21:52:03.970Z"
   },
   {
    "duration": 59,
    "start_time": "2022-04-03T21:52:03.992Z"
   },
   {
    "duration": 43,
    "start_time": "2022-04-03T21:52:04.054Z"
   },
   {
    "duration": 51,
    "start_time": "2022-04-03T21:52:04.099Z"
   },
   {
    "duration": 18,
    "start_time": "2022-04-03T21:52:04.153Z"
   },
   {
    "duration": 22,
    "start_time": "2022-04-03T21:52:04.174Z"
   },
   {
    "duration": 66,
    "start_time": "2022-04-03T21:52:04.202Z"
   },
   {
    "duration": 25,
    "start_time": "2022-04-03T21:52:04.270Z"
   },
   {
    "duration": 16,
    "start_time": "2022-04-03T21:52:04.297Z"
   },
   {
    "duration": 32,
    "start_time": "2022-04-03T21:52:04.344Z"
   },
   {
    "duration": 11,
    "start_time": "2022-04-03T21:52:04.378Z"
   },
   {
    "duration": 57,
    "start_time": "2022-04-03T21:52:04.392Z"
   },
   {
    "duration": 35,
    "start_time": "2022-04-03T21:52:04.452Z"
   },
   {
    "duration": 53,
    "start_time": "2022-04-03T21:52:04.490Z"
   },
   {
    "duration": 30,
    "start_time": "2022-04-03T21:52:04.545Z"
   },
   {
    "duration": 592,
    "start_time": "2022-04-04T17:14:53.658Z"
   },
   {
    "duration": 109,
    "start_time": "2022-04-04T17:14:54.253Z"
   },
   {
    "duration": 22,
    "start_time": "2022-04-04T17:14:54.373Z"
   },
   {
    "duration": 16,
    "start_time": "2022-04-04T17:14:54.399Z"
   },
   {
    "duration": 6,
    "start_time": "2022-04-04T17:14:54.418Z"
   },
   {
    "duration": 48,
    "start_time": "2022-04-04T17:14:54.426Z"
   },
   {
    "duration": 4,
    "start_time": "2022-04-04T17:14:54.477Z"
   },
   {
    "duration": 36,
    "start_time": "2022-04-04T17:14:54.483Z"
   },
   {
    "duration": 11,
    "start_time": "2022-04-04T17:14:54.521Z"
   },
   {
    "duration": 19,
    "start_time": "2022-04-04T17:14:54.536Z"
   },
   {
    "duration": 18,
    "start_time": "2022-04-04T17:14:54.562Z"
   },
   {
    "duration": 14,
    "start_time": "2022-04-04T17:14:54.583Z"
   },
   {
    "duration": 78,
    "start_time": "2022-04-04T17:14:54.599Z"
   },
   {
    "duration": 14,
    "start_time": "2022-04-04T17:14:54.679Z"
   },
   {
    "duration": 11,
    "start_time": "2022-04-04T17:14:54.695Z"
   },
   {
    "duration": 16,
    "start_time": "2022-04-04T17:14:54.709Z"
   },
   {
    "duration": 66,
    "start_time": "2022-04-04T17:14:54.728Z"
   },
   {
    "duration": 23,
    "start_time": "2022-04-04T17:14:54.797Z"
   },
   {
    "duration": 8,
    "start_time": "2022-04-04T17:14:54.822Z"
   },
   {
    "duration": 45,
    "start_time": "2022-04-04T17:14:54.832Z"
   },
   {
    "duration": 9,
    "start_time": "2022-04-04T17:14:54.879Z"
   },
   {
    "duration": 8,
    "start_time": "2022-04-04T17:14:54.890Z"
   },
   {
    "duration": 22,
    "start_time": "2022-04-04T17:14:54.900Z"
   },
   {
    "duration": 79,
    "start_time": "2022-04-04T17:14:54.924Z"
   },
   {
    "duration": 22,
    "start_time": "2022-04-04T17:14:55.006Z"
   },
   {
    "duration": 19,
    "start_time": "2022-04-04T17:14:55.031Z"
   },
   {
    "duration": 24,
    "start_time": "2022-04-04T17:14:55.052Z"
   },
   {
    "duration": 11,
    "start_time": "2022-04-04T17:14:55.081Z"
   },
   {
    "duration": 16,
    "start_time": "2022-04-04T17:14:55.094Z"
   },
   {
    "duration": 11,
    "start_time": "2022-04-04T17:14:55.112Z"
   },
   {
    "duration": 51,
    "start_time": "2022-04-04T17:14:55.125Z"
   },
   {
    "duration": 10,
    "start_time": "2022-04-04T17:14:55.179Z"
   },
   {
    "duration": 7,
    "start_time": "2022-04-04T17:14:55.191Z"
   },
   {
    "duration": 11,
    "start_time": "2022-04-04T17:14:55.201Z"
   },
   {
    "duration": 18,
    "start_time": "2022-04-04T17:14:55.214Z"
   },
   {
    "duration": 58,
    "start_time": "2022-04-04T17:14:55.234Z"
   },
   {
    "duration": 43,
    "start_time": "2022-04-04T17:14:55.295Z"
   },
   {
    "duration": 50,
    "start_time": "2022-04-04T17:14:55.341Z"
   },
   {
    "duration": 17,
    "start_time": "2022-04-04T17:14:55.394Z"
   },
   {
    "duration": 28,
    "start_time": "2022-04-04T17:14:55.413Z"
   },
   {
    "duration": 30,
    "start_time": "2022-04-04T17:14:55.474Z"
   },
   {
    "duration": 25,
    "start_time": "2022-04-04T17:14:55.507Z"
   },
   {
    "duration": 57,
    "start_time": "2022-04-04T17:14:55.534Z"
   },
   {
    "duration": 32,
    "start_time": "2022-04-04T17:14:55.593Z"
   },
   {
    "duration": 11,
    "start_time": "2022-04-04T17:14:55.628Z"
   },
   {
    "duration": 50,
    "start_time": "2022-04-04T17:14:55.642Z"
   },
   {
    "duration": 25,
    "start_time": "2022-04-04T17:14:55.695Z"
   },
   {
    "duration": 58,
    "start_time": "2022-04-04T17:14:55.722Z"
   },
   {
    "duration": 33,
    "start_time": "2022-04-04T17:14:55.782Z"
   },
   {
    "duration": 415,
    "start_time": "2022-04-22T21:58:58.854Z"
   },
   {
    "duration": 95,
    "start_time": "2022-04-22T21:58:59.271Z"
   },
   {
    "duration": 16,
    "start_time": "2022-04-22T21:58:59.368Z"
   },
   {
    "duration": 11,
    "start_time": "2022-04-22T21:58:59.386Z"
   },
   {
    "duration": 5,
    "start_time": "2022-04-22T21:58:59.399Z"
   },
   {
    "duration": 34,
    "start_time": "2022-04-22T21:58:59.406Z"
   },
   {
    "duration": 4,
    "start_time": "2022-04-22T21:58:59.442Z"
   },
   {
    "duration": 21,
    "start_time": "2022-04-22T21:58:59.447Z"
   },
   {
    "duration": 11,
    "start_time": "2022-04-22T21:58:59.470Z"
   },
   {
    "duration": 9,
    "start_time": "2022-04-22T21:58:59.483Z"
   },
   {
    "duration": 13,
    "start_time": "2022-04-22T21:58:59.494Z"
   },
   {
    "duration": 12,
    "start_time": "2022-04-22T21:58:59.508Z"
   },
   {
    "duration": 64,
    "start_time": "2022-04-22T21:58:59.522Z"
   },
   {
    "duration": 10,
    "start_time": "2022-04-22T21:58:59.590Z"
   },
   {
    "duration": 8,
    "start_time": "2022-04-22T21:58:59.602Z"
   },
   {
    "duration": 11,
    "start_time": "2022-04-22T21:58:59.611Z"
   },
   {
    "duration": 25,
    "start_time": "2022-04-22T21:58:59.632Z"
   },
   {
    "duration": 11,
    "start_time": "2022-04-22T21:58:59.659Z"
   },
   {
    "duration": 6,
    "start_time": "2022-04-22T21:58:59.672Z"
   },
   {
    "duration": 12,
    "start_time": "2022-04-22T21:58:59.680Z"
   },
   {
    "duration": 6,
    "start_time": "2022-04-22T21:58:59.694Z"
   },
   {
    "duration": 9,
    "start_time": "2022-04-22T21:58:59.733Z"
   },
   {
    "duration": 22,
    "start_time": "2022-04-22T21:58:59.744Z"
   },
   {
    "duration": 23,
    "start_time": "2022-04-22T21:58:59.767Z"
   },
   {
    "duration": 10,
    "start_time": "2022-04-22T21:58:59.792Z"
   },
   {
    "duration": 49,
    "start_time": "2022-04-22T21:58:59.804Z"
   },
   {
    "duration": 11,
    "start_time": "2022-04-22T21:58:59.855Z"
   },
   {
    "duration": 12,
    "start_time": "2022-04-22T21:58:59.868Z"
   },
   {
    "duration": 14,
    "start_time": "2022-04-22T21:58:59.882Z"
   },
   {
    "duration": 6,
    "start_time": "2022-04-22T21:58:59.898Z"
   },
   {
    "duration": 10,
    "start_time": "2022-04-22T21:58:59.906Z"
   },
   {
    "duration": 13,
    "start_time": "2022-04-22T21:58:59.932Z"
   },
   {
    "duration": 9,
    "start_time": "2022-04-22T21:58:59.947Z"
   },
   {
    "duration": 8,
    "start_time": "2022-04-22T21:58:59.958Z"
   },
   {
    "duration": 15,
    "start_time": "2022-04-22T21:58:59.967Z"
   },
   {
    "duration": 16,
    "start_time": "2022-04-22T21:58:59.983Z"
   },
   {
    "duration": 61,
    "start_time": "2022-04-22T21:59:00.001Z"
   },
   {
    "duration": 12,
    "start_time": "2022-04-22T21:59:00.064Z"
   },
   {
    "duration": 13,
    "start_time": "2022-04-22T21:59:00.077Z"
   },
   {
    "duration": 47,
    "start_time": "2022-04-22T21:59:00.092Z"
   },
   {
    "duration": 33,
    "start_time": "2022-04-22T21:59:00.144Z"
   },
   {
    "duration": 29,
    "start_time": "2022-04-22T21:59:00.179Z"
   },
   {
    "duration": 10,
    "start_time": "2022-04-22T21:59:00.210Z"
   },
   {
    "duration": 37,
    "start_time": "2022-04-22T21:59:00.222Z"
   },
   {
    "duration": 9,
    "start_time": "2022-04-22T21:59:00.261Z"
   },
   {
    "duration": 36,
    "start_time": "2022-04-22T21:59:00.271Z"
   },
   {
    "duration": 31,
    "start_time": "2022-04-22T21:59:00.308Z"
   },
   {
    "duration": 22,
    "start_time": "2022-04-22T21:59:00.342Z"
   },
   {
    "duration": 24,
    "start_time": "2022-04-22T21:59:00.366Z"
   }
  ],
  "kernelspec": {
   "display_name": "Python 3 (ipykernel)",
   "language": "python",
   "name": "python3"
  },
  "language_info": {
   "codemirror_mode": {
    "name": "ipython",
    "version": 3
   },
   "file_extension": ".py",
   "mimetype": "text/x-python",
   "name": "python",
   "nbconvert_exporter": "python",
   "pygments_lexer": "ipython3",
   "version": "3.9.7"
  },
  "toc": {
   "base_numbering": 1,
   "nav_menu": {},
   "number_sections": true,
   "sideBar": true,
   "skip_h1_title": true,
   "title_cell": "Table of Contents",
   "title_sidebar": "Contents",
   "toc_cell": false,
   "toc_position": {
    "height": "calc(100% - 180px)",
    "left": "10px",
    "top": "150px",
    "width": "255.594px"
   },
   "toc_section_display": true,
   "toc_window_display": true
  }
 },
 "nbformat": 4,
 "nbformat_minor": 5
}
