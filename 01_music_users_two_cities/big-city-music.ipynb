{
 "cells": [
  {
   "cell_type": "markdown",
   "metadata": {
    "id": "Ml1hmfXC_Zcs"
   },
   "source": [
    "## Обзор данных"
   ]
  },
  {
   "cell_type": "markdown",
   "metadata": {
    "id": "57eAOGIz_Zcs"
   },
   "source": [
    "Изучим данные"
   ]
  },
  {
   "cell_type": "code",
   "execution_count": 1,
   "metadata": {
    "id": "AXN7PHPN_Zcs"
   },
   "outputs": [],
   "source": [
    "# импорт библиотеки pandas\n",
    "import pandas as pd"
   ]
  },
  {
   "cell_type": "markdown",
   "metadata": {
    "id": "SG23P8tt_Zcs"
   },
   "source": [
    "Прочитаем файл `x_music_project.csv` и сохраним его в переменной `df`:"
   ]
  },
  {
   "cell_type": "code",
   "execution_count": 2,
   "metadata": {
    "id": "fFVu7vqh_Zct"
   },
   "outputs": [],
   "source": [
    "# чтение файла с данными и сохранение в df\n",
    "df = pd.read_csv('x_music_project.csv')"
   ]
  },
  {
   "cell_type": "code",
   "execution_count": 3,
   "metadata": {
    "id": "oWTVX3gW_Zct"
   },
   "outputs": [
    {
     "data": {
      "text/html": [
       "<div>\n",
       "<style scoped>\n",
       "    .dataframe tbody tr th:only-of-type {\n",
       "        vertical-align: middle;\n",
       "    }\n",
       "\n",
       "    .dataframe tbody tr th {\n",
       "        vertical-align: top;\n",
       "    }\n",
       "\n",
       "    .dataframe thead th {\n",
       "        text-align: right;\n",
       "    }\n",
       "</style>\n",
       "<table border=\"1\" class=\"dataframe\">\n",
       "  <thead>\n",
       "    <tr style=\"text-align: right;\">\n",
       "      <th></th>\n",
       "      <th>userID</th>\n",
       "      <th>Track</th>\n",
       "      <th>artist</th>\n",
       "      <th>genre</th>\n",
       "      <th>City</th>\n",
       "      <th>time</th>\n",
       "      <th>Day</th>\n",
       "    </tr>\n",
       "  </thead>\n",
       "  <tbody>\n",
       "    <tr>\n",
       "      <td>0</td>\n",
       "      <td>FFB692EC</td>\n",
       "      <td>Kamigata To Boots</td>\n",
       "      <td>The Mass Missile</td>\n",
       "      <td>rock</td>\n",
       "      <td>Saint-Petersburg</td>\n",
       "      <td>20:28:33</td>\n",
       "      <td>Wednesday</td>\n",
       "    </tr>\n",
       "    <tr>\n",
       "      <td>1</td>\n",
       "      <td>55204538</td>\n",
       "      <td>Delayed Because of Accident</td>\n",
       "      <td>Andreas Rönnberg</td>\n",
       "      <td>rock</td>\n",
       "      <td>Moscow</td>\n",
       "      <td>14:07:09</td>\n",
       "      <td>Friday</td>\n",
       "    </tr>\n",
       "    <tr>\n",
       "      <td>2</td>\n",
       "      <td>20EC38</td>\n",
       "      <td>Funiculì funiculà</td>\n",
       "      <td>Mario Lanza</td>\n",
       "      <td>pop</td>\n",
       "      <td>Saint-Petersburg</td>\n",
       "      <td>20:58:07</td>\n",
       "      <td>Wednesday</td>\n",
       "    </tr>\n",
       "    <tr>\n",
       "      <td>3</td>\n",
       "      <td>A3DD03C9</td>\n",
       "      <td>Dragons in the Sunset</td>\n",
       "      <td>Fire + Ice</td>\n",
       "      <td>folk</td>\n",
       "      <td>Saint-Petersburg</td>\n",
       "      <td>08:37:09</td>\n",
       "      <td>Monday</td>\n",
       "    </tr>\n",
       "    <tr>\n",
       "      <td>4</td>\n",
       "      <td>E2DC1FAE</td>\n",
       "      <td>Soul People</td>\n",
       "      <td>Space Echo</td>\n",
       "      <td>dance</td>\n",
       "      <td>Moscow</td>\n",
       "      <td>08:34:34</td>\n",
       "      <td>Monday</td>\n",
       "    </tr>\n",
       "    <tr>\n",
       "      <td>5</td>\n",
       "      <td>842029A1</td>\n",
       "      <td>Преданная</td>\n",
       "      <td>IMPERVTOR</td>\n",
       "      <td>rusrap</td>\n",
       "      <td>Saint-Petersburg</td>\n",
       "      <td>13:09:41</td>\n",
       "      <td>Friday</td>\n",
       "    </tr>\n",
       "    <tr>\n",
       "      <td>6</td>\n",
       "      <td>4CB90AA5</td>\n",
       "      <td>True</td>\n",
       "      <td>Roman Messer</td>\n",
       "      <td>dance</td>\n",
       "      <td>Moscow</td>\n",
       "      <td>13:00:07</td>\n",
       "      <td>Wednesday</td>\n",
       "    </tr>\n",
       "    <tr>\n",
       "      <td>7</td>\n",
       "      <td>F03E1C1F</td>\n",
       "      <td>Feeling This Way</td>\n",
       "      <td>Polina Griffith</td>\n",
       "      <td>dance</td>\n",
       "      <td>Moscow</td>\n",
       "      <td>20:47:49</td>\n",
       "      <td>Wednesday</td>\n",
       "    </tr>\n",
       "    <tr>\n",
       "      <td>8</td>\n",
       "      <td>8FA1D3BE</td>\n",
       "      <td>И вновь продолжается бой</td>\n",
       "      <td>NaN</td>\n",
       "      <td>ruspop</td>\n",
       "      <td>Moscow</td>\n",
       "      <td>09:17:40</td>\n",
       "      <td>Friday</td>\n",
       "    </tr>\n",
       "    <tr>\n",
       "      <td>9</td>\n",
       "      <td>E772D5C0</td>\n",
       "      <td>Pessimist</td>\n",
       "      <td>NaN</td>\n",
       "      <td>dance</td>\n",
       "      <td>Saint-Petersburg</td>\n",
       "      <td>21:20:49</td>\n",
       "      <td>Wednesday</td>\n",
       "    </tr>\n",
       "  </tbody>\n",
       "</table>\n",
       "</div>"
      ],
      "text/plain": [
       "     userID                        Track            artist   genre  \\\n",
       "0  FFB692EC            Kamigata To Boots  The Mass Missile    rock   \n",
       "1  55204538  Delayed Because of Accident  Andreas Rönnberg    rock   \n",
       "2    20EC38            Funiculì funiculà       Mario Lanza     pop   \n",
       "3  A3DD03C9        Dragons in the Sunset        Fire + Ice    folk   \n",
       "4  E2DC1FAE                  Soul People        Space Echo   dance   \n",
       "5  842029A1                    Преданная         IMPERVTOR  rusrap   \n",
       "6  4CB90AA5                         True      Roman Messer   dance   \n",
       "7  F03E1C1F             Feeling This Way   Polina Griffith   dance   \n",
       "8  8FA1D3BE     И вновь продолжается бой               NaN  ruspop   \n",
       "9  E772D5C0                    Pessimist               NaN   dance   \n",
       "\n",
       "             City        time        Day  \n",
       "0  Saint-Petersburg  20:28:33  Wednesday  \n",
       "1            Moscow  14:07:09     Friday  \n",
       "2  Saint-Petersburg  20:58:07  Wednesday  \n",
       "3  Saint-Petersburg  08:37:09     Monday  \n",
       "4            Moscow  08:34:34     Monday  \n",
       "5  Saint-Petersburg  13:09:41     Friday  \n",
       "6            Moscow  13:00:07  Wednesday  \n",
       "7            Moscow  20:47:49  Wednesday  \n",
       "8            Moscow  09:17:40     Friday  \n",
       "9  Saint-Petersburg  21:20:49  Wednesday  "
      ]
     },
     "metadata": {},
     "output_type": "display_data"
    }
   ],
   "source": [
    "# получение первых 10 строк таблицы df\n",
    "display(df.head(10))"
   ]
  },
  {
   "cell_type": "markdown",
   "metadata": {
    "id": "EO73Kwic_Zct"
   },
   "source": [
    "Получим общую информацию о таблице:"
   ]
  },
  {
   "cell_type": "code",
   "execution_count": 4,
   "metadata": {
    "id": "DSf2kIb-_Zct",
    "scrolled": true
   },
   "outputs": [
    {
     "name": "stdout",
     "output_type": "stream",
     "text": [
      "<class 'pandas.core.frame.DataFrame'>\n",
      "RangeIndex: 65079 entries, 0 to 65078\n",
      "Data columns (total 7 columns):\n",
      "  userID    65079 non-null object\n",
      "Track       63848 non-null object\n",
      "artist      57876 non-null object\n",
      "genre       63881 non-null object\n",
      "  City      65079 non-null object\n",
      "time        65079 non-null object\n",
      "Day         65079 non-null object\n",
      "dtypes: object(7)\n",
      "memory usage: 3.5+ MB\n"
     ]
    }
   ],
   "source": [
    "df.info() # получение общей информации о данных в таблице df"
   ]
  },
  {
   "cell_type": "markdown",
   "metadata": {
    "id": "TaQ2Iwbr_Zct"
   },
   "source": [
    "Итак, в таблице семь столбцов. Тип данных во всех столбцах — `object`.\n",
    "\n",
    "Разберем, какую информацию содержат столбцы:\n",
    "* `userID` — идентификатор пользователя;\n",
    "* `Track` — название трека;\n",
    "* `artist` — имя исполнителя;\n",
    "* `genre` — название жанра;\n",
    "* `City` — город пользователя;\n",
    "* `time` — время начала прослушивания;\n",
    "* `Day` — день недели.\n",
    "\n",
    "В названиях колонок видны три нарушения стиля:\n",
    "1. Строчные буквы сочетаются с прописными.\n",
    "2. Встречаются пробелы.\n",
    "3. Слова в названии записаны не \"змеиным_регистром\"\n",
    "\n",
    "\n",
    "Количество значений в столбцах различается. Значит, в данных есть пропущенные значения."
   ]
  },
  {
   "cell_type": "markdown",
   "metadata": {
    "id": "MCB6-dXG_Zct"
   },
   "source": [
    "**Выводы**\n",
    "\n",
    "В каждой строке таблицы — данные о прослушанном треке. Часть колонок описывает саму композицию: название, исполнителя и жанр. Остальные данные рассказывают о пользователе: из какого он города, когда он слушал музыку. \n",
    "\n",
    "Предварительно можно утверждать, что, данных достаточно для проверки гипотез. Но встречаются пропуски в данных, а в названиях колонок — расхождения с хорошим стилем.\n",
    "\n",
    "Чтобы двигаться дальше, нужно устранить проблемы в данных."
   ]
  },
  {
   "cell_type": "markdown",
   "metadata": {
    "id": "SjYF6Ub9_Zct"
   },
   "source": [
    "## Предобработка данных\n",
    "Исправим стиль в заголовках столбцов, исключим пропуски. Затем проверем данные на дубликаты."
   ]
  },
  {
   "cell_type": "markdown",
   "metadata": {
    "id": "dIaKXr29_Zct"
   },
   "source": [
    "### Стиль заголовков\n",
    "Выведем на экран названия столбцов:"
   ]
  },
  {
   "cell_type": "code",
   "execution_count": 5,
   "metadata": {
    "id": "oKOTdF_Q_Zct"
   },
   "outputs": [
    {
     "data": {
      "text/plain": [
       "Index(['  userID', 'Track', 'artist', 'genre', '  City  ', 'time', 'Day'], dtype='object')"
      ]
     },
     "execution_count": 5,
     "metadata": {},
     "output_type": "execute_result"
    }
   ],
   "source": [
    "# перечень названий столбцов таблицы df\n",
    "df.columns"
   ]
  },
  {
   "cell_type": "markdown",
   "metadata": {
    "id": "zj5534cv_Zct"
   },
   "source": [
    "Приведем названия в соответствие с хорошим стилем:\n",
    "* несколько слов в названии запишите в «змеином_регистре»,\n",
    "* все символы сделайте строчными,\n",
    "* устраните пробелы.\n",
    "\n",
    "Для этого переименуем колонки так:\n",
    "* `'  userID'` → `'user_id'`;\n",
    "* `'Track'` → `'track'`;\n",
    "* `'  City  '` → `'city'`;\n",
    "* `'Day'` → `'day'`."
   ]
  },
  {
   "cell_type": "code",
   "execution_count": 6,
   "metadata": {
    "id": "ISlFqs5y_Zct"
   },
   "outputs": [],
   "source": [
    "df = df.rename(columns={'  userID':'user_id','Track':'track','  City  ':'city', 'Day':'day'}) # переименование столбцов"
   ]
  },
  {
   "cell_type": "code",
   "execution_count": 7,
   "metadata": {
    "id": "d4NOAmTW_Zct"
   },
   "outputs": [
    {
     "data": {
      "text/plain": [
       "Index(['user_id', 'track', 'artist', 'genre', 'city', 'time', 'day'], dtype='object')"
      ]
     },
     "execution_count": 7,
     "metadata": {},
     "output_type": "execute_result"
    }
   ],
   "source": [
    "df.columns # проверка результатов - перечень названий столбцов"
   ]
  },
  {
   "cell_type": "markdown",
   "metadata": {
    "id": "5ISfbcfY_Zct"
   },
   "source": [
    "### Пропуски значений\n",
    "Посчитаем, сколько в таблице пропущенных значений."
   ]
  },
  {
   "cell_type": "code",
   "execution_count": 8,
   "metadata": {
    "id": "RskX29qr_Zct"
   },
   "outputs": [
    {
     "data": {
      "text/plain": [
       "user_id       0\n",
       "track      1231\n",
       "artist     7203\n",
       "genre      1198\n",
       "city          0\n",
       "time          0\n",
       "day           0\n",
       "dtype: int64"
      ]
     },
     "execution_count": 8,
     "metadata": {},
     "output_type": "execute_result"
    }
   ],
   "source": [
    "df.isna().sum()# подсчёт пропусков"
   ]
  },
  {
   "cell_type": "markdown",
   "metadata": {
    "id": "qubhgnlO_Zct"
   },
   "source": [
    "Не все пропущенные значения влияют на исследование. Так в `track` и `artist` пропуски не важны для вашей работы. Достаточно заменить их явными обозначениями.\n",
    "\n",
    "Но пропуски в `genre` могут помешать сравнению музыкальных вкусов в Москве и Санкт-Петербурге. На практике было бы правильно установить причину пропусков и восстановить данные. Такой возможности нет в учебном проекте. Придётся:\n",
    "* заполнить и эти пропуски явными обозначениями,\n",
    "* оценить, насколько они повредят расчётам. "
   ]
  },
  {
   "cell_type": "markdown",
   "metadata": {
    "id": "fSv2laPA_Zct"
   },
   "source": [
    "Замените пропущенные значения в столбцах `track`, `artist` и `genre` на строку `'unknown'`. Для этого создадим список `columns_to_replace`"
   ]
  },
  {
   "cell_type": "code",
   "execution_count": 9,
   "metadata": {
    "id": "KplB5qWs_Zct"
   },
   "outputs": [],
   "source": [
    "# перебор названий столбцов в цикле и замена пропущенных значений на 'unknown'\n",
    "columns_to_replace = ['track','artist','genre']\n",
    "for column in columns_to_replace:\n",
    "    df[column] = df[column].fillna('unknown')\n",
    "    "
   ]
  },
  {
   "cell_type": "markdown",
   "metadata": {
    "id": "Ilsm-MZo_Zct"
   },
   "source": [
    "Снова проверим данные на наличие пропусков"
   ]
  },
  {
   "cell_type": "code",
   "execution_count": 10,
   "metadata": {
    "id": "Tq4nYRX4_Zct",
    "scrolled": true
   },
   "outputs": [
    {
     "data": {
      "text/plain": [
       "user_id    0\n",
       "track      0\n",
       "artist     0\n",
       "genre      0\n",
       "city       0\n",
       "time       0\n",
       "day        0\n",
       "dtype: int64"
      ]
     },
     "execution_count": 10,
     "metadata": {},
     "output_type": "execute_result"
    }
   ],
   "source": [
    "df.isna().sum()# подсчёт пропусков"
   ]
  },
  {
   "cell_type": "markdown",
   "metadata": {
    "id": "BWKRtBJ3_Zct"
   },
   "source": [
    "### Дубликаты\n",
    "Посчитаем явные дубликаты в таблице"
   ]
  },
  {
   "cell_type": "code",
   "execution_count": 11,
   "metadata": {
    "id": "36eES_S0_Zct"
   },
   "outputs": [
    {
     "data": {
      "text/plain": [
       "3826"
      ]
     },
     "execution_count": 11,
     "metadata": {},
     "output_type": "execute_result"
    }
   ],
   "source": [
    "df.duplicated().sum()# подсчёт явных дубликатов"
   ]
  },
  {
   "cell_type": "markdown",
   "metadata": {
    "id": "Ot25h6XR_Zct"
   },
   "source": [
    "Удалим явные дубликаты"
   ]
  },
  {
   "cell_type": "code",
   "execution_count": 12,
   "metadata": {
    "id": "exFHq6tt_Zct"
   },
   "outputs": [],
   "source": [
    "df = df.drop_duplicates().reset_index(drop=True) # удаление явных дубликатов (с удалением старых индексов и формированием новых)"
   ]
  },
  {
   "cell_type": "markdown",
   "metadata": {
    "id": "Im2YwBEG_Zct"
   },
   "source": [
    "Ещё раз посчитаем явные дубликаты в таблице"
   ]
  },
  {
   "cell_type": "code",
   "execution_count": 13,
   "metadata": {
    "id": "-8PuNWQ0_Zct"
   },
   "outputs": [
    {
     "data": {
      "text/plain": [
       "0"
      ]
     },
     "execution_count": 13,
     "metadata": {},
     "output_type": "execute_result"
    }
   ],
   "source": [
    "df.duplicated().sum()# проверка на отсутствие дубликатов"
   ]
  },
  {
   "cell_type": "markdown",
   "metadata": {
    "id": "QlFBsxAr_Zct"
   },
   "source": [
    "Помимо явных дубликатов в данных могут присутствовать неявные. Проверим колонку `genre`. Например, название одного и того же жанра может быть записано немного по-разному."
   ]
  },
  {
   "cell_type": "code",
   "execution_count": 14,
   "metadata": {
    "id": "JIUcqzZN_Zct",
    "scrolled": true
   },
   "outputs": [
    {
     "data": {
      "text/plain": [
       "array(['acid', 'acoustic', 'action', 'adult', 'africa', 'afrikaans',\n",
       "       'alternative', 'alternativepunk', 'ambient', 'americana',\n",
       "       'animated', 'anime', 'arabesk', 'arabic', 'arena',\n",
       "       'argentinetango', 'art', 'audiobook', 'author', 'avantgarde',\n",
       "       'axé', 'baile', 'balkan', 'beats', 'bigroom', 'black', 'bluegrass',\n",
       "       'blues', 'bollywood', 'bossa', 'brazilian', 'breakbeat', 'breaks',\n",
       "       'broadway', 'cantautori', 'cantopop', 'canzone', 'caribbean',\n",
       "       'caucasian', 'celtic', 'chamber', 'chanson', 'children', 'chill',\n",
       "       'chinese', 'choral', 'christian', 'christmas', 'classical',\n",
       "       'classicmetal', 'club', 'colombian', 'comedy', 'conjazz',\n",
       "       'contemporary', 'country', 'cuban', 'dance', 'dancehall',\n",
       "       'dancepop', 'dark', 'death', 'deep', 'deutschrock', 'deutschspr',\n",
       "       'dirty', 'disco', 'dnb', 'documentary', 'downbeat', 'downtempo',\n",
       "       'drum', 'dub', 'dubstep', 'eastern', 'easy', 'electronic',\n",
       "       'electropop', 'emo', 'entehno', 'epicmetal', 'estrada', 'ethnic',\n",
       "       'eurofolk', 'european', 'experimental', 'extrememetal', 'fado',\n",
       "       'fairytail', 'film', 'fitness', 'flamenco', 'folk', 'folklore',\n",
       "       'folkmetal', 'folkrock', 'folktronica', 'forró', 'frankreich',\n",
       "       'französisch', 'french', 'funk', 'future', 'gangsta', 'garage',\n",
       "       'german', 'ghazal', 'gitarre', 'glitch', 'gospel', 'gothic',\n",
       "       'grime', 'grunge', 'gypsy', 'handsup', \"hard'n'heavy\", 'hardcore',\n",
       "       'hardstyle', 'hardtechno', 'hip', 'hip-hop', 'hiphop',\n",
       "       'historisch', 'holiday', 'hop', 'horror', 'house', 'hymn', 'idm',\n",
       "       'independent', 'indian', 'indie', 'indipop', 'industrial',\n",
       "       'inspirational', 'instrumental', 'international', 'irish', 'jam',\n",
       "       'japanese', 'jazz', 'jewish', 'jpop', 'jungle', 'k-pop',\n",
       "       'karadeniz', 'karaoke', 'kayokyoku', 'korean', 'laiko', 'latin',\n",
       "       'latino', 'leftfield', 'local', 'lounge', 'loungeelectronic',\n",
       "       'lovers', 'malaysian', 'mandopop', 'marschmusik', 'meditative',\n",
       "       'mediterranean', 'melodic', 'metal', 'metalcore', 'mexican',\n",
       "       'middle', 'minimal', 'miscellaneous', 'modern', 'mood', 'mpb',\n",
       "       'muslim', 'native', 'neoklassik', 'neue', 'new', 'newage',\n",
       "       'newwave', 'nu', 'nujazz', 'numetal', 'oceania', 'old', 'opera',\n",
       "       'orchestral', 'other', 'piano', 'podcasts', 'pop', 'popdance',\n",
       "       'popelectronic', 'popeurodance', 'poprussian', 'post',\n",
       "       'posthardcore', 'postrock', 'power', 'progmetal', 'progressive',\n",
       "       'psychedelic', 'punjabi', 'punk', 'quebecois', 'ragga', 'ram',\n",
       "       'rancheras', 'rap', 'rave', 'reggae', 'reggaeton', 'regional',\n",
       "       'relax', 'religious', 'retro', 'rhythm', 'rnb', 'rnr', 'rock',\n",
       "       'rockabilly', 'rockalternative', 'rockindie', 'rockother',\n",
       "       'romance', 'roots', 'ruspop', 'rusrap', 'rusrock', 'russian',\n",
       "       'salsa', 'samba', 'scenic', 'schlager', 'self', 'sertanejo',\n",
       "       'shanson', 'shoegazing', 'showtunes', 'singer', 'ska', 'skarock',\n",
       "       'slow', 'smooth', 'soft', 'soul', 'soulful', 'sound', 'soundtrack',\n",
       "       'southern', 'specialty', 'speech', 'spiritual', 'sport',\n",
       "       'stonerrock', 'surf', 'swing', 'synthpop', 'synthrock',\n",
       "       'sängerportrait', 'tango', 'tanzorchester', 'taraftar', 'tatar',\n",
       "       'tech', 'techno', 'teen', 'thrash', 'top', 'traditional',\n",
       "       'tradjazz', 'trance', 'tribal', 'trip', 'triphop', 'tropical',\n",
       "       'türk', 'türkçe', 'ukrrock', 'unknown', 'urban', 'uzbek',\n",
       "       'variété', 'vi', 'videogame', 'vocal', 'western', 'world',\n",
       "       'worldbeat', 'ïîï', 'электроника'], dtype=object)"
      ]
     },
     "execution_count": 14,
     "metadata": {},
     "output_type": "execute_result"
    }
   ],
   "source": [
    "df['genre'].sort_values().unique() # Просмотр уникальных названий жанров"
   ]
  },
  {
   "cell_type": "markdown",
   "metadata": {
    "id": "qej-Qmuo_Zct"
   },
   "source": [
    "Взглянув на список увиди неявные дубликаты названия `hiphop`. \n",
    "\n",
    "* *hip*,\n",
    "* *hop*,\n",
    "* *hip-hop*.\n",
    "\n",
    "Чтобы очистить от них таблицу, напишите функцию `replace_wrong_genres()` "
   ]
  },
  {
   "cell_type": "code",
   "execution_count": 15,
   "metadata": {
    "id": "ErNDkmns_Zct"
   },
   "outputs": [],
   "source": [
    "# Функция для замены неявных дубликатов\n",
    "# Функция исправит колонку `genre` в таблице `df`\n",
    "# заменит каждое значение из списка `wrong_genres` на значение из `correct_genre`\n",
    "# `wrong_genres` — список дубликатов,\n",
    "# `correct_genre` — строка с правильным значением.\n",
    "def replace_wrong_genres(wrong_genres, correct_genre):\n",
    "\n",
    "    for wrong_genre in wrong_genres:\n",
    "        df['genre'] = df['genre'].replace(wrong_genre, correct_genre)"
   ]
  },
  {
   "cell_type": "code",
   "execution_count": 16,
   "metadata": {
    "id": "YN5i2hpmSo09"
   },
   "outputs": [],
   "source": [
    "# Устранение неявных дубликатов\n",
    "replace_wrong_genres(['hip', 'hop', 'hip-hop'], 'hiphop')"
   ]
  },
  {
   "cell_type": "markdown",
   "metadata": {
    "id": "zQKF16_RG15m"
   },
   "source": [
    "Проверим, что заменили неправильные названия"
   ]
  },
  {
   "cell_type": "code",
   "execution_count": 17,
   "metadata": {
    "id": "wvixALnFG15m",
    "scrolled": true
   },
   "outputs": [
    {
     "data": {
      "text/plain": [
       "array(['acid', 'acoustic', 'action', 'adult', 'africa', 'afrikaans',\n",
       "       'alternative', 'alternativepunk', 'ambient', 'americana',\n",
       "       'animated', 'anime', 'arabesk', 'arabic', 'arena',\n",
       "       'argentinetango', 'art', 'audiobook', 'author', 'avantgarde',\n",
       "       'axé', 'baile', 'balkan', 'beats', 'bigroom', 'black', 'bluegrass',\n",
       "       'blues', 'bollywood', 'bossa', 'brazilian', 'breakbeat', 'breaks',\n",
       "       'broadway', 'cantautori', 'cantopop', 'canzone', 'caribbean',\n",
       "       'caucasian', 'celtic', 'chamber', 'chanson', 'children', 'chill',\n",
       "       'chinese', 'choral', 'christian', 'christmas', 'classical',\n",
       "       'classicmetal', 'club', 'colombian', 'comedy', 'conjazz',\n",
       "       'contemporary', 'country', 'cuban', 'dance', 'dancehall',\n",
       "       'dancepop', 'dark', 'death', 'deep', 'deutschrock', 'deutschspr',\n",
       "       'dirty', 'disco', 'dnb', 'documentary', 'downbeat', 'downtempo',\n",
       "       'drum', 'dub', 'dubstep', 'eastern', 'easy', 'electronic',\n",
       "       'electropop', 'emo', 'entehno', 'epicmetal', 'estrada', 'ethnic',\n",
       "       'eurofolk', 'european', 'experimental', 'extrememetal', 'fado',\n",
       "       'fairytail', 'film', 'fitness', 'flamenco', 'folk', 'folklore',\n",
       "       'folkmetal', 'folkrock', 'folktronica', 'forró', 'frankreich',\n",
       "       'französisch', 'french', 'funk', 'future', 'gangsta', 'garage',\n",
       "       'german', 'ghazal', 'gitarre', 'glitch', 'gospel', 'gothic',\n",
       "       'grime', 'grunge', 'gypsy', 'handsup', \"hard'n'heavy\", 'hardcore',\n",
       "       'hardstyle', 'hardtechno', 'hiphop', 'historisch', 'holiday',\n",
       "       'horror', 'house', 'hymn', 'idm', 'independent', 'indian', 'indie',\n",
       "       'indipop', 'industrial', 'inspirational', 'instrumental',\n",
       "       'international', 'irish', 'jam', 'japanese', 'jazz', 'jewish',\n",
       "       'jpop', 'jungle', 'k-pop', 'karadeniz', 'karaoke', 'kayokyoku',\n",
       "       'korean', 'laiko', 'latin', 'latino', 'leftfield', 'local',\n",
       "       'lounge', 'loungeelectronic', 'lovers', 'malaysian', 'mandopop',\n",
       "       'marschmusik', 'meditative', 'mediterranean', 'melodic', 'metal',\n",
       "       'metalcore', 'mexican', 'middle', 'minimal', 'miscellaneous',\n",
       "       'modern', 'mood', 'mpb', 'muslim', 'native', 'neoklassik', 'neue',\n",
       "       'new', 'newage', 'newwave', 'nu', 'nujazz', 'numetal', 'oceania',\n",
       "       'old', 'opera', 'orchestral', 'other', 'piano', 'podcasts', 'pop',\n",
       "       'popdance', 'popelectronic', 'popeurodance', 'poprussian', 'post',\n",
       "       'posthardcore', 'postrock', 'power', 'progmetal', 'progressive',\n",
       "       'psychedelic', 'punjabi', 'punk', 'quebecois', 'ragga', 'ram',\n",
       "       'rancheras', 'rap', 'rave', 'reggae', 'reggaeton', 'regional',\n",
       "       'relax', 'religious', 'retro', 'rhythm', 'rnb', 'rnr', 'rock',\n",
       "       'rockabilly', 'rockalternative', 'rockindie', 'rockother',\n",
       "       'romance', 'roots', 'ruspop', 'rusrap', 'rusrock', 'russian',\n",
       "       'salsa', 'samba', 'scenic', 'schlager', 'self', 'sertanejo',\n",
       "       'shanson', 'shoegazing', 'showtunes', 'singer', 'ska', 'skarock',\n",
       "       'slow', 'smooth', 'soft', 'soul', 'soulful', 'sound', 'soundtrack',\n",
       "       'southern', 'specialty', 'speech', 'spiritual', 'sport',\n",
       "       'stonerrock', 'surf', 'swing', 'synthpop', 'synthrock',\n",
       "       'sängerportrait', 'tango', 'tanzorchester', 'taraftar', 'tatar',\n",
       "       'tech', 'techno', 'teen', 'thrash', 'top', 'traditional',\n",
       "       'tradjazz', 'trance', 'tribal', 'trip', 'triphop', 'tropical',\n",
       "       'türk', 'türkçe', 'ukrrock', 'unknown', 'urban', 'uzbek',\n",
       "       'variété', 'vi', 'videogame', 'vocal', 'western', 'world',\n",
       "       'worldbeat', 'ïîï', 'электроника'], dtype=object)"
      ]
     },
     "execution_count": 17,
     "metadata": {},
     "output_type": "execute_result"
    }
   ],
   "source": [
    "df['genre'].sort_values().unique()# Проверка на неявные дубликаты"
   ]
  },
  {
   "cell_type": "markdown",
   "metadata": {
    "id": "jz6a9-7HQUDd"
   },
   "source": [
    "**Выводы**\n",
    "\n",
    "Предобработка обнаружила три проблемы в данных:\n",
    "\n",
    "- нарушения в стиле заголовков,\n",
    "- пропущенные значения,\n",
    "- дубликаты — явные и неявные.\n",
    "\n",
    "Мы исправили заголовки, чтобы упростить работу с таблицей. Без дубликатов исследование станет более точным.\n",
    "\n",
    "Пропущенные значения мы заменили на `'unknown'`. Ещё предстоит увидеть, не повредят ли исследованию пропуски в колонке `genre`.\n",
    "\n",
    "Теперь можно перейти к проверке гипотез. "
   ]
  },
  {
   "cell_type": "markdown",
   "metadata": {
    "id": "WttZHXH0SqKk"
   },
   "source": [
    "## Проверка гипотез"
   ]
  },
  {
   "cell_type": "markdown",
   "metadata": {
    "id": "Im936VVi_Zcu"
   },
   "source": [
    "### Сравнение поведения пользователей двух столиц"
   ]
  },
  {
   "cell_type": "markdown",
   "metadata": {
    "id": "nwt_MuaL_Zcu"
   },
   "source": [
    "Первая гипотеза утверждает, что пользователи по-разному слушают музыку в Москве и Санкт-Петербурге. Проверим это предположение по данным о трёх днях недели — понедельнике, среде и пятнице. Для этого:\n",
    "\n",
    "* Разделим пользователей Москвы и Санкт-Петербурга\n",
    "* Сравним, сколько треков послушала каждая группа пользователей в понедельник, среду и пятницу.\n"
   ]
  },
  {
   "cell_type": "markdown",
   "metadata": {
    "id": "8Dw_YMmT_Zcu"
   },
   "source": [
    "Оценим активность пользователей в каждом городе. Сгруппируем данные по городу и посчитаем прослушивания в каждой группе."
   ]
  },
  {
   "cell_type": "code",
   "execution_count": 18,
   "metadata": {
    "id": "0_Qs96oh_Zcu"
   },
   "outputs": [
    {
     "data": {
      "text/plain": [
       "city\n",
       "Moscow              42741\n",
       "Saint-Petersburg    18512\n",
       "Name: time, dtype: int64"
      ]
     },
     "execution_count": 18,
     "metadata": {},
     "output_type": "execute_result"
    }
   ],
   "source": [
    "# Подсчёт прослушиваний в каждом городе\n",
    "df.groupby('city')['time'].count()"
   ]
  },
  {
   "cell_type": "markdown",
   "metadata": {
    "id": "dzli3w8o_Zcu"
   },
   "source": [
    "В Москве прослушиваний больше, чем в Петербурге. Из этого не следует, что московские пользователи чаще слушают музыку. Просто самих пользователей в Москве больше.\n",
    "\n",
    "Теперь сгруппируем данные по дню недели и подсчитаем прослушивания в понедельник, среду и пятницу."
   ]
  },
  {
   "cell_type": "code",
   "execution_count": 19,
   "metadata": {
    "id": "uZMKjiJz_Zcu",
    "scrolled": true
   },
   "outputs": [
    {
     "data": {
      "text/plain": [
       "day\n",
       "Friday       21840\n",
       "Monday       21354\n",
       "Wednesday    18059\n",
       "Name: time, dtype: int64"
      ]
     },
     "execution_count": 19,
     "metadata": {},
     "output_type": "execute_result"
    }
   ],
   "source": [
    "# Подсчёт прослушиваний в каждый из трёх дней\n",
    "df.groupby('day')['time'].count()"
   ]
  },
  {
   "cell_type": "markdown",
   "metadata": {
    "id": "cC2tNrlL_Zcu"
   },
   "source": [
    "В среднем пользователи из двух городов менее активны по средам. Но картина может измениться, если рассмотреть каждый город в отдельности."
   ]
  },
  {
   "cell_type": "markdown",
   "metadata": {
    "id": "POzs8bGa_Zcu"
   },
   "source": [
    "Создадим функцию `number_tracks()`, которая посчитает прослушивания для заданного дня и города. Ей понадобятся два параметра:\n",
    "* день недели,\n",
    "* название города.\n",
    "\n",
    "В функции сохраните в переменную строки исходной таблицы, у которых значение:\n",
    "  * в колонке `day` равно параметру `day`,\n",
    "  * в колонке `city` равно параметру `city`.\n",
    "\n",
    "Для этого применим последовательную фильтрацию с логической индексацией.\n",
    "\n",
    "Затем посчитаем значения в столбце `user_id` получившейся таблицы. Результат сохраним в новую переменную. Верн1м эту переменную из функции."
   ]
  },
  {
   "cell_type": "code",
   "execution_count": 20,
   "metadata": {
    "id": "Nz3GdQB1_Zcu"
   },
   "outputs": [],
   "source": [
    "# <создание функции number_tracks()>\n",
    "# Объявляется функция с двумя параметрами: day, city.\n",
    "# В переменной track_list_count сохраняется число значений столбца 'user_id',\n",
    "# рассчитанное методом count() для таблицы track_list.\n",
    "# Функция возвращает число - значение track_list_count.\n",
    "# Функция для подсчёта прослушиваний для конкретного города и дня.\n",
    "# С помощью последовательной фильтрации с логической индексацией она \n",
    "# сначала получит из исходной таблицы строки с нужным днём,\n",
    "# затем из результата отфильтрует строки с нужным городом,\n",
    "# методом count() посчитает количество значений в колонке user_id. \n",
    "# Это количество функция вернёт в качестве результата\n",
    "\n",
    "def number_tracks(day,city):\n",
    "\n",
    "    track_list = df[(df['day'] == day) & (df['city'] == city)]\n",
    "    track_list_count = track_list['user_id'].count()\n",
    "\n",
    "    return track_list_count\n"
   ]
  },
  {
   "cell_type": "code",
   "execution_count": 21,
   "metadata": {
    "id": "rJcRATNQ_Zcu"
   },
   "outputs": [
    {
     "data": {
      "text/plain": [
       "15740"
      ]
     },
     "execution_count": 21,
     "metadata": {},
     "output_type": "execute_result"
    }
   ],
   "source": [
    "number_tracks('Monday','Moscow')# количество прослушиваний в Москве по понедельникам"
   ]
  },
  {
   "cell_type": "code",
   "execution_count": 22,
   "metadata": {
    "id": "hq_ncZ5T_Zcu"
   },
   "outputs": [
    {
     "data": {
      "text/plain": [
       "5614"
      ]
     },
     "execution_count": 22,
     "metadata": {},
     "output_type": "execute_result"
    }
   ],
   "source": [
    "number_tracks('Monday','Saint-Petersburg')# количество прослушиваний в Санкт-Петербурге по понедельникам"
   ]
  },
  {
   "cell_type": "code",
   "execution_count": 23,
   "metadata": {
    "id": "_NTy2VPU_Zcu"
   },
   "outputs": [
    {
     "data": {
      "text/plain": [
       "11056"
      ]
     },
     "execution_count": 23,
     "metadata": {},
     "output_type": "execute_result"
    }
   ],
   "source": [
    "number_tracks('Wednesday','Moscow')# количество прослушиваний в Москве по средам"
   ]
  },
  {
   "cell_type": "code",
   "execution_count": 24,
   "metadata": {
    "id": "j2y3TAwo_Zcu"
   },
   "outputs": [
    {
     "data": {
      "text/plain": [
       "7003"
      ]
     },
     "execution_count": 24,
     "metadata": {},
     "output_type": "execute_result"
    }
   ],
   "source": [
    "number_tracks('Wednesday','Saint-Petersburg')# количество прослушиваний в Санкт-Петербурге по средам"
   ]
  },
  {
   "cell_type": "code",
   "execution_count": 25,
   "metadata": {
    "id": "vYDw5u_K_Zcu"
   },
   "outputs": [
    {
     "data": {
      "text/plain": [
       "15945"
      ]
     },
     "execution_count": 25,
     "metadata": {},
     "output_type": "execute_result"
    }
   ],
   "source": [
    "number_tracks('Friday','Moscow')# количество прослушиваний в Москве по пятницам"
   ]
  },
  {
   "cell_type": "code",
   "execution_count": 26,
   "metadata": {
    "id": "8_yzFtW3_Zcu"
   },
   "outputs": [
    {
     "data": {
      "text/plain": [
       "5895"
      ]
     },
     "execution_count": 26,
     "metadata": {},
     "output_type": "execute_result"
    }
   ],
   "source": [
    "number_tracks('Friday','Saint-Petersburg')# количество прослушиваний в Санкт-Петербурге по пятницам"
   ]
  },
  {
   "cell_type": "markdown",
   "metadata": {
    "id": "7QXffbO-_Zcu"
   },
   "source": [
    "Сведём полученную информацию в одну таблицу, где `city`, `monday`, `wednesday`, `friday` названия столбцов."
   ]
  },
  {
   "cell_type": "code",
   "execution_count": 27,
   "metadata": {
    "id": "APAcLpOr_Zcu",
    "scrolled": true
   },
   "outputs": [
    {
     "data": {
      "text/html": [
       "<div>\n",
       "<style scoped>\n",
       "    .dataframe tbody tr th:only-of-type {\n",
       "        vertical-align: middle;\n",
       "    }\n",
       "\n",
       "    .dataframe tbody tr th {\n",
       "        vertical-align: top;\n",
       "    }\n",
       "\n",
       "    .dataframe thead th {\n",
       "        text-align: right;\n",
       "    }\n",
       "</style>\n",
       "<table border=\"1\" class=\"dataframe\">\n",
       "  <thead>\n",
       "    <tr style=\"text-align: right;\">\n",
       "      <th></th>\n",
       "      <th>city</th>\n",
       "      <th>monday</th>\n",
       "      <th>wednesday</th>\n",
       "      <th>friday</th>\n",
       "    </tr>\n",
       "  </thead>\n",
       "  <tbody>\n",
       "    <tr>\n",
       "      <td>0</td>\n",
       "      <td>Moscow</td>\n",
       "      <td>15740</td>\n",
       "      <td>11056</td>\n",
       "      <td>15945</td>\n",
       "    </tr>\n",
       "    <tr>\n",
       "      <td>1</td>\n",
       "      <td>Saint-Petersburg</td>\n",
       "      <td>5614</td>\n",
       "      <td>7003</td>\n",
       "      <td>5895</td>\n",
       "    </tr>\n",
       "  </tbody>\n",
       "</table>\n",
       "</div>"
      ],
      "text/plain": [
       "               city  monday  wednesday  friday\n",
       "0            Moscow   15740      11056   15945\n",
       "1  Saint-Petersburg    5614       7003    5895"
      ]
     },
     "metadata": {},
     "output_type": "display_data"
    }
   ],
   "source": [
    "# Таблица с результатами\n",
    "column = ['city', 'monday', 'wednesday', 'friday']\n",
    "entries = [\n",
    "    ['Moscow', 15740, 11056 , 15945],\n",
    "    ['Saint-Petersburg', 5614, 7003, 5895],\n",
    "]\n",
    "weekday_by_city = pd.DataFrame(data=entries , columns=column)\n",
    "display(weekday_by_city)"
   ]
  },
  {
   "cell_type": "markdown",
   "metadata": {
    "id": "-EgPIHYu_Zcu"
   },
   "source": [
    "**Выводы**\n",
    "\n",
    "Данные показывают разницу поведения пользователей:\n",
    "\n",
    "- В Москве пик прослушиваний приходится на понедельник и пятницу, а в среду заметен спад.\n",
    "- В Петербурге, наоборот, больше слушают музыку по средам. Активность в понедельник и пятницу здесь почти в равной мере уступает среде.\n",
    "\n",
    "Значит, данные говорят в пользу первой гипотезы."
   ]
  },
  {
   "cell_type": "markdown",
   "metadata": {
    "id": "atZAxtq4_Zcu"
   },
   "source": [
    "### Музыка в начале и в конце недели"
   ]
  },
  {
   "cell_type": "markdown",
   "metadata": {
    "id": "eXrQqXFH_Zcu"
   },
   "source": [
    "Согласно второй гипотезе, утром в понедельник в Москве преобладают одни жанры, а в Петербурге — другие. Так же и вечером пятницы преобладают разные жанры — в зависимости от города."
   ]
  },
  {
   "cell_type": "markdown",
   "metadata": {},
   "source": [
    "Получим таблицы данных по Москве moscow_general и по Санкт-Петербургу spb_general."
   ]
  },
  {
   "cell_type": "code",
   "execution_count": 28,
   "metadata": {
    "id": "qeaFfM_P_Zcu"
   },
   "outputs": [
    {
     "data": {
      "text/html": [
       "<div>\n",
       "<style scoped>\n",
       "    .dataframe tbody tr th:only-of-type {\n",
       "        vertical-align: middle;\n",
       "    }\n",
       "\n",
       "    .dataframe tbody tr th {\n",
       "        vertical-align: top;\n",
       "    }\n",
       "\n",
       "    .dataframe thead th {\n",
       "        text-align: right;\n",
       "    }\n",
       "</style>\n",
       "<table border=\"1\" class=\"dataframe\">\n",
       "  <thead>\n",
       "    <tr style=\"text-align: right;\">\n",
       "      <th></th>\n",
       "      <th>user_id</th>\n",
       "      <th>track</th>\n",
       "      <th>artist</th>\n",
       "      <th>genre</th>\n",
       "      <th>city</th>\n",
       "      <th>time</th>\n",
       "      <th>day</th>\n",
       "    </tr>\n",
       "  </thead>\n",
       "  <tbody>\n",
       "    <tr>\n",
       "      <td>1</td>\n",
       "      <td>55204538</td>\n",
       "      <td>Delayed Because of Accident</td>\n",
       "      <td>Andreas Rönnberg</td>\n",
       "      <td>rock</td>\n",
       "      <td>Moscow</td>\n",
       "      <td>14:07:09</td>\n",
       "      <td>Friday</td>\n",
       "    </tr>\n",
       "    <tr>\n",
       "      <td>4</td>\n",
       "      <td>E2DC1FAE</td>\n",
       "      <td>Soul People</td>\n",
       "      <td>Space Echo</td>\n",
       "      <td>dance</td>\n",
       "      <td>Moscow</td>\n",
       "      <td>08:34:34</td>\n",
       "      <td>Monday</td>\n",
       "    </tr>\n",
       "    <tr>\n",
       "      <td>6</td>\n",
       "      <td>4CB90AA5</td>\n",
       "      <td>True</td>\n",
       "      <td>Roman Messer</td>\n",
       "      <td>dance</td>\n",
       "      <td>Moscow</td>\n",
       "      <td>13:00:07</td>\n",
       "      <td>Wednesday</td>\n",
       "    </tr>\n",
       "    <tr>\n",
       "      <td>7</td>\n",
       "      <td>F03E1C1F</td>\n",
       "      <td>Feeling This Way</td>\n",
       "      <td>Polina Griffith</td>\n",
       "      <td>dance</td>\n",
       "      <td>Moscow</td>\n",
       "      <td>20:47:49</td>\n",
       "      <td>Wednesday</td>\n",
       "    </tr>\n",
       "    <tr>\n",
       "      <td>8</td>\n",
       "      <td>8FA1D3BE</td>\n",
       "      <td>И вновь продолжается бой</td>\n",
       "      <td>unknown</td>\n",
       "      <td>ruspop</td>\n",
       "      <td>Moscow</td>\n",
       "      <td>09:17:40</td>\n",
       "      <td>Friday</td>\n",
       "    </tr>\n",
       "    <tr>\n",
       "      <td>...</td>\n",
       "      <td>...</td>\n",
       "      <td>...</td>\n",
       "      <td>...</td>\n",
       "      <td>...</td>\n",
       "      <td>...</td>\n",
       "      <td>...</td>\n",
       "      <td>...</td>\n",
       "    </tr>\n",
       "    <tr>\n",
       "      <td>61247</td>\n",
       "      <td>83A474E7</td>\n",
       "      <td>I Worship Only What You Bleed</td>\n",
       "      <td>The Black Dahlia Murder</td>\n",
       "      <td>extrememetal</td>\n",
       "      <td>Moscow</td>\n",
       "      <td>21:07:12</td>\n",
       "      <td>Monday</td>\n",
       "    </tr>\n",
       "    <tr>\n",
       "      <td>61248</td>\n",
       "      <td>729CBB09</td>\n",
       "      <td>My Name</td>\n",
       "      <td>McLean</td>\n",
       "      <td>rnb</td>\n",
       "      <td>Moscow</td>\n",
       "      <td>13:32:28</td>\n",
       "      <td>Wednesday</td>\n",
       "    </tr>\n",
       "    <tr>\n",
       "      <td>61250</td>\n",
       "      <td>C5E3A0D5</td>\n",
       "      <td>Jalopiina</td>\n",
       "      <td>unknown</td>\n",
       "      <td>industrial</td>\n",
       "      <td>Moscow</td>\n",
       "      <td>20:09:26</td>\n",
       "      <td>Friday</td>\n",
       "    </tr>\n",
       "    <tr>\n",
       "      <td>61251</td>\n",
       "      <td>321D0506</td>\n",
       "      <td>Freight Train</td>\n",
       "      <td>Chas McDevitt</td>\n",
       "      <td>rock</td>\n",
       "      <td>Moscow</td>\n",
       "      <td>21:43:59</td>\n",
       "      <td>Friday</td>\n",
       "    </tr>\n",
       "    <tr>\n",
       "      <td>61252</td>\n",
       "      <td>3A64EF84</td>\n",
       "      <td>Tell Me Sweet Little Lies</td>\n",
       "      <td>Monica Lopez</td>\n",
       "      <td>country</td>\n",
       "      <td>Moscow</td>\n",
       "      <td>21:59:46</td>\n",
       "      <td>Friday</td>\n",
       "    </tr>\n",
       "  </tbody>\n",
       "</table>\n",
       "<p>42741 rows × 7 columns</p>\n",
       "</div>"
      ],
      "text/plain": [
       "        user_id                          track                   artist  \\\n",
       "1      55204538    Delayed Because of Accident         Andreas Rönnberg   \n",
       "4      E2DC1FAE                    Soul People               Space Echo   \n",
       "6      4CB90AA5                           True             Roman Messer   \n",
       "7      F03E1C1F               Feeling This Way          Polina Griffith   \n",
       "8      8FA1D3BE       И вновь продолжается бой                  unknown   \n",
       "...         ...                            ...                      ...   \n",
       "61247  83A474E7  I Worship Only What You Bleed  The Black Dahlia Murder   \n",
       "61248  729CBB09                        My Name                   McLean   \n",
       "61250  C5E3A0D5                      Jalopiina                  unknown   \n",
       "61251  321D0506                  Freight Train            Chas McDevitt   \n",
       "61252  3A64EF84      Tell Me Sweet Little Lies             Monica Lopez   \n",
       "\n",
       "              genre    city      time        day  \n",
       "1              rock  Moscow  14:07:09     Friday  \n",
       "4             dance  Moscow  08:34:34     Monday  \n",
       "6             dance  Moscow  13:00:07  Wednesday  \n",
       "7             dance  Moscow  20:47:49  Wednesday  \n",
       "8            ruspop  Moscow  09:17:40     Friday  \n",
       "...             ...     ...       ...        ...  \n",
       "61247  extrememetal  Moscow  21:07:12     Monday  \n",
       "61248           rnb  Moscow  13:32:28  Wednesday  \n",
       "61250    industrial  Moscow  20:09:26     Friday  \n",
       "61251          rock  Moscow  21:43:59     Friday  \n",
       "61252       country  Moscow  21:59:46     Friday  \n",
       "\n",
       "[42741 rows x 7 columns]"
      ]
     },
     "metadata": {},
     "output_type": "display_data"
    }
   ],
   "source": [
    "# получение таблицы moscow_general из тех строк таблицы df, \n",
    "# для которых значение в столбце 'city' равно 'Moscow'\n",
    "moscow_general = df[df['city'] == 'Moscow']\n",
    "display(moscow_general)        "
   ]
  },
  {
   "cell_type": "code",
   "execution_count": 29,
   "metadata": {
    "id": "ORaVRKto_Zcu",
    "scrolled": true
   },
   "outputs": [
    {
     "data": {
      "text/html": [
       "<div>\n",
       "<style scoped>\n",
       "    .dataframe tbody tr th:only-of-type {\n",
       "        vertical-align: middle;\n",
       "    }\n",
       "\n",
       "    .dataframe tbody tr th {\n",
       "        vertical-align: top;\n",
       "    }\n",
       "\n",
       "    .dataframe thead th {\n",
       "        text-align: right;\n",
       "    }\n",
       "</style>\n",
       "<table border=\"1\" class=\"dataframe\">\n",
       "  <thead>\n",
       "    <tr style=\"text-align: right;\">\n",
       "      <th></th>\n",
       "      <th>user_id</th>\n",
       "      <th>track</th>\n",
       "      <th>artist</th>\n",
       "      <th>genre</th>\n",
       "      <th>city</th>\n",
       "      <th>time</th>\n",
       "      <th>day</th>\n",
       "    </tr>\n",
       "  </thead>\n",
       "  <tbody>\n",
       "    <tr>\n",
       "      <td>0</td>\n",
       "      <td>FFB692EC</td>\n",
       "      <td>Kamigata To Boots</td>\n",
       "      <td>The Mass Missile</td>\n",
       "      <td>rock</td>\n",
       "      <td>Saint-Petersburg</td>\n",
       "      <td>20:28:33</td>\n",
       "      <td>Wednesday</td>\n",
       "    </tr>\n",
       "    <tr>\n",
       "      <td>2</td>\n",
       "      <td>20EC38</td>\n",
       "      <td>Funiculì funiculà</td>\n",
       "      <td>Mario Lanza</td>\n",
       "      <td>pop</td>\n",
       "      <td>Saint-Petersburg</td>\n",
       "      <td>20:58:07</td>\n",
       "      <td>Wednesday</td>\n",
       "    </tr>\n",
       "    <tr>\n",
       "      <td>3</td>\n",
       "      <td>A3DD03C9</td>\n",
       "      <td>Dragons in the Sunset</td>\n",
       "      <td>Fire + Ice</td>\n",
       "      <td>folk</td>\n",
       "      <td>Saint-Petersburg</td>\n",
       "      <td>08:37:09</td>\n",
       "      <td>Monday</td>\n",
       "    </tr>\n",
       "    <tr>\n",
       "      <td>5</td>\n",
       "      <td>842029A1</td>\n",
       "      <td>Преданная</td>\n",
       "      <td>IMPERVTOR</td>\n",
       "      <td>rusrap</td>\n",
       "      <td>Saint-Petersburg</td>\n",
       "      <td>13:09:41</td>\n",
       "      <td>Friday</td>\n",
       "    </tr>\n",
       "    <tr>\n",
       "      <td>9</td>\n",
       "      <td>E772D5C0</td>\n",
       "      <td>Pessimist</td>\n",
       "      <td>unknown</td>\n",
       "      <td>dance</td>\n",
       "      <td>Saint-Petersburg</td>\n",
       "      <td>21:20:49</td>\n",
       "      <td>Wednesday</td>\n",
       "    </tr>\n",
       "    <tr>\n",
       "      <td>...</td>\n",
       "      <td>...</td>\n",
       "      <td>...</td>\n",
       "      <td>...</td>\n",
       "      <td>...</td>\n",
       "      <td>...</td>\n",
       "      <td>...</td>\n",
       "      <td>...</td>\n",
       "    </tr>\n",
       "    <tr>\n",
       "      <td>61239</td>\n",
       "      <td>D94F810B</td>\n",
       "      <td>Theme from the Walking Dead</td>\n",
       "      <td>Proyecto Halloween</td>\n",
       "      <td>film</td>\n",
       "      <td>Saint-Petersburg</td>\n",
       "      <td>21:14:40</td>\n",
       "      <td>Monday</td>\n",
       "    </tr>\n",
       "    <tr>\n",
       "      <td>61240</td>\n",
       "      <td>BC8EC5CF</td>\n",
       "      <td>Red Lips: Gta (Rover Rework)</td>\n",
       "      <td>Rover</td>\n",
       "      <td>electronic</td>\n",
       "      <td>Saint-Petersburg</td>\n",
       "      <td>21:06:50</td>\n",
       "      <td>Monday</td>\n",
       "    </tr>\n",
       "    <tr>\n",
       "      <td>61241</td>\n",
       "      <td>29E04611</td>\n",
       "      <td>Bre Petrunko</td>\n",
       "      <td>Perunika Trio</td>\n",
       "      <td>world</td>\n",
       "      <td>Saint-Petersburg</td>\n",
       "      <td>13:56:00</td>\n",
       "      <td>Monday</td>\n",
       "    </tr>\n",
       "    <tr>\n",
       "      <td>61242</td>\n",
       "      <td>1B91C621</td>\n",
       "      <td>(Hello) Cloud Mountain</td>\n",
       "      <td>sleepmakeswaves</td>\n",
       "      <td>postrock</td>\n",
       "      <td>Saint-Petersburg</td>\n",
       "      <td>09:22:13</td>\n",
       "      <td>Monday</td>\n",
       "    </tr>\n",
       "    <tr>\n",
       "      <td>61249</td>\n",
       "      <td>D08D4A55</td>\n",
       "      <td>Maybe One Day (feat. Black Spade)</td>\n",
       "      <td>Blu &amp; Exile</td>\n",
       "      <td>hiphop</td>\n",
       "      <td>Saint-Petersburg</td>\n",
       "      <td>10:00:00</td>\n",
       "      <td>Monday</td>\n",
       "    </tr>\n",
       "  </tbody>\n",
       "</table>\n",
       "<p>18512 rows × 7 columns</p>\n",
       "</div>"
      ],
      "text/plain": [
       "        user_id                              track              artist  \\\n",
       "0      FFB692EC                  Kamigata To Boots    The Mass Missile   \n",
       "2        20EC38                  Funiculì funiculà         Mario Lanza   \n",
       "3      A3DD03C9              Dragons in the Sunset          Fire + Ice   \n",
       "5      842029A1                          Преданная           IMPERVTOR   \n",
       "9      E772D5C0                          Pessimist             unknown   \n",
       "...         ...                                ...                 ...   \n",
       "61239  D94F810B        Theme from the Walking Dead  Proyecto Halloween   \n",
       "61240  BC8EC5CF       Red Lips: Gta (Rover Rework)               Rover   \n",
       "61241  29E04611                       Bre Petrunko       Perunika Trio   \n",
       "61242  1B91C621             (Hello) Cloud Mountain     sleepmakeswaves   \n",
       "61249  D08D4A55  Maybe One Day (feat. Black Spade)         Blu & Exile   \n",
       "\n",
       "            genre              city      time        day  \n",
       "0            rock  Saint-Petersburg  20:28:33  Wednesday  \n",
       "2             pop  Saint-Petersburg  20:58:07  Wednesday  \n",
       "3            folk  Saint-Petersburg  08:37:09     Monday  \n",
       "5          rusrap  Saint-Petersburg  13:09:41     Friday  \n",
       "9           dance  Saint-Petersburg  21:20:49  Wednesday  \n",
       "...           ...               ...       ...        ...  \n",
       "61239        film  Saint-Petersburg  21:14:40     Monday  \n",
       "61240  electronic  Saint-Petersburg  21:06:50     Monday  \n",
       "61241       world  Saint-Petersburg  13:56:00     Monday  \n",
       "61242    postrock  Saint-Petersburg  09:22:13     Monday  \n",
       "61249      hiphop  Saint-Petersburg  10:00:00     Monday  \n",
       "\n",
       "[18512 rows x 7 columns]"
      ]
     },
     "metadata": {},
     "output_type": "display_data"
    }
   ],
   "source": [
    "# получение таблицы spb_general из тех строк таблицы df,\n",
    "# для которых значение в столбце 'city' равно 'Saint-Petersburg'\n",
    "spb_general = df[df['city'] == 'Saint-Petersburg']\n",
    "display(spb_general)"
   ]
  },
  {
   "cell_type": "markdown",
   "metadata": {
    "id": "MEJV-CX2_Zcu"
   },
   "source": [
    "Создадим функцию `genre_weekday()` с четырьмя параметрами:\n",
    "* таблица (датафрейм) с данными,\n",
    "* день недели,\n",
    "* начальная временная метка в формате 'hh:mm', \n",
    "* последняя временная метка в формате 'hh:mm'.\n",
    "\n",
    "Функция должна вернуть информацию о топ-10 жанров тех треков, которые прослушивали в указанный день, в промежутке между двумя отметками времени."
   ]
  },
  {
   "cell_type": "code",
   "execution_count": 30,
   "metadata": {
    "id": "laJT9BYl_Zcu"
   },
   "outputs": [],
   "source": [
    "# Объявление функции genre_weekday() с параметрами table, day, time1, time2,\n",
    "# которая возвращает информацию о самых популярных жанрах в указанный день в\n",
    "# заданное время:\n",
    "# 1) в переменную genre_df сохраняются те строки переданного датафрейма table, для\n",
    "#    которых одновременно:\n",
    "#    - значение в столбце day равно значению аргумента day\n",
    "#    - значение в столбце time больше значения аргумента time1\n",
    "#    - значение в столбце time меньше значения аргумента time2\n",
    "# 2) сгруппировать датафрейм genre_df по столбцу genre, взять один из его\n",
    "#    столбцов и посчитать методом count() количество записей для каждого из\n",
    "#    присутствующих жанров, получившийся Series записать в переменную\n",
    "#    genre_df_count\n",
    "# 3) отсортировать genre_df_count по убыванию встречаемости и сохранить\n",
    "#    в переменную genre_df_sorted\n",
    "# 4) вернуть Series из 10 первых значений genre_df_sorted, это будут топ-10\n",
    "#    популярных жанров (в указанный день, в заданное время)\n",
    "def genre_weekday(table, day, time1, time2):\n",
    "    genre_df = table[(table['day'] == day) & (table['time'] > time1) & (table['time'] < time2)]\n",
    "    genre_df_count = genre_df.groupby('genre')['user_id'].count()\n",
    "    genre_df_sorted = genre_df_count.sort_values(ascending=False)\n",
    "    return genre_df_sorted.head(10)"
   ]
  },
  {
   "cell_type": "markdown",
   "metadata": {
    "id": "la2s2_PF_Zcu"
   },
   "source": [
    "Сравним результаты функции `genre_weekday()` для Москвы и Санкт-Петербурга в понедельник утром (с 7:00 до 11:00) и в пятницу вечером (с 17:00 до 23:00):"
   ]
  },
  {
   "cell_type": "code",
   "execution_count": 31,
   "metadata": {
    "id": "yz7itPUQ_Zcu"
   },
   "outputs": [
    {
     "data": {
      "text/plain": [
       "genre\n",
       "pop            781\n",
       "dance          549\n",
       "electronic     480\n",
       "rock           474\n",
       "hiphop         286\n",
       "ruspop         186\n",
       "world          181\n",
       "rusrap         175\n",
       "alternative    164\n",
       "unknown        161\n",
       "Name: user_id, dtype: int64"
      ]
     },
     "execution_count": 31,
     "metadata": {},
     "output_type": "execute_result"
    }
   ],
   "source": [
    "# вызов функции для утра понедельника в Москве \n",
    "# объекты, хранящие время, являются строками и сравниваются как строки\n",
    "genre_weekday(moscow_general, 'Monday', '07:00', '11:00')"
   ]
  },
  {
   "cell_type": "code",
   "execution_count": 32,
   "metadata": {
    "id": "kwUcHPdy_Zcu"
   },
   "outputs": [
    {
     "data": {
      "text/plain": [
       "genre\n",
       "pop            218\n",
       "dance          182\n",
       "rock           162\n",
       "electronic     147\n",
       "hiphop          80\n",
       "ruspop          64\n",
       "alternative     58\n",
       "rusrap          55\n",
       "jazz            44\n",
       "classical       40\n",
       "Name: user_id, dtype: int64"
      ]
     },
     "execution_count": 32,
     "metadata": {},
     "output_type": "execute_result"
    }
   ],
   "source": [
    "#вызов функции для утра понедельника в Петербурге\n",
    "genre_weekday(spb_general, 'Monday', '07:00', '11:00')"
   ]
  },
  {
   "cell_type": "code",
   "execution_count": 33,
   "metadata": {
    "id": "EzXVRE1o_Zcu"
   },
   "outputs": [
    {
     "data": {
      "text/plain": [
       "genre\n",
       "pop            713\n",
       "rock           517\n",
       "dance          495\n",
       "electronic     482\n",
       "hiphop         273\n",
       "world          208\n",
       "ruspop         170\n",
       "alternative    163\n",
       "classical      163\n",
       "rusrap         142\n",
       "Name: user_id, dtype: int64"
      ]
     },
     "execution_count": 33,
     "metadata": {},
     "output_type": "execute_result"
    }
   ],
   "source": [
    "# вызов функции для вечера пятницы в Москве\n",
    "genre_weekday(moscow_general, 'Friday', '17:00', '23:00')"
   ]
  },
  {
   "cell_type": "code",
   "execution_count": 34,
   "metadata": {
    "id": "JZaEKu5v_Zcu",
    "scrolled": true
   },
   "outputs": [
    {
     "data": {
      "text/plain": [
       "genre\n",
       "pop            256\n",
       "rock           216\n",
       "electronic     216\n",
       "dance          210\n",
       "hiphop          97\n",
       "alternative     63\n",
       "jazz            61\n",
       "classical       60\n",
       "rusrap          59\n",
       "world           54\n",
       "Name: user_id, dtype: int64"
      ]
     },
     "execution_count": 34,
     "metadata": {},
     "output_type": "execute_result"
    }
   ],
   "source": [
    "# вызов функции для вечера пятницы в Петербурге\n",
    "genre_weekday(spb_general, 'Friday', '17:00', '23:00')"
   ]
  },
  {
   "cell_type": "markdown",
   "metadata": {
    "id": "wrCe4MNX_Zcu"
   },
   "source": [
    "**Выводы**\n",
    "\n",
    "Если сравнить топ-10 жанров в понедельник утром, можно сделать такие выводы:\n",
    "\n",
    "1. В Москве и Петербурге слушают похожую музыку. Единственное отличие — в московский рейтинг вошёл жанр “world”, а в петербургский — джаз и классика.\n",
    "\n",
    "2. В Москве пропущенных значений оказалось так много, что значение `'unknown'` заняло десятое место среди самых популярных жанров. Значит, пропущенные значения занимают существенную долю в данных и угрожают достоверности исследования.\n",
    "\n",
    "Вечер пятницы не меняет эту картину. Некоторые жанры поднимаются немного выше, другие спускаются, но в целом топ-10 остаётся тем же самым.\n",
    "\n",
    "Таким образом, вторая гипотеза подтвердилась лишь частично:\n",
    "* Пользователи слушают похожую музыку в начале недели и в конце.\n",
    "* Разница между Москвой и Петербургом не слишком выражена. В Москве чаще слушают русскую популярную музыку, в Петербурге — джаз.\n",
    "\n",
    "Однако пропуски в данных ставят под сомнение этот результат. В Москве их так много, что рейтинг топ-10 мог бы выглядеть иначе, если бы не утерянные  данные о жанрах."
   ]
  },
  {
   "cell_type": "markdown",
   "metadata": {
    "id": "JolODAqr_Zcu"
   },
   "source": [
    "### Жанровые предпочтения в Москве и Петербурге\n",
    "\n",
    "Гипотеза: Петербург — столица рэпа, музыку этого жанра там слушают чаще, чем в Москве.  А Москва — город контрастов, в котором, тем не менее, преобладает поп-музыка."
   ]
  },
  {
   "cell_type": "markdown",
   "metadata": {
    "id": "DlegSvaT_Zcu"
   },
   "source": [
    "Сгруппируем таблицу `moscow_general` по жанру и посчитаем прослушивания треков каждого жанра методом `count()`. Затем отсортируем результат в порядке убывания и сохраним его в таблице `moscow_genres`."
   ]
  },
  {
   "cell_type": "code",
   "execution_count": 35,
   "metadata": {
    "id": "r19lIPke_Zcu"
   },
   "outputs": [],
   "source": [
    "moscow_genres = (moscow_general.groupby('genre')['track'].count()).sort_values(ascending=False)"
   ]
  },
  {
   "cell_type": "code",
   "execution_count": 36,
   "metadata": {
    "id": "WhCSooF8_Zcv"
   },
   "outputs": [
    {
     "data": {
      "text/plain": [
       "genre\n",
       "pop            5892\n",
       "dance          4435\n",
       "rock           3965\n",
       "electronic     3786\n",
       "hiphop         2096\n",
       "classical      1616\n",
       "world          1432\n",
       "alternative    1379\n",
       "ruspop         1372\n",
       "rusrap         1161\n",
       "Name: track, dtype: int64"
      ]
     },
     "execution_count": 36,
     "metadata": {},
     "output_type": "execute_result"
    }
   ],
   "source": [
    "moscow_genres.head(10)# просмотр первых 10 строк moscow_genres"
   ]
  },
  {
   "cell_type": "markdown",
   "metadata": {
    "id": "cnPG2vnN_Zcv"
   },
   "source": [
    "Теперь повторим то же и для Петербурга."
   ]
  },
  {
   "cell_type": "code",
   "execution_count": 37,
   "metadata": {
    "id": "gluLIpE7_Zcv"
   },
   "outputs": [],
   "source": [
    "spb_genres = (spb_general.groupby('genre')['track'].count()).sort_values(ascending=False)"
   ]
  },
  {
   "cell_type": "code",
   "execution_count": 38,
   "metadata": {
    "id": "uaGJHjVU_Zcv"
   },
   "outputs": [
    {
     "data": {
      "text/plain": [
       "genre\n",
       "pop            2431\n",
       "dance          1932\n",
       "rock           1879\n",
       "electronic     1736\n",
       "hiphop          960\n",
       "alternative     649\n",
       "classical       646\n",
       "rusrap          564\n",
       "ruspop          538\n",
       "world           515\n",
       "Name: track, dtype: int64"
      ]
     },
     "execution_count": 38,
     "metadata": {},
     "output_type": "execute_result"
    }
   ],
   "source": [
    "spb_genres.head(10) # просмотр первых 10 строк spb_genres"
   ]
  },
  {
   "cell_type": "markdown",
   "metadata": {
    "id": "RY51YJYu_Zcv"
   },
   "source": [
    "**Выводы**"
   ]
  },
  {
   "cell_type": "markdown",
   "metadata": {
    "id": "nVhnJEm__Zcv"
   },
   "source": [
    "Гипотеза частично подтвердилась:\n",
    "* Поп-музыка — самый популярный жанр в Москве, как и предполагала гипотеза. Более того, в топ-10 жанров встречается близкий жанр — русская популярная музыка.\n",
    "* Вопреки ожиданиям, рэп одинаково популярен в Москве и Петербурге. \n"
   ]
  },
  {
   "cell_type": "markdown",
   "metadata": {
    "id": "ykKQ0N65_Zcv"
   },
   "source": [
    "## Итоги исследования"
   ]
  },
  {
   "cell_type": "markdown",
   "metadata": {
    "id": "tjUwbHb3_Zcv"
   },
   "source": [
    "Рабочие гипотезы:\n",
    "\n",
    "1. День недели имеет значение на активность пользователей в Москве и Петербурге. \n",
    "\n",
    "2. Согласно второй гипотезе, утром в понедельник в Москве преобладают одни жанры, а в Петербурге — другие. Так же и вечером пятницы преобладают разные жанры — в зависимости от города.\n",
    "\n",
    "3. Вкусы представителей Москвы и Петербурга сильно различаются\n",
    "\n",
    "**Общие  результаты**\n",
    "\n",
    "Мы провели предобработку данных и обнаружили, что в данных присутсвуют пропуски, которые влияют на результат. Например, в Москве пропущенных значений оказалось так много, что значение `'unknown'` заняло десятое место среди самых популярных жанров. Значит, пропущенные значения занимают существенную долю в данных и угрожают достоверности исследования.\n",
    "\n",
    "Относительно проверенных гипотез мы увидели, что первая гипотеза подтвердилась полностью, В Москве пик прослушиваний приходится на понедельник и пятницу, а в среду заметен спад. В Петербурге, наоборот, больше слушают музыку по средам. Активность в понедельник и пятницу здесь почти в равной мере уступает среде.\n",
    "\n",
    "Вторая гипотеза подтвердилась частично, Пользователи слушают похожую музыку в начале недели и в конце.Разница между Москвой и Петербургом не слишком выражена. В Москве чаще слушают русскую популярную музыку, в Петербурге — джаз.\n",
    "\n",
    "Третья гипотеза не подтвердилась. Во вкусах пользователей Москвы и Петербурга больше общего чем различий. Вопреки ожиданиям, предпочтения жанров в Петербурге напоминают московские."
   ]
  }
 ],
 "metadata": {
  "ExecuteTimeLog": [
   {
    "duration": 393,
    "start_time": "2022-02-23T18:34:50.689Z"
   },
   {
    "duration": 633,
    "start_time": "2022-02-23T18:39:18.509Z"
   },
   {
    "duration": 1886,
    "start_time": "2022-02-23T18:39:22.454Z"
   },
   {
    "duration": 290,
    "start_time": "2022-02-23T18:39:24.489Z"
   },
   {
    "duration": 146,
    "start_time": "2022-02-23T18:39:43.132Z"
   },
   {
    "duration": 8,
    "start_time": "2022-02-23T18:39:48.079Z"
   },
   {
    "duration": 20,
    "start_time": "2022-02-23T18:40:09.375Z"
   },
   {
    "duration": 26,
    "start_time": "2022-02-23T18:42:55.827Z"
   },
   {
    "duration": 4,
    "start_time": "2022-02-23T18:58:03.494Z"
   },
   {
    "duration": 104,
    "start_time": "2022-02-23T19:02:25.122Z"
   },
   {
    "duration": 4,
    "start_time": "2022-02-23T19:02:29.233Z"
   },
   {
    "duration": 79,
    "start_time": "2022-02-23T19:02:49.022Z"
   },
   {
    "duration": 107,
    "start_time": "2022-02-23T19:03:05.283Z"
   },
   {
    "duration": 23,
    "start_time": "2022-02-23T19:03:54.410Z"
   },
   {
    "duration": 4,
    "start_time": "2022-02-23T19:03:56.618Z"
   },
   {
    "duration": 24,
    "start_time": "2022-02-23T19:04:59.566Z"
   },
   {
    "duration": 338,
    "start_time": "2022-02-23T19:10:42.307Z"
   },
   {
    "duration": 291,
    "start_time": "2022-02-23T19:12:34.468Z"
   },
   {
    "duration": 330,
    "start_time": "2022-02-23T19:13:05.592Z"
   },
   {
    "duration": 286,
    "start_time": "2022-02-23T19:14:26.859Z"
   },
   {
    "duration": 247,
    "start_time": "2022-02-23T19:16:11.898Z"
   },
   {
    "duration": 262,
    "start_time": "2022-02-23T19:17:48.156Z"
   },
   {
    "duration": 309,
    "start_time": "2022-02-23T19:18:01.939Z"
   },
   {
    "duration": 253,
    "start_time": "2022-02-23T19:18:11.222Z"
   },
   {
    "duration": 294,
    "start_time": "2022-02-23T19:18:35.404Z"
   },
   {
    "duration": 248,
    "start_time": "2022-02-23T19:19:03.226Z"
   },
   {
    "duration": 7,
    "start_time": "2022-02-23T19:22:07.330Z"
   },
   {
    "duration": 8,
    "start_time": "2022-02-23T19:22:22.195Z"
   },
   {
    "duration": 11,
    "start_time": "2022-02-23T19:22:26.811Z"
   },
   {
    "duration": 277,
    "start_time": "2022-02-23T19:22:41.938Z"
   },
   {
    "duration": 5,
    "start_time": "2022-02-23T19:22:53.151Z"
   },
   {
    "duration": 73,
    "start_time": "2022-02-23T19:24:46.805Z"
   },
   {
    "duration": 24,
    "start_time": "2022-02-23T19:32:28.373Z"
   },
   {
    "duration": 7282,
    "start_time": "2022-02-23T19:33:21.442Z"
   },
   {
    "duration": 92,
    "start_time": "2022-02-23T19:33:28.635Z"
   },
   {
    "duration": 18,
    "start_time": "2022-02-23T19:33:51.386Z"
   },
   {
    "duration": 22,
    "start_time": "2022-02-23T19:33:54.806Z"
   },
   {
    "duration": 65,
    "start_time": "2022-02-23T19:35:03.648Z"
   },
   {
    "duration": 84,
    "start_time": "2022-02-23T19:37:34.301Z"
   },
   {
    "duration": 57,
    "start_time": "2022-02-23T19:37:51.934Z"
   },
   {
    "duration": 7,
    "start_time": "2022-02-23T19:47:21.570Z"
   },
   {
    "duration": 340,
    "start_time": "2022-02-23T19:51:35.715Z"
   },
   {
    "duration": 7,
    "start_time": "2022-02-23T19:51:53.815Z"
   },
   {
    "duration": 279,
    "start_time": "2022-02-23T19:58:11.913Z"
   },
   {
    "duration": 242,
    "start_time": "2022-02-23T19:58:40.936Z"
   },
   {
    "duration": 249,
    "start_time": "2022-02-23T19:58:57.775Z"
   },
   {
    "duration": 118,
    "start_time": "2022-02-23T19:59:05.080Z"
   },
   {
    "duration": 7,
    "start_time": "2022-02-23T19:59:09.164Z"
   },
   {
    "duration": 4,
    "start_time": "2022-02-23T20:11:21.564Z"
   },
   {
    "duration": 22,
    "start_time": "2022-02-23T20:11:23.721Z"
   },
   {
    "duration": 26,
    "start_time": "2022-02-23T20:11:39.371Z"
   },
   {
    "duration": 15,
    "start_time": "2022-02-23T20:11:52.946Z"
   },
   {
    "duration": 3,
    "start_time": "2022-02-23T20:12:03.430Z"
   },
   {
    "duration": 15,
    "start_time": "2022-02-23T20:12:09.314Z"
   },
   {
    "duration": 3,
    "start_time": "2022-02-23T20:13:20.471Z"
   },
   {
    "duration": 155,
    "start_time": "2022-02-23T20:13:20.479Z"
   },
   {
    "duration": 11,
    "start_time": "2022-02-23T20:13:20.636Z"
   },
   {
    "duration": 34,
    "start_time": "2022-02-23T20:13:20.649Z"
   },
   {
    "duration": 5,
    "start_time": "2022-02-23T20:13:20.685Z"
   },
   {
    "duration": 39,
    "start_time": "2022-02-23T20:13:20.692Z"
   },
   {
    "duration": 3,
    "start_time": "2022-02-23T20:13:20.733Z"
   },
   {
    "duration": 28,
    "start_time": "2022-02-23T20:13:20.738Z"
   },
   {
    "duration": 19,
    "start_time": "2022-02-23T20:13:20.768Z"
   },
   {
    "duration": 45,
    "start_time": "2022-02-23T20:13:20.790Z"
   },
   {
    "duration": 57,
    "start_time": "2022-02-23T20:13:20.838Z"
   },
   {
    "duration": 85,
    "start_time": "2022-02-23T20:13:20.897Z"
   },
   {
    "duration": 64,
    "start_time": "2022-02-23T20:13:20.984Z"
   },
   {
    "duration": 7,
    "start_time": "2022-02-23T20:13:21.050Z"
   },
   {
    "duration": 4,
    "start_time": "2022-02-23T20:13:21.059Z"
   },
   {
    "duration": 20,
    "start_time": "2022-02-23T20:13:21.065Z"
   },
   {
    "duration": 4,
    "start_time": "2022-02-23T20:13:21.087Z"
   },
   {
    "duration": 10,
    "start_time": "2022-02-23T20:13:21.119Z"
   },
   {
    "duration": 5,
    "start_time": "2022-02-23T20:13:21.131Z"
   },
   {
    "duration": 5,
    "start_time": "2022-02-23T20:13:21.138Z"
   },
   {
    "duration": 8,
    "start_time": "2022-02-23T20:13:21.145Z"
   },
   {
    "duration": 6,
    "start_time": "2022-02-23T20:13:21.154Z"
   },
   {
    "duration": 8,
    "start_time": "2022-02-23T20:13:21.162Z"
   },
   {
    "duration": 7,
    "start_time": "2022-02-23T20:13:21.172Z"
   },
   {
    "duration": 6,
    "start_time": "2022-02-23T20:13:21.181Z"
   },
   {
    "duration": 7,
    "start_time": "2022-02-23T20:13:21.189Z"
   },
   {
    "duration": 10,
    "start_time": "2022-02-23T20:13:21.197Z"
   },
   {
    "duration": 5,
    "start_time": "2022-02-23T20:13:21.211Z"
   },
   {
    "duration": 6,
    "start_time": "2022-02-23T20:13:21.218Z"
   },
   {
    "duration": 6,
    "start_time": "2022-02-23T20:13:21.225Z"
   },
   {
    "duration": 8,
    "start_time": "2022-02-23T20:13:21.232Z"
   },
   {
    "duration": 9,
    "start_time": "2022-02-23T20:13:21.241Z"
   },
   {
    "duration": 9,
    "start_time": "2022-02-23T20:13:21.251Z"
   },
   {
    "duration": 5,
    "start_time": "2022-02-23T20:13:21.262Z"
   },
   {
    "duration": 4,
    "start_time": "2022-02-23T20:13:21.269Z"
   },
   {
    "duration": 8,
    "start_time": "2022-02-23T20:13:21.275Z"
   },
   {
    "duration": 10,
    "start_time": "2022-02-23T20:13:21.284Z"
   },
   {
    "duration": 5,
    "start_time": "2022-02-23T20:13:21.296Z"
   },
   {
    "duration": 2,
    "start_time": "2022-02-23T20:14:37.536Z"
   },
   {
    "duration": 151,
    "start_time": "2022-02-23T20:14:37.544Z"
   },
   {
    "duration": 11,
    "start_time": "2022-02-23T20:14:37.697Z"
   },
   {
    "duration": 31,
    "start_time": "2022-02-23T20:14:37.710Z"
   },
   {
    "duration": 4,
    "start_time": "2022-02-23T20:14:37.743Z"
   },
   {
    "duration": 21,
    "start_time": "2022-02-23T20:14:37.748Z"
   },
   {
    "duration": 3,
    "start_time": "2022-02-23T20:14:37.771Z"
   },
   {
    "duration": 43,
    "start_time": "2022-02-23T20:14:37.775Z"
   },
   {
    "duration": 18,
    "start_time": "2022-02-23T20:14:37.820Z"
   },
   {
    "duration": 25,
    "start_time": "2022-02-23T20:14:37.841Z"
   },
   {
    "duration": 78,
    "start_time": "2022-02-23T20:14:37.868Z"
   },
   {
    "duration": 75,
    "start_time": "2022-02-23T20:14:37.948Z"
   },
   {
    "duration": 55,
    "start_time": "2022-02-23T20:14:38.025Z"
   },
   {
    "duration": 7,
    "start_time": "2022-02-23T20:14:38.082Z"
   },
   {
    "duration": 29,
    "start_time": "2022-02-23T20:14:38.090Z"
   },
   {
    "duration": 16,
    "start_time": "2022-02-23T20:14:38.121Z"
   },
   {
    "duration": 8,
    "start_time": "2022-02-23T20:14:42.240Z"
   },
   {
    "duration": 3,
    "start_time": "2022-02-23T20:18:58.635Z"
   },
   {
    "duration": 17,
    "start_time": "2022-02-23T20:19:01.061Z"
   },
   {
    "duration": 7,
    "start_time": "2022-02-23T20:19:09.204Z"
   },
   {
    "duration": 42,
    "start_time": "2022-02-23T20:20:11.705Z"
   },
   {
    "duration": 324,
    "start_time": "2022-02-23T20:20:38.880Z"
   },
   {
    "duration": 43,
    "start_time": "2022-02-23T20:21:17.769Z"
   },
   {
    "duration": 3,
    "start_time": "2022-02-23T20:21:39.177Z"
   },
   {
    "duration": 137,
    "start_time": "2022-02-23T20:21:39.183Z"
   },
   {
    "duration": 10,
    "start_time": "2022-02-23T20:21:39.322Z"
   },
   {
    "duration": 28,
    "start_time": "2022-02-23T20:21:39.334Z"
   },
   {
    "duration": 4,
    "start_time": "2022-02-23T20:21:39.364Z"
   },
   {
    "duration": 48,
    "start_time": "2022-02-23T20:21:39.370Z"
   },
   {
    "duration": 4,
    "start_time": "2022-02-23T20:21:39.420Z"
   },
   {
    "duration": 32,
    "start_time": "2022-02-23T20:21:39.425Z"
   },
   {
    "duration": 19,
    "start_time": "2022-02-23T20:21:39.460Z"
   },
   {
    "duration": 44,
    "start_time": "2022-02-23T20:21:39.482Z"
   },
   {
    "duration": 59,
    "start_time": "2022-02-23T20:21:39.528Z"
   },
   {
    "duration": 88,
    "start_time": "2022-02-23T20:21:39.590Z"
   },
   {
    "duration": 70,
    "start_time": "2022-02-23T20:21:39.681Z"
   },
   {
    "duration": 44,
    "start_time": "2022-02-23T20:21:43.100Z"
   },
   {
    "duration": 4,
    "start_time": "2022-02-23T20:21:49.222Z"
   },
   {
    "duration": 17,
    "start_time": "2022-02-23T20:21:51.680Z"
   },
   {
    "duration": 42,
    "start_time": "2022-02-23T20:21:54.565Z"
   },
   {
    "duration": 13,
    "start_time": "2022-02-23T20:38:13.864Z"
   },
   {
    "duration": 12,
    "start_time": "2022-02-23T20:38:16.757Z"
   },
   {
    "duration": 12,
    "start_time": "2022-02-23T20:40:04.934Z"
   },
   {
    "duration": 12,
    "start_time": "2022-02-23T20:40:16.597Z"
   },
   {
    "duration": 91,
    "start_time": "2022-02-23T20:52:21.784Z"
   },
   {
    "duration": 253,
    "start_time": "2022-02-23T20:53:39.081Z"
   },
   {
    "duration": 3,
    "start_time": "2022-02-23T20:53:55.118Z"
   },
   {
    "duration": 4,
    "start_time": "2022-02-23T20:56:37.078Z"
   },
   {
    "duration": 388,
    "start_time": "2022-02-23T20:56:39.370Z"
   },
   {
    "duration": 490,
    "start_time": "2022-02-23T20:57:20.439Z"
   },
   {
    "duration": 707,
    "start_time": "2022-02-23T20:58:07.894Z"
   },
   {
    "duration": 4,
    "start_time": "2022-02-23T21:03:00.792Z"
   },
   {
    "duration": 525,
    "start_time": "2022-02-23T21:03:03.829Z"
   },
   {
    "duration": 243,
    "start_time": "2022-02-23T21:06:43.425Z"
   },
   {
    "duration": 5,
    "start_time": "2022-02-23T21:07:25.560Z"
   },
   {
    "duration": 509,
    "start_time": "2022-02-23T21:07:27.438Z"
   },
   {
    "duration": 4,
    "start_time": "2022-02-23T21:11:59.984Z"
   },
   {
    "duration": 4,
    "start_time": "2022-02-23T21:12:01.606Z"
   },
   {
    "duration": 25,
    "start_time": "2022-02-23T21:12:04.385Z"
   },
   {
    "duration": 22,
    "start_time": "2022-02-23T21:12:57.982Z"
   },
   {
    "duration": 24,
    "start_time": "2022-02-23T21:13:20.773Z"
   },
   {
    "duration": 21,
    "start_time": "2022-02-23T21:13:29.164Z"
   },
   {
    "duration": 26,
    "start_time": "2022-02-23T21:13:37.181Z"
   },
   {
    "duration": 21,
    "start_time": "2022-02-23T21:13:41.486Z"
   },
   {
    "duration": 5,
    "start_time": "2022-02-23T21:14:16.888Z"
   },
   {
    "duration": 757,
    "start_time": "2022-02-23T21:14:18.020Z"
   },
   {
    "duration": 3,
    "start_time": "2022-02-23T21:14:34.388Z"
   },
   {
    "duration": 482,
    "start_time": "2022-02-23T21:14:37.402Z"
   },
   {
    "duration": 5,
    "start_time": "2022-02-23T21:16:34.904Z"
   },
   {
    "duration": 36,
    "start_time": "2022-02-23T21:16:37.336Z"
   },
   {
    "duration": 31,
    "start_time": "2022-02-23T21:16:39.500Z"
   },
   {
    "duration": 94,
    "start_time": "2022-02-23T21:22:32.313Z"
   },
   {
    "duration": 4,
    "start_time": "2022-02-23T21:23:24.155Z"
   },
   {
    "duration": 578,
    "start_time": "2022-02-23T21:23:33.087Z"
   },
   {
    "duration": 590,
    "start_time": "2022-02-23T21:24:15.467Z"
   },
   {
    "duration": 4,
    "start_time": "2022-02-23T21:28:17.053Z"
   },
   {
    "duration": 18,
    "start_time": "2022-02-23T21:28:20.139Z"
   },
   {
    "duration": 16,
    "start_time": "2022-02-23T21:28:24.115Z"
   },
   {
    "duration": 36,
    "start_time": "2022-02-23T21:28:29.051Z"
   },
   {
    "duration": 16,
    "start_time": "2022-02-23T21:28:31.205Z"
   },
   {
    "duration": 18,
    "start_time": "2022-02-23T21:28:33.302Z"
   },
   {
    "duration": 19,
    "start_time": "2022-02-23T21:28:35.374Z"
   },
   {
    "duration": 26,
    "start_time": "2022-02-23T21:28:46.693Z"
   },
   {
    "duration": 326,
    "start_time": "2022-02-23T21:37:49.646Z"
   },
   {
    "duration": 250,
    "start_time": "2022-02-23T21:38:14.878Z"
   },
   {
    "duration": 357,
    "start_time": "2022-02-23T21:38:35.027Z"
   },
   {
    "duration": 259,
    "start_time": "2022-02-23T21:47:15.998Z"
   },
   {
    "duration": 258,
    "start_time": "2022-02-23T21:48:05.589Z"
   },
   {
    "duration": 82,
    "start_time": "2022-02-24T17:42:54.344Z"
   },
   {
    "duration": 306,
    "start_time": "2022-02-24T17:43:46.366Z"
   },
   {
    "duration": 809,
    "start_time": "2022-02-24T17:44:42.902Z"
   },
   {
    "duration": 208,
    "start_time": "2022-02-24T17:44:43.714Z"
   },
   {
    "duration": 32,
    "start_time": "2022-02-24T17:44:43.926Z"
   },
   {
    "duration": 35,
    "start_time": "2022-02-24T17:44:43.961Z"
   },
   {
    "duration": 10,
    "start_time": "2022-02-24T17:44:44.026Z"
   },
   {
    "duration": 62,
    "start_time": "2022-02-24T17:44:44.039Z"
   },
   {
    "duration": 6,
    "start_time": "2022-02-24T17:44:44.104Z"
   },
   {
    "duration": 43,
    "start_time": "2022-02-24T17:44:44.114Z"
   },
   {
    "duration": 24,
    "start_time": "2022-02-24T17:44:44.160Z"
   },
   {
    "duration": 73,
    "start_time": "2022-02-24T17:44:44.187Z"
   },
   {
    "duration": 103,
    "start_time": "2022-02-24T17:44:44.262Z"
   },
   {
    "duration": 119,
    "start_time": "2022-02-24T17:44:44.367Z"
   },
   {
    "duration": 100,
    "start_time": "2022-02-24T17:44:44.489Z"
   },
   {
    "duration": 70,
    "start_time": "2022-02-24T17:44:44.592Z"
   },
   {
    "duration": 4,
    "start_time": "2022-02-24T17:44:44.665Z"
   },
   {
    "duration": 23,
    "start_time": "2022-02-24T17:44:44.672Z"
   },
   {
    "duration": 93,
    "start_time": "2022-02-24T17:44:44.698Z"
   },
   {
    "duration": 40,
    "start_time": "2022-02-24T17:44:44.794Z"
   },
   {
    "duration": 18,
    "start_time": "2022-02-24T17:44:44.837Z"
   },
   {
    "duration": 6,
    "start_time": "2022-02-24T17:44:44.858Z"
   },
   {
    "duration": 29,
    "start_time": "2022-02-24T17:44:44.866Z"
   },
   {
    "duration": 54,
    "start_time": "2022-02-24T17:44:44.898Z"
   },
   {
    "duration": 20,
    "start_time": "2022-02-24T17:44:44.959Z"
   },
   {
    "duration": 52,
    "start_time": "2022-02-24T17:44:44.982Z"
   },
   {
    "duration": 26,
    "start_time": "2022-02-24T17:44:45.038Z"
   },
   {
    "duration": 19,
    "start_time": "2022-02-24T17:44:45.066Z"
   },
   {
    "duration": 9,
    "start_time": "2022-02-24T17:44:47.871Z"
   },
   {
    "duration": 13,
    "start_time": "2022-02-24T17:44:59.016Z"
   },
   {
    "duration": 12,
    "start_time": "2022-02-24T17:49:38.044Z"
   },
   {
    "duration": 39,
    "start_time": "2022-02-24T17:56:16.915Z"
   },
   {
    "duration": 337,
    "start_time": "2022-02-24T17:56:42.987Z"
   },
   {
    "duration": 30,
    "start_time": "2022-02-24T17:56:49.335Z"
   },
   {
    "duration": 89,
    "start_time": "2022-02-24T18:32:41.113Z"
   },
   {
    "duration": 5,
    "start_time": "2022-02-24T18:33:14.132Z"
   },
   {
    "duration": 598,
    "start_time": "2022-02-24T18:33:38.859Z"
   },
   {
    "duration": 6,
    "start_time": "2022-02-24T18:35:33.475Z"
   },
   {
    "duration": 539,
    "start_time": "2022-02-24T18:35:35.736Z"
   },
   {
    "duration": 5,
    "start_time": "2022-02-24T18:36:48.161Z"
   },
   {
    "duration": 33,
    "start_time": "2022-02-24T18:36:50.434Z"
   },
   {
    "duration": 5,
    "start_time": "2022-02-24T18:46:53.053Z"
   },
   {
    "duration": 34,
    "start_time": "2022-02-24T18:46:55.713Z"
   },
   {
    "duration": 6,
    "start_time": "2022-02-24T18:48:07.884Z"
   },
   {
    "duration": 1150,
    "start_time": "2022-02-24T18:48:10.402Z"
   },
   {
    "duration": 6,
    "start_time": "2022-02-24T18:49:11.662Z"
   },
   {
    "duration": 25,
    "start_time": "2022-02-24T18:49:13.795Z"
   },
   {
    "duration": 19,
    "start_time": "2022-02-24T18:50:57.530Z"
   },
   {
    "duration": 26,
    "start_time": "2022-02-24T18:51:29.563Z"
   },
   {
    "duration": 17,
    "start_time": "2022-02-24T18:51:47.721Z"
   },
   {
    "duration": 260,
    "start_time": "2022-02-24T19:19:25.592Z"
   },
   {
    "duration": 57,
    "start_time": "2022-02-24T19:19:43.824Z"
   },
   {
    "duration": 304,
    "start_time": "2022-02-24T19:20:00.862Z"
   },
   {
    "duration": 249,
    "start_time": "2022-02-24T19:20:12.637Z"
   },
   {
    "duration": 324,
    "start_time": "2022-02-24T19:20:40.650Z"
   },
   {
    "duration": 12,
    "start_time": "2022-02-24T19:23:38.078Z"
   },
   {
    "duration": 9,
    "start_time": "2022-02-24T19:23:40.417Z"
   },
   {
    "duration": 274,
    "start_time": "2022-02-24T19:24:34.091Z"
   },
   {
    "duration": 12,
    "start_time": "2022-02-24T19:24:49.670Z"
   },
   {
    "duration": 7,
    "start_time": "2022-02-24T19:24:52.357Z"
   },
   {
    "duration": 13,
    "start_time": "2022-02-24T19:26:50.998Z"
   },
   {
    "duration": 8,
    "start_time": "2022-02-24T19:26:53.252Z"
   },
   {
    "duration": 10,
    "start_time": "2022-02-24T19:27:28.738Z"
   },
   {
    "duration": 7,
    "start_time": "2022-02-24T19:27:41.860Z"
   },
   {
    "duration": 3,
    "start_time": "2022-02-24T19:29:33.689Z"
   },
   {
    "duration": 236,
    "start_time": "2022-02-24T19:29:33.694Z"
   },
   {
    "duration": 18,
    "start_time": "2022-02-24T19:29:33.933Z"
   },
   {
    "duration": 35,
    "start_time": "2022-02-24T19:29:33.954Z"
   },
   {
    "duration": 36,
    "start_time": "2022-02-24T19:29:33.992Z"
   },
   {
    "duration": 50,
    "start_time": "2022-02-24T19:29:34.031Z"
   },
   {
    "duration": 5,
    "start_time": "2022-02-24T19:29:34.084Z"
   },
   {
    "duration": 43,
    "start_time": "2022-02-24T19:29:34.092Z"
   },
   {
    "duration": 22,
    "start_time": "2022-02-24T19:29:34.138Z"
   },
   {
    "duration": 36,
    "start_time": "2022-02-24T19:29:34.163Z"
   },
   {
    "duration": 104,
    "start_time": "2022-02-24T19:29:34.201Z"
   },
   {
    "duration": 111,
    "start_time": "2022-02-24T19:29:34.308Z"
   },
   {
    "duration": 80,
    "start_time": "2022-02-24T19:29:34.427Z"
   },
   {
    "duration": 76,
    "start_time": "2022-02-24T19:29:34.509Z"
   },
   {
    "duration": 5,
    "start_time": "2022-02-24T19:29:34.587Z"
   },
   {
    "duration": 46,
    "start_time": "2022-02-24T19:29:34.594Z"
   },
   {
    "duration": 59,
    "start_time": "2022-02-24T19:29:34.643Z"
   },
   {
    "duration": 33,
    "start_time": "2022-02-24T19:29:34.704Z"
   },
   {
    "duration": 19,
    "start_time": "2022-02-24T19:29:34.742Z"
   },
   {
    "duration": 7,
    "start_time": "2022-02-24T19:29:34.764Z"
   },
   {
    "duration": 59,
    "start_time": "2022-02-24T19:29:34.774Z"
   },
   {
    "duration": 19,
    "start_time": "2022-02-24T19:29:34.836Z"
   },
   {
    "duration": 21,
    "start_time": "2022-02-24T19:29:34.857Z"
   },
   {
    "duration": 52,
    "start_time": "2022-02-24T19:29:34.881Z"
   },
   {
    "duration": 21,
    "start_time": "2022-02-24T19:29:34.935Z"
   },
   {
    "duration": 20,
    "start_time": "2022-02-24T19:29:34.959Z"
   },
   {
    "duration": 48,
    "start_time": "2022-02-24T19:29:34.981Z"
   },
   {
    "duration": 34,
    "start_time": "2022-02-24T19:29:35.032Z"
   },
   {
    "duration": 63,
    "start_time": "2022-02-24T19:29:35.069Z"
   },
   {
    "duration": 5,
    "start_time": "2022-02-24T19:29:35.134Z"
   },
   {
    "duration": 31,
    "start_time": "2022-02-24T19:29:35.142Z"
   },
   {
    "duration": 19,
    "start_time": "2022-02-24T19:29:35.175Z"
   },
   {
    "duration": 33,
    "start_time": "2022-02-24T19:29:35.226Z"
   },
   {
    "duration": 19,
    "start_time": "2022-02-24T19:29:35.261Z"
   },
   {
    "duration": 65,
    "start_time": "2022-02-24T19:29:35.283Z"
   },
   {
    "duration": 8,
    "start_time": "2022-02-24T19:29:35.351Z"
   },
   {
    "duration": 13,
    "start_time": "2022-02-24T19:29:35.361Z"
   },
   {
    "duration": 8,
    "start_time": "2022-02-24T19:29:35.377Z"
   },
   {
    "duration": 584,
    "start_time": "2022-03-06T09:34:29.120Z"
   },
   {
    "duration": 139,
    "start_time": "2022-03-06T09:34:29.706Z"
   },
   {
    "duration": 17,
    "start_time": "2022-03-06T09:34:29.849Z"
   },
   {
    "duration": 31,
    "start_time": "2022-03-06T09:34:29.868Z"
   },
   {
    "duration": 4,
    "start_time": "2022-03-06T09:34:29.901Z"
   },
   {
    "duration": 25,
    "start_time": "2022-03-06T09:34:29.906Z"
   },
   {
    "duration": 3,
    "start_time": "2022-03-06T09:34:29.934Z"
   },
   {
    "duration": 51,
    "start_time": "2022-03-06T09:34:29.939Z"
   },
   {
    "duration": 18,
    "start_time": "2022-03-06T09:34:29.992Z"
   },
   {
    "duration": 25,
    "start_time": "2022-03-06T09:34:30.012Z"
   },
   {
    "duration": 84,
    "start_time": "2022-03-06T09:34:30.039Z"
   },
   {
    "duration": 83,
    "start_time": "2022-03-06T09:34:30.125Z"
   },
   {
    "duration": 53,
    "start_time": "2022-03-06T09:34:30.210Z"
   },
   {
    "duration": 49,
    "start_time": "2022-03-06T09:34:30.265Z"
   },
   {
    "duration": 6,
    "start_time": "2022-03-06T09:34:30.316Z"
   },
   {
    "duration": 25,
    "start_time": "2022-03-06T09:34:30.324Z"
   },
   {
    "duration": 55,
    "start_time": "2022-03-06T09:34:30.351Z"
   },
   {
    "duration": 13,
    "start_time": "2022-03-06T09:34:30.408Z"
   },
   {
    "duration": 15,
    "start_time": "2022-03-06T09:34:30.423Z"
   },
   {
    "duration": 7,
    "start_time": "2022-03-06T09:34:30.441Z"
   },
   {
    "duration": 40,
    "start_time": "2022-03-06T09:34:30.450Z"
   },
   {
    "duration": 15,
    "start_time": "2022-03-06T09:34:30.494Z"
   },
   {
    "duration": 21,
    "start_time": "2022-03-06T09:34:30.510Z"
   },
   {
    "duration": 14,
    "start_time": "2022-03-06T09:34:30.533Z"
   },
   {
    "duration": 38,
    "start_time": "2022-03-06T09:34:30.549Z"
   },
   {
    "duration": 14,
    "start_time": "2022-03-06T09:34:30.589Z"
   },
   {
    "duration": 15,
    "start_time": "2022-03-06T09:34:30.604Z"
   },
   {
    "duration": 24,
    "start_time": "2022-03-06T09:34:30.621Z"
   },
   {
    "duration": 40,
    "start_time": "2022-03-06T09:34:30.647Z"
   },
   {
    "duration": 4,
    "start_time": "2022-03-06T09:34:30.689Z"
   },
   {
    "duration": 32,
    "start_time": "2022-03-06T09:34:30.694Z"
   },
   {
    "duration": 26,
    "start_time": "2022-03-06T09:34:30.728Z"
   },
   {
    "duration": 44,
    "start_time": "2022-03-06T09:34:30.756Z"
   },
   {
    "duration": 31,
    "start_time": "2022-03-06T09:34:30.803Z"
   },
   {
    "duration": 24,
    "start_time": "2022-03-06T09:34:30.836Z"
   },
   {
    "duration": 10,
    "start_time": "2022-03-06T09:34:30.862Z"
   },
   {
    "duration": 21,
    "start_time": "2022-03-06T09:34:30.874Z"
   },
   {
    "duration": 8,
    "start_time": "2022-03-06T09:34:30.897Z"
   },
   {
    "duration": 81,
    "start_time": "2022-03-06T09:46:29.957Z"
   },
   {
    "duration": 416,
    "start_time": "2022-03-09T17:38:38.457Z"
   },
   {
    "duration": 574,
    "start_time": "2022-03-09T17:39:11.496Z"
   },
   {
    "duration": 117,
    "start_time": "2022-03-09T17:39:12.072Z"
   },
   {
    "duration": 20,
    "start_time": "2022-03-09T17:39:12.190Z"
   },
   {
    "duration": 28,
    "start_time": "2022-03-09T17:39:12.211Z"
   },
   {
    "duration": 28,
    "start_time": "2022-03-09T17:39:12.241Z"
   },
   {
    "duration": 2,
    "start_time": "2022-03-09T17:40:15.290Z"
   },
   {
    "duration": 128,
    "start_time": "2022-03-09T17:40:15.295Z"
   },
   {
    "duration": 9,
    "start_time": "2022-03-09T17:40:15.425Z"
   },
   {
    "duration": 30,
    "start_time": "2022-03-09T17:40:15.436Z"
   },
   {
    "duration": 3,
    "start_time": "2022-03-09T17:40:15.468Z"
   },
   {
    "duration": 17,
    "start_time": "2022-03-09T17:40:15.472Z"
   },
   {
    "duration": 14,
    "start_time": "2022-03-09T17:40:15.491Z"
   },
   {
    "duration": 719,
    "start_time": "2022-03-09T17:40:41.081Z"
   },
   {
    "duration": 112,
    "start_time": "2022-03-09T17:40:41.801Z"
   },
   {
    "duration": 15,
    "start_time": "2022-03-09T17:40:41.915Z"
   },
   {
    "duration": 26,
    "start_time": "2022-03-09T17:40:41.931Z"
   },
   {
    "duration": 3,
    "start_time": "2022-03-09T17:40:41.959Z"
   },
   {
    "duration": 19,
    "start_time": "2022-03-09T17:40:41.963Z"
   },
   {
    "duration": 5,
    "start_time": "2022-03-09T17:40:41.984Z"
   },
   {
    "duration": 29,
    "start_time": "2022-03-09T17:40:41.991Z"
   },
   {
    "duration": 15,
    "start_time": "2022-03-09T17:40:42.022Z"
   },
   {
    "duration": 20,
    "start_time": "2022-03-09T17:40:42.039Z"
   },
   {
    "duration": 91,
    "start_time": "2022-03-09T17:40:42.061Z"
   },
   {
    "duration": 98,
    "start_time": "2022-03-09T17:40:42.154Z"
   },
   {
    "duration": 64,
    "start_time": "2022-03-09T17:40:42.254Z"
   },
   {
    "duration": 36,
    "start_time": "2022-03-09T17:40:42.320Z"
   },
   {
    "duration": 3,
    "start_time": "2022-03-09T17:40:42.357Z"
   },
   {
    "duration": 15,
    "start_time": "2022-03-09T17:40:42.361Z"
   },
   {
    "duration": 45,
    "start_time": "2022-03-09T17:40:42.378Z"
   },
   {
    "duration": 9,
    "start_time": "2022-03-09T17:40:42.424Z"
   },
   {
    "duration": 9,
    "start_time": "2022-03-09T17:40:42.434Z"
   },
   {
    "duration": 3,
    "start_time": "2022-03-09T17:40:42.444Z"
   },
   {
    "duration": 17,
    "start_time": "2022-03-09T17:40:42.448Z"
   },
   {
    "duration": 11,
    "start_time": "2022-03-09T17:40:42.466Z"
   },
   {
    "duration": 11,
    "start_time": "2022-03-09T17:40:42.506Z"
   },
   {
    "duration": 12,
    "start_time": "2022-03-09T17:40:42.519Z"
   },
   {
    "duration": 12,
    "start_time": "2022-03-09T17:40:42.532Z"
   },
   {
    "duration": 11,
    "start_time": "2022-03-09T17:40:42.545Z"
   },
   {
    "duration": 7,
    "start_time": "2022-03-09T17:40:42.557Z"
   },
   {
    "duration": 44,
    "start_time": "2022-03-09T17:40:42.566Z"
   },
   {
    "duration": 14,
    "start_time": "2022-03-09T17:40:42.612Z"
   },
   {
    "duration": 3,
    "start_time": "2022-03-09T17:40:42.628Z"
   },
   {
    "duration": 16,
    "start_time": "2022-03-09T17:40:42.633Z"
   },
   {
    "duration": 9,
    "start_time": "2022-03-09T17:40:42.651Z"
   },
   {
    "duration": 13,
    "start_time": "2022-03-09T17:40:42.662Z"
   },
   {
    "duration": 11,
    "start_time": "2022-03-09T17:40:42.705Z"
   },
   {
    "duration": 7,
    "start_time": "2022-03-09T17:40:42.718Z"
   },
   {
    "duration": 3,
    "start_time": "2022-03-09T17:40:42.727Z"
   },
   {
    "duration": 6,
    "start_time": "2022-03-09T17:40:42.732Z"
   },
   {
    "duration": 4,
    "start_time": "2022-03-09T17:40:42.740Z"
   },
   {
    "duration": 12,
    "start_time": "2022-03-09T18:07:08.588Z"
   },
   {
    "duration": 41,
    "start_time": "2022-03-09T18:07:30.341Z"
   },
   {
    "duration": 3,
    "start_time": "2022-03-09T18:08:23.150Z"
   },
   {
    "duration": 716,
    "start_time": "2022-03-09T18:08:32.859Z"
   },
   {
    "duration": 121,
    "start_time": "2022-03-09T18:08:33.577Z"
   },
   {
    "duration": 14,
    "start_time": "2022-03-09T18:08:33.700Z"
   },
   {
    "duration": 26,
    "start_time": "2022-03-09T18:08:33.717Z"
   },
   {
    "duration": 5,
    "start_time": "2022-03-09T18:08:33.745Z"
   },
   {
    "duration": 22,
    "start_time": "2022-03-09T18:08:33.752Z"
   },
   {
    "duration": 4,
    "start_time": "2022-03-09T18:08:33.775Z"
   },
   {
    "duration": 44,
    "start_time": "2022-03-09T18:08:33.782Z"
   },
   {
    "duration": 25,
    "start_time": "2022-03-09T18:08:33.829Z"
   },
   {
    "duration": 52,
    "start_time": "2022-03-09T18:08:33.856Z"
   },
   {
    "duration": 80,
    "start_time": "2022-03-09T18:08:33.910Z"
   },
   {
    "duration": 69,
    "start_time": "2022-03-09T18:08:33.992Z"
   },
   {
    "duration": 72,
    "start_time": "2022-03-09T18:08:34.062Z"
   },
   {
    "duration": 33,
    "start_time": "2022-03-09T18:08:34.136Z"
   },
   {
    "duration": 5,
    "start_time": "2022-03-09T18:08:34.171Z"
   },
   {
    "duration": 10,
    "start_time": "2022-03-09T18:08:34.177Z"
   },
   {
    "duration": 34,
    "start_time": "2022-03-09T18:08:34.205Z"
   },
   {
    "duration": 10,
    "start_time": "2022-03-09T18:08:34.240Z"
   },
   {
    "duration": 9,
    "start_time": "2022-03-09T18:08:34.251Z"
   },
   {
    "duration": 3,
    "start_time": "2022-03-09T18:08:34.261Z"
   },
   {
    "duration": 42,
    "start_time": "2022-03-09T18:08:34.267Z"
   },
   {
    "duration": 12,
    "start_time": "2022-03-09T18:08:34.310Z"
   },
   {
    "duration": 13,
    "start_time": "2022-03-09T18:08:34.325Z"
   },
   {
    "duration": 13,
    "start_time": "2022-03-09T18:08:34.339Z"
   },
   {
    "duration": 13,
    "start_time": "2022-03-09T18:08:34.354Z"
   },
   {
    "duration": 37,
    "start_time": "2022-03-09T18:08:34.369Z"
   },
   {
    "duration": 8,
    "start_time": "2022-03-09T18:08:34.408Z"
   },
   {
    "duration": 28,
    "start_time": "2022-03-09T18:08:34.418Z"
   },
   {
    "duration": 24,
    "start_time": "2022-03-09T18:08:34.448Z"
   },
   {
    "duration": 34,
    "start_time": "2022-03-09T18:08:34.474Z"
   },
   {
    "duration": 24,
    "start_time": "2022-03-09T18:08:34.510Z"
   },
   {
    "duration": 15,
    "start_time": "2022-03-09T18:08:34.536Z"
   },
   {
    "duration": 22,
    "start_time": "2022-03-09T18:08:34.553Z"
   },
   {
    "duration": 33,
    "start_time": "2022-03-09T18:08:34.577Z"
   },
   {
    "duration": 8,
    "start_time": "2022-03-09T18:08:34.611Z"
   },
   {
    "duration": 4,
    "start_time": "2022-03-09T18:08:34.620Z"
   },
   {
    "duration": 8,
    "start_time": "2022-03-09T18:08:34.626Z"
   },
   {
    "duration": 7,
    "start_time": "2022-03-09T18:08:34.636Z"
   },
   {
    "duration": 532,
    "start_time": "2022-03-09T18:14:05.945Z"
   },
   {
    "duration": 114,
    "start_time": "2022-03-09T18:14:06.479Z"
   },
   {
    "duration": 14,
    "start_time": "2022-03-09T18:14:06.595Z"
   },
   {
    "duration": 21,
    "start_time": "2022-03-09T18:14:06.610Z"
   },
   {
    "duration": 3,
    "start_time": "2022-03-09T18:14:06.633Z"
   },
   {
    "duration": 17,
    "start_time": "2022-03-09T18:14:06.637Z"
   },
   {
    "duration": 3,
    "start_time": "2022-03-09T18:14:06.655Z"
   },
   {
    "duration": 22,
    "start_time": "2022-03-09T18:14:06.659Z"
   },
   {
    "duration": 35,
    "start_time": "2022-03-09T18:14:06.683Z"
   },
   {
    "duration": 20,
    "start_time": "2022-03-09T18:14:06.720Z"
   },
   {
    "duration": 64,
    "start_time": "2022-03-09T18:14:06.741Z"
   },
   {
    "duration": 58,
    "start_time": "2022-03-09T18:14:06.807Z"
   },
   {
    "duration": 51,
    "start_time": "2022-03-09T18:14:06.866Z"
   },
   {
    "duration": 35,
    "start_time": "2022-03-09T18:14:06.918Z"
   },
   {
    "duration": 3,
    "start_time": "2022-03-09T18:14:06.954Z"
   },
   {
    "duration": 10,
    "start_time": "2022-03-09T18:14:06.959Z"
   },
   {
    "duration": 51,
    "start_time": "2022-03-09T18:14:06.970Z"
   },
   {
    "duration": 9,
    "start_time": "2022-03-09T18:14:07.023Z"
   },
   {
    "duration": 9,
    "start_time": "2022-03-09T18:14:07.033Z"
   },
   {
    "duration": 3,
    "start_time": "2022-03-09T18:14:07.043Z"
   },
   {
    "duration": 16,
    "start_time": "2022-03-09T18:14:07.047Z"
   },
   {
    "duration": 11,
    "start_time": "2022-03-09T18:14:07.065Z"
   },
   {
    "duration": 12,
    "start_time": "2022-03-09T18:14:07.105Z"
   },
   {
    "duration": 11,
    "start_time": "2022-03-09T18:14:07.119Z"
   },
   {
    "duration": 12,
    "start_time": "2022-03-09T18:14:07.131Z"
   },
   {
    "duration": 11,
    "start_time": "2022-03-09T18:14:07.145Z"
   },
   {
    "duration": 6,
    "start_time": "2022-03-09T18:14:07.159Z"
   },
   {
    "duration": 45,
    "start_time": "2022-03-09T18:14:07.167Z"
   },
   {
    "duration": 14,
    "start_time": "2022-03-09T18:14:07.214Z"
   },
   {
    "duration": 2,
    "start_time": "2022-03-09T18:14:07.230Z"
   },
   {
    "duration": 19,
    "start_time": "2022-03-09T18:14:07.234Z"
   },
   {
    "duration": 9,
    "start_time": "2022-03-09T18:14:07.254Z"
   },
   {
    "duration": 14,
    "start_time": "2022-03-09T18:14:07.265Z"
   },
   {
    "duration": 9,
    "start_time": "2022-03-09T18:14:07.305Z"
   },
   {
    "duration": 7,
    "start_time": "2022-03-09T18:14:07.316Z"
   },
   {
    "duration": 4,
    "start_time": "2022-03-09T18:14:07.324Z"
   },
   {
    "duration": 7,
    "start_time": "2022-03-09T18:14:07.329Z"
   },
   {
    "duration": 6,
    "start_time": "2022-03-09T18:14:07.338Z"
   },
   {
    "duration": 748,
    "start_time": "2022-03-09T18:15:58.050Z"
   },
   {
    "duration": 192,
    "start_time": "2022-03-09T18:15:58.805Z"
   },
   {
    "duration": 27,
    "start_time": "2022-03-09T18:15:59.003Z"
   },
   {
    "duration": 41,
    "start_time": "2022-03-09T18:15:59.032Z"
   },
   {
    "duration": 28,
    "start_time": "2022-03-09T18:15:59.076Z"
   },
   {
    "duration": 30,
    "start_time": "2022-03-09T18:15:59.106Z"
   },
   {
    "duration": 10,
    "start_time": "2022-03-09T18:15:59.140Z"
   },
   {
    "duration": 45,
    "start_time": "2022-03-09T18:15:59.153Z"
   },
   {
    "duration": 19,
    "start_time": "2022-03-09T18:15:59.205Z"
   },
   {
    "duration": 38,
    "start_time": "2022-03-09T18:15:59.225Z"
   },
   {
    "duration": 55,
    "start_time": "2022-03-09T18:15:59.265Z"
   },
   {
    "duration": 58,
    "start_time": "2022-03-09T18:15:59.321Z"
   },
   {
    "duration": 53,
    "start_time": "2022-03-09T18:15:59.380Z"
   },
   {
    "duration": 37,
    "start_time": "2022-03-09T18:15:59.434Z"
   },
   {
    "duration": 25,
    "start_time": "2022-03-09T18:15:59.473Z"
   },
   {
    "duration": 14,
    "start_time": "2022-03-09T18:15:59.499Z"
   },
   {
    "duration": 35,
    "start_time": "2022-03-09T18:15:59.515Z"
   },
   {
    "duration": 29,
    "start_time": "2022-03-09T18:15:59.552Z"
   },
   {
    "duration": 10,
    "start_time": "2022-03-09T18:15:59.583Z"
   },
   {
    "duration": 8,
    "start_time": "2022-03-09T18:15:59.595Z"
   },
   {
    "duration": 23,
    "start_time": "2022-03-09T18:15:59.604Z"
   },
   {
    "duration": 14,
    "start_time": "2022-03-09T18:15:59.630Z"
   },
   {
    "duration": 23,
    "start_time": "2022-03-09T18:15:59.646Z"
   },
   {
    "duration": 17,
    "start_time": "2022-03-09T18:15:59.671Z"
   },
   {
    "duration": 24,
    "start_time": "2022-03-09T18:15:59.689Z"
   },
   {
    "duration": 33,
    "start_time": "2022-03-09T18:15:59.715Z"
   },
   {
    "duration": 14,
    "start_time": "2022-03-09T18:15:59.750Z"
   },
   {
    "duration": 31,
    "start_time": "2022-03-09T18:15:59.765Z"
   },
   {
    "duration": 24,
    "start_time": "2022-03-09T18:15:59.798Z"
   },
   {
    "duration": 4,
    "start_time": "2022-03-09T18:15:59.824Z"
   },
   {
    "duration": 42,
    "start_time": "2022-03-09T18:15:59.830Z"
   },
   {
    "duration": 15,
    "start_time": "2022-03-09T18:15:59.874Z"
   },
   {
    "duration": 26,
    "start_time": "2022-03-09T18:15:59.891Z"
   },
   {
    "duration": 15,
    "start_time": "2022-03-09T18:15:59.918Z"
   },
   {
    "duration": 15,
    "start_time": "2022-03-09T18:15:59.935Z"
   },
   {
    "duration": 11,
    "start_time": "2022-03-09T18:15:59.952Z"
   },
   {
    "duration": 19,
    "start_time": "2022-03-09T18:15:59.965Z"
   },
   {
    "duration": 18,
    "start_time": "2022-03-09T18:15:59.985Z"
   },
   {
    "duration": 580,
    "start_time": "2022-03-09T18:29:10.131Z"
   },
   {
    "duration": 113,
    "start_time": "2022-03-09T18:29:10.713Z"
   },
   {
    "duration": 15,
    "start_time": "2022-03-09T18:29:10.828Z"
   },
   {
    "duration": 26,
    "start_time": "2022-03-09T18:29:10.845Z"
   },
   {
    "duration": 3,
    "start_time": "2022-03-09T18:29:10.873Z"
   },
   {
    "duration": 34,
    "start_time": "2022-03-09T18:29:10.878Z"
   },
   {
    "duration": 12,
    "start_time": "2022-03-09T18:29:10.914Z"
   },
   {
    "duration": 21,
    "start_time": "2022-03-09T18:29:10.928Z"
   },
   {
    "duration": 13,
    "start_time": "2022-03-09T18:29:10.952Z"
   },
   {
    "duration": 19,
    "start_time": "2022-03-09T18:29:10.967Z"
   },
   {
    "duration": 66,
    "start_time": "2022-03-09T18:29:10.988Z"
   },
   {
    "duration": 69,
    "start_time": "2022-03-09T18:29:11.056Z"
   },
   {
    "duration": 42,
    "start_time": "2022-03-09T18:29:11.127Z"
   },
   {
    "duration": 47,
    "start_time": "2022-03-09T18:29:11.171Z"
   },
   {
    "duration": 2,
    "start_time": "2022-03-09T18:29:11.220Z"
   },
   {
    "duration": 13,
    "start_time": "2022-03-09T18:29:11.224Z"
   },
   {
    "duration": 41,
    "start_time": "2022-03-09T18:29:11.239Z"
   },
   {
    "duration": 9,
    "start_time": "2022-03-09T18:29:11.282Z"
   },
   {
    "duration": 19,
    "start_time": "2022-03-09T18:29:11.292Z"
   },
   {
    "duration": 3,
    "start_time": "2022-03-09T18:29:11.313Z"
   },
   {
    "duration": 16,
    "start_time": "2022-03-09T18:29:11.317Z"
   },
   {
    "duration": 11,
    "start_time": "2022-03-09T18:29:11.335Z"
   },
   {
    "duration": 11,
    "start_time": "2022-03-09T18:29:11.349Z"
   },
   {
    "duration": 11,
    "start_time": "2022-03-09T18:29:11.361Z"
   },
   {
    "duration": 41,
    "start_time": "2022-03-09T18:29:11.374Z"
   },
   {
    "duration": 11,
    "start_time": "2022-03-09T18:29:11.416Z"
   },
   {
    "duration": 6,
    "start_time": "2022-03-09T18:29:11.429Z"
   },
   {
    "duration": 21,
    "start_time": "2022-03-09T18:29:11.437Z"
   },
   {
    "duration": 18,
    "start_time": "2022-03-09T18:29:11.459Z"
   },
   {
    "duration": 3,
    "start_time": "2022-03-09T18:29:11.505Z"
   },
   {
    "duration": 18,
    "start_time": "2022-03-09T18:29:11.510Z"
   },
   {
    "duration": 12,
    "start_time": "2022-03-09T18:29:11.529Z"
   },
   {
    "duration": 15,
    "start_time": "2022-03-09T18:29:11.542Z"
   },
   {
    "duration": 11,
    "start_time": "2022-03-09T18:29:11.558Z"
   },
   {
    "duration": 7,
    "start_time": "2022-03-09T18:29:11.571Z"
   },
   {
    "duration": 28,
    "start_time": "2022-03-09T18:29:11.580Z"
   },
   {
    "duration": 7,
    "start_time": "2022-03-09T18:29:11.609Z"
   },
   {
    "duration": 3,
    "start_time": "2022-03-09T18:29:11.618Z"
   },
   {
    "duration": 621,
    "start_time": "2022-03-09T18:31:13.076Z"
   },
   {
    "duration": 122,
    "start_time": "2022-03-09T18:31:13.699Z"
   },
   {
    "duration": 15,
    "start_time": "2022-03-09T18:31:13.822Z"
   },
   {
    "duration": 23,
    "start_time": "2022-03-09T18:31:13.839Z"
   },
   {
    "duration": 6,
    "start_time": "2022-03-09T18:31:13.864Z"
   },
   {
    "duration": 35,
    "start_time": "2022-03-09T18:31:13.871Z"
   },
   {
    "duration": 3,
    "start_time": "2022-03-09T18:31:13.908Z"
   },
   {
    "duration": 24,
    "start_time": "2022-03-09T18:31:13.913Z"
   },
   {
    "duration": 15,
    "start_time": "2022-03-09T18:31:13.940Z"
   },
   {
    "duration": 21,
    "start_time": "2022-03-09T18:31:13.956Z"
   },
   {
    "duration": 77,
    "start_time": "2022-03-09T18:31:13.978Z"
   },
   {
    "duration": 62,
    "start_time": "2022-03-09T18:31:14.057Z"
   },
   {
    "duration": 43,
    "start_time": "2022-03-09T18:31:14.120Z"
   },
   {
    "duration": 47,
    "start_time": "2022-03-09T18:31:14.165Z"
   },
   {
    "duration": 3,
    "start_time": "2022-03-09T18:31:14.213Z"
   },
   {
    "duration": 10,
    "start_time": "2022-03-09T18:31:14.218Z"
   },
   {
    "duration": 35,
    "start_time": "2022-03-09T18:31:14.230Z"
   },
   {
    "duration": 9,
    "start_time": "2022-03-09T18:31:14.266Z"
   },
   {
    "duration": 29,
    "start_time": "2022-03-09T18:31:14.277Z"
   },
   {
    "duration": 3,
    "start_time": "2022-03-09T18:31:14.307Z"
   },
   {
    "duration": 18,
    "start_time": "2022-03-09T18:31:14.311Z"
   },
   {
    "duration": 11,
    "start_time": "2022-03-09T18:31:14.330Z"
   },
   {
    "duration": 13,
    "start_time": "2022-03-09T18:31:14.344Z"
   },
   {
    "duration": 11,
    "start_time": "2022-03-09T18:31:14.359Z"
   },
   {
    "duration": 39,
    "start_time": "2022-03-09T18:31:14.371Z"
   },
   {
    "duration": 13,
    "start_time": "2022-03-09T18:31:14.411Z"
   },
   {
    "duration": 8,
    "start_time": "2022-03-09T18:31:14.425Z"
   },
   {
    "duration": 19,
    "start_time": "2022-03-09T18:31:14.434Z"
   },
   {
    "duration": 15,
    "start_time": "2022-03-09T18:31:14.454Z"
   },
   {
    "duration": 3,
    "start_time": "2022-03-09T18:31:14.470Z"
   },
   {
    "duration": 41,
    "start_time": "2022-03-09T18:31:14.474Z"
   },
   {
    "duration": 11,
    "start_time": "2022-03-09T18:31:14.516Z"
   },
   {
    "duration": 18,
    "start_time": "2022-03-09T18:31:14.528Z"
   },
   {
    "duration": 10,
    "start_time": "2022-03-09T18:31:14.547Z"
   },
   {
    "duration": 7,
    "start_time": "2022-03-09T18:31:14.559Z"
   },
   {
    "duration": 3,
    "start_time": "2022-03-09T18:31:14.568Z"
   },
   {
    "duration": 32,
    "start_time": "2022-03-09T18:31:14.573Z"
   },
   {
    "duration": 6,
    "start_time": "2022-03-09T18:31:14.607Z"
   },
   {
    "duration": 529,
    "start_time": "2022-03-09T18:34:13.351Z"
   },
   {
    "duration": 144,
    "start_time": "2022-03-09T18:34:13.882Z"
   },
   {
    "duration": 15,
    "start_time": "2022-03-09T18:34:14.028Z"
   },
   {
    "duration": 21,
    "start_time": "2022-03-09T18:34:14.045Z"
   },
   {
    "duration": 4,
    "start_time": "2022-03-09T18:34:14.067Z"
   },
   {
    "duration": 35,
    "start_time": "2022-03-09T18:34:14.073Z"
   },
   {
    "duration": 3,
    "start_time": "2022-03-09T18:34:14.110Z"
   },
   {
    "duration": 20,
    "start_time": "2022-03-09T18:34:14.116Z"
   },
   {
    "duration": 15,
    "start_time": "2022-03-09T18:34:14.138Z"
   },
   {
    "duration": 18,
    "start_time": "2022-03-09T18:34:14.154Z"
   },
   {
    "duration": 76,
    "start_time": "2022-03-09T18:34:14.174Z"
   },
   {
    "duration": 69,
    "start_time": "2022-03-09T18:34:14.251Z"
   },
   {
    "duration": 63,
    "start_time": "2022-03-09T18:34:14.322Z"
   },
   {
    "duration": 51,
    "start_time": "2022-03-09T18:34:14.386Z"
   },
   {
    "duration": 3,
    "start_time": "2022-03-09T18:34:14.438Z"
   },
   {
    "duration": 10,
    "start_time": "2022-03-09T18:34:14.442Z"
   },
   {
    "duration": 51,
    "start_time": "2022-03-09T18:34:14.454Z"
   },
   {
    "duration": 9,
    "start_time": "2022-03-09T18:34:14.507Z"
   },
   {
    "duration": 8,
    "start_time": "2022-03-09T18:34:14.517Z"
   },
   {
    "duration": 2,
    "start_time": "2022-03-09T18:34:14.527Z"
   },
   {
    "duration": 17,
    "start_time": "2022-03-09T18:34:14.531Z"
   },
   {
    "duration": 11,
    "start_time": "2022-03-09T18:34:14.549Z"
   },
   {
    "duration": 12,
    "start_time": "2022-03-09T18:34:14.563Z"
   },
   {
    "duration": 36,
    "start_time": "2022-03-09T18:34:14.576Z"
   },
   {
    "duration": 13,
    "start_time": "2022-03-09T18:34:14.613Z"
   },
   {
    "duration": 11,
    "start_time": "2022-03-09T18:34:14.628Z"
   },
   {
    "duration": 7,
    "start_time": "2022-03-09T18:34:14.641Z"
   },
   {
    "duration": 23,
    "start_time": "2022-03-09T18:34:14.650Z"
   },
   {
    "duration": 40,
    "start_time": "2022-03-09T18:34:14.675Z"
   },
   {
    "duration": 3,
    "start_time": "2022-03-09T18:34:14.717Z"
   },
   {
    "duration": 20,
    "start_time": "2022-03-09T18:34:14.722Z"
   },
   {
    "duration": 11,
    "start_time": "2022-03-09T18:34:14.744Z"
   },
   {
    "duration": 15,
    "start_time": "2022-03-09T18:34:14.756Z"
   },
   {
    "duration": 37,
    "start_time": "2022-03-09T18:34:14.772Z"
   },
   {
    "duration": 8,
    "start_time": "2022-03-09T18:34:14.811Z"
   },
   {
    "duration": 5,
    "start_time": "2022-03-09T18:34:14.820Z"
   },
   {
    "duration": 7,
    "start_time": "2022-03-09T18:34:14.826Z"
   },
   {
    "duration": 3,
    "start_time": "2022-03-09T18:34:14.835Z"
   },
   {
    "duration": 672,
    "start_time": "2022-03-09T18:35:55.387Z"
   },
   {
    "duration": 128,
    "start_time": "2022-03-09T18:35:56.061Z"
   },
   {
    "duration": 19,
    "start_time": "2022-03-09T18:35:56.191Z"
   },
   {
    "duration": 21,
    "start_time": "2022-03-09T18:35:56.212Z"
   },
   {
    "duration": 4,
    "start_time": "2022-03-09T18:35:56.234Z"
   },
   {
    "duration": 20,
    "start_time": "2022-03-09T18:35:56.239Z"
   },
   {
    "duration": 4,
    "start_time": "2022-03-09T18:35:56.260Z"
   },
   {
    "duration": 49,
    "start_time": "2022-03-09T18:35:56.266Z"
   },
   {
    "duration": 15,
    "start_time": "2022-03-09T18:35:56.317Z"
   },
   {
    "duration": 22,
    "start_time": "2022-03-09T18:35:56.334Z"
   },
   {
    "duration": 66,
    "start_time": "2022-03-09T18:35:56.359Z"
   },
   {
    "duration": 57,
    "start_time": "2022-03-09T18:35:56.427Z"
   },
   {
    "duration": 56,
    "start_time": "2022-03-09T18:35:56.486Z"
   },
   {
    "duration": 38,
    "start_time": "2022-03-09T18:35:56.544Z"
   },
   {
    "duration": 22,
    "start_time": "2022-03-09T18:35:56.583Z"
   },
   {
    "duration": 9,
    "start_time": "2022-03-09T18:35:56.607Z"
   },
   {
    "duration": 36,
    "start_time": "2022-03-09T18:35:56.617Z"
   },
   {
    "duration": 9,
    "start_time": "2022-03-09T18:35:56.655Z"
   },
   {
    "duration": 8,
    "start_time": "2022-03-09T18:35:56.665Z"
   },
   {
    "duration": 3,
    "start_time": "2022-03-09T18:35:56.674Z"
   },
   {
    "duration": 35,
    "start_time": "2022-03-09T18:35:56.679Z"
   },
   {
    "duration": 12,
    "start_time": "2022-03-09T18:35:56.715Z"
   },
   {
    "duration": 12,
    "start_time": "2022-03-09T18:35:56.730Z"
   },
   {
    "duration": 11,
    "start_time": "2022-03-09T18:35:56.743Z"
   },
   {
    "duration": 16,
    "start_time": "2022-03-09T18:35:56.756Z"
   },
   {
    "duration": 49,
    "start_time": "2022-03-09T18:35:56.773Z"
   },
   {
    "duration": 10,
    "start_time": "2022-03-09T18:35:56.824Z"
   },
   {
    "duration": 31,
    "start_time": "2022-03-09T18:35:56.835Z"
   },
   {
    "duration": 39,
    "start_time": "2022-03-09T18:35:56.868Z"
   },
   {
    "duration": 5,
    "start_time": "2022-03-09T18:35:56.909Z"
   },
   {
    "duration": 19,
    "start_time": "2022-03-09T18:35:56.916Z"
   },
   {
    "duration": 15,
    "start_time": "2022-03-09T18:35:56.936Z"
   },
   {
    "duration": 16,
    "start_time": "2022-03-09T18:35:56.952Z"
   },
   {
    "duration": 10,
    "start_time": "2022-03-09T18:35:56.970Z"
   },
   {
    "duration": 30,
    "start_time": "2022-03-09T18:35:56.981Z"
   },
   {
    "duration": 4,
    "start_time": "2022-03-09T18:35:57.012Z"
   },
   {
    "duration": 8,
    "start_time": "2022-03-09T18:35:57.018Z"
   },
   {
    "duration": 7,
    "start_time": "2022-03-09T18:35:57.027Z"
   }
  ],
  "colab": {
   "collapsed_sections": [
    "E0vqbgi9ay0H",
    "VUC88oWjTJw2"
   ],
   "name": "yandex_music_project_2021.2.ipynb",
   "provenance": []
  },
  "kernelspec": {
   "display_name": "Python 3 (ipykernel)",
   "language": "python",
   "name": "python3"
  },
  "language_info": {
   "codemirror_mode": {
    "name": "ipython",
    "version": 3
   },
   "file_extension": ".py",
   "mimetype": "text/x-python",
   "name": "python",
   "nbconvert_exporter": "python",
   "pygments_lexer": "ipython3",
   "version": "3.9.7"
  },
  "toc": {
   "base_numbering": 1,
   "nav_menu": {},
   "number_sections": true,
   "sideBar": true,
   "skip_h1_title": true,
   "title_cell": "Table of Contents",
   "title_sidebar": "Contents",
   "toc_cell": false,
   "toc_position": {
    "height": "calc(100% - 180px)",
    "left": "10px",
    "top": "150px",
    "width": "273.188px"
   },
   "toc_section_display": true,
   "toc_window_display": true
  }
 },
 "nbformat": 4,
 "nbformat_minor": 1
}
