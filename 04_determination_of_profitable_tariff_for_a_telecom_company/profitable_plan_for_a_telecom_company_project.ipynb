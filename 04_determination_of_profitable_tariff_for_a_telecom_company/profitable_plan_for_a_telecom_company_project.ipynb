{
 "cells": [
  {
   "cell_type": "markdown",
   "metadata": {},
   "source": [
    "### Описание проекта"
   ]
  },
  {
   "cell_type": "markdown",
   "metadata": {},
   "source": [
    "В нашем распоряжении данные 500 пользователей комапании \"Мегалайн\" за 2018 год.\n",
    "\n",
    "**Цель анализа:** определить наиболее выгодный тариф. \n",
    "\n",
    "**Примечание:**\n",
    "\n",
    "   - «Мегалайн» всегда округляет секунды до минут \n",
    "   - мегабайты — до гигабайт. \n",
    "   - Каждый звонок округляется отдельно: даже если он длился всего 1 секунду, будет засчитан как 1 минута.\n",
    "   - Для веб-трафика отдельные сессии не считаются. Вместо этого общая сумма за месяц округляется в бо́льшую сторону. Если абонент использует 1025 мегабайт в этом месяце, с него возьмут плату за 2 гигабайта."
   ]
  },
  {
   "cell_type": "markdown",
   "metadata": {},
   "source": [
    "Таблица `users_df` содержит данные о пользователях тарифов. В каждой строке у `user_id` есть информация о его возрасте, городе проживания, имя и фамилия, название используемого тарифа и 2 даты: дата регистрации тарифа и дата, когда пользователь ушел.\n",
    " \n",
    "Описание столбцов таблицы:\n",
    "\n",
    "- `user_id` — уникальный идентификатор пользователя\n",
    "- `first_name` — имя пользователя\n",
    "- `last_name` — фамилия пользователя\n",
    "- `age` — возраст пользователя (годы)\n",
    "- `reg_date` — дата подключения тарифа (день, месяц, год)\n",
    "- `churn_date` — дата прекращения пользования тарифом (если значение пропущено, то тариф ещё действовал на момент выгрузки данных)\n",
    "- `city` — город проживания пользователя\n",
    "- `tariff` — название тарифного плана"
   ]
  },
  {
   "cell_type": "markdown",
   "metadata": {},
   "source": [
    "Таблица `calls_df` содержит данные о звонках пользователей из таблицы `users_df`. В каждой строке у `id` звонка есть информация о его дате и длительности. "
   ]
  },
  {
   "cell_type": "markdown",
   "metadata": {},
   "source": [
    "Описание столбцов таблицы `calls_df`\n",
    "\n",
    "- `id` — уникальный номер звонка\n",
    "- `call_date` — дата звонка\n",
    "- `duration` — длительность звонка в минутах\n",
    "- `user_id` — идентификатор пользователя, сделавшего звонок"
   ]
  },
  {
   "cell_type": "markdown",
   "metadata": {},
   "source": [
    "В таблице собраны даты каждого сообщении пользователя. Каждому сообщению присвоен уникальный номер, он лежит в столбце`id`, а id пользователя лежит в солбце `user_id`"
   ]
  },
  {
   "cell_type": "markdown",
   "metadata": {},
   "source": [
    "Описание столбцов таблицы `messages_df`\n",
    "- `id` — уникальный номер сообщения\n",
    "- `message_date` — дата сообщения\n",
    "- `user_id` — идентификатор пользователя, отправившего сообщение"
   ]
  },
  {
   "cell_type": "markdown",
   "metadata": {},
   "source": [
    "В таблице `internet_df` представлены данные о потребляемом трафике каждого пользователя. В каждой строке лежит информация об одной сессии с уникальным id, дата этой сессии и количество потраченных мегабайт"
   ]
  },
  {
   "cell_type": "markdown",
   "metadata": {},
   "source": [
    "Описание столбцов таблицы `internet_df`:\n",
    "\n",
    "- `id` — уникальный номер сессии\n",
    "- `mb_used` — объём потраченного за сессию интернет-трафика (в мегабайтах)\n",
    "- `session_date` — дата интернет-сессии\n",
    "- `user_id` — идентификатор пользователя"
   ]
  },
  {
   "cell_type": "markdown",
   "metadata": {},
   "source": [
    "Таблица `tariffs_df` содержит данные о двух тарифах: **smart** и **ultra**. В таблице `users_df` есть информация, на каком тарифе пользователь. "
   ]
  },
  {
   "cell_type": "markdown",
   "metadata": {},
   "source": [
    "Информация о столбцах таблицы:\n",
    "    \n",
    "- `tariff_name` — название тарифа\n",
    "- `rub_monthly_fee` — ежемесячная абонентская плата в рублях\n",
    "- `minutes_included` — количество минут разговора в месяц, включённых в абонентскую плату\n",
    "- `messages_included` — количество сообщений в месяц, включённых в абонентскую плату\n",
    "- `mb_per_month_included` — объём интернет-трафика, включённого в абонентскую плату (в мегабайтах)\n",
    "- `rub_per_minute` — стоимость минуты разговора сверх тарифного пакета (например, если в тарифе 100 минут разговора в месяц, то со 101 минуты будет взиматься плата)\n",
    "- `rub_per_message` — стоимость отправки сообщения сверх тарифного пакета\n",
    "- `rub_per_gb` — стоимость дополнительного гигабайта интернет-трафика сверх тарифного пакета (1 гигабайт = 1024 мегабайта)\n"
   ]
  },
  {
   "cell_type": "markdown",
   "metadata": {},
   "source": [
    "**Описание тарифов**\n",
    "\n",
    "Тариф «Смарт»:\n",
    "- Ежемесячная плата: 550 рублей\n",
    "- Включено 500 минут разговора, 50 сообщений и 15 Гб интернет-трафика\n",
    "- Стоимость услуг сверх тарифного пакета:\n",
    "    - минута разговора: 3 рубля\n",
    "    - сообщение: 3 рубля\n",
    "    - 1 Гб интернет-трафика: 200 рублей\n",
    "\n",
    "Тариф «Ультра»:\n",
    "- Ежемесячная плата: 1950 рублей\n",
    "- Включено 3000 минут разговора, 1000 сообщений и 30 Гб интернет-трафика\n",
    "- Стоимость услуг сверх тарифного пакета:\n",
    "    - минута разговора: 1 рубль\n",
    "    - сообщение: 1 рубль\n",
    "    - 1 Гб интернет-трафика: 150 рублей"
   ]
  },
  {
   "cell_type": "code",
   "execution_count": 1,
   "metadata": {},
   "outputs": [],
   "source": [
    "import pandas as pd\n",
    "import numpy as np \n",
    "import matplotlib.pyplot as plt\n",
    "from textwrap import dedent\n",
    "from IPython import get_ipython\n",
    "from scipy import stats as st\n",
    "import seaborn as sns\n",
    "%matplotlib inline\n",
    "pd.options.display.float_format = '{:.3f}'.format\n",
    "pd.set_option('display.max_columns', 50)"
   ]
  },
  {
   "cell_type": "code",
   "execution_count": 2,
   "metadata": {},
   "outputs": [],
   "source": [
    "#загрузка данных\n",
    "calls_df = pd.read_csv('calls.csv')\n",
    "messages_df = pd.read_csv('messages.csv')\n",
    "internet_df = pd.read_csv('internet.csv', index_col=0)\n",
    "tariffs_df = pd.read_csv('tariffs.csv')\n",
    "users_df = pd.read_csv('users.csv')"
   ]
  },
  {
   "cell_type": "markdown",
   "metadata": {},
   "source": [
    "### Предобработка данных"
   ]
  },
  {
   "cell_type": "code",
   "execution_count": 3,
   "metadata": {},
   "outputs": [],
   "source": [
    "dataframes = ['users_df', 'calls_df', 'messages_df', 'internet_df', 'tariffs_df']"
   ]
  },
  {
   "cell_type": "code",
   "execution_count": 4,
   "metadata": {},
   "outputs": [],
   "source": [
    "def create_cell(shell, text):\n",
    "    payload = dict(\n",
    "        source='set_next_input',\n",
    "        text=text,\n",
    "        replace=False,\n",
    "    )\n",
    "    shell.payload_manager.write_payload(payload, single=False)"
   ]
  },
  {
   "cell_type": "code",
   "execution_count": 5,
   "metadata": {},
   "outputs": [],
   "source": [
    "def generate_df_preprocess_description(df):\n",
    "    shell = get_ipython()\n",
    "    for i,df in reversed(list(enumerate(dataframes))):\n",
    "        \n",
    "        create_cell(shell, dedent(\n",
    "            f'''\n",
    "            print('Null or Na count is', {df}.isna().sum())\n",
    "            \n",
    "            '''\n",
    "        ))\n",
    "        create_cell(shell, dedent(\n",
    "            f'''\n",
    "            {df}.describe()\n",
    "            '''\n",
    "        ))\n",
    "        create_cell(shell, dedent(\n",
    "            f'''\n",
    "            print(\"Количество дубликатов\", {df}.duplicated().sum())\n",
    "            '''\n",
    "        ))\n",
    "        create_cell(shell, dedent(\n",
    "            f'''\n",
    "            {df}.info()\n",
    "            '''\n",
    "        ))\n",
    "        create_cell(shell, dedent(\n",
    "            f'''\n",
    "            display({df}.head())\n",
    "            '''\n",
    "        ))\n",
    "        create_cell(shell, dedent(\n",
    "            f'''\n",
    "            #### {i+1}. Обработка \"{df}\"\n",
    "            '''\n",
    "        ))"
   ]
  },
  {
   "cell_type": "code",
   "execution_count": 6,
   "metadata": {},
   "outputs": [],
   "source": [
    "#generate_df_preprocess_description(dataframes)"
   ]
  },
  {
   "cell_type": "markdown",
   "metadata": {},
   "source": [
    "\n",
    "#### 1. Обработка \"users_df\"\n"
   ]
  },
  {
   "cell_type": "code",
   "execution_count": 7,
   "metadata": {},
   "outputs": [
    {
     "data": {
      "text/html": [
       "<div>\n",
       "<style scoped>\n",
       "    .dataframe tbody tr th:only-of-type {\n",
       "        vertical-align: middle;\n",
       "    }\n",
       "\n",
       "    .dataframe tbody tr th {\n",
       "        vertical-align: top;\n",
       "    }\n",
       "\n",
       "    .dataframe thead th {\n",
       "        text-align: right;\n",
       "    }\n",
       "</style>\n",
       "<table border=\"1\" class=\"dataframe\">\n",
       "  <thead>\n",
       "    <tr style=\"text-align: right;\">\n",
       "      <th></th>\n",
       "      <th>user_id</th>\n",
       "      <th>age</th>\n",
       "      <th>churn_date</th>\n",
       "      <th>city</th>\n",
       "      <th>first_name</th>\n",
       "      <th>last_name</th>\n",
       "      <th>reg_date</th>\n",
       "      <th>tariff</th>\n",
       "    </tr>\n",
       "  </thead>\n",
       "  <tbody>\n",
       "    <tr>\n",
       "      <th>0</th>\n",
       "      <td>1000</td>\n",
       "      <td>52</td>\n",
       "      <td>NaN</td>\n",
       "      <td>Краснодар</td>\n",
       "      <td>Рафаил</td>\n",
       "      <td>Верещагин</td>\n",
       "      <td>2018-05-25</td>\n",
       "      <td>ultra</td>\n",
       "    </tr>\n",
       "    <tr>\n",
       "      <th>1</th>\n",
       "      <td>1001</td>\n",
       "      <td>41</td>\n",
       "      <td>NaN</td>\n",
       "      <td>Москва</td>\n",
       "      <td>Иван</td>\n",
       "      <td>Ежов</td>\n",
       "      <td>2018-11-01</td>\n",
       "      <td>smart</td>\n",
       "    </tr>\n",
       "    <tr>\n",
       "      <th>2</th>\n",
       "      <td>1002</td>\n",
       "      <td>59</td>\n",
       "      <td>NaN</td>\n",
       "      <td>Стерлитамак</td>\n",
       "      <td>Евгений</td>\n",
       "      <td>Абрамович</td>\n",
       "      <td>2018-06-17</td>\n",
       "      <td>smart</td>\n",
       "    </tr>\n",
       "    <tr>\n",
       "      <th>3</th>\n",
       "      <td>1003</td>\n",
       "      <td>23</td>\n",
       "      <td>NaN</td>\n",
       "      <td>Москва</td>\n",
       "      <td>Белла</td>\n",
       "      <td>Белякова</td>\n",
       "      <td>2018-08-17</td>\n",
       "      <td>ultra</td>\n",
       "    </tr>\n",
       "    <tr>\n",
       "      <th>4</th>\n",
       "      <td>1004</td>\n",
       "      <td>68</td>\n",
       "      <td>NaN</td>\n",
       "      <td>Новокузнецк</td>\n",
       "      <td>Татьяна</td>\n",
       "      <td>Авдеенко</td>\n",
       "      <td>2018-05-14</td>\n",
       "      <td>ultra</td>\n",
       "    </tr>\n",
       "  </tbody>\n",
       "</table>\n",
       "</div>"
      ],
      "text/plain": [
       "   user_id  age churn_date         city first_name  last_name    reg_date  \\\n",
       "0     1000   52        NaN    Краснодар     Рафаил  Верещагин  2018-05-25   \n",
       "1     1001   41        NaN       Москва       Иван       Ежов  2018-11-01   \n",
       "2     1002   59        NaN  Стерлитамак    Евгений  Абрамович  2018-06-17   \n",
       "3     1003   23        NaN       Москва      Белла   Белякова  2018-08-17   \n",
       "4     1004   68        NaN  Новокузнецк    Татьяна   Авдеенко  2018-05-14   \n",
       "\n",
       "  tariff  \n",
       "0  ultra  \n",
       "1  smart  \n",
       "2  smart  \n",
       "3  ultra  \n",
       "4  ultra  "
      ]
     },
     "metadata": {},
     "output_type": "display_data"
    }
   ],
   "source": [
    "\n",
    "display(users_df.head())\n"
   ]
  },
  {
   "cell_type": "code",
   "execution_count": 8,
   "metadata": {},
   "outputs": [
    {
     "name": "stdout",
     "output_type": "stream",
     "text": [
      "<class 'pandas.core.frame.DataFrame'>\n",
      "RangeIndex: 500 entries, 0 to 499\n",
      "Data columns (total 8 columns):\n",
      " #   Column      Non-Null Count  Dtype \n",
      "---  ------      --------------  ----- \n",
      " 0   user_id     500 non-null    int64 \n",
      " 1   age         500 non-null    int64 \n",
      " 2   churn_date  38 non-null     object\n",
      " 3   city        500 non-null    object\n",
      " 4   first_name  500 non-null    object\n",
      " 5   last_name   500 non-null    object\n",
      " 6   reg_date    500 non-null    object\n",
      " 7   tariff      500 non-null    object\n",
      "dtypes: int64(2), object(6)\n",
      "memory usage: 31.4+ KB\n"
     ]
    }
   ],
   "source": [
    "\n",
    "users_df.info()\n"
   ]
  },
  {
   "cell_type": "code",
   "execution_count": 9,
   "metadata": {},
   "outputs": [
    {
     "name": "stdout",
     "output_type": "stream",
     "text": [
      "Количество дубликатов 0\n"
     ]
    }
   ],
   "source": [
    "\n",
    "print(\"Количество дубликатов\", users_df.duplicated().sum())\n"
   ]
  },
  {
   "cell_type": "code",
   "execution_count": 10,
   "metadata": {},
   "outputs": [
    {
     "data": {
      "text/html": [
       "<div>\n",
       "<style scoped>\n",
       "    .dataframe tbody tr th:only-of-type {\n",
       "        vertical-align: middle;\n",
       "    }\n",
       "\n",
       "    .dataframe tbody tr th {\n",
       "        vertical-align: top;\n",
       "    }\n",
       "\n",
       "    .dataframe thead th {\n",
       "        text-align: right;\n",
       "    }\n",
       "</style>\n",
       "<table border=\"1\" class=\"dataframe\">\n",
       "  <thead>\n",
       "    <tr style=\"text-align: right;\">\n",
       "      <th></th>\n",
       "      <th>user_id</th>\n",
       "      <th>age</th>\n",
       "    </tr>\n",
       "  </thead>\n",
       "  <tbody>\n",
       "    <tr>\n",
       "      <th>count</th>\n",
       "      <td>500.000</td>\n",
       "      <td>500.000</td>\n",
       "    </tr>\n",
       "    <tr>\n",
       "      <th>mean</th>\n",
       "      <td>1249.500</td>\n",
       "      <td>46.588</td>\n",
       "    </tr>\n",
       "    <tr>\n",
       "      <th>std</th>\n",
       "      <td>144.482</td>\n",
       "      <td>16.668</td>\n",
       "    </tr>\n",
       "    <tr>\n",
       "      <th>min</th>\n",
       "      <td>1000.000</td>\n",
       "      <td>18.000</td>\n",
       "    </tr>\n",
       "    <tr>\n",
       "      <th>25%</th>\n",
       "      <td>1124.750</td>\n",
       "      <td>32.000</td>\n",
       "    </tr>\n",
       "    <tr>\n",
       "      <th>50%</th>\n",
       "      <td>1249.500</td>\n",
       "      <td>46.000</td>\n",
       "    </tr>\n",
       "    <tr>\n",
       "      <th>75%</th>\n",
       "      <td>1374.250</td>\n",
       "      <td>62.000</td>\n",
       "    </tr>\n",
       "    <tr>\n",
       "      <th>max</th>\n",
       "      <td>1499.000</td>\n",
       "      <td>75.000</td>\n",
       "    </tr>\n",
       "  </tbody>\n",
       "</table>\n",
       "</div>"
      ],
      "text/plain": [
       "       user_id     age\n",
       "count  500.000 500.000\n",
       "mean  1249.500  46.588\n",
       "std    144.482  16.668\n",
       "min   1000.000  18.000\n",
       "25%   1124.750  32.000\n",
       "50%   1249.500  46.000\n",
       "75%   1374.250  62.000\n",
       "max   1499.000  75.000"
      ]
     },
     "execution_count": 10,
     "metadata": {},
     "output_type": "execute_result"
    }
   ],
   "source": [
    "\n",
    "users_df.describe()\n"
   ]
  },
  {
   "cell_type": "code",
   "execution_count": 11,
   "metadata": {},
   "outputs": [
    {
     "name": "stdout",
     "output_type": "stream",
     "text": [
      "Null or Na count is user_id         0\n",
      "age             0\n",
      "churn_date    462\n",
      "city            0\n",
      "first_name      0\n",
      "last_name       0\n",
      "reg_date        0\n",
      "tariff          0\n",
      "dtype: int64\n"
     ]
    }
   ],
   "source": [
    "\n",
    "print('Null or Na count is', users_df.isna().sum())\n",
    "\n"
   ]
  },
  {
   "cell_type": "markdown",
   "metadata": {},
   "source": [
    "\n",
    "#### 2. Обработка \"calls_df\"\n"
   ]
  },
  {
   "cell_type": "code",
   "execution_count": 12,
   "metadata": {},
   "outputs": [
    {
     "data": {
      "text/html": [
       "<div>\n",
       "<style scoped>\n",
       "    .dataframe tbody tr th:only-of-type {\n",
       "        vertical-align: middle;\n",
       "    }\n",
       "\n",
       "    .dataframe tbody tr th {\n",
       "        vertical-align: top;\n",
       "    }\n",
       "\n",
       "    .dataframe thead th {\n",
       "        text-align: right;\n",
       "    }\n",
       "</style>\n",
       "<table border=\"1\" class=\"dataframe\">\n",
       "  <thead>\n",
       "    <tr style=\"text-align: right;\">\n",
       "      <th></th>\n",
       "      <th>id</th>\n",
       "      <th>call_date</th>\n",
       "      <th>duration</th>\n",
       "      <th>user_id</th>\n",
       "    </tr>\n",
       "  </thead>\n",
       "  <tbody>\n",
       "    <tr>\n",
       "      <th>0</th>\n",
       "      <td>1000_0</td>\n",
       "      <td>2018-07-25</td>\n",
       "      <td>0.000</td>\n",
       "      <td>1000</td>\n",
       "    </tr>\n",
       "    <tr>\n",
       "      <th>1</th>\n",
       "      <td>1000_1</td>\n",
       "      <td>2018-08-17</td>\n",
       "      <td>0.000</td>\n",
       "      <td>1000</td>\n",
       "    </tr>\n",
       "    <tr>\n",
       "      <th>2</th>\n",
       "      <td>1000_2</td>\n",
       "      <td>2018-06-11</td>\n",
       "      <td>2.850</td>\n",
       "      <td>1000</td>\n",
       "    </tr>\n",
       "    <tr>\n",
       "      <th>3</th>\n",
       "      <td>1000_3</td>\n",
       "      <td>2018-09-21</td>\n",
       "      <td>13.800</td>\n",
       "      <td>1000</td>\n",
       "    </tr>\n",
       "    <tr>\n",
       "      <th>4</th>\n",
       "      <td>1000_4</td>\n",
       "      <td>2018-12-15</td>\n",
       "      <td>5.180</td>\n",
       "      <td>1000</td>\n",
       "    </tr>\n",
       "  </tbody>\n",
       "</table>\n",
       "</div>"
      ],
      "text/plain": [
       "       id   call_date  duration  user_id\n",
       "0  1000_0  2018-07-25     0.000     1000\n",
       "1  1000_1  2018-08-17     0.000     1000\n",
       "2  1000_2  2018-06-11     2.850     1000\n",
       "3  1000_3  2018-09-21    13.800     1000\n",
       "4  1000_4  2018-12-15     5.180     1000"
      ]
     },
     "metadata": {},
     "output_type": "display_data"
    }
   ],
   "source": [
    "\n",
    "display(calls_df.head())\n"
   ]
  },
  {
   "cell_type": "code",
   "execution_count": 13,
   "metadata": {},
   "outputs": [
    {
     "name": "stdout",
     "output_type": "stream",
     "text": [
      "<class 'pandas.core.frame.DataFrame'>\n",
      "RangeIndex: 202607 entries, 0 to 202606\n",
      "Data columns (total 4 columns):\n",
      " #   Column     Non-Null Count   Dtype  \n",
      "---  ------     --------------   -----  \n",
      " 0   id         202607 non-null  object \n",
      " 1   call_date  202607 non-null  object \n",
      " 2   duration   202607 non-null  float64\n",
      " 3   user_id    202607 non-null  int64  \n",
      "dtypes: float64(1), int64(1), object(2)\n",
      "memory usage: 6.2+ MB\n"
     ]
    }
   ],
   "source": [
    "\n",
    "calls_df.info()\n"
   ]
  },
  {
   "cell_type": "code",
   "execution_count": 14,
   "metadata": {},
   "outputs": [
    {
     "name": "stdout",
     "output_type": "stream",
     "text": [
      "Количество дубликатов 0\n"
     ]
    }
   ],
   "source": [
    "\n",
    "print(\"Количество дубликатов\", calls_df.duplicated().sum())\n"
   ]
  },
  {
   "cell_type": "code",
   "execution_count": 15,
   "metadata": {},
   "outputs": [
    {
     "data": {
      "text/html": [
       "<div>\n",
       "<style scoped>\n",
       "    .dataframe tbody tr th:only-of-type {\n",
       "        vertical-align: middle;\n",
       "    }\n",
       "\n",
       "    .dataframe tbody tr th {\n",
       "        vertical-align: top;\n",
       "    }\n",
       "\n",
       "    .dataframe thead th {\n",
       "        text-align: right;\n",
       "    }\n",
       "</style>\n",
       "<table border=\"1\" class=\"dataframe\">\n",
       "  <thead>\n",
       "    <tr style=\"text-align: right;\">\n",
       "      <th></th>\n",
       "      <th>duration</th>\n",
       "      <th>user_id</th>\n",
       "    </tr>\n",
       "  </thead>\n",
       "  <tbody>\n",
       "    <tr>\n",
       "      <th>count</th>\n",
       "      <td>202607.000</td>\n",
       "      <td>202607.000</td>\n",
       "    </tr>\n",
       "    <tr>\n",
       "      <th>mean</th>\n",
       "      <td>6.756</td>\n",
       "      <td>1253.941</td>\n",
       "    </tr>\n",
       "    <tr>\n",
       "      <th>std</th>\n",
       "      <td>5.843</td>\n",
       "      <td>144.723</td>\n",
       "    </tr>\n",
       "    <tr>\n",
       "      <th>min</th>\n",
       "      <td>0.000</td>\n",
       "      <td>1000.000</td>\n",
       "    </tr>\n",
       "    <tr>\n",
       "      <th>25%</th>\n",
       "      <td>1.300</td>\n",
       "      <td>1126.000</td>\n",
       "    </tr>\n",
       "    <tr>\n",
       "      <th>50%</th>\n",
       "      <td>6.000</td>\n",
       "      <td>1260.000</td>\n",
       "    </tr>\n",
       "    <tr>\n",
       "      <th>75%</th>\n",
       "      <td>10.700</td>\n",
       "      <td>1379.000</td>\n",
       "    </tr>\n",
       "    <tr>\n",
       "      <th>max</th>\n",
       "      <td>38.000</td>\n",
       "      <td>1499.000</td>\n",
       "    </tr>\n",
       "  </tbody>\n",
       "</table>\n",
       "</div>"
      ],
      "text/plain": [
       "        duration    user_id\n",
       "count 202607.000 202607.000\n",
       "mean       6.756   1253.941\n",
       "std        5.843    144.723\n",
       "min        0.000   1000.000\n",
       "25%        1.300   1126.000\n",
       "50%        6.000   1260.000\n",
       "75%       10.700   1379.000\n",
       "max       38.000   1499.000"
      ]
     },
     "execution_count": 15,
     "metadata": {},
     "output_type": "execute_result"
    }
   ],
   "source": [
    "\n",
    "calls_df.describe()\n"
   ]
  },
  {
   "cell_type": "code",
   "execution_count": 16,
   "metadata": {},
   "outputs": [
    {
     "name": "stdout",
     "output_type": "stream",
     "text": [
      "Null or Na count is id           0\n",
      "call_date    0\n",
      "duration     0\n",
      "user_id      0\n",
      "dtype: int64\n"
     ]
    }
   ],
   "source": [
    "\n",
    "print('Null or Na count is', calls_df.isna().sum())\n",
    "\n"
   ]
  },
  {
   "cell_type": "markdown",
   "metadata": {},
   "source": [
    "\n",
    "#### 3. Обработка \"messages_df\"\n"
   ]
  },
  {
   "cell_type": "code",
   "execution_count": 17,
   "metadata": {},
   "outputs": [
    {
     "data": {
      "text/html": [
       "<div>\n",
       "<style scoped>\n",
       "    .dataframe tbody tr th:only-of-type {\n",
       "        vertical-align: middle;\n",
       "    }\n",
       "\n",
       "    .dataframe tbody tr th {\n",
       "        vertical-align: top;\n",
       "    }\n",
       "\n",
       "    .dataframe thead th {\n",
       "        text-align: right;\n",
       "    }\n",
       "</style>\n",
       "<table border=\"1\" class=\"dataframe\">\n",
       "  <thead>\n",
       "    <tr style=\"text-align: right;\">\n",
       "      <th></th>\n",
       "      <th>id</th>\n",
       "      <th>message_date</th>\n",
       "      <th>user_id</th>\n",
       "    </tr>\n",
       "  </thead>\n",
       "  <tbody>\n",
       "    <tr>\n",
       "      <th>0</th>\n",
       "      <td>1000_0</td>\n",
       "      <td>2018-06-27</td>\n",
       "      <td>1000</td>\n",
       "    </tr>\n",
       "    <tr>\n",
       "      <th>1</th>\n",
       "      <td>1000_1</td>\n",
       "      <td>2018-10-08</td>\n",
       "      <td>1000</td>\n",
       "    </tr>\n",
       "    <tr>\n",
       "      <th>2</th>\n",
       "      <td>1000_2</td>\n",
       "      <td>2018-08-04</td>\n",
       "      <td>1000</td>\n",
       "    </tr>\n",
       "    <tr>\n",
       "      <th>3</th>\n",
       "      <td>1000_3</td>\n",
       "      <td>2018-06-16</td>\n",
       "      <td>1000</td>\n",
       "    </tr>\n",
       "    <tr>\n",
       "      <th>4</th>\n",
       "      <td>1000_4</td>\n",
       "      <td>2018-12-05</td>\n",
       "      <td>1000</td>\n",
       "    </tr>\n",
       "  </tbody>\n",
       "</table>\n",
       "</div>"
      ],
      "text/plain": [
       "       id message_date  user_id\n",
       "0  1000_0   2018-06-27     1000\n",
       "1  1000_1   2018-10-08     1000\n",
       "2  1000_2   2018-08-04     1000\n",
       "3  1000_3   2018-06-16     1000\n",
       "4  1000_4   2018-12-05     1000"
      ]
     },
     "metadata": {},
     "output_type": "display_data"
    }
   ],
   "source": [
    "\n",
    "display(messages_df.head())\n"
   ]
  },
  {
   "cell_type": "code",
   "execution_count": 18,
   "metadata": {},
   "outputs": [
    {
     "name": "stdout",
     "output_type": "stream",
     "text": [
      "<class 'pandas.core.frame.DataFrame'>\n",
      "RangeIndex: 123036 entries, 0 to 123035\n",
      "Data columns (total 3 columns):\n",
      " #   Column        Non-Null Count   Dtype \n",
      "---  ------        --------------   ----- \n",
      " 0   id            123036 non-null  object\n",
      " 1   message_date  123036 non-null  object\n",
      " 2   user_id       123036 non-null  int64 \n",
      "dtypes: int64(1), object(2)\n",
      "memory usage: 2.8+ MB\n"
     ]
    }
   ],
   "source": [
    "\n",
    "messages_df.info()\n"
   ]
  },
  {
   "cell_type": "code",
   "execution_count": 19,
   "metadata": {},
   "outputs": [
    {
     "name": "stdout",
     "output_type": "stream",
     "text": [
      "Количество дубликатов 0\n"
     ]
    }
   ],
   "source": [
    "\n",
    "print(\"Количество дубликатов\", messages_df.duplicated().sum())\n"
   ]
  },
  {
   "cell_type": "code",
   "execution_count": 20,
   "metadata": {},
   "outputs": [
    {
     "data": {
      "text/html": [
       "<div>\n",
       "<style scoped>\n",
       "    .dataframe tbody tr th:only-of-type {\n",
       "        vertical-align: middle;\n",
       "    }\n",
       "\n",
       "    .dataframe tbody tr th {\n",
       "        vertical-align: top;\n",
       "    }\n",
       "\n",
       "    .dataframe thead th {\n",
       "        text-align: right;\n",
       "    }\n",
       "</style>\n",
       "<table border=\"1\" class=\"dataframe\">\n",
       "  <thead>\n",
       "    <tr style=\"text-align: right;\">\n",
       "      <th></th>\n",
       "      <th>user_id</th>\n",
       "    </tr>\n",
       "  </thead>\n",
       "  <tbody>\n",
       "    <tr>\n",
       "      <th>count</th>\n",
       "      <td>123036.000</td>\n",
       "    </tr>\n",
       "    <tr>\n",
       "      <th>mean</th>\n",
       "      <td>1256.989</td>\n",
       "    </tr>\n",
       "    <tr>\n",
       "      <th>std</th>\n",
       "      <td>143.524</td>\n",
       "    </tr>\n",
       "    <tr>\n",
       "      <th>min</th>\n",
       "      <td>1000.000</td>\n",
       "    </tr>\n",
       "    <tr>\n",
       "      <th>25%</th>\n",
       "      <td>1134.000</td>\n",
       "    </tr>\n",
       "    <tr>\n",
       "      <th>50%</th>\n",
       "      <td>1271.000</td>\n",
       "    </tr>\n",
       "    <tr>\n",
       "      <th>75%</th>\n",
       "      <td>1381.000</td>\n",
       "    </tr>\n",
       "    <tr>\n",
       "      <th>max</th>\n",
       "      <td>1499.000</td>\n",
       "    </tr>\n",
       "  </tbody>\n",
       "</table>\n",
       "</div>"
      ],
      "text/plain": [
       "         user_id\n",
       "count 123036.000\n",
       "mean    1256.989\n",
       "std      143.524\n",
       "min     1000.000\n",
       "25%     1134.000\n",
       "50%     1271.000\n",
       "75%     1381.000\n",
       "max     1499.000"
      ]
     },
     "execution_count": 20,
     "metadata": {},
     "output_type": "execute_result"
    }
   ],
   "source": [
    "\n",
    "messages_df.describe()\n"
   ]
  },
  {
   "cell_type": "code",
   "execution_count": 21,
   "metadata": {},
   "outputs": [
    {
     "name": "stdout",
     "output_type": "stream",
     "text": [
      "Null or Na count is id              0\n",
      "message_date    0\n",
      "user_id         0\n",
      "dtype: int64\n"
     ]
    }
   ],
   "source": [
    "\n",
    "print('Null or Na count is', messages_df.isna().sum())\n",
    "\n"
   ]
  },
  {
   "cell_type": "markdown",
   "metadata": {},
   "source": [
    "\n",
    "#### 4. Обработка \"internet_df\"\n"
   ]
  },
  {
   "cell_type": "code",
   "execution_count": 22,
   "metadata": {},
   "outputs": [
    {
     "data": {
      "text/html": [
       "<div>\n",
       "<style scoped>\n",
       "    .dataframe tbody tr th:only-of-type {\n",
       "        vertical-align: middle;\n",
       "    }\n",
       "\n",
       "    .dataframe tbody tr th {\n",
       "        vertical-align: top;\n",
       "    }\n",
       "\n",
       "    .dataframe thead th {\n",
       "        text-align: right;\n",
       "    }\n",
       "</style>\n",
       "<table border=\"1\" class=\"dataframe\">\n",
       "  <thead>\n",
       "    <tr style=\"text-align: right;\">\n",
       "      <th></th>\n",
       "      <th>id</th>\n",
       "      <th>mb_used</th>\n",
       "      <th>session_date</th>\n",
       "      <th>user_id</th>\n",
       "    </tr>\n",
       "  </thead>\n",
       "  <tbody>\n",
       "    <tr>\n",
       "      <th>0</th>\n",
       "      <td>1000_0</td>\n",
       "      <td>112.950</td>\n",
       "      <td>2018-11-25</td>\n",
       "      <td>1000</td>\n",
       "    </tr>\n",
       "    <tr>\n",
       "      <th>1</th>\n",
       "      <td>1000_1</td>\n",
       "      <td>1052.810</td>\n",
       "      <td>2018-09-07</td>\n",
       "      <td>1000</td>\n",
       "    </tr>\n",
       "    <tr>\n",
       "      <th>2</th>\n",
       "      <td>1000_2</td>\n",
       "      <td>1197.260</td>\n",
       "      <td>2018-06-25</td>\n",
       "      <td>1000</td>\n",
       "    </tr>\n",
       "    <tr>\n",
       "      <th>3</th>\n",
       "      <td>1000_3</td>\n",
       "      <td>550.270</td>\n",
       "      <td>2018-08-22</td>\n",
       "      <td>1000</td>\n",
       "    </tr>\n",
       "    <tr>\n",
       "      <th>4</th>\n",
       "      <td>1000_4</td>\n",
       "      <td>302.560</td>\n",
       "      <td>2018-09-24</td>\n",
       "      <td>1000</td>\n",
       "    </tr>\n",
       "  </tbody>\n",
       "</table>\n",
       "</div>"
      ],
      "text/plain": [
       "       id  mb_used session_date  user_id\n",
       "0  1000_0  112.950   2018-11-25     1000\n",
       "1  1000_1 1052.810   2018-09-07     1000\n",
       "2  1000_2 1197.260   2018-06-25     1000\n",
       "3  1000_3  550.270   2018-08-22     1000\n",
       "4  1000_4  302.560   2018-09-24     1000"
      ]
     },
     "metadata": {},
     "output_type": "display_data"
    }
   ],
   "source": [
    "\n",
    "display(internet_df.head())\n"
   ]
  },
  {
   "cell_type": "code",
   "execution_count": 23,
   "metadata": {},
   "outputs": [
    {
     "name": "stdout",
     "output_type": "stream",
     "text": [
      "<class 'pandas.core.frame.DataFrame'>\n",
      "Int64Index: 149396 entries, 0 to 149395\n",
      "Data columns (total 4 columns):\n",
      " #   Column        Non-Null Count   Dtype  \n",
      "---  ------        --------------   -----  \n",
      " 0   id            149396 non-null  object \n",
      " 1   mb_used       149396 non-null  float64\n",
      " 2   session_date  149396 non-null  object \n",
      " 3   user_id       149396 non-null  int64  \n",
      "dtypes: float64(1), int64(1), object(2)\n",
      "memory usage: 5.7+ MB\n"
     ]
    }
   ],
   "source": [
    "\n",
    "internet_df.info()\n"
   ]
  },
  {
   "cell_type": "code",
   "execution_count": 24,
   "metadata": {},
   "outputs": [
    {
     "name": "stdout",
     "output_type": "stream",
     "text": [
      "Количество дубликатов 0\n"
     ]
    }
   ],
   "source": [
    "\n",
    "print(\"Количество дубликатов\", internet_df.duplicated().sum())\n"
   ]
  },
  {
   "cell_type": "code",
   "execution_count": 25,
   "metadata": {},
   "outputs": [
    {
     "data": {
      "text/html": [
       "<div>\n",
       "<style scoped>\n",
       "    .dataframe tbody tr th:only-of-type {\n",
       "        vertical-align: middle;\n",
       "    }\n",
       "\n",
       "    .dataframe tbody tr th {\n",
       "        vertical-align: top;\n",
       "    }\n",
       "\n",
       "    .dataframe thead th {\n",
       "        text-align: right;\n",
       "    }\n",
       "</style>\n",
       "<table border=\"1\" class=\"dataframe\">\n",
       "  <thead>\n",
       "    <tr style=\"text-align: right;\">\n",
       "      <th></th>\n",
       "      <th>mb_used</th>\n",
       "      <th>user_id</th>\n",
       "    </tr>\n",
       "  </thead>\n",
       "  <tbody>\n",
       "    <tr>\n",
       "      <th>count</th>\n",
       "      <td>149396.000</td>\n",
       "      <td>149396.000</td>\n",
       "    </tr>\n",
       "    <tr>\n",
       "      <th>mean</th>\n",
       "      <td>370.192</td>\n",
       "      <td>1252.100</td>\n",
       "    </tr>\n",
       "    <tr>\n",
       "      <th>std</th>\n",
       "      <td>278.301</td>\n",
       "      <td>144.051</td>\n",
       "    </tr>\n",
       "    <tr>\n",
       "      <th>min</th>\n",
       "      <td>0.000</td>\n",
       "      <td>1000.000</td>\n",
       "    </tr>\n",
       "    <tr>\n",
       "      <th>25%</th>\n",
       "      <td>138.188</td>\n",
       "      <td>1130.000</td>\n",
       "    </tr>\n",
       "    <tr>\n",
       "      <th>50%</th>\n",
       "      <td>348.015</td>\n",
       "      <td>1251.000</td>\n",
       "    </tr>\n",
       "    <tr>\n",
       "      <th>75%</th>\n",
       "      <td>559.553</td>\n",
       "      <td>1380.000</td>\n",
       "    </tr>\n",
       "    <tr>\n",
       "      <th>max</th>\n",
       "      <td>1724.830</td>\n",
       "      <td>1499.000</td>\n",
       "    </tr>\n",
       "  </tbody>\n",
       "</table>\n",
       "</div>"
      ],
      "text/plain": [
       "         mb_used    user_id\n",
       "count 149396.000 149396.000\n",
       "mean     370.192   1252.100\n",
       "std      278.301    144.051\n",
       "min        0.000   1000.000\n",
       "25%      138.188   1130.000\n",
       "50%      348.015   1251.000\n",
       "75%      559.553   1380.000\n",
       "max     1724.830   1499.000"
      ]
     },
     "execution_count": 25,
     "metadata": {},
     "output_type": "execute_result"
    }
   ],
   "source": [
    "\n",
    "internet_df.describe()\n"
   ]
  },
  {
   "cell_type": "code",
   "execution_count": 26,
   "metadata": {},
   "outputs": [
    {
     "name": "stdout",
     "output_type": "stream",
     "text": [
      "Null or Na count is id              0\n",
      "mb_used         0\n",
      "session_date    0\n",
      "user_id         0\n",
      "dtype: int64\n"
     ]
    }
   ],
   "source": [
    "\n",
    "print('Null or Na count is', internet_df.isna().sum())\n",
    "\n"
   ]
  },
  {
   "cell_type": "markdown",
   "metadata": {},
   "source": [
    "\n",
    "#### 5. Обработка \"tariffs_df\"\n"
   ]
  },
  {
   "cell_type": "code",
   "execution_count": 27,
   "metadata": {},
   "outputs": [
    {
     "data": {
      "text/html": [
       "<div>\n",
       "<style scoped>\n",
       "    .dataframe tbody tr th:only-of-type {\n",
       "        vertical-align: middle;\n",
       "    }\n",
       "\n",
       "    .dataframe tbody tr th {\n",
       "        vertical-align: top;\n",
       "    }\n",
       "\n",
       "    .dataframe thead th {\n",
       "        text-align: right;\n",
       "    }\n",
       "</style>\n",
       "<table border=\"1\" class=\"dataframe\">\n",
       "  <thead>\n",
       "    <tr style=\"text-align: right;\">\n",
       "      <th></th>\n",
       "      <th>messages_included</th>\n",
       "      <th>mb_per_month_included</th>\n",
       "      <th>minutes_included</th>\n",
       "      <th>rub_monthly_fee</th>\n",
       "      <th>rub_per_gb</th>\n",
       "      <th>rub_per_message</th>\n",
       "      <th>rub_per_minute</th>\n",
       "      <th>tariff_name</th>\n",
       "    </tr>\n",
       "  </thead>\n",
       "  <tbody>\n",
       "    <tr>\n",
       "      <th>0</th>\n",
       "      <td>50</td>\n",
       "      <td>15360</td>\n",
       "      <td>500</td>\n",
       "      <td>550</td>\n",
       "      <td>200</td>\n",
       "      <td>3</td>\n",
       "      <td>3</td>\n",
       "      <td>smart</td>\n",
       "    </tr>\n",
       "    <tr>\n",
       "      <th>1</th>\n",
       "      <td>1000</td>\n",
       "      <td>30720</td>\n",
       "      <td>3000</td>\n",
       "      <td>1950</td>\n",
       "      <td>150</td>\n",
       "      <td>1</td>\n",
       "      <td>1</td>\n",
       "      <td>ultra</td>\n",
       "    </tr>\n",
       "  </tbody>\n",
       "</table>\n",
       "</div>"
      ],
      "text/plain": [
       "   messages_included  mb_per_month_included  minutes_included  \\\n",
       "0                 50                  15360               500   \n",
       "1               1000                  30720              3000   \n",
       "\n",
       "   rub_monthly_fee  rub_per_gb  rub_per_message  rub_per_minute tariff_name  \n",
       "0              550         200                3               3       smart  \n",
       "1             1950         150                1               1       ultra  "
      ]
     },
     "metadata": {},
     "output_type": "display_data"
    }
   ],
   "source": [
    "\n",
    "display(tariffs_df.head())\n"
   ]
  },
  {
   "cell_type": "code",
   "execution_count": 28,
   "metadata": {},
   "outputs": [
    {
     "name": "stdout",
     "output_type": "stream",
     "text": [
      "<class 'pandas.core.frame.DataFrame'>\n",
      "RangeIndex: 2 entries, 0 to 1\n",
      "Data columns (total 8 columns):\n",
      " #   Column                 Non-Null Count  Dtype \n",
      "---  ------                 --------------  ----- \n",
      " 0   messages_included      2 non-null      int64 \n",
      " 1   mb_per_month_included  2 non-null      int64 \n",
      " 2   minutes_included       2 non-null      int64 \n",
      " 3   rub_monthly_fee        2 non-null      int64 \n",
      " 4   rub_per_gb             2 non-null      int64 \n",
      " 5   rub_per_message        2 non-null      int64 \n",
      " 6   rub_per_minute         2 non-null      int64 \n",
      " 7   tariff_name            2 non-null      object\n",
      "dtypes: int64(7), object(1)\n",
      "memory usage: 256.0+ bytes\n"
     ]
    }
   ],
   "source": [
    "\n",
    "tariffs_df.info()\n"
   ]
  },
  {
   "cell_type": "code",
   "execution_count": 29,
   "metadata": {},
   "outputs": [
    {
     "name": "stdout",
     "output_type": "stream",
     "text": [
      "Количество дубликатов 0\n"
     ]
    }
   ],
   "source": [
    "\n",
    "print(\"Количество дубликатов\", tariffs_df.duplicated().sum())\n"
   ]
  },
  {
   "cell_type": "code",
   "execution_count": 30,
   "metadata": {},
   "outputs": [
    {
     "data": {
      "text/html": [
       "<div>\n",
       "<style scoped>\n",
       "    .dataframe tbody tr th:only-of-type {\n",
       "        vertical-align: middle;\n",
       "    }\n",
       "\n",
       "    .dataframe tbody tr th {\n",
       "        vertical-align: top;\n",
       "    }\n",
       "\n",
       "    .dataframe thead th {\n",
       "        text-align: right;\n",
       "    }\n",
       "</style>\n",
       "<table border=\"1\" class=\"dataframe\">\n",
       "  <thead>\n",
       "    <tr style=\"text-align: right;\">\n",
       "      <th></th>\n",
       "      <th>messages_included</th>\n",
       "      <th>mb_per_month_included</th>\n",
       "      <th>minutes_included</th>\n",
       "      <th>rub_monthly_fee</th>\n",
       "      <th>rub_per_gb</th>\n",
       "      <th>rub_per_message</th>\n",
       "      <th>rub_per_minute</th>\n",
       "    </tr>\n",
       "  </thead>\n",
       "  <tbody>\n",
       "    <tr>\n",
       "      <th>count</th>\n",
       "      <td>2.000</td>\n",
       "      <td>2.000</td>\n",
       "      <td>2.000</td>\n",
       "      <td>2.000</td>\n",
       "      <td>2.000</td>\n",
       "      <td>2.000</td>\n",
       "      <td>2.000</td>\n",
       "    </tr>\n",
       "    <tr>\n",
       "      <th>mean</th>\n",
       "      <td>525.000</td>\n",
       "      <td>23040.000</td>\n",
       "      <td>1750.000</td>\n",
       "      <td>1250.000</td>\n",
       "      <td>175.000</td>\n",
       "      <td>2.000</td>\n",
       "      <td>2.000</td>\n",
       "    </tr>\n",
       "    <tr>\n",
       "      <th>std</th>\n",
       "      <td>671.751</td>\n",
       "      <td>10861.160</td>\n",
       "      <td>1767.767</td>\n",
       "      <td>989.949</td>\n",
       "      <td>35.355</td>\n",
       "      <td>1.414</td>\n",
       "      <td>1.414</td>\n",
       "    </tr>\n",
       "    <tr>\n",
       "      <th>min</th>\n",
       "      <td>50.000</td>\n",
       "      <td>15360.000</td>\n",
       "      <td>500.000</td>\n",
       "      <td>550.000</td>\n",
       "      <td>150.000</td>\n",
       "      <td>1.000</td>\n",
       "      <td>1.000</td>\n",
       "    </tr>\n",
       "    <tr>\n",
       "      <th>25%</th>\n",
       "      <td>287.500</td>\n",
       "      <td>19200.000</td>\n",
       "      <td>1125.000</td>\n",
       "      <td>900.000</td>\n",
       "      <td>162.500</td>\n",
       "      <td>1.500</td>\n",
       "      <td>1.500</td>\n",
       "    </tr>\n",
       "    <tr>\n",
       "      <th>50%</th>\n",
       "      <td>525.000</td>\n",
       "      <td>23040.000</td>\n",
       "      <td>1750.000</td>\n",
       "      <td>1250.000</td>\n",
       "      <td>175.000</td>\n",
       "      <td>2.000</td>\n",
       "      <td>2.000</td>\n",
       "    </tr>\n",
       "    <tr>\n",
       "      <th>75%</th>\n",
       "      <td>762.500</td>\n",
       "      <td>26880.000</td>\n",
       "      <td>2375.000</td>\n",
       "      <td>1600.000</td>\n",
       "      <td>187.500</td>\n",
       "      <td>2.500</td>\n",
       "      <td>2.500</td>\n",
       "    </tr>\n",
       "    <tr>\n",
       "      <th>max</th>\n",
       "      <td>1000.000</td>\n",
       "      <td>30720.000</td>\n",
       "      <td>3000.000</td>\n",
       "      <td>1950.000</td>\n",
       "      <td>200.000</td>\n",
       "      <td>3.000</td>\n",
       "      <td>3.000</td>\n",
       "    </tr>\n",
       "  </tbody>\n",
       "</table>\n",
       "</div>"
      ],
      "text/plain": [
       "       messages_included  mb_per_month_included  minutes_included  \\\n",
       "count              2.000                  2.000             2.000   \n",
       "mean             525.000              23040.000          1750.000   \n",
       "std              671.751              10861.160          1767.767   \n",
       "min               50.000              15360.000           500.000   \n",
       "25%              287.500              19200.000          1125.000   \n",
       "50%              525.000              23040.000          1750.000   \n",
       "75%              762.500              26880.000          2375.000   \n",
       "max             1000.000              30720.000          3000.000   \n",
       "\n",
       "       rub_monthly_fee  rub_per_gb  rub_per_message  rub_per_minute  \n",
       "count            2.000       2.000            2.000           2.000  \n",
       "mean          1250.000     175.000            2.000           2.000  \n",
       "std            989.949      35.355            1.414           1.414  \n",
       "min            550.000     150.000            1.000           1.000  \n",
       "25%            900.000     162.500            1.500           1.500  \n",
       "50%           1250.000     175.000            2.000           2.000  \n",
       "75%           1600.000     187.500            2.500           2.500  \n",
       "max           1950.000     200.000            3.000           3.000  "
      ]
     },
     "execution_count": 30,
     "metadata": {},
     "output_type": "execute_result"
    }
   ],
   "source": [
    "\n",
    "tariffs_df.describe()\n"
   ]
  },
  {
   "cell_type": "code",
   "execution_count": 31,
   "metadata": {},
   "outputs": [
    {
     "name": "stdout",
     "output_type": "stream",
     "text": [
      "Null or Na count is messages_included        0\n",
      "mb_per_month_included    0\n",
      "minutes_included         0\n",
      "rub_monthly_fee          0\n",
      "rub_per_gb               0\n",
      "rub_per_message          0\n",
      "rub_per_minute           0\n",
      "tariff_name              0\n",
      "dtype: int64\n"
     ]
    }
   ],
   "source": [
    "\n",
    "print('Null or Na count is', tariffs_df.isna().sum())\n",
    "\n"
   ]
  },
  {
   "cell_type": "markdown",
   "metadata": {},
   "source": [
    "#### Вывод\n",
    "   - нам предоставлены данные о 500 клиентах, которые пользуется двумя тарифами \"Мегалайн\" в течение 2018 года\n",
    "   - мы проверили данные на дубликаты, пропуски. Дубликатов не нашлось, все пропуски обоснованы.\n",
    "   - в таблице `users_df` в столбце `churn_date` пропуски означают, что пользователь ещё не расторг договор\n",
    "   - данным в столбцах с датами требуется поменять тип для дальнейшей работы\n",
    "   "
   ]
  },
  {
   "cell_type": "markdown",
   "metadata": {},
   "source": [
    "### Исправим данные в таблицах `calls_df`, `messages_df` и `internet_df`"
   ]
  },
  {
   "cell_type": "markdown",
   "metadata": {},
   "source": [
    "#### Исправим тип данных в столбцах с датой и добавим столбец с номером месяца"
   ]
  },
  {
   "cell_type": "code",
   "execution_count": 32,
   "metadata": {},
   "outputs": [],
   "source": [
    "#перевод даты из строки в тип datetime64\n",
    "calls_df['call_date'] = pd.to_datetime(calls_df['call_date'], format='%Y-%m-%d')\n",
    "\n",
    "#добавим столбец с номером календарного месяца\n",
    "calls_df['month'] = pd.DatetimeIndex(calls_df['call_date']).month\n",
    "\n",
    "messages_df['message_date'] = pd.to_datetime(messages_df['message_date'], format='%Y-%m-%d')\n",
    "messages_df['month'] = pd.DatetimeIndex(messages_df['message_date']).month\n",
    "\n",
    "internet_df['session_date'] = pd.to_datetime(internet_df['session_date'], format='%Y-%m-%d')\n",
    "internet_df['month'] = pd.DatetimeIndex(internet_df['session_date']).month\n",
    "\n",
    "users_df['reg_date'] = pd.to_datetime(users_df['reg_date'], format='%Y-%m-%d')\n",
    "users_df['month_start'] = pd.DatetimeIndex(users_df['reg_date']).month\n",
    "users_df['churn_date'] = pd.to_datetime(users_df['churn_date'], format='%Y-%m-%d')\n",
    "users_df['month_end'] = pd.DatetimeIndex(users_df['churn_date']).month"
   ]
  },
  {
   "cell_type": "code",
   "execution_count": 33,
   "metadata": {
    "scrolled": false
   },
   "outputs": [
    {
     "data": {
      "text/html": [
       "<div>\n",
       "<style scoped>\n",
       "    .dataframe tbody tr th:only-of-type {\n",
       "        vertical-align: middle;\n",
       "    }\n",
       "\n",
       "    .dataframe tbody tr th {\n",
       "        vertical-align: top;\n",
       "    }\n",
       "\n",
       "    .dataframe thead th {\n",
       "        text-align: right;\n",
       "    }\n",
       "</style>\n",
       "<table border=\"1\" class=\"dataframe\">\n",
       "  <thead>\n",
       "    <tr style=\"text-align: right;\">\n",
       "      <th></th>\n",
       "      <th>id</th>\n",
       "      <th>call_date</th>\n",
       "      <th>duration</th>\n",
       "      <th>user_id</th>\n",
       "      <th>month</th>\n",
       "    </tr>\n",
       "  </thead>\n",
       "  <tbody>\n",
       "    <tr>\n",
       "      <th>0</th>\n",
       "      <td>1000_0</td>\n",
       "      <td>2018-07-25</td>\n",
       "      <td>0.000</td>\n",
       "      <td>1000</td>\n",
       "      <td>7</td>\n",
       "    </tr>\n",
       "    <tr>\n",
       "      <th>1</th>\n",
       "      <td>1000_1</td>\n",
       "      <td>2018-08-17</td>\n",
       "      <td>0.000</td>\n",
       "      <td>1000</td>\n",
       "      <td>8</td>\n",
       "    </tr>\n",
       "    <tr>\n",
       "      <th>2</th>\n",
       "      <td>1000_2</td>\n",
       "      <td>2018-06-11</td>\n",
       "      <td>2.850</td>\n",
       "      <td>1000</td>\n",
       "      <td>6</td>\n",
       "    </tr>\n",
       "    <tr>\n",
       "      <th>3</th>\n",
       "      <td>1000_3</td>\n",
       "      <td>2018-09-21</td>\n",
       "      <td>13.800</td>\n",
       "      <td>1000</td>\n",
       "      <td>9</td>\n",
       "    </tr>\n",
       "    <tr>\n",
       "      <th>4</th>\n",
       "      <td>1000_4</td>\n",
       "      <td>2018-12-15</td>\n",
       "      <td>5.180</td>\n",
       "      <td>1000</td>\n",
       "      <td>12</td>\n",
       "    </tr>\n",
       "  </tbody>\n",
       "</table>\n",
       "</div>"
      ],
      "text/plain": [
       "       id  call_date  duration  user_id  month\n",
       "0  1000_0 2018-07-25     0.000     1000      7\n",
       "1  1000_1 2018-08-17     0.000     1000      8\n",
       "2  1000_2 2018-06-11     2.850     1000      6\n",
       "3  1000_3 2018-09-21    13.800     1000      9\n",
       "4  1000_4 2018-12-15     5.180     1000     12"
      ]
     },
     "execution_count": 33,
     "metadata": {},
     "output_type": "execute_result"
    }
   ],
   "source": [
    "calls_df.head()"
   ]
  },
  {
   "cell_type": "code",
   "execution_count": 34,
   "metadata": {},
   "outputs": [
    {
     "data": {
      "text/html": [
       "<div>\n",
       "<style scoped>\n",
       "    .dataframe tbody tr th:only-of-type {\n",
       "        vertical-align: middle;\n",
       "    }\n",
       "\n",
       "    .dataframe tbody tr th {\n",
       "        vertical-align: top;\n",
       "    }\n",
       "\n",
       "    .dataframe thead th {\n",
       "        text-align: right;\n",
       "    }\n",
       "</style>\n",
       "<table border=\"1\" class=\"dataframe\">\n",
       "  <thead>\n",
       "    <tr style=\"text-align: right;\">\n",
       "      <th></th>\n",
       "      <th>id</th>\n",
       "      <th>message_date</th>\n",
       "      <th>user_id</th>\n",
       "      <th>month</th>\n",
       "    </tr>\n",
       "  </thead>\n",
       "  <tbody>\n",
       "    <tr>\n",
       "      <th>0</th>\n",
       "      <td>1000_0</td>\n",
       "      <td>2018-06-27</td>\n",
       "      <td>1000</td>\n",
       "      <td>6</td>\n",
       "    </tr>\n",
       "    <tr>\n",
       "      <th>1</th>\n",
       "      <td>1000_1</td>\n",
       "      <td>2018-10-08</td>\n",
       "      <td>1000</td>\n",
       "      <td>10</td>\n",
       "    </tr>\n",
       "    <tr>\n",
       "      <th>2</th>\n",
       "      <td>1000_2</td>\n",
       "      <td>2018-08-04</td>\n",
       "      <td>1000</td>\n",
       "      <td>8</td>\n",
       "    </tr>\n",
       "    <tr>\n",
       "      <th>3</th>\n",
       "      <td>1000_3</td>\n",
       "      <td>2018-06-16</td>\n",
       "      <td>1000</td>\n",
       "      <td>6</td>\n",
       "    </tr>\n",
       "    <tr>\n",
       "      <th>4</th>\n",
       "      <td>1000_4</td>\n",
       "      <td>2018-12-05</td>\n",
       "      <td>1000</td>\n",
       "      <td>12</td>\n",
       "    </tr>\n",
       "  </tbody>\n",
       "</table>\n",
       "</div>"
      ],
      "text/plain": [
       "       id message_date  user_id  month\n",
       "0  1000_0   2018-06-27     1000      6\n",
       "1  1000_1   2018-10-08     1000     10\n",
       "2  1000_2   2018-08-04     1000      8\n",
       "3  1000_3   2018-06-16     1000      6\n",
       "4  1000_4   2018-12-05     1000     12"
      ]
     },
     "execution_count": 34,
     "metadata": {},
     "output_type": "execute_result"
    }
   ],
   "source": [
    "messages_df.head()"
   ]
  },
  {
   "cell_type": "code",
   "execution_count": 35,
   "metadata": {
    "scrolled": true
   },
   "outputs": [
    {
     "data": {
      "text/html": [
       "<div>\n",
       "<style scoped>\n",
       "    .dataframe tbody tr th:only-of-type {\n",
       "        vertical-align: middle;\n",
       "    }\n",
       "\n",
       "    .dataframe tbody tr th {\n",
       "        vertical-align: top;\n",
       "    }\n",
       "\n",
       "    .dataframe thead th {\n",
       "        text-align: right;\n",
       "    }\n",
       "</style>\n",
       "<table border=\"1\" class=\"dataframe\">\n",
       "  <thead>\n",
       "    <tr style=\"text-align: right;\">\n",
       "      <th></th>\n",
       "      <th>id</th>\n",
       "      <th>mb_used</th>\n",
       "      <th>session_date</th>\n",
       "      <th>user_id</th>\n",
       "      <th>month</th>\n",
       "    </tr>\n",
       "  </thead>\n",
       "  <tbody>\n",
       "    <tr>\n",
       "      <th>0</th>\n",
       "      <td>1000_0</td>\n",
       "      <td>112.950</td>\n",
       "      <td>2018-11-25</td>\n",
       "      <td>1000</td>\n",
       "      <td>11</td>\n",
       "    </tr>\n",
       "    <tr>\n",
       "      <th>1</th>\n",
       "      <td>1000_1</td>\n",
       "      <td>1052.810</td>\n",
       "      <td>2018-09-07</td>\n",
       "      <td>1000</td>\n",
       "      <td>9</td>\n",
       "    </tr>\n",
       "    <tr>\n",
       "      <th>2</th>\n",
       "      <td>1000_2</td>\n",
       "      <td>1197.260</td>\n",
       "      <td>2018-06-25</td>\n",
       "      <td>1000</td>\n",
       "      <td>6</td>\n",
       "    </tr>\n",
       "    <tr>\n",
       "      <th>3</th>\n",
       "      <td>1000_3</td>\n",
       "      <td>550.270</td>\n",
       "      <td>2018-08-22</td>\n",
       "      <td>1000</td>\n",
       "      <td>8</td>\n",
       "    </tr>\n",
       "    <tr>\n",
       "      <th>4</th>\n",
       "      <td>1000_4</td>\n",
       "      <td>302.560</td>\n",
       "      <td>2018-09-24</td>\n",
       "      <td>1000</td>\n",
       "      <td>9</td>\n",
       "    </tr>\n",
       "  </tbody>\n",
       "</table>\n",
       "</div>"
      ],
      "text/plain": [
       "       id  mb_used session_date  user_id  month\n",
       "0  1000_0  112.950   2018-11-25     1000     11\n",
       "1  1000_1 1052.810   2018-09-07     1000      9\n",
       "2  1000_2 1197.260   2018-06-25     1000      6\n",
       "3  1000_3  550.270   2018-08-22     1000      8\n",
       "4  1000_4  302.560   2018-09-24     1000      9"
      ]
     },
     "execution_count": 35,
     "metadata": {},
     "output_type": "execute_result"
    }
   ],
   "source": [
    "internet_df.head()"
   ]
  },
  {
   "cell_type": "code",
   "execution_count": 36,
   "metadata": {},
   "outputs": [
    {
     "data": {
      "text/html": [
       "<div>\n",
       "<style scoped>\n",
       "    .dataframe tbody tr th:only-of-type {\n",
       "        vertical-align: middle;\n",
       "    }\n",
       "\n",
       "    .dataframe tbody tr th {\n",
       "        vertical-align: top;\n",
       "    }\n",
       "\n",
       "    .dataframe thead th {\n",
       "        text-align: right;\n",
       "    }\n",
       "</style>\n",
       "<table border=\"1\" class=\"dataframe\">\n",
       "  <thead>\n",
       "    <tr style=\"text-align: right;\">\n",
       "      <th></th>\n",
       "      <th>user_id</th>\n",
       "      <th>age</th>\n",
       "      <th>churn_date</th>\n",
       "      <th>city</th>\n",
       "      <th>first_name</th>\n",
       "      <th>last_name</th>\n",
       "      <th>reg_date</th>\n",
       "      <th>tariff</th>\n",
       "      <th>month_start</th>\n",
       "      <th>month_end</th>\n",
       "    </tr>\n",
       "  </thead>\n",
       "  <tbody>\n",
       "    <tr>\n",
       "      <th>483</th>\n",
       "      <td>1483</td>\n",
       "      <td>28</td>\n",
       "      <td>NaT</td>\n",
       "      <td>Ульяновск</td>\n",
       "      <td>Серафима</td>\n",
       "      <td>Борисова</td>\n",
       "      <td>2018-04-11</td>\n",
       "      <td>smart</td>\n",
       "      <td>4</td>\n",
       "      <td>NaN</td>\n",
       "    </tr>\n",
       "    <tr>\n",
       "      <th>129</th>\n",
       "      <td>1129</td>\n",
       "      <td>48</td>\n",
       "      <td>NaT</td>\n",
       "      <td>Курган</td>\n",
       "      <td>Анвар</td>\n",
       "      <td>Морозов</td>\n",
       "      <td>2018-12-17</td>\n",
       "      <td>smart</td>\n",
       "      <td>12</td>\n",
       "      <td>NaN</td>\n",
       "    </tr>\n",
       "    <tr>\n",
       "      <th>386</th>\n",
       "      <td>1386</td>\n",
       "      <td>21</td>\n",
       "      <td>NaT</td>\n",
       "      <td>Новосибирск</td>\n",
       "      <td>Фаддей</td>\n",
       "      <td>Родионов</td>\n",
       "      <td>2018-08-13</td>\n",
       "      <td>smart</td>\n",
       "      <td>8</td>\n",
       "      <td>NaN</td>\n",
       "    </tr>\n",
       "    <tr>\n",
       "      <th>226</th>\n",
       "      <td>1226</td>\n",
       "      <td>19</td>\n",
       "      <td>NaT</td>\n",
       "      <td>Новосибирск</td>\n",
       "      <td>Альбин</td>\n",
       "      <td>Бобылёв</td>\n",
       "      <td>2018-06-01</td>\n",
       "      <td>ultra</td>\n",
       "      <td>6</td>\n",
       "      <td>NaN</td>\n",
       "    </tr>\n",
       "    <tr>\n",
       "      <th>12</th>\n",
       "      <td>1012</td>\n",
       "      <td>38</td>\n",
       "      <td>NaT</td>\n",
       "      <td>Санкт-Петербург</td>\n",
       "      <td>Варлам</td>\n",
       "      <td>Соловьев</td>\n",
       "      <td>2018-03-28</td>\n",
       "      <td>smart</td>\n",
       "      <td>3</td>\n",
       "      <td>NaN</td>\n",
       "    </tr>\n",
       "  </tbody>\n",
       "</table>\n",
       "</div>"
      ],
      "text/plain": [
       "     user_id  age churn_date             city first_name last_name   reg_date  \\\n",
       "483     1483   28        NaT        Ульяновск   Серафима  Борисова 2018-04-11   \n",
       "129     1129   48        NaT           Курган      Анвар   Морозов 2018-12-17   \n",
       "386     1386   21        NaT      Новосибирск     Фаддей  Родионов 2018-08-13   \n",
       "226     1226   19        NaT      Новосибирск     Альбин   Бобылёв 2018-06-01   \n",
       "12      1012   38        NaT  Санкт-Петербург     Варлам  Соловьев 2018-03-28   \n",
       "\n",
       "    tariff  month_start  month_end  \n",
       "483  smart            4        NaN  \n",
       "129  smart           12        NaN  \n",
       "386  smart            8        NaN  \n",
       "226  ultra            6        NaN  \n",
       "12   smart            3        NaN  "
      ]
     },
     "execution_count": 36,
     "metadata": {},
     "output_type": "execute_result"
    }
   ],
   "source": [
    "users_df.sample(5)"
   ]
  },
  {
   "cell_type": "markdown",
   "metadata": {},
   "source": [
    "#### Вывод\n",
    "   - в каждой таблице, где есть даты, заменили тип данных и добавили столбец с номером месяца.\n",
    "   - теперь данные можно группировать по пользователям и месяцам\n",
    "  "
   ]
  },
  {
   "cell_type": "markdown",
   "metadata": {},
   "source": [
    "### Расчет агрегированных показателей"
   ]
  },
  {
   "cell_type": "markdown",
   "metadata": {},
   "source": [
    "#### Найдём потраченные минуты у \"calls_df\""
   ]
  },
  {
   "cell_type": "code",
   "execution_count": 37,
   "metadata": {},
   "outputs": [],
   "source": [
    "#округлим секунды разговора до минут(в большую сторону)\n",
    "calls_df['duration'] = np.ceil(calls_df['duration']).astype(int)"
   ]
  },
  {
   "cell_type": "markdown",
   "metadata": {},
   "source": [
    "#### Количество сделанных звонков и их продолжительность по месяцам"
   ]
  },
  {
   "cell_type": "code",
   "execution_count": 38,
   "metadata": {},
   "outputs": [],
   "source": [
    "calls_df_grouped = calls_df.groupby(['user_id', 'month'])['duration'].agg(['count','sum'])"
   ]
  },
  {
   "cell_type": "markdown",
   "metadata": {},
   "source": [
    "calls_df_grouped = calls_df_grouped.rename(columns={'sum':'duration_per_month', 'count':'number_of_calls'}).sort_values(by='user_id', ascending = True).reset_index()"
   ]
  },
  {
   "cell_type": "code",
   "execution_count": 80,
   "metadata": {},
   "outputs": [
    {
     "data": {
      "text/html": [
       "<div>\n",
       "<style scoped>\n",
       "    .dataframe tbody tr th:only-of-type {\n",
       "        vertical-align: middle;\n",
       "    }\n",
       "\n",
       "    .dataframe tbody tr th {\n",
       "        vertical-align: top;\n",
       "    }\n",
       "\n",
       "    .dataframe thead th {\n",
       "        text-align: right;\n",
       "    }\n",
       "</style>\n",
       "<table border=\"1\" class=\"dataframe\">\n",
       "  <thead>\n",
       "    <tr style=\"text-align: right;\">\n",
       "      <th></th>\n",
       "      <th>user_id</th>\n",
       "      <th>month</th>\n",
       "      <th>number_of_calls</th>\n",
       "      <th>duration_per_month</th>\n",
       "    </tr>\n",
       "  </thead>\n",
       "  <tbody>\n",
       "    <tr>\n",
       "      <th>0</th>\n",
       "      <td>1000</td>\n",
       "      <td>5</td>\n",
       "      <td>22</td>\n",
       "      <td>159</td>\n",
       "    </tr>\n",
       "    <tr>\n",
       "      <th>1</th>\n",
       "      <td>1000</td>\n",
       "      <td>6</td>\n",
       "      <td>43</td>\n",
       "      <td>172</td>\n",
       "    </tr>\n",
       "    <tr>\n",
       "      <th>2</th>\n",
       "      <td>1000</td>\n",
       "      <td>7</td>\n",
       "      <td>47</td>\n",
       "      <td>340</td>\n",
       "    </tr>\n",
       "    <tr>\n",
       "      <th>3</th>\n",
       "      <td>1000</td>\n",
       "      <td>8</td>\n",
       "      <td>52</td>\n",
       "      <td>408</td>\n",
       "    </tr>\n",
       "    <tr>\n",
       "      <th>4</th>\n",
       "      <td>1000</td>\n",
       "      <td>9</td>\n",
       "      <td>58</td>\n",
       "      <td>466</td>\n",
       "    </tr>\n",
       "    <tr>\n",
       "      <th>...</th>\n",
       "      <td>...</td>\n",
       "      <td>...</td>\n",
       "      <td>...</td>\n",
       "      <td>...</td>\n",
       "    </tr>\n",
       "    <tr>\n",
       "      <th>3169</th>\n",
       "      <td>1498</td>\n",
       "      <td>9</td>\n",
       "      <td>59</td>\n",
       "      <td>471</td>\n",
       "    </tr>\n",
       "    <tr>\n",
       "      <th>3170</th>\n",
       "      <td>1499</td>\n",
       "      <td>10</td>\n",
       "      <td>68</td>\n",
       "      <td>449</td>\n",
       "    </tr>\n",
       "    <tr>\n",
       "      <th>3171</th>\n",
       "      <td>1499</td>\n",
       "      <td>11</td>\n",
       "      <td>74</td>\n",
       "      <td>612</td>\n",
       "    </tr>\n",
       "    <tr>\n",
       "      <th>3172</th>\n",
       "      <td>1499</td>\n",
       "      <td>9</td>\n",
       "      <td>9</td>\n",
       "      <td>70</td>\n",
       "    </tr>\n",
       "    <tr>\n",
       "      <th>3173</th>\n",
       "      <td>1499</td>\n",
       "      <td>12</td>\n",
       "      <td>69</td>\n",
       "      <td>492</td>\n",
       "    </tr>\n",
       "  </tbody>\n",
       "</table>\n",
       "<p>3174 rows × 4 columns</p>\n",
       "</div>"
      ],
      "text/plain": [
       "      user_id  month  number_of_calls  duration_per_month\n",
       "0        1000      5               22                 159\n",
       "1        1000      6               43                 172\n",
       "2        1000      7               47                 340\n",
       "3        1000      8               52                 408\n",
       "4        1000      9               58                 466\n",
       "...       ...    ...              ...                 ...\n",
       "3169     1498      9               59                 471\n",
       "3170     1499     10               68                 449\n",
       "3171     1499     11               74                 612\n",
       "3172     1499      9                9                  70\n",
       "3173     1499     12               69                 492\n",
       "\n",
       "[3174 rows x 4 columns]"
      ]
     },
     "execution_count": 80,
     "metadata": {},
     "output_type": "execute_result"
    }
   ],
   "source": [
    "calls_df_grouped"
   ]
  },
  {
   "cell_type": "markdown",
   "metadata": {},
   "source": [
    "#### Гистограмма duration"
   ]
  },
  {
   "cell_type": "code",
   "execution_count": 40,
   "metadata": {},
   "outputs": [
    {
     "name": "stdout",
     "output_type": "stream",
     "text": [
      "count   202607.000\n",
      "mean         7.158\n",
      "std          5.959\n",
      "min          0.000\n",
      "25%          2.000\n",
      "50%          6.000\n",
      "75%         11.000\n",
      "max         38.000\n",
      "Name: duration, dtype: float64\n"
     ]
    },
    {
     "data": {
      "image/png": "[encoded data removed]",
      "text/plain": [
       "<Figure size 720x360 with 1 Axes>"
      ]
     },
     "metadata": {
      "needs_background": "light"
     },
     "output_type": "display_data"
    }
   ],
   "source": [
    "print(calls_df['duration'].describe())\n",
    "plt.figure(figsize=(10,5))\n",
    "plt.hist(calls_df['duration'], bins=30, color='dodgerblue', edgecolor='yellow', alpha=0.5)\n",
    "plt.title(\"Гистограмма duration\")\n",
    "plt.xlabel(\"Длительность звонка\")\n",
    "plt.ylabel(\"Число пользователей\")\n",
    "plt.axvline(calls_df['duration'].describe()['mean'], color='r', label='среднее значение: {:.2f}'.format(calls_df['duration'].describe()['mean']))\n",
    "plt.axvline(calls_df['duration'].describe()['50%'], color='b', linestyle='dashed', label='медианное значение: {:.0f}'.format(calls_df['duration'].describe()['50%']))\n",
    "plt.legend()\n",
    "plt.show()"
   ]
  },
  {
   "cell_type": "markdown",
   "metadata": {},
   "source": [
    "#### Вывод\n",
    "\n",
    " - Нулями обозначены пропущенные звонки, поэтому их не нужно удалять. За пропущенные звонки не взимается плата, а при группировке они не будт влиять на результат.\n",
    " - Есть несколько пиков на 5, 10, 15 и 20 минутах, нужно уточнить у коллег, с чем связаны пики, воможно в тарифах есть звуковой сигнал после каждых пяти минут.\n",
    " - Среднее больше медианного из-за большого количество звонков длительностью 0 секунд. Максимальная дилительность звонка у абонентов обоих тарифов - 38 минут"
   ]
  },
  {
   "cell_type": "markdown",
   "metadata": {},
   "source": [
    "#### Количество сообщений по месяцам"
   ]
  },
  {
   "cell_type": "code",
   "execution_count": 41,
   "metadata": {},
   "outputs": [],
   "source": [
    "message_grouped = messages_df.groupby(['user_id','month']).agg(total_messages=('id', 'count')).reset_index()\n",
    "message_grouped = message_grouped.sort_values(by='total_messages', ascending = False)"
   ]
  },
  {
   "cell_type": "markdown",
   "metadata": {},
   "source": [
    "#### Гистограмма messages"
   ]
  },
  {
   "cell_type": "code",
   "execution_count": 42,
   "metadata": {},
   "outputs": [
    {
     "name": "stdout",
     "output_type": "stream",
     "text": [
      "count   2717.000\n",
      "mean      45.284\n",
      "std       35.051\n",
      "min        1.000\n",
      "25%       19.000\n",
      "50%       38.000\n",
      "75%       63.000\n",
      "max      224.000\n",
      "Name: total_messages, dtype: float64\n"
     ]
    },
    {
     "data": {
      "image/png": "[encoded data removed]",
      "text/plain": [
       "<Figure size 720x360 with 1 Axes>"
      ]
     },
     "metadata": {
      "needs_background": "light"
     },
     "output_type": "display_data"
    }
   ],
   "source": [
    "print(message_grouped['total_messages'].describe())\n",
    "plt.figure(figsize=(10,5))\n",
    "plt.hist(message_grouped['total_messages'], bins=30, color='dodgerblue', edgecolor='yellow', alpha=0.5)\n",
    "plt.title(\"Гистограмма messages\")\n",
    "plt.xlabel(\"Количество смс в месяц\")\n",
    "plt.ylabel(\"Число пользователей\")\n",
    "plt.axvline(message_grouped['total_messages'].describe()['mean'], color='r', label='среднее значение: {:.2f}'.format(message_grouped['total_messages'].describe()['mean']))\n",
    "plt.axvline(message_grouped['total_messages'].describe()['50%'], color='b', linestyle='dashed', label='медианное значение: {:.0f}'.format(message_grouped['total_messages'].describe()['50%']))\n",
    "plt.legend()\n",
    "plt.show()"
   ]
  },
  {
   "cell_type": "markdown",
   "metadata": {},
   "source": [
    "#### Вывод\n",
    "   - Гистограмма показывает положительную ассиметрию с длинным хвостом справа. Это означает, что больше пользователей с относительно небольшим количеством смс в месяц\n",
    "   - максимальное число отрпавленных смс в месяц - 224, минимальное - 1"
   ]
  },
  {
   "cell_type": "markdown",
   "metadata": {},
   "source": [
    "#### Объем израсходованного интернет-трафика с округлением по месяцам"
   ]
  },
  {
   "cell_type": "code",
   "execution_count": 43,
   "metadata": {},
   "outputs": [],
   "source": [
    "internet_df_grouped = internet_df.groupby(['user_id', 'month'])['mb_used'].agg(['sum'])#.reset_index()"
   ]
  },
  {
   "cell_type": "code",
   "execution_count": 44,
   "metadata": {},
   "outputs": [
    {
     "data": {
      "text/html": [
       "<div>\n",
       "<style scoped>\n",
       "    .dataframe tbody tr th:only-of-type {\n",
       "        vertical-align: middle;\n",
       "    }\n",
       "\n",
       "    .dataframe tbody tr th {\n",
       "        vertical-align: top;\n",
       "    }\n",
       "\n",
       "    .dataframe thead th {\n",
       "        text-align: right;\n",
       "    }\n",
       "</style>\n",
       "<table border=\"1\" class=\"dataframe\">\n",
       "  <thead>\n",
       "    <tr style=\"text-align: right;\">\n",
       "      <th></th>\n",
       "      <th></th>\n",
       "      <th>sum</th>\n",
       "    </tr>\n",
       "    <tr>\n",
       "      <th>user_id</th>\n",
       "      <th>month</th>\n",
       "      <th></th>\n",
       "    </tr>\n",
       "  </thead>\n",
       "  <tbody>\n",
       "    <tr>\n",
       "      <th rowspan=\"5\" valign=\"top\">1000</th>\n",
       "      <th>5</th>\n",
       "      <td>2253.490</td>\n",
       "    </tr>\n",
       "    <tr>\n",
       "      <th>6</th>\n",
       "      <td>23233.770</td>\n",
       "    </tr>\n",
       "    <tr>\n",
       "      <th>7</th>\n",
       "      <td>14003.640</td>\n",
       "    </tr>\n",
       "    <tr>\n",
       "      <th>8</th>\n",
       "      <td>14055.930</td>\n",
       "    </tr>\n",
       "    <tr>\n",
       "      <th>9</th>\n",
       "      <td>14568.910</td>\n",
       "    </tr>\n",
       "  </tbody>\n",
       "</table>\n",
       "</div>"
      ],
      "text/plain": [
       "                    sum\n",
       "user_id month          \n",
       "1000    5      2253.490\n",
       "        6     23233.770\n",
       "        7     14003.640\n",
       "        8     14055.930\n",
       "        9     14568.910"
      ]
     },
     "execution_count": 44,
     "metadata": {},
     "output_type": "execute_result"
    }
   ],
   "source": [
    "internet_df_grouped.head()"
   ]
  },
  {
   "cell_type": "code",
   "execution_count": 45,
   "metadata": {},
   "outputs": [],
   "source": [
    "internet_df_grouped = internet_df_grouped.fillna(0).round(2)\n",
    "internet_df_grouped = internet_df_grouped.rename(columns={'sum':'mb_used_month'}).reset_index()"
   ]
  },
  {
   "cell_type": "code",
   "execution_count": 46,
   "metadata": {
    "scrolled": true
   },
   "outputs": [
    {
     "data": {
      "text/html": [
       "<div>\n",
       "<style scoped>\n",
       "    .dataframe tbody tr th:only-of-type {\n",
       "        vertical-align: middle;\n",
       "    }\n",
       "\n",
       "    .dataframe tbody tr th {\n",
       "        vertical-align: top;\n",
       "    }\n",
       "\n",
       "    .dataframe thead th {\n",
       "        text-align: right;\n",
       "    }\n",
       "</style>\n",
       "<table border=\"1\" class=\"dataframe\">\n",
       "  <thead>\n",
       "    <tr style=\"text-align: right;\">\n",
       "      <th></th>\n",
       "      <th>user_id</th>\n",
       "      <th>month</th>\n",
       "      <th>mb_used_month</th>\n",
       "    </tr>\n",
       "  </thead>\n",
       "  <tbody>\n",
       "    <tr>\n",
       "      <th>3193</th>\n",
       "      <td>1497</td>\n",
       "      <td>11</td>\n",
       "      <td>14156.080</td>\n",
       "    </tr>\n",
       "    <tr>\n",
       "      <th>3194</th>\n",
       "      <td>1497</td>\n",
       "      <td>12</td>\n",
       "      <td>19918.600</td>\n",
       "    </tr>\n",
       "    <tr>\n",
       "      <th>3195</th>\n",
       "      <td>1498</td>\n",
       "      <td>7</td>\n",
       "      <td>7476.240</td>\n",
       "    </tr>\n",
       "    <tr>\n",
       "      <th>3196</th>\n",
       "      <td>1498</td>\n",
       "      <td>8</td>\n",
       "      <td>24235.210</td>\n",
       "    </tr>\n",
       "    <tr>\n",
       "      <th>3197</th>\n",
       "      <td>1498</td>\n",
       "      <td>9</td>\n",
       "      <td>22134.410</td>\n",
       "    </tr>\n",
       "    <tr>\n",
       "      <th>3198</th>\n",
       "      <td>1498</td>\n",
       "      <td>10</td>\n",
       "      <td>20579.360</td>\n",
       "    </tr>\n",
       "    <tr>\n",
       "      <th>3199</th>\n",
       "      <td>1499</td>\n",
       "      <td>9</td>\n",
       "      <td>1845.750</td>\n",
       "    </tr>\n",
       "    <tr>\n",
       "      <th>3200</th>\n",
       "      <td>1499</td>\n",
       "      <td>10</td>\n",
       "      <td>17788.510</td>\n",
       "    </tr>\n",
       "    <tr>\n",
       "      <th>3201</th>\n",
       "      <td>1499</td>\n",
       "      <td>11</td>\n",
       "      <td>17963.310</td>\n",
       "    </tr>\n",
       "    <tr>\n",
       "      <th>3202</th>\n",
       "      <td>1499</td>\n",
       "      <td>12</td>\n",
       "      <td>13055.580</td>\n",
       "    </tr>\n",
       "  </tbody>\n",
       "</table>\n",
       "</div>"
      ],
      "text/plain": [
       "      user_id  month  mb_used_month\n",
       "3193     1497     11      14156.080\n",
       "3194     1497     12      19918.600\n",
       "3195     1498      7       7476.240\n",
       "3196     1498      8      24235.210\n",
       "3197     1498      9      22134.410\n",
       "3198     1498     10      20579.360\n",
       "3199     1499      9       1845.750\n",
       "3200     1499     10      17788.510\n",
       "3201     1499     11      17963.310\n",
       "3202     1499     12      13055.580"
      ]
     },
     "execution_count": 46,
     "metadata": {},
     "output_type": "execute_result"
    }
   ],
   "source": [
    "internet_df_grouped.tail(10)"
   ]
  },
  {
   "cell_type": "markdown",
   "metadata": {},
   "source": [
    "#### Переведем мегабайты в гигабайты"
   ]
  },
  {
   "cell_type": "code",
   "execution_count": 47,
   "metadata": {},
   "outputs": [],
   "source": [
    "internet_df_grouped['gb_used_month'] = internet_df_grouped['mb_used_month']/1024"
   ]
  },
  {
   "cell_type": "code",
   "execution_count": 48,
   "metadata": {},
   "outputs": [],
   "source": [
    "#округлим гигбайты в большую сторону\n",
    "internet_df_grouped['gb_used_month'] = np.ceil(internet_df_grouped['gb_used_month']).astype(int)"
   ]
  },
  {
   "cell_type": "code",
   "execution_count": 49,
   "metadata": {
    "scrolled": true
   },
   "outputs": [
    {
     "data": {
      "text/html": [
       "<div>\n",
       "<style scoped>\n",
       "    .dataframe tbody tr th:only-of-type {\n",
       "        vertical-align: middle;\n",
       "    }\n",
       "\n",
       "    .dataframe tbody tr th {\n",
       "        vertical-align: top;\n",
       "    }\n",
       "\n",
       "    .dataframe thead th {\n",
       "        text-align: right;\n",
       "    }\n",
       "</style>\n",
       "<table border=\"1\" class=\"dataframe\">\n",
       "  <thead>\n",
       "    <tr style=\"text-align: right;\">\n",
       "      <th></th>\n",
       "      <th>user_id</th>\n",
       "      <th>month</th>\n",
       "      <th>mb_used_month</th>\n",
       "      <th>gb_used_month</th>\n",
       "    </tr>\n",
       "  </thead>\n",
       "  <tbody>\n",
       "    <tr>\n",
       "      <th>0</th>\n",
       "      <td>1000</td>\n",
       "      <td>5</td>\n",
       "      <td>2253.490</td>\n",
       "      <td>3</td>\n",
       "    </tr>\n",
       "    <tr>\n",
       "      <th>1</th>\n",
       "      <td>1000</td>\n",
       "      <td>6</td>\n",
       "      <td>23233.770</td>\n",
       "      <td>23</td>\n",
       "    </tr>\n",
       "    <tr>\n",
       "      <th>2</th>\n",
       "      <td>1000</td>\n",
       "      <td>7</td>\n",
       "      <td>14003.640</td>\n",
       "      <td>14</td>\n",
       "    </tr>\n",
       "    <tr>\n",
       "      <th>3</th>\n",
       "      <td>1000</td>\n",
       "      <td>8</td>\n",
       "      <td>14055.930</td>\n",
       "      <td>14</td>\n",
       "    </tr>\n",
       "    <tr>\n",
       "      <th>4</th>\n",
       "      <td>1000</td>\n",
       "      <td>9</td>\n",
       "      <td>14568.910</td>\n",
       "      <td>15</td>\n",
       "    </tr>\n",
       "  </tbody>\n",
       "</table>\n",
       "</div>"
      ],
      "text/plain": [
       "   user_id  month  mb_used_month  gb_used_month\n",
       "0     1000      5       2253.490              3\n",
       "1     1000      6      23233.770             23\n",
       "2     1000      7      14003.640             14\n",
       "3     1000      8      14055.930             14\n",
       "4     1000      9      14568.910             15"
      ]
     },
     "execution_count": 49,
     "metadata": {},
     "output_type": "execute_result"
    }
   ],
   "source": [
    "internet_df_grouped.head()"
   ]
  },
  {
   "cell_type": "markdown",
   "metadata": {},
   "source": [
    "#### Гистограмма internet (GB)"
   ]
  },
  {
   "cell_type": "code",
   "execution_count": 50,
   "metadata": {
    "scrolled": false
   },
   "outputs": [
    {
     "name": "stdout",
     "output_type": "stream",
     "text": [
      "count   3203.000\n",
      "mean      17.358\n",
      "std        7.343\n",
      "min        0.000\n",
      "25%       13.000\n",
      "50%       17.000\n",
      "75%       21.000\n",
      "max       49.000\n",
      "Name: gb_used_month, dtype: float64\n"
     ]
    },
    {
     "data": {
      "image/png": "[encoded data removed]",
      "text/plain": [
       "<Figure size 720x360 with 1 Axes>"
      ]
     },
     "metadata": {
      "needs_background": "light"
     },
     "output_type": "display_data"
    }
   ],
   "source": [
    "print(internet_df_grouped['gb_used_month'].describe())\n",
    "plt.figure(figsize=(10,5))\n",
    "plt.hist(internet_df_grouped['gb_used_month'], bins=30, color='dodgerblue', edgecolor='yellow', alpha=0.5)\n",
    "plt.title(\"Гистограмма internet\")\n",
    "plt.xlabel(\"Количество gb в месяц\")\n",
    "plt.ylabel(\"Число пользователей\")\n",
    "plt.axvline(internet_df_grouped['gb_used_month'].describe()['mean'], color='r', label='среднее значение: {:.2f}'.format(internet_df_grouped['gb_used_month'].describe()['mean']))\n",
    "plt.axvline(internet_df_grouped['gb_used_month'].describe()['50%'], color='b', linestyle='dashed', label='медианное значение: {:.0f}'.format(internet_df_grouped['gb_used_month'].describe()['50%']))\n",
    "plt.legend()\n",
    "plt.show()"
   ]
  },
  {
   "cell_type": "markdown",
   "metadata": {},
   "source": [
    "#### Вывод\n",
    "   - Медианное значение практически равно среднему, значит значения в гистограмме распределны нормально.\n",
    "   - Есть пользователи, которые не пользователись интернетом. Максимальное значение по использованным гигабайтам - 49, это больше, чем предлагается в любом из двух пакетов.  "
   ]
  },
  {
   "cell_type": "markdown",
   "metadata": {},
   "source": [
    "### Расчет помесячной выручки с каждого пользователя"
   ]
  },
  {
   "cell_type": "markdown",
   "metadata": {},
   "source": [
    "#### Объединим полученные данные в одну таблицу"
   ]
  },
  {
   "cell_type": "code",
   "execution_count": 51,
   "metadata": {
    "scrolled": false
   },
   "outputs": [
    {
     "data": {
      "text/html": [
       "<div>\n",
       "<style scoped>\n",
       "    .dataframe tbody tr th:only-of-type {\n",
       "        vertical-align: middle;\n",
       "    }\n",
       "\n",
       "    .dataframe tbody tr th {\n",
       "        vertical-align: top;\n",
       "    }\n",
       "\n",
       "    .dataframe thead th {\n",
       "        text-align: right;\n",
       "    }\n",
       "</style>\n",
       "<table border=\"1\" class=\"dataframe\">\n",
       "  <thead>\n",
       "    <tr style=\"text-align: right;\">\n",
       "      <th></th>\n",
       "      <th>user_id</th>\n",
       "      <th>month</th>\n",
       "      <th>number_of_calls</th>\n",
       "      <th>duration_per_month</th>\n",
       "      <th>total_messages</th>\n",
       "      <th>gb_used_month</th>\n",
       "      <th>age</th>\n",
       "      <th>churn_date</th>\n",
       "      <th>city</th>\n",
       "      <th>first_name</th>\n",
       "      <th>last_name</th>\n",
       "      <th>reg_date</th>\n",
       "      <th>tariff</th>\n",
       "      <th>month_start</th>\n",
       "      <th>month_end</th>\n",
       "    </tr>\n",
       "  </thead>\n",
       "  <tbody>\n",
       "    <tr>\n",
       "      <th>0</th>\n",
       "      <td>1000</td>\n",
       "      <td>5.000</td>\n",
       "      <td>22.000</td>\n",
       "      <td>159.000</td>\n",
       "      <td>22.000</td>\n",
       "      <td>3.000</td>\n",
       "      <td>52</td>\n",
       "      <td>NaT</td>\n",
       "      <td>Краснодар</td>\n",
       "      <td>Рафаил</td>\n",
       "      <td>Верещагин</td>\n",
       "      <td>2018-05-25</td>\n",
       "      <td>ultra</td>\n",
       "      <td>5</td>\n",
       "      <td>NaN</td>\n",
       "    </tr>\n",
       "    <tr>\n",
       "      <th>1</th>\n",
       "      <td>1000</td>\n",
       "      <td>6.000</td>\n",
       "      <td>43.000</td>\n",
       "      <td>172.000</td>\n",
       "      <td>60.000</td>\n",
       "      <td>23.000</td>\n",
       "      <td>52</td>\n",
       "      <td>NaT</td>\n",
       "      <td>Краснодар</td>\n",
       "      <td>Рафаил</td>\n",
       "      <td>Верещагин</td>\n",
       "      <td>2018-05-25</td>\n",
       "      <td>ultra</td>\n",
       "      <td>5</td>\n",
       "      <td>NaN</td>\n",
       "    </tr>\n",
       "    <tr>\n",
       "      <th>2</th>\n",
       "      <td>1000</td>\n",
       "      <td>7.000</td>\n",
       "      <td>47.000</td>\n",
       "      <td>340.000</td>\n",
       "      <td>75.000</td>\n",
       "      <td>14.000</td>\n",
       "      <td>52</td>\n",
       "      <td>NaT</td>\n",
       "      <td>Краснодар</td>\n",
       "      <td>Рафаил</td>\n",
       "      <td>Верещагин</td>\n",
       "      <td>2018-05-25</td>\n",
       "      <td>ultra</td>\n",
       "      <td>5</td>\n",
       "      <td>NaN</td>\n",
       "    </tr>\n",
       "    <tr>\n",
       "      <th>3</th>\n",
       "      <td>1000</td>\n",
       "      <td>8.000</td>\n",
       "      <td>52.000</td>\n",
       "      <td>408.000</td>\n",
       "      <td>81.000</td>\n",
       "      <td>14.000</td>\n",
       "      <td>52</td>\n",
       "      <td>NaT</td>\n",
       "      <td>Краснодар</td>\n",
       "      <td>Рафаил</td>\n",
       "      <td>Верещагин</td>\n",
       "      <td>2018-05-25</td>\n",
       "      <td>ultra</td>\n",
       "      <td>5</td>\n",
       "      <td>NaN</td>\n",
       "    </tr>\n",
       "    <tr>\n",
       "      <th>4</th>\n",
       "      <td>1000</td>\n",
       "      <td>9.000</td>\n",
       "      <td>58.000</td>\n",
       "      <td>466.000</td>\n",
       "      <td>57.000</td>\n",
       "      <td>15.000</td>\n",
       "      <td>52</td>\n",
       "      <td>NaT</td>\n",
       "      <td>Краснодар</td>\n",
       "      <td>Рафаил</td>\n",
       "      <td>Верещагин</td>\n",
       "      <td>2018-05-25</td>\n",
       "      <td>ultra</td>\n",
       "      <td>5</td>\n",
       "      <td>NaN</td>\n",
       "    </tr>\n",
       "    <tr>\n",
       "      <th>...</th>\n",
       "      <td>...</td>\n",
       "      <td>...</td>\n",
       "      <td>...</td>\n",
       "      <td>...</td>\n",
       "      <td>...</td>\n",
       "      <td>...</td>\n",
       "      <td>...</td>\n",
       "      <td>...</td>\n",
       "      <td>...</td>\n",
       "      <td>...</td>\n",
       "      <td>...</td>\n",
       "      <td>...</td>\n",
       "      <td>...</td>\n",
       "      <td>...</td>\n",
       "      <td>...</td>\n",
       "    </tr>\n",
       "    <tr>\n",
       "      <th>3211</th>\n",
       "      <td>1328</td>\n",
       "      <td>11.000</td>\n",
       "      <td>NaN</td>\n",
       "      <td>NaN</td>\n",
       "      <td>8.000</td>\n",
       "      <td>35.000</td>\n",
       "      <td>44</td>\n",
       "      <td>NaT</td>\n",
       "      <td>Мурманск</td>\n",
       "      <td>Рауль</td>\n",
       "      <td>Аркадьев</td>\n",
       "      <td>2018-10-16</td>\n",
       "      <td>ultra</td>\n",
       "      <td>10</td>\n",
       "      <td>NaN</td>\n",
       "    </tr>\n",
       "    <tr>\n",
       "      <th>3212</th>\n",
       "      <td>1328</td>\n",
       "      <td>12.000</td>\n",
       "      <td>NaN</td>\n",
       "      <td>NaN</td>\n",
       "      <td>7.000</td>\n",
       "      <td>39.000</td>\n",
       "      <td>44</td>\n",
       "      <td>NaT</td>\n",
       "      <td>Мурманск</td>\n",
       "      <td>Рауль</td>\n",
       "      <td>Аркадьев</td>\n",
       "      <td>2018-10-16</td>\n",
       "      <td>ultra</td>\n",
       "      <td>10</td>\n",
       "      <td>NaN</td>\n",
       "    </tr>\n",
       "    <tr>\n",
       "      <th>3213</th>\n",
       "      <td>1328</td>\n",
       "      <td>10.000</td>\n",
       "      <td>NaN</td>\n",
       "      <td>NaN</td>\n",
       "      <td>6.000</td>\n",
       "      <td>22.000</td>\n",
       "      <td>44</td>\n",
       "      <td>NaT</td>\n",
       "      <td>Мурманск</td>\n",
       "      <td>Рауль</td>\n",
       "      <td>Аркадьев</td>\n",
       "      <td>2018-10-16</td>\n",
       "      <td>ultra</td>\n",
       "      <td>10</td>\n",
       "      <td>NaN</td>\n",
       "    </tr>\n",
       "    <tr>\n",
       "      <th>3214</th>\n",
       "      <td>1128</td>\n",
       "      <td>NaN</td>\n",
       "      <td>NaN</td>\n",
       "      <td>NaN</td>\n",
       "      <td>NaN</td>\n",
       "      <td>NaN</td>\n",
       "      <td>51</td>\n",
       "      <td>2018-12-23</td>\n",
       "      <td>Волжский</td>\n",
       "      <td>Ксения</td>\n",
       "      <td>Агаева</td>\n",
       "      <td>2018-12-15</td>\n",
       "      <td>ultra</td>\n",
       "      <td>12</td>\n",
       "      <td>12.000</td>\n",
       "    </tr>\n",
       "    <tr>\n",
       "      <th>3215</th>\n",
       "      <td>1371</td>\n",
       "      <td>NaN</td>\n",
       "      <td>NaN</td>\n",
       "      <td>NaN</td>\n",
       "      <td>NaN</td>\n",
       "      <td>NaN</td>\n",
       "      <td>50</td>\n",
       "      <td>2018-12-30</td>\n",
       "      <td>Омск</td>\n",
       "      <td>Ириней</td>\n",
       "      <td>Трофимов</td>\n",
       "      <td>2018-12-25</td>\n",
       "      <td>smart</td>\n",
       "      <td>12</td>\n",
       "      <td>12.000</td>\n",
       "    </tr>\n",
       "  </tbody>\n",
       "</table>\n",
       "<p>3216 rows × 15 columns</p>\n",
       "</div>"
      ],
      "text/plain": [
       "      user_id  month  number_of_calls  duration_per_month  total_messages  \\\n",
       "0        1000  5.000           22.000             159.000          22.000   \n",
       "1        1000  6.000           43.000             172.000          60.000   \n",
       "2        1000  7.000           47.000             340.000          75.000   \n",
       "3        1000  8.000           52.000             408.000          81.000   \n",
       "4        1000  9.000           58.000             466.000          57.000   \n",
       "...       ...    ...              ...                 ...             ...   \n",
       "3211     1328 11.000              NaN                 NaN           8.000   \n",
       "3212     1328 12.000              NaN                 NaN           7.000   \n",
       "3213     1328 10.000              NaN                 NaN           6.000   \n",
       "3214     1128    NaN              NaN                 NaN             NaN   \n",
       "3215     1371    NaN              NaN                 NaN             NaN   \n",
       "\n",
       "      gb_used_month  age churn_date       city first_name  last_name  \\\n",
       "0             3.000   52        NaT  Краснодар     Рафаил  Верещагин   \n",
       "1            23.000   52        NaT  Краснодар     Рафаил  Верещагин   \n",
       "2            14.000   52        NaT  Краснодар     Рафаил  Верещагин   \n",
       "3            14.000   52        NaT  Краснодар     Рафаил  Верещагин   \n",
       "4            15.000   52        NaT  Краснодар     Рафаил  Верещагин   \n",
       "...             ...  ...        ...        ...        ...        ...   \n",
       "3211         35.000   44        NaT   Мурманск      Рауль   Аркадьев   \n",
       "3212         39.000   44        NaT   Мурманск      Рауль   Аркадьев   \n",
       "3213         22.000   44        NaT   Мурманск      Рауль   Аркадьев   \n",
       "3214            NaN   51 2018-12-23   Волжский     Ксения     Агаева   \n",
       "3215            NaN   50 2018-12-30       Омск     Ириней   Трофимов   \n",
       "\n",
       "       reg_date tariff  month_start  month_end  \n",
       "0    2018-05-25  ultra            5        NaN  \n",
       "1    2018-05-25  ultra            5        NaN  \n",
       "2    2018-05-25  ultra            5        NaN  \n",
       "3    2018-05-25  ultra            5        NaN  \n",
       "4    2018-05-25  ultra            5        NaN  \n",
       "...         ...    ...          ...        ...  \n",
       "3211 2018-10-16  ultra           10        NaN  \n",
       "3212 2018-10-16  ultra           10        NaN  \n",
       "3213 2018-10-16  ultra           10        NaN  \n",
       "3214 2018-12-15  ultra           12     12.000  \n",
       "3215 2018-12-25  smart           12     12.000  \n",
       "\n",
       "[3216 rows x 15 columns]"
      ]
     },
     "execution_count": 51,
     "metadata": {},
     "output_type": "execute_result"
    }
   ],
   "source": [
    "tariff_analysis = calls_df_grouped.merge(\n",
    "    message_grouped, how='outer',on = ['user_id','month'])\n",
    "\n",
    "tariff_analysis = tariff_analysis.merge(\n",
    "    internet_df_grouped, how='outer', on=['user_id','month'])\n",
    "\n",
    "tariff_analysis = tariff_analysis.merge(\n",
    "    users_df, how='outer', on=['user_id'])\n",
    "\n",
    "tariff_analysis = tariff_analysis.drop(\n",
    "    columns='mb_used_month',axis=1)\n",
    "\n",
    "tariff_analysis"
   ]
  },
  {
   "cell_type": "markdown",
   "metadata": {},
   "source": [
    "#### Заполним пропуски"
   ]
  },
  {
   "cell_type": "code",
   "execution_count": 52,
   "metadata": {},
   "outputs": [
    {
     "data": {
      "text/plain": [
       "user_id                  0\n",
       "month                    2\n",
       "number_of_calls         42\n",
       "duration_per_month      42\n",
       "total_messages         499\n",
       "gb_used_month           13\n",
       "age                      0\n",
       "churn_date            3027\n",
       "city                     0\n",
       "first_name               0\n",
       "last_name                0\n",
       "reg_date                 0\n",
       "tariff                   0\n",
       "month_start              0\n",
       "month_end             3027\n",
       "dtype: int64"
      ]
     },
     "execution_count": 52,
     "metadata": {},
     "output_type": "execute_result"
    }
   ],
   "source": [
    "tariff_analysis.isna().sum()"
   ]
  },
  {
   "cell_type": "code",
   "execution_count": 53,
   "metadata": {},
   "outputs": [],
   "source": [
    "tariff_analysis['number_of_calls']=tariff_analysis['number_of_calls'].fillna(0)\n",
    "tariff_analysis['duration_per_month']=tariff_analysis['duration_per_month'].fillna(0)\n",
    "tariff_analysis['total_messages']=tariff_analysis['total_messages'].fillna(0)\n",
    "tariff_analysis['gb_used_month']=tariff_analysis['gb_used_month'].fillna(0)"
   ]
  },
  {
   "cell_type": "code",
   "execution_count": 54,
   "metadata": {},
   "outputs": [
    {
     "data": {
      "text/plain": [
       "user_id                  0\n",
       "month                    2\n",
       "number_of_calls          0\n",
       "duration_per_month       0\n",
       "total_messages           0\n",
       "gb_used_month            0\n",
       "age                      0\n",
       "churn_date            3027\n",
       "city                     0\n",
       "first_name               0\n",
       "last_name                0\n",
       "reg_date                 0\n",
       "tariff                   0\n",
       "month_start              0\n",
       "month_end             3027\n",
       "dtype: int64"
      ]
     },
     "execution_count": 54,
     "metadata": {},
     "output_type": "execute_result"
    }
   ],
   "source": [
    "tariff_analysis.isna().sum()"
   ]
  },
  {
   "cell_type": "markdown",
   "metadata": {},
   "source": [
    "#### Выручка в месяц по каждому пользователю"
   ]
  },
  {
   "cell_type": "markdown",
   "metadata": {},
   "source": [
    "Найдём помесячную выручку с каждого пользователявычтите, для этого бесплатный лимит из суммарного количества звонков, сообщений и интернет-трафика; остаток умножим на значение из тарифного плана; прибавим абонентскую плату, соответствующую тарифному плану"
   ]
  },
  {
   "cell_type": "code",
   "execution_count": 55,
   "metadata": {},
   "outputs": [],
   "source": [
    "#функция для подсчета выручки\n",
    "\n",
    "\n",
    "\n",
    "def tariff_profit (row):\n",
    "    smart = 550\n",
    "    ultra = 1950\n",
    "    if row['tariff'] == 'ultra':\n",
    "        if row['duration_per_month'] > 3000:\n",
    "            row['duration_per_month'] = (row['duration_per_month']-3000) * 1\n",
    "        else:\n",
    "            row['duration_per_month'] = 0\n",
    "            \n",
    "        if row['total_messages'] > 1000:\n",
    "            row['total_messages'] = (row['total_messages']-1000) * 1\n",
    "        else:\n",
    "            row['total_messages'] = 0\n",
    "            \n",
    "        if row['gb_used_month'] > 30:\n",
    "            row['gb_used_month'] = (row['gb_used_month']-30) * 150\n",
    "        else:\n",
    "            row['gb_used_month'] = 0\n",
    "        if row['month_start'] == row['month_end']:\n",
    "            ultra = 0\n",
    "        return ultra + row['duration_per_month'] + row['total_messages'] + row['gb_used_month']\n",
    "       \n",
    "    \n",
    "    if row['tariff'] == 'smart':\n",
    "        if row['duration_per_month'] > 500:\n",
    "            row['duration_per_month'] = (row['duration_per_month']-500) * 3\n",
    "        else:\n",
    "            row['duration_per_month'] = 0\n",
    "            \n",
    "        if row['total_messages'] > 50:\n",
    "            row['total_messages'] = (row['total_messages']-50) * 3\n",
    "        else:\n",
    "            row['total_messages'] = 0\n",
    "            \n",
    "        if row['gb_used_month'] > 15:\n",
    "            row['gb_used_month'] = (row['gb_used_month']-15) * 200\n",
    "        else:\n",
    "            row['gb_used_month'] = 0\n",
    "            \n",
    "        if row['month_start'] == row['month_end']:\n",
    "            smart = 0\n",
    "        return smart + row['duration_per_month'] + row['total_messages'] + row['gb_used_month']"
   ]
  },
  {
   "cell_type": "code",
   "execution_count": 56,
   "metadata": {
    "scrolled": false
   },
   "outputs": [
    {
     "data": {
      "text/html": [
       "<div>\n",
       "<style scoped>\n",
       "    .dataframe tbody tr th:only-of-type {\n",
       "        vertical-align: middle;\n",
       "    }\n",
       "\n",
       "    .dataframe tbody tr th {\n",
       "        vertical-align: top;\n",
       "    }\n",
       "\n",
       "    .dataframe thead th {\n",
       "        text-align: right;\n",
       "    }\n",
       "</style>\n",
       "<table border=\"1\" class=\"dataframe\">\n",
       "  <thead>\n",
       "    <tr style=\"text-align: right;\">\n",
       "      <th></th>\n",
       "      <th>user_id</th>\n",
       "      <th>month</th>\n",
       "      <th>number_of_calls</th>\n",
       "      <th>duration_per_month</th>\n",
       "      <th>total_messages</th>\n",
       "      <th>gb_used_month</th>\n",
       "      <th>age</th>\n",
       "      <th>churn_date</th>\n",
       "      <th>city</th>\n",
       "      <th>first_name</th>\n",
       "      <th>last_name</th>\n",
       "      <th>reg_date</th>\n",
       "      <th>tariff</th>\n",
       "      <th>month_start</th>\n",
       "      <th>month_end</th>\n",
       "      <th>tariff_profit</th>\n",
       "    </tr>\n",
       "  </thead>\n",
       "  <tbody>\n",
       "    <tr>\n",
       "      <th>0</th>\n",
       "      <td>1000</td>\n",
       "      <td>5.000</td>\n",
       "      <td>22.000</td>\n",
       "      <td>159.000</td>\n",
       "      <td>22.000</td>\n",
       "      <td>3.000</td>\n",
       "      <td>52</td>\n",
       "      <td>NaT</td>\n",
       "      <td>Краснодар</td>\n",
       "      <td>Рафаил</td>\n",
       "      <td>Верещагин</td>\n",
       "      <td>2018-05-25</td>\n",
       "      <td>ultra</td>\n",
       "      <td>5</td>\n",
       "      <td>NaN</td>\n",
       "      <td>1950.000</td>\n",
       "    </tr>\n",
       "    <tr>\n",
       "      <th>1</th>\n",
       "      <td>1000</td>\n",
       "      <td>6.000</td>\n",
       "      <td>43.000</td>\n",
       "      <td>172.000</td>\n",
       "      <td>60.000</td>\n",
       "      <td>23.000</td>\n",
       "      <td>52</td>\n",
       "      <td>NaT</td>\n",
       "      <td>Краснодар</td>\n",
       "      <td>Рафаил</td>\n",
       "      <td>Верещагин</td>\n",
       "      <td>2018-05-25</td>\n",
       "      <td>ultra</td>\n",
       "      <td>5</td>\n",
       "      <td>NaN</td>\n",
       "      <td>1950.000</td>\n",
       "    </tr>\n",
       "    <tr>\n",
       "      <th>2</th>\n",
       "      <td>1000</td>\n",
       "      <td>7.000</td>\n",
       "      <td>47.000</td>\n",
       "      <td>340.000</td>\n",
       "      <td>75.000</td>\n",
       "      <td>14.000</td>\n",
       "      <td>52</td>\n",
       "      <td>NaT</td>\n",
       "      <td>Краснодар</td>\n",
       "      <td>Рафаил</td>\n",
       "      <td>Верещагин</td>\n",
       "      <td>2018-05-25</td>\n",
       "      <td>ultra</td>\n",
       "      <td>5</td>\n",
       "      <td>NaN</td>\n",
       "      <td>1950.000</td>\n",
       "    </tr>\n",
       "    <tr>\n",
       "      <th>3</th>\n",
       "      <td>1000</td>\n",
       "      <td>8.000</td>\n",
       "      <td>52.000</td>\n",
       "      <td>408.000</td>\n",
       "      <td>81.000</td>\n",
       "      <td>14.000</td>\n",
       "      <td>52</td>\n",
       "      <td>NaT</td>\n",
       "      <td>Краснодар</td>\n",
       "      <td>Рафаил</td>\n",
       "      <td>Верещагин</td>\n",
       "      <td>2018-05-25</td>\n",
       "      <td>ultra</td>\n",
       "      <td>5</td>\n",
       "      <td>NaN</td>\n",
       "      <td>1950.000</td>\n",
       "    </tr>\n",
       "    <tr>\n",
       "      <th>4</th>\n",
       "      <td>1000</td>\n",
       "      <td>9.000</td>\n",
       "      <td>58.000</td>\n",
       "      <td>466.000</td>\n",
       "      <td>57.000</td>\n",
       "      <td>15.000</td>\n",
       "      <td>52</td>\n",
       "      <td>NaT</td>\n",
       "      <td>Краснодар</td>\n",
       "      <td>Рафаил</td>\n",
       "      <td>Верещагин</td>\n",
       "      <td>2018-05-25</td>\n",
       "      <td>ultra</td>\n",
       "      <td>5</td>\n",
       "      <td>NaN</td>\n",
       "      <td>1950.000</td>\n",
       "    </tr>\n",
       "  </tbody>\n",
       "</table>\n",
       "</div>"
      ],
      "text/plain": [
       "   user_id  month  number_of_calls  duration_per_month  total_messages  \\\n",
       "0     1000  5.000           22.000             159.000          22.000   \n",
       "1     1000  6.000           43.000             172.000          60.000   \n",
       "2     1000  7.000           47.000             340.000          75.000   \n",
       "3     1000  8.000           52.000             408.000          81.000   \n",
       "4     1000  9.000           58.000             466.000          57.000   \n",
       "\n",
       "   gb_used_month  age churn_date       city first_name  last_name   reg_date  \\\n",
       "0          3.000   52        NaT  Краснодар     Рафаил  Верещагин 2018-05-25   \n",
       "1         23.000   52        NaT  Краснодар     Рафаил  Верещагин 2018-05-25   \n",
       "2         14.000   52        NaT  Краснодар     Рафаил  Верещагин 2018-05-25   \n",
       "3         14.000   52        NaT  Краснодар     Рафаил  Верещагин 2018-05-25   \n",
       "4         15.000   52        NaT  Краснодар     Рафаил  Верещагин 2018-05-25   \n",
       "\n",
       "  tariff  month_start  month_end  tariff_profit  \n",
       "0  ultra            5        NaN       1950.000  \n",
       "1  ultra            5        NaN       1950.000  \n",
       "2  ultra            5        NaN       1950.000  \n",
       "3  ultra            5        NaN       1950.000  \n",
       "4  ultra            5        NaN       1950.000  "
      ]
     },
     "execution_count": 56,
     "metadata": {},
     "output_type": "execute_result"
    }
   ],
   "source": [
    "tariff_analysis['tariff_profit'] = tariff_analysis.apply(tariff_profit,axis=1)\n",
    "tariff_analysis.head()"
   ]
  },
  {
   "cell_type": "code",
   "execution_count": 57,
   "metadata": {},
   "outputs": [
    {
     "data": {
      "text/html": [
       "<div>\n",
       "<style scoped>\n",
       "    .dataframe tbody tr th:only-of-type {\n",
       "        vertical-align: middle;\n",
       "    }\n",
       "\n",
       "    .dataframe tbody tr th {\n",
       "        vertical-align: top;\n",
       "    }\n",
       "\n",
       "    .dataframe thead th {\n",
       "        text-align: right;\n",
       "    }\n",
       "</style>\n",
       "<table border=\"1\" class=\"dataframe\">\n",
       "  <thead>\n",
       "    <tr style=\"text-align: right;\">\n",
       "      <th></th>\n",
       "      <th>user_id</th>\n",
       "      <th>month</th>\n",
       "      <th>number_of_calls</th>\n",
       "      <th>duration_per_month</th>\n",
       "      <th>total_messages</th>\n",
       "      <th>gb_used_month</th>\n",
       "      <th>age</th>\n",
       "      <th>churn_date</th>\n",
       "      <th>city</th>\n",
       "      <th>first_name</th>\n",
       "      <th>last_name</th>\n",
       "      <th>reg_date</th>\n",
       "      <th>tariff</th>\n",
       "      <th>month_start</th>\n",
       "      <th>month_end</th>\n",
       "      <th>tariff_profit</th>\n",
       "    </tr>\n",
       "  </thead>\n",
       "  <tbody>\n",
       "    <tr>\n",
       "      <th>159</th>\n",
       "      <td>1024</td>\n",
       "      <td>11.000</td>\n",
       "      <td>157.000</td>\n",
       "      <td>1146.000</td>\n",
       "      <td>0.000</td>\n",
       "      <td>43.000</td>\n",
       "      <td>73</td>\n",
       "      <td>NaT</td>\n",
       "      <td>Санкт-Петербург</td>\n",
       "      <td>Иулиан</td>\n",
       "      <td>Антипов</td>\n",
       "      <td>2018-10-31</td>\n",
       "      <td>ultra</td>\n",
       "      <td>10</td>\n",
       "      <td>NaN</td>\n",
       "      <td>3900.000</td>\n",
       "    </tr>\n",
       "    <tr>\n",
       "      <th>160</th>\n",
       "      <td>1024</td>\n",
       "      <td>12.000</td>\n",
       "      <td>136.000</td>\n",
       "      <td>949.000</td>\n",
       "      <td>0.000</td>\n",
       "      <td>36.000</td>\n",
       "      <td>73</td>\n",
       "      <td>NaT</td>\n",
       "      <td>Санкт-Петербург</td>\n",
       "      <td>Иулиан</td>\n",
       "      <td>Антипов</td>\n",
       "      <td>2018-10-31</td>\n",
       "      <td>ultra</td>\n",
       "      <td>10</td>\n",
       "      <td>NaN</td>\n",
       "      <td>2850.000</td>\n",
       "    </tr>\n",
       "    <tr>\n",
       "      <th>260</th>\n",
       "      <td>1042</td>\n",
       "      <td>12.000</td>\n",
       "      <td>121.000</td>\n",
       "      <td>728.000</td>\n",
       "      <td>75.000</td>\n",
       "      <td>37.000</td>\n",
       "      <td>42</td>\n",
       "      <td>NaT</td>\n",
       "      <td>Хабаровск</td>\n",
       "      <td>Константин</td>\n",
       "      <td>Добрынин</td>\n",
       "      <td>2018-11-25</td>\n",
       "      <td>smart</td>\n",
       "      <td>11</td>\n",
       "      <td>NaN</td>\n",
       "      <td>5709.000</td>\n",
       "    </tr>\n",
       "    <tr>\n",
       "      <th>311</th>\n",
       "      <td>1050</td>\n",
       "      <td>7.000</td>\n",
       "      <td>35.000</td>\n",
       "      <td>209.000</td>\n",
       "      <td>52.000</td>\n",
       "      <td>35.000</td>\n",
       "      <td>44</td>\n",
       "      <td>2018-10-03</td>\n",
       "      <td>Тюмень</td>\n",
       "      <td>Рузана</td>\n",
       "      <td>Аничкина</td>\n",
       "      <td>2018-06-16</td>\n",
       "      <td>ultra</td>\n",
       "      <td>6</td>\n",
       "      <td>10.000</td>\n",
       "      <td>2700.000</td>\n",
       "    </tr>\n",
       "    <tr>\n",
       "      <th>382</th>\n",
       "      <td>1060</td>\n",
       "      <td>12.000</td>\n",
       "      <td>184.000</td>\n",
       "      <td>1233.000</td>\n",
       "      <td>52.000</td>\n",
       "      <td>43.000</td>\n",
       "      <td>46</td>\n",
       "      <td>NaT</td>\n",
       "      <td>Калуга</td>\n",
       "      <td>Яков</td>\n",
       "      <td>Рудаков</td>\n",
       "      <td>2018-11-24</td>\n",
       "      <td>ultra</td>\n",
       "      <td>11</td>\n",
       "      <td>NaN</td>\n",
       "      <td>3900.000</td>\n",
       "    </tr>\n",
       "    <tr>\n",
       "      <th>...</th>\n",
       "      <td>...</td>\n",
       "      <td>...</td>\n",
       "      <td>...</td>\n",
       "      <td>...</td>\n",
       "      <td>...</td>\n",
       "      <td>...</td>\n",
       "      <td>...</td>\n",
       "      <td>...</td>\n",
       "      <td>...</td>\n",
       "      <td>...</td>\n",
       "      <td>...</td>\n",
       "      <td>...</td>\n",
       "      <td>...</td>\n",
       "      <td>...</td>\n",
       "      <td>...</td>\n",
       "      <td>...</td>\n",
       "    </tr>\n",
       "    <tr>\n",
       "      <th>3179</th>\n",
       "      <td>1231</td>\n",
       "      <td>9.000</td>\n",
       "      <td>0.000</td>\n",
       "      <td>0.000</td>\n",
       "      <td>188.000</td>\n",
       "      <td>33.000</td>\n",
       "      <td>63</td>\n",
       "      <td>NaT</td>\n",
       "      <td>Чебоксары</td>\n",
       "      <td>Касьян</td>\n",
       "      <td>Авдюков</td>\n",
       "      <td>2018-05-23</td>\n",
       "      <td>ultra</td>\n",
       "      <td>5</td>\n",
       "      <td>NaN</td>\n",
       "      <td>2400.000</td>\n",
       "    </tr>\n",
       "    <tr>\n",
       "      <th>3180</th>\n",
       "      <td>1231</td>\n",
       "      <td>10.000</td>\n",
       "      <td>0.000</td>\n",
       "      <td>0.000</td>\n",
       "      <td>185.000</td>\n",
       "      <td>31.000</td>\n",
       "      <td>63</td>\n",
       "      <td>NaT</td>\n",
       "      <td>Чебоксары</td>\n",
       "      <td>Касьян</td>\n",
       "      <td>Авдюков</td>\n",
       "      <td>2018-05-23</td>\n",
       "      <td>ultra</td>\n",
       "      <td>5</td>\n",
       "      <td>NaN</td>\n",
       "      <td>2100.000</td>\n",
       "    </tr>\n",
       "    <tr>\n",
       "      <th>3181</th>\n",
       "      <td>1231</td>\n",
       "      <td>8.000</td>\n",
       "      <td>0.000</td>\n",
       "      <td>0.000</td>\n",
       "      <td>180.000</td>\n",
       "      <td>32.000</td>\n",
       "      <td>63</td>\n",
       "      <td>NaT</td>\n",
       "      <td>Чебоксары</td>\n",
       "      <td>Касьян</td>\n",
       "      <td>Авдюков</td>\n",
       "      <td>2018-05-23</td>\n",
       "      <td>ultra</td>\n",
       "      <td>5</td>\n",
       "      <td>NaN</td>\n",
       "      <td>2250.000</td>\n",
       "    </tr>\n",
       "    <tr>\n",
       "      <th>3211</th>\n",
       "      <td>1328</td>\n",
       "      <td>11.000</td>\n",
       "      <td>0.000</td>\n",
       "      <td>0.000</td>\n",
       "      <td>8.000</td>\n",
       "      <td>35.000</td>\n",
       "      <td>44</td>\n",
       "      <td>NaT</td>\n",
       "      <td>Мурманск</td>\n",
       "      <td>Рауль</td>\n",
       "      <td>Аркадьев</td>\n",
       "      <td>2018-10-16</td>\n",
       "      <td>ultra</td>\n",
       "      <td>10</td>\n",
       "      <td>NaN</td>\n",
       "      <td>2700.000</td>\n",
       "    </tr>\n",
       "    <tr>\n",
       "      <th>3212</th>\n",
       "      <td>1328</td>\n",
       "      <td>12.000</td>\n",
       "      <td>0.000</td>\n",
       "      <td>0.000</td>\n",
       "      <td>7.000</td>\n",
       "      <td>39.000</td>\n",
       "      <td>44</td>\n",
       "      <td>NaT</td>\n",
       "      <td>Мурманск</td>\n",
       "      <td>Рауль</td>\n",
       "      <td>Аркадьев</td>\n",
       "      <td>2018-10-16</td>\n",
       "      <td>ultra</td>\n",
       "      <td>10</td>\n",
       "      <td>NaN</td>\n",
       "      <td>3300.000</td>\n",
       "    </tr>\n",
       "  </tbody>\n",
       "</table>\n",
       "<p>152 rows × 16 columns</p>\n",
       "</div>"
      ],
      "text/plain": [
       "      user_id  month  number_of_calls  duration_per_month  total_messages  \\\n",
       "159      1024 11.000          157.000            1146.000           0.000   \n",
       "160      1024 12.000          136.000             949.000           0.000   \n",
       "260      1042 12.000          121.000             728.000          75.000   \n",
       "311      1050  7.000           35.000             209.000          52.000   \n",
       "382      1060 12.000          184.000            1233.000          52.000   \n",
       "...       ...    ...              ...                 ...             ...   \n",
       "3179     1231  9.000            0.000               0.000         188.000   \n",
       "3180     1231 10.000            0.000               0.000         185.000   \n",
       "3181     1231  8.000            0.000               0.000         180.000   \n",
       "3211     1328 11.000            0.000               0.000           8.000   \n",
       "3212     1328 12.000            0.000               0.000           7.000   \n",
       "\n",
       "      gb_used_month  age churn_date             city  first_name last_name  \\\n",
       "159          43.000   73        NaT  Санкт-Петербург      Иулиан   Антипов   \n",
       "160          36.000   73        NaT  Санкт-Петербург      Иулиан   Антипов   \n",
       "260          37.000   42        NaT        Хабаровск  Константин  Добрынин   \n",
       "311          35.000   44 2018-10-03           Тюмень      Рузана  Аничкина   \n",
       "382          43.000   46        NaT           Калуга        Яков   Рудаков   \n",
       "...             ...  ...        ...              ...         ...       ...   \n",
       "3179         33.000   63        NaT        Чебоксары      Касьян   Авдюков   \n",
       "3180         31.000   63        NaT        Чебоксары      Касьян   Авдюков   \n",
       "3181         32.000   63        NaT        Чебоксары      Касьян   Авдюков   \n",
       "3211         35.000   44        NaT         Мурманск       Рауль  Аркадьев   \n",
       "3212         39.000   44        NaT         Мурманск       Рауль  Аркадьев   \n",
       "\n",
       "       reg_date tariff  month_start  month_end  tariff_profit  \n",
       "159  2018-10-31  ultra           10        NaN       3900.000  \n",
       "160  2018-10-31  ultra           10        NaN       2850.000  \n",
       "260  2018-11-25  smart           11        NaN       5709.000  \n",
       "311  2018-06-16  ultra            6     10.000       2700.000  \n",
       "382  2018-11-24  ultra           11        NaN       3900.000  \n",
       "...         ...    ...          ...        ...            ...  \n",
       "3179 2018-05-23  ultra            5        NaN       2400.000  \n",
       "3180 2018-05-23  ultra            5        NaN       2100.000  \n",
       "3181 2018-05-23  ultra            5        NaN       2250.000  \n",
       "3211 2018-10-16  ultra           10        NaN       2700.000  \n",
       "3212 2018-10-16  ultra           10        NaN       3300.000  \n",
       "\n",
       "[152 rows x 16 columns]"
      ]
     },
     "execution_count": 57,
     "metadata": {},
     "output_type": "execute_result"
    }
   ],
   "source": [
    "tariff_analysis.query('gb_used_month>30')"
   ]
  },
  {
   "cell_type": "markdown",
   "metadata": {},
   "source": [
    "Проверим пользователей, который пользовались тарифом до месяца"
   ]
  },
  {
   "cell_type": "code",
   "execution_count": 58,
   "metadata": {
    "scrolled": true
   },
   "outputs": [
    {
     "data": {
      "text/html": [
       "<div>\n",
       "<style scoped>\n",
       "    .dataframe tbody tr th:only-of-type {\n",
       "        vertical-align: middle;\n",
       "    }\n",
       "\n",
       "    .dataframe tbody tr th {\n",
       "        vertical-align: top;\n",
       "    }\n",
       "\n",
       "    .dataframe thead th {\n",
       "        text-align: right;\n",
       "    }\n",
       "</style>\n",
       "<table border=\"1\" class=\"dataframe\">\n",
       "  <thead>\n",
       "    <tr style=\"text-align: right;\">\n",
       "      <th></th>\n",
       "      <th>user_id</th>\n",
       "      <th>month</th>\n",
       "      <th>number_of_calls</th>\n",
       "      <th>duration_per_month</th>\n",
       "      <th>total_messages</th>\n",
       "      <th>gb_used_month</th>\n",
       "      <th>age</th>\n",
       "      <th>churn_date</th>\n",
       "      <th>city</th>\n",
       "      <th>first_name</th>\n",
       "      <th>last_name</th>\n",
       "      <th>reg_date</th>\n",
       "      <th>tariff</th>\n",
       "      <th>month_start</th>\n",
       "      <th>month_end</th>\n",
       "      <th>tariff_profit</th>\n",
       "    </tr>\n",
       "  </thead>\n",
       "  <tbody>\n",
       "    <tr>\n",
       "      <th>3214</th>\n",
       "      <td>1128</td>\n",
       "      <td>NaN</td>\n",
       "      <td>0.000</td>\n",
       "      <td>0.000</td>\n",
       "      <td>0.000</td>\n",
       "      <td>0.000</td>\n",
       "      <td>51</td>\n",
       "      <td>2018-12-23</td>\n",
       "      <td>Волжский</td>\n",
       "      <td>Ксения</td>\n",
       "      <td>Агаева</td>\n",
       "      <td>2018-12-15</td>\n",
       "      <td>ultra</td>\n",
       "      <td>12</td>\n",
       "      <td>12.000</td>\n",
       "      <td>0.000</td>\n",
       "    </tr>\n",
       "    <tr>\n",
       "      <th>3215</th>\n",
       "      <td>1371</td>\n",
       "      <td>NaN</td>\n",
       "      <td>0.000</td>\n",
       "      <td>0.000</td>\n",
       "      <td>0.000</td>\n",
       "      <td>0.000</td>\n",
       "      <td>50</td>\n",
       "      <td>2018-12-30</td>\n",
       "      <td>Омск</td>\n",
       "      <td>Ириней</td>\n",
       "      <td>Трофимов</td>\n",
       "      <td>2018-12-25</td>\n",
       "      <td>smart</td>\n",
       "      <td>12</td>\n",
       "      <td>12.000</td>\n",
       "      <td>0.000</td>\n",
       "    </tr>\n",
       "  </tbody>\n",
       "</table>\n",
       "</div>"
      ],
      "text/plain": [
       "      user_id  month  number_of_calls  duration_per_month  total_messages  \\\n",
       "3214     1128    NaN            0.000               0.000           0.000   \n",
       "3215     1371    NaN            0.000               0.000           0.000   \n",
       "\n",
       "      gb_used_month  age churn_date      city first_name last_name   reg_date  \\\n",
       "3214          0.000   51 2018-12-23  Волжский     Ксения    Агаева 2018-12-15   \n",
       "3215          0.000   50 2018-12-30      Омск     Ириней  Трофимов 2018-12-25   \n",
       "\n",
       "     tariff  month_start  month_end  tariff_profit  \n",
       "3214  ultra           12     12.000          0.000  \n",
       "3215  smart           12     12.000          0.000  "
      ]
     },
     "execution_count": 58,
     "metadata": {},
     "output_type": "execute_result"
    }
   ],
   "source": [
    "tariff_analysis.query('month_start==month_end')"
   ]
  },
  {
   "cell_type": "code",
   "execution_count": 59,
   "metadata": {
    "scrolled": true
   },
   "outputs": [
    {
     "data": {
      "text/html": [
       "<div>\n",
       "<style scoped>\n",
       "    .dataframe tbody tr th:only-of-type {\n",
       "        vertical-align: middle;\n",
       "    }\n",
       "\n",
       "    .dataframe tbody tr th {\n",
       "        vertical-align: top;\n",
       "    }\n",
       "\n",
       "    .dataframe thead th {\n",
       "        text-align: right;\n",
       "    }\n",
       "</style>\n",
       "<table border=\"1\" class=\"dataframe\">\n",
       "  <thead>\n",
       "    <tr style=\"text-align: right;\">\n",
       "      <th></th>\n",
       "      <th>user_id</th>\n",
       "      <th>age</th>\n",
       "      <th>churn_date</th>\n",
       "      <th>city</th>\n",
       "      <th>first_name</th>\n",
       "      <th>last_name</th>\n",
       "      <th>reg_date</th>\n",
       "      <th>tariff</th>\n",
       "      <th>month_start</th>\n",
       "      <th>month_end</th>\n",
       "    </tr>\n",
       "  </thead>\n",
       "  <tbody>\n",
       "    <tr>\n",
       "      <th>128</th>\n",
       "      <td>1128</td>\n",
       "      <td>51</td>\n",
       "      <td>2018-12-23</td>\n",
       "      <td>Волжский</td>\n",
       "      <td>Ксения</td>\n",
       "      <td>Агаева</td>\n",
       "      <td>2018-12-15</td>\n",
       "      <td>ultra</td>\n",
       "      <td>12</td>\n",
       "      <td>12.000</td>\n",
       "    </tr>\n",
       "    <tr>\n",
       "      <th>371</th>\n",
       "      <td>1371</td>\n",
       "      <td>50</td>\n",
       "      <td>2018-12-30</td>\n",
       "      <td>Омск</td>\n",
       "      <td>Ириней</td>\n",
       "      <td>Трофимов</td>\n",
       "      <td>2018-12-25</td>\n",
       "      <td>smart</td>\n",
       "      <td>12</td>\n",
       "      <td>12.000</td>\n",
       "    </tr>\n",
       "  </tbody>\n",
       "</table>\n",
       "</div>"
      ],
      "text/plain": [
       "     user_id  age churn_date      city first_name last_name   reg_date tariff  \\\n",
       "128     1128   51 2018-12-23  Волжский     Ксения    Агаева 2018-12-15  ultra   \n",
       "371     1371   50 2018-12-30      Омск     Ириней  Трофимов 2018-12-25  smart   \n",
       "\n",
       "     month_start  month_end  \n",
       "128           12     12.000  \n",
       "371           12     12.000  "
      ]
     },
     "execution_count": 59,
     "metadata": {},
     "output_type": "execute_result"
    }
   ],
   "source": [
    "users_df.query('user_id==1128 or user_id == 1371')"
   ]
  },
  {
   "cell_type": "markdown",
   "metadata": {},
   "source": [
    "Эти кленты не стали пользоваться услугами связи и расторгли договор до начсиления абонентской платы."
   ]
  },
  {
   "cell_type": "markdown",
   "metadata": {},
   "source": [
    "#### Найдём средние показатели в месяц по каждому пользователю"
   ]
  },
  {
   "cell_type": "code",
   "execution_count": 60,
   "metadata": {
    "scrolled": true
   },
   "outputs": [
    {
     "data": {
      "text/html": [
       "<div>\n",
       "<style scoped>\n",
       "    .dataframe tbody tr th:only-of-type {\n",
       "        vertical-align: middle;\n",
       "    }\n",
       "\n",
       "    .dataframe tbody tr th {\n",
       "        vertical-align: top;\n",
       "    }\n",
       "\n",
       "    .dataframe thead tr th {\n",
       "        text-align: left;\n",
       "    }\n",
       "</style>\n",
       "<table border=\"1\" class=\"dataframe\">\n",
       "  <thead>\n",
       "    <tr>\n",
       "      <th></th>\n",
       "      <th>user_id</th>\n",
       "      <th colspan=\"2\" halign=\"left\">month</th>\n",
       "      <th>tariff_profit</th>\n",
       "      <th>number_of_calls</th>\n",
       "      <th>duration_per_month</th>\n",
       "      <th>total_messages</th>\n",
       "      <th>gb_used_month</th>\n",
       "    </tr>\n",
       "    <tr>\n",
       "      <th></th>\n",
       "      <th></th>\n",
       "      <th>min</th>\n",
       "      <th>max</th>\n",
       "      <th>sum</th>\n",
       "      <th>sum</th>\n",
       "      <th>sum</th>\n",
       "      <th>sum</th>\n",
       "      <th>sum</th>\n",
       "    </tr>\n",
       "  </thead>\n",
       "  <tbody>\n",
       "    <tr>\n",
       "      <th>356</th>\n",
       "      <td>1356</td>\n",
       "      <td>4.000</td>\n",
       "      <td>12.000</td>\n",
       "      <td>22500.000</td>\n",
       "      <td>1026.000</td>\n",
       "      <td>7293.000</td>\n",
       "      <td>1224.000</td>\n",
       "      <td>283.000</td>\n",
       "    </tr>\n",
       "    <tr>\n",
       "      <th>227</th>\n",
       "      <td>1227</td>\n",
       "      <td>1.000</td>\n",
       "      <td>12.000</td>\n",
       "      <td>26179.000</td>\n",
       "      <td>1008.000</td>\n",
       "      <td>7364.000</td>\n",
       "      <td>336.000</td>\n",
       "      <td>257.000</td>\n",
       "    </tr>\n",
       "    <tr>\n",
       "      <th>130</th>\n",
       "      <td>1130</td>\n",
       "      <td>4.000</td>\n",
       "      <td>12.000</td>\n",
       "      <td>11901.000</td>\n",
       "      <td>657.000</td>\n",
       "      <td>4640.000</td>\n",
       "      <td>558.000</td>\n",
       "      <td>162.000</td>\n",
       "    </tr>\n",
       "    <tr>\n",
       "      <th>449</th>\n",
       "      <td>1449</td>\n",
       "      <td>7.000</td>\n",
       "      <td>12.000</td>\n",
       "      <td>6597.000</td>\n",
       "      <td>462.000</td>\n",
       "      <td>3199.000</td>\n",
       "      <td>540.000</td>\n",
       "      <td>82.000</td>\n",
       "    </tr>\n",
       "    <tr>\n",
       "      <th>116</th>\n",
       "      <td>1116</td>\n",
       "      <td>4.000</td>\n",
       "      <td>12.000</td>\n",
       "      <td>6150.000</td>\n",
       "      <td>405.000</td>\n",
       "      <td>2802.000</td>\n",
       "      <td>0.000</td>\n",
       "      <td>127.000</td>\n",
       "    </tr>\n",
       "  </tbody>\n",
       "</table>\n",
       "</div>"
      ],
      "text/plain": [
       "    user_id month        tariff_profit number_of_calls duration_per_month  \\\n",
       "              min    max           sum             sum                sum   \n",
       "356    1356 4.000 12.000     22500.000        1026.000           7293.000   \n",
       "227    1227 1.000 12.000     26179.000        1008.000           7364.000   \n",
       "130    1130 4.000 12.000     11901.000         657.000           4640.000   \n",
       "449    1449 7.000 12.000      6597.000         462.000           3199.000   \n",
       "116    1116 4.000 12.000      6150.000         405.000           2802.000   \n",
       "\n",
       "    total_messages gb_used_month  \n",
       "               sum           sum  \n",
       "356       1224.000       283.000  \n",
       "227        336.000       257.000  \n",
       "130        558.000       162.000  \n",
       "449        540.000        82.000  \n",
       "116          0.000       127.000  "
      ]
     },
     "execution_count": 60,
     "metadata": {},
     "output_type": "execute_result"
    }
   ],
   "source": [
    "average_profit = tariff_analysis.groupby('user_id').agg({'month': ['min','max'],'tariff_profit':'sum','number_of_calls':'sum','duration_per_month':'sum','total_messages':'sum','gb_used_month':'sum'}).reset_index()\n",
    "average_profit.sample(5)"
   ]
  },
  {
   "cell_type": "code",
   "execution_count": 61,
   "metadata": {
    "scrolled": true
   },
   "outputs": [
    {
     "data": {
      "text/html": [
       "<div>\n",
       "<style scoped>\n",
       "    .dataframe tbody tr th:only-of-type {\n",
       "        vertical-align: middle;\n",
       "    }\n",
       "\n",
       "    .dataframe tbody tr th {\n",
       "        vertical-align: top;\n",
       "    }\n",
       "\n",
       "    .dataframe thead th {\n",
       "        text-align: right;\n",
       "    }\n",
       "</style>\n",
       "<table border=\"1\" class=\"dataframe\">\n",
       "  <thead>\n",
       "    <tr style=\"text-align: right;\">\n",
       "      <th></th>\n",
       "      <th>user_id</th>\n",
       "      <th>start</th>\n",
       "      <th>end</th>\n",
       "      <th>total_profit</th>\n",
       "      <th>total_number_calls</th>\n",
       "      <th>total_min</th>\n",
       "      <th>total_sms</th>\n",
       "      <th>total_gb</th>\n",
       "    </tr>\n",
       "  </thead>\n",
       "  <tbody>\n",
       "    <tr>\n",
       "      <th>148</th>\n",
       "      <td>1148</td>\n",
       "      <td>4.000</td>\n",
       "      <td>12.000</td>\n",
       "      <td>22650.000</td>\n",
       "      <td>945.000</td>\n",
       "      <td>6740.000</td>\n",
       "      <td>126.000</td>\n",
       "      <td>295.000</td>\n",
       "    </tr>\n",
       "    <tr>\n",
       "      <th>256</th>\n",
       "      <td>1256</td>\n",
       "      <td>9.000</td>\n",
       "      <td>12.000</td>\n",
       "      <td>7248.000</td>\n",
       "      <td>256.000</td>\n",
       "      <td>1851.000</td>\n",
       "      <td>292.000</td>\n",
       "      <td>66.000</td>\n",
       "    </tr>\n",
       "    <tr>\n",
       "      <th>391</th>\n",
       "      <td>1391</td>\n",
       "      <td>5.000</td>\n",
       "      <td>12.000</td>\n",
       "      <td>16350.000</td>\n",
       "      <td>816.000</td>\n",
       "      <td>6025.000</td>\n",
       "      <td>24.000</td>\n",
       "      <td>192.000</td>\n",
       "    </tr>\n",
       "    <tr>\n",
       "      <th>23</th>\n",
       "      <td>1023</td>\n",
       "      <td>10.000</td>\n",
       "      <td>12.000</td>\n",
       "      <td>4857.000</td>\n",
       "      <td>177.000</td>\n",
       "      <td>1225.000</td>\n",
       "      <td>111.000</td>\n",
       "      <td>52.000</td>\n",
       "    </tr>\n",
       "    <tr>\n",
       "      <th>420</th>\n",
       "      <td>1420</td>\n",
       "      <td>9.000</td>\n",
       "      <td>12.000</td>\n",
       "      <td>9800.000</td>\n",
       "      <td>108.000</td>\n",
       "      <td>723.000</td>\n",
       "      <td>44.000</td>\n",
       "      <td>95.000</td>\n",
       "    </tr>\n",
       "  </tbody>\n",
       "</table>\n",
       "</div>"
      ],
      "text/plain": [
       "     user_id  start    end  total_profit  total_number_calls  total_min  \\\n",
       "148     1148  4.000 12.000     22650.000             945.000   6740.000   \n",
       "256     1256  9.000 12.000      7248.000             256.000   1851.000   \n",
       "391     1391  5.000 12.000     16350.000             816.000   6025.000   \n",
       "23      1023 10.000 12.000      4857.000             177.000   1225.000   \n",
       "420     1420  9.000 12.000      9800.000             108.000    723.000   \n",
       "\n",
       "     total_sms  total_gb  \n",
       "148    126.000   295.000  \n",
       "256    292.000    66.000  \n",
       "391     24.000   192.000  \n",
       "23     111.000    52.000  \n",
       "420     44.000    95.000  "
      ]
     },
     "execution_count": 61,
     "metadata": {},
     "output_type": "execute_result"
    }
   ],
   "source": [
    "average_profit.columns=('user_id', 'start', 'end', 'total_profit', 'total_number_calls','total_min','total_sms', 'total_gb')\n",
    "average_profit.sample(5)"
   ]
  },
  {
   "cell_type": "markdown",
   "metadata": {},
   "source": [
    "Добавим в таблицу со средними показателями инфо по пользователям"
   ]
  },
  {
   "cell_type": "code",
   "execution_count": 62,
   "metadata": {},
   "outputs": [
    {
     "data": {
      "text/html": [
       "<div>\n",
       "<style scoped>\n",
       "    .dataframe tbody tr th:only-of-type {\n",
       "        vertical-align: middle;\n",
       "    }\n",
       "\n",
       "    .dataframe tbody tr th {\n",
       "        vertical-align: top;\n",
       "    }\n",
       "\n",
       "    .dataframe thead th {\n",
       "        text-align: right;\n",
       "    }\n",
       "</style>\n",
       "<table border=\"1\" class=\"dataframe\">\n",
       "  <thead>\n",
       "    <tr style=\"text-align: right;\">\n",
       "      <th></th>\n",
       "      <th>user_id</th>\n",
       "      <th>start</th>\n",
       "      <th>end</th>\n",
       "      <th>total_profit</th>\n",
       "      <th>total_number_calls</th>\n",
       "      <th>total_min</th>\n",
       "      <th>total_sms</th>\n",
       "      <th>total_gb</th>\n",
       "      <th>age</th>\n",
       "      <th>churn_date</th>\n",
       "      <th>city</th>\n",
       "      <th>first_name</th>\n",
       "      <th>last_name</th>\n",
       "      <th>reg_date</th>\n",
       "      <th>tariff</th>\n",
       "      <th>month_start</th>\n",
       "      <th>month_end</th>\n",
       "    </tr>\n",
       "  </thead>\n",
       "  <tbody>\n",
       "    <tr>\n",
       "      <th>378</th>\n",
       "      <td>1378</td>\n",
       "      <td>1.000</td>\n",
       "      <td>12.000</td>\n",
       "      <td>7287.000</td>\n",
       "      <td>852.000</td>\n",
       "      <td>5660.000</td>\n",
       "      <td>144.000</td>\n",
       "      <td>148.000</td>\n",
       "      <td>21</td>\n",
       "      <td>NaT</td>\n",
       "      <td>Иркутск</td>\n",
       "      <td>Евгения</td>\n",
       "      <td>Бычкова</td>\n",
       "      <td>2018-01-19</td>\n",
       "      <td>smart</td>\n",
       "      <td>1</td>\n",
       "      <td>NaN</td>\n",
       "    </tr>\n",
       "    <tr>\n",
       "      <th>494</th>\n",
       "      <td>1494</td>\n",
       "      <td>8.000</td>\n",
       "      <td>12.000</td>\n",
       "      <td>4953.000</td>\n",
       "      <td>275.000</td>\n",
       "      <td>1946.000</td>\n",
       "      <td>0.000</td>\n",
       "      <td>78.000</td>\n",
       "      <td>62</td>\n",
       "      <td>NaT</td>\n",
       "      <td>Омск</td>\n",
       "      <td>Ренат</td>\n",
       "      <td>Андропов</td>\n",
       "      <td>2018-08-17</td>\n",
       "      <td>smart</td>\n",
       "      <td>8</td>\n",
       "      <td>NaN</td>\n",
       "    </tr>\n",
       "    <tr>\n",
       "      <th>357</th>\n",
       "      <td>1357</td>\n",
       "      <td>9.000</td>\n",
       "      <td>12.000</td>\n",
       "      <td>5200.000</td>\n",
       "      <td>196.000</td>\n",
       "      <td>1482.000</td>\n",
       "      <td>164.000</td>\n",
       "      <td>75.000</td>\n",
       "      <td>37</td>\n",
       "      <td>NaT</td>\n",
       "      <td>Томск</td>\n",
       "      <td>Касьян</td>\n",
       "      <td>Ермилов</td>\n",
       "      <td>2018-09-02</td>\n",
       "      <td>smart</td>\n",
       "      <td>9</td>\n",
       "      <td>NaN</td>\n",
       "    </tr>\n",
       "    <tr>\n",
       "      <th>451</th>\n",
       "      <td>1451</td>\n",
       "      <td>8.000</td>\n",
       "      <td>12.000</td>\n",
       "      <td>7853.000</td>\n",
       "      <td>500.000</td>\n",
       "      <td>3613.000</td>\n",
       "      <td>190.000</td>\n",
       "      <td>59.000</td>\n",
       "      <td>58</td>\n",
       "      <td>NaT</td>\n",
       "      <td>Набережные Челны</td>\n",
       "      <td>Виктория</td>\n",
       "      <td>Завьялова</td>\n",
       "      <td>2018-08-27</td>\n",
       "      <td>smart</td>\n",
       "      <td>8</td>\n",
       "      <td>NaN</td>\n",
       "    </tr>\n",
       "    <tr>\n",
       "      <th>171</th>\n",
       "      <td>1171</td>\n",
       "      <td>3.000</td>\n",
       "      <td>12.000</td>\n",
       "      <td>10308.000</td>\n",
       "      <td>820.000</td>\n",
       "      <td>5996.000</td>\n",
       "      <td>660.000</td>\n",
       "      <td>130.000</td>\n",
       "      <td>47</td>\n",
       "      <td>NaT</td>\n",
       "      <td>Москва</td>\n",
       "      <td>Каролина</td>\n",
       "      <td>Иванова</td>\n",
       "      <td>2018-03-20</td>\n",
       "      <td>smart</td>\n",
       "      <td>3</td>\n",
       "      <td>NaN</td>\n",
       "    </tr>\n",
       "  </tbody>\n",
       "</table>\n",
       "</div>"
      ],
      "text/plain": [
       "     user_id  start    end  total_profit  total_number_calls  total_min  \\\n",
       "378     1378  1.000 12.000      7287.000             852.000   5660.000   \n",
       "494     1494  8.000 12.000      4953.000             275.000   1946.000   \n",
       "357     1357  9.000 12.000      5200.000             196.000   1482.000   \n",
       "451     1451  8.000 12.000      7853.000             500.000   3613.000   \n",
       "171     1171  3.000 12.000     10308.000             820.000   5996.000   \n",
       "\n",
       "     total_sms  total_gb  age churn_date              city first_name  \\\n",
       "378    144.000   148.000   21        NaT           Иркутск    Евгения   \n",
       "494      0.000    78.000   62        NaT              Омск      Ренат   \n",
       "357    164.000    75.000   37        NaT             Томск     Касьян   \n",
       "451    190.000    59.000   58        NaT  Набережные Челны   Виктория   \n",
       "171    660.000   130.000   47        NaT            Москва   Каролина   \n",
       "\n",
       "     last_name   reg_date tariff  month_start  month_end  \n",
       "378    Бычкова 2018-01-19  smart            1        NaN  \n",
       "494   Андропов 2018-08-17  smart            8        NaN  \n",
       "357    Ермилов 2018-09-02  smart            9        NaN  \n",
       "451  Завьялова 2018-08-27  smart            8        NaN  \n",
       "171    Иванова 2018-03-20  smart            3        NaN  "
      ]
     },
     "execution_count": 62,
     "metadata": {},
     "output_type": "execute_result"
    }
   ],
   "source": [
    "average_profit = average_profit.merge(users_df, how='left', on=['user_id'])\n",
    "average_profit.sample(5)"
   ]
  },
  {
   "cell_type": "code",
   "execution_count": 63,
   "metadata": {
    "scrolled": true
   },
   "outputs": [
    {
     "data": {
      "text/html": [
       "<div>\n",
       "<style scoped>\n",
       "    .dataframe tbody tr th:only-of-type {\n",
       "        vertical-align: middle;\n",
       "    }\n",
       "\n",
       "    .dataframe tbody tr th {\n",
       "        vertical-align: top;\n",
       "    }\n",
       "\n",
       "    .dataframe thead th {\n",
       "        text-align: right;\n",
       "    }\n",
       "</style>\n",
       "<table border=\"1\" class=\"dataframe\">\n",
       "  <thead>\n",
       "    <tr style=\"text-align: right;\">\n",
       "      <th></th>\n",
       "      <th>user_id</th>\n",
       "      <th>start</th>\n",
       "      <th>end</th>\n",
       "      <th>total_profit</th>\n",
       "      <th>total_number_calls</th>\n",
       "      <th>total_min</th>\n",
       "      <th>total_sms</th>\n",
       "      <th>total_gb</th>\n",
       "      <th>city</th>\n",
       "      <th>tariff</th>\n",
       "    </tr>\n",
       "  </thead>\n",
       "  <tbody>\n",
       "    <tr>\n",
       "      <th>431</th>\n",
       "      <td>1431</td>\n",
       "      <td>3.000</td>\n",
       "      <td>12.000</td>\n",
       "      <td>12842.000</td>\n",
       "      <td>340.000</td>\n",
       "      <td>2446.000</td>\n",
       "      <td>810.000</td>\n",
       "      <td>178.000</td>\n",
       "      <td>Уфа</td>\n",
       "      <td>smart</td>\n",
       "    </tr>\n",
       "    <tr>\n",
       "      <th>23</th>\n",
       "      <td>1023</td>\n",
       "      <td>10.000</td>\n",
       "      <td>12.000</td>\n",
       "      <td>4857.000</td>\n",
       "      <td>177.000</td>\n",
       "      <td>1225.000</td>\n",
       "      <td>111.000</td>\n",
       "      <td>52.000</td>\n",
       "      <td>Томск</td>\n",
       "      <td>smart</td>\n",
       "    </tr>\n",
       "    <tr>\n",
       "      <th>32</th>\n",
       "      <td>1032</td>\n",
       "      <td>1.000</td>\n",
       "      <td>12.000</td>\n",
       "      <td>17920.000</td>\n",
       "      <td>768.000</td>\n",
       "      <td>5318.000</td>\n",
       "      <td>420.000</td>\n",
       "      <td>234.000</td>\n",
       "      <td>Ульяновск</td>\n",
       "      <td>smart</td>\n",
       "    </tr>\n",
       "    <tr>\n",
       "      <th>94</th>\n",
       "      <td>1094</td>\n",
       "      <td>5.000</td>\n",
       "      <td>12.000</td>\n",
       "      <td>15600.000</td>\n",
       "      <td>792.000</td>\n",
       "      <td>5368.000</td>\n",
       "      <td>168.000</td>\n",
       "      <td>144.000</td>\n",
       "      <td>Новосибирск</td>\n",
       "      <td>ultra</td>\n",
       "    </tr>\n",
       "    <tr>\n",
       "      <th>128</th>\n",
       "      <td>1128</td>\n",
       "      <td>NaN</td>\n",
       "      <td>NaN</td>\n",
       "      <td>0.000</td>\n",
       "      <td>0.000</td>\n",
       "      <td>0.000</td>\n",
       "      <td>0.000</td>\n",
       "      <td>0.000</td>\n",
       "      <td>Волжский</td>\n",
       "      <td>ultra</td>\n",
       "    </tr>\n",
       "  </tbody>\n",
       "</table>\n",
       "</div>"
      ],
      "text/plain": [
       "     user_id  start    end  total_profit  total_number_calls  total_min  \\\n",
       "431     1431  3.000 12.000     12842.000             340.000   2446.000   \n",
       "23      1023 10.000 12.000      4857.000             177.000   1225.000   \n",
       "32      1032  1.000 12.000     17920.000             768.000   5318.000   \n",
       "94      1094  5.000 12.000     15600.000             792.000   5368.000   \n",
       "128     1128    NaN    NaN         0.000               0.000      0.000   \n",
       "\n",
       "     total_sms  total_gb         city tariff  \n",
       "431    810.000   178.000          Уфа  smart  \n",
       "23     111.000    52.000        Томск  smart  \n",
       "32     420.000   234.000    Ульяновск  smart  \n",
       "94     168.000   144.000  Новосибирск  ultra  \n",
       "128      0.000     0.000     Волжский  ultra  "
      ]
     },
     "execution_count": 63,
     "metadata": {},
     "output_type": "execute_result"
    }
   ],
   "source": [
    "average_profit=average_profit[['user_id','start','end','total_profit','total_number_calls','total_min','total_sms','total_gb','city','tariff']]\n",
    "average_profit.sample(5)"
   ]
  },
  {
   "cell_type": "markdown",
   "metadata": {},
   "source": [
    "### Анализ данных"
   ]
  },
  {
   "cell_type": "markdown",
   "metadata": {},
   "source": [
    "#### Сравнение тарифов"
   ]
  },
  {
   "cell_type": "code",
   "execution_count": 64,
   "metadata": {},
   "outputs": [],
   "source": [
    "#функция для построения графика для оценки поведения пользователей тарифов\n",
    "def hist_and_stat(df, name,x_smart,x_ultra):\n",
    "    cd = df.groupby(df.tariff)[name]\n",
    "    cd_desc = cd.describe(percentiles = [.01,.25,.75,.99])\n",
    "    cd_desc['var']= [np.var(cd.get_group('smart'), ddof=1), np.var(cd.get_group('ultra'), ddof=1)]\n",
    "    display(cd_desc)\n",
    "    smart = df.query('tariff == \"smart\"')[name]\n",
    "    ultra = df.query('tariff == \"ultra\"')[name]\n",
    "    plt.figure(figsize=(10,6))\n",
    "    plt.hist(smart, bins=50, color='dodgerblue', edgecolor='grey', alpha=0.5, label = 'smart', density = False)\n",
    "    plt.hist(ultra, bins=50, color='yellow', edgecolor='grey', alpha=0.5,label = 'ultra', density = False)\n",
    "    plt.axvline(cd_desc['mean'][0], color='blue', linestyle='dashed', linewidth=3, label='Среднее smart: {:.2f}'.format(cd_desc['mean'][0]))\n",
    "    \n",
    "    plt.axvline(cd_desc['mean'][1], color='orange', linestyle='dashed', linewidth=3, label='Среднее ultra: {:.2f}'.format(cd_desc['mean'][1]))\n",
    "\n",
    "    plt.axvline(x_smart, color='blue', linestyle='solid', linewidth=3, label='Включено в пакет smart')\n",
    "    plt.axvline(x_ultra, color='orange', linestyle='solid', linewidth=3, label='Включено в пакет ultra')\n",
    "    plt.legend()\n",
    "    plt.title('Гистограмма {}'.format(name))"
   ]
  },
  {
   "cell_type": "markdown",
   "metadata": {},
   "source": [
    "#### Сравнение длины звонков Ultra и Smart"
   ]
  },
  {
   "cell_type": "code",
   "execution_count": 65,
   "metadata": {
    "scrolled": true
   },
   "outputs": [
    {
     "name": "stdout",
     "output_type": "stream",
     "text": [
      "Сравнение ULTRA И SMART\n"
     ]
    },
    {
     "data": {
      "image/png": "[encoded data removed]",
      "text/plain": [
       "<Figure size 1440x360 with 2 Axes>"
      ]
     },
     "metadata": {
      "needs_background": "light"
     },
     "output_type": "display_data"
    }
   ],
   "source": [
    "print('Сравнение ULTRA И SMART')\n",
    "fig = plt.figure(figsize = (20,5))\n",
    "tariff_analysis[tariff_analysis['tariff'] == 'ultra'].boxplot('duration_per_month', ax = plt.subplot(1,2,1))\n",
    "tariff_analysis[tariff_analysis['tariff'] == 'smart'].boxplot('duration_per_month', ax = plt.subplot(1,2,2));"
   ]
  },
  {
   "cell_type": "code",
   "execution_count": 66,
   "metadata": {
    "scrolled": false
   },
   "outputs": [
    {
     "data": {
      "text/html": [
       "<div>\n",
       "<style scoped>\n",
       "    .dataframe tbody tr th:only-of-type {\n",
       "        vertical-align: middle;\n",
       "    }\n",
       "\n",
       "    .dataframe tbody tr th {\n",
       "        vertical-align: top;\n",
       "    }\n",
       "\n",
       "    .dataframe thead th {\n",
       "        text-align: right;\n",
       "    }\n",
       "</style>\n",
       "<table border=\"1\" class=\"dataframe\">\n",
       "  <thead>\n",
       "    <tr style=\"text-align: right;\">\n",
       "      <th></th>\n",
       "      <th>count</th>\n",
       "      <th>mean</th>\n",
       "      <th>std</th>\n",
       "      <th>min</th>\n",
       "      <th>1%</th>\n",
       "      <th>25%</th>\n",
       "      <th>50%</th>\n",
       "      <th>75%</th>\n",
       "      <th>99%</th>\n",
       "      <th>max</th>\n",
       "      <th>var</th>\n",
       "    </tr>\n",
       "    <tr>\n",
       "      <th>tariff</th>\n",
       "      <th></th>\n",
       "      <th></th>\n",
       "      <th></th>\n",
       "      <th></th>\n",
       "      <th></th>\n",
       "      <th></th>\n",
       "      <th></th>\n",
       "      <th></th>\n",
       "      <th></th>\n",
       "      <th></th>\n",
       "      <th></th>\n",
       "    </tr>\n",
       "  </thead>\n",
       "  <tbody>\n",
       "    <tr>\n",
       "      <th>smart</th>\n",
       "      <td>2230.000</td>\n",
       "      <td>417.748</td>\n",
       "      <td>190.477</td>\n",
       "      <td>0.000</td>\n",
       "      <td>13.580</td>\n",
       "      <td>282.000</td>\n",
       "      <td>421.500</td>\n",
       "      <td>545.000</td>\n",
       "      <td>872.710</td>\n",
       "      <td>1435.000</td>\n",
       "      <td>36281.394</td>\n",
       "    </tr>\n",
       "    <tr>\n",
       "      <th>ultra</th>\n",
       "      <td>986.000</td>\n",
       "      <td>526.089</td>\n",
       "      <td>317.888</td>\n",
       "      <td>0.000</td>\n",
       "      <td>0.000</td>\n",
       "      <td>282.500</td>\n",
       "      <td>518.000</td>\n",
       "      <td>751.750</td>\n",
       "      <td>1291.050</td>\n",
       "      <td>1673.000</td>\n",
       "      <td>101052.494</td>\n",
       "    </tr>\n",
       "  </tbody>\n",
       "</table>\n",
       "</div>"
      ],
      "text/plain": [
       "          count    mean     std   min     1%     25%     50%     75%      99%  \\\n",
       "tariff                                                                          \n",
       "smart  2230.000 417.748 190.477 0.000 13.580 282.000 421.500 545.000  872.710   \n",
       "ultra   986.000 526.089 317.888 0.000  0.000 282.500 518.000 751.750 1291.050   \n",
       "\n",
       "            max        var  \n",
       "tariff                      \n",
       "smart  1435.000  36281.394  \n",
       "ultra  1673.000 101052.494  "
      ]
     },
     "metadata": {},
     "output_type": "display_data"
    },
    {
     "data": {
      "image/png": "[encoded data removed]",
      "text/plain": [
       "<Figure size 720x432 with 1 Axes>"
      ]
     },
     "metadata": {
      "needs_background": "light"
     },
     "output_type": "display_data"
    }
   ],
   "source": [
    "hist_and_stat(tariff_analysis,'duration_per_month',500,3000)"
   ]
  },
  {
   "cell_type": "markdown",
   "metadata": {},
   "source": [
    "#### Вывод\n",
    "   - Пользователи тарифа ultra в среднем в месяц тратят больше минут разговора, чем пользователи тарифа smart.\n",
    "   - На тарифе smart пользователи часто не укладываются в лимиты и доплачивают за звонки.\n",
    "   - Дисперсия и стандартное отклонение выше на тарифе ultra, но пользователи этого тарифа всегда укладываются в установленные лимиты. Максимальное число минут разговора в месяц значительно меньше заложенных в него 3000.\n",
    "   - На тарифе ultra больше пользователей, которые не тратят минуты"
   ]
  },
  {
   "cell_type": "markdown",
   "metadata": {},
   "source": [
    "#### Сравнение количества смс"
   ]
  },
  {
   "cell_type": "code",
   "execution_count": 67,
   "metadata": {},
   "outputs": [
    {
     "name": "stdout",
     "output_type": "stream",
     "text": [
      "Сравнение ULTRA И SMART\n"
     ]
    },
    {
     "data": {
      "image/png": "[encoded data removed]",
      "text/plain": [
       "<Figure size 1512x432 with 2 Axes>"
      ]
     },
     "metadata": {
      "needs_background": "light"
     },
     "output_type": "display_data"
    }
   ],
   "source": [
    "print('Сравнение ULTRA И SMART')\n",
    "fig = plt.figure(figsize = (21,6))\n",
    "tariff_analysis[tariff_analysis['tariff'] == 'ultra'].boxplot('total_messages', ax = plt.subplot(1,2,1))\n",
    "tariff_analysis[tariff_analysis['tariff'] == 'smart'].boxplot('total_messages', ax = plt.subplot(1,2,2));"
   ]
  },
  {
   "cell_type": "code",
   "execution_count": 68,
   "metadata": {
    "scrolled": false
   },
   "outputs": [
    {
     "data": {
      "text/html": [
       "<div>\n",
       "<style scoped>\n",
       "    .dataframe tbody tr th:only-of-type {\n",
       "        vertical-align: middle;\n",
       "    }\n",
       "\n",
       "    .dataframe tbody tr th {\n",
       "        vertical-align: top;\n",
       "    }\n",
       "\n",
       "    .dataframe thead th {\n",
       "        text-align: right;\n",
       "    }\n",
       "</style>\n",
       "<table border=\"1\" class=\"dataframe\">\n",
       "  <thead>\n",
       "    <tr style=\"text-align: right;\">\n",
       "      <th></th>\n",
       "      <th>count</th>\n",
       "      <th>mean</th>\n",
       "      <th>std</th>\n",
       "      <th>min</th>\n",
       "      <th>1%</th>\n",
       "      <th>25%</th>\n",
       "      <th>50%</th>\n",
       "      <th>75%</th>\n",
       "      <th>99%</th>\n",
       "      <th>max</th>\n",
       "      <th>var</th>\n",
       "    </tr>\n",
       "    <tr>\n",
       "      <th>tariff</th>\n",
       "      <th></th>\n",
       "      <th></th>\n",
       "      <th></th>\n",
       "      <th></th>\n",
       "      <th></th>\n",
       "      <th></th>\n",
       "      <th></th>\n",
       "      <th></th>\n",
       "      <th></th>\n",
       "      <th></th>\n",
       "      <th></th>\n",
       "    </tr>\n",
       "  </thead>\n",
       "  <tbody>\n",
       "    <tr>\n",
       "      <th>smart</th>\n",
       "      <td>2230.000</td>\n",
       "      <td>33.369</td>\n",
       "      <td>28.230</td>\n",
       "      <td>0.000</td>\n",
       "      <td>0.000</td>\n",
       "      <td>10.000</td>\n",
       "      <td>28.000</td>\n",
       "      <td>51.000</td>\n",
       "      <td>108.000</td>\n",
       "      <td>143.000</td>\n",
       "      <td>796.955</td>\n",
       "    </tr>\n",
       "    <tr>\n",
       "      <th>ultra</th>\n",
       "      <td>986.000</td>\n",
       "      <td>49.313</td>\n",
       "      <td>47.806</td>\n",
       "      <td>0.000</td>\n",
       "      <td>0.000</td>\n",
       "      <td>6.000</td>\n",
       "      <td>38.000</td>\n",
       "      <td>78.750</td>\n",
       "      <td>183.300</td>\n",
       "      <td>224.000</td>\n",
       "      <td>2285.417</td>\n",
       "    </tr>\n",
       "  </tbody>\n",
       "</table>\n",
       "</div>"
      ],
      "text/plain": [
       "          count   mean    std   min    1%    25%    50%    75%     99%  \\\n",
       "tariff                                                                   \n",
       "smart  2230.000 33.369 28.230 0.000 0.000 10.000 28.000 51.000 108.000   \n",
       "ultra   986.000 49.313 47.806 0.000 0.000  6.000 38.000 78.750 183.300   \n",
       "\n",
       "           max      var  \n",
       "tariff                   \n",
       "smart  143.000  796.955  \n",
       "ultra  224.000 2285.417  "
      ]
     },
     "metadata": {},
     "output_type": "display_data"
    },
    {
     "data": {
      "image/png": "[encoded data removed]",
      "text/plain": [
       "<Figure size 720x432 with 1 Axes>"
      ]
     },
     "metadata": {
      "needs_background": "light"
     },
     "output_type": "display_data"
    }
   ],
   "source": [
    "hist_and_stat(tariff_analysis,'total_messages',50,1000)"
   ]
  },
  {
   "cell_type": "markdown",
   "metadata": {},
   "source": [
    "#### Вывод\n",
    "   - Пользователи тарифа ultra в среднем в месяц тратят больше смс, чем пользователи тарифа smart.\n",
    "   - На тарифе smart пользователи также не укладываются в лимиты и доплачивают за смс.\n",
    "   - Дисперсия и стандартное отклонение выше на тарифе ultra, но пользователи этого тарифа всегда укладываются в установленные лимиты. Максимальное число смс в месяц значительно меньше заложенных в него 1000.\n",
    "   - На тарифе smart больше пользователей, которые не тратят смс"
   ]
  },
  {
   "cell_type": "markdown",
   "metadata": {},
   "source": [
    "#### Сравнение потраченных GB"
   ]
  },
  {
   "cell_type": "code",
   "execution_count": 69,
   "metadata": {
    "scrolled": true
   },
   "outputs": [
    {
     "name": "stdout",
     "output_type": "stream",
     "text": [
      "Сравнение ULTRA И SMART\n"
     ]
    },
    {
     "data": {
      "image/png": "[encoded data removed]",
      "text/plain": [
       "<Figure size 1512x432 with 2 Axes>"
      ]
     },
     "metadata": {
      "needs_background": "light"
     },
     "output_type": "display_data"
    }
   ],
   "source": [
    "print('Сравнение ULTRA И SMART')\n",
    "fig = plt.figure(figsize = (21,6))\n",
    "tariff_analysis[tariff_analysis['tariff'] == 'ultra'].boxplot('gb_used_month', ax = plt.subplot(1,2,1))\n",
    "tariff_analysis[tariff_analysis['tariff'] == 'smart'].boxplot('gb_used_month', ax = plt.subplot(1,2,2));"
   ]
  },
  {
   "cell_type": "code",
   "execution_count": 70,
   "metadata": {
    "scrolled": false
   },
   "outputs": [
    {
     "data": {
      "text/html": [
       "<div>\n",
       "<style scoped>\n",
       "    .dataframe tbody tr th:only-of-type {\n",
       "        vertical-align: middle;\n",
       "    }\n",
       "\n",
       "    .dataframe tbody tr th {\n",
       "        vertical-align: top;\n",
       "    }\n",
       "\n",
       "    .dataframe thead th {\n",
       "        text-align: right;\n",
       "    }\n",
       "</style>\n",
       "<table border=\"1\" class=\"dataframe\">\n",
       "  <thead>\n",
       "    <tr style=\"text-align: right;\">\n",
       "      <th></th>\n",
       "      <th>count</th>\n",
       "      <th>mean</th>\n",
       "      <th>std</th>\n",
       "      <th>min</th>\n",
       "      <th>1%</th>\n",
       "      <th>25%</th>\n",
       "      <th>50%</th>\n",
       "      <th>75%</th>\n",
       "      <th>99%</th>\n",
       "      <th>max</th>\n",
       "      <th>var</th>\n",
       "    </tr>\n",
       "    <tr>\n",
       "      <th>tariff</th>\n",
       "      <th></th>\n",
       "      <th></th>\n",
       "      <th></th>\n",
       "      <th></th>\n",
       "      <th></th>\n",
       "      <th></th>\n",
       "      <th></th>\n",
       "      <th></th>\n",
       "      <th></th>\n",
       "      <th></th>\n",
       "      <th></th>\n",
       "    </tr>\n",
       "  </thead>\n",
       "  <tbody>\n",
       "    <tr>\n",
       "      <th>smart</th>\n",
       "      <td>2230.000</td>\n",
       "      <td>16.322</td>\n",
       "      <td>5.756</td>\n",
       "      <td>0.000</td>\n",
       "      <td>2.000</td>\n",
       "      <td>13.000</td>\n",
       "      <td>17.000</td>\n",
       "      <td>20.000</td>\n",
       "      <td>29.710</td>\n",
       "      <td>38.000</td>\n",
       "      <td>33.133</td>\n",
       "    </tr>\n",
       "    <tr>\n",
       "      <th>ultra</th>\n",
       "      <td>986.000</td>\n",
       "      <td>19.475</td>\n",
       "      <td>9.868</td>\n",
       "      <td>0.000</td>\n",
       "      <td>0.000</td>\n",
       "      <td>12.000</td>\n",
       "      <td>19.000</td>\n",
       "      <td>27.000</td>\n",
       "      <td>42.150</td>\n",
       "      <td>49.000</td>\n",
       "      <td>97.379</td>\n",
       "    </tr>\n",
       "  </tbody>\n",
       "</table>\n",
       "</div>"
      ],
      "text/plain": [
       "          count   mean   std   min    1%    25%    50%    75%    99%    max  \\\n",
       "tariff                                                                        \n",
       "smart  2230.000 16.322 5.756 0.000 2.000 13.000 17.000 20.000 29.710 38.000   \n",
       "ultra   986.000 19.475 9.868 0.000 0.000 12.000 19.000 27.000 42.150 49.000   \n",
       "\n",
       "          var  \n",
       "tariff         \n",
       "smart  33.133  \n",
       "ultra  97.379  "
      ]
     },
     "metadata": {},
     "output_type": "display_data"
    },
    {
     "data": {
      "image/png": "[encoded data removed]",
      "text/plain": [
       "<Figure size 720x432 with 1 Axes>"
      ]
     },
     "metadata": {
      "needs_background": "light"
     },
     "output_type": "display_data"
    }
   ],
   "source": [
    "hist_and_stat(tariff_analysis,'gb_used_month',15,30)"
   ]
  },
  {
   "cell_type": "markdown",
   "metadata": {},
   "source": [
    "#### Вывод\n",
    "   - Пользователи тарифа ultra в среднем в месяц тратят больше GB, чем пользователи тарифа smart.\n",
    "   - На тарифе smart в среднем пользователи тратят часто больше, чем предоставляется в бесплатном пакете и доплачивают за GB.\n",
    "   - Пользователи тарифа ultra также не укладываются, но реже, траты выше 30GB в месяц аномальны. Максимум почти доходит до 50 GB в месяц.\n",
    "   - Дисперсия и стандартное отклонение выше на тарифе ultra"
   ]
  },
  {
   "cell_type": "markdown",
   "metadata": {},
   "source": [
    "####  Сравнение прибыли"
   ]
  },
  {
   "cell_type": "code",
   "execution_count": 71,
   "metadata": {},
   "outputs": [
    {
     "name": "stdout",
     "output_type": "stream",
     "text": [
      "Сравнение ULTRA И SMART\n"
     ]
    },
    {
     "data": {
      "image/png": "[encoded data removed]",
      "text/plain": [
       "<Figure size 1512x432 with 2 Axes>"
      ]
     },
     "metadata": {
      "needs_background": "light"
     },
     "output_type": "display_data"
    }
   ],
   "source": [
    "print('Сравнение ULTRA И SMART')\n",
    "fig = plt.figure(figsize = (21,6))\n",
    "tariff_analysis[tariff_analysis['tariff'] == 'ultra'].boxplot('tariff_profit', ax = plt.subplot(1,2,1))\n",
    "tariff_analysis[tariff_analysis['tariff'] == 'smart'].boxplot('tariff_profit', ax = plt.subplot(1,2,2));"
   ]
  },
  {
   "cell_type": "code",
   "execution_count": 72,
   "metadata": {
    "scrolled": false
   },
   "outputs": [
    {
     "data": {
      "text/html": [
       "<div>\n",
       "<style scoped>\n",
       "    .dataframe tbody tr th:only-of-type {\n",
       "        vertical-align: middle;\n",
       "    }\n",
       "\n",
       "    .dataframe tbody tr th {\n",
       "        vertical-align: top;\n",
       "    }\n",
       "\n",
       "    .dataframe thead th {\n",
       "        text-align: right;\n",
       "    }\n",
       "</style>\n",
       "<table border=\"1\" class=\"dataframe\">\n",
       "  <thead>\n",
       "    <tr style=\"text-align: right;\">\n",
       "      <th></th>\n",
       "      <th>count</th>\n",
       "      <th>mean</th>\n",
       "      <th>std</th>\n",
       "      <th>min</th>\n",
       "      <th>1%</th>\n",
       "      <th>25%</th>\n",
       "      <th>50%</th>\n",
       "      <th>75%</th>\n",
       "      <th>99%</th>\n",
       "      <th>max</th>\n",
       "      <th>var</th>\n",
       "    </tr>\n",
       "    <tr>\n",
       "      <th>tariff</th>\n",
       "      <th></th>\n",
       "      <th></th>\n",
       "      <th></th>\n",
       "      <th></th>\n",
       "      <th></th>\n",
       "      <th></th>\n",
       "      <th></th>\n",
       "      <th></th>\n",
       "      <th></th>\n",
       "      <th></th>\n",
       "      <th></th>\n",
       "    </tr>\n",
       "  </thead>\n",
       "  <tbody>\n",
       "    <tr>\n",
       "      <th>smart</th>\n",
       "      <td>2230.000</td>\n",
       "      <td>1289.395</td>\n",
       "      <td>818.677</td>\n",
       "      <td>0.000</td>\n",
       "      <td>550.000</td>\n",
       "      <td>550.000</td>\n",
       "      <td>1021.000</td>\n",
       "      <td>1750.000</td>\n",
       "      <td>3773.710</td>\n",
       "      <td>6770.000</td>\n",
       "      <td>670231.423</td>\n",
       "    </tr>\n",
       "    <tr>\n",
       "      <th>ultra</th>\n",
       "      <td>986.000</td>\n",
       "      <td>2068.053</td>\n",
       "      <td>381.732</td>\n",
       "      <td>0.000</td>\n",
       "      <td>1950.000</td>\n",
       "      <td>1950.000</td>\n",
       "      <td>1950.000</td>\n",
       "      <td>1950.000</td>\n",
       "      <td>3772.500</td>\n",
       "      <td>4800.000</td>\n",
       "      <td>145719.453</td>\n",
       "    </tr>\n",
       "  </tbody>\n",
       "</table>\n",
       "</div>"
      ],
      "text/plain": [
       "          count     mean     std   min       1%      25%      50%      75%  \\\n",
       "tariff                                                                       \n",
       "smart  2230.000 1289.395 818.677 0.000  550.000  550.000 1021.000 1750.000   \n",
       "ultra   986.000 2068.053 381.732 0.000 1950.000 1950.000 1950.000 1950.000   \n",
       "\n",
       "            99%      max        var  \n",
       "tariff                               \n",
       "smart  3773.710 6770.000 670231.423  \n",
       "ultra  3772.500 4800.000 145719.453  "
      ]
     },
     "metadata": {},
     "output_type": "display_data"
    },
    {
     "data": {
      "image/png": "[encoded data removed]",
      "text/plain": [
       "<Figure size 720x432 with 1 Axes>"
      ]
     },
     "metadata": {
      "needs_background": "light"
     },
     "output_type": "display_data"
    }
   ],
   "source": [
    "hist_and_stat(tariff_analysis,'tariff_profit',550,1950)"
   ]
  },
  {
   "cell_type": "markdown",
   "metadata": {},
   "source": [
    "#### Вывод\n",
    "   - Пользователи тарифа ultra в среднем в месяц приносят на 60% больше прибыли, чем пользователи тарифа smart.\n",
    "   - На тарифе smart в среднем пользователи всегда доплачивают сверх ежемесячной платы.\n",
    "   - Пользователи тарифа ultra в ежемесячный платеж часто не укладываются из-за потраченных гигабайтов.\n",
    "   - Дисперсия и стандартное отклонение выше на тарифе smart"
   ]
  },
  {
   "cell_type": "markdown",
   "metadata": {},
   "source": [
    "####  Сравнение Москвы и других городов"
   ]
  },
  {
   "cell_type": "code",
   "execution_count": 73,
   "metadata": {
    "scrolled": true
   },
   "outputs": [
    {
     "name": "stdout",
     "output_type": "stream",
     "text": [
      "Сравнение Москва и другие города\n"
     ]
    },
    {
     "data": {
      "image/png": "[encoded data removed]",
      "text/plain": [
       "<Figure size 1512x432 with 2 Axes>"
      ]
     },
     "metadata": {
      "needs_background": "light"
     },
     "output_type": "display_data"
    }
   ],
   "source": [
    "print('Сравнение Москва и другие города')\n",
    "fig = plt.figure(figsize = (21,6))\n",
    "tariff_analysis[tariff_analysis['city'] == 'Москва'].boxplot('tariff_profit', ax = plt.subplot(1,2,1))\n",
    "tariff_analysis[tariff_analysis['city'] != 'Москва'].boxplot('tariff_profit', ax = plt.subplot(1,2,2));"
   ]
  },
  {
   "cell_type": "code",
   "execution_count": 74,
   "metadata": {},
   "outputs": [],
   "source": [
    "#функция, которая категоризирует все города по принципу Мсоква - не Москва\n",
    "def city_type(row):\n",
    "    city = row['city']\n",
    "    \n",
    "    \n",
    "    if city == 'Москва':\n",
    "        return 'Москва'\n",
    "    else:\n",
    "        return 'Другой'"
   ]
  },
  {
   "cell_type": "code",
   "execution_count": 75,
   "metadata": {},
   "outputs": [
    {
     "data": {
      "text/html": [
       "<div>\n",
       "<style scoped>\n",
       "    .dataframe tbody tr th:only-of-type {\n",
       "        vertical-align: middle;\n",
       "    }\n",
       "\n",
       "    .dataframe tbody tr th {\n",
       "        vertical-align: top;\n",
       "    }\n",
       "\n",
       "    .dataframe thead th {\n",
       "        text-align: right;\n",
       "    }\n",
       "</style>\n",
       "<table border=\"1\" class=\"dataframe\">\n",
       "  <thead>\n",
       "    <tr style=\"text-align: right;\">\n",
       "      <th></th>\n",
       "      <th>user_id</th>\n",
       "      <th>month</th>\n",
       "      <th>number_of_calls</th>\n",
       "      <th>duration_per_month</th>\n",
       "      <th>total_messages</th>\n",
       "      <th>gb_used_month</th>\n",
       "      <th>age</th>\n",
       "      <th>churn_date</th>\n",
       "      <th>city</th>\n",
       "      <th>first_name</th>\n",
       "      <th>last_name</th>\n",
       "      <th>reg_date</th>\n",
       "      <th>tariff</th>\n",
       "      <th>month_start</th>\n",
       "      <th>month_end</th>\n",
       "      <th>tariff_profit</th>\n",
       "      <th>city_type</th>\n",
       "    </tr>\n",
       "  </thead>\n",
       "  <tbody>\n",
       "    <tr>\n",
       "      <th>1993</th>\n",
       "      <td>1318</td>\n",
       "      <td>10.000</td>\n",
       "      <td>90.000</td>\n",
       "      <td>538.000</td>\n",
       "      <td>54.000</td>\n",
       "      <td>16.000</td>\n",
       "      <td>53</td>\n",
       "      <td>NaT</td>\n",
       "      <td>Курган</td>\n",
       "      <td>Марьяна</td>\n",
       "      <td>Анищенко</td>\n",
       "      <td>2018-03-22</td>\n",
       "      <td>ultra</td>\n",
       "      <td>3</td>\n",
       "      <td>NaN</td>\n",
       "      <td>1950.000</td>\n",
       "      <td>Другой</td>\n",
       "    </tr>\n",
       "    <tr>\n",
       "      <th>1362</th>\n",
       "      <td>1217</td>\n",
       "      <td>9.000</td>\n",
       "      <td>72.000</td>\n",
       "      <td>418.000</td>\n",
       "      <td>68.000</td>\n",
       "      <td>16.000</td>\n",
       "      <td>42</td>\n",
       "      <td>NaT</td>\n",
       "      <td>Ульяновск</td>\n",
       "      <td>Ермолай</td>\n",
       "      <td>Сазонов</td>\n",
       "      <td>2018-02-23</td>\n",
       "      <td>smart</td>\n",
       "      <td>2</td>\n",
       "      <td>NaN</td>\n",
       "      <td>804.000</td>\n",
       "      <td>Другой</td>\n",
       "    </tr>\n",
       "    <tr>\n",
       "      <th>1017</th>\n",
       "      <td>1164</td>\n",
       "      <td>10.000</td>\n",
       "      <td>46.000</td>\n",
       "      <td>353.000</td>\n",
       "      <td>35.000</td>\n",
       "      <td>12.000</td>\n",
       "      <td>49</td>\n",
       "      <td>NaT</td>\n",
       "      <td>Магнитогорск</td>\n",
       "      <td>Геральд</td>\n",
       "      <td>Лебедев</td>\n",
       "      <td>2018-04-03</td>\n",
       "      <td>smart</td>\n",
       "      <td>4</td>\n",
       "      <td>NaN</td>\n",
       "      <td>550.000</td>\n",
       "      <td>Другой</td>\n",
       "    </tr>\n",
       "    <tr>\n",
       "      <th>2909</th>\n",
       "      <td>1457</td>\n",
       "      <td>4.000</td>\n",
       "      <td>70.000</td>\n",
       "      <td>441.000</td>\n",
       "      <td>33.000</td>\n",
       "      <td>19.000</td>\n",
       "      <td>35</td>\n",
       "      <td>NaT</td>\n",
       "      <td>Саратов</td>\n",
       "      <td>Татьяна</td>\n",
       "      <td>Авчинникова</td>\n",
       "      <td>2018-03-14</td>\n",
       "      <td>smart</td>\n",
       "      <td>3</td>\n",
       "      <td>NaN</td>\n",
       "      <td>1350.000</td>\n",
       "      <td>Другой</td>\n",
       "    </tr>\n",
       "    <tr>\n",
       "      <th>2921</th>\n",
       "      <td>1458</td>\n",
       "      <td>6.000</td>\n",
       "      <td>100.000</td>\n",
       "      <td>781.000</td>\n",
       "      <td>4.000</td>\n",
       "      <td>12.000</td>\n",
       "      <td>36</td>\n",
       "      <td>NaT</td>\n",
       "      <td>Барнаул</td>\n",
       "      <td>Роберт</td>\n",
       "      <td>Азаров</td>\n",
       "      <td>2018-02-13</td>\n",
       "      <td>ultra</td>\n",
       "      <td>2</td>\n",
       "      <td>NaN</td>\n",
       "      <td>1950.000</td>\n",
       "      <td>Другой</td>\n",
       "    </tr>\n",
       "  </tbody>\n",
       "</table>\n",
       "</div>"
      ],
      "text/plain": [
       "      user_id  month  number_of_calls  duration_per_month  total_messages  \\\n",
       "1993     1318 10.000           90.000             538.000          54.000   \n",
       "1362     1217  9.000           72.000             418.000          68.000   \n",
       "1017     1164 10.000           46.000             353.000          35.000   \n",
       "2909     1457  4.000           70.000             441.000          33.000   \n",
       "2921     1458  6.000          100.000             781.000           4.000   \n",
       "\n",
       "      gb_used_month  age churn_date          city first_name    last_name  \\\n",
       "1993         16.000   53        NaT        Курган    Марьяна     Анищенко   \n",
       "1362         16.000   42        NaT     Ульяновск    Ермолай      Сазонов   \n",
       "1017         12.000   49        NaT  Магнитогорск    Геральд      Лебедев   \n",
       "2909         19.000   35        NaT       Саратов    Татьяна  Авчинникова   \n",
       "2921         12.000   36        NaT       Барнаул     Роберт       Азаров   \n",
       "\n",
       "       reg_date tariff  month_start  month_end  tariff_profit city_type  \n",
       "1993 2018-03-22  ultra            3        NaN       1950.000    Другой  \n",
       "1362 2018-02-23  smart            2        NaN        804.000    Другой  \n",
       "1017 2018-04-03  smart            4        NaN        550.000    Другой  \n",
       "2909 2018-03-14  smart            3        NaN       1350.000    Другой  \n",
       "2921 2018-02-13  ultra            2        NaN       1950.000    Другой  "
      ]
     },
     "execution_count": 75,
     "metadata": {},
     "output_type": "execute_result"
    }
   ],
   "source": [
    "tariff_analysis['city_type'] = tariff_analysis.apply(city_type, axis=1)\n",
    "tariff_analysis.sample(5)"
   ]
  },
  {
   "cell_type": "markdown",
   "metadata": {},
   "source": [
    "Посчитаем среднее количество, дисперсию и стандартное отклонение"
   ]
  },
  {
   "cell_type": "code",
   "execution_count": 76,
   "metadata": {
    "scrolled": true
   },
   "outputs": [
    {
     "data": {
      "text/html": [
       "<div>\n",
       "<style scoped>\n",
       "    .dataframe tbody tr th:only-of-type {\n",
       "        vertical-align: middle;\n",
       "    }\n",
       "\n",
       "    .dataframe tbody tr th {\n",
       "        vertical-align: top;\n",
       "    }\n",
       "\n",
       "    .dataframe thead th {\n",
       "        text-align: right;\n",
       "    }\n",
       "</style>\n",
       "<table border=\"1\" class=\"dataframe\">\n",
       "  <thead>\n",
       "    <tr style=\"text-align: right;\">\n",
       "      <th></th>\n",
       "      <th>count</th>\n",
       "      <th>mean</th>\n",
       "      <th>std</th>\n",
       "      <th>min</th>\n",
       "      <th>1%</th>\n",
       "      <th>25%</th>\n",
       "      <th>50%</th>\n",
       "      <th>75%</th>\n",
       "      <th>99%</th>\n",
       "      <th>max</th>\n",
       "      <th>var</th>\n",
       "    </tr>\n",
       "    <tr>\n",
       "      <th>city_type</th>\n",
       "      <th></th>\n",
       "      <th></th>\n",
       "      <th></th>\n",
       "      <th></th>\n",
       "      <th></th>\n",
       "      <th></th>\n",
       "      <th></th>\n",
       "      <th></th>\n",
       "      <th></th>\n",
       "      <th></th>\n",
       "      <th></th>\n",
       "    </tr>\n",
       "  </thead>\n",
       "  <tbody>\n",
       "    <tr>\n",
       "      <th>Другой</th>\n",
       "      <td>2605.000</td>\n",
       "      <td>1523.765</td>\n",
       "      <td>809.580</td>\n",
       "      <td>0.000</td>\n",
       "      <td>550.000</td>\n",
       "      <td>750.000</td>\n",
       "      <td>1580.000</td>\n",
       "      <td>1950.000</td>\n",
       "      <td>3898.800</td>\n",
       "      <td>6770.000</td>\n",
       "      <td>655419.892</td>\n",
       "    </tr>\n",
       "    <tr>\n",
       "      <th>Москва</th>\n",
       "      <td>611.000</td>\n",
       "      <td>1546.714</td>\n",
       "      <td>752.088</td>\n",
       "      <td>550.000</td>\n",
       "      <td>550.000</td>\n",
       "      <td>780.500</td>\n",
       "      <td>1750.000</td>\n",
       "      <td>1950.000</td>\n",
       "      <td>3375.000</td>\n",
       "      <td>5321.000</td>\n",
       "      <td>565636.467</td>\n",
       "    </tr>\n",
       "  </tbody>\n",
       "</table>\n",
       "</div>"
      ],
      "text/plain": [
       "             count     mean     std     min      1%     25%      50%      75%  \\\n",
       "city_type                                                                       \n",
       "Другой    2605.000 1523.765 809.580   0.000 550.000 750.000 1580.000 1950.000   \n",
       "Москва     611.000 1546.714 752.088 550.000 550.000 780.500 1750.000 1950.000   \n",
       "\n",
       "               99%      max        var  \n",
       "city_type                               \n",
       "Другой    3898.800 6770.000 655419.892  \n",
       "Москва    3375.000 5321.000 565636.467  "
      ]
     },
     "metadata": {},
     "output_type": "display_data"
    }
   ],
   "source": [
    "    cd = tariff_analysis.groupby(tariff_analysis.city_type)['tariff_profit']\n",
    "    cd_desc = cd.describe(percentiles = [.01,.25,.75,.99])\n",
    "    cd_desc['var']= [np.var(cd.get_group('Другой'), ddof=1), np.var(cd.get_group('Москва'), ddof=1)]\n",
    "    display(cd_desc)"
   ]
  },
  {
   "cell_type": "code",
   "execution_count": 77,
   "metadata": {},
   "outputs": [
    {
     "data": {
      "image/png": "[encoded data removed]",
      "text/plain": [
       "<Figure size 720x432 with 1 Axes>"
      ]
     },
     "metadata": {
      "needs_background": "light"
     },
     "output_type": "display_data"
    }
   ],
   "source": [
    "    Москва = tariff_analysis.query('city_type == \"Москва\"')['tariff_profit']\n",
    "    Другой = tariff_analysis.query('city_type == \"Другой\"')['tariff_profit']\n",
    "    plt.figure(figsize=(10,6))\n",
    "    \n",
    "    plt.hist(Другой, bins=50, color='yellow', edgecolor='grey', alpha=0.5,label = 'Другой', density = False)\n",
    "    plt.hist(Москва, bins=50, color='dodgerblue', edgecolor='grey', alpha=0.5, label = 'Москва', density = False)\n",
    "    \n",
    "    plt.axvline(cd_desc['mean'][1], color='orange', linestyle='dashed', linewidth=3, label='Среднее Другой: {:.2f}'.format(cd_desc['mean'][1]))\n",
    "    plt.axvline(cd_desc['mean'][0], color='blue', linestyle='dashed', linewidth=3, label='Среднее Москва: {:.2f}'.format(cd_desc['mean'][0]))\n",
    "    \n",
    "    plt.legend()\n",
    "    plt.title('Гистограмма {}'.format('tariff_profit'))\n",
    "    plt.show()"
   ]
  },
  {
   "cell_type": "markdown",
   "metadata": {},
   "source": [
    "#### Вывод\n",
    "\n",
    "   - Пользователи из Москвы и других городов в среднем в месяц приносят равную прибыль.\n",
    "   - Дисперсия и стандартное отклоеннеи выше у пользователей из Москвы\n"
   ]
  },
  {
   "cell_type": "markdown",
   "metadata": {},
   "source": [
    "### Проверьте гипотезы"
   ]
  },
  {
   "cell_type": "markdown",
   "metadata": {},
   "source": [
    "Проверим следующие гипотезы:\n",
    "\n",
    "   - средняя выручка пользователей тарифов «Ультра» и «Смарт» различаются;\n",
    "   - средняя выручка пользователей из Москвы отличается от выручки пользователей из других регионов."
   ]
  },
  {
   "cell_type": "markdown",
   "metadata": {},
   "source": [
    "Н0 - Средняя выручка пользователей тарифов «Ультра» и «Смарт» **равны**, т.е. средние значения равны.\n",
    "\n",
    "Н1 - Средняя выручка пользователей тарифов «Ультра» и «Смарт» **не равны**, т.е. средние значения не равны.\n",
    "\n",
    "Дисперсии выборок были расчитаны выше, они отличаются более чем на 5%"
   ]
  },
  {
   "cell_type": "code",
   "execution_count": 78,
   "metadata": {},
   "outputs": [
    {
     "name": "stdout",
     "output_type": "stream",
     "text": [
      "p-значение:  1.0060103384113545e-159\n",
      "Отвергаем нулевую гипотезу\n"
     ]
    }
   ],
   "source": [
    "sample_1 = tariff_analysis[tariff_analysis['tariff'] == 'ultra']['tariff_profit'] \n",
    "sample_2 = tariff_analysis[tariff_analysis['tariff'] == 'smart']['tariff_profit'] \n",
    "results = st.ttest_ind(sample_1, sample_2)\n",
    "alpha = 0.05\n",
    "\n",
    "print('p-значение: ', results.pvalue)\n",
    "if results.pvalue < alpha:\n",
    "    print('Отвергаем нулевую гипотезу')\n",
    "else:\n",
    "    print('Отвергнуть нулевую гипотезу нельзя')"
   ]
  },
  {
   "cell_type": "markdown",
   "metadata": {},
   "source": [
    "#### Вывод\n",
    "p-значение слишком мало, что дает нам возможность отвергнуть гипотезу об отсутствии различий между выручками на тарифах, то есть случайность результатов теста маловероятна"
   ]
  },
  {
   "cell_type": "markdown",
   "metadata": {},
   "source": [
    "Н0 - Средняя выручка пользователей из Москвы и других регионов **равны**, т.е. средние значения равны.\n",
    "\n",
    "Н1 - Средняя выручка пользователей из Москвы и других регионов **не равны**, т.е. средние значения не равны.\n",
    "\n",
    "Дисперсии выборок были расчитаны выше, они отличаются более чем на 5%"
   ]
  },
  {
   "cell_type": "code",
   "execution_count": 79,
   "metadata": {
    "scrolled": true
   },
   "outputs": [
    {
     "name": "stdout",
     "output_type": "stream",
     "text": [
      "p-значение:  0.5228938337114026\n",
      "Отвергнуть нулевую гипотезу нельзя\n"
     ]
    }
   ],
   "source": [
    "sample_1 = tariff_analysis[tariff_analysis['city'] == 'Москва']['tariff_profit'] \n",
    "sample_2 = tariff_analysis[tariff_analysis['city'] != 'Москва']['tariff_profit'] \n",
    "results = st.ttest_ind(sample_1, sample_2)\n",
    "alpha = 0.05\n",
    "\n",
    "print('p-значение: ', results.pvalue)\n",
    "if results.pvalue < alpha:\n",
    "    print('Отвергаем нулевую гипотезу')\n",
    "else:\n",
    "    print('Отвергнуть нулевую гипотезу нельзя')"
   ]
  },
  {
   "cell_type": "markdown",
   "metadata": {},
   "source": [
    "p-значение больше порогового, значит мы не сможем опровергнуть гипотезу о том, что средняя выручка пользователей из Москвы отличается от выручки пользователей из других регионов."
   ]
  },
  {
   "cell_type": "markdown",
   "metadata": {},
   "source": [
    "### Общий вывод"
   ]
  },
  {
   "cell_type": "markdown",
   "metadata": {},
   "source": [
    "Мы проанализировали поведение пользователей на двух тарифах федерального опреатора сотовой связи пришли к выводу, что:\n",
    "    \n",
    "    - Пользователи тарифа ultra в среднем в месяц приносят на 60% больше прибыли, чем пользователи тарифа smart.\n",
    "    - Однако пользователи этого тарифа никогда не превышают порог по использлванным минутам и сообщениям.\n",
    "    - Зато пользователи ultra регулярно тратят больше GB, чем заложено в ежемесячный тариф. \n",
    "    - На тарифе smart пользователи в среднем не укладываются в ежемесячный платеж переплачивая за каждую слугу - и звонки и смс и GB\n",
    "    - Пользователи из Москвы не приносят больше прибыли, чем пользователи из других говородов. Однако каждый москвич платит минимум по 550 р в месяц.\n",
    "\n",
    "**Какой тариф лучше?:**\n",
    "\n",
    "    - Среднее на пользователя в месяц нам показывает, что тариф Ultra приносит компании больше денег в пересчете на вложенные ресурсы. Т.е. предоставили услуг меньше, а получили больше.\n",
    "    - Однако тариф smart популярнее, больше пользователей используют именно его, общая выручка тарифа выше. \n",
    "    - Ultra может понравиться бизнесменам из-за дорогого, но широкого пакета звонков и смс. \n",
    "    \n",
    "**Рекомендации:**\n",
    "\n",
    "    - Уменьшить порог по минутам и сообщениям на ultra, а для smart увеличить\n",
    "    - увеличить порог по GB для ultra и smart\n",
    "    - Два пользователя расторгли договор меньше чем через месяц, надо проверить и получить обратную связь.\n",
    "    - В датасете `calls_df` Есть несколько пиков на 5, 10, 15 и 20 минутах, нужно уточнить, с чем связаны эти всплески\n",
    "    - Сделать рекламу ultra в сегменте vip и business\n",
    "    - Продвигать тариф smart средиобычных пользователей\n",
    "    "
   ]
  }
 ],
 "metadata": {
  "ExecuteTimeLog": [
   {
    "duration": 840,
    "start_time": "2022-05-10T15:51:29.656Z"
   },
   {
    "duration": 414,
    "start_time": "2022-05-10T15:51:36.263Z"
   },
   {
    "duration": 14,
    "start_time": "2022-05-10T15:52:04.201Z"
   },
   {
    "duration": 16,
    "start_time": "2022-05-10T15:52:18.022Z"
   },
   {
    "duration": 11,
    "start_time": "2022-05-10T15:53:02.465Z"
   },
   {
    "duration": 39,
    "start_time": "2022-05-10T15:53:10.399Z"
   },
   {
    "duration": 8,
    "start_time": "2022-05-10T15:53:25.249Z"
   },
   {
    "duration": 101,
    "start_time": "2022-05-10T15:53:31.974Z"
   },
   {
    "duration": 6,
    "start_time": "2022-05-10T15:54:33.520Z"
   },
   {
    "duration": 18,
    "start_time": "2022-05-10T15:54:33.719Z"
   },
   {
    "duration": 43,
    "start_time": "2022-05-10T15:54:33.903Z"
   },
   {
    "duration": 8,
    "start_time": "2022-05-10T15:55:12.424Z"
   },
   {
    "duration": 32,
    "start_time": "2022-05-10T15:55:19.014Z"
   },
   {
    "duration": 65,
    "start_time": "2022-05-10T15:55:25.342Z"
   },
   {
    "duration": 8,
    "start_time": "2022-05-10T15:56:11.684Z"
   },
   {
    "duration": 11,
    "start_time": "2022-05-10T15:56:18.423Z"
   },
   {
    "duration": 128,
    "start_time": "2022-05-10T15:58:50.206Z"
   },
   {
    "duration": 51,
    "start_time": "2022-05-10T15:59:41.993Z"
   },
   {
    "duration": 8,
    "start_time": "2022-05-10T15:59:48.108Z"
   },
   {
    "duration": 180,
    "start_time": "2022-05-10T15:59:55.228Z"
   },
   {
    "duration": 30,
    "start_time": "2022-05-10T16:00:21.089Z"
   },
   {
    "duration": 24,
    "start_time": "2022-05-10T16:00:23.925Z"
   },
   {
    "duration": 12,
    "start_time": "2022-05-10T16:00:29.651Z"
   },
   {
    "duration": 33,
    "start_time": "2022-05-10T16:00:35.944Z"
   },
   {
    "duration": 138,
    "start_time": "2022-05-10T16:00:42.459Z"
   },
   {
    "duration": 37,
    "start_time": "2022-05-10T16:00:59.661Z"
   },
   {
    "duration": 11,
    "start_time": "2022-05-10T16:01:12.960Z"
   },
   {
    "duration": 8,
    "start_time": "2022-05-10T16:01:17.814Z"
   },
   {
    "duration": 35,
    "start_time": "2022-05-10T16:01:23.748Z"
   },
   {
    "duration": 16,
    "start_time": "2022-05-10T16:01:28.961Z"
   },
   {
    "duration": 15,
    "start_time": "2022-05-10T16:10:32.514Z"
   },
   {
    "duration": 28,
    "start_time": "2022-05-10T16:10:53.943Z"
   },
   {
    "duration": 13,
    "start_time": "2022-05-10T16:11:05.511Z"
   },
   {
    "duration": 678,
    "start_time": "2022-05-10T16:13:51.272Z"
   },
   {
    "duration": 427,
    "start_time": "2022-05-10T16:13:51.953Z"
   },
   {
    "duration": 12,
    "start_time": "2022-05-10T16:13:52.382Z"
   },
   {
    "duration": 11,
    "start_time": "2022-05-10T16:13:52.396Z"
   },
   {
    "duration": 12,
    "start_time": "2022-05-10T16:13:52.410Z"
   },
   {
    "duration": 5,
    "start_time": "2022-05-10T16:13:52.423Z"
   },
   {
    "duration": 8,
    "start_time": "2022-05-10T16:13:52.429Z"
   },
   {
    "duration": 44,
    "start_time": "2022-05-10T16:13:52.439Z"
   },
   {
    "duration": 27,
    "start_time": "2022-05-10T16:13:52.485Z"
   },
   {
    "duration": 129,
    "start_time": "2022-05-10T16:13:52.513Z"
   },
   {
    "duration": 12,
    "start_time": "2022-05-10T16:13:52.644Z"
   },
   {
    "duration": 35,
    "start_time": "2022-05-10T16:13:52.658Z"
   },
   {
    "duration": 12,
    "start_time": "2022-05-10T16:13:52.695Z"
   },
   {
    "duration": 75,
    "start_time": "2022-05-10T16:13:52.710Z"
   },
   {
    "duration": 8,
    "start_time": "2022-05-10T16:13:52.787Z"
   },
   {
    "duration": 20,
    "start_time": "2022-05-10T16:13:52.796Z"
   },
   {
    "duration": 50,
    "start_time": "2022-05-10T16:13:52.817Z"
   },
   {
    "duration": 61,
    "start_time": "2022-05-10T16:13:52.870Z"
   },
   {
    "duration": 17,
    "start_time": "2022-05-10T16:13:52.932Z"
   },
   {
    "duration": 18,
    "start_time": "2022-05-10T16:13:52.951Z"
   },
   {
    "duration": 651,
    "start_time": "2022-05-10T17:13:25.569Z"
   },
   {
    "duration": 440,
    "start_time": "2022-05-10T17:13:26.222Z"
   },
   {
    "duration": 18,
    "start_time": "2022-05-10T17:13:26.668Z"
   },
   {
    "duration": 14,
    "start_time": "2022-05-10T17:13:26.688Z"
   },
   {
    "duration": 25,
    "start_time": "2022-05-10T17:13:26.704Z"
   },
   {
    "duration": 7,
    "start_time": "2022-05-10T17:13:26.731Z"
   },
   {
    "duration": 11,
    "start_time": "2022-05-10T17:13:26.752Z"
   },
   {
    "duration": 29,
    "start_time": "2022-05-10T17:13:26.764Z"
   },
   {
    "duration": 33,
    "start_time": "2022-05-10T17:13:26.795Z"
   },
   {
    "duration": 107,
    "start_time": "2022-05-10T17:13:26.829Z"
   },
   {
    "duration": 18,
    "start_time": "2022-05-10T17:13:26.937Z"
   },
   {
    "duration": 28,
    "start_time": "2022-05-10T17:13:26.957Z"
   },
   {
    "duration": 14,
    "start_time": "2022-05-10T17:13:26.987Z"
   },
   {
    "duration": 60,
    "start_time": "2022-05-10T17:13:27.003Z"
   },
   {
    "duration": 8,
    "start_time": "2022-05-10T17:13:27.065Z"
   },
   {
    "duration": 31,
    "start_time": "2022-05-10T17:13:27.074Z"
   },
   {
    "duration": 23,
    "start_time": "2022-05-10T17:13:27.106Z"
   },
   {
    "duration": 81,
    "start_time": "2022-05-10T17:13:27.130Z"
   },
   {
    "duration": 8,
    "start_time": "2022-05-10T17:13:27.212Z"
   },
   {
    "duration": 17,
    "start_time": "2022-05-10T17:13:27.221Z"
   },
   {
    "duration": 40,
    "start_time": "2022-05-10T17:13:27.239Z"
   },
   {
    "duration": 53,
    "start_time": "2022-05-10T17:13:27.282Z"
   },
   {
    "duration": 13,
    "start_time": "2022-05-10T17:13:27.337Z"
   },
   {
    "duration": 174,
    "start_time": "2022-05-10T17:13:27.351Z"
   },
   {
    "duration": 46,
    "start_time": "2022-05-10T17:13:27.527Z"
   },
   {
    "duration": 9,
    "start_time": "2022-05-10T17:13:27.575Z"
   },
   {
    "duration": 33,
    "start_time": "2022-05-10T17:13:27.588Z"
   },
   {
    "duration": 163,
    "start_time": "2022-05-10T17:13:27.622Z"
   },
   {
    "duration": 34,
    "start_time": "2022-05-10T17:13:27.787Z"
   },
   {
    "duration": 28,
    "start_time": "2022-05-10T17:13:27.823Z"
   },
   {
    "duration": 12,
    "start_time": "2022-05-10T17:13:27.854Z"
   },
   {
    "duration": 31,
    "start_time": "2022-05-10T17:13:27.867Z"
   },
   {
    "duration": 15,
    "start_time": "2022-05-10T17:13:27.900Z"
   },
   {
    "duration": 222,
    "start_time": "2022-05-10T18:32:59.425Z"
   },
   {
    "duration": 213,
    "start_time": "2022-05-10T18:33:09.092Z"
   },
   {
    "duration": 42,
    "start_time": "2022-05-10T18:34:57.123Z"
   },
   {
    "duration": 24,
    "start_time": "2022-05-10T18:35:05.971Z"
   },
   {
    "duration": 230,
    "start_time": "2022-05-10T18:35:45.395Z"
   },
   {
    "duration": 176,
    "start_time": "2022-05-10T18:36:39.546Z"
   },
   {
    "duration": 18,
    "start_time": "2022-05-10T18:46:02.403Z"
   },
   {
    "duration": 93,
    "start_time": "2022-05-10T18:46:42.613Z"
   },
   {
    "duration": 3,
    "start_time": "2022-05-10T18:46:50.787Z"
   },
   {
    "duration": 21,
    "start_time": "2022-05-10T18:46:55.732Z"
   },
   {
    "duration": 13,
    "start_time": "2022-05-10T18:49:36.502Z"
   },
   {
    "duration": 13,
    "start_time": "2022-05-10T18:49:43.761Z"
   },
   {
    "duration": 46,
    "start_time": "2022-05-10T19:03:03.434Z"
   },
   {
    "duration": 220,
    "start_time": "2022-05-10T19:16:07.389Z"
   },
   {
    "duration": 5,
    "start_time": "2022-05-10T19:16:29.953Z"
   },
   {
    "duration": 6,
    "start_time": "2022-05-10T19:16:51.169Z"
   },
   {
    "duration": 7,
    "start_time": "2022-05-10T19:17:06.261Z"
   },
   {
    "duration": 3,
    "start_time": "2022-05-10T19:18:13.783Z"
   },
   {
    "duration": 7,
    "start_time": "2022-05-10T19:18:14.222Z"
   },
   {
    "duration": 4,
    "start_time": "2022-05-10T19:18:48.468Z"
   },
   {
    "duration": 11,
    "start_time": "2022-05-10T19:18:48.802Z"
   },
   {
    "duration": 3,
    "start_time": "2022-05-10T19:18:57.030Z"
   },
   {
    "duration": 3397,
    "start_time": "2022-05-10T19:18:57.230Z"
   },
   {
    "duration": 4,
    "start_time": "2022-05-10T19:20:07.471Z"
   },
   {
    "duration": 3114,
    "start_time": "2022-05-10T19:20:07.788Z"
   },
   {
    "duration": 4,
    "start_time": "2022-05-10T19:20:15.967Z"
   },
   {
    "duration": 3177,
    "start_time": "2022-05-10T19:20:16.208Z"
   },
   {
    "duration": 3,
    "start_time": "2022-05-10T19:26:07.677Z"
   },
   {
    "duration": 368,
    "start_time": "2022-05-10T19:26:09.895Z"
   },
   {
    "duration": 119,
    "start_time": "2022-05-10T19:33:48.206Z"
   },
   {
    "duration": 4,
    "start_time": "2022-05-10T19:34:05.140Z"
   },
   {
    "duration": 3,
    "start_time": "2022-05-10T19:34:08.099Z"
   },
   {
    "duration": 4,
    "start_time": "2022-05-10T19:37:49.087Z"
   },
   {
    "duration": 4,
    "start_time": "2022-05-10T19:37:49.783Z"
   },
   {
    "duration": 9,
    "start_time": "2022-05-10T19:38:08.222Z"
   },
   {
    "duration": 6,
    "start_time": "2022-05-10T19:38:20.449Z"
   },
   {
    "duration": 4,
    "start_time": "2022-05-10T19:38:21.123Z"
   },
   {
    "duration": 13,
    "start_time": "2022-05-10T19:38:22.649Z"
   },
   {
    "duration": 5,
    "start_time": "2022-05-10T19:39:14.171Z"
   },
   {
    "duration": 4,
    "start_time": "2022-05-10T19:39:14.644Z"
   },
   {
    "duration": 8,
    "start_time": "2022-05-10T19:39:15.064Z"
   },
   {
    "duration": 4,
    "start_time": "2022-05-10T19:40:03.891Z"
   },
   {
    "duration": 4,
    "start_time": "2022-05-10T19:40:04.394Z"
   },
   {
    "duration": 8,
    "start_time": "2022-05-10T19:40:04.812Z"
   },
   {
    "duration": 5,
    "start_time": "2022-05-10T19:40:26.609Z"
   },
   {
    "duration": 4,
    "start_time": "2022-05-10T19:40:26.869Z"
   },
   {
    "duration": 17,
    "start_time": "2022-05-10T19:40:27.199Z"
   },
   {
    "duration": 6,
    "start_time": "2022-05-10T19:45:09.863Z"
   },
   {
    "duration": 4,
    "start_time": "2022-05-10T19:45:10.237Z"
   },
   {
    "duration": 17,
    "start_time": "2022-05-10T19:45:10.958Z"
   },
   {
    "duration": 5,
    "start_time": "2022-05-10T19:46:20.302Z"
   },
   {
    "duration": 4,
    "start_time": "2022-05-10T19:46:20.582Z"
   },
   {
    "duration": 20,
    "start_time": "2022-05-10T19:46:20.837Z"
   },
   {
    "duration": 5,
    "start_time": "2022-05-10T19:50:19.125Z"
   },
   {
    "duration": 18,
    "start_time": "2022-05-10T19:50:19.377Z"
   },
   {
    "duration": 5,
    "start_time": "2022-05-10T19:50:26.529Z"
   },
   {
    "duration": 4,
    "start_time": "2022-05-10T19:50:26.754Z"
   },
   {
    "duration": 10,
    "start_time": "2022-05-10T19:50:29.274Z"
   },
   {
    "duration": 5,
    "start_time": "2022-05-10T19:50:40.860Z"
   },
   {
    "duration": 3,
    "start_time": "2022-05-10T19:50:41.364Z"
   },
   {
    "duration": 3,
    "start_time": "2022-05-10T19:50:43.766Z"
   },
   {
    "duration": 5,
    "start_time": "2022-05-10T19:51:14.369Z"
   },
   {
    "duration": 4,
    "start_time": "2022-05-10T19:51:15.440Z"
   },
   {
    "duration": 18,
    "start_time": "2022-05-10T19:51:17.757Z"
   },
   {
    "duration": 5,
    "start_time": "2022-05-10T19:52:56.055Z"
   },
   {
    "duration": 4,
    "start_time": "2022-05-10T19:52:56.651Z"
   },
   {
    "duration": 13,
    "start_time": "2022-05-10T19:52:58.748Z"
   },
   {
    "duration": 5,
    "start_time": "2022-05-10T19:53:15.500Z"
   },
   {
    "duration": 6,
    "start_time": "2022-05-10T19:53:22.246Z"
   },
   {
    "duration": 3,
    "start_time": "2022-05-10T19:53:22.709Z"
   },
   {
    "duration": 19,
    "start_time": "2022-05-10T19:53:25.132Z"
   },
   {
    "duration": 4,
    "start_time": "2022-05-10T19:54:08.487Z"
   },
   {
    "duration": 4,
    "start_time": "2022-05-10T19:54:08.668Z"
   },
   {
    "duration": 66,
    "start_time": "2022-05-10T19:54:11.029Z"
   },
   {
    "duration": 5,
    "start_time": "2022-05-10T19:57:23.863Z"
   },
   {
    "duration": 5,
    "start_time": "2022-05-10T19:57:24.072Z"
   },
   {
    "duration": 23,
    "start_time": "2022-05-10T19:57:26.527Z"
   },
   {
    "duration": 7,
    "start_time": "2022-05-10T19:58:13.714Z"
   },
   {
    "duration": 4,
    "start_time": "2022-05-10T19:58:16.241Z"
   },
   {
    "duration": 19,
    "start_time": "2022-05-10T19:58:18.458Z"
   },
   {
    "duration": 8,
    "start_time": "2022-05-10T19:58:31.909Z"
   },
   {
    "duration": 4,
    "start_time": "2022-05-10T19:58:33.903Z"
   },
   {
    "duration": 19,
    "start_time": "2022-05-10T19:58:36.080Z"
   },
   {
    "duration": 5,
    "start_time": "2022-05-10T20:00:35.685Z"
   },
   {
    "duration": 3,
    "start_time": "2022-05-10T20:00:36.220Z"
   },
   {
    "duration": 18,
    "start_time": "2022-05-10T20:00:39.765Z"
   },
   {
    "duration": 12,
    "start_time": "2022-05-10T20:00:43.323Z"
   },
   {
    "duration": 5,
    "start_time": "2022-05-10T20:01:45.252Z"
   },
   {
    "duration": 6,
    "start_time": "2022-05-10T20:01:45.670Z"
   },
   {
    "duration": 4,
    "start_time": "2022-05-10T20:04:55.810Z"
   },
   {
    "duration": 4,
    "start_time": "2022-05-10T20:04:55.988Z"
   },
   {
    "duration": 3,
    "start_time": "2022-05-10T20:04:56.680Z"
   },
   {
    "duration": 17,
    "start_time": "2022-05-10T20:05:03.062Z"
   },
   {
    "duration": 54,
    "start_time": "2022-05-10T20:24:16.869Z"
   },
   {
    "duration": 986,
    "start_time": "2022-05-10T20:24:25.450Z"
   },
   {
    "duration": 356,
    "start_time": "2022-05-10T20:24:26.440Z"
   },
   {
    "duration": 3,
    "start_time": "2022-05-10T20:24:30.074Z"
   },
   {
    "duration": 18,
    "start_time": "2022-05-10T20:24:31.707Z"
   },
   {
    "duration": 4,
    "start_time": "2022-05-10T20:33:05.409Z"
   },
   {
    "duration": 3,
    "start_time": "2022-05-10T20:33:07.964Z"
   },
   {
    "duration": 3,
    "start_time": "2022-05-10T20:33:08.289Z"
   },
   {
    "duration": 35,
    "start_time": "2022-05-10T20:33:11.078Z"
   },
   {
    "duration": 4,
    "start_time": "2022-05-10T20:33:34.267Z"
   },
   {
    "duration": 2,
    "start_time": "2022-05-10T20:33:34.551Z"
   },
   {
    "duration": 19,
    "start_time": "2022-05-10T20:33:35.458Z"
   },
   {
    "duration": 117,
    "start_time": "2022-05-10T20:33:52.321Z"
   },
   {
    "duration": 4,
    "start_time": "2022-05-10T20:35:34.163Z"
   },
   {
    "duration": 3,
    "start_time": "2022-05-10T20:35:34.578Z"
   },
   {
    "duration": 3,
    "start_time": "2022-05-10T20:35:36.545Z"
   },
   {
    "duration": 21,
    "start_time": "2022-05-10T20:35:40.451Z"
   },
   {
    "duration": 5,
    "start_time": "2022-05-10T20:37:08.175Z"
   },
   {
    "duration": 3,
    "start_time": "2022-05-10T20:37:10.261Z"
   },
   {
    "duration": 3,
    "start_time": "2022-05-10T20:37:10.433Z"
   },
   {
    "duration": 5,
    "start_time": "2022-05-10T20:37:34.931Z"
   },
   {
    "duration": 3,
    "start_time": "2022-05-10T20:37:35.785Z"
   },
   {
    "duration": 3,
    "start_time": "2022-05-10T20:37:36.354Z"
   },
   {
    "duration": 5,
    "start_time": "2022-05-10T20:38:43.398Z"
   },
   {
    "duration": 3,
    "start_time": "2022-05-10T20:38:43.731Z"
   },
   {
    "duration": 17,
    "start_time": "2022-05-10T20:38:44.224Z"
   },
   {
    "duration": 4,
    "start_time": "2022-05-10T20:39:40.164Z"
   },
   {
    "duration": 6,
    "start_time": "2022-05-10T20:39:40.648Z"
   },
   {
    "duration": 3,
    "start_time": "2022-05-10T20:39:41.167Z"
   },
   {
    "duration": 25,
    "start_time": "2022-05-10T20:39:49.662Z"
   },
   {
    "duration": 5,
    "start_time": "2022-05-10T20:41:18.986Z"
   },
   {
    "duration": 3,
    "start_time": "2022-05-10T20:41:19.478Z"
   },
   {
    "duration": 3,
    "start_time": "2022-05-10T20:41:19.822Z"
   },
   {
    "duration": 4,
    "start_time": "2022-05-10T20:41:40.516Z"
   },
   {
    "duration": 3,
    "start_time": "2022-05-10T20:41:40.823Z"
   },
   {
    "duration": 3,
    "start_time": "2022-05-10T20:41:41.412Z"
   },
   {
    "duration": 628,
    "start_time": "2022-05-10T20:42:38.438Z"
   },
   {
    "duration": 336,
    "start_time": "2022-05-10T20:42:39.068Z"
   },
   {
    "duration": 4,
    "start_time": "2022-05-10T20:42:39.943Z"
   },
   {
    "duration": 3,
    "start_time": "2022-05-10T20:42:40.815Z"
   },
   {
    "duration": 3,
    "start_time": "2022-05-10T20:42:41.226Z"
   },
   {
    "duration": 4,
    "start_time": "2022-05-10T21:41:57.160Z"
   },
   {
    "duration": 125,
    "start_time": "2022-05-10T21:41:57.784Z"
   },
   {
    "duration": 4,
    "start_time": "2022-05-10T21:41:59.447Z"
   },
   {
    "duration": 8,
    "start_time": "2022-05-10T21:42:27.896Z"
   },
   {
    "duration": 5,
    "start_time": "2022-05-10T21:42:28.095Z"
   },
   {
    "duration": 3,
    "start_time": "2022-05-10T21:42:29.127Z"
   },
   {
    "duration": 657,
    "start_time": "2022-05-10T21:42:55.016Z"
   },
   {
    "duration": 364,
    "start_time": "2022-05-10T21:42:55.675Z"
   },
   {
    "duration": 4,
    "start_time": "2022-05-10T21:42:57.606Z"
   },
   {
    "duration": 5,
    "start_time": "2022-05-10T21:42:59.868Z"
   },
   {
    "duration": 3,
    "start_time": "2022-05-10T21:43:00.225Z"
   },
   {
    "duration": 4,
    "start_time": "2022-05-10T21:45:15.650Z"
   },
   {
    "duration": 4,
    "start_time": "2022-05-10T21:45:16.011Z"
   },
   {
    "duration": 3,
    "start_time": "2022-05-10T21:45:16.432Z"
   },
   {
    "duration": 7,
    "start_time": "2022-05-10T21:47:43.048Z"
   },
   {
    "duration": 4,
    "start_time": "2022-05-10T21:47:43.266Z"
   },
   {
    "duration": 4,
    "start_time": "2022-05-10T21:47:43.521Z"
   },
   {
    "duration": 3,
    "start_time": "2022-05-10T21:47:44.098Z"
   },
   {
    "duration": 70,
    "start_time": "2022-05-10T21:47:51.017Z"
   },
   {
    "duration": 118,
    "start_time": "2022-05-10T21:48:01.706Z"
   },
   {
    "duration": 2,
    "start_time": "2022-05-10T21:48:02.131Z"
   },
   {
    "duration": 4,
    "start_time": "2022-05-10T21:48:29.674Z"
   },
   {
    "duration": 3,
    "start_time": "2022-05-10T21:48:31.044Z"
   },
   {
    "duration": 4,
    "start_time": "2022-05-10T21:48:48.851Z"
   },
   {
    "duration": 3,
    "start_time": "2022-05-10T21:48:49.042Z"
   },
   {
    "duration": 3,
    "start_time": "2022-05-10T21:48:49.269Z"
   },
   {
    "duration": 11,
    "start_time": "2022-05-10T21:48:49.810Z"
   },
   {
    "duration": 4,
    "start_time": "2022-05-10T21:49:09.235Z"
   },
   {
    "duration": 3,
    "start_time": "2022-05-10T21:49:09.454Z"
   },
   {
    "duration": 4,
    "start_time": "2022-05-10T21:49:09.666Z"
   },
   {
    "duration": 6,
    "start_time": "2022-05-10T21:49:10.562Z"
   },
   {
    "duration": 3,
    "start_time": "2022-05-10T21:49:13.524Z"
   },
   {
    "duration": 7,
    "start_time": "2022-05-10T21:49:38.274Z"
   },
   {
    "duration": 6,
    "start_time": "2022-05-10T21:49:38.539Z"
   },
   {
    "duration": 3,
    "start_time": "2022-05-10T21:50:25.589Z"
   },
   {
    "duration": 2,
    "start_time": "2022-05-10T21:50:25.835Z"
   },
   {
    "duration": 3,
    "start_time": "2022-05-10T21:50:26.269Z"
   },
   {
    "duration": 3,
    "start_time": "2022-05-10T21:50:27.431Z"
   },
   {
    "duration": 9,
    "start_time": "2022-05-10T21:50:35.284Z"
   },
   {
    "duration": 3,
    "start_time": "2022-05-10T21:52:10.295Z"
   },
   {
    "duration": 2,
    "start_time": "2022-05-10T21:52:12.709Z"
   },
   {
    "duration": 2,
    "start_time": "2022-05-10T21:53:11.159Z"
   },
   {
    "duration": 3,
    "start_time": "2022-05-10T21:53:11.412Z"
   },
   {
    "duration": 3,
    "start_time": "2022-05-10T21:53:11.971Z"
   },
   {
    "duration": 3,
    "start_time": "2022-05-10T21:53:12.831Z"
   },
   {
    "duration": 3,
    "start_time": "2022-05-10T21:53:25.711Z"
   },
   {
    "duration": 3,
    "start_time": "2022-05-10T21:53:25.917Z"
   },
   {
    "duration": 3,
    "start_time": "2022-05-10T21:53:26.133Z"
   },
   {
    "duration": 3,
    "start_time": "2022-05-10T21:53:27.038Z"
   },
   {
    "duration": 3,
    "start_time": "2022-05-10T21:53:30.153Z"
   },
   {
    "duration": 3,
    "start_time": "2022-05-10T21:58:29.964Z"
   },
   {
    "duration": 3,
    "start_time": "2022-05-10T21:58:49.555Z"
   },
   {
    "duration": 15,
    "start_time": "2022-05-10T21:58:49.819Z"
   },
   {
    "duration": 3,
    "start_time": "2022-05-10T21:59:21.281Z"
   },
   {
    "duration": 3,
    "start_time": "2022-05-10T21:59:21.504Z"
   },
   {
    "duration": 3,
    "start_time": "2022-05-10T22:00:39.921Z"
   },
   {
    "duration": 3,
    "start_time": "2022-05-10T22:00:40.251Z"
   },
   {
    "duration": 4,
    "start_time": "2022-05-10T22:01:18.129Z"
   },
   {
    "duration": 8,
    "start_time": "2022-05-10T22:01:18.358Z"
   },
   {
    "duration": 4,
    "start_time": "2022-05-10T22:01:40.965Z"
   },
   {
    "duration": 3,
    "start_time": "2022-05-10T22:01:41.164Z"
   },
   {
    "duration": 3,
    "start_time": "2022-05-10T22:02:40.135Z"
   },
   {
    "duration": 2,
    "start_time": "2022-05-10T22:02:40.484Z"
   },
   {
    "duration": 3,
    "start_time": "2022-05-10T22:02:51.346Z"
   },
   {
    "duration": 3,
    "start_time": "2022-05-10T22:02:51.566Z"
   },
   {
    "duration": 3,
    "start_time": "2022-05-10T22:03:27.656Z"
   },
   {
    "duration": 3,
    "start_time": "2022-05-10T22:03:28.031Z"
   },
   {
    "duration": 7,
    "start_time": "2022-05-10T22:03:28.441Z"
   },
   {
    "duration": 4,
    "start_time": "2022-05-10T22:04:32.569Z"
   },
   {
    "duration": 3,
    "start_time": "2022-05-10T22:04:32.816Z"
   },
   {
    "duration": 3,
    "start_time": "2022-05-10T22:05:20.958Z"
   },
   {
    "duration": 125,
    "start_time": "2022-05-10T22:05:46.425Z"
   },
   {
    "duration": 3,
    "start_time": "2022-05-10T22:05:51.258Z"
   },
   {
    "duration": 3,
    "start_time": "2022-05-10T22:05:51.635Z"
   },
   {
    "duration": 4,
    "start_time": "2022-05-10T22:07:05.353Z"
   },
   {
    "duration": 7,
    "start_time": "2022-05-10T22:07:05.553Z"
   },
   {
    "duration": 4,
    "start_time": "2022-05-10T22:07:53.964Z"
   },
   {
    "duration": 3,
    "start_time": "2022-05-10T22:07:54.210Z"
   },
   {
    "duration": 115,
    "start_time": "2022-05-10T22:10:05.190Z"
   },
   {
    "duration": 4,
    "start_time": "2022-05-10T22:10:11.197Z"
   },
   {
    "duration": 5,
    "start_time": "2022-05-10T22:10:11.877Z"
   },
   {
    "duration": 133,
    "start_time": "2022-05-10T22:13:03.791Z"
   },
   {
    "duration": 5,
    "start_time": "2022-05-10T22:13:21.199Z"
   },
   {
    "duration": 16,
    "start_time": "2022-05-10T22:13:21.854Z"
   },
   {
    "duration": 16,
    "start_time": "2022-05-10T22:13:32.607Z"
   },
   {
    "duration": 134,
    "start_time": "2022-05-10T22:13:41.929Z"
   },
   {
    "duration": 11,
    "start_time": "2022-05-10T22:13:55.214Z"
   },
   {
    "duration": 7,
    "start_time": "2022-05-10T22:14:03.350Z"
   },
   {
    "duration": 8,
    "start_time": "2022-05-10T22:14:16.153Z"
   },
   {
    "duration": 3,
    "start_time": "2022-05-10T22:14:22.295Z"
   },
   {
    "duration": 3,
    "start_time": "2022-05-10T22:14:33.231Z"
   },
   {
    "duration": 3,
    "start_time": "2022-05-10T22:14:33.524Z"
   },
   {
    "duration": 10,
    "start_time": "2022-05-10T22:14:34.761Z"
   },
   {
    "duration": 7,
    "start_time": "2022-05-10T22:14:38.906Z"
   },
   {
    "duration": 4,
    "start_time": "2022-05-10T22:15:16.178Z"
   },
   {
    "duration": 10,
    "start_time": "2022-05-10T22:15:16.463Z"
   },
   {
    "duration": 4,
    "start_time": "2022-05-10T22:15:51.190Z"
   },
   {
    "duration": 10,
    "start_time": "2022-05-10T22:15:51.954Z"
   },
   {
    "duration": 3,
    "start_time": "2022-05-10T22:17:52.709Z"
   },
   {
    "duration": 3,
    "start_time": "2022-05-10T22:17:53.041Z"
   },
   {
    "duration": 4,
    "start_time": "2022-05-10T22:17:53.296Z"
   },
   {
    "duration": 3,
    "start_time": "2022-05-10T22:18:16.061Z"
   },
   {
    "duration": 17,
    "start_time": "2022-05-10T22:18:25.609Z"
   },
   {
    "duration": 4,
    "start_time": "2022-05-10T22:24:54.294Z"
   },
   {
    "duration": 3,
    "start_time": "2022-05-10T22:24:54.543Z"
   },
   {
    "duration": 3,
    "start_time": "2022-05-10T22:24:54.978Z"
   },
   {
    "duration": 3,
    "start_time": "2022-05-10T22:24:57.210Z"
   },
   {
    "duration": 10,
    "start_time": "2022-05-10T22:27:32.809Z"
   },
   {
    "duration": 54,
    "start_time": "2022-05-10T22:36:30.530Z"
   },
   {
    "duration": 11,
    "start_time": "2022-05-10T22:36:30.888Z"
   },
   {
    "duration": 128,
    "start_time": "2022-05-10T22:36:31.080Z"
   },
   {
    "duration": 29,
    "start_time": "2022-05-10T22:36:31.774Z"
   },
   {
    "duration": 7,
    "start_time": "2022-05-10T22:36:31.983Z"
   },
   {
    "duration": 25,
    "start_time": "2022-05-10T22:36:32.151Z"
   },
   {
    "duration": 148,
    "start_time": "2022-05-10T22:36:32.349Z"
   },
   {
    "duration": 34,
    "start_time": "2022-05-10T22:36:32.729Z"
   },
   {
    "duration": 10,
    "start_time": "2022-05-10T22:36:33.175Z"
   },
   {
    "duration": 8,
    "start_time": "2022-05-10T22:36:33.407Z"
   },
   {
    "duration": 30,
    "start_time": "2022-05-10T22:36:33.574Z"
   },
   {
    "duration": 12,
    "start_time": "2022-05-10T22:36:34.207Z"
   },
   {
    "duration": 14,
    "start_time": "2022-05-10T22:36:34.471Z"
   },
   {
    "duration": 38,
    "start_time": "2022-05-10T22:36:35.064Z"
   },
   {
    "duration": 8,
    "start_time": "2022-05-10T22:36:36.039Z"
   },
   {
    "duration": 1948,
    "start_time": "2022-05-10T22:46:35.721Z"
   },
   {
    "duration": 1964,
    "start_time": "2022-05-10T22:46:56.203Z"
   },
   {
    "duration": 126,
    "start_time": "2022-05-10T22:47:26.266Z"
   },
   {
    "duration": 1951,
    "start_time": "2022-05-10T22:47:33.331Z"
   },
   {
    "duration": 1995,
    "start_time": "2022-05-10T22:47:55.172Z"
   },
   {
    "duration": 8,
    "start_time": "2022-05-10T22:48:05.870Z"
   },
   {
    "duration": 8,
    "start_time": "2022-05-10T22:48:13.273Z"
   },
   {
    "duration": 6,
    "start_time": "2022-05-10T22:48:17.787Z"
   },
   {
    "duration": 6,
    "start_time": "2022-05-10T22:48:25.826Z"
   },
   {
    "duration": 0,
    "start_time": "2022-05-10T22:48:25.833Z"
   },
   {
    "duration": 26,
    "start_time": "2022-05-10T22:48:29.109Z"
   },
   {
    "duration": 12,
    "start_time": "2022-05-10T22:48:30.338Z"
   },
   {
    "duration": 9,
    "start_time": "2022-05-10T22:48:30.618Z"
   },
   {
    "duration": 727,
    "start_time": "2022-05-10T22:48:44.101Z"
   },
   {
    "duration": 361,
    "start_time": "2022-05-10T22:48:44.829Z"
   },
   {
    "duration": 57,
    "start_time": "2022-05-10T22:48:53.293Z"
   },
   {
    "duration": 12,
    "start_time": "2022-05-10T22:48:53.495Z"
   },
   {
    "duration": 120,
    "start_time": "2022-05-10T22:48:53.666Z"
   },
   {
    "duration": 30,
    "start_time": "2022-05-10T22:48:55.364Z"
   },
   {
    "duration": 8,
    "start_time": "2022-05-10T22:48:55.582Z"
   },
   {
    "duration": 25,
    "start_time": "2022-05-10T22:48:55.770Z"
   },
   {
    "duration": 144,
    "start_time": "2022-05-10T22:48:56.985Z"
   },
   {
    "duration": 36,
    "start_time": "2022-05-10T22:48:58.985Z"
   },
   {
    "duration": 11,
    "start_time": "2022-05-10T22:48:59.361Z"
   },
   {
    "duration": 10,
    "start_time": "2022-05-10T22:48:59.502Z"
   },
   {
    "duration": 29,
    "start_time": "2022-05-10T22:48:59.649Z"
   },
   {
    "duration": 13,
    "start_time": "2022-05-10T22:49:00.891Z"
   },
   {
    "duration": 13,
    "start_time": "2022-05-10T22:49:03.525Z"
   },
   {
    "duration": 41,
    "start_time": "2022-05-10T22:49:04.723Z"
   },
   {
    "duration": 76,
    "start_time": "2022-05-10T22:56:00.971Z"
   },
   {
    "duration": 580,
    "start_time": "2022-05-10T22:56:37.978Z"
   },
   {
    "duration": 338,
    "start_time": "2022-05-10T22:56:38.560Z"
   },
   {
    "duration": 54,
    "start_time": "2022-05-10T22:56:44.818Z"
   },
   {
    "duration": 12,
    "start_time": "2022-05-10T22:56:45.047Z"
   },
   {
    "duration": 115,
    "start_time": "2022-05-10T22:56:45.284Z"
   },
   {
    "duration": 661,
    "start_time": "2022-05-10T22:57:10.313Z"
   },
   {
    "duration": 334,
    "start_time": "2022-05-10T22:57:10.976Z"
   },
   {
    "duration": 53,
    "start_time": "2022-05-10T22:57:28.297Z"
   },
   {
    "duration": 13,
    "start_time": "2022-05-10T22:57:29.211Z"
   },
   {
    "duration": 117,
    "start_time": "2022-05-10T22:57:34.658Z"
   },
   {
    "duration": 151,
    "start_time": "2022-05-10T22:57:42.002Z"
   },
   {
    "duration": 31,
    "start_time": "2022-05-10T22:57:46.937Z"
   },
   {
    "duration": 8,
    "start_time": "2022-05-10T22:57:47.201Z"
   },
   {
    "duration": 26,
    "start_time": "2022-05-10T22:57:47.449Z"
   },
   {
    "duration": 137,
    "start_time": "2022-05-10T22:57:49.835Z"
   },
   {
    "duration": 36,
    "start_time": "2022-05-10T22:57:52.035Z"
   },
   {
    "duration": 11,
    "start_time": "2022-05-10T22:57:53.311Z"
   },
   {
    "duration": 9,
    "start_time": "2022-05-10T22:57:53.704Z"
   },
   {
    "duration": 29,
    "start_time": "2022-05-10T22:57:53.966Z"
   },
   {
    "duration": 74,
    "start_time": "2022-05-10T22:57:56.529Z"
   },
   {
    "duration": 13,
    "start_time": "2022-05-10T22:58:29.238Z"
   },
   {
    "duration": 12,
    "start_time": "2022-05-10T22:58:35.818Z"
   },
   {
    "duration": 13,
    "start_time": "2022-05-10T22:58:50.019Z"
   },
   {
    "duration": 12,
    "start_time": "2022-05-10T22:59:04.292Z"
   },
   {
    "duration": 13,
    "start_time": "2022-05-10T23:01:29.369Z"
   },
   {
    "duration": 12,
    "start_time": "2022-05-10T23:01:46.088Z"
   },
   {
    "duration": 18,
    "start_time": "2022-05-10T23:04:02.489Z"
   },
   {
    "duration": 12,
    "start_time": "2022-05-10T23:04:28.592Z"
   },
   {
    "duration": 13,
    "start_time": "2022-05-10T23:05:07.348Z"
   },
   {
    "duration": 14,
    "start_time": "2022-05-10T23:05:08.531Z"
   },
   {
    "duration": 30,
    "start_time": "2022-05-10T23:07:58.043Z"
   },
   {
    "duration": 12,
    "start_time": "2022-05-10T23:07:59.501Z"
   },
   {
    "duration": 9,
    "start_time": "2022-05-10T23:08:03.012Z"
   },
   {
    "duration": 32,
    "start_time": "2022-05-10T23:08:04.683Z"
   },
   {
    "duration": 14,
    "start_time": "2022-05-10T23:08:05.692Z"
   },
   {
    "duration": 637,
    "start_time": "2022-05-10T23:08:32.301Z"
   },
   {
    "duration": 379,
    "start_time": "2022-05-10T23:08:32.940Z"
   },
   {
    "duration": 4,
    "start_time": "2022-05-10T23:08:33.382Z"
   },
   {
    "duration": 4,
    "start_time": "2022-05-10T23:08:33.645Z"
   },
   {
    "duration": 53,
    "start_time": "2022-05-10T23:08:38.156Z"
   },
   {
    "duration": 11,
    "start_time": "2022-05-10T23:08:38.365Z"
   },
   {
    "duration": 157,
    "start_time": "2022-05-10T23:08:38.619Z"
   },
   {
    "duration": 32,
    "start_time": "2022-05-10T23:08:42.539Z"
   },
   {
    "duration": 8,
    "start_time": "2022-05-10T23:08:43.040Z"
   },
   {
    "duration": 26,
    "start_time": "2022-05-10T23:08:44.587Z"
   },
   {
    "duration": 137,
    "start_time": "2022-05-10T23:08:44.812Z"
   },
   {
    "duration": 37,
    "start_time": "2022-05-10T23:08:47.398Z"
   },
   {
    "duration": 14,
    "start_time": "2022-05-10T23:08:49.253Z"
   },
   {
    "duration": 8,
    "start_time": "2022-05-10T23:08:49.907Z"
   },
   {
    "duration": 28,
    "start_time": "2022-05-10T23:08:52.875Z"
   },
   {
    "duration": 13,
    "start_time": "2022-05-10T23:08:54.784Z"
   },
   {
    "duration": 14,
    "start_time": "2022-05-10T23:09:06.774Z"
   },
   {
    "duration": 38,
    "start_time": "2022-05-10T23:09:09.871Z"
   },
   {
    "duration": 1989,
    "start_time": "2022-05-10T23:09:25.064Z"
   },
   {
    "duration": 18,
    "start_time": "2022-05-10T23:11:12.534Z"
   },
   {
    "duration": 38,
    "start_time": "2022-05-10T23:11:17.330Z"
   },
   {
    "duration": 4,
    "start_time": "2022-05-10T23:11:50.195Z"
   },
   {
    "duration": 18,
    "start_time": "2022-05-10T23:12:03.099Z"
   },
   {
    "duration": 14,
    "start_time": "2022-05-10T23:12:38.528Z"
   },
   {
    "duration": 22,
    "start_time": "2022-05-10T23:12:45.639Z"
   },
   {
    "duration": 4,
    "start_time": "2022-05-10T23:13:20.632Z"
   },
   {
    "duration": 22,
    "start_time": "2022-05-10T23:13:21.024Z"
   },
   {
    "duration": 661,
    "start_time": "2022-05-10T23:14:26.722Z"
   },
   {
    "duration": 375,
    "start_time": "2022-05-10T23:14:27.385Z"
   },
   {
    "duration": 55,
    "start_time": "2022-05-10T23:14:32.633Z"
   },
   {
    "duration": 13,
    "start_time": "2022-05-10T23:14:32.832Z"
   },
   {
    "duration": 167,
    "start_time": "2022-05-10T23:14:33.045Z"
   },
   {
    "duration": 30,
    "start_time": "2022-05-10T23:14:35.689Z"
   },
   {
    "duration": 8,
    "start_time": "2022-05-10T23:14:35.897Z"
   },
   {
    "duration": 27,
    "start_time": "2022-05-10T23:14:36.088Z"
   },
   {
    "duration": 132,
    "start_time": "2022-05-10T23:14:36.329Z"
   },
   {
    "duration": 36,
    "start_time": "2022-05-10T23:14:38.192Z"
   },
   {
    "duration": 15,
    "start_time": "2022-05-10T23:14:39.357Z"
   },
   {
    "duration": 8,
    "start_time": "2022-05-10T23:14:39.711Z"
   },
   {
    "duration": 29,
    "start_time": "2022-05-10T23:14:39.926Z"
   },
   {
    "duration": 13,
    "start_time": "2022-05-10T23:14:40.151Z"
   },
   {
    "duration": 18,
    "start_time": "2022-05-10T23:14:41.697Z"
   },
   {
    "duration": 3,
    "start_time": "2022-05-10T23:14:41.913Z"
   },
   {
    "duration": 5,
    "start_time": "2022-05-10T23:14:42.111Z"
   },
   {
    "duration": 37,
    "start_time": "2022-05-10T23:14:43.516Z"
   },
   {
    "duration": 6,
    "start_time": "2022-05-11T09:30:59.308Z"
   },
   {
    "duration": 4,
    "start_time": "2022-05-11T09:30:59.671Z"
   },
   {
    "duration": 41,
    "start_time": "2022-05-11T09:31:02.255Z"
   },
   {
    "duration": 742,
    "start_time": "2022-05-11T09:32:05.695Z"
   },
   {
    "duration": 422,
    "start_time": "2022-05-11T09:32:06.439Z"
   },
   {
    "duration": 3,
    "start_time": "2022-05-11T09:32:06.863Z"
   },
   {
    "duration": 3,
    "start_time": "2022-05-11T09:32:11.094Z"
   },
   {
    "duration": 9,
    "start_time": "2022-05-11T09:32:19.914Z"
   },
   {
    "duration": 3,
    "start_time": "2022-05-11T09:33:19.101Z"
   },
   {
    "duration": 368,
    "start_time": "2022-05-11T09:33:19.517Z"
   },
   {
    "duration": 3,
    "start_time": "2022-05-11T09:33:20.412Z"
   },
   {
    "duration": 3,
    "start_time": "2022-05-11T09:33:21.357Z"
   },
   {
    "duration": 3,
    "start_time": "2022-05-11T09:33:23.875Z"
   },
   {
    "duration": 12,
    "start_time": "2022-05-11T09:33:29.220Z"
   },
   {
    "duration": 7,
    "start_time": "2022-05-11T09:33:31.860Z"
   },
   {
    "duration": 12,
    "start_time": "2022-05-11T09:33:32.740Z"
   },
   {
    "duration": 5,
    "start_time": "2022-05-11T09:33:33.303Z"
   },
   {
    "duration": 18,
    "start_time": "2022-05-11T09:34:00.573Z"
   },
   {
    "duration": 614,
    "start_time": "2022-05-11T09:38:59.082Z"
   },
   {
    "duration": 357,
    "start_time": "2022-05-11T09:38:59.698Z"
   },
   {
    "duration": 4,
    "start_time": "2022-05-11T09:39:00.057Z"
   },
   {
    "duration": 6,
    "start_time": "2022-05-11T09:39:00.064Z"
   },
   {
    "duration": 7,
    "start_time": "2022-05-11T09:39:00.072Z"
   },
   {
    "duration": 17,
    "start_time": "2022-05-11T09:39:00.080Z"
   },
   {
    "duration": 7,
    "start_time": "2022-05-11T09:39:00.099Z"
   },
   {
    "duration": 12,
    "start_time": "2022-05-11T09:39:00.108Z"
   },
   {
    "duration": 29,
    "start_time": "2022-05-11T09:39:00.122Z"
   },
   {
    "duration": 14,
    "start_time": "2022-05-11T09:39:00.154Z"
   },
   {
    "duration": 117,
    "start_time": "2022-05-11T09:39:00.170Z"
   },
   {
    "duration": 26,
    "start_time": "2022-05-11T09:39:00.288Z"
   },
   {
    "duration": 40,
    "start_time": "2022-05-11T09:39:00.315Z"
   },
   {
    "duration": 7,
    "start_time": "2022-05-11T09:39:00.357Z"
   },
   {
    "duration": 50,
    "start_time": "2022-05-11T09:39:00.365Z"
   },
   {
    "duration": 10,
    "start_time": "2022-05-11T09:39:00.416Z"
   },
   {
    "duration": 29,
    "start_time": "2022-05-11T09:39:00.428Z"
   },
   {
    "duration": 13,
    "start_time": "2022-05-11T09:39:00.459Z"
   },
   {
    "duration": 77,
    "start_time": "2022-05-11T09:39:00.473Z"
   },
   {
    "duration": 23,
    "start_time": "2022-05-11T09:39:00.552Z"
   },
   {
    "duration": 14,
    "start_time": "2022-05-11T09:39:00.577Z"
   },
   {
    "duration": 14,
    "start_time": "2022-05-11T09:39:00.593Z"
   },
   {
    "duration": 8,
    "start_time": "2022-05-11T09:39:00.609Z"
   },
   {
    "duration": 41,
    "start_time": "2022-05-11T09:39:00.618Z"
   },
   {
    "duration": 5,
    "start_time": "2022-05-11T09:39:00.661Z"
   },
   {
    "duration": 18,
    "start_time": "2022-05-11T09:39:00.668Z"
   },
   {
    "duration": 5,
    "start_time": "2022-05-11T09:39:00.688Z"
   },
   {
    "duration": 7,
    "start_time": "2022-05-11T09:39:00.697Z"
   },
   {
    "duration": 45,
    "start_time": "2022-05-11T09:39:00.706Z"
   },
   {
    "duration": 24,
    "start_time": "2022-05-11T09:39:00.753Z"
   },
   {
    "duration": 117,
    "start_time": "2022-05-11T09:39:00.778Z"
   },
   {
    "duration": 7,
    "start_time": "2022-05-11T09:39:00.897Z"
   },
   {
    "duration": 19,
    "start_time": "2022-05-11T09:39:00.905Z"
   },
   {
    "duration": 29,
    "start_time": "2022-05-11T09:39:00.925Z"
   },
   {
    "duration": 48,
    "start_time": "2022-05-11T09:39:00.956Z"
   },
   {
    "duration": 7,
    "start_time": "2022-05-11T09:39:01.006Z"
   },
   {
    "duration": 40,
    "start_time": "2022-05-11T09:39:01.014Z"
   },
   {
    "duration": 24,
    "start_time": "2022-05-11T09:39:01.056Z"
   },
   {
    "duration": 76,
    "start_time": "2022-05-11T09:39:01.082Z"
   },
   {
    "duration": 7,
    "start_time": "2022-05-11T09:39:01.160Z"
   },
   {
    "duration": 12,
    "start_time": "2022-05-11T09:39:01.169Z"
   },
   {
    "duration": 32,
    "start_time": "2022-05-11T09:39:01.182Z"
   },
   {
    "duration": 62,
    "start_time": "2022-05-11T09:39:01.216Z"
   },
   {
    "duration": 8,
    "start_time": "2022-05-11T09:39:01.280Z"
   },
   {
    "duration": 180,
    "start_time": "2022-05-11T09:39:01.290Z"
   },
   {
    "duration": 29,
    "start_time": "2022-05-11T09:39:01.472Z"
   },
   {
    "duration": 8,
    "start_time": "2022-05-11T09:39:01.502Z"
   },
   {
    "duration": 45,
    "start_time": "2022-05-11T09:39:01.512Z"
   },
   {
    "duration": 145,
    "start_time": "2022-05-11T09:39:01.559Z"
   },
   {
    "duration": 49,
    "start_time": "2022-05-11T09:39:01.705Z"
   },
   {
    "duration": 12,
    "start_time": "2022-05-11T09:39:01.756Z"
   },
   {
    "duration": 10,
    "start_time": "2022-05-11T09:39:01.769Z"
   },
   {
    "duration": 26,
    "start_time": "2022-05-11T09:39:01.780Z"
   },
   {
    "duration": 11,
    "start_time": "2022-05-11T09:39:01.808Z"
   },
   {
    "duration": 40,
    "start_time": "2022-05-11T09:39:01.820Z"
   },
   {
    "duration": 4,
    "start_time": "2022-05-11T09:39:01.861Z"
   },
   {
    "duration": 7,
    "start_time": "2022-05-11T09:39:01.866Z"
   },
   {
    "duration": 23,
    "start_time": "2022-05-11T09:39:01.874Z"
   },
   {
    "duration": 3,
    "start_time": "2022-05-11T09:41:03.119Z"
   },
   {
    "duration": 666,
    "start_time": "2022-05-11T09:41:45.185Z"
   },
   {
    "duration": 388,
    "start_time": "2022-05-11T09:41:45.853Z"
   },
   {
    "duration": 4,
    "start_time": "2022-05-11T09:41:46.242Z"
   },
   {
    "duration": 7,
    "start_time": "2022-05-11T09:41:46.247Z"
   },
   {
    "duration": 9,
    "start_time": "2022-05-11T09:41:46.257Z"
   },
   {
    "duration": 16,
    "start_time": "2022-05-11T09:41:46.268Z"
   },
   {
    "duration": 6,
    "start_time": "2022-05-11T09:41:46.285Z"
   },
   {
    "duration": 14,
    "start_time": "2022-05-11T09:41:46.293Z"
   },
   {
    "duration": 5,
    "start_time": "2022-05-11T09:41:46.309Z"
   },
   {
    "duration": 37,
    "start_time": "2022-05-11T09:41:46.316Z"
   },
   {
    "duration": 124,
    "start_time": "2022-05-11T09:41:46.355Z"
   },
   {
    "duration": 25,
    "start_time": "2022-05-11T09:41:46.481Z"
   },
   {
    "duration": 19,
    "start_time": "2022-05-11T09:41:46.508Z"
   },
   {
    "duration": 8,
    "start_time": "2022-05-11T09:41:46.547Z"
   },
   {
    "duration": 52,
    "start_time": "2022-05-11T09:41:46.557Z"
   },
   {
    "duration": 11,
    "start_time": "2022-05-11T09:41:46.610Z"
   },
   {
    "duration": 36,
    "start_time": "2022-05-11T09:41:46.622Z"
   },
   {
    "duration": 12,
    "start_time": "2022-05-11T09:41:46.660Z"
   },
   {
    "duration": 74,
    "start_time": "2022-05-11T09:41:46.674Z"
   },
   {
    "duration": 25,
    "start_time": "2022-05-11T09:41:46.749Z"
   },
   {
    "duration": 15,
    "start_time": "2022-05-11T09:41:46.776Z"
   },
   {
    "duration": 8,
    "start_time": "2022-05-11T09:41:46.793Z"
   },
   {
    "duration": 7,
    "start_time": "2022-05-11T09:41:46.803Z"
   },
   {
    "duration": 51,
    "start_time": "2022-05-11T09:41:46.812Z"
   },
   {
    "duration": 5,
    "start_time": "2022-05-11T09:41:46.865Z"
   },
   {
    "duration": 53,
    "start_time": "2022-05-11T09:41:46.871Z"
   },
   {
    "duration": 25,
    "start_time": "2022-05-11T09:41:46.926Z"
   },
   {
    "duration": 181,
    "start_time": "2022-05-11T09:41:46.953Z"
   },
   {
    "duration": 37,
    "start_time": "2022-05-11T09:41:47.136Z"
   },
   {
    "duration": 7,
    "start_time": "2022-05-11T09:41:47.175Z"
   },
   {
    "duration": 27,
    "start_time": "2022-05-11T09:41:47.184Z"
   },
   {
    "duration": 249,
    "start_time": "2022-05-11T09:41:47.213Z"
   },
   {
    "duration": 59,
    "start_time": "2022-05-11T09:41:47.465Z"
   },
   {
    "duration": 36,
    "start_time": "2022-05-11T09:41:47.526Z"
   },
   {
    "duration": 12,
    "start_time": "2022-05-11T09:41:47.565Z"
   },
   {
    "duration": 38,
    "start_time": "2022-05-11T09:41:47.579Z"
   },
   {
    "duration": 34,
    "start_time": "2022-05-11T09:41:47.619Z"
   },
   {
    "duration": 19,
    "start_time": "2022-05-11T09:41:47.655Z"
   },
   {
    "duration": 5,
    "start_time": "2022-05-11T09:41:47.676Z"
   },
   {
    "duration": 6,
    "start_time": "2022-05-11T09:41:47.683Z"
   },
   {
    "duration": 23,
    "start_time": "2022-05-11T09:41:47.693Z"
   },
   {
    "duration": 617,
    "start_time": "2022-05-11T09:47:41.676Z"
   },
   {
    "duration": 523,
    "start_time": "2022-05-11T09:47:42.295Z"
   },
   {
    "duration": 3,
    "start_time": "2022-05-11T09:47:42.820Z"
   },
   {
    "duration": 6,
    "start_time": "2022-05-11T09:47:42.825Z"
   },
   {
    "duration": 7,
    "start_time": "2022-05-11T09:47:42.833Z"
   },
   {
    "duration": 61,
    "start_time": "2022-05-11T09:47:42.842Z"
   },
   {
    "duration": 13,
    "start_time": "2022-05-11T09:47:42.905Z"
   },
   {
    "duration": 178,
    "start_time": "2022-05-11T09:47:42.920Z"
   },
   {
    "duration": 32,
    "start_time": "2022-05-11T09:47:43.100Z"
   },
   {
    "duration": 21,
    "start_time": "2022-05-11T09:47:43.134Z"
   },
   {
    "duration": 29,
    "start_time": "2022-05-11T09:47:43.156Z"
   },
   {
    "duration": 156,
    "start_time": "2022-05-11T09:47:43.187Z"
   },
   {
    "duration": 38,
    "start_time": "2022-05-11T09:47:43.348Z"
   },
   {
    "duration": 16,
    "start_time": "2022-05-11T09:47:43.389Z"
   },
   {
    "duration": 9,
    "start_time": "2022-05-11T09:47:43.406Z"
   },
   {
    "duration": 54,
    "start_time": "2022-05-11T09:47:43.417Z"
   },
   {
    "duration": 12,
    "start_time": "2022-05-11T09:47:43.473Z"
   },
   {
    "duration": 18,
    "start_time": "2022-05-11T09:47:43.487Z"
   },
   {
    "duration": 6,
    "start_time": "2022-05-11T09:47:43.506Z"
   },
   {
    "duration": 6,
    "start_time": "2022-05-11T09:47:43.513Z"
   },
   {
    "duration": 55,
    "start_time": "2022-05-11T09:47:43.520Z"
   },
   {
    "duration": 13,
    "start_time": "2022-05-11T09:48:13.114Z"
   },
   {
    "duration": 8,
    "start_time": "2022-05-11T09:48:13.498Z"
   },
   {
    "duration": 15,
    "start_time": "2022-05-11T09:48:16.121Z"
   },
   {
    "duration": 5,
    "start_time": "2022-05-11T09:48:20.986Z"
   },
   {
    "duration": 9,
    "start_time": "2022-05-11T09:48:22.353Z"
   },
   {
    "duration": 94,
    "start_time": "2022-05-11T09:48:24.066Z"
   },
   {
    "duration": 31,
    "start_time": "2022-05-11T09:48:25.241Z"
   },
   {
    "duration": 13,
    "start_time": "2022-05-11T09:48:27.626Z"
   },
   {
    "duration": 11,
    "start_time": "2022-05-11T09:48:29.682Z"
   },
   {
    "duration": 48,
    "start_time": "2022-05-11T09:48:31.107Z"
   },
   {
    "duration": 14,
    "start_time": "2022-05-11T09:48:31.329Z"
   },
   {
    "duration": 10,
    "start_time": "2022-05-11T09:48:31.545Z"
   },
   {
    "duration": 8,
    "start_time": "2022-05-11T09:48:33.753Z"
   },
   {
    "duration": 41,
    "start_time": "2022-05-11T09:48:34.202Z"
   },
   {
    "duration": 26,
    "start_time": "2022-05-11T09:48:36.193Z"
   },
   {
    "duration": 12,
    "start_time": "2022-05-11T09:48:36.344Z"
   },
   {
    "duration": 8,
    "start_time": "2022-05-11T09:48:38.009Z"
   },
   {
    "duration": 6,
    "start_time": "2022-05-11T09:48:38.201Z"
   },
   {
    "duration": 24,
    "start_time": "2022-05-11T09:48:38.377Z"
   },
   {
    "duration": 5,
    "start_time": "2022-05-11T09:48:39.897Z"
   },
   {
    "duration": 33,
    "start_time": "2022-05-11T09:49:58.043Z"
   },
   {
    "duration": 8,
    "start_time": "2022-05-11T09:49:58.433Z"
   },
   {
    "duration": 152,
    "start_time": "2022-05-11T09:50:00.049Z"
   },
   {
    "duration": 610,
    "start_time": "2022-05-11T09:52:17.281Z"
   },
   {
    "duration": 362,
    "start_time": "2022-05-11T09:52:17.892Z"
   },
   {
    "duration": 3,
    "start_time": "2022-05-11T09:52:18.256Z"
   },
   {
    "duration": 5,
    "start_time": "2022-05-11T09:52:18.261Z"
   },
   {
    "duration": 7,
    "start_time": "2022-05-11T09:52:18.268Z"
   },
   {
    "duration": 4,
    "start_time": "2022-05-11T09:52:18.277Z"
   },
   {
    "duration": 16,
    "start_time": "2022-05-11T09:52:18.283Z"
   },
   {
    "duration": 6,
    "start_time": "2022-05-11T09:52:18.300Z"
   },
   {
    "duration": 14,
    "start_time": "2022-05-11T09:52:18.308Z"
   },
   {
    "duration": 6,
    "start_time": "2022-05-11T09:52:18.347Z"
   },
   {
    "duration": 8,
    "start_time": "2022-05-11T09:52:18.355Z"
   },
   {
    "duration": 124,
    "start_time": "2022-05-11T09:52:18.365Z"
   },
   {
    "duration": 27,
    "start_time": "2022-05-11T09:52:18.491Z"
   },
   {
    "duration": 28,
    "start_time": "2022-05-11T09:52:18.519Z"
   },
   {
    "duration": 7,
    "start_time": "2022-05-11T09:52:18.549Z"
   },
   {
    "duration": 64,
    "start_time": "2022-05-11T09:52:18.558Z"
   },
   {
    "duration": 35,
    "start_time": "2022-05-11T09:52:18.624Z"
   },
   {
    "duration": 21,
    "start_time": "2022-05-11T09:52:18.661Z"
   },
   {
    "duration": 10,
    "start_time": "2022-05-11T09:52:18.684Z"
   },
   {
    "duration": 112,
    "start_time": "2022-05-11T09:52:18.695Z"
   },
   {
    "duration": 43,
    "start_time": "2022-05-11T09:52:18.809Z"
   },
   {
    "duration": 26,
    "start_time": "2022-05-11T09:52:18.853Z"
   },
   {
    "duration": 10,
    "start_time": "2022-05-11T09:52:18.881Z"
   },
   {
    "duration": 7,
    "start_time": "2022-05-11T09:52:18.892Z"
   },
   {
    "duration": 60,
    "start_time": "2022-05-11T09:52:18.900Z"
   },
   {
    "duration": 5,
    "start_time": "2022-05-11T09:52:18.962Z"
   },
   {
    "duration": 95,
    "start_time": "2022-05-11T09:52:18.969Z"
   },
   {
    "duration": 11,
    "start_time": "2022-05-11T09:52:19.069Z"
   },
   {
    "duration": 268,
    "start_time": "2022-05-11T09:52:19.081Z"
   },
   {
    "duration": 46,
    "start_time": "2022-05-11T09:52:19.351Z"
   },
   {
    "duration": 10,
    "start_time": "2022-05-11T09:52:19.399Z"
   },
   {
    "duration": 58,
    "start_time": "2022-05-11T09:52:19.411Z"
   },
   {
    "duration": 206,
    "start_time": "2022-05-11T09:52:19.471Z"
   },
   {
    "duration": 70,
    "start_time": "2022-05-11T09:52:19.679Z"
   },
   {
    "duration": 15,
    "start_time": "2022-05-11T09:52:19.752Z"
   },
   {
    "duration": 11,
    "start_time": "2022-05-11T09:52:19.769Z"
   },
   {
    "duration": 35,
    "start_time": "2022-05-11T09:52:19.781Z"
   },
   {
    "duration": 32,
    "start_time": "2022-05-11T09:52:19.818Z"
   },
   {
    "duration": 22,
    "start_time": "2022-05-11T09:52:19.852Z"
   },
   {
    "duration": 31,
    "start_time": "2022-05-11T09:52:19.876Z"
   },
   {
    "duration": 99,
    "start_time": "2022-05-11T09:55:08.499Z"
   },
   {
    "duration": 3,
    "start_time": "2022-05-11T09:56:27.010Z"
   },
   {
    "duration": 11,
    "start_time": "2022-05-11T09:56:32.241Z"
   },
   {
    "duration": 3,
    "start_time": "2022-05-11T09:57:09.128Z"
   },
   {
    "duration": 14,
    "start_time": "2022-05-11T09:57:09.384Z"
   },
   {
    "duration": 304,
    "start_time": "2022-05-11T09:57:53.278Z"
   },
   {
    "duration": 10,
    "start_time": "2022-05-11T09:57:53.638Z"
   },
   {
    "duration": 13,
    "start_time": "2022-05-11T09:58:19.743Z"
   },
   {
    "duration": 9,
    "start_time": "2022-05-11T09:58:20.718Z"
   },
   {
    "duration": 10,
    "start_time": "2022-05-11T09:58:55.990Z"
   },
   {
    "duration": 7,
    "start_time": "2022-05-11T09:58:56.398Z"
   },
   {
    "duration": 12,
    "start_time": "2022-05-11T10:00:06.261Z"
   },
   {
    "duration": 7,
    "start_time": "2022-05-11T10:00:11.420Z"
   },
   {
    "duration": 10,
    "start_time": "2022-05-11T10:00:12.349Z"
   },
   {
    "duration": 15,
    "start_time": "2022-05-11T10:00:20.548Z"
   },
   {
    "duration": 10,
    "start_time": "2022-05-11T10:00:20.748Z"
   },
   {
    "duration": 11,
    "start_time": "2022-05-11T10:00:20.996Z"
   },
   {
    "duration": 8,
    "start_time": "2022-05-11T10:00:21.656Z"
   },
   {
    "duration": 5,
    "start_time": "2022-05-11T10:00:38.324Z"
   },
   {
    "duration": 7,
    "start_time": "2022-05-11T10:00:38.700Z"
   },
   {
    "duration": 7,
    "start_time": "2022-05-11T10:00:50.261Z"
   },
   {
    "duration": 9,
    "start_time": "2022-05-11T10:00:50.523Z"
   },
   {
    "duration": 633,
    "start_time": "2022-05-13T08:25:24.732Z"
   },
   {
    "duration": 352,
    "start_time": "2022-05-13T08:25:25.370Z"
   },
   {
    "duration": 3,
    "start_time": "2022-05-13T08:25:25.724Z"
   },
   {
    "duration": 8,
    "start_time": "2022-05-13T08:25:25.729Z"
   },
   {
    "duration": 13,
    "start_time": "2022-05-13T08:25:25.738Z"
   },
   {
    "duration": 4,
    "start_time": "2022-05-13T08:25:25.753Z"
   },
   {
    "duration": 14,
    "start_time": "2022-05-13T08:25:25.759Z"
   },
   {
    "duration": 6,
    "start_time": "2022-05-13T08:25:25.775Z"
   },
   {
    "duration": 16,
    "start_time": "2022-05-13T08:25:25.782Z"
   },
   {
    "duration": 5,
    "start_time": "2022-05-13T08:25:25.801Z"
   },
   {
    "duration": 10,
    "start_time": "2022-05-13T08:25:25.807Z"
   },
   {
    "duration": 131,
    "start_time": "2022-05-13T08:25:25.819Z"
   },
   {
    "duration": 35,
    "start_time": "2022-05-13T08:25:25.952Z"
   },
   {
    "duration": 20,
    "start_time": "2022-05-13T08:25:25.989Z"
   },
   {
    "duration": 7,
    "start_time": "2022-05-13T08:25:26.011Z"
   },
   {
    "duration": 70,
    "start_time": "2022-05-13T08:25:26.020Z"
   },
   {
    "duration": 13,
    "start_time": "2022-05-13T08:25:26.092Z"
   },
   {
    "duration": 14,
    "start_time": "2022-05-13T08:25:26.106Z"
   },
   {
    "duration": 11,
    "start_time": "2022-05-13T08:25:26.121Z"
   },
   {
    "duration": 84,
    "start_time": "2022-05-13T08:25:26.134Z"
   },
   {
    "duration": 26,
    "start_time": "2022-05-13T08:25:26.219Z"
   },
   {
    "duration": 28,
    "start_time": "2022-05-13T08:25:26.247Z"
   },
   {
    "duration": 8,
    "start_time": "2022-05-13T08:25:26.276Z"
   },
   {
    "duration": 9,
    "start_time": "2022-05-13T08:25:26.286Z"
   },
   {
    "duration": 23,
    "start_time": "2022-05-13T08:25:26.297Z"
   },
   {
    "duration": 5,
    "start_time": "2022-05-13T08:25:26.322Z"
   },
   {
    "duration": 88,
    "start_time": "2022-05-13T08:25:26.328Z"
   },
   {
    "duration": 8,
    "start_time": "2022-05-13T08:25:26.419Z"
   },
   {
    "duration": 184,
    "start_time": "2022-05-13T08:25:26.428Z"
   },
   {
    "duration": 32,
    "start_time": "2022-05-13T08:25:26.613Z"
   },
   {
    "duration": 8,
    "start_time": "2022-05-13T08:25:26.646Z"
   },
   {
    "duration": 25,
    "start_time": "2022-05-13T08:25:26.671Z"
   },
   {
    "duration": 159,
    "start_time": "2022-05-13T08:25:26.698Z"
   },
   {
    "duration": 45,
    "start_time": "2022-05-13T08:25:26.859Z"
   },
   {
    "duration": 14,
    "start_time": "2022-05-13T08:25:26.905Z"
   },
   {
    "duration": 8,
    "start_time": "2022-05-13T08:25:26.920Z"
   },
   {
    "duration": 13,
    "start_time": "2022-05-13T08:25:26.930Z"
   },
   {
    "duration": 28,
    "start_time": "2022-05-13T08:25:26.944Z"
   },
   {
    "duration": 7,
    "start_time": "2022-05-13T08:25:26.973Z"
   },
   {
    "duration": 7,
    "start_time": "2022-05-13T08:25:26.981Z"
   },
   {
    "duration": 10,
    "start_time": "2022-05-13T08:28:54.858Z"
   },
   {
    "duration": 6,
    "start_time": "2022-05-13T08:30:54.686Z"
   },
   {
    "duration": 10,
    "start_time": "2022-05-13T08:31:00.989Z"
   },
   {
    "duration": 9,
    "start_time": "2022-05-13T08:31:27.488Z"
   },
   {
    "duration": 8,
    "start_time": "2022-05-13T08:31:28.231Z"
   },
   {
    "duration": 3,
    "start_time": "2022-05-13T08:31:28.959Z"
   },
   {
    "duration": 4,
    "start_time": "2022-05-13T08:31:29.784Z"
   },
   {
    "duration": 10,
    "start_time": "2022-05-13T08:31:30.430Z"
   },
   {
    "duration": 686,
    "start_time": "2022-05-13T08:31:56.365Z"
   },
   {
    "duration": 404,
    "start_time": "2022-05-13T08:31:57.054Z"
   },
   {
    "duration": 3,
    "start_time": "2022-05-13T08:31:57.459Z"
   },
   {
    "duration": 5,
    "start_time": "2022-05-13T08:31:57.464Z"
   },
   {
    "duration": 22,
    "start_time": "2022-05-13T08:31:57.471Z"
   },
   {
    "duration": 4,
    "start_time": "2022-05-13T08:31:57.495Z"
   },
   {
    "duration": 18,
    "start_time": "2022-05-13T08:31:57.500Z"
   },
   {
    "duration": 7,
    "start_time": "2022-05-13T08:31:57.520Z"
   },
   {
    "duration": 14,
    "start_time": "2022-05-13T08:31:57.528Z"
   },
   {
    "duration": 5,
    "start_time": "2022-05-13T08:31:57.546Z"
   },
   {
    "duration": 21,
    "start_time": "2022-05-13T08:31:57.553Z"
   },
   {
    "duration": 175,
    "start_time": "2022-05-13T08:31:57.579Z"
   },
   {
    "duration": 43,
    "start_time": "2022-05-13T08:31:57.756Z"
   },
   {
    "duration": 20,
    "start_time": "2022-05-13T08:31:57.801Z"
   },
   {
    "duration": 8,
    "start_time": "2022-05-13T08:31:57.824Z"
   },
   {
    "duration": 79,
    "start_time": "2022-05-13T08:31:57.834Z"
   },
   {
    "duration": 14,
    "start_time": "2022-05-13T08:31:57.915Z"
   },
   {
    "duration": 14,
    "start_time": "2022-05-13T08:31:57.931Z"
   },
   {
    "duration": 33,
    "start_time": "2022-05-13T08:31:57.947Z"
   },
   {
    "duration": 117,
    "start_time": "2022-05-13T08:31:57.982Z"
   },
   {
    "duration": 37,
    "start_time": "2022-05-13T08:31:58.101Z"
   },
   {
    "duration": 42,
    "start_time": "2022-05-13T08:31:58.140Z"
   },
   {
    "duration": 14,
    "start_time": "2022-05-13T08:31:58.184Z"
   },
   {
    "duration": 9,
    "start_time": "2022-05-13T08:31:58.199Z"
   },
   {
    "duration": 29,
    "start_time": "2022-05-13T08:31:58.210Z"
   },
   {
    "duration": 6,
    "start_time": "2022-05-13T08:31:58.241Z"
   },
   {
    "duration": 98,
    "start_time": "2022-05-13T08:31:58.249Z"
   },
   {
    "duration": 21,
    "start_time": "2022-05-13T08:31:58.352Z"
   },
   {
    "duration": 177,
    "start_time": "2022-05-13T08:31:58.377Z"
   },
   {
    "duration": 42,
    "start_time": "2022-05-13T08:31:58.556Z"
   },
   {
    "duration": 8,
    "start_time": "2022-05-13T08:31:58.600Z"
   },
   {
    "duration": 26,
    "start_time": "2022-05-13T08:31:58.610Z"
   },
   {
    "duration": 254,
    "start_time": "2022-05-13T08:31:58.638Z"
   },
   {
    "duration": 56,
    "start_time": "2022-05-13T08:31:58.895Z"
   },
   {
    "duration": 34,
    "start_time": "2022-05-13T08:31:58.953Z"
   },
   {
    "duration": 10,
    "start_time": "2022-05-13T08:31:58.990Z"
   },
   {
    "duration": 16,
    "start_time": "2022-05-13T08:31:59.002Z"
   },
   {
    "duration": 8,
    "start_time": "2022-05-13T08:31:59.019Z"
   },
   {
    "duration": 8,
    "start_time": "2022-05-13T08:31:59.029Z"
   },
   {
    "duration": 34,
    "start_time": "2022-05-13T08:31:59.039Z"
   },
   {
    "duration": 5,
    "start_time": "2022-05-13T08:31:59.076Z"
   },
   {
    "duration": 16,
    "start_time": "2022-05-13T08:31:59.082Z"
   },
   {
    "duration": 13,
    "start_time": "2022-05-13T08:31:59.100Z"
   },
   {
    "duration": 8,
    "start_time": "2022-05-13T08:32:14.604Z"
   },
   {
    "duration": 8,
    "start_time": "2022-05-13T08:32:21.387Z"
   },
   {
    "duration": 52,
    "start_time": "2022-05-13T08:38:10.486Z"
   },
   {
    "duration": 49,
    "start_time": "2022-05-13T08:38:59.708Z"
   },
   {
    "duration": 105,
    "start_time": "2022-05-13T08:39:24.067Z"
   },
   {
    "duration": 33,
    "start_time": "2022-05-13T08:39:39.284Z"
   },
   {
    "duration": 5,
    "start_time": "2022-05-13T08:39:57.066Z"
   },
   {
    "duration": 46,
    "start_time": "2022-05-13T08:40:02.609Z"
   },
   {
    "duration": 48,
    "start_time": "2022-05-13T08:40:15.844Z"
   },
   {
    "duration": 39,
    "start_time": "2022-05-13T08:40:21.666Z"
   },
   {
    "duration": 122,
    "start_time": "2022-05-13T08:41:06.217Z"
   },
   {
    "duration": 11,
    "start_time": "2022-05-13T08:49:15.121Z"
   },
   {
    "duration": 675,
    "start_time": "2022-05-13T08:49:22.666Z"
   },
   {
    "duration": 394,
    "start_time": "2022-05-13T08:49:23.344Z"
   },
   {
    "duration": 3,
    "start_time": "2022-05-13T08:49:23.740Z"
   },
   {
    "duration": 5,
    "start_time": "2022-05-13T08:49:23.744Z"
   },
   {
    "duration": 4,
    "start_time": "2022-05-13T08:49:23.751Z"
   },
   {
    "duration": 4,
    "start_time": "2022-05-13T08:49:23.757Z"
   },
   {
    "duration": 14,
    "start_time": "2022-05-13T08:49:23.762Z"
   },
   {
    "duration": 5,
    "start_time": "2022-05-13T08:49:23.778Z"
   },
   {
    "duration": 13,
    "start_time": "2022-05-13T08:49:23.784Z"
   },
   {
    "duration": 8,
    "start_time": "2022-05-13T08:49:23.799Z"
   },
   {
    "duration": 8,
    "start_time": "2022-05-13T08:49:23.809Z"
   },
   {
    "duration": 148,
    "start_time": "2022-05-13T08:49:23.819Z"
   },
   {
    "duration": 27,
    "start_time": "2022-05-13T08:49:23.970Z"
   },
   {
    "duration": 18,
    "start_time": "2022-05-13T08:49:23.999Z"
   },
   {
    "duration": 10,
    "start_time": "2022-05-13T08:49:24.019Z"
   },
   {
    "duration": 80,
    "start_time": "2022-05-13T08:49:24.030Z"
   },
   {
    "duration": 12,
    "start_time": "2022-05-13T08:49:24.111Z"
   },
   {
    "duration": 13,
    "start_time": "2022-05-13T08:49:24.125Z"
   },
   {
    "duration": 8,
    "start_time": "2022-05-13T08:49:24.139Z"
   },
   {
    "duration": 91,
    "start_time": "2022-05-13T08:49:24.148Z"
   },
   {
    "duration": 49,
    "start_time": "2022-05-13T08:49:24.241Z"
   },
   {
    "duration": 26,
    "start_time": "2022-05-13T08:49:24.292Z"
   },
   {
    "duration": 7,
    "start_time": "2022-05-13T08:49:24.320Z"
   },
   {
    "duration": 6,
    "start_time": "2022-05-13T08:49:24.329Z"
   },
   {
    "duration": 50,
    "start_time": "2022-05-13T08:49:24.336Z"
   },
   {
    "duration": 4,
    "start_time": "2022-05-13T08:49:24.388Z"
   },
   {
    "duration": 54,
    "start_time": "2022-05-13T08:49:24.394Z"
   },
   {
    "duration": 25,
    "start_time": "2022-05-13T08:49:24.450Z"
   },
   {
    "duration": 88,
    "start_time": "2022-05-13T08:49:30.345Z"
   },
   {
    "duration": 26,
    "start_time": "2022-05-13T08:50:36.209Z"
   },
   {
    "duration": 26,
    "start_time": "2022-05-13T08:50:43.777Z"
   },
   {
    "duration": 119,
    "start_time": "2022-05-13T08:52:19.935Z"
   },
   {
    "duration": 117,
    "start_time": "2022-05-13T08:52:26.702Z"
   },
   {
    "duration": 35,
    "start_time": "2022-05-13T08:52:31.630Z"
   },
   {
    "duration": 35,
    "start_time": "2022-05-13T08:52:37.023Z"
   },
   {
    "duration": 36,
    "start_time": "2022-05-13T08:52:59.238Z"
   },
   {
    "duration": 164,
    "start_time": "2022-05-13T08:53:03.942Z"
   },
   {
    "duration": 36,
    "start_time": "2022-05-13T08:53:08.357Z"
   },
   {
    "duration": 8,
    "start_time": "2022-05-13T08:53:08.597Z"
   },
   {
    "duration": 24,
    "start_time": "2022-05-13T08:53:09.821Z"
   },
   {
    "duration": 141,
    "start_time": "2022-05-13T08:53:12.081Z"
   },
   {
    "duration": 38,
    "start_time": "2022-05-13T08:53:14.380Z"
   },
   {
    "duration": 14,
    "start_time": "2022-05-13T08:53:14.740Z"
   },
   {
    "duration": 9,
    "start_time": "2022-05-13T08:53:14.916Z"
   },
   {
    "duration": 12,
    "start_time": "2022-05-13T08:53:15.261Z"
   },
   {
    "duration": 8,
    "start_time": "2022-05-13T08:53:15.445Z"
   },
   {
    "duration": 7,
    "start_time": "2022-05-13T08:53:15.613Z"
   },
   {
    "duration": 12,
    "start_time": "2022-05-13T08:53:15.772Z"
   },
   {
    "duration": 5,
    "start_time": "2022-05-13T08:53:15.949Z"
   },
   {
    "duration": 5,
    "start_time": "2022-05-13T08:53:18.068Z"
   },
   {
    "duration": 8,
    "start_time": "2022-05-13T08:53:18.252Z"
   },
   {
    "duration": 24,
    "start_time": "2022-05-13T08:54:25.684Z"
   },
   {
    "duration": 20,
    "start_time": "2022-05-13T10:48:41.597Z"
   },
   {
    "duration": 21,
    "start_time": "2022-05-13T10:48:49.901Z"
   },
   {
    "duration": 23,
    "start_time": "2022-05-13T10:49:39.380Z"
   },
   {
    "duration": 16,
    "start_time": "2022-05-13T11:00:58.223Z"
   },
   {
    "duration": 15,
    "start_time": "2022-05-13T11:01:46.503Z"
   },
   {
    "duration": 15,
    "start_time": "2022-05-13T11:01:53.230Z"
   },
   {
    "duration": 161,
    "start_time": "2022-05-13T11:01:55.413Z"
   },
   {
    "duration": 21,
    "start_time": "2022-05-13T11:02:08.461Z"
   },
   {
    "duration": 17,
    "start_time": "2022-05-13T11:02:16.500Z"
   },
   {
    "duration": 11,
    "start_time": "2022-05-13T11:03:01.230Z"
   },
   {
    "duration": 17,
    "start_time": "2022-05-13T11:03:15.340Z"
   },
   {
    "duration": 9,
    "start_time": "2022-05-13T11:07:23.528Z"
   },
   {
    "duration": 35,
    "start_time": "2022-05-13T11:07:57.934Z"
   },
   {
    "duration": 4,
    "start_time": "2022-05-13T11:09:04.893Z"
   },
   {
    "duration": 24,
    "start_time": "2022-05-13T11:09:30.725Z"
   },
   {
    "duration": 42,
    "start_time": "2022-05-13T11:09:34.557Z"
   },
   {
    "duration": 21,
    "start_time": "2022-05-13T11:10:24.916Z"
   },
   {
    "duration": 25,
    "start_time": "2022-05-13T11:13:44.736Z"
   },
   {
    "duration": 7,
    "start_time": "2022-05-13T11:28:53.390Z"
   },
   {
    "duration": 125,
    "start_time": "2022-05-13T11:29:06.286Z"
   },
   {
    "duration": 7,
    "start_time": "2022-05-13T11:29:06.527Z"
   },
   {
    "duration": 140,
    "start_time": "2022-05-13T11:29:15.206Z"
   },
   {
    "duration": 7,
    "start_time": "2022-05-13T11:29:15.430Z"
   },
   {
    "duration": 9,
    "start_time": "2022-05-13T11:29:21.454Z"
   },
   {
    "duration": 1554,
    "start_time": "2022-05-13T11:29:21.661Z"
   },
   {
    "duration": 7,
    "start_time": "2022-05-13T11:30:26.260Z"
   },
   {
    "duration": 1667,
    "start_time": "2022-05-13T11:30:26.516Z"
   },
   {
    "duration": 650,
    "start_time": "2022-05-13T11:31:30.878Z"
   },
   {
    "duration": 377,
    "start_time": "2022-05-13T11:31:31.530Z"
   },
   {
    "duration": 3,
    "start_time": "2022-05-13T11:31:31.909Z"
   },
   {
    "duration": 6,
    "start_time": "2022-05-13T11:31:31.914Z"
   },
   {
    "duration": 5,
    "start_time": "2022-05-13T11:31:31.922Z"
   },
   {
    "duration": 4,
    "start_time": "2022-05-13T11:31:31.929Z"
   },
   {
    "duration": 15,
    "start_time": "2022-05-13T11:31:31.934Z"
   },
   {
    "duration": 4,
    "start_time": "2022-05-13T11:31:31.951Z"
   },
   {
    "duration": 16,
    "start_time": "2022-05-13T11:31:31.956Z"
   },
   {
    "duration": 12,
    "start_time": "2022-05-13T11:31:31.974Z"
   },
   {
    "duration": 6,
    "start_time": "2022-05-13T11:31:31.987Z"
   },
   {
    "duration": 9,
    "start_time": "2022-05-13T11:31:31.995Z"
   },
   {
    "duration": 128,
    "start_time": "2022-05-13T11:31:32.006Z"
   },
   {
    "duration": 35,
    "start_time": "2022-05-13T11:31:32.137Z"
   },
   {
    "duration": 20,
    "start_time": "2022-05-13T11:31:32.173Z"
   },
   {
    "duration": 7,
    "start_time": "2022-05-13T11:31:32.194Z"
   },
   {
    "duration": 69,
    "start_time": "2022-05-13T11:31:32.203Z"
   },
   {
    "duration": 12,
    "start_time": "2022-05-13T11:31:32.274Z"
   },
   {
    "duration": 13,
    "start_time": "2022-05-13T11:31:32.287Z"
   },
   {
    "duration": 9,
    "start_time": "2022-05-13T11:31:32.302Z"
   },
   {
    "duration": 84,
    "start_time": "2022-05-13T11:31:32.313Z"
   },
   {
    "duration": 27,
    "start_time": "2022-05-13T11:31:32.398Z"
   },
   {
    "duration": 15,
    "start_time": "2022-05-13T11:31:32.427Z"
   },
   {
    "duration": 31,
    "start_time": "2022-05-13T11:31:32.444Z"
   },
   {
    "duration": 8,
    "start_time": "2022-05-13T11:31:32.477Z"
   },
   {
    "duration": 36,
    "start_time": "2022-05-13T11:31:32.487Z"
   },
   {
    "duration": 7,
    "start_time": "2022-05-13T11:31:32.525Z"
   },
   {
    "duration": 105,
    "start_time": "2022-05-13T11:31:32.534Z"
   },
   {
    "duration": 12,
    "start_time": "2022-05-13T11:31:32.641Z"
   },
   {
    "duration": 44,
    "start_time": "2022-05-13T11:31:32.655Z"
   },
   {
    "duration": 276,
    "start_time": "2022-05-13T11:31:32.702Z"
   },
   {
    "duration": 49,
    "start_time": "2022-05-13T11:31:32.980Z"
   },
   {
    "duration": 12,
    "start_time": "2022-05-13T11:31:33.032Z"
   },
   {
    "duration": 58,
    "start_time": "2022-05-13T11:31:33.046Z"
   },
   {
    "duration": 2032,
    "start_time": "2022-05-13T11:31:33.106Z"
   },
   {
    "duration": 0,
    "start_time": "2022-05-13T11:31:35.140Z"
   },
   {
    "duration": 0,
    "start_time": "2022-05-13T11:31:35.142Z"
   },
   {
    "duration": 0,
    "start_time": "2022-05-13T11:31:35.144Z"
   },
   {
    "duration": 0,
    "start_time": "2022-05-13T11:31:35.146Z"
   },
   {
    "duration": 0,
    "start_time": "2022-05-13T11:31:35.147Z"
   },
   {
    "duration": 0,
    "start_time": "2022-05-13T11:31:35.149Z"
   },
   {
    "duration": 0,
    "start_time": "2022-05-13T11:31:35.150Z"
   },
   {
    "duration": 0,
    "start_time": "2022-05-13T11:31:35.151Z"
   },
   {
    "duration": 0,
    "start_time": "2022-05-13T11:31:35.153Z"
   },
   {
    "duration": 0,
    "start_time": "2022-05-13T11:31:35.154Z"
   },
   {
    "duration": 0,
    "start_time": "2022-05-13T11:31:35.155Z"
   },
   {
    "duration": 3,
    "start_time": "2022-05-13T11:31:46.818Z"
   },
   {
    "duration": 397,
    "start_time": "2022-05-13T11:31:46.823Z"
   },
   {
    "duration": 2,
    "start_time": "2022-05-13T11:31:47.222Z"
   },
   {
    "duration": 17,
    "start_time": "2022-05-13T11:31:47.227Z"
   },
   {
    "duration": 8,
    "start_time": "2022-05-13T11:31:47.247Z"
   },
   {
    "duration": 11,
    "start_time": "2022-05-13T11:31:47.256Z"
   },
   {
    "duration": 14,
    "start_time": "2022-05-13T11:31:47.268Z"
   },
   {
    "duration": 6,
    "start_time": "2022-05-13T11:31:47.284Z"
   },
   {
    "duration": 7,
    "start_time": "2022-05-13T11:31:47.293Z"
   },
   {
    "duration": 15,
    "start_time": "2022-05-13T11:31:47.302Z"
   },
   {
    "duration": 7,
    "start_time": "2022-05-13T11:31:47.319Z"
   },
   {
    "duration": 12,
    "start_time": "2022-05-13T11:31:47.327Z"
   },
   {
    "duration": 152,
    "start_time": "2022-05-13T11:31:47.341Z"
   },
   {
    "duration": 28,
    "start_time": "2022-05-13T11:31:47.495Z"
   },
   {
    "duration": 20,
    "start_time": "2022-05-13T11:31:47.525Z"
   },
   {
    "duration": 28,
    "start_time": "2022-05-13T11:31:47.547Z"
   },
   {
    "duration": 63,
    "start_time": "2022-05-13T11:31:47.577Z"
   },
   {
    "duration": 15,
    "start_time": "2022-05-13T11:31:47.642Z"
   },
   {
    "duration": 23,
    "start_time": "2022-05-13T11:31:47.659Z"
   },
   {
    "duration": 11,
    "start_time": "2022-05-13T11:31:47.684Z"
   },
   {
    "duration": 114,
    "start_time": "2022-05-13T11:31:47.696Z"
   },
   {
    "duration": 25,
    "start_time": "2022-05-13T11:31:47.812Z"
   },
   {
    "duration": 16,
    "start_time": "2022-05-13T11:31:47.839Z"
   },
   {
    "duration": 8,
    "start_time": "2022-05-13T11:31:47.873Z"
   },
   {
    "duration": 5,
    "start_time": "2022-05-13T11:31:47.883Z"
   },
   {
    "duration": 30,
    "start_time": "2022-05-13T11:31:47.890Z"
   },
   {
    "duration": 5,
    "start_time": "2022-05-13T11:31:47.921Z"
   },
   {
    "duration": 88,
    "start_time": "2022-05-13T11:31:47.928Z"
   },
   {
    "duration": 11,
    "start_time": "2022-05-13T11:31:48.018Z"
   },
   {
    "duration": 21,
    "start_time": "2022-05-13T11:31:48.031Z"
   },
   {
    "duration": 183,
    "start_time": "2022-05-13T11:31:48.053Z"
   },
   {
    "duration": 41,
    "start_time": "2022-05-13T11:31:48.237Z"
   },
   {
    "duration": 8,
    "start_time": "2022-05-13T11:31:48.280Z"
   },
   {
    "duration": 31,
    "start_time": "2022-05-13T11:31:48.290Z"
   },
   {
    "duration": 2136,
    "start_time": "2022-05-13T11:31:48.323Z"
   },
   {
    "duration": 0,
    "start_time": "2022-05-13T11:31:50.461Z"
   },
   {
    "duration": 0,
    "start_time": "2022-05-13T11:31:50.462Z"
   },
   {
    "duration": 0,
    "start_time": "2022-05-13T11:31:50.464Z"
   },
   {
    "duration": 0,
    "start_time": "2022-05-13T11:31:50.465Z"
   },
   {
    "duration": 0,
    "start_time": "2022-05-13T11:31:50.467Z"
   },
   {
    "duration": 0,
    "start_time": "2022-05-13T11:31:50.468Z"
   },
   {
    "duration": 0,
    "start_time": "2022-05-13T11:31:50.469Z"
   },
   {
    "duration": 0,
    "start_time": "2022-05-13T11:31:50.470Z"
   },
   {
    "duration": 0,
    "start_time": "2022-05-13T11:31:50.472Z"
   },
   {
    "duration": 0,
    "start_time": "2022-05-13T11:31:50.472Z"
   },
   {
    "duration": 1991,
    "start_time": "2022-05-13T11:32:52.703Z"
   },
   {
    "duration": 138,
    "start_time": "2022-05-13T11:33:09.623Z"
   },
   {
    "duration": 38,
    "start_time": "2022-05-13T11:33:14.766Z"
   },
   {
    "duration": 10,
    "start_time": "2022-05-13T11:33:17.261Z"
   },
   {
    "duration": 9,
    "start_time": "2022-05-13T11:33:17.582Z"
   },
   {
    "duration": 13,
    "start_time": "2022-05-13T11:33:19.478Z"
   },
   {
    "duration": 8,
    "start_time": "2022-05-13T11:33:19.687Z"
   },
   {
    "duration": 8,
    "start_time": "2022-05-13T11:33:19.934Z"
   },
   {
    "duration": 8,
    "start_time": "2022-05-13T11:33:20.158Z"
   },
   {
    "duration": 5,
    "start_time": "2022-05-13T11:33:20.471Z"
   },
   {
    "duration": 4,
    "start_time": "2022-05-13T11:33:22.046Z"
   },
   {
    "duration": 8,
    "start_time": "2022-05-13T11:33:22.407Z"
   },
   {
    "duration": 79,
    "start_time": "2022-05-13T11:33:23.542Z"
   },
   {
    "duration": 6,
    "start_time": "2022-05-13T11:33:26.397Z"
   },
   {
    "duration": 1468,
    "start_time": "2022-05-13T11:33:28.013Z"
   },
   {
    "duration": 6,
    "start_time": "2022-05-13T11:38:20.826Z"
   },
   {
    "duration": 15,
    "start_time": "2022-05-13T11:38:21.066Z"
   },
   {
    "duration": 5,
    "start_time": "2022-05-13T11:38:32.393Z"
   },
   {
    "duration": 159,
    "start_time": "2022-05-13T11:38:32.680Z"
   },
   {
    "duration": 161,
    "start_time": "2022-05-13T11:38:38.401Z"
   },
   {
    "duration": 163,
    "start_time": "2022-05-13T11:40:29.231Z"
   },
   {
    "duration": 127,
    "start_time": "2022-05-13T11:49:15.197Z"
   },
   {
    "duration": 13,
    "start_time": "2022-05-13T11:49:30.588Z"
   },
   {
    "duration": 10,
    "start_time": "2022-05-13T13:02:26.876Z"
   },
   {
    "duration": 10,
    "start_time": "2022-05-13T13:02:37.856Z"
   },
   {
    "duration": 19,
    "start_time": "2022-05-13T13:02:53.999Z"
   },
   {
    "duration": 21,
    "start_time": "2022-05-13T13:03:27.881Z"
   },
   {
    "duration": 17,
    "start_time": "2022-05-13T13:04:19.342Z"
   },
   {
    "duration": 26,
    "start_time": "2022-05-13T13:04:27.766Z"
   },
   {
    "duration": 152,
    "start_time": "2022-05-13T13:05:43.573Z"
   },
   {
    "duration": 12,
    "start_time": "2022-05-13T13:06:25.406Z"
   },
   {
    "duration": 12,
    "start_time": "2022-05-13T13:06:32.316Z"
   },
   {
    "duration": 12,
    "start_time": "2022-05-13T13:06:37.435Z"
   },
   {
    "duration": 11,
    "start_time": "2022-05-13T13:06:39.749Z"
   },
   {
    "duration": 22,
    "start_time": "2022-05-13T13:06:43.916Z"
   },
   {
    "duration": 248,
    "start_time": "2022-05-13T13:07:00.259Z"
   },
   {
    "duration": 22,
    "start_time": "2022-05-13T13:07:06.598Z"
   },
   {
    "duration": 30,
    "start_time": "2022-05-13T13:07:13.867Z"
   },
   {
    "duration": 20,
    "start_time": "2022-05-13T13:07:57.199Z"
   },
   {
    "duration": 23,
    "start_time": "2022-05-13T13:08:10.307Z"
   },
   {
    "duration": 23,
    "start_time": "2022-05-13T13:08:18.706Z"
   },
   {
    "duration": 23,
    "start_time": "2022-05-13T13:08:32.153Z"
   },
   {
    "duration": 18,
    "start_time": "2022-05-13T13:08:35.346Z"
   },
   {
    "duration": 2188,
    "start_time": "2022-05-13T13:09:42.320Z"
   },
   {
    "duration": 3894,
    "start_time": "2022-05-13T13:10:03.119Z"
   },
   {
    "duration": 662,
    "start_time": "2022-05-13T13:11:29.499Z"
   },
   {
    "duration": 421,
    "start_time": "2022-05-13T13:11:30.163Z"
   },
   {
    "duration": 4,
    "start_time": "2022-05-13T13:11:30.586Z"
   },
   {
    "duration": 35,
    "start_time": "2022-05-13T13:11:30.593Z"
   },
   {
    "duration": 22,
    "start_time": "2022-05-13T13:11:30.630Z"
   },
   {
    "duration": 7,
    "start_time": "2022-05-13T13:11:30.653Z"
   },
   {
    "duration": 40,
    "start_time": "2022-05-13T13:11:30.661Z"
   },
   {
    "duration": 19,
    "start_time": "2022-05-13T13:11:30.702Z"
   },
   {
    "duration": 15,
    "start_time": "2022-05-13T13:11:30.722Z"
   },
   {
    "duration": 14,
    "start_time": "2022-05-13T13:11:30.740Z"
   },
   {
    "duration": 24,
    "start_time": "2022-05-13T13:11:30.756Z"
   },
   {
    "duration": 24,
    "start_time": "2022-05-13T13:11:30.781Z"
   },
   {
    "duration": 125,
    "start_time": "2022-05-13T13:11:30.807Z"
   },
   {
    "duration": 27,
    "start_time": "2022-05-13T13:11:30.934Z"
   },
   {
    "duration": 29,
    "start_time": "2022-05-13T13:11:30.972Z"
   },
   {
    "duration": 8,
    "start_time": "2022-05-13T13:11:31.003Z"
   },
   {
    "duration": 99,
    "start_time": "2022-05-13T13:11:31.013Z"
   },
   {
    "duration": 19,
    "start_time": "2022-05-13T13:11:31.114Z"
   },
   {
    "duration": 40,
    "start_time": "2022-05-13T13:11:31.135Z"
   },
   {
    "duration": 13,
    "start_time": "2022-05-13T13:11:31.179Z"
   },
   {
    "duration": 88,
    "start_time": "2022-05-13T13:11:31.194Z"
   },
   {
    "duration": 31,
    "start_time": "2022-05-13T13:11:31.284Z"
   },
   {
    "duration": 17,
    "start_time": "2022-05-13T13:11:31.317Z"
   },
   {
    "duration": 17,
    "start_time": "2022-05-13T13:11:31.336Z"
   },
   {
    "duration": 21,
    "start_time": "2022-05-13T13:11:31.371Z"
   },
   {
    "duration": 27,
    "start_time": "2022-05-13T13:11:31.393Z"
   },
   {
    "duration": 6,
    "start_time": "2022-05-13T13:11:31.421Z"
   },
   {
    "duration": 70,
    "start_time": "2022-05-13T13:11:31.429Z"
   },
   {
    "duration": 9,
    "start_time": "2022-05-13T13:11:31.501Z"
   },
   {
    "duration": 27,
    "start_time": "2022-05-13T13:11:31.511Z"
   },
   {
    "duration": 21,
    "start_time": "2022-05-13T13:11:34.131Z"
   },
   {
    "duration": 12,
    "start_time": "2022-05-13T13:11:35.020Z"
   },
   {
    "duration": 7,
    "start_time": "2022-05-13T13:11:53.685Z"
   },
   {
    "duration": 173,
    "start_time": "2022-05-13T13:11:54.279Z"
   },
   {
    "duration": 654,
    "start_time": "2022-05-13T13:14:03.412Z"
   },
   {
    "duration": 353,
    "start_time": "2022-05-13T13:14:04.070Z"
   },
   {
    "duration": 2,
    "start_time": "2022-05-13T13:14:04.425Z"
   },
   {
    "duration": 8,
    "start_time": "2022-05-13T13:14:04.429Z"
   },
   {
    "duration": 4,
    "start_time": "2022-05-13T13:14:04.440Z"
   },
   {
    "duration": 7,
    "start_time": "2022-05-13T13:14:04.445Z"
   },
   {
    "duration": 13,
    "start_time": "2022-05-13T13:14:04.454Z"
   },
   {
    "duration": 3,
    "start_time": "2022-05-13T13:14:04.469Z"
   },
   {
    "duration": 8,
    "start_time": "2022-05-13T13:14:04.474Z"
   },
   {
    "duration": 12,
    "start_time": "2022-05-13T13:14:04.483Z"
   },
   {
    "duration": 6,
    "start_time": "2022-05-13T13:14:04.497Z"
   },
   {
    "duration": 9,
    "start_time": "2022-05-13T13:14:04.505Z"
   },
   {
    "duration": 130,
    "start_time": "2022-05-13T13:14:04.515Z"
   },
   {
    "duration": 35,
    "start_time": "2022-05-13T13:14:04.648Z"
   },
   {
    "duration": 19,
    "start_time": "2022-05-13T13:14:04.684Z"
   },
   {
    "duration": 6,
    "start_time": "2022-05-13T13:14:04.705Z"
   },
   {
    "duration": 64,
    "start_time": "2022-05-13T13:14:04.713Z"
   },
   {
    "duration": 12,
    "start_time": "2022-05-13T13:14:04.779Z"
   },
   {
    "duration": 12,
    "start_time": "2022-05-13T13:14:04.793Z"
   },
   {
    "duration": 9,
    "start_time": "2022-05-13T13:14:04.807Z"
   },
   {
    "duration": 83,
    "start_time": "2022-05-13T13:14:04.818Z"
   },
   {
    "duration": 25,
    "start_time": "2022-05-13T13:14:04.903Z"
   },
   {
    "duration": 15,
    "start_time": "2022-05-13T13:14:04.929Z"
   },
   {
    "duration": 28,
    "start_time": "2022-05-13T13:14:04.946Z"
   },
   {
    "duration": 12,
    "start_time": "2022-05-13T13:14:04.975Z"
   },
   {
    "duration": 41,
    "start_time": "2022-05-13T13:14:04.989Z"
   },
   {
    "duration": 5,
    "start_time": "2022-05-13T13:14:05.032Z"
   },
   {
    "duration": 60,
    "start_time": "2022-05-13T13:14:05.038Z"
   },
   {
    "duration": 9,
    "start_time": "2022-05-13T13:14:05.099Z"
   },
   {
    "duration": 61,
    "start_time": "2022-05-13T13:14:05.110Z"
   },
   {
    "duration": 7,
    "start_time": "2022-05-13T13:14:05.173Z"
   },
   {
    "duration": 290,
    "start_time": "2022-05-13T13:14:05.182Z"
   },
   {
    "duration": 30,
    "start_time": "2022-05-13T13:14:05.474Z"
   },
   {
    "duration": 7,
    "start_time": "2022-05-13T13:14:05.506Z"
   },
   {
    "duration": 22,
    "start_time": "2022-05-13T13:14:05.514Z"
   },
   {
    "duration": 139,
    "start_time": "2022-05-13T13:14:05.538Z"
   },
   {
    "duration": 36,
    "start_time": "2022-05-13T13:14:05.679Z"
   },
   {
    "duration": 12,
    "start_time": "2022-05-13T13:14:05.716Z"
   },
   {
    "duration": 8,
    "start_time": "2022-05-13T13:14:05.730Z"
   },
   {
    "duration": 13,
    "start_time": "2022-05-13T13:14:05.739Z"
   },
   {
    "duration": 18,
    "start_time": "2022-05-13T13:14:05.755Z"
   },
   {
    "duration": 8,
    "start_time": "2022-05-13T13:14:05.774Z"
   },
   {
    "duration": 7,
    "start_time": "2022-05-13T13:14:05.783Z"
   },
   {
    "duration": 6,
    "start_time": "2022-05-13T13:14:05.791Z"
   },
   {
    "duration": 6,
    "start_time": "2022-05-13T13:14:05.798Z"
   },
   {
    "duration": 9,
    "start_time": "2022-05-13T13:14:05.805Z"
   },
   {
    "duration": 24,
    "start_time": "2022-05-13T13:14:05.815Z"
   },
   {
    "duration": 5,
    "start_time": "2022-05-13T13:14:05.841Z"
   },
   {
    "duration": 158,
    "start_time": "2022-05-13T13:14:05.847Z"
   },
   {
    "duration": 16,
    "start_time": "2022-05-13T13:14:13.527Z"
   },
   {
    "duration": 2532,
    "start_time": "2022-05-13T13:17:01.994Z"
   },
   {
    "duration": 600,
    "start_time": "2022-05-13T13:28:06.429Z"
   },
   {
    "duration": 357,
    "start_time": "2022-05-13T13:28:07.030Z"
   },
   {
    "duration": 3,
    "start_time": "2022-05-13T13:28:07.388Z"
   },
   {
    "duration": 5,
    "start_time": "2022-05-13T13:28:07.392Z"
   },
   {
    "duration": 4,
    "start_time": "2022-05-13T13:28:07.399Z"
   },
   {
    "duration": 4,
    "start_time": "2022-05-13T13:28:07.404Z"
   },
   {
    "duration": 12,
    "start_time": "2022-05-13T13:28:07.411Z"
   },
   {
    "duration": 3,
    "start_time": "2022-05-13T13:28:07.425Z"
   },
   {
    "duration": 6,
    "start_time": "2022-05-13T13:28:07.429Z"
   },
   {
    "duration": 14,
    "start_time": "2022-05-13T13:28:07.437Z"
   },
   {
    "duration": 22,
    "start_time": "2022-05-13T13:28:07.452Z"
   },
   {
    "duration": 10,
    "start_time": "2022-05-13T13:28:07.475Z"
   },
   {
    "duration": 118,
    "start_time": "2022-05-13T13:28:07.487Z"
   },
   {
    "duration": 25,
    "start_time": "2022-05-13T13:28:07.608Z"
   },
   {
    "duration": 19,
    "start_time": "2022-05-13T13:28:07.635Z"
   },
   {
    "duration": 7,
    "start_time": "2022-05-13T13:28:07.670Z"
   },
   {
    "duration": 44,
    "start_time": "2022-05-13T13:28:07.679Z"
   },
   {
    "duration": 13,
    "start_time": "2022-05-13T13:28:07.725Z"
   },
   {
    "duration": 35,
    "start_time": "2022-05-13T13:28:07.739Z"
   },
   {
    "duration": 8,
    "start_time": "2022-05-13T13:28:07.775Z"
   },
   {
    "duration": 66,
    "start_time": "2022-05-13T13:28:07.785Z"
   },
   {
    "duration": 42,
    "start_time": "2022-05-13T13:28:07.853Z"
   },
   {
    "duration": 14,
    "start_time": "2022-05-13T13:28:07.897Z"
   },
   {
    "duration": 8,
    "start_time": "2022-05-13T13:28:07.912Z"
   },
   {
    "duration": 5,
    "start_time": "2022-05-13T13:28:07.922Z"
   },
   {
    "duration": 47,
    "start_time": "2022-05-13T13:28:07.929Z"
   },
   {
    "duration": 5,
    "start_time": "2022-05-13T13:28:07.977Z"
   },
   {
    "duration": 52,
    "start_time": "2022-05-13T13:28:07.983Z"
   },
   {
    "duration": 7,
    "start_time": "2022-05-13T13:28:08.037Z"
   },
   {
    "duration": 41,
    "start_time": "2022-05-13T13:28:08.046Z"
   },
   {
    "duration": 5,
    "start_time": "2022-05-13T13:28:08.089Z"
   },
   {
    "duration": 171,
    "start_time": "2022-05-13T13:28:08.095Z"
   },
   {
    "duration": 31,
    "start_time": "2022-05-13T13:28:08.268Z"
   },
   {
    "duration": 7,
    "start_time": "2022-05-13T13:28:08.301Z"
   },
   {
    "duration": 21,
    "start_time": "2022-05-13T13:28:08.310Z"
   },
   {
    "duration": 159,
    "start_time": "2022-05-13T13:28:08.333Z"
   },
   {
    "duration": 39,
    "start_time": "2022-05-13T13:28:08.494Z"
   },
   {
    "duration": 12,
    "start_time": "2022-05-13T13:28:08.535Z"
   },
   {
    "duration": 29,
    "start_time": "2022-05-13T13:28:08.548Z"
   },
   {
    "duration": 14,
    "start_time": "2022-05-13T13:28:08.578Z"
   },
   {
    "duration": 8,
    "start_time": "2022-05-13T13:28:08.595Z"
   },
   {
    "duration": 13,
    "start_time": "2022-05-13T13:28:08.605Z"
   },
   {
    "duration": 7,
    "start_time": "2022-05-13T13:28:08.620Z"
   },
   {
    "duration": 5,
    "start_time": "2022-05-13T13:28:08.628Z"
   },
   {
    "duration": 4,
    "start_time": "2022-05-13T13:28:08.634Z"
   },
   {
    "duration": 33,
    "start_time": "2022-05-13T13:28:08.639Z"
   },
   {
    "duration": 23,
    "start_time": "2022-05-13T13:28:08.674Z"
   },
   {
    "duration": 5,
    "start_time": "2022-05-13T13:28:08.699Z"
   },
   {
    "duration": 176,
    "start_time": "2022-05-13T13:28:08.706Z"
   },
   {
    "duration": 14,
    "start_time": "2022-05-13T13:28:08.883Z"
   },
   {
    "duration": 2543,
    "start_time": "2022-05-13T13:28:08.899Z"
   },
   {
    "duration": 0,
    "start_time": "2022-05-13T13:28:11.443Z"
   },
   {
    "duration": 19,
    "start_time": "2022-05-13T13:31:23.893Z"
   },
   {
    "duration": 2046,
    "start_time": "2022-05-13T13:31:27.854Z"
   },
   {
    "duration": 148,
    "start_time": "2022-05-13T13:31:49.412Z"
   },
   {
    "duration": 2344,
    "start_time": "2022-05-13T13:32:02.477Z"
   },
   {
    "duration": 13,
    "start_time": "2022-05-13T14:07:41.946Z"
   },
   {
    "duration": 13,
    "start_time": "2022-05-13T14:07:51.209Z"
   },
   {
    "duration": 20,
    "start_time": "2022-05-13T14:07:59.179Z"
   },
   {
    "duration": 12,
    "start_time": "2022-05-13T14:08:24.440Z"
   },
   {
    "duration": 13,
    "start_time": "2022-05-13T14:08:32.656Z"
   },
   {
    "duration": 14,
    "start_time": "2022-05-13T14:10:10.630Z"
   },
   {
    "duration": 15,
    "start_time": "2022-05-13T14:10:24.107Z"
   },
   {
    "duration": 664,
    "start_time": "2022-05-13T14:10:32.990Z"
   },
   {
    "duration": 404,
    "start_time": "2022-05-13T14:10:33.657Z"
   },
   {
    "duration": 3,
    "start_time": "2022-05-13T14:10:34.062Z"
   },
   {
    "duration": 7,
    "start_time": "2022-05-13T14:10:34.067Z"
   },
   {
    "duration": 16,
    "start_time": "2022-05-13T14:10:34.077Z"
   },
   {
    "duration": 5,
    "start_time": "2022-05-13T14:10:34.095Z"
   },
   {
    "duration": 20,
    "start_time": "2022-05-13T14:10:34.102Z"
   },
   {
    "duration": 9,
    "start_time": "2022-05-13T14:10:34.123Z"
   },
   {
    "duration": 8,
    "start_time": "2022-05-13T14:10:34.134Z"
   },
   {
    "duration": 12,
    "start_time": "2022-05-13T14:10:34.143Z"
   },
   {
    "duration": 5,
    "start_time": "2022-05-13T14:10:34.157Z"
   },
   {
    "duration": 21,
    "start_time": "2022-05-13T14:10:34.163Z"
   },
   {
    "duration": 122,
    "start_time": "2022-05-13T14:10:34.186Z"
   },
   {
    "duration": 27,
    "start_time": "2022-05-13T14:10:34.311Z"
   },
   {
    "duration": 41,
    "start_time": "2022-05-13T14:10:34.340Z"
   },
   {
    "duration": 9,
    "start_time": "2022-05-13T14:10:34.384Z"
   },
   {
    "duration": 46,
    "start_time": "2022-05-13T14:10:34.395Z"
   },
   {
    "duration": 29,
    "start_time": "2022-05-13T14:10:34.443Z"
   },
   {
    "duration": 20,
    "start_time": "2022-05-13T14:10:34.476Z"
   },
   {
    "duration": 13,
    "start_time": "2022-05-13T14:10:34.498Z"
   },
   {
    "duration": 84,
    "start_time": "2022-05-13T14:10:34.513Z"
   },
   {
    "duration": 25,
    "start_time": "2022-05-13T14:10:34.599Z"
   },
   {
    "duration": 15,
    "start_time": "2022-05-13T14:10:34.625Z"
   },
   {
    "duration": 7,
    "start_time": "2022-05-13T14:10:34.642Z"
   },
   {
    "duration": 35,
    "start_time": "2022-05-13T14:10:34.651Z"
   },
   {
    "duration": 25,
    "start_time": "2022-05-13T14:10:34.688Z"
   },
   {
    "duration": 4,
    "start_time": "2022-05-13T14:10:34.715Z"
   },
   {
    "duration": 65,
    "start_time": "2022-05-13T14:10:34.722Z"
   },
   {
    "duration": 8,
    "start_time": "2022-05-13T14:10:34.789Z"
   },
   {
    "duration": 21,
    "start_time": "2022-05-13T14:10:34.799Z"
   },
   {
    "duration": 6,
    "start_time": "2022-05-13T14:10:34.821Z"
   },
   {
    "duration": 194,
    "start_time": "2022-05-13T14:10:34.828Z"
   },
   {
    "duration": 32,
    "start_time": "2022-05-13T14:10:35.023Z"
   },
   {
    "duration": 25,
    "start_time": "2022-05-13T14:10:35.057Z"
   },
   {
    "duration": 23,
    "start_time": "2022-05-13T14:10:35.085Z"
   },
   {
    "duration": 153,
    "start_time": "2022-05-13T14:10:35.109Z"
   },
   {
    "duration": 58,
    "start_time": "2022-05-13T14:10:35.264Z"
   },
   {
    "duration": 13,
    "start_time": "2022-05-13T14:10:35.324Z"
   },
   {
    "duration": 8,
    "start_time": "2022-05-13T14:10:35.339Z"
   },
   {
    "duration": 32,
    "start_time": "2022-05-13T14:10:35.349Z"
   },
   {
    "duration": 9,
    "start_time": "2022-05-13T14:10:35.388Z"
   },
   {
    "duration": 10,
    "start_time": "2022-05-13T14:10:35.399Z"
   },
   {
    "duration": 15,
    "start_time": "2022-05-13T14:10:35.410Z"
   },
   {
    "duration": 7,
    "start_time": "2022-05-13T14:10:35.426Z"
   },
   {
    "duration": 4,
    "start_time": "2022-05-13T14:10:35.434Z"
   },
   {
    "duration": 11,
    "start_time": "2022-05-13T14:10:35.439Z"
   },
   {
    "duration": 44,
    "start_time": "2022-05-13T14:10:35.452Z"
   },
   {
    "duration": 6,
    "start_time": "2022-05-13T14:10:35.497Z"
   },
   {
    "duration": 187,
    "start_time": "2022-05-13T14:10:35.504Z"
   },
   {
    "duration": 83,
    "start_time": "2022-05-13T14:10:48.024Z"
   },
   {
    "duration": 14,
    "start_time": "2022-05-13T14:13:21.116Z"
   },
   {
    "duration": 15,
    "start_time": "2022-05-13T14:13:27.083Z"
   },
   {
    "duration": 15,
    "start_time": "2022-05-13T14:13:31.060Z"
   },
   {
    "duration": 4,
    "start_time": "2022-05-13T14:13:50.535Z"
   },
   {
    "duration": 13,
    "start_time": "2022-05-13T14:13:52.684Z"
   },
   {
    "duration": 13,
    "start_time": "2022-05-13T14:14:14.754Z"
   },
   {
    "duration": 14,
    "start_time": "2022-05-13T14:19:05.725Z"
   },
   {
    "duration": 14,
    "start_time": "2022-05-13T14:19:09.652Z"
   },
   {
    "duration": 19,
    "start_time": "2022-05-13T14:19:26.693Z"
   },
   {
    "duration": 16,
    "start_time": "2022-05-13T14:19:31.165Z"
   },
   {
    "duration": 8,
    "start_time": "2022-05-13T14:19:34.455Z"
   },
   {
    "duration": 9,
    "start_time": "2022-05-13T14:21:43.594Z"
   },
   {
    "duration": 18,
    "start_time": "2022-05-13T14:21:49.881Z"
   },
   {
    "duration": 8,
    "start_time": "2022-05-13T14:21:50.409Z"
   },
   {
    "duration": 18,
    "start_time": "2022-05-13T14:21:54.361Z"
   },
   {
    "duration": 12,
    "start_time": "2022-05-13T14:21:54.603Z"
   },
   {
    "duration": 18,
    "start_time": "2022-05-13T14:23:31.192Z"
   },
   {
    "duration": 10,
    "start_time": "2022-05-13T14:23:46.750Z"
   },
   {
    "duration": 958,
    "start_time": "2022-05-13T14:24:01.010Z"
   },
   {
    "duration": 372,
    "start_time": "2022-05-13T14:24:01.972Z"
   },
   {
    "duration": 3,
    "start_time": "2022-05-13T14:24:02.345Z"
   },
   {
    "duration": 5,
    "start_time": "2022-05-13T14:24:02.351Z"
   },
   {
    "duration": 8,
    "start_time": "2022-05-13T14:24:02.358Z"
   },
   {
    "duration": 12,
    "start_time": "2022-05-13T14:24:02.368Z"
   },
   {
    "duration": 25,
    "start_time": "2022-05-13T14:24:02.383Z"
   },
   {
    "duration": 5,
    "start_time": "2022-05-13T14:24:02.410Z"
   },
   {
    "duration": 8,
    "start_time": "2022-05-13T14:24:02.417Z"
   },
   {
    "duration": 12,
    "start_time": "2022-05-13T14:24:02.428Z"
   },
   {
    "duration": 14,
    "start_time": "2022-05-13T14:24:02.442Z"
   },
   {
    "duration": 9,
    "start_time": "2022-05-13T14:24:02.470Z"
   },
   {
    "duration": 117,
    "start_time": "2022-05-13T14:24:02.481Z"
   },
   {
    "duration": 28,
    "start_time": "2022-05-13T14:24:02.600Z"
   },
   {
    "duration": 19,
    "start_time": "2022-05-13T14:24:02.630Z"
   },
   {
    "duration": 8,
    "start_time": "2022-05-13T14:24:02.670Z"
   },
   {
    "duration": 48,
    "start_time": "2022-05-13T14:24:02.680Z"
   },
   {
    "duration": 14,
    "start_time": "2022-05-13T14:24:02.730Z"
   },
   {
    "duration": 34,
    "start_time": "2022-05-13T14:24:02.745Z"
   },
   {
    "duration": 8,
    "start_time": "2022-05-13T14:24:02.781Z"
   },
   {
    "duration": 82,
    "start_time": "2022-05-13T14:24:02.791Z"
   },
   {
    "duration": 27,
    "start_time": "2022-05-13T14:24:02.875Z"
   },
   {
    "duration": 16,
    "start_time": "2022-05-13T14:24:02.904Z"
   },
   {
    "duration": 9,
    "start_time": "2022-05-13T14:24:02.921Z"
   },
   {
    "duration": 6,
    "start_time": "2022-05-13T14:24:02.932Z"
   },
   {
    "duration": 25,
    "start_time": "2022-05-13T14:24:02.971Z"
   },
   {
    "duration": 10,
    "start_time": "2022-05-13T14:24:02.998Z"
   },
   {
    "duration": 70,
    "start_time": "2022-05-13T14:24:03.012Z"
   },
   {
    "duration": 9,
    "start_time": "2022-05-13T14:24:03.083Z"
   },
   {
    "duration": 21,
    "start_time": "2022-05-13T14:24:03.094Z"
   },
   {
    "duration": 6,
    "start_time": "2022-05-13T14:24:03.117Z"
   },
   {
    "duration": 192,
    "start_time": "2022-05-13T14:24:03.125Z"
   },
   {
    "duration": 32,
    "start_time": "2022-05-13T14:24:03.320Z"
   },
   {
    "duration": 21,
    "start_time": "2022-05-13T14:24:03.354Z"
   },
   {
    "duration": 24,
    "start_time": "2022-05-13T14:24:03.376Z"
   },
   {
    "duration": 287,
    "start_time": "2022-05-13T14:24:03.402Z"
   },
   {
    "duration": 60,
    "start_time": "2022-05-13T14:24:03.692Z"
   },
   {
    "duration": 34,
    "start_time": "2022-05-13T14:24:03.755Z"
   },
   {
    "duration": 15,
    "start_time": "2022-05-13T14:24:03.792Z"
   },
   {
    "duration": 21,
    "start_time": "2022-05-13T14:24:03.809Z"
   },
   {
    "duration": 11,
    "start_time": "2022-05-13T14:24:03.833Z"
   },
   {
    "duration": 11,
    "start_time": "2022-05-13T14:24:03.871Z"
   },
   {
    "duration": 12,
    "start_time": "2022-05-13T14:24:03.884Z"
   },
   {
    "duration": 10,
    "start_time": "2022-05-13T14:24:03.898Z"
   },
   {
    "duration": 4,
    "start_time": "2022-05-13T14:24:03.910Z"
   },
   {
    "duration": 11,
    "start_time": "2022-05-13T14:24:03.916Z"
   },
   {
    "duration": 49,
    "start_time": "2022-05-13T14:24:03.929Z"
   },
   {
    "duration": 6,
    "start_time": "2022-05-13T14:24:03.980Z"
   },
   {
    "duration": 176,
    "start_time": "2022-05-13T14:24:03.987Z"
   },
   {
    "duration": 21,
    "start_time": "2022-05-13T14:24:04.164Z"
   },
   {
    "duration": 13,
    "start_time": "2022-05-13T14:24:07.660Z"
   },
   {
    "duration": 14,
    "start_time": "2022-05-13T14:24:18.980Z"
   },
   {
    "duration": 688,
    "start_time": "2022-05-15T17:33:48.642Z"
   },
   {
    "duration": 379,
    "start_time": "2022-05-15T17:33:49.332Z"
   },
   {
    "duration": 2,
    "start_time": "2022-05-15T17:33:49.713Z"
   },
   {
    "duration": 4,
    "start_time": "2022-05-15T17:33:49.717Z"
   },
   {
    "duration": 6,
    "start_time": "2022-05-15T17:33:49.723Z"
   },
   {
    "duration": 5,
    "start_time": "2022-05-15T17:33:49.730Z"
   },
   {
    "duration": 13,
    "start_time": "2022-05-15T17:33:49.736Z"
   },
   {
    "duration": 3,
    "start_time": "2022-05-15T17:33:49.751Z"
   },
   {
    "duration": 20,
    "start_time": "2022-05-15T17:33:49.755Z"
   },
   {
    "duration": 22,
    "start_time": "2022-05-15T17:33:49.781Z"
   },
   {
    "duration": 7,
    "start_time": "2022-05-15T17:33:49.804Z"
   },
   {
    "duration": 10,
    "start_time": "2022-05-15T17:33:49.812Z"
   },
   {
    "duration": 129,
    "start_time": "2022-05-15T17:33:49.824Z"
   },
   {
    "duration": 39,
    "start_time": "2022-05-15T17:33:49.955Z"
   },
   {
    "duration": 21,
    "start_time": "2022-05-15T17:33:49.996Z"
   },
   {
    "duration": 7,
    "start_time": "2022-05-15T17:33:50.019Z"
   },
   {
    "duration": 82,
    "start_time": "2022-05-15T17:33:50.028Z"
   },
   {
    "duration": 12,
    "start_time": "2022-05-15T17:33:50.112Z"
   },
   {
    "duration": 13,
    "start_time": "2022-05-15T17:33:50.126Z"
   },
   {
    "duration": 39,
    "start_time": "2022-05-15T17:33:50.141Z"
   },
   {
    "duration": 67,
    "start_time": "2022-05-15T17:33:50.182Z"
   },
   {
    "duration": 40,
    "start_time": "2022-05-15T17:33:50.250Z"
   },
   {
    "duration": 17,
    "start_time": "2022-05-15T17:33:50.292Z"
   },
   {
    "duration": 8,
    "start_time": "2022-05-15T17:33:50.311Z"
   },
   {
    "duration": 7,
    "start_time": "2022-05-15T17:33:50.321Z"
   },
   {
    "duration": 65,
    "start_time": "2022-05-15T17:33:50.330Z"
   },
   {
    "duration": 6,
    "start_time": "2022-05-15T17:33:50.397Z"
   },
   {
    "duration": 80,
    "start_time": "2022-05-15T17:33:50.407Z"
   },
   {
    "duration": 7,
    "start_time": "2022-05-15T17:33:50.490Z"
   },
   {
    "duration": 21,
    "start_time": "2022-05-15T17:33:50.499Z"
   },
   {
    "duration": 5,
    "start_time": "2022-05-15T17:33:50.521Z"
   },
   {
    "duration": 188,
    "start_time": "2022-05-15T17:33:50.527Z"
   },
   {
    "duration": 30,
    "start_time": "2022-05-15T17:33:50.717Z"
   },
   {
    "duration": 7,
    "start_time": "2022-05-15T17:33:50.749Z"
   },
   {
    "duration": 24,
    "start_time": "2022-05-15T17:33:50.772Z"
   },
   {
    "duration": 154,
    "start_time": "2022-05-15T17:33:50.798Z"
   },
   {
    "duration": 51,
    "start_time": "2022-05-15T17:33:50.954Z"
   },
   {
    "duration": 13,
    "start_time": "2022-05-15T17:33:51.007Z"
   },
   {
    "duration": 8,
    "start_time": "2022-05-15T17:33:51.021Z"
   },
   {
    "duration": 13,
    "start_time": "2022-05-15T17:33:51.031Z"
   },
   {
    "duration": 30,
    "start_time": "2022-05-15T17:33:51.045Z"
   },
   {
    "duration": 16,
    "start_time": "2022-05-15T17:33:51.077Z"
   },
   {
    "duration": 10,
    "start_time": "2022-05-15T17:33:51.095Z"
   },
   {
    "duration": 5,
    "start_time": "2022-05-15T17:33:51.106Z"
   },
   {
    "duration": 4,
    "start_time": "2022-05-15T17:33:51.113Z"
   },
   {
    "duration": 8,
    "start_time": "2022-05-15T17:33:51.119Z"
   },
   {
    "duration": 23,
    "start_time": "2022-05-15T17:43:49.149Z"
   },
   {
    "duration": 6,
    "start_time": "2022-05-15T17:43:55.338Z"
   },
   {
    "duration": 159,
    "start_time": "2022-05-15T17:43:56.295Z"
   },
   {
    "duration": 15,
    "start_time": "2022-05-15T17:44:01.495Z"
   },
   {
    "duration": 9,
    "start_time": "2022-05-15T17:44:04.788Z"
   },
   {
    "duration": 14,
    "start_time": "2022-05-15T17:44:05.537Z"
   },
   {
    "duration": 11,
    "start_time": "2022-05-15T17:44:20.024Z"
   },
   {
    "duration": 70,
    "start_time": "2022-05-15T17:46:35.890Z"
   },
   {
    "duration": 38,
    "start_time": "2022-05-15T18:19:14.794Z"
   },
   {
    "duration": 177,
    "start_time": "2022-05-15T18:20:12.286Z"
   },
   {
    "duration": 13,
    "start_time": "2022-05-15T18:21:33.236Z"
   },
   {
    "duration": 154,
    "start_time": "2022-05-15T18:31:35.289Z"
   },
   {
    "duration": 149,
    "start_time": "2022-05-15T18:31:53.060Z"
   },
   {
    "duration": 143,
    "start_time": "2022-05-15T18:32:08.006Z"
   },
   {
    "duration": 154,
    "start_time": "2022-05-15T18:32:12.158Z"
   },
   {
    "duration": 24,
    "start_time": "2022-05-15T18:33:34.629Z"
   },
   {
    "duration": 11,
    "start_time": "2022-05-15T18:34:56.111Z"
   },
   {
    "duration": 2102,
    "start_time": "2022-05-15T18:48:10.051Z"
   },
   {
    "duration": 13,
    "start_time": "2022-05-15T18:48:24.298Z"
   },
   {
    "duration": 22,
    "start_time": "2022-05-15T18:48:28.500Z"
   },
   {
    "duration": 12,
    "start_time": "2022-05-15T18:48:54.725Z"
   },
   {
    "duration": 844,
    "start_time": "2022-05-15T19:19:05.744Z"
   },
   {
    "duration": 1147,
    "start_time": "2022-05-15T19:19:06.591Z"
   },
   {
    "duration": 4,
    "start_time": "2022-05-15T19:19:07.740Z"
   },
   {
    "duration": 14,
    "start_time": "2022-05-15T19:19:07.745Z"
   },
   {
    "duration": 6,
    "start_time": "2022-05-15T19:19:07.762Z"
   },
   {
    "duration": 13,
    "start_time": "2022-05-15T19:19:07.769Z"
   },
   {
    "duration": 20,
    "start_time": "2022-05-15T19:19:07.784Z"
   },
   {
    "duration": 5,
    "start_time": "2022-05-15T19:19:07.806Z"
   },
   {
    "duration": 9,
    "start_time": "2022-05-15T19:19:07.813Z"
   },
   {
    "duration": 13,
    "start_time": "2022-05-15T19:19:07.824Z"
   },
   {
    "duration": 38,
    "start_time": "2022-05-15T19:19:07.839Z"
   },
   {
    "duration": 16,
    "start_time": "2022-05-15T19:19:07.879Z"
   },
   {
    "duration": 170,
    "start_time": "2022-05-15T19:19:07.897Z"
   },
   {
    "duration": 35,
    "start_time": "2022-05-15T19:19:08.073Z"
   },
   {
    "duration": 20,
    "start_time": "2022-05-15T19:19:08.110Z"
   },
   {
    "duration": 40,
    "start_time": "2022-05-15T19:19:08.132Z"
   },
   {
    "duration": 48,
    "start_time": "2022-05-15T19:19:08.174Z"
   },
   {
    "duration": 14,
    "start_time": "2022-05-15T19:19:08.225Z"
   },
   {
    "duration": 15,
    "start_time": "2022-05-15T19:19:08.271Z"
   },
   {
    "duration": 13,
    "start_time": "2022-05-15T19:19:08.288Z"
   },
   {
    "duration": 133,
    "start_time": "2022-05-15T19:19:08.303Z"
   },
   {
    "duration": 49,
    "start_time": "2022-05-15T19:19:08.438Z"
   },
   {
    "duration": 26,
    "start_time": "2022-05-15T19:19:08.489Z"
   },
   {
    "duration": 11,
    "start_time": "2022-05-15T19:19:08.518Z"
   },
   {
    "duration": 41,
    "start_time": "2022-05-15T19:19:08.531Z"
   },
   {
    "duration": 28,
    "start_time": "2022-05-15T19:19:08.574Z"
   },
   {
    "duration": 5,
    "start_time": "2022-05-15T19:19:08.604Z"
   },
   {
    "duration": 193,
    "start_time": "2022-05-15T19:19:08.611Z"
   },
   {
    "duration": 16,
    "start_time": "2022-05-15T19:19:08.806Z"
   },
   {
    "duration": 35,
    "start_time": "2022-05-15T19:19:08.824Z"
   },
   {
    "duration": 22,
    "start_time": "2022-05-15T19:19:08.864Z"
   },
   {
    "duration": 15,
    "start_time": "2022-05-15T19:19:08.889Z"
   },
   {
    "duration": 75,
    "start_time": "2022-05-15T20:31:57.394Z"
   },
   {
    "duration": 9,
    "start_time": "2022-05-15T20:31:57.588Z"
   },
   {
    "duration": 5,
    "start_time": "2022-05-15T20:32:44.422Z"
   },
   {
    "duration": 24,
    "start_time": "2022-05-15T20:32:45.749Z"
   },
   {
    "duration": 8,
    "start_time": "2022-05-15T20:32:46.398Z"
   },
   {
    "duration": 176,
    "start_time": "2022-05-15T20:33:22.942Z"
   },
   {
    "duration": 30,
    "start_time": "2022-05-15T20:34:21.687Z"
   },
   {
    "duration": 177,
    "start_time": "2022-05-15T20:34:21.879Z"
   },
   {
    "duration": 20,
    "start_time": "2022-05-15T20:34:24.903Z"
   },
   {
    "duration": 10,
    "start_time": "2022-05-15T20:34:25.098Z"
   },
   {
    "duration": 11,
    "start_time": "2022-05-15T20:34:25.279Z"
   },
   {
    "duration": 11,
    "start_time": "2022-05-15T20:34:25.998Z"
   },
   {
    "duration": 6,
    "start_time": "2022-05-15T20:34:28.941Z"
   },
   {
    "duration": 5,
    "start_time": "2022-05-15T20:34:34.802Z"
   },
   {
    "duration": 11,
    "start_time": "2022-05-15T20:34:34.988Z"
   },
   {
    "duration": 4,
    "start_time": "2022-05-15T20:34:48.204Z"
   },
   {
    "duration": 3,
    "start_time": "2022-05-15T20:35:02.647Z"
   },
   {
    "duration": 45,
    "start_time": "2022-05-15T20:36:00.476Z"
   },
   {
    "duration": 9,
    "start_time": "2022-05-15T20:36:34.230Z"
   },
   {
    "duration": 172,
    "start_time": "2022-05-15T20:36:36.158Z"
   },
   {
    "duration": 26,
    "start_time": "2022-05-15T20:36:36.511Z"
   },
   {
    "duration": 6,
    "start_time": "2022-05-15T20:41:12.226Z"
   },
   {
    "duration": 16,
    "start_time": "2022-05-15T20:41:22.169Z"
   },
   {
    "duration": 24,
    "start_time": "2022-05-15T20:41:22.550Z"
   },
   {
    "duration": 20,
    "start_time": "2022-05-15T20:41:24.440Z"
   },
   {
    "duration": 11,
    "start_time": "2022-05-15T20:41:31.217Z"
   },
   {
    "duration": 682,
    "start_time": "2022-05-15T20:41:45.061Z"
   },
   {
    "duration": 397,
    "start_time": "2022-05-15T20:41:45.745Z"
   },
   {
    "duration": 3,
    "start_time": "2022-05-15T20:41:46.144Z"
   },
   {
    "duration": 5,
    "start_time": "2022-05-15T20:41:46.149Z"
   },
   {
    "duration": 9,
    "start_time": "2022-05-15T20:41:46.155Z"
   },
   {
    "duration": 16,
    "start_time": "2022-05-15T20:41:46.166Z"
   },
   {
    "duration": 23,
    "start_time": "2022-05-15T20:41:46.184Z"
   },
   {
    "duration": 4,
    "start_time": "2022-05-15T20:41:46.209Z"
   },
   {
    "duration": 8,
    "start_time": "2022-05-15T20:41:46.214Z"
   },
   {
    "duration": 11,
    "start_time": "2022-05-15T20:41:46.225Z"
   },
   {
    "duration": 7,
    "start_time": "2022-05-15T20:41:46.238Z"
   },
   {
    "duration": 15,
    "start_time": "2022-05-15T20:41:46.274Z"
   },
   {
    "duration": 170,
    "start_time": "2022-05-15T20:41:46.293Z"
   },
   {
    "duration": 40,
    "start_time": "2022-05-15T20:41:46.470Z"
   },
   {
    "duration": 20,
    "start_time": "2022-05-15T20:41:46.511Z"
   },
   {
    "duration": 9,
    "start_time": "2022-05-15T20:41:46.532Z"
   },
   {
    "duration": 84,
    "start_time": "2022-05-15T20:41:46.543Z"
   },
   {
    "duration": 14,
    "start_time": "2022-05-15T20:41:46.628Z"
   },
   {
    "duration": 49,
    "start_time": "2022-05-15T20:41:46.644Z"
   },
   {
    "duration": 19,
    "start_time": "2022-05-15T20:41:46.695Z"
   },
   {
    "duration": 84,
    "start_time": "2022-05-15T20:41:46.716Z"
   },
   {
    "duration": 27,
    "start_time": "2022-05-15T20:41:46.801Z"
   },
   {
    "duration": 47,
    "start_time": "2022-05-15T20:41:46.829Z"
   },
   {
    "duration": 14,
    "start_time": "2022-05-15T20:41:46.881Z"
   },
   {
    "duration": 7,
    "start_time": "2022-05-15T20:41:46.896Z"
   },
   {
    "duration": 28,
    "start_time": "2022-05-15T20:41:46.904Z"
   },
   {
    "duration": 5,
    "start_time": "2022-05-15T20:41:46.934Z"
   },
   {
    "duration": 159,
    "start_time": "2022-05-15T20:41:46.942Z"
   },
   {
    "duration": 9,
    "start_time": "2022-05-15T20:41:47.102Z"
   },
   {
    "duration": 10,
    "start_time": "2022-05-15T20:41:47.112Z"
   },
   {
    "duration": 13,
    "start_time": "2022-05-15T20:41:47.123Z"
   },
   {
    "duration": 38,
    "start_time": "2022-05-15T20:41:47.137Z"
   },
   {
    "duration": 9,
    "start_time": "2022-05-15T20:41:47.177Z"
   },
   {
    "duration": 9,
    "start_time": "2022-05-15T20:41:47.188Z"
   },
   {
    "duration": 24,
    "start_time": "2022-05-15T20:41:47.199Z"
   },
   {
    "duration": 5,
    "start_time": "2022-05-15T20:41:47.225Z"
   },
   {
    "duration": 208,
    "start_time": "2022-05-15T20:41:47.231Z"
   },
   {
    "duration": 35,
    "start_time": "2022-05-15T20:41:47.440Z"
   },
   {
    "duration": 149,
    "start_time": "2022-05-15T20:41:47.477Z"
   },
   {
    "duration": 15,
    "start_time": "2022-05-15T20:41:47.628Z"
   },
   {
    "duration": 27,
    "start_time": "2022-05-15T20:41:47.645Z"
   },
   {
    "duration": 8,
    "start_time": "2022-05-15T20:41:47.673Z"
   },
   {
    "duration": 15,
    "start_time": "2022-05-15T20:41:47.683Z"
   },
   {
    "duration": 7,
    "start_time": "2022-05-15T20:41:47.699Z"
   },
   {
    "duration": 3,
    "start_time": "2022-05-15T20:41:47.708Z"
   },
   {
    "duration": 9,
    "start_time": "2022-05-15T20:41:47.713Z"
   },
   {
    "duration": 65,
    "start_time": "2022-05-15T20:41:47.724Z"
   },
   {
    "duration": 6,
    "start_time": "2022-05-15T20:41:47.791Z"
   },
   {
    "duration": 188,
    "start_time": "2022-05-15T20:41:47.799Z"
   },
   {
    "duration": 28,
    "start_time": "2022-05-15T20:41:47.989Z"
   },
   {
    "duration": 13,
    "start_time": "2022-05-15T20:41:48.019Z"
   },
   {
    "duration": 54,
    "start_time": "2022-05-15T20:41:48.033Z"
   },
   {
    "duration": 22,
    "start_time": "2022-05-15T20:41:48.089Z"
   },
   {
    "duration": 67,
    "start_time": "2022-05-15T20:41:50.100Z"
   },
   {
    "duration": 19,
    "start_time": "2022-05-15T20:42:12.565Z"
   },
   {
    "duration": 11,
    "start_time": "2022-05-15T20:43:30.745Z"
   },
   {
    "duration": 8,
    "start_time": "2022-05-15T20:43:45.319Z"
   },
   {
    "duration": 6,
    "start_time": "2022-05-15T20:43:49.366Z"
   },
   {
    "duration": 8,
    "start_time": "2022-05-15T20:44:13.000Z"
   },
   {
    "duration": 8,
    "start_time": "2022-05-15T20:44:26.663Z"
   },
   {
    "duration": 6,
    "start_time": "2022-05-15T20:44:45.743Z"
   },
   {
    "duration": 7,
    "start_time": "2022-05-15T20:44:49.001Z"
   },
   {
    "duration": 6,
    "start_time": "2022-05-15T20:44:51.799Z"
   },
   {
    "duration": 11,
    "start_time": "2022-05-15T20:45:11.889Z"
   },
   {
    "duration": 16108,
    "start_time": "2022-05-15T20:47:08.434Z"
   },
   {
    "duration": 3114,
    "start_time": "2022-05-15T20:48:02.034Z"
   },
   {
    "duration": 3185,
    "start_time": "2022-05-15T20:48:21.337Z"
   },
   {
    "duration": 13,
    "start_time": "2022-05-15T20:49:36.857Z"
   },
   {
    "duration": 16,
    "start_time": "2022-05-15T20:51:23.788Z"
   },
   {
    "duration": 22,
    "start_time": "2022-05-15T20:58:41.041Z"
   },
   {
    "duration": 1903,
    "start_time": "2022-05-15T20:59:35.849Z"
   },
   {
    "duration": 20,
    "start_time": "2022-05-15T20:59:45.392Z"
   },
   {
    "duration": 646,
    "start_time": "2022-05-15T21:00:38.087Z"
   },
   {
    "duration": 383,
    "start_time": "2022-05-15T21:00:38.735Z"
   },
   {
    "duration": 3,
    "start_time": "2022-05-15T21:00:39.120Z"
   },
   {
    "duration": 5,
    "start_time": "2022-05-15T21:00:39.124Z"
   },
   {
    "duration": 6,
    "start_time": "2022-05-15T21:00:39.132Z"
   },
   {
    "duration": 4,
    "start_time": "2022-05-15T21:00:39.140Z"
   },
   {
    "duration": 14,
    "start_time": "2022-05-15T21:00:39.145Z"
   },
   {
    "duration": 20,
    "start_time": "2022-05-15T21:00:39.160Z"
   },
   {
    "duration": 9,
    "start_time": "2022-05-15T21:00:39.182Z"
   },
   {
    "duration": 12,
    "start_time": "2022-05-15T21:00:39.192Z"
   },
   {
    "duration": 5,
    "start_time": "2022-05-15T21:00:39.205Z"
   },
   {
    "duration": 14,
    "start_time": "2022-05-15T21:00:39.212Z"
   },
   {
    "duration": 133,
    "start_time": "2022-05-15T21:00:39.227Z"
   },
   {
    "duration": 30,
    "start_time": "2022-05-15T21:00:39.371Z"
   },
   {
    "duration": 19,
    "start_time": "2022-05-15T21:00:39.402Z"
   },
   {
    "duration": 7,
    "start_time": "2022-05-15T21:00:39.423Z"
   },
   {
    "duration": 77,
    "start_time": "2022-05-15T21:00:39.432Z"
   },
   {
    "duration": 13,
    "start_time": "2022-05-15T21:00:39.511Z"
   },
   {
    "duration": 13,
    "start_time": "2022-05-15T21:00:39.525Z"
   },
   {
    "duration": 37,
    "start_time": "2022-05-15T21:00:39.539Z"
   },
   {
    "duration": 68,
    "start_time": "2022-05-15T21:00:39.578Z"
   },
   {
    "duration": 41,
    "start_time": "2022-05-15T21:00:39.648Z"
   },
   {
    "duration": 17,
    "start_time": "2022-05-15T21:00:39.691Z"
   },
   {
    "duration": 8,
    "start_time": "2022-05-15T21:00:39.710Z"
   },
   {
    "duration": 6,
    "start_time": "2022-05-15T21:00:39.720Z"
   },
   {
    "duration": 63,
    "start_time": "2022-05-15T21:00:39.728Z"
   },
   {
    "duration": 6,
    "start_time": "2022-05-15T21:00:39.793Z"
   },
   {
    "duration": 2161,
    "start_time": "2022-05-15T21:01:20.595Z"
   },
   {
    "duration": 13,
    "start_time": "2022-05-15T21:01:36.985Z"
   },
   {
    "duration": 603,
    "start_time": "2022-05-15T21:02:09.828Z"
   },
   {
    "duration": 402,
    "start_time": "2022-05-15T21:02:10.433Z"
   },
   {
    "duration": 3,
    "start_time": "2022-05-15T21:02:10.837Z"
   },
   {
    "duration": 5,
    "start_time": "2022-05-15T21:02:10.842Z"
   },
   {
    "duration": 10,
    "start_time": "2022-05-15T21:02:10.849Z"
   },
   {
    "duration": 30,
    "start_time": "2022-05-15T21:02:10.860Z"
   },
   {
    "duration": 15,
    "start_time": "2022-05-15T21:02:10.892Z"
   },
   {
    "duration": 6,
    "start_time": "2022-05-15T21:02:10.908Z"
   },
   {
    "duration": 15,
    "start_time": "2022-05-15T21:02:10.915Z"
   },
   {
    "duration": 5,
    "start_time": "2022-05-15T21:02:10.933Z"
   },
   {
    "duration": 10,
    "start_time": "2022-05-15T21:02:10.940Z"
   },
   {
    "duration": 140,
    "start_time": "2022-05-15T21:02:10.952Z"
   },
   {
    "duration": 27,
    "start_time": "2022-05-15T21:02:11.094Z"
   },
   {
    "duration": 49,
    "start_time": "2022-05-15T21:02:11.122Z"
   },
   {
    "duration": 13,
    "start_time": "2022-05-15T21:02:11.174Z"
   },
   {
    "duration": 53,
    "start_time": "2022-05-15T21:02:11.189Z"
   },
   {
    "duration": 34,
    "start_time": "2022-05-15T21:02:11.244Z"
   },
   {
    "duration": 19,
    "start_time": "2022-05-15T21:02:11.280Z"
   },
   {
    "duration": 11,
    "start_time": "2022-05-15T21:02:11.301Z"
   },
   {
    "duration": 136,
    "start_time": "2022-05-15T21:02:11.314Z"
   },
   {
    "duration": 42,
    "start_time": "2022-05-15T21:02:11.453Z"
   },
   {
    "duration": 16,
    "start_time": "2022-05-15T21:02:11.497Z"
   },
   {
    "duration": 8,
    "start_time": "2022-05-15T21:02:11.515Z"
   },
   {
    "duration": 9,
    "start_time": "2022-05-15T21:02:11.524Z"
   },
   {
    "duration": 59,
    "start_time": "2022-05-15T21:02:11.534Z"
   },
   {
    "duration": 4,
    "start_time": "2022-05-15T21:02:11.595Z"
   },
   {
    "duration": 13,
    "start_time": "2022-05-15T21:02:14.137Z"
   },
   {
    "duration": 118,
    "start_time": "2022-05-15T21:02:17.628Z"
   },
   {
    "duration": 3,
    "start_time": "2022-05-15T21:02:28.019Z"
   },
   {
    "duration": 414,
    "start_time": "2022-05-15T21:02:28.024Z"
   },
   {
    "duration": 2,
    "start_time": "2022-05-15T21:02:28.440Z"
   },
   {
    "duration": 5,
    "start_time": "2022-05-15T21:02:28.444Z"
   },
   {
    "duration": 6,
    "start_time": "2022-05-15T21:02:28.450Z"
   },
   {
    "duration": 7,
    "start_time": "2022-05-15T21:02:28.458Z"
   },
   {
    "duration": 11,
    "start_time": "2022-05-15T21:02:28.472Z"
   },
   {
    "duration": 8,
    "start_time": "2022-05-15T21:02:28.491Z"
   },
   {
    "duration": 15,
    "start_time": "2022-05-15T21:02:28.501Z"
   },
   {
    "duration": 5,
    "start_time": "2022-05-15T21:02:28.518Z"
   },
   {
    "duration": 46,
    "start_time": "2022-05-15T21:02:28.526Z"
   },
   {
    "duration": 112,
    "start_time": "2022-05-15T21:02:28.574Z"
   },
   {
    "duration": 33,
    "start_time": "2022-05-15T21:02:28.689Z"
   },
   {
    "duration": 54,
    "start_time": "2022-05-15T21:02:28.725Z"
   },
   {
    "duration": 9,
    "start_time": "2022-05-15T21:02:28.780Z"
   },
   {
    "duration": 48,
    "start_time": "2022-05-15T21:02:28.790Z"
   },
   {
    "duration": 41,
    "start_time": "2022-05-15T21:02:28.840Z"
   },
   {
    "duration": 18,
    "start_time": "2022-05-15T21:02:28.883Z"
   },
   {
    "duration": 9,
    "start_time": "2022-05-15T21:02:28.903Z"
   },
   {
    "duration": 97,
    "start_time": "2022-05-15T21:02:28.914Z"
   },
   {
    "duration": 27,
    "start_time": "2022-05-15T21:02:29.013Z"
   },
   {
    "duration": 46,
    "start_time": "2022-05-15T21:02:29.042Z"
   },
   {
    "duration": 11,
    "start_time": "2022-05-15T21:02:29.090Z"
   },
   {
    "duration": 22,
    "start_time": "2022-05-15T21:02:29.103Z"
   },
   {
    "duration": 27,
    "start_time": "2022-05-15T21:02:29.127Z"
   },
   {
    "duration": 27,
    "start_time": "2022-05-15T21:02:29.156Z"
   },
   {
    "duration": 143,
    "start_time": "2022-05-15T21:02:29.184Z"
   },
   {
    "duration": 13,
    "start_time": "2022-05-15T21:02:29.329Z"
   },
   {
    "duration": 31,
    "start_time": "2022-05-15T21:02:29.347Z"
   },
   {
    "duration": 10,
    "start_time": "2022-05-15T21:02:29.383Z"
   },
   {
    "duration": 13,
    "start_time": "2022-05-15T21:02:29.395Z"
   },
   {
    "duration": 9,
    "start_time": "2022-05-15T21:02:29.410Z"
   },
   {
    "duration": 7,
    "start_time": "2022-05-15T21:02:29.420Z"
   },
   {
    "duration": 59,
    "start_time": "2022-05-15T21:02:29.428Z"
   },
   {
    "duration": 5,
    "start_time": "2022-05-15T21:02:29.489Z"
   },
   {
    "duration": 178,
    "start_time": "2022-05-15T21:02:29.496Z"
   },
   {
    "duration": 26,
    "start_time": "2022-05-15T21:02:29.675Z"
   },
   {
    "duration": 156,
    "start_time": "2022-05-15T21:02:29.703Z"
   },
   {
    "duration": 27,
    "start_time": "2022-05-15T21:02:29.861Z"
   },
   {
    "duration": 8,
    "start_time": "2022-05-15T21:02:29.890Z"
   },
   {
    "duration": 11,
    "start_time": "2022-05-15T21:02:29.900Z"
   },
   {
    "duration": 9,
    "start_time": "2022-05-15T21:02:29.914Z"
   },
   {
    "duration": 5,
    "start_time": "2022-05-15T21:02:29.925Z"
   },
   {
    "duration": 3,
    "start_time": "2022-05-15T21:02:29.932Z"
   },
   {
    "duration": 44,
    "start_time": "2022-05-15T21:02:29.937Z"
   },
   {
    "duration": 55,
    "start_time": "2022-05-15T21:02:29.983Z"
   },
   {
    "duration": 6,
    "start_time": "2022-05-15T21:02:30.040Z"
   },
   {
    "duration": 93,
    "start_time": "2022-05-15T21:02:30.048Z"
   },
   {
    "duration": 50,
    "start_time": "2022-05-15T21:02:30.143Z"
   },
   {
    "duration": 11,
    "start_time": "2022-05-15T21:02:30.195Z"
   },
   {
    "duration": 12,
    "start_time": "2022-05-15T21:02:30.208Z"
   },
   {
    "duration": 54,
    "start_time": "2022-05-15T21:02:30.222Z"
   },
   {
    "duration": 25,
    "start_time": "2022-05-15T21:02:30.282Z"
   },
   {
    "duration": 2539,
    "start_time": "2022-05-15T21:02:39.662Z"
   },
   {
    "duration": 4,
    "start_time": "2022-05-15T21:03:26.161Z"
   },
   {
    "duration": 31,
    "start_time": "2022-05-15T21:04:09.755Z"
   },
   {
    "duration": 2067,
    "start_time": "2022-05-15T21:04:45.697Z"
   },
   {
    "duration": 31,
    "start_time": "2022-05-15T21:04:47.804Z"
   },
   {
    "duration": 653,
    "start_time": "2022-05-15T21:04:59.078Z"
   },
   {
    "duration": 388,
    "start_time": "2022-05-15T21:04:59.733Z"
   },
   {
    "duration": 3,
    "start_time": "2022-05-15T21:05:00.122Z"
   },
   {
    "duration": 8,
    "start_time": "2022-05-15T21:05:00.128Z"
   },
   {
    "duration": 8,
    "start_time": "2022-05-15T21:05:00.138Z"
   },
   {
    "duration": 10,
    "start_time": "2022-05-15T21:05:00.148Z"
   },
   {
    "duration": 25,
    "start_time": "2022-05-15T21:05:00.160Z"
   },
   {
    "duration": 9,
    "start_time": "2022-05-15T21:05:00.187Z"
   },
   {
    "duration": 16,
    "start_time": "2022-05-15T21:05:00.198Z"
   },
   {
    "duration": 5,
    "start_time": "2022-05-15T21:05:00.218Z"
   },
   {
    "duration": 48,
    "start_time": "2022-05-15T21:05:00.226Z"
   },
   {
    "duration": 129,
    "start_time": "2022-05-15T21:05:00.279Z"
   },
   {
    "duration": 27,
    "start_time": "2022-05-15T21:05:00.409Z"
   },
   {
    "duration": 49,
    "start_time": "2022-05-15T21:05:00.438Z"
   },
   {
    "duration": 13,
    "start_time": "2022-05-15T21:05:00.489Z"
   },
   {
    "duration": 57,
    "start_time": "2022-05-15T21:05:00.503Z"
   },
   {
    "duration": 21,
    "start_time": "2022-05-15T21:05:00.571Z"
   },
   {
    "duration": 14,
    "start_time": "2022-05-15T21:05:00.594Z"
   },
   {
    "duration": 10,
    "start_time": "2022-05-15T21:05:00.609Z"
   },
   {
    "duration": 98,
    "start_time": "2022-05-15T21:05:00.621Z"
   },
   {
    "duration": 27,
    "start_time": "2022-05-15T21:05:00.721Z"
   },
   {
    "duration": 40,
    "start_time": "2022-05-15T21:05:00.750Z"
   },
   {
    "duration": 8,
    "start_time": "2022-05-15T21:05:00.792Z"
   },
   {
    "duration": 7,
    "start_time": "2022-05-15T21:05:00.802Z"
   },
   {
    "duration": 27,
    "start_time": "2022-05-15T21:05:00.811Z"
   },
   {
    "duration": 8,
    "start_time": "2022-05-15T21:05:00.874Z"
   },
   {
    "duration": 138,
    "start_time": "2022-05-15T21:05:00.885Z"
   },
   {
    "duration": 9,
    "start_time": "2022-05-15T21:05:01.027Z"
   },
   {
    "duration": 12,
    "start_time": "2022-05-15T21:05:01.038Z"
   },
   {
    "duration": 15,
    "start_time": "2022-05-15T21:05:01.072Z"
   },
   {
    "duration": 20,
    "start_time": "2022-05-15T21:05:01.089Z"
   },
   {
    "duration": 8,
    "start_time": "2022-05-15T21:05:01.111Z"
   },
   {
    "duration": 6,
    "start_time": "2022-05-15T21:05:01.121Z"
   },
   {
    "duration": 21,
    "start_time": "2022-05-15T21:05:01.129Z"
   },
   {
    "duration": 5,
    "start_time": "2022-05-15T21:05:01.172Z"
   },
   {
    "duration": 180,
    "start_time": "2022-05-15T21:05:01.180Z"
   },
   {
    "duration": 38,
    "start_time": "2022-05-15T21:05:01.371Z"
   },
   {
    "duration": 254,
    "start_time": "2022-05-15T21:05:01.411Z"
   },
   {
    "duration": 20,
    "start_time": "2022-05-15T21:05:01.670Z"
   },
   {
    "duration": 12,
    "start_time": "2022-05-15T21:05:01.691Z"
   },
   {
    "duration": 9,
    "start_time": "2022-05-15T21:05:01.705Z"
   },
   {
    "duration": 8,
    "start_time": "2022-05-15T21:05:01.715Z"
   },
   {
    "duration": 6,
    "start_time": "2022-05-15T21:05:01.724Z"
   },
   {
    "duration": 42,
    "start_time": "2022-05-15T21:05:01.732Z"
   },
   {
    "duration": 19,
    "start_time": "2022-05-15T21:05:01.777Z"
   },
   {
    "duration": 31,
    "start_time": "2022-05-15T21:05:01.797Z"
   },
   {
    "duration": 6,
    "start_time": "2022-05-15T21:05:01.830Z"
   },
   {
    "duration": 94,
    "start_time": "2022-05-15T21:05:01.838Z"
   },
   {
    "duration": 42,
    "start_time": "2022-05-15T21:05:01.934Z"
   },
   {
    "duration": 14,
    "start_time": "2022-05-15T21:05:01.977Z"
   },
   {
    "duration": 14,
    "start_time": "2022-05-15T21:05:01.992Z"
   },
   {
    "duration": 28,
    "start_time": "2022-05-15T21:05:02.008Z"
   },
   {
    "duration": 6,
    "start_time": "2022-05-15T21:05:02.038Z"
   },
   {
    "duration": 25,
    "start_time": "2022-05-15T21:05:02.071Z"
   },
   {
    "duration": 139,
    "start_time": "2022-05-15T21:31:18.603Z"
   },
   {
    "duration": 3,
    "start_time": "2022-05-15T21:31:21.555Z"
   },
   {
    "duration": 134,
    "start_time": "2022-05-15T21:31:53.739Z"
   },
   {
    "duration": 40,
    "start_time": "2022-05-15T21:32:07.544Z"
   },
   {
    "duration": 615,
    "start_time": "2022-05-15T21:38:07.117Z"
   },
   {
    "duration": 2,
    "start_time": "2022-05-15T21:38:07.734Z"
   },
   {
    "duration": 395,
    "start_time": "2022-05-15T21:38:07.738Z"
   },
   {
    "duration": 2,
    "start_time": "2022-05-15T21:38:08.135Z"
   },
   {
    "duration": 5,
    "start_time": "2022-05-15T21:38:08.139Z"
   },
   {
    "duration": 6,
    "start_time": "2022-05-15T21:38:08.145Z"
   },
   {
    "duration": 4,
    "start_time": "2022-05-15T21:38:08.152Z"
   },
   {
    "duration": 23,
    "start_time": "2022-05-15T21:38:08.158Z"
   },
   {
    "duration": 6,
    "start_time": "2022-05-15T21:38:08.183Z"
   },
   {
    "duration": 16,
    "start_time": "2022-05-15T21:38:08.192Z"
   },
   {
    "duration": 7,
    "start_time": "2022-05-15T21:38:08.210Z"
   },
   {
    "duration": 9,
    "start_time": "2022-05-15T21:38:08.219Z"
   },
   {
    "duration": 155,
    "start_time": "2022-05-15T21:38:08.230Z"
   },
   {
    "duration": 26,
    "start_time": "2022-05-15T21:38:08.387Z"
   },
   {
    "duration": 18,
    "start_time": "2022-05-15T21:38:08.415Z"
   },
   {
    "duration": 8,
    "start_time": "2022-05-15T21:38:08.435Z"
   },
   {
    "duration": 52,
    "start_time": "2022-05-15T21:38:08.479Z"
   },
   {
    "duration": 13,
    "start_time": "2022-05-15T21:38:08.533Z"
   },
   {
    "duration": 32,
    "start_time": "2022-05-15T21:38:08.547Z"
   },
   {
    "duration": 9,
    "start_time": "2022-05-15T21:38:08.587Z"
   },
   {
    "duration": 80,
    "start_time": "2022-05-15T21:38:08.597Z"
   },
   {
    "duration": 30,
    "start_time": "2022-05-15T21:38:08.679Z"
   },
   {
    "duration": 17,
    "start_time": "2022-05-15T21:38:08.711Z"
   },
   {
    "duration": 8,
    "start_time": "2022-05-15T21:38:08.730Z"
   },
   {
    "duration": 8,
    "start_time": "2022-05-15T21:38:08.772Z"
   },
   {
    "duration": 33,
    "start_time": "2022-05-15T21:38:08.782Z"
   },
   {
    "duration": 5,
    "start_time": "2022-05-15T21:38:08.816Z"
   },
   {
    "duration": 149,
    "start_time": "2022-05-15T21:38:08.825Z"
   },
   {
    "duration": 11,
    "start_time": "2022-05-15T21:38:08.976Z"
   },
   {
    "duration": 10,
    "start_time": "2022-05-15T21:38:08.989Z"
   },
   {
    "duration": 16,
    "start_time": "2022-05-15T21:38:09.000Z"
   },
   {
    "duration": 19,
    "start_time": "2022-05-15T21:38:09.018Z"
   },
   {
    "duration": 8,
    "start_time": "2022-05-15T21:38:09.039Z"
   },
   {
    "duration": 27,
    "start_time": "2022-05-15T21:38:09.048Z"
   },
   {
    "duration": 23,
    "start_time": "2022-05-15T21:38:09.077Z"
   },
   {
    "duration": 5,
    "start_time": "2022-05-15T21:38:09.102Z"
   },
   {
    "duration": 192,
    "start_time": "2022-05-15T21:38:09.109Z"
   },
   {
    "duration": 21,
    "start_time": "2022-05-15T21:38:09.303Z"
   },
   {
    "duration": 166,
    "start_time": "2022-05-15T21:38:09.326Z"
   },
   {
    "duration": 14,
    "start_time": "2022-05-15T21:38:09.493Z"
   },
   {
    "duration": 7,
    "start_time": "2022-05-15T21:38:09.509Z"
   },
   {
    "duration": 7,
    "start_time": "2022-05-15T21:38:09.517Z"
   },
   {
    "duration": 7,
    "start_time": "2022-05-15T21:38:09.525Z"
   },
   {
    "duration": 42,
    "start_time": "2022-05-15T21:38:09.533Z"
   },
   {
    "duration": 5,
    "start_time": "2022-05-15T21:38:09.578Z"
   },
   {
    "duration": 10,
    "start_time": "2022-05-15T21:38:09.585Z"
   },
   {
    "duration": 31,
    "start_time": "2022-05-15T21:38:09.596Z"
   },
   {
    "duration": 5,
    "start_time": "2022-05-15T21:38:09.629Z"
   },
   {
    "duration": 112,
    "start_time": "2022-05-15T21:38:09.635Z"
   },
   {
    "duration": 36,
    "start_time": "2022-05-15T21:38:09.748Z"
   },
   {
    "duration": 12,
    "start_time": "2022-05-15T21:38:09.786Z"
   },
   {
    "duration": 15,
    "start_time": "2022-05-15T21:38:09.799Z"
   },
   {
    "duration": 11,
    "start_time": "2022-05-15T21:38:21.901Z"
   },
   {
    "duration": 10,
    "start_time": "2022-05-15T21:38:28.487Z"
   },
   {
    "duration": 31,
    "start_time": "2022-05-15T21:38:32.233Z"
   },
   {
    "duration": 20,
    "start_time": "2022-05-15T21:38:32.848Z"
   },
   {
    "duration": 20,
    "start_time": "2022-05-15T21:38:37.436Z"
   },
   {
    "duration": 47,
    "start_time": "2022-05-15T21:43:37.969Z"
   },
   {
    "duration": 93,
    "start_time": "2022-05-15T21:44:45.917Z"
   },
   {
    "duration": 50,
    "start_time": "2022-05-15T21:45:05.060Z"
   },
   {
    "duration": 135,
    "start_time": "2022-05-15T21:45:39.116Z"
   },
   {
    "duration": 62,
    "start_time": "2022-05-15T21:45:52.576Z"
   },
   {
    "duration": 661,
    "start_time": "2022-05-15T21:45:59.852Z"
   },
   {
    "duration": 2,
    "start_time": "2022-05-15T21:46:00.515Z"
   },
   {
    "duration": 394,
    "start_time": "2022-05-15T21:46:00.519Z"
   },
   {
    "duration": 3,
    "start_time": "2022-05-15T21:46:00.915Z"
   },
   {
    "duration": 6,
    "start_time": "2022-05-15T21:46:00.919Z"
   },
   {
    "duration": 8,
    "start_time": "2022-05-15T21:46:00.926Z"
   },
   {
    "duration": 4,
    "start_time": "2022-05-15T21:46:00.936Z"
   },
   {
    "duration": 18,
    "start_time": "2022-05-15T21:46:00.941Z"
   },
   {
    "duration": 11,
    "start_time": "2022-05-15T21:46:00.960Z"
   },
   {
    "duration": 16,
    "start_time": "2022-05-15T21:46:00.975Z"
   },
   {
    "duration": 5,
    "start_time": "2022-05-15T21:46:00.992Z"
   },
   {
    "duration": 15,
    "start_time": "2022-05-15T21:46:00.998Z"
   },
   {
    "duration": 137,
    "start_time": "2022-05-15T21:46:01.014Z"
   },
   {
    "duration": 37,
    "start_time": "2022-05-15T21:46:01.153Z"
   },
   {
    "duration": 19,
    "start_time": "2022-05-15T21:46:01.192Z"
   },
   {
    "duration": 8,
    "start_time": "2022-05-15T21:46:01.213Z"
   },
   {
    "duration": 76,
    "start_time": "2022-05-15T21:46:01.223Z"
   },
   {
    "duration": 13,
    "start_time": "2022-05-15T21:46:01.301Z"
   },
   {
    "duration": 15,
    "start_time": "2022-05-15T21:46:01.315Z"
   },
   {
    "duration": 14,
    "start_time": "2022-05-15T21:46:01.332Z"
   },
   {
    "duration": 88,
    "start_time": "2022-05-15T21:46:01.347Z"
   },
   {
    "duration": 50,
    "start_time": "2022-05-15T21:46:01.436Z"
   },
   {
    "duration": 16,
    "start_time": "2022-05-15T21:46:01.488Z"
   },
   {
    "duration": 7,
    "start_time": "2022-05-15T21:46:01.506Z"
   },
   {
    "duration": 14,
    "start_time": "2022-05-15T21:46:01.515Z"
   },
   {
    "duration": 46,
    "start_time": "2022-05-15T21:46:01.531Z"
   },
   {
    "duration": 7,
    "start_time": "2022-05-15T21:46:01.579Z"
   },
   {
    "duration": 142,
    "start_time": "2022-05-15T21:46:01.589Z"
   },
   {
    "duration": 8,
    "start_time": "2022-05-15T21:46:01.733Z"
   },
   {
    "duration": 9,
    "start_time": "2022-05-15T21:46:01.743Z"
   },
   {
    "duration": 10,
    "start_time": "2022-05-15T21:46:01.774Z"
   },
   {
    "duration": 22,
    "start_time": "2022-05-15T21:46:01.786Z"
   },
   {
    "duration": 8,
    "start_time": "2022-05-15T21:46:01.810Z"
   },
   {
    "duration": 5,
    "start_time": "2022-05-15T21:46:01.820Z"
   },
   {
    "duration": 52,
    "start_time": "2022-05-15T21:46:01.826Z"
   },
   {
    "duration": 7,
    "start_time": "2022-05-15T21:46:01.880Z"
   },
   {
    "duration": 170,
    "start_time": "2022-05-15T21:46:01.888Z"
   },
   {
    "duration": 37,
    "start_time": "2022-05-15T21:46:02.059Z"
   },
   {
    "duration": 151,
    "start_time": "2022-05-15T21:46:02.098Z"
   },
   {
    "duration": 23,
    "start_time": "2022-05-15T21:46:02.250Z"
   },
   {
    "duration": 10,
    "start_time": "2022-05-15T21:46:02.274Z"
   },
   {
    "duration": 7,
    "start_time": "2022-05-15T21:46:02.286Z"
   },
   {
    "duration": 7,
    "start_time": "2022-05-15T21:46:02.294Z"
   },
   {
    "duration": 6,
    "start_time": "2022-05-15T21:46:02.303Z"
   },
   {
    "duration": 4,
    "start_time": "2022-05-15T21:46:02.311Z"
   },
   {
    "duration": 8,
    "start_time": "2022-05-15T21:46:02.317Z"
   },
   {
    "duration": 81,
    "start_time": "2022-05-15T21:46:02.327Z"
   },
   {
    "duration": 5,
    "start_time": "2022-05-15T21:46:02.410Z"
   },
   {
    "duration": 87,
    "start_time": "2022-05-15T21:46:02.417Z"
   },
   {
    "duration": 23,
    "start_time": "2022-05-15T21:46:02.505Z"
   },
   {
    "duration": 10,
    "start_time": "2022-05-15T21:46:02.529Z"
   },
   {
    "duration": 91,
    "start_time": "2022-05-15T21:46:15.303Z"
   },
   {
    "duration": 483,
    "start_time": "2022-05-15T21:47:55.229Z"
   },
   {
    "duration": 13,
    "start_time": "2022-05-15T21:48:08.073Z"
   },
   {
    "duration": 32,
    "start_time": "2022-05-15T21:48:14.994Z"
   },
   {
    "duration": 18,
    "start_time": "2022-05-15T21:49:50.664Z"
   },
   {
    "duration": 6,
    "start_time": "2022-05-15T21:51:10.137Z"
   },
   {
    "duration": 84,
    "start_time": "2022-05-15T21:51:10.418Z"
   },
   {
    "duration": 18,
    "start_time": "2022-05-15T21:51:14.258Z"
   },
   {
    "duration": 8,
    "start_time": "2022-05-15T21:51:35.968Z"
   },
   {
    "duration": 77,
    "start_time": "2022-05-15T21:51:36.226Z"
   },
   {
    "duration": 16,
    "start_time": "2022-05-15T21:51:38.986Z"
   },
   {
    "duration": 6,
    "start_time": "2022-05-15T21:54:03.823Z"
   },
   {
    "duration": 21,
    "start_time": "2022-05-15T21:54:04.620Z"
   },
   {
    "duration": 6,
    "start_time": "2022-05-15T21:54:17.407Z"
   },
   {
    "duration": 81,
    "start_time": "2022-05-15T21:54:17.749Z"
   },
   {
    "duration": 15,
    "start_time": "2022-05-15T21:54:22.884Z"
   },
   {
    "duration": 7,
    "start_time": "2022-05-15T21:55:43.831Z"
   },
   {
    "duration": 14,
    "start_time": "2022-05-15T21:55:50.035Z"
   },
   {
    "duration": 10,
    "start_time": "2022-05-15T21:56:40.248Z"
   },
   {
    "duration": 666,
    "start_time": "2022-05-15T21:56:51.471Z"
   },
   {
    "duration": 3,
    "start_time": "2022-05-15T21:56:52.139Z"
   },
   {
    "duration": 402,
    "start_time": "2022-05-15T21:56:52.143Z"
   },
   {
    "duration": 2,
    "start_time": "2022-05-15T21:56:52.547Z"
   },
   {
    "duration": 4,
    "start_time": "2022-05-15T21:56:52.551Z"
   },
   {
    "duration": 5,
    "start_time": "2022-05-15T21:56:52.557Z"
   },
   {
    "duration": 4,
    "start_time": "2022-05-15T21:56:52.563Z"
   },
   {
    "duration": 26,
    "start_time": "2022-05-15T21:56:52.568Z"
   },
   {
    "duration": 8,
    "start_time": "2022-05-15T21:56:52.596Z"
   },
   {
    "duration": 13,
    "start_time": "2022-05-15T21:56:52.605Z"
   },
   {
    "duration": 5,
    "start_time": "2022-05-15T21:56:52.620Z"
   },
   {
    "duration": 9,
    "start_time": "2022-05-15T21:56:52.626Z"
   },
   {
    "duration": 144,
    "start_time": "2022-05-15T21:56:52.636Z"
   },
   {
    "duration": 27,
    "start_time": "2022-05-15T21:56:52.785Z"
   },
   {
    "duration": 18,
    "start_time": "2022-05-15T21:56:52.814Z"
   },
   {
    "duration": 7,
    "start_time": "2022-05-15T21:56:52.834Z"
   },
   {
    "duration": 80,
    "start_time": "2022-05-15T21:56:52.842Z"
   },
   {
    "duration": 12,
    "start_time": "2022-05-15T21:56:52.924Z"
   },
   {
    "duration": 12,
    "start_time": "2022-05-15T21:56:52.937Z"
   },
   {
    "duration": 14,
    "start_time": "2022-05-15T21:56:52.972Z"
   },
   {
    "duration": 63,
    "start_time": "2022-05-15T21:56:52.988Z"
   },
   {
    "duration": 53,
    "start_time": "2022-05-15T21:56:53.052Z"
   },
   {
    "duration": 14,
    "start_time": "2022-05-15T21:56:53.107Z"
   },
   {
    "duration": 10,
    "start_time": "2022-05-15T21:56:53.123Z"
   },
   {
    "duration": 6,
    "start_time": "2022-05-15T21:56:53.134Z"
   },
   {
    "duration": 48,
    "start_time": "2022-05-15T21:56:53.142Z"
   },
   {
    "duration": 4,
    "start_time": "2022-05-15T21:56:53.191Z"
   },
   {
    "duration": 133,
    "start_time": "2022-05-15T21:56:53.196Z"
   },
   {
    "duration": 8,
    "start_time": "2022-05-15T21:56:53.330Z"
   },
   {
    "duration": 8,
    "start_time": "2022-05-15T21:56:53.339Z"
   },
   {
    "duration": 38,
    "start_time": "2022-05-15T21:56:53.348Z"
   },
   {
    "duration": 15,
    "start_time": "2022-05-15T21:56:53.388Z"
   },
   {
    "duration": 8,
    "start_time": "2022-05-15T21:56:53.406Z"
   },
   {
    "duration": 6,
    "start_time": "2022-05-15T21:56:53.415Z"
   },
   {
    "duration": 23,
    "start_time": "2022-05-15T21:56:53.422Z"
   },
   {
    "duration": 25,
    "start_time": "2022-05-15T21:56:53.446Z"
   },
   {
    "duration": 168,
    "start_time": "2022-05-15T21:56:53.478Z"
   },
   {
    "duration": 43,
    "start_time": "2022-05-15T21:56:53.648Z"
   },
   {
    "duration": 159,
    "start_time": "2022-05-15T21:56:53.692Z"
   },
   {
    "duration": 13,
    "start_time": "2022-05-15T21:56:53.853Z"
   },
   {
    "duration": 9,
    "start_time": "2022-05-15T21:56:53.874Z"
   },
   {
    "duration": 8,
    "start_time": "2022-05-15T21:56:53.884Z"
   },
   {
    "duration": 10,
    "start_time": "2022-05-15T21:56:53.893Z"
   },
   {
    "duration": 7,
    "start_time": "2022-05-15T21:56:53.904Z"
   },
   {
    "duration": 4,
    "start_time": "2022-05-15T21:56:53.912Z"
   },
   {
    "duration": 9,
    "start_time": "2022-05-15T21:56:53.917Z"
   },
   {
    "duration": 68,
    "start_time": "2022-05-15T21:56:53.927Z"
   },
   {
    "duration": 8,
    "start_time": "2022-05-15T21:56:53.997Z"
   },
   {
    "duration": 93,
    "start_time": "2022-05-15T21:56:54.007Z"
   },
   {
    "duration": 16,
    "start_time": "2022-05-15T21:56:54.102Z"
   },
   {
    "duration": 17,
    "start_time": "2022-05-15T21:56:54.121Z"
   },
   {
    "duration": 54,
    "start_time": "2022-05-15T21:56:54.140Z"
   },
   {
    "duration": 9,
    "start_time": "2022-05-15T21:56:54.196Z"
   },
   {
    "duration": 104,
    "start_time": "2022-05-15T21:56:54.206Z"
   },
   {
    "duration": 0,
    "start_time": "2022-05-15T21:56:54.312Z"
   },
   {
    "duration": 0,
    "start_time": "2022-05-15T21:56:54.313Z"
   },
   {
    "duration": 0,
    "start_time": "2022-05-15T21:56:54.314Z"
   },
   {
    "duration": 0,
    "start_time": "2022-05-15T21:56:54.315Z"
   },
   {
    "duration": 0,
    "start_time": "2022-05-15T21:56:54.316Z"
   },
   {
    "duration": 0,
    "start_time": "2022-05-15T21:56:54.317Z"
   },
   {
    "duration": 13,
    "start_time": "2022-05-15T21:57:48.593Z"
   },
   {
    "duration": 27,
    "start_time": "2022-05-15T21:57:48.953Z"
   },
   {
    "duration": 14,
    "start_time": "2022-05-15T21:57:51.841Z"
   },
   {
    "duration": 42,
    "start_time": "2022-05-15T22:04:01.191Z"
   },
   {
    "duration": 1836,
    "start_time": "2022-05-15T22:08:55.363Z"
   },
   {
    "duration": 9,
    "start_time": "2022-05-15T22:09:10.149Z"
   },
   {
    "duration": 10,
    "start_time": "2022-05-15T22:09:49.441Z"
   },
   {
    "duration": 8,
    "start_time": "2022-05-15T22:10:17.397Z"
   },
   {
    "duration": 10,
    "start_time": "2022-05-15T22:10:23.165Z"
   },
   {
    "duration": 1783,
    "start_time": "2022-05-15T22:13:12.002Z"
   },
   {
    "duration": 35,
    "start_time": "2022-05-15T22:13:27.284Z"
   },
   {
    "duration": 620,
    "start_time": "2022-05-15T22:14:13.240Z"
   },
   {
    "duration": 3,
    "start_time": "2022-05-15T22:14:13.862Z"
   },
   {
    "duration": 392,
    "start_time": "2022-05-15T22:14:13.866Z"
   },
   {
    "duration": 3,
    "start_time": "2022-05-15T22:14:14.260Z"
   },
   {
    "duration": 5,
    "start_time": "2022-05-15T22:14:14.264Z"
   },
   {
    "duration": 13,
    "start_time": "2022-05-15T22:14:14.274Z"
   },
   {
    "duration": 6,
    "start_time": "2022-05-15T22:14:14.288Z"
   },
   {
    "duration": 14,
    "start_time": "2022-05-15T22:14:14.296Z"
   },
   {
    "duration": 6,
    "start_time": "2022-05-15T22:14:14.311Z"
   },
   {
    "duration": 14,
    "start_time": "2022-05-15T22:14:14.319Z"
   },
   {
    "duration": 7,
    "start_time": "2022-05-15T22:14:14.334Z"
   },
   {
    "duration": 34,
    "start_time": "2022-05-15T22:14:14.343Z"
   },
   {
    "duration": 122,
    "start_time": "2022-05-15T22:14:14.379Z"
   },
   {
    "duration": 26,
    "start_time": "2022-05-15T22:14:14.502Z"
   },
   {
    "duration": 41,
    "start_time": "2022-05-15T22:14:14.530Z"
   },
   {
    "duration": 11,
    "start_time": "2022-05-15T22:14:14.573Z"
   },
   {
    "duration": 49,
    "start_time": "2022-05-15T22:14:14.586Z"
   },
   {
    "duration": 12,
    "start_time": "2022-05-15T22:14:14.636Z"
   },
   {
    "duration": 34,
    "start_time": "2022-05-15T22:14:14.650Z"
   },
   {
    "duration": 9,
    "start_time": "2022-05-15T22:14:14.686Z"
   },
   {
    "duration": 86,
    "start_time": "2022-05-15T22:14:14.697Z"
   },
   {
    "duration": 26,
    "start_time": "2022-05-15T22:14:14.786Z"
   },
   {
    "duration": 15,
    "start_time": "2022-05-15T22:14:14.813Z"
   },
   {
    "duration": 7,
    "start_time": "2022-05-15T22:14:14.830Z"
   },
   {
    "duration": 39,
    "start_time": "2022-05-15T22:14:14.838Z"
   },
   {
    "duration": 26,
    "start_time": "2022-05-15T22:14:14.879Z"
   },
   {
    "duration": 4,
    "start_time": "2022-05-15T22:14:14.906Z"
   },
   {
    "duration": 146,
    "start_time": "2022-05-15T22:14:14.913Z"
   },
   {
    "duration": 23,
    "start_time": "2022-05-15T22:14:15.061Z"
   },
   {
    "duration": 13,
    "start_time": "2022-05-15T22:14:15.086Z"
   },
   {
    "duration": 13,
    "start_time": "2022-05-15T22:14:15.101Z"
   },
   {
    "duration": 16,
    "start_time": "2022-05-15T22:14:15.115Z"
   },
   {
    "duration": 8,
    "start_time": "2022-05-15T22:14:15.133Z"
   },
   {
    "duration": 40,
    "start_time": "2022-05-15T22:14:15.142Z"
   },
   {
    "duration": 23,
    "start_time": "2022-05-15T22:14:15.184Z"
   },
   {
    "duration": 5,
    "start_time": "2022-05-15T22:14:15.208Z"
   },
   {
    "duration": 177,
    "start_time": "2022-05-15T22:14:15.215Z"
   },
   {
    "duration": 24,
    "start_time": "2022-05-15T22:14:15.394Z"
   },
   {
    "duration": 178,
    "start_time": "2022-05-15T22:14:15.420Z"
   },
   {
    "duration": 13,
    "start_time": "2022-05-15T22:14:15.600Z"
   },
   {
    "duration": 7,
    "start_time": "2022-05-15T22:14:15.615Z"
   },
   {
    "duration": 9,
    "start_time": "2022-05-15T22:14:15.624Z"
   },
   {
    "duration": 43,
    "start_time": "2022-05-15T22:14:15.634Z"
   },
   {
    "duration": 11,
    "start_time": "2022-05-15T22:14:15.679Z"
   },
   {
    "duration": 7,
    "start_time": "2022-05-15T22:14:15.692Z"
   },
   {
    "duration": 8,
    "start_time": "2022-05-15T22:14:15.701Z"
   },
   {
    "duration": 29,
    "start_time": "2022-05-15T22:14:15.711Z"
   },
   {
    "duration": 38,
    "start_time": "2022-05-15T22:14:15.742Z"
   },
   {
    "duration": 80,
    "start_time": "2022-05-15T22:14:15.782Z"
   },
   {
    "duration": 28,
    "start_time": "2022-05-15T22:14:15.864Z"
   },
   {
    "duration": 14,
    "start_time": "2022-05-15T22:14:15.894Z"
   },
   {
    "duration": 24,
    "start_time": "2022-05-15T22:14:15.909Z"
   },
   {
    "duration": 11,
    "start_time": "2022-05-15T22:14:15.934Z"
   },
   {
    "duration": 44,
    "start_time": "2022-05-15T22:14:15.946Z"
   },
   {
    "duration": 98,
    "start_time": "2022-05-15T22:14:15.991Z"
   },
   {
    "duration": 31,
    "start_time": "2022-05-15T22:17:23.525Z"
   },
   {
    "duration": 137,
    "start_time": "2022-05-15T22:21:40.695Z"
   },
   {
    "duration": 123,
    "start_time": "2022-05-15T22:22:09.594Z"
   },
   {
    "duration": 107,
    "start_time": "2022-05-15T22:23:39.116Z"
   },
   {
    "duration": 112,
    "start_time": "2022-05-15T22:23:57.731Z"
   },
   {
    "duration": 120,
    "start_time": "2022-05-15T22:25:49.046Z"
   },
   {
    "duration": 114,
    "start_time": "2022-05-15T22:25:53.620Z"
   },
   {
    "duration": 1879,
    "start_time": "2022-05-15T22:26:10.206Z"
   },
   {
    "duration": 1801,
    "start_time": "2022-05-15T22:26:22.503Z"
   },
   {
    "duration": 2246,
    "start_time": "2022-05-15T22:26:27.484Z"
   },
   {
    "duration": 2260,
    "start_time": "2022-05-15T22:26:54.625Z"
   },
   {
    "duration": 4084,
    "start_time": "2022-05-15T22:27:29.147Z"
   },
   {
    "duration": 23,
    "start_time": "2022-05-15T22:27:51.393Z"
   },
   {
    "duration": 17,
    "start_time": "2022-05-15T22:28:12.991Z"
   },
   {
    "duration": 80,
    "start_time": "2022-05-15T22:28:17.719Z"
   },
   {
    "duration": 96,
    "start_time": "2022-05-15T22:28:22.121Z"
   },
   {
    "duration": 9,
    "start_time": "2022-05-15T22:29:02.300Z"
   },
   {
    "duration": 2159,
    "start_time": "2022-05-15T22:29:10.737Z"
   },
   {
    "duration": 8,
    "start_time": "2022-05-15T22:29:19.851Z"
   },
   {
    "duration": 10,
    "start_time": "2022-05-15T22:30:18.625Z"
   },
   {
    "duration": 57,
    "start_time": "2022-05-15T22:30:51.593Z"
   },
   {
    "duration": 63,
    "start_time": "2022-05-15T22:30:59.993Z"
   },
   {
    "duration": 12,
    "start_time": "2022-05-15T22:31:05.843Z"
   },
   {
    "duration": 69,
    "start_time": "2022-05-15T22:31:12.135Z"
   },
   {
    "duration": 18,
    "start_time": "2022-05-15T22:31:23.226Z"
   },
   {
    "duration": 14,
    "start_time": "2022-05-15T22:31:31.895Z"
   },
   {
    "duration": 14,
    "start_time": "2022-05-15T22:31:46.732Z"
   },
   {
    "duration": 682,
    "start_time": "2022-05-15T22:32:03.849Z"
   },
   {
    "duration": 3,
    "start_time": "2022-05-15T22:32:04.533Z"
   },
   {
    "duration": 398,
    "start_time": "2022-05-15T22:32:04.537Z"
   },
   {
    "duration": 2,
    "start_time": "2022-05-15T22:32:04.937Z"
   },
   {
    "duration": 4,
    "start_time": "2022-05-15T22:32:04.941Z"
   },
   {
    "duration": 7,
    "start_time": "2022-05-15T22:32:04.947Z"
   },
   {
    "duration": 6,
    "start_time": "2022-05-15T22:32:04.955Z"
   },
   {
    "duration": 18,
    "start_time": "2022-05-15T22:32:04.963Z"
   },
   {
    "duration": 6,
    "start_time": "2022-05-15T22:32:04.983Z"
   },
   {
    "duration": 20,
    "start_time": "2022-05-15T22:32:04.991Z"
   },
   {
    "duration": 6,
    "start_time": "2022-05-15T22:32:05.012Z"
   },
   {
    "duration": 58,
    "start_time": "2022-05-15T22:32:05.020Z"
   },
   {
    "duration": 136,
    "start_time": "2022-05-15T22:32:05.080Z"
   },
   {
    "duration": 26,
    "start_time": "2022-05-15T22:32:05.219Z"
   },
   {
    "duration": 42,
    "start_time": "2022-05-15T22:32:05.247Z"
   },
   {
    "duration": 10,
    "start_time": "2022-05-15T22:32:05.291Z"
   },
   {
    "duration": 76,
    "start_time": "2022-05-15T22:32:05.303Z"
   },
   {
    "duration": 20,
    "start_time": "2022-05-15T22:32:05.381Z"
   },
   {
    "duration": 13,
    "start_time": "2022-05-15T22:32:05.403Z"
   },
   {
    "duration": 11,
    "start_time": "2022-05-15T22:32:05.417Z"
   },
   {
    "duration": 93,
    "start_time": "2022-05-15T22:32:05.430Z"
   },
   {
    "duration": 27,
    "start_time": "2022-05-15T22:32:05.524Z"
   },
   {
    "duration": 43,
    "start_time": "2022-05-15T22:32:05.552Z"
   },
   {
    "duration": 12,
    "start_time": "2022-05-15T22:32:05.597Z"
   },
   {
    "duration": 6,
    "start_time": "2022-05-15T22:32:05.610Z"
   },
   {
    "duration": 22,
    "start_time": "2022-05-15T22:32:05.618Z"
   },
   {
    "duration": 4,
    "start_time": "2022-05-15T22:32:05.641Z"
   },
   {
    "duration": 149,
    "start_time": "2022-05-15T22:32:05.674Z"
   },
   {
    "duration": 8,
    "start_time": "2022-05-15T22:32:05.824Z"
   },
   {
    "duration": 9,
    "start_time": "2022-05-15T22:32:05.834Z"
   },
   {
    "duration": 39,
    "start_time": "2022-05-15T22:32:05.845Z"
   },
   {
    "duration": 15,
    "start_time": "2022-05-15T22:32:05.887Z"
   },
   {
    "duration": 8,
    "start_time": "2022-05-15T22:32:05.904Z"
   },
   {
    "duration": 5,
    "start_time": "2022-05-15T22:32:05.914Z"
   },
   {
    "duration": 21,
    "start_time": "2022-05-15T22:32:05.921Z"
   },
   {
    "duration": 29,
    "start_time": "2022-05-15T22:32:05.944Z"
   },
   {
    "duration": 190,
    "start_time": "2022-05-15T22:32:05.976Z"
   },
   {
    "duration": 33,
    "start_time": "2022-05-15T22:32:06.170Z"
   },
   {
    "duration": 156,
    "start_time": "2022-05-15T22:32:06.205Z"
   },
   {
    "duration": 22,
    "start_time": "2022-05-15T22:32:06.374Z"
   },
   {
    "duration": 7,
    "start_time": "2022-05-15T22:32:06.401Z"
   },
   {
    "duration": 12,
    "start_time": "2022-05-15T22:32:06.409Z"
   },
   {
    "duration": 11,
    "start_time": "2022-05-15T22:32:06.422Z"
   },
   {
    "duration": 5,
    "start_time": "2022-05-15T22:32:06.435Z"
   },
   {
    "duration": 4,
    "start_time": "2022-05-15T22:32:06.442Z"
   },
   {
    "duration": 30,
    "start_time": "2022-05-15T22:32:06.447Z"
   },
   {
    "duration": 37,
    "start_time": "2022-05-15T22:32:06.479Z"
   },
   {
    "duration": 6,
    "start_time": "2022-05-15T22:32:06.517Z"
   },
   {
    "duration": 107,
    "start_time": "2022-05-15T22:32:06.524Z"
   },
   {
    "duration": 15,
    "start_time": "2022-05-15T22:32:06.633Z"
   },
   {
    "duration": 32,
    "start_time": "2022-05-15T22:32:06.649Z"
   },
   {
    "duration": 27,
    "start_time": "2022-05-15T22:32:06.687Z"
   },
   {
    "duration": 10,
    "start_time": "2022-05-15T22:32:06.715Z"
   },
   {
    "duration": 19,
    "start_time": "2022-05-15T22:32:06.726Z"
   },
   {
    "duration": 58,
    "start_time": "2022-05-15T22:32:06.747Z"
   },
   {
    "duration": 85,
    "start_time": "2022-05-15T22:32:06.807Z"
   },
   {
    "duration": 0,
    "start_time": "2022-05-15T22:32:06.894Z"
   },
   {
    "duration": 13,
    "start_time": "2022-05-15T22:34:26.326Z"
   },
   {
    "duration": 16,
    "start_time": "2022-05-15T22:35:27.484Z"
   },
   {
    "duration": 694,
    "start_time": "2022-05-15T22:37:50.061Z"
   },
   {
    "duration": 18,
    "start_time": "2022-05-15T22:37:50.757Z"
   },
   {
    "duration": 438,
    "start_time": "2022-05-15T22:37:50.777Z"
   },
   {
    "duration": 7,
    "start_time": "2022-05-15T22:37:51.217Z"
   },
   {
    "duration": 9,
    "start_time": "2022-05-15T22:37:51.226Z"
   },
   {
    "duration": 7,
    "start_time": "2022-05-15T22:37:51.237Z"
   },
   {
    "duration": 5,
    "start_time": "2022-05-15T22:37:51.246Z"
   },
   {
    "duration": 32,
    "start_time": "2022-05-15T22:37:51.252Z"
   },
   {
    "duration": 8,
    "start_time": "2022-05-15T22:37:51.285Z"
   },
   {
    "duration": 22,
    "start_time": "2022-05-15T22:37:51.297Z"
   },
   {
    "duration": 10,
    "start_time": "2022-05-15T22:37:51.321Z"
   },
   {
    "duration": 43,
    "start_time": "2022-05-15T22:37:51.333Z"
   },
   {
    "duration": 167,
    "start_time": "2022-05-15T22:37:51.379Z"
   },
   {
    "duration": 44,
    "start_time": "2022-05-15T22:37:51.549Z"
   },
   {
    "duration": 19,
    "start_time": "2022-05-15T22:37:51.595Z"
   },
   {
    "duration": 8,
    "start_time": "2022-05-15T22:37:51.615Z"
   },
   {
    "duration": 84,
    "start_time": "2022-05-15T22:37:51.624Z"
   },
   {
    "duration": 14,
    "start_time": "2022-05-15T22:37:51.709Z"
   },
   {
    "duration": 13,
    "start_time": "2022-05-15T22:37:51.724Z"
   },
   {
    "duration": 42,
    "start_time": "2022-05-15T22:37:51.739Z"
   },
   {
    "duration": 78,
    "start_time": "2022-05-15T22:37:51.783Z"
   },
   {
    "duration": 44,
    "start_time": "2022-05-15T22:37:51.863Z"
   },
   {
    "duration": 16,
    "start_time": "2022-05-15T22:37:51.909Z"
   },
   {
    "duration": 13,
    "start_time": "2022-05-15T22:37:51.926Z"
   },
   {
    "duration": 33,
    "start_time": "2022-05-15T22:37:51.941Z"
   },
   {
    "duration": 38,
    "start_time": "2022-05-15T22:37:51.975Z"
   },
   {
    "duration": 7,
    "start_time": "2022-05-15T22:37:52.015Z"
   },
   {
    "duration": 205,
    "start_time": "2022-05-15T22:37:52.028Z"
   },
   {
    "duration": 12,
    "start_time": "2022-05-15T22:37:52.235Z"
   },
   {
    "duration": 24,
    "start_time": "2022-05-15T22:37:52.249Z"
   },
   {
    "duration": 13,
    "start_time": "2022-05-15T22:37:52.277Z"
   },
   {
    "duration": 20,
    "start_time": "2022-05-15T22:37:52.292Z"
   },
   {
    "duration": 9,
    "start_time": "2022-05-15T22:37:52.313Z"
   },
   {
    "duration": 5,
    "start_time": "2022-05-15T22:37:52.324Z"
   },
   {
    "duration": 51,
    "start_time": "2022-05-15T22:37:52.331Z"
   },
   {
    "duration": 7,
    "start_time": "2022-05-15T22:37:52.384Z"
   },
   {
    "duration": 247,
    "start_time": "2022-05-15T22:37:52.392Z"
   },
   {
    "duration": 47,
    "start_time": "2022-05-15T22:37:52.641Z"
   },
   {
    "duration": 169,
    "start_time": "2022-05-15T22:37:52.691Z"
   },
   {
    "duration": 22,
    "start_time": "2022-05-15T22:37:52.862Z"
   },
   {
    "duration": 12,
    "start_time": "2022-05-15T22:37:52.888Z"
   },
   {
    "duration": 8,
    "start_time": "2022-05-15T22:37:52.902Z"
   },
   {
    "duration": 9,
    "start_time": "2022-05-15T22:37:52.912Z"
   },
   {
    "duration": 5,
    "start_time": "2022-05-15T22:37:52.923Z"
   },
   {
    "duration": 43,
    "start_time": "2022-05-15T22:37:52.930Z"
   },
   {
    "duration": 12,
    "start_time": "2022-05-15T22:37:52.977Z"
   },
   {
    "duration": 37,
    "start_time": "2022-05-15T22:37:52.991Z"
   },
   {
    "duration": 7,
    "start_time": "2022-05-15T22:37:53.029Z"
   },
   {
    "duration": 167,
    "start_time": "2022-05-15T22:37:53.037Z"
   },
   {
    "duration": 25,
    "start_time": "2022-05-15T22:37:53.206Z"
   },
   {
    "duration": 49,
    "start_time": "2022-05-15T22:37:53.233Z"
   },
   {
    "duration": 31,
    "start_time": "2022-05-15T22:37:53.283Z"
   },
   {
    "duration": 10,
    "start_time": "2022-05-15T22:37:53.316Z"
   },
   {
    "duration": 23,
    "start_time": "2022-05-15T22:37:53.328Z"
   },
   {
    "duration": 80,
    "start_time": "2022-05-15T22:37:53.374Z"
   },
   {
    "duration": 0,
    "start_time": "2022-05-15T22:37:53.456Z"
   },
   {
    "duration": 14,
    "start_time": "2022-05-15T22:39:42.250Z"
   },
   {
    "duration": 18,
    "start_time": "2022-05-15T22:39:49.385Z"
   },
   {
    "duration": 4,
    "start_time": "2022-05-15T22:40:05.563Z"
   },
   {
    "duration": 16,
    "start_time": "2022-05-15T22:40:15.970Z"
   },
   {
    "duration": 12,
    "start_time": "2022-05-15T22:40:35.990Z"
   },
   {
    "duration": 685,
    "start_time": "2022-05-15T22:40:42.238Z"
   },
   {
    "duration": 3,
    "start_time": "2022-05-15T22:40:42.925Z"
   },
   {
    "duration": 415,
    "start_time": "2022-05-15T22:40:42.930Z"
   },
   {
    "duration": 2,
    "start_time": "2022-05-15T22:40:43.348Z"
   },
   {
    "duration": 5,
    "start_time": "2022-05-15T22:40:43.351Z"
   },
   {
    "duration": 8,
    "start_time": "2022-05-15T22:40:43.357Z"
   },
   {
    "duration": 5,
    "start_time": "2022-05-15T22:40:43.366Z"
   },
   {
    "duration": 33,
    "start_time": "2022-05-15T22:40:43.374Z"
   },
   {
    "duration": 8,
    "start_time": "2022-05-15T22:40:43.409Z"
   },
   {
    "duration": 15,
    "start_time": "2022-05-15T22:40:43.419Z"
   },
   {
    "duration": 6,
    "start_time": "2022-05-15T22:40:43.436Z"
   },
   {
    "duration": 33,
    "start_time": "2022-05-15T22:40:43.444Z"
   },
   {
    "duration": 128,
    "start_time": "2022-05-15T22:40:43.479Z"
   },
   {
    "duration": 27,
    "start_time": "2022-05-15T22:40:43.610Z"
   },
   {
    "duration": 44,
    "start_time": "2022-05-15T22:40:43.639Z"
   },
   {
    "duration": 14,
    "start_time": "2022-05-15T22:40:43.686Z"
   },
   {
    "duration": 50,
    "start_time": "2022-05-15T22:40:43.702Z"
   },
   {
    "duration": 29,
    "start_time": "2022-05-15T22:40:43.754Z"
   },
   {
    "duration": 19,
    "start_time": "2022-05-15T22:40:43.786Z"
   },
   {
    "duration": 13,
    "start_time": "2022-05-15T22:40:43.807Z"
   },
   {
    "duration": 136,
    "start_time": "2022-05-15T22:40:43.822Z"
   },
   {
    "duration": 36,
    "start_time": "2022-05-15T22:40:43.960Z"
   },
   {
    "duration": 27,
    "start_time": "2022-05-15T22:40:43.998Z"
   },
   {
    "duration": 11,
    "start_time": "2022-05-15T22:40:44.027Z"
   },
   {
    "duration": 33,
    "start_time": "2022-05-15T22:40:44.039Z"
   },
   {
    "duration": 37,
    "start_time": "2022-05-15T22:40:44.073Z"
   },
   {
    "duration": 5,
    "start_time": "2022-05-15T22:40:44.111Z"
   },
   {
    "duration": 153,
    "start_time": "2022-05-15T22:40:44.120Z"
   },
   {
    "duration": 14,
    "start_time": "2022-05-15T22:40:44.276Z"
   },
   {
    "duration": 11,
    "start_time": "2022-05-15T22:40:44.291Z"
   },
   {
    "duration": 10,
    "start_time": "2022-05-15T22:40:44.304Z"
   },
   {
    "duration": 14,
    "start_time": "2022-05-15T22:40:44.316Z"
   },
   {
    "duration": 45,
    "start_time": "2022-05-15T22:40:44.331Z"
   },
   {
    "duration": 5,
    "start_time": "2022-05-15T22:40:44.378Z"
   },
   {
    "duration": 44,
    "start_time": "2022-05-15T22:40:44.385Z"
   },
   {
    "duration": 7,
    "start_time": "2022-05-15T22:40:44.431Z"
   },
   {
    "duration": 291,
    "start_time": "2022-05-15T22:40:44.440Z"
   },
   {
    "duration": 46,
    "start_time": "2022-05-15T22:40:44.733Z"
   },
   {
    "duration": 233,
    "start_time": "2022-05-15T22:40:44.782Z"
   },
   {
    "duration": 21,
    "start_time": "2022-05-15T22:40:45.017Z"
   },
   {
    "duration": 36,
    "start_time": "2022-05-15T22:40:45.040Z"
   },
   {
    "duration": 14,
    "start_time": "2022-05-15T22:40:45.078Z"
   },
   {
    "duration": 18,
    "start_time": "2022-05-15T22:40:45.093Z"
   },
   {
    "duration": 6,
    "start_time": "2022-05-15T22:40:45.112Z"
   },
   {
    "duration": 6,
    "start_time": "2022-05-15T22:40:45.120Z"
   },
   {
    "duration": 12,
    "start_time": "2022-05-15T22:40:45.128Z"
   },
   {
    "duration": 57,
    "start_time": "2022-05-15T22:40:45.142Z"
   },
   {
    "duration": 6,
    "start_time": "2022-05-15T22:40:45.201Z"
   },
   {
    "duration": 147,
    "start_time": "2022-05-15T22:40:45.209Z"
   },
   {
    "duration": 31,
    "start_time": "2022-05-15T22:40:45.358Z"
   },
   {
    "duration": 15,
    "start_time": "2022-05-15T22:40:45.392Z"
   },
   {
    "duration": 24,
    "start_time": "2022-05-15T22:40:45.409Z"
   },
   {
    "duration": 45,
    "start_time": "2022-05-15T22:40:45.435Z"
   },
   {
    "duration": 40,
    "start_time": "2022-05-15T22:40:45.481Z"
   },
   {
    "duration": 17,
    "start_time": "2022-05-15T22:40:45.522Z"
   },
   {
    "duration": 89,
    "start_time": "2022-05-15T22:40:45.541Z"
   },
   {
    "duration": 14,
    "start_time": "2022-05-15T22:41:18.548Z"
   },
   {
    "duration": 18,
    "start_time": "2022-05-15T22:41:27.372Z"
   },
   {
    "duration": 47,
    "start_time": "2022-05-15T22:45:28.649Z"
   },
   {
    "duration": 186,
    "start_time": "2022-05-15T22:47:44.273Z"
   },
   {
    "duration": 10,
    "start_time": "2022-05-15T22:48:07.580Z"
   },
   {
    "duration": 85,
    "start_time": "2022-05-15T22:48:11.996Z"
   },
   {
    "duration": 441,
    "start_time": "2022-05-15T22:48:14.330Z"
   },
   {
    "duration": 258,
    "start_time": "2022-05-15T22:56:17.072Z"
   },
   {
    "duration": 195,
    "start_time": "2022-05-15T22:56:21.898Z"
   },
   {
    "duration": 191,
    "start_time": "2022-05-15T22:56:26.020Z"
   },
   {
    "duration": 443,
    "start_time": "2022-05-15T22:56:58.153Z"
   },
   {
    "duration": 187,
    "start_time": "2022-05-15T22:58:16.233Z"
   },
   {
    "duration": 454,
    "start_time": "2022-05-15T22:58:51.037Z"
   },
   {
    "duration": 74,
    "start_time": "2022-05-15T23:01:20.195Z"
   },
   {
    "duration": 136,
    "start_time": "2022-05-15T23:01:23.704Z"
   },
   {
    "duration": 553,
    "start_time": "2022-05-15T23:02:26.301Z"
   },
   {
    "duration": 464,
    "start_time": "2022-05-15T23:02:38.341Z"
   },
   {
    "duration": 120,
    "start_time": "2022-05-15T23:03:15.941Z"
   },
   {
    "duration": 285,
    "start_time": "2022-05-15T23:03:59.213Z"
   },
   {
    "duration": 13,
    "start_time": "2022-05-15T23:04:05.015Z"
   },
   {
    "duration": 499,
    "start_time": "2022-05-15T23:04:13.806Z"
   },
   {
    "duration": 25,
    "start_time": "2022-05-15T23:04:47.735Z"
   },
   {
    "duration": 11,
    "start_time": "2022-05-15T23:04:47.955Z"
   },
   {
    "duration": 11,
    "start_time": "2022-05-15T23:04:51.335Z"
   },
   {
    "duration": 666,
    "start_time": "2022-05-15T23:05:03.547Z"
   },
   {
    "duration": 2,
    "start_time": "2022-05-15T23:05:04.215Z"
   },
   {
    "duration": 411,
    "start_time": "2022-05-15T23:05:04.219Z"
   },
   {
    "duration": 2,
    "start_time": "2022-05-15T23:05:04.632Z"
   },
   {
    "duration": 5,
    "start_time": "2022-05-15T23:05:04.636Z"
   },
   {
    "duration": 4,
    "start_time": "2022-05-15T23:05:04.643Z"
   },
   {
    "duration": 10,
    "start_time": "2022-05-15T23:05:04.649Z"
   },
   {
    "duration": 17,
    "start_time": "2022-05-15T23:05:04.660Z"
   },
   {
    "duration": 6,
    "start_time": "2022-05-15T23:05:04.679Z"
   },
   {
    "duration": 23,
    "start_time": "2022-05-15T23:05:04.687Z"
   },
   {
    "duration": 7,
    "start_time": "2022-05-15T23:05:04.712Z"
   },
   {
    "duration": 10,
    "start_time": "2022-05-15T23:05:04.721Z"
   },
   {
    "duration": 145,
    "start_time": "2022-05-15T23:05:04.732Z"
   },
   {
    "duration": 33,
    "start_time": "2022-05-15T23:05:04.878Z"
   },
   {
    "duration": 20,
    "start_time": "2022-05-15T23:05:04.912Z"
   },
   {
    "duration": 9,
    "start_time": "2022-05-15T23:05:04.934Z"
   },
   {
    "duration": 86,
    "start_time": "2022-05-15T23:05:04.945Z"
   },
   {
    "duration": 14,
    "start_time": "2022-05-15T23:05:05.033Z"
   },
   {
    "duration": 36,
    "start_time": "2022-05-15T23:05:05.049Z"
   },
   {
    "duration": 18,
    "start_time": "2022-05-15T23:05:05.087Z"
   },
   {
    "duration": 78,
    "start_time": "2022-05-15T23:05:05.106Z"
   },
   {
    "duration": 27,
    "start_time": "2022-05-15T23:05:05.186Z"
   },
   {
    "duration": 17,
    "start_time": "2022-05-15T23:05:05.215Z"
   },
   {
    "duration": 8,
    "start_time": "2022-05-15T23:05:05.233Z"
   },
   {
    "duration": 9,
    "start_time": "2022-05-15T23:05:05.270Z"
   },
   {
    "duration": 36,
    "start_time": "2022-05-15T23:05:05.282Z"
   },
   {
    "duration": 5,
    "start_time": "2022-05-15T23:05:05.320Z"
   },
   {
    "duration": 132,
    "start_time": "2022-05-15T23:05:05.329Z"
   },
   {
    "duration": 13,
    "start_time": "2022-05-15T23:05:05.463Z"
   },
   {
    "duration": 12,
    "start_time": "2022-05-15T23:05:05.478Z"
   },
   {
    "duration": 22,
    "start_time": "2022-05-15T23:05:05.492Z"
   },
   {
    "duration": 15,
    "start_time": "2022-05-15T23:05:05.516Z"
   },
   {
    "duration": 8,
    "start_time": "2022-05-15T23:05:05.533Z"
   },
   {
    "duration": 31,
    "start_time": "2022-05-15T23:05:05.543Z"
   },
   {
    "duration": 33,
    "start_time": "2022-05-15T23:05:05.579Z"
   },
   {
    "duration": 6,
    "start_time": "2022-05-15T23:05:05.613Z"
   },
   {
    "duration": 176,
    "start_time": "2022-05-15T23:05:05.620Z"
   },
   {
    "duration": 22,
    "start_time": "2022-05-15T23:05:05.798Z"
   },
   {
    "duration": 170,
    "start_time": "2022-05-15T23:05:05.822Z"
   },
   {
    "duration": 16,
    "start_time": "2022-05-15T23:05:05.994Z"
   },
   {
    "duration": 8,
    "start_time": "2022-05-15T23:05:06.012Z"
   },
   {
    "duration": 12,
    "start_time": "2022-05-15T23:05:06.022Z"
   },
   {
    "duration": 36,
    "start_time": "2022-05-15T23:05:06.036Z"
   },
   {
    "duration": 13,
    "start_time": "2022-05-15T23:05:06.075Z"
   },
   {
    "duration": 13,
    "start_time": "2022-05-15T23:05:06.089Z"
   },
   {
    "duration": 9,
    "start_time": "2022-05-15T23:05:06.104Z"
   },
   {
    "duration": 32,
    "start_time": "2022-05-15T23:05:06.115Z"
   },
   {
    "duration": 26,
    "start_time": "2022-05-15T23:05:06.149Z"
   },
   {
    "duration": 89,
    "start_time": "2022-05-15T23:05:06.178Z"
   },
   {
    "duration": 19,
    "start_time": "2022-05-15T23:05:06.268Z"
   },
   {
    "duration": 18,
    "start_time": "2022-05-15T23:05:06.289Z"
   },
   {
    "duration": 26,
    "start_time": "2022-05-15T23:05:06.309Z"
   },
   {
    "duration": 38,
    "start_time": "2022-05-15T23:05:06.336Z"
   },
   {
    "duration": 24,
    "start_time": "2022-05-15T23:05:06.377Z"
   },
   {
    "duration": 15,
    "start_time": "2022-05-15T23:05:06.403Z"
   },
   {
    "duration": 7,
    "start_time": "2022-05-15T23:05:06.420Z"
   },
   {
    "duration": 244,
    "start_time": "2022-05-15T23:05:06.429Z"
   },
   {
    "duration": 538,
    "start_time": "2022-05-15T23:05:06.675Z"
   },
   {
    "duration": 203,
    "start_time": "2022-05-15T23:05:07.215Z"
   },
   {
    "duration": 465,
    "start_time": "2022-05-15T23:05:07.419Z"
   },
   {
    "duration": 208,
    "start_time": "2022-05-15T23:05:07.886Z"
   },
   {
    "duration": 490,
    "start_time": "2022-05-15T23:05:08.096Z"
   },
   {
    "duration": 854,
    "start_time": "2022-05-15T23:06:31.399Z"
   },
   {
    "duration": 3,
    "start_time": "2022-05-15T23:06:32.256Z"
   },
   {
    "duration": 561,
    "start_time": "2022-05-15T23:06:32.261Z"
   },
   {
    "duration": 3,
    "start_time": "2022-05-15T23:06:32.825Z"
   },
   {
    "duration": 5,
    "start_time": "2022-05-15T23:06:32.830Z"
   },
   {
    "duration": 11,
    "start_time": "2022-05-15T23:06:32.837Z"
   },
   {
    "duration": 4,
    "start_time": "2022-05-15T23:06:32.849Z"
   },
   {
    "duration": 28,
    "start_time": "2022-05-15T23:06:32.855Z"
   },
   {
    "duration": 15,
    "start_time": "2022-05-15T23:06:32.885Z"
   },
   {
    "duration": 14,
    "start_time": "2022-05-15T23:06:32.903Z"
   },
   {
    "duration": 12,
    "start_time": "2022-05-15T23:06:32.919Z"
   },
   {
    "duration": 10,
    "start_time": "2022-05-15T23:06:32.933Z"
   },
   {
    "duration": 173,
    "start_time": "2022-05-15T23:06:32.973Z"
   },
   {
    "duration": 48,
    "start_time": "2022-05-15T23:06:33.149Z"
   },
   {
    "duration": 34,
    "start_time": "2022-05-15T23:06:33.199Z"
   },
   {
    "duration": 8,
    "start_time": "2022-05-15T23:06:33.235Z"
   },
   {
    "duration": 80,
    "start_time": "2022-05-15T23:06:33.245Z"
   },
   {
    "duration": 17,
    "start_time": "2022-05-15T23:06:33.327Z"
   },
   {
    "duration": 42,
    "start_time": "2022-05-15T23:06:33.346Z"
   },
   {
    "duration": 12,
    "start_time": "2022-05-15T23:06:33.389Z"
   },
   {
    "duration": 98,
    "start_time": "2022-05-15T23:06:33.403Z"
   },
   {
    "duration": 28,
    "start_time": "2022-05-15T23:06:33.503Z"
   },
   {
    "duration": 38,
    "start_time": "2022-05-15T23:06:33.533Z"
   },
   {
    "duration": 9,
    "start_time": "2022-05-15T23:06:33.573Z"
   },
   {
    "duration": 11,
    "start_time": "2022-05-15T23:06:33.586Z"
   },
   {
    "duration": 28,
    "start_time": "2022-05-15T23:06:33.600Z"
   },
   {
    "duration": 6,
    "start_time": "2022-05-15T23:06:33.630Z"
   },
   {
    "duration": 147,
    "start_time": "2022-05-15T23:06:33.670Z"
   },
   {
    "duration": 10,
    "start_time": "2022-05-15T23:06:33.818Z"
   },
   {
    "duration": 11,
    "start_time": "2022-05-15T23:06:33.830Z"
   },
   {
    "duration": 38,
    "start_time": "2022-05-15T23:06:33.843Z"
   },
   {
    "duration": 37,
    "start_time": "2022-05-15T23:06:33.883Z"
   },
   {
    "duration": 14,
    "start_time": "2022-05-15T23:06:33.922Z"
   },
   {
    "duration": 6,
    "start_time": "2022-05-15T23:06:33.938Z"
   },
   {
    "duration": 49,
    "start_time": "2022-05-15T23:06:33.945Z"
   },
   {
    "duration": 8,
    "start_time": "2022-05-15T23:06:33.996Z"
   },
   {
    "duration": 198,
    "start_time": "2022-05-15T23:06:34.005Z"
   },
   {
    "duration": 22,
    "start_time": "2022-05-15T23:06:34.204Z"
   },
   {
    "duration": 185,
    "start_time": "2022-05-15T23:06:34.228Z"
   },
   {
    "duration": 16,
    "start_time": "2022-05-15T23:06:34.415Z"
   },
   {
    "duration": 9,
    "start_time": "2022-05-15T23:06:34.433Z"
   },
   {
    "duration": 42,
    "start_time": "2022-05-15T23:06:34.444Z"
   },
   {
    "duration": 17,
    "start_time": "2022-05-15T23:06:34.491Z"
   },
   {
    "duration": 6,
    "start_time": "2022-05-15T23:06:34.511Z"
   },
   {
    "duration": 5,
    "start_time": "2022-05-15T23:06:34.519Z"
   },
   {
    "duration": 13,
    "start_time": "2022-05-15T23:06:34.526Z"
   },
   {
    "duration": 67,
    "start_time": "2022-05-15T23:06:34.541Z"
   },
   {
    "duration": 7,
    "start_time": "2022-05-15T23:06:34.611Z"
   },
   {
    "duration": 102,
    "start_time": "2022-05-15T23:06:34.620Z"
   },
   {
    "duration": 19,
    "start_time": "2022-05-15T23:06:34.724Z"
   },
   {
    "duration": 41,
    "start_time": "2022-05-15T23:06:34.745Z"
   },
   {
    "duration": 28,
    "start_time": "2022-05-15T23:06:34.788Z"
   },
   {
    "duration": 14,
    "start_time": "2022-05-15T23:06:34.818Z"
   },
   {
    "duration": 52,
    "start_time": "2022-05-15T23:06:34.834Z"
   },
   {
    "duration": 19,
    "start_time": "2022-05-15T23:06:34.888Z"
   },
   {
    "duration": 8,
    "start_time": "2022-05-15T23:06:34.909Z"
   },
   {
    "duration": 234,
    "start_time": "2022-05-15T23:06:34.919Z"
   },
   {
    "duration": 561,
    "start_time": "2022-05-15T23:06:35.154Z"
   },
   {
    "duration": 199,
    "start_time": "2022-05-15T23:06:35.717Z"
   },
   {
    "duration": 496,
    "start_time": "2022-05-15T23:06:35.918Z"
   },
   {
    "duration": 208,
    "start_time": "2022-05-15T23:06:36.416Z"
   },
   {
    "duration": 487,
    "start_time": "2022-05-15T23:06:36.625Z"
   },
   {
    "duration": 81,
    "start_time": "2022-05-15T23:07:32.720Z"
   },
   {
    "duration": 5,
    "start_time": "2022-05-15T23:07:54.113Z"
   },
   {
    "duration": 4,
    "start_time": "2022-05-15T23:08:03.672Z"
   },
   {
    "duration": 79,
    "start_time": "2022-05-15T23:10:11.511Z"
   },
   {
    "duration": 724,
    "start_time": "2022-05-15T23:11:04.313Z"
   },
   {
    "duration": 9,
    "start_time": "2022-05-15T23:11:08.632Z"
   },
   {
    "duration": 59,
    "start_time": "2022-05-18T21:47:14.139Z"
   },
   {
    "duration": 1416,
    "start_time": "2022-05-18T21:47:21.969Z"
   },
   {
    "duration": 706,
    "start_time": "2022-05-18T21:47:23.387Z"
   },
   {
    "duration": 3,
    "start_time": "2022-05-18T21:47:24.094Z"
   },
   {
    "duration": 5,
    "start_time": "2022-05-18T21:47:24.099Z"
   },
   {
    "duration": 8,
    "start_time": "2022-05-18T21:47:24.105Z"
   },
   {
    "duration": 7,
    "start_time": "2022-05-18T21:47:24.114Z"
   },
   {
    "duration": 15,
    "start_time": "2022-05-18T21:47:24.123Z"
   },
   {
    "duration": 12,
    "start_time": "2022-05-18T21:47:24.140Z"
   },
   {
    "duration": 7,
    "start_time": "2022-05-18T21:47:24.154Z"
   },
   {
    "duration": 15,
    "start_time": "2022-05-18T21:47:24.164Z"
   },
   {
    "duration": 5,
    "start_time": "2022-05-18T21:47:24.180Z"
   },
   {
    "duration": 38,
    "start_time": "2022-05-18T21:47:24.187Z"
   },
   {
    "duration": 25,
    "start_time": "2022-05-18T21:47:24.227Z"
   },
   {
    "duration": 131,
    "start_time": "2022-05-18T21:47:24.254Z"
   },
   {
    "duration": 25,
    "start_time": "2022-05-18T21:47:24.387Z"
   },
   {
    "duration": 18,
    "start_time": "2022-05-18T21:47:24.423Z"
   },
   {
    "duration": 8,
    "start_time": "2022-05-18T21:47:24.443Z"
   },
   {
    "duration": 20,
    "start_time": "2022-05-18T21:47:24.452Z"
   },
   {
    "duration": 64,
    "start_time": "2022-05-18T21:47:24.474Z"
   },
   {
    "duration": 13,
    "start_time": "2022-05-18T21:47:24.539Z"
   },
   {
    "duration": 13,
    "start_time": "2022-05-18T21:47:24.554Z"
   },
   {
    "duration": 7,
    "start_time": "2022-05-18T21:47:24.569Z"
   },
   {
    "duration": 22,
    "start_time": "2022-05-18T21:47:24.577Z"
   },
   {
    "duration": 41,
    "start_time": "2022-05-18T21:47:24.623Z"
   },
   {
    "duration": 20,
    "start_time": "2022-05-18T21:47:24.666Z"
   },
   {
    "duration": 35,
    "start_time": "2022-05-18T21:47:24.688Z"
   },
   {
    "duration": 8,
    "start_time": "2022-05-18T21:47:24.724Z"
   },
   {
    "duration": 9,
    "start_time": "2022-05-18T21:47:24.735Z"
   },
   {
    "duration": 5,
    "start_time": "2022-05-18T21:47:24.746Z"
   },
   {
    "duration": 27,
    "start_time": "2022-05-18T21:47:24.752Z"
   },
   {
    "duration": 9,
    "start_time": "2022-05-18T21:47:24.781Z"
   },
   {
    "duration": 137,
    "start_time": "2022-05-18T21:47:24.791Z"
   },
   {
    "duration": 9,
    "start_time": "2022-05-18T21:47:24.929Z"
   },
   {
    "duration": 11,
    "start_time": "2022-05-18T21:47:24.939Z"
   },
   {
    "duration": 9,
    "start_time": "2022-05-18T21:47:24.952Z"
   },
   {
    "duration": 13,
    "start_time": "2022-05-18T21:47:24.962Z"
   },
   {
    "duration": 5,
    "start_time": "2022-05-18T21:47:24.976Z"
   },
   {
    "duration": 50,
    "start_time": "2022-05-18T21:47:24.983Z"
   },
   {
    "duration": 6,
    "start_time": "2022-05-18T21:47:25.035Z"
   },
   {
    "duration": 475,
    "start_time": "2022-05-18T21:47:25.042Z"
   },
   {
    "duration": 22,
    "start_time": "2022-05-18T21:47:25.522Z"
   },
   {
    "duration": 302,
    "start_time": "2022-05-18T21:47:25.546Z"
   },
   {
    "duration": 21,
    "start_time": "2022-05-18T21:47:25.850Z"
   },
   {
    "duration": 8,
    "start_time": "2022-05-18T21:47:25.873Z"
   },
   {
    "duration": 8,
    "start_time": "2022-05-18T21:47:25.882Z"
   },
   {
    "duration": 7,
    "start_time": "2022-05-18T21:47:25.892Z"
   },
   {
    "duration": 26,
    "start_time": "2022-05-18T21:47:25.901Z"
   },
   {
    "duration": 5,
    "start_time": "2022-05-18T21:47:25.929Z"
   },
   {
    "duration": 10,
    "start_time": "2022-05-18T21:47:25.935Z"
   },
   {
    "duration": 319,
    "start_time": "2022-05-18T21:47:25.947Z"
   },
   {
    "duration": 36,
    "start_time": "2022-05-18T21:47:26.268Z"
   },
   {
    "duration": 19,
    "start_time": "2022-05-18T21:47:26.305Z"
   },
   {
    "duration": 5,
    "start_time": "2022-05-18T21:47:26.326Z"
   },
   {
    "duration": 7,
    "start_time": "2022-05-18T21:47:26.333Z"
   },
   {
    "duration": 6,
    "start_time": "2022-05-18T21:47:26.341Z"
   },
   {
    "duration": 220,
    "start_time": "2022-05-18T21:47:26.349Z"
   },
   {
    "duration": 24,
    "start_time": "2022-05-18T21:47:26.571Z"
   },
   {
    "duration": 30,
    "start_time": "2022-05-18T21:47:26.597Z"
   },
   {
    "duration": 12,
    "start_time": "2022-05-18T21:47:26.629Z"
   },
   {
    "duration": 23,
    "start_time": "2022-05-18T21:47:26.643Z"
   },
   {
    "duration": 9,
    "start_time": "2022-05-18T21:47:26.667Z"
   },
   {
    "duration": 20,
    "start_time": "2022-05-18T21:47:26.677Z"
   },
   {
    "duration": 11,
    "start_time": "2022-05-18T21:47:26.722Z"
   },
   {
    "duration": 7,
    "start_time": "2022-05-18T21:47:26.734Z"
   },
   {
    "duration": 221,
    "start_time": "2022-05-18T21:47:26.742Z"
   },
   {
    "duration": 508,
    "start_time": "2022-05-18T21:47:26.965Z"
   },
   {
    "duration": 216,
    "start_time": "2022-05-18T21:47:27.475Z"
   },
   {
    "duration": 474,
    "start_time": "2022-05-18T21:47:27.692Z"
   },
   {
    "duration": 206,
    "start_time": "2022-05-18T21:47:28.167Z"
   },
   {
    "duration": 575,
    "start_time": "2022-05-18T21:47:28.375Z"
   },
   {
    "duration": 236,
    "start_time": "2022-05-18T21:47:28.953Z"
   },
   {
    "duration": 514,
    "start_time": "2022-05-18T21:47:29.191Z"
   },
   {
    "duration": 197,
    "start_time": "2022-05-18T21:47:29.707Z"
   },
   {
    "duration": 4,
    "start_time": "2022-05-18T21:47:29.905Z"
   },
   {
    "duration": 59,
    "start_time": "2022-05-18T21:47:29.910Z"
   },
   {
    "duration": 19,
    "start_time": "2022-05-18T21:47:29.971Z"
   },
   {
    "duration": 449,
    "start_time": "2022-05-18T21:47:29.992Z"
   },
   {
    "duration": 8,
    "start_time": "2022-05-18T22:01:27.820Z"
   },
   {
    "duration": 438,
    "start_time": "2022-05-18T22:12:21.605Z"
   },
   {
    "duration": 66,
    "start_time": "2022-05-22T15:33:58.480Z"
   },
   {
    "duration": 1451,
    "start_time": "2022-05-22T15:34:04.476Z"
   },
   {
    "duration": 1787,
    "start_time": "2022-05-22T15:34:05.929Z"
   },
   {
    "duration": 4,
    "start_time": "2022-05-22T15:34:07.718Z"
   },
   {
    "duration": 10,
    "start_time": "2022-05-22T15:34:07.724Z"
   },
   {
    "duration": 13,
    "start_time": "2022-05-22T15:34:07.738Z"
   },
   {
    "duration": 10,
    "start_time": "2022-05-22T15:34:07.753Z"
   },
   {
    "duration": 26,
    "start_time": "2022-05-22T15:34:07.765Z"
   },
   {
    "duration": 19,
    "start_time": "2022-05-22T15:34:07.794Z"
   },
   {
    "duration": 11,
    "start_time": "2022-05-22T15:34:07.816Z"
   },
   {
    "duration": 17,
    "start_time": "2022-05-22T15:34:07.829Z"
   },
   {
    "duration": 7,
    "start_time": "2022-05-22T15:34:07.848Z"
   },
   {
    "duration": 41,
    "start_time": "2022-05-22T15:34:07.857Z"
   },
   {
    "duration": 57,
    "start_time": "2022-05-22T15:34:07.900Z"
   },
   {
    "duration": 115,
    "start_time": "2022-05-22T15:34:07.959Z"
   },
   {
    "duration": 44,
    "start_time": "2022-05-22T15:34:08.076Z"
   },
   {
    "duration": 34,
    "start_time": "2022-05-22T15:34:08.121Z"
   },
   {
    "duration": 10,
    "start_time": "2022-05-22T15:34:08.157Z"
   },
   {
    "duration": 49,
    "start_time": "2022-05-22T15:34:08.169Z"
   },
   {
    "duration": 62,
    "start_time": "2022-05-22T15:34:08.219Z"
   },
   {
    "duration": 27,
    "start_time": "2022-05-22T15:34:08.283Z"
   },
   {
    "duration": 15,
    "start_time": "2022-05-22T15:34:08.319Z"
   },
   {
    "duration": 10,
    "start_time": "2022-05-22T15:34:08.336Z"
   },
   {
    "duration": 29,
    "start_time": "2022-05-22T15:34:08.348Z"
   },
   {
    "duration": 67,
    "start_time": "2022-05-22T15:34:08.379Z"
   },
   {
    "duration": 29,
    "start_time": "2022-05-22T15:34:08.448Z"
   },
   {
    "duration": 46,
    "start_time": "2022-05-22T15:34:08.479Z"
   },
   {
    "duration": 14,
    "start_time": "2022-05-22T15:34:08.527Z"
   },
   {
    "duration": 12,
    "start_time": "2022-05-22T15:34:08.543Z"
   },
   {
    "duration": 10,
    "start_time": "2022-05-22T15:34:08.558Z"
   },
   {
    "duration": 53,
    "start_time": "2022-05-22T15:34:08.570Z"
   },
   {
    "duration": 13,
    "start_time": "2022-05-22T15:34:08.625Z"
   },
   {
    "duration": 165,
    "start_time": "2022-05-22T15:34:08.640Z"
   },
   {
    "duration": 11,
    "start_time": "2022-05-22T15:34:08.807Z"
   },
   {
    "duration": 23,
    "start_time": "2022-05-22T15:34:08.822Z"
   },
   {
    "duration": 21,
    "start_time": "2022-05-22T15:34:08.847Z"
   },
   {
    "duration": 23,
    "start_time": "2022-05-22T15:34:08.870Z"
   },
   {
    "duration": 28,
    "start_time": "2022-05-22T15:34:08.895Z"
   },
   {
    "duration": 26,
    "start_time": "2022-05-22T15:34:08.925Z"
   },
   {
    "duration": 6,
    "start_time": "2022-05-22T15:34:08.953Z"
   },
   {
    "duration": 577,
    "start_time": "2022-05-22T15:34:08.961Z"
   },
   {
    "duration": 32,
    "start_time": "2022-05-22T15:34:09.552Z"
   },
   {
    "duration": 389,
    "start_time": "2022-05-22T15:34:09.586Z"
   },
   {
    "duration": 38,
    "start_time": "2022-05-22T15:34:09.977Z"
   },
   {
    "duration": 8,
    "start_time": "2022-05-22T15:34:10.022Z"
   },
   {
    "duration": 11,
    "start_time": "2022-05-22T15:34:10.032Z"
   },
   {
    "duration": 10,
    "start_time": "2022-05-22T15:34:10.045Z"
   },
   {
    "duration": 6,
    "start_time": "2022-05-22T15:34:10.058Z"
   },
   {
    "duration": 5,
    "start_time": "2022-05-22T15:34:10.066Z"
   },
   {
    "duration": 11,
    "start_time": "2022-05-22T15:34:10.094Z"
   },
   {
    "duration": 347,
    "start_time": "2022-05-22T15:34:10.107Z"
   },
   {
    "duration": 54,
    "start_time": "2022-05-22T15:34:10.456Z"
   },
   {
    "duration": 13,
    "start_time": "2022-05-22T15:34:10.512Z"
   },
   {
    "duration": 10,
    "start_time": "2022-05-22T15:34:10.527Z"
   },
   {
    "duration": 14,
    "start_time": "2022-05-22T15:34:10.539Z"
   },
   {
    "duration": 19,
    "start_time": "2022-05-22T15:34:10.555Z"
   },
   {
    "duration": 283,
    "start_time": "2022-05-22T15:34:10.576Z"
   },
   {
    "duration": 55,
    "start_time": "2022-05-22T15:34:10.862Z"
   },
   {
    "duration": 24,
    "start_time": "2022-05-22T15:34:10.920Z"
   },
   {
    "duration": 22,
    "start_time": "2022-05-22T15:34:10.946Z"
   },
   {
    "duration": 40,
    "start_time": "2022-05-22T15:34:10.971Z"
   },
   {
    "duration": 11,
    "start_time": "2022-05-22T15:34:11.012Z"
   },
   {
    "duration": 19,
    "start_time": "2022-05-22T15:34:11.025Z"
   },
   {
    "duration": 13,
    "start_time": "2022-05-22T15:34:11.045Z"
   },
   {
    "duration": 41,
    "start_time": "2022-05-22T15:34:11.059Z"
   },
   {
    "duration": 242,
    "start_time": "2022-05-22T15:34:11.104Z"
   },
   {
    "duration": 573,
    "start_time": "2022-05-22T15:34:11.347Z"
   },
   {
    "duration": 513,
    "start_time": "2022-05-22T15:34:11.922Z"
   },
   {
    "duration": 1105,
    "start_time": "2022-05-22T15:34:12.436Z"
   },
   {
    "duration": 708,
    "start_time": "2022-05-22T15:34:13.543Z"
   },
   {
    "duration": 1048,
    "start_time": "2022-05-22T15:34:14.254Z"
   },
   {
    "duration": 264,
    "start_time": "2022-05-22T15:34:15.305Z"
   },
   {
    "duration": 712,
    "start_time": "2022-05-22T15:34:15.571Z"
   },
   {
    "duration": 249,
    "start_time": "2022-05-22T15:34:16.285Z"
   },
   {
    "duration": 4,
    "start_time": "2022-05-22T15:34:16.536Z"
   },
   {
    "duration": 101,
    "start_time": "2022-05-22T15:34:16.541Z"
   },
   {
    "duration": 25,
    "start_time": "2022-05-22T15:34:16.644Z"
   },
   {
    "duration": 717,
    "start_time": "2022-05-22T15:34:16.671Z"
   },
   {
    "duration": 21,
    "start_time": "2022-05-22T15:34:17.391Z"
   },
   {
    "duration": 67,
    "start_time": "2022-05-22T15:34:17.414Z"
   },
   {
    "duration": 14,
    "start_time": "2022-05-22T15:34:24.117Z"
   }
  ],
  "kernelspec": {
   "display_name": "Python 3 (ipykernel)",
   "language": "python",
   "name": "python3"
  },
  "language_info": {
   "codemirror_mode": {
    "name": "ipython",
    "version": 3
   },
   "file_extension": ".py",
   "mimetype": "text/x-python",
   "name": "python",
   "nbconvert_exporter": "python",
   "pygments_lexer": "ipython3",
   "version": "3.9.7"
  },
  "toc": {
   "base_numbering": 1,
   "nav_menu": {},
   "number_sections": true,
   "sideBar": true,
   "skip_h1_title": true,
   "title_cell": "Table of Contents",
   "title_sidebar": "Contents",
   "toc_cell": false,
   "toc_position": {
    "height": "calc(100% - 180px)",
    "left": "10px",
    "top": "150px",
    "width": "427.891px"
   },
   "toc_section_display": true,
   "toc_window_display": true
  }
 },
 "nbformat": 4,
 "nbformat_minor": 2
}
